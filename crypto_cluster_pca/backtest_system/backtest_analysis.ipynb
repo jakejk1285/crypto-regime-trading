{
 "cells": [
  {
   "cell_type": "markdown",
   "metadata": {},
   "source": "# Cryptocurrency Trading Strategy Analysis\n## Performance-Optimized Regime-Based Portfolio Management\n\nThis notebook provides a comprehensive analysis of the cryptocurrency trading strategy results. All performance metrics are loaded from the actual backtest engine to ensure data accuracy.\n\n**Key Features:**\n- Live data loading from backtest engine\n- Real-time performance calculations\n- Interactive visualizations\n- Comprehensive regime analysis\n\n**Analysis Period:** 2024-2025 (1 Year)\n- **Initial Capital:** $100,000\n- **Risk-Free Rate:** 3.95% (10Y Treasury as of Jan 2, 2024)\n- **Methodology:** Industry standard calculations (252 trading days)"
  },
  {
   "cell_type": "code",
   "metadata": {
    "ExecuteTime": {
     "end_time": "2025-08-28T21:49:00.863939Z",
     "start_time": "2025-08-28T21:49:00.851445Z"
    }
   },
   "source": "# Environment Setup and Library Imports\nimport warnings\nwarnings.filterwarnings('ignore')\n\n# Core Data Science Libraries\nimport pandas as pd\nimport numpy as np\nimport matplotlib.pyplot as plt\nimport seaborn as sns\nfrom datetime import datetime, timedelta\nimport pickle\nimport glob\nfrom pathlib import Path\nimport json\n\n# Interactive Visualization Libraries\nimport plotly.graph_objects as go\nimport plotly.express as px\nfrom plotly.subplots import make_subplots\nimport plotly.figure_factory as ff\n\n# Interactive Widgets\nfrom ipywidgets import interact, interactive, fixed, interact_manual\nimport ipywidgets as widgets\nfrom IPython.display import display, HTML, clear_output\n\n# Configuration\nplt.style.use('default')\nsns.set_palette(\"husl\")\nplt.rcParams['figure.figsize'] = (12, 8)\nplt.rcParams['font.size'] = 10\n\nimport plotly.io as pio\npio.templates.default = \"plotly_white\"\n\nprint(\"✅ Environment setup complete - ready for analysis!\")",
   "outputs": [
    {
     "name": "stdout",
     "output_type": "stream",
     "text": [
      "✅ Environment setup complete - ready for analysis!\n"
     ]
    }
   ],
   "execution_count": 35
  },
  {
   "cell_type": "code",
   "metadata": {
    "ExecuteTime": {
     "end_time": "2025-08-28T21:49:01.068188Z",
     "start_time": "2025-08-28T21:49:00.872325Z"
    }
   },
   "source": "# Backtest Results Loader\nprint(\"📊 LOADING BACKTEST RESULTS\")\nprint(\"=\"*50)\n\ndef load_backtest_results():\n    \"\"\"Load backtest results from the engine\"\"\"\n    try:\n        print(\"🚀 Running backtest engine to generate results...\")\n        \n        # Import and run the backtest engine\n        from backtest_engine import RegimeBasedBacktester\n        \n        # Initialize backtester with exact same settings as standalone script\n        backtester = RegimeBasedBacktester(\n            start_date='2024-01-01',\n            end_date='2025-01-01',\n            initial_capital=100000,\n            risk_free_rate=0.0395\n        )\n        \n        # Disable EV filter to match standalone script\n        backtester.trading_strategy.use_ev_filter = False\n        \n        # Run the backtest\n        print(\"📊 Preparing data and running backtest...\")\n        backtester.prepare_data(force_refresh=False)\n        results = backtester.run_backtest(rebalance_frequency='D')\n        \n        # Extract trade data\n        trades_data = []\n        if backtester.trading_strategy.trades:\n            for trade in backtester.trading_strategy.trades:\n                trades_data.append({\n                    'symbol': trade.symbol,\n                    'entry_price': trade.entry_price,\n                    'exit_price': trade.exit_price,\n                    'quantity': trade.quantity,\n                    'entry_timestamp': trade.entry_timestamp,\n                    'exit_timestamp': trade.exit_timestamp,\n                    'regime_id': trade.regime_id,\n                    'pnl': trade.pnl,\n                    'pnl_pct': trade.pnl_pct,\n                    'exit_reason': trade.exit_reason\n                })\n        trades_df = pd.DataFrame(trades_data)\n        \n        # Display results\n        total_return = results.get('total_return', 0)\n        sharpe_ratio = results.get('sharpe_ratio', 0)\n        final_value = results.get('final_value', 0)\n        \n        print(f\"\\n=== BACKTEST RESULTS ===\")\n        print(f\"✅ Total Return: {total_return:.2f}%\")\n        print(f\"🎯 Sharpe Ratio: {sharpe_ratio:.3f}\")\n        print(f\"💰 Final Value: ${final_value:,.0f}\")\n        print(f\"💼 Total Trades: {len(trades_df)}\")\n        print(f\"📊 All analysis cells will use this live data\")\n        \n        return results, trades_df, backtester.regime_data, backtester.crypto_data, True\n        \n    except Exception as e:\n        print(f\"❌ Error loading results: {e}\")\n        import traceback\n        traceback.print_exc()\n        return None, None, None, None, False\n\n# Load the data\nbacktest_results, trades_df, regime_data, crypto_data, success = load_backtest_results()\n\nif success:\n    print(\"\\n✅ All data loaded successfully - ready for analysis!\")\nelse:\n    print(\"❌ Failed to load backtest data\")",
   "outputs": [
    {
     "name": "stdout",
     "output_type": "stream",
     "text": [
      "📊 LOADING BACKTEST RESULTS\n",
      "==================================================\n",
      "🚀 Running backtest engine to generate results...\n",
      "📊 Preparing data and running backtest...\n",
      "🔧 PREPARING BACKTEST DATA\n",
      "==================================================\n",
      "1. Collecting cryptocurrency price data...\n",
      "📁 Loading cached crypto data...\n",
      "2. Creating regime features...\n",
      "🔧 Creating regime-optimized features...\n",
      "📊 Processing 4 cryptocurrencies for regime features\n",
      "   📈 Processing bitcoin (366 data points)\n",
      "   📈 Processing ethereum (366 data points)\n",
      "   📈 Processing cardano (366 data points)\n",
      "   📈 Processing solana (366 data points)\n",
      "✅ Created 47 features, 335 observations\n",
      "3. Generating historical regime assignments...\n",
      "📁 Loading cached regime data...\n",
      "✅ Data preparation complete!\n",
      "\n",
      "🚀 STARTING REGIME-BASED BACKTEST\n",
      "============================================================\n",
      "📅 Period: 2024-01-01 to 2025-01-01\n",
      "💰 Initial Capital: $100,000.00\n",
      "🔄 Rebalance Frequency: D\n",
      "============================================================\n",
      "📊 Total trading timestamps: 335 (D frequency)\n",
      "📊 Original data points: 335\n",
      "⏳ Progress: 0.3% (1/335)\n",
      "🔄 Regime Change: None → 4 (CONSERVATIVE)\n",
      "✅ Opened BTCUSD: 0.0603 @ $65791.00 (SL: $61578.48, TP: $75901.06)\n",
      "✅ Opened ETHUSD: 1.4093 @ $2698.19 (SL: $2525.43, TP: $3112.82)\n",
      "✅ Opened ADAUSD: 9094.0255 @ $0.40 (SL: $0.38, TP: $0.46)\n",
      "✅ Opened SOLUSD: 16.4057 @ $157.80 (SL: $147.69, TP: $182.05)\n",
      "❌ Closed ADAUSD: 9094.0255 @ $0.37 P&L: $-269.50 (-7.37%) - stop_loss\n",
      "✅ Opened ADAUSD: 8563.4898 @ $0.37 (SL: $0.35, TP: $0.42)\n",
      "❌ Closed BTCUSD: 0.0603 @ $60872.67 P&L: $-296.53 (-7.48%) - stop_loss\n",
      "❌ Closed ETHUSD: 1.4093 @ $2451.63 P&L: $-347.47 (-9.14%) - stop_loss\n",
      "❌ Closed SOLUSD: 16.4057 @ $145.21 P&L: $-206.53 (-7.98%) - stop_loss\n",
      "❌ Closed ADAUSD: 8563.4898 @ $0.35 P&L: $-173.33 (-5.43%) - stop_loss\n",
      "✅ Opened BTCUSD: 0.0445 @ $60872.67 (SL: $57772.84, TP: $68312.26)\n",
      "✅ Opened ETHUSD: 1.0738 @ $2451.63 (SL: $2326.79, TP: $2751.26)\n",
      "✅ Opened ADAUSD: 7273.6399 @ $0.35 (SL: $0.33, TP: $0.40)\n",
      "✅ Opened SOLUSD: 12.6503 @ $145.21 (SL: $137.81, TP: $162.96)\n",
      "❌ Closed SOLUSD: 12.6503 @ $136.65 P&L: $-108.22 (-5.89%) - stop_loss\n",
      "✅ Opened SOLUSD: 16.5773 @ $136.65 (SL: $129.75, TP: $153.23)\n",
      "🔥 Trailing stop activated for SOLUSD at $149.48\n",
      "💰 Closed SOLUSD: 16.5773 @ $157.35 P&L: $343.02 (+15.14%) - take_profit\n",
      "🔥 Trailing stop activated for BTCUSD at $63614.11\n",
      "✅ Opened SOLUSD: 13.3970 @ $150.27 (SL: $140.01, TP: $174.90)\n",
      "💰 Closed BTCUSD: 0.0445 @ $68465.62 P&L: $338.04 (+12.47%) - take_profit\n",
      "🔥 Trailing stop activated for ETHUSD at $2605.81\n",
      "🔥 Trailing stop activated for SOLUSD at $158.24\n",
      "✅ Opened BTCUSD: 0.0313 @ $67394.86 (SL: $63504.09, TP: $76732.69)\n",
      "💰 Closed ETHUSD: 1.0738 @ $2524.10 P&L: $77.82 (+2.96%) - trailing_stop\n",
      "✅ Opened ETHUSD: 0.8883 @ $2524.10 (SL: $2374.60, TP: $2882.91)\n",
      "💰 Closed SOLUSD: 13.3970 @ $177.37 P&L: $363.06 (+18.03%) - take_profit\n",
      "✅ Opened SOLUSD: 14.0245 @ $177.37 (SL: $165.65, TP: $205.51)\n",
      "❌ Closed ADAUSD: 7273.6399 @ $0.32 P&L: $-206.88 (-8.07%) - stop_loss\n",
      "❌ Closed SOLUSD: 14.0245 @ $164.34 P&L: $-182.72 (-7.35%) - stop_loss\n",
      "✅ Opened ADAUSD: 6848.3936 @ $0.32 (SL: $0.31, TP: $0.36)\n",
      "✅ Opened SOLUSD: 9.7152 @ $164.34 (SL: $155.70, TP: $185.08)\n",
      "🔥 Trailing stop activated for ADAUSD at $0.34\n",
      "💰 Closed ADAUSD: 6848.3936 @ $0.33 P&L: $72.24 (+3.26%) - trailing_stop\n",
      "✅ Opened ADAUSD: 8782.7066 @ $0.33 (SL: $0.32, TP: $0.37)\n",
      "🔥 Trailing stop activated for BTCUSD at $71839.84\n",
      "🔥 Trailing stop activated for SOLUSD at $177.81\n",
      "💰 Closed SOLUSD: 9.7152 @ $187.17 P&L: $221.74 (+13.89%) - take_profit\n",
      "🔥 Trailing stop activated for ETHUSD at $2750.22\n",
      "🔥 Trailing stop activated for ADAUSD at $0.38\n",
      "💰 Closed ETHUSD: 0.8883 @ $2894.97 P&L: $329.46 (+14.69%) - take_profit\n",
      "💰 Closed ADAUSD: 8782.7066 @ $0.40 P&L: $608.27 (+20.70%) - take_profit\n",
      "🔄 Regime Change: 4 → 0 (STABLE_GROWTH)\n",
      "✅ Opened ETHUSD: 12.4486 @ $2960.96 (SL: $2771.79, TP: $3414.98)\n",
      "✅ Opened ADAUSD: 31370.0390 @ $0.44 (SL: $0.42, TP: $0.51)\n",
      "🔥 Trailing stop activated for ADAUSD at $0.56\n",
      "💰 Closed BTCUSD: 0.0313 @ $80466.72 P&L: $409.72 (+19.40%) - take_profit\n",
      "💰 Closed ADAUSD: 31370.0390 @ $0.59 P&L: $4543.62 (+32.63%) - take_profit\n",
      "✅ Opened ADAUSD: 23168.9996 @ $0.59 (SL: $0.55, TP: $0.68)\n",
      "🔥 Trailing stop activated for ETHUSD at $3204.15\n",
      "💰 Closed ETHUSD: 12.4486 @ $3191.90 P&L: $2874.89 (+7.80%) - trailing_stop\n",
      "✅ Opened BTCUSD: 0.3264 @ $90488.10 (SL: $84503.84, TP: $104850.32)\n",
      "🔥 Trailing stop activated for ADAUSD at $0.66\n",
      "💰 Closed ADAUSD: 23168.9996 @ $0.70 P&L: $2508.86 (+18.39%) - take_profit\n",
      "✅ Opened ADAUSD: 27418.5522 @ $0.70 (SL: $0.65, TP: $0.81)\n",
      "🔥 Trailing stop activated for ADAUSD at $0.76\n",
      "💰 Closed ADAUSD: 27418.5522 @ $0.82 P&L: $3321.64 (+17.38%) - take_profit\n",
      "✅ Opened ADAUSD: 33013.4309 @ $0.82 (SL: $0.78, TP: $0.92)\n",
      "🔥 Trailing stop activated for ADAUSD at $0.95\n",
      "💰 Closed ADAUSD: 33013.4309 @ $1.00 P&L: $6148.77 (+22.76%) - take_profit\n",
      "✅ Opened ADAUSD: 28877.3835 @ $1.00 (SL: $0.96, TP: $1.12)\n",
      "❌ Closed ADAUSD: 28877.3835 @ $0.95 P&L: $-1678.17 (-5.79%) - stop_loss\n",
      "✅ Opened ADAUSD: 27412.6530 @ $0.95 (SL: $0.90, TP: $1.06)\n",
      "🔥 Trailing stop activated for ADAUSD at $1.03\n",
      "💰 Closed ADAUSD: 27412.6530 @ $1.08 P&L: $3653.49 (+14.08%) - take_profit\n",
      "✅ Opened ADAUSD: 27477.8455 @ $1.08 (SL: $1.02, TP: $1.21)\n",
      "🔥 Trailing stop activated for ADAUSD at $1.14\n",
      "🔥 Trailing stop activated for BTCUSD at $94975.16\n",
      "💰 Closed ADAUSD: 27477.8455 @ $1.23 P&L: $4215.69 (+14.21%) - take_profit\n",
      "✅ Opened ADAUSD: 19976.2016 @ $1.23 (SL: $1.15, TP: $1.42)\n",
      "🔄 Regime Change: 0 → 1 (MOMENTUM)\n",
      "✅ Opened SOLUSD: 24.5054 @ $238.89 (SL: $217.73, TP: $281.22)\n",
      "❌ Closed ADAUSD: 19976.2016 @ $1.01 P&L: $-4500.50 (-18.27%) - stop_loss\n",
      "❌ Closed SOLUSD: 24.5054 @ $217.62 P&L: $-521.38 (-8.91%) - stop_loss\n",
      "✅ Opened SOLUSD: 23.4194 @ $217.62 (SL: $198.24, TP: $256.38)\n",
      "✅ Opened ETHUSD: 0.7609 @ $3713.31 (SL: $3382.63, TP: $4374.68)\n",
      "✅ Opened ADAUSD: 3680.5095 @ $1.01 (SL: $0.92, TP: $1.19)\n",
      "🔥 Trailing stop activated for ADAUSD at $1.07\n",
      "💰 Closed ADAUSD: 3680.5095 @ $1.06 P&L: $192.84 (+5.20%) - trailing_stop\n",
      "✅ Opened ADAUSD: 4066.6837 @ $1.06 (SL: $0.97, TP: $1.25)\n",
      "💰 Closed BTCUSD: 0.3264 @ $106074.11 P&L: $5087.63 (+17.22%) - take_profit\n",
      "✅ Opened BTCUSD: 0.0527 @ $106074.11 (SL: $97233.26, TP: $123755.80)\n",
      "🔄 Regime Change: 1 → 2 (BALANCED)\n",
      "❌ Closed SOLUSD: 23.4194 @ $194.90 P&L: $-531.98 (-10.44%) - stop_loss\n",
      "❌ Closed ADAUSD: 4066.6837 @ $0.89 P&L: $-709.53 (-16.46%) - stop_loss\n",
      "✅ Opened ADAUSD: 19438.8838 @ $0.89 (SL: $0.81, TP: $1.05)\n",
      "✅ Opened SOLUSD: 55.5215 @ $194.90 (SL: $177.33, TP: $230.05)\n",
      "❌ Closed ETHUSD: 0.7609 @ $3337.60 P&L: $-285.89 (-10.12%) - stop_loss\n",
      "❌ Closed BTCUSD: 0.0527 @ $97202.82 P&L: $-467.95 (-8.36%) - stop_loss\n",
      "✅ Opened BTCUSD: 0.1163 @ $97202.82 (SL: $88938.50, TP: $113731.48)\n",
      "✅ Opened ETHUSD: 2.9916 @ $3337.60 (SL: $3053.83, TP: $3905.13)\n",
      "🔄 Regime Change: 2 → 1 (MOMENTUM)\n",
      "🔥 Trailing stop activated for ADAUSD at $1.04\n",
      "🔥 Trailing stop activated for SOLUSD at $206.76\n",
      "💰 Closed ADAUSD: 19438.8838 @ $1.09 P&L: $3982.19 (+23.13%) - take_profit\n",
      "✅ Opened ADAUSD: 6464.5799 @ $1.09 (SL: $1.03, TP: $1.21)\n",
      "🔥 Trailing stop activated for ETHUSD at $3502.79\n",
      "🔄 Regime Change: 1 → 2 (BALANCED)\n",
      "💰 Closed SOLUSD: 55.5215 @ $202.49 P&L: $421.44 (+3.89%) - trailing_stop\n",
      "💰 Closed ETHUSD: 2.9916 @ $3380.02 P&L: $126.92 (+1.27%) - trailing_stop\n",
      "❌ Closed ADAUSD: 6464.5799 @ $0.99 P&L: $-628.05 (-8.91%) - stop_loss\n",
      "✅ Opened ETHUSD: 5.2104 @ $3380.02 (SL: $3159.63, TP: $3820.80)\n",
      "✅ Opened ADAUSD: 15122.7099 @ $0.99 (SL: $0.93, TP: $1.12)\n",
      "✅ Opened SOLUSD: 46.4382 @ $202.49 (SL: $189.29, TP: $228.90)\n",
      "❌ Closed ADAUSD: 15122.7099 @ $0.91 P&L: $-1319.86 (-8.79%) - stop_loss\n",
      "❌ Closed SOLUSD: 46.4382 @ $185.01 P&L: $-811.81 (-8.63%) - stop_loss\n",
      "✅ Opened ADAUSD: 16675.4573 @ $0.91 (SL: $0.84, TP: $1.04)\n",
      "✅ Opened SOLUSD: 50.8691 @ $185.01 (SL: $170.90, TP: $213.23)\n",
      "❌ Closed ETHUSD: 5.2104 @ $3134.55 P&L: $-1278.99 (-7.26%) - stop_loss\n",
      "✅ Opened ETHUSD: 3.4795 @ $3134.55 (SL: $2910.99, TP: $3581.67)\n",
      "🔄 Regime Change: 2 → 1 (MOMENTUM)\n",
      "🔥 Trailing stop activated for ADAUSD at $1.03\n",
      "🔥 Trailing stop activated for SOLUSD at $195.47\n",
      "💰 Closed ADAUSD: 16675.4573 @ $1.08 P&L: $2975.28 (+19.69%) - take_profit\n",
      "✅ Opened ADAUSD: 7279.4501 @ $1.08 (SL: $1.03, TP: $1.19)\n",
      "🔥 Trailing stop activated for ETHUSD at $3303.42\n",
      "💰 Closed SOLUSD: 50.8691 @ $219.78 P&L: $1768.61 (+18.79%) - take_profit\n",
      "✅ Opened SOLUSD: 51.2529 @ $219.78 (SL: $208.40, TP: $242.55)\n",
      "🔥 Trailing stop activated for SOLUSD at $249.43\n",
      "💰 Closed SOLUSD: 51.2529 @ $262.56 P&L: $2192.73 (+19.47%) - take_profit\n",
      "✅ Opened SOLUSD: 35.0069 @ $262.56 (SL: $247.14, TP: $293.41)\n",
      "💰 Closed ETHUSD: 3.4795 @ $3208.14 P&L: $256.04 (+2.35%) - trailing_stop\n",
      "❌ Closed ADAUSD: 7279.4501 @ $0.99 P&L: $-674.79 (-8.55%) - stop_loss\n",
      "✅ Opened ETHUSD: 1.7234 @ $3208.14 (SL: $3046.13, TP: $3532.16)\n",
      "✅ Opened ADAUSD: 7187.1801 @ $0.99 (SL: $0.94, TP: $1.09)\n",
      "❌ Closed SOLUSD: 35.0069 @ $242.47 P&L: $-703.29 (-7.65%) - stop_loss\n",
      "✅ Opened SOLUSD: 30.1625 @ $242.47 (SL: $230.93, TP: $265.56)\n",
      "❌ Closed ADAUSD: 7187.1801 @ $0.93 P&L: $-421.30 (-5.91%) - stop_loss\n",
      "✅ Opened ADAUSD: 5852.7118 @ $0.93 (SL: $0.87, TP: $1.07)\n",
      "❌ Closed SOLUSD: 30.1625 @ $226.89 P&L: $-469.99 (-6.43%) - stop_loss\n",
      "✅ Opened SOLUSD: 23.9448 @ $226.89 (SL: $209.44, TP: $261.78)\n",
      "🔄 Regime Change: 1 → 2 (BALANCED)\n",
      "❌ Closed ETHUSD: 1.7234 @ $2862.70 P&L: $-595.31 (-10.77%) - stop_loss\n",
      "❌ Closed ADAUSD: 5852.7118 @ $0.80 P&L: $-790.46 (-14.47%) - stop_loss\n",
      "❌ Closed SOLUSD: 23.9448 @ $202.32 P&L: $-588.19 (-10.83%) - stop_loss\n",
      "✅ Opened ETHUSD: 5.9093 @ $2862.70 (SL: $2613.93, TP: $3360.24)\n",
      "✅ Opened ADAUSD: 18183.8343 @ $0.80 (SL: $0.73, TP: $0.94)\n",
      "✅ Opened SOLUSD: 45.1884 @ $202.32 (SL: $184.74, TP: $237.49)\n",
      "❌ Closed ADAUSD: 18183.8343 @ $0.70 P&L: $-1711.54 (-11.79%) - stop_loss\n",
      "✅ Opened ADAUSD: 19039.9082 @ $0.70 (SL: $0.64, TP: $0.82)\n",
      "🔥 Trailing stop activated for ADAUSD at $0.74\n",
      "❌ Closed ETHUSD: 5.9093 @ $2603.03 P&L: $-1534.44 (-9.07%) - stop_loss\n",
      "✅ Opened ETHUSD: 4.7330 @ $2603.03 (SL: $2427.31, TP: $2954.47)\n",
      "❌ Closed SOLUSD: 45.1884 @ $177.92 P&L: $-1102.82 (-12.06%) - stop_loss\n",
      "✅ Opened SOLUSD: 63.0789 @ $177.92 (SL: $166.64, TP: $200.49)\n",
      "💰 Closed ADAUSD: 19039.9082 @ $0.75 P&L: $942.01 (+7.03%) - trailing_stop\n",
      "✅ Opened ADAUSD: 21932.9481 @ $0.75 (SL: $0.70, TP: $0.86)\n",
      "❌ Closed SOLUSD: 63.0789 @ $141.17 P&L: $-2318.40 (-20.66%) - stop_loss\n",
      "❌ Closed ADAUSD: 21932.9481 @ $0.68 P&L: $-1611.23 (-9.75%) - stop_loss\n",
      "✅ Opened ADAUSD: 23666.2785 @ $0.68 (SL: $0.63, TP: $0.79)\n",
      "✅ Opened SOLUSD: 70.1100 @ $141.17 (SL: $129.93, TP: $163.64)\n",
      "❌ Closed BTCUSD: 0.1163 @ $88755.77 P&L: $-982.45 (-8.69%) - stop_loss\n",
      "✅ Opened BTCUSD: 0.1248 @ $88755.77 (SL: $82906.28, TP: $100454.75)\n",
      "❌ Closed ETHUSD: 4.7330 @ $2325.85 P&L: $-1311.89 (-10.65%) - stop_loss\n",
      "✅ Opened ETHUSD: 4.6750 @ $2325.85 (SL: $2167.98, TP: $2641.61)\n",
      "🔄 Regime Change: 2 → 3 (WAIT_AND_SEE)\n",
      "💰 Closed ADAUSD: 23666.2785 @ $1.14 P&L: $10847.30 (+67.40%) - wait_and_see_regime_exit\n",
      "💰 Closed SOLUSD: 70.1100 @ $178.17 P&L: $2594.65 (+26.22%) - wait_and_see_regime_exit\n",
      "💰 Closed BTCUSD: 0.1248 @ $94261.53 P&L: $687.26 (+6.20%) - wait_and_see_regime_exit\n",
      "💰 Closed ETHUSD: 4.6750 @ $2517.34 P&L: $895.20 (+8.23%) - wait_and_see_regime_exit\n",
      "🚫 WAIT_AND_SEE regime - closed all positions\n",
      "🔄 Regime Change: 3 → 6 (WAIT_AND_SEE)\n",
      "🚫 WAIT_AND_SEE regime - closed all positions\n",
      "🚫 WAIT_AND_SEE regime - closed all positions\n",
      "🚫 WAIT_AND_SEE regime - closed all positions\n",
      "🚫 WAIT_AND_SEE regime - closed all positions\n",
      "🚫 WAIT_AND_SEE regime - closed all positions\n",
      "🚫 WAIT_AND_SEE regime - closed all positions\n",
      "🚫 WAIT_AND_SEE regime - closed all positions\n",
      "🚫 WAIT_AND_SEE regime - closed all positions\n",
      "🚫 WAIT_AND_SEE regime - closed all positions\n",
      "🚫 WAIT_AND_SEE regime - closed all positions\n",
      "🚫 WAIT_AND_SEE regime - closed all positions\n",
      "🚫 WAIT_AND_SEE regime - closed all positions\n",
      "🚫 WAIT_AND_SEE regime - closed all positions\n",
      "🚫 WAIT_AND_SEE regime - closed all positions\n",
      "🚫 WAIT_AND_SEE regime - closed all positions\n",
      "🚫 WAIT_AND_SEE regime - closed all positions\n",
      "🚫 WAIT_AND_SEE regime - closed all positions\n",
      "🚫 WAIT_AND_SEE regime - closed all positions\n",
      "🚫 WAIT_AND_SEE regime - closed all positions\n",
      "🚫 WAIT_AND_SEE regime - closed all positions\n",
      "🔄 Regime Change: 6 → 3 (WAIT_AND_SEE)\n",
      "🚫 WAIT_AND_SEE regime - closed all positions\n",
      "🚫 WAIT_AND_SEE regime - closed all positions\n",
      "🚫 WAIT_AND_SEE regime - closed all positions\n",
      "🚫 WAIT_AND_SEE regime - closed all positions\n",
      "🚫 WAIT_AND_SEE regime - closed all positions\n",
      "🔄 Regime Change: 3 → 2 (BALANCED)\n",
      "✅ Opened BTCUSD: 0.2354 @ $84359.47 (SL: $78287.78, TP: $96502.84)\n",
      "✅ Opened ETHUSD: 8.8751 @ $1896.92 (SL: $1760.39, TP: $2169.97)\n",
      "✅ Opened ADAUSD: 20417.2068 @ $0.71 (SL: $0.65, TP: $0.81)\n",
      "✅ Opened SOLUSD: 69.8144 @ $129.45 (SL: $120.13, TP: $148.08)\n",
      "🔄 Regime Change: 2 → 3 (WAIT_AND_SEE)\n",
      "💰 Closed BTCUSD: 0.2354 @ $85237.59 P&L: $206.67 (+1.04%) - wait_and_see_regime_exit\n",
      "💰 Closed ETHUSD: 8.8751 @ $1907.17 P&L: $90.97 (+0.54%) - wait_and_see_regime_exit\n",
      "❌ Closed ADAUSD: 20417.2068 @ $0.68 P&L: $-554.49 (-3.85%) - wait_and_see_regime_exit\n",
      "❌ Closed SOLUSD: 69.8144 @ $126.81 P&L: $-184.26 (-2.04%) - wait_and_see_regime_exit\n",
      "🚫 WAIT_AND_SEE regime - closed all positions\n",
      "🔄 Regime Change: 3 → 2 (BALANCED)\n",
      "✅ Opened BTCUSD: 0.3291 @ $82526.42 (SL: $77832.96, TP: $91913.34)\n",
      "✅ Opened ETHUSD: 11.9700 @ $1795.76 (SL: $1693.63, TP: $2000.02)\n",
      "✅ Opened ADAUSD: 26864.0497 @ $0.64 (SL: $0.61, TP: $0.71)\n",
      "✅ Opened SOLUSD: 85.6460 @ $118.09 (SL: $111.37, TP: $131.52)\n",
      "🔄 Regime Change: 2 → 3 (WAIT_AND_SEE)\n",
      "💰 Closed BTCUSD: 0.3291 @ $83852.01 P&L: $436.24 (+1.61%) - wait_and_see_regime_exit\n",
      "💰 Closed ETHUSD: 11.9700 @ $1814.48 P&L: $224.06 (+1.04%) - wait_and_see_regime_exit\n",
      "💰 Closed ADAUSD: 26864.0497 @ $0.66 P&L: $507.14 (+2.94%) - wait_and_see_regime_exit\n",
      "💰 Closed SOLUSD: 85.6460 @ $122.71 P&L: $396.33 (+3.92%) - wait_and_see_regime_exit\n",
      "🚫 WAIT_AND_SEE regime - closed all positions\n",
      "🔄 Regime Change: 3 → 2 (BALANCED)\n",
      "✅ Opened BTCUSD: 0.3004 @ $83595.89 (SL: $77840.44, TP: $95106.77)\n",
      "✅ Opened ETHUSD: 11.2308 @ $1809.94 (SL: $1685.32, TP: $2059.16)\n",
      "✅ Opened ADAUSD: 25364.8020 @ $0.66 (SL: $0.61, TP: $0.75)\n",
      "✅ Opened SOLUSD: 83.0547 @ $120.17 (SL: $111.89, TP: $136.72)\n",
      "❌ Closed ETHUSD: 11.2308 @ $1574.63 P&L: $-2642.66 (-13.00%) - stop_loss\n",
      "❌ Closed ADAUSD: 25364.8020 @ $0.57 P&L: $-2110.40 (-12.68%) - stop_loss\n",
      "❌ Closed SOLUSD: 83.0547 @ $105.77 P&L: $-1196.26 (-11.99%) - stop_loss\n",
      "✅ Opened ETHUSD: 13.2014 @ $1574.63 (SL: $1485.94, TP: $1752.02)\n",
      "✅ Opened ADAUSD: 29143.4551 @ $0.57 (SL: $0.54, TP: $0.64)\n",
      "✅ Opened SOLUSD: 92.9247 @ $105.77 (SL: $99.81, TP: $117.68)\n",
      "❌ Closed BTCUSD: 0.3004 @ $76329.09 P&L: $-2183.00 (-8.69%) - stop_loss\n",
      "❌ Closed ETHUSD: 13.2014 @ $1471.36 P&L: $-1363.32 (-6.56%) - stop_loss\n",
      "✅ Opened BTCUSD: 0.1939 @ $76329.09 (SL: $71726.12, TP: $85535.02)\n",
      "✅ Opened ETHUSD: 8.5529 @ $1471.36 (SL: $1382.63, TP: $1648.82)\n",
      "🔄 Regime Change: 2 → 3 (WAIT_AND_SEE)\n",
      "💰 Closed ADAUSD: 29143.4551 @ $0.63 P&L: $1719.24 (+10.30%) - wait_and_see_regime_exit\n",
      "💰 Closed SOLUSD: 92.9247 @ $118.96 P&L: $1226.39 (+12.48%) - wait_and_see_regime_exit\n",
      "💰 Closed BTCUSD: 0.1939 @ $82622.17 P&L: $1220.48 (+8.24%) - wait_and_see_regime_exit\n",
      "💰 Closed ETHUSD: 8.5529 @ $1662.53 P&L: $1635.07 (+12.99%) - wait_and_see_regime_exit\n",
      "🚫 WAIT_AND_SEE regime - closed all positions\n",
      "🔄 Regime Change: 3 → 2 (BALANCED)\n",
      "✅ Opened BTCUSD: 0.2493 @ $79596.36 (SL: $72988.36, TP: $92812.36)\n",
      "✅ Opened ETHUSD: 11.0091 @ $1523.93 (SL: $1397.41, TP: $1776.96)\n",
      "✅ Opened ADAUSD: 23440.1484 @ $0.61 (SL: $0.56, TP: $0.71)\n",
      "✅ Opened SOLUSD: 79.2047 @ $112.89 (SL: $103.51, TP: $131.63)\n",
      "🔄 Regime Change: 2 → 3 (WAIT_AND_SEE)\n",
      "💰 Closed BTCUSD: 0.2493 @ $83439.29 P&L: $957.90 (+4.83%) - wait_and_see_regime_exit\n",
      "💰 Closed ETHUSD: 11.0091 @ $1568.13 P&L: $486.63 (+2.90%) - wait_and_see_regime_exit\n",
      "💰 Closed ADAUSD: 23440.1484 @ $0.62 P&L: $329.76 (+2.31%) - wait_and_see_regime_exit\n",
      "💰 Closed SOLUSD: 79.2047 @ $121.39 P&L: $673.74 (+7.54%) - wait_and_see_regime_exit\n",
      "🚫 WAIT_AND_SEE regime - closed all positions\n",
      "🚫 WAIT_AND_SEE regime - closed all positions\n",
      "🚫 WAIT_AND_SEE regime - closed all positions\n",
      "🚫 WAIT_AND_SEE regime - closed all positions\n",
      "🚫 WAIT_AND_SEE regime - closed all positions\n",
      "🚫 WAIT_AND_SEE regime - closed all positions\n",
      "🚫 WAIT_AND_SEE regime - closed all positions\n",
      "🚫 WAIT_AND_SEE regime - closed all positions\n",
      "🚫 WAIT_AND_SEE regime - closed all positions\n",
      "🚫 WAIT_AND_SEE regime - closed all positions\n",
      "🚫 WAIT_AND_SEE regime - closed all positions\n",
      "🚫 WAIT_AND_SEE regime - closed all positions\n",
      "🚫 WAIT_AND_SEE regime - closed all positions\n",
      "🚫 WAIT_AND_SEE regime - closed all positions\n",
      "🚫 WAIT_AND_SEE regime - closed all positions\n",
      "🚫 WAIT_AND_SEE regime - closed all positions\n",
      "🚫 WAIT_AND_SEE regime - closed all positions\n",
      "🔄 Regime Change: 3 → 5 (MOMENTUM)\n",
      "✅ Opened SOLUSD: 406.0445 @ $147.99 (SL: $136.51, TP: $175.54)\n",
      "✅ Opened BTCUSD: 0.2267 @ $95030.61 (SL: $87658.39, TP: $112723.93)\n",
      "✅ Opened ADAUSD: 21877.5090 @ $0.71 (SL: $0.65, TP: $0.84)\n",
      "🔥 Trailing stop activated for SOLUSD at $155.25\n",
      "🔥 Trailing stop activated for ADAUSD at $0.74\n",
      "🔥 Trailing stop activated for BTCUSD at $99399.34\n",
      "💰 Closed SOLUSD: 406.0445 @ $177.34 P&L: $11918.22 (+19.83%) - take_profit\n",
      "💰 Closed ADAUSD: 21877.5090 @ $0.84 P&L: $2948.41 (+19.11%) - take_profit\n",
      "✅ Opened SOLUSD: 321.9081 @ $177.34 (SL: $167.20, TP: $201.68)\n",
      "✅ Opened ADAUSD: 29703.1482 @ $0.84 (SL: $0.79, TP: $0.96)\n",
      "❌ Closed ADAUSD: 29703.1482 @ $0.76 P&L: $-2351.02 (-9.42%) - stop_loss\n",
      "✅ Opened ADAUSD: 32518.9701 @ $0.76 (SL: $0.72, TP: $0.86)\n",
      "❌ Closed SOLUSD: 321.9081 @ $165.94 P&L: $-3670.85 (-6.43%) - stop_loss\n",
      "✅ Opened SOLUSD: 186.5818 @ $165.94 (SL: $156.21, TP: $189.28)\n",
      "🔄 Regime Change: 5 → 2 (BALANCED)\n",
      "💰 Closed BTCUSD: 0.2267 @ $105745.42 P&L: $2428.60 (+11.28%) - trailing_stop\n",
      "✅ Opened BTCUSD: 0.0559 @ $105745.42 (SL: $96992.83, TP: $123250.60)\n",
      "✅ Opened ETHUSD: 2.0944 @ $2633.14 (SL: $2415.19, TP: $3069.03)\n",
      "❌ Closed ADAUSD: 32518.9701 @ $0.69 P&L: $-2264.88 (-9.15%) - stop_loss\n",
      "✅ Opened ADAUSD: 20437.4255 @ $0.69 (SL: $0.63, TP: $0.81)\n",
      "❌ Closed SOLUSD: 186.5818 @ $155.58 P&L: $-1933.61 (-6.25%) - stop_loss\n",
      "✅ Opened SOLUSD: 82.0093 @ $155.58 (SL: $142.94, TP: $180.85)\n",
      "❌ Closed ADAUSD: 20437.4255 @ $0.63 P&L: $-1292.92 (-9.15%) - stop_loss\n",
      "✅ Opened ADAUSD: 32794.1302 @ $0.63 (SL: $0.58, TP: $0.73)\n",
      "🔄 Regime Change: 2 → 3 (WAIT_AND_SEE)\n",
      "💰 Closed BTCUSD: 0.0559 @ $110261.57 P&L: $252.24 (+4.27%) - wait_and_see_regime_exit\n",
      "💰 Closed ETHUSD: 2.0944 @ $2685.00 P&L: $108.62 (+1.97%) - wait_and_see_regime_exit\n",
      "💰 Closed SOLUSD: 82.0093 @ $161.16 P&L: $457.92 (+3.59%) - wait_and_see_regime_exit\n",
      "💰 Closed ADAUSD: 32794.1302 @ $0.71 P&L: $2531.50 (+12.29%) - wait_and_see_regime_exit\n",
      "🚫 WAIT_AND_SEE regime - closed all positions\n",
      "🚫 WAIT_AND_SEE regime - closed all positions\n",
      "🔄 Regime Change: 3 → 2 (BALANCED)\n",
      "✅ Opened BTCUSD: 0.1605 @ $108679.98 (SL: $102725.66, TP: $120588.60)\n",
      "✅ Opened ETHUSD: 5.4932 @ $2776.14 (SL: $2624.04, TP: $3080.33)\n",
      "✅ Opened ADAUSD: 19262.6884 @ $0.70 (SL: $0.66, TP: $0.77)\n",
      "✅ Opened SOLUSD: 53.9980 @ $161.02 (SL: $152.20, TP: $178.66)\n",
      "❌ Closed ETHUSD: 5.4932 @ $2577.05 P&L: $-1093.64 (-7.17%) - stop_loss\n",
      "❌ Closed ADAUSD: 19262.6884 @ $0.64 P&L: $-1085.11 (-8.07%) - stop_loss\n",
      "❌ Closed SOLUSD: 53.9980 @ $148.53 P&L: $-674.41 (-7.76%) - stop_loss\n",
      "✅ Opened ETHUSD: 7.9169 @ $2577.05 (SL: $2426.59, TP: $2877.96)\n",
      "✅ Opened ADAUSD: 26593.5995 @ $0.64 (SL: $0.60, TP: $0.72)\n",
      "✅ Opened SOLUSD: 70.4793 @ $148.53 (SL: $139.86, TP: $165.87)\n",
      "❌ Closed ADAUSD: 26593.5995 @ $0.60 P&L: $-1020.57 (-5.98%) - stop_loss\n",
      "✅ Opened ADAUSD: 26848.4972 @ $0.60 (SL: $0.57, TP: $0.67)\n",
      "❌ Closed ETHUSD: 7.9169 @ $2405.70 P&L: $-1356.58 (-6.65%) - stop_loss\n",
      "✅ Opened ETHUSD: 5.6694 @ $2405.70 (SL: $2258.80, TP: $2699.48)\n",
      "❌ Closed BTCUSD: 0.1605 @ $101532.57 P&L: $-1146.88 (-6.58%) - stop_loss\n",
      "❌ Closed SOLUSD: 70.4793 @ $133.71 P&L: $-1044.53 (-9.98%) - stop_loss\n",
      "❌ Closed ADAUSD: 26848.4972 @ $0.55 P&L: $-1408.03 (-8.69%) - stop_loss\n",
      "✅ Opened BTCUSD: 0.1835 @ $101532.57 (SL: $95403.08, TP: $113791.54)\n",
      "✅ Opened ADAUSD: 38794.1292 @ $0.55 (SL: $0.52, TP: $0.62)\n",
      "✅ Opened SOLUSD: 92.9718 @ $133.71 (SL: $125.64, TP: $149.85)\n",
      "❌ Closed ETHUSD: 5.6694 @ $2227.43 P&L: $-1010.66 (-7.41%) - stop_loss\n",
      "✅ Opened ETHUSD: 5.5944 @ $2227.43 (SL: $2095.72, TP: $2490.85)\n",
      "🔄 Regime Change: 2 → 3 (WAIT_AND_SEE)\n",
      "💰 Closed BTCUSD: 0.1835 @ $105511.62 P&L: $730.12 (+3.92%) - wait_and_see_regime_exit\n",
      "💰 Closed ADAUSD: 38794.1292 @ $0.58 P&L: $1262.04 (+5.91%) - wait_and_see_regime_exit\n",
      "💰 Closed SOLUSD: 92.9718 @ $144.78 P&L: $1029.34 (+8.28%) - wait_and_see_regime_exit\n",
      "💰 Closed ETHUSD: 5.5944 @ $2423.90 P&L: $1099.13 (+8.82%) - wait_and_see_regime_exit\n",
      "🚫 WAIT_AND_SEE regime - closed all positions\n",
      "🔄 Regime Change: 3 → 2 (BALANCED)\n",
      "✅ Opened BTCUSD: 0.2381 @ $105976.07 (SL: $100093.44, TP: $117741.33)\n",
      "✅ Opened ETHUSD: 8.3674 @ $2446.54 (SL: $2310.73, TP: $2718.15)\n",
      "✅ Opened ADAUSD: 28628.5640 @ $0.59 (SL: $0.55, TP: $0.65)\n",
      "✅ Opened SOLUSD: 69.3098 @ $145.80 (SL: $137.71, TP: $161.99)\n",
      "❌ Closed ADAUSD: 28628.5640 @ $0.55 P&L: $-946.38 (-5.63%) - stop_loss\n",
      "✅ Opened ADAUSD: 30260.1835 @ $0.55 (SL: $0.53, TP: $0.61)\n",
      "🔄 Regime Change: 2 → 3 (WAIT_AND_SEE)\n",
      "💰 Closed BTCUSD: 0.2381 @ $107078.92 P&L: $262.60 (+1.04%) - wait_and_see_regime_exit\n",
      "❌ Closed ETHUSD: 8.3674 @ $2423.03 P&L: $-196.71 (-0.96%) - wait_and_see_regime_exit\n",
      "❌ Closed SOLUSD: 69.3098 @ $142.13 P&L: $-254.73 (-2.52%) - wait_and_see_regime_exit\n",
      "💰 Closed ADAUSD: 30260.1835 @ $0.56 P&L: $137.31 (+0.82%) - wait_and_see_regime_exit\n",
      "🚫 WAIT_AND_SEE regime - closed all positions\n",
      "🚫 WAIT_AND_SEE regime - closed all positions\n",
      "🚫 WAIT_AND_SEE regime - closed all positions\n",
      "🚫 WAIT_AND_SEE regime - closed all positions\n",
      "🔄 Regime Change: 3 → 2 (BALANCED)\n",
      "✅ Opened BTCUSD: 0.2733 @ $105613.40 (SL: $100439.58, TP: $115961.04)\n",
      "✅ Opened ETHUSD: 9.3918 @ $2405.10 (SL: $2287.28, TP: $2640.75)\n",
      "✅ Opened ADAUSD: 33087.2854 @ $0.54 (SL: $0.52, TP: $0.60)\n",
      "✅ Opened SOLUSD: 70.9092 @ $146.84 (SL: $139.65, TP: $161.23)\n",
      "🔄 Regime Change: 2 → 3 (WAIT_AND_SEE)\n",
      "💰 Closed BTCUSD: 0.2733 @ $108824.44 P&L: $877.54 (+3.04%) - wait_and_see_regime_exit\n",
      "💰 Closed ETHUSD: 9.3918 @ $2574.07 P&L: $1586.86 (+7.03%) - wait_and_see_regime_exit\n",
      "💰 Closed ADAUSD: 33087.2854 @ $0.58 P&L: $1407.67 (+7.85%) - wait_and_see_regime_exit\n",
      "💰 Closed SOLUSD: 70.9092 @ $152.17 P&L: $377.72 (+3.63%) - wait_and_see_regime_exit\n",
      "🚫 WAIT_AND_SEE regime - closed all positions\n",
      "🚫 WAIT_AND_SEE regime - closed all positions\n",
      "🚫 WAIT_AND_SEE regime - closed all positions\n",
      "🚫 WAIT_AND_SEE regime - closed all positions\n",
      "🚫 WAIT_AND_SEE regime - closed all positions\n",
      "🚫 WAIT_AND_SEE regime - closed all positions\n",
      "🚫 WAIT_AND_SEE regime - closed all positions\n",
      "🔄 Regime Change: 3 → 5 (MOMENTUM)\n",
      "✅ Opened SOLUSD: 352.7000 @ $157.21 (SL: $148.66, TP: $177.71)\n",
      "✅ Opened BTCUSD: 0.1847 @ $111327.53 (SL: $105277.51, TP: $125847.59)\n",
      "✅ Opened ADAUSD: 29029.4846 @ $0.62 (SL: $0.59, TP: $0.70)\n",
      "🔥 Trailing stop activated for ADAUSD at $0.68\n",
      "💰 Closed ADAUSD: 29029.4846 @ $0.71 P&L: $2531.34 (+13.98%) - take_profit\n",
      "✅ Opened ADAUSD: 34562.6691 @ $0.71 (SL: $0.67, TP: $0.80)\n",
      "🔥 Trailing stop activated for SOLUSD at $165.14\n",
      "🔥 Trailing stop activated for ADAUSD at $0.78\n",
      "💰 Closed ADAUSD: 34562.6691 @ $0.83 P&L: $3957.92 (+16.11%) - take_profit\n",
      "✅ Opened ADAUSD: 31840.2957 @ $0.83 (SL: $0.78, TP: $0.93)\n",
      "💰 Closed SOLUSD: 352.7000 @ $180.99 P&L: $8388.80 (+15.13%) - take_profit\n",
      "✅ Opened SOLUSD: 228.5618 @ $180.99 (SL: $168.92, TP: $209.96)\n",
      "🔥 Trailing stop activated for SOLUSD at $195.03\n",
      "💰 Closed SOLUSD: 228.5618 @ $189.59 P&L: $1965.65 (+4.75%) - trailing_stop\n",
      "✅ Opened SOLUSD: 183.0371 @ $189.59 (SL: $174.19, TP: $226.55)\n",
      "✅ Opened ETHUSD: 2.8374 @ $3786.30 (SL: $3478.86, TP: $4524.16)\n",
      "🔄 Regime Change: 5 → 1 (MOMENTUM)\n",
      "❌ Closed ADAUSD: 31840.2957 @ $0.76 P&L: $-1943.90 (-7.40%) - stop_loss\n",
      "✅ Opened ADAUSD: 4650.7861 @ $0.76 (SL: $0.70, TP: $0.89)\n",
      "❌ Closed SOLUSD: 183.0371 @ $172.16 P&L: $-3190.20 (-9.19%) - stop_loss\n",
      "✅ Opened SOLUSD: 16.1064 @ $172.16 (SL: $157.44, TP: $201.61)\n",
      "🔄 Regime Change: 1 → 2 (BALANCED)\n",
      "❌ Closed ETHUSD: 2.8374 @ $3397.49 P&L: $-1103.23 (-10.27%) - stop_loss\n",
      "❌ Closed ADAUSD: 4650.7861 @ $0.70 P&L: $-307.81 (-8.66%) - stop_loss\n",
      "✅ Opened ETHUSD: 2.4893 @ $3397.49 (SL: $3100.03, TP: $3992.39)\n",
      "✅ Opened ADAUSD: 15346.2430 @ $0.70 (SL: $0.64, TP: $0.82)\n",
      "🔄 Regime Change: 2 → 1 (MOMENTUM)\n",
      "🔄 Regime Change: 1 → 2 (BALANCED)\n",
      "🔄 Regime Change: 2 → 1 (MOMENTUM)\n",
      "🔥 Trailing stop activated for ETHUSD at $3715.70\n",
      "🔥 Trailing stop activated for ADAUSD at $0.75\n",
      "💰 Closed ETHUSD: 2.4893 @ $4012.98 P&L: $1532.14 (+18.12%) - take_profit\n",
      "✅ Opened ETHUSD: 1.2751 @ $4012.98 (SL: $3700.08, TP: $4638.77)\n",
      "🔄 Regime Change: 1 → 5 (MOMENTUM)\n",
      "🔥 Trailing stop activated for SOLUSD at $182.96\n",
      "🔥 Trailing stop activated for ETHUSD at $4376.47\n",
      "💰 Closed ADAUSD: 15346.2430 @ $0.84 P&L: $2210.24 (+20.63%) - take_profit\n",
      "✅ Opened ADAUSD: 53124.7109 @ $0.84 (SL: $0.79, TP: $0.97)\n",
      "🔥 Trailing stop activated for BTCUSD at $117382.94\n",
      "💰 Closed SOLUSD: 16.1064 @ $201.82 P&L: $477.65 (+17.23%) - take_profit\n",
      "💰 Closed ETHUSD: 1.2751 @ $4763.65 P&L: $957.17 (+18.71%) - take_profit\n",
      "✅ Opened SOLUSD: 171.1509 @ $201.82 (SL: $188.98, TP: $232.63)\n",
      "🔄 Regime Change: 5 → 1 (MOMENTUM)\n",
      "✅ Opened ETHUSD: 0.7786 @ $4554.29 (SL: $4186.43, TP: $5290.01)\n",
      "🔥 Trailing stop activated for ADAUSD at $0.89\n",
      "💰 Closed BTCUSD: 0.1847 @ $117339.79 P&L: $1110.48 (+5.40%) - trailing_stop\n",
      "❌ Closed SOLUSD: 171.1509 @ $185.60 P&L: $-2775.90 (-8.04%) - stop_loss\n",
      "✅ Opened SOLUSD: 44.0289 @ $185.60 (SL: $170.94, TP: $214.93)\n",
      "✅ Opened BTCUSD: 0.0511 @ $117339.79 (SL: $108068.88, TP: $135881.61)\n",
      "💰 Closed ADAUSD: 53124.7109 @ $0.84 P&L: $145.02 (+0.32%) - trailing_stop\n",
      "❌ Closed ETHUSD: 0.7786 @ $4074.50 P&L: $-373.59 (-10.54%) - stop_loss\n",
      "✅ Opened ETHUSD: 1.2928 @ $4074.50 (SL: $3718.75, TP: $4785.99)\n",
      "✅ Opened ADAUSD: 8139.9989 @ $0.84 (SL: $0.77, TP: $0.99)\n",
      "🔥 Trailing stop activated for ETHUSD at $4587.76\n",
      "💰 Closed ETHUSD: 1.2928 @ $4829.23 P&L: $975.73 (+18.52%) - take_profit\n",
      "✅ Opened ETHUSD: 2.1837 @ $4829.23 (SL: $4510.35, TP: $5466.98)\n",
      "🔥 Trailing stop activated for SOLUSD at $195.59\n",
      "💰 Closed SOLUSD: 44.0289 @ $187.19 P&L: $69.81 (+0.85%) - trailing_stop\n",
      "❌ Closed ETHUSD: 2.1837 @ $4381.63 P&L: $-977.41 (-9.27%) - stop_loss\n",
      "✅ Opened SOLUSD: 37.7829 @ $187.19 (SL: $170.73, TP: $220.10)\n",
      "✅ Opened ETHUSD: 1.3391 @ $4381.63 (SL: $3996.38, TP: $5152.12)\n",
      "⏳ Progress: 100.0% (335/335)\n",
      "\n",
      "✅ BACKTESTING COMPLETE!\n",
      "\n",
      "=== BACKTEST RESULTS ===\n",
      "✅ Total Return: 54.35%\n",
      "🎯 Sharpe Ratio: 1.437\n",
      "💰 Final Value: $154,347\n",
      "💼 Total Trades: 137\n",
      "📊 All analysis cells will use this live data\n",
      "\n",
      "✅ All data loaded successfully - ready for analysis!\n"
     ]
    }
   ],
   "execution_count": 36
  },
  {
   "cell_type": "code",
   "metadata": {
    "ExecuteTime": {
     "end_time": "2025-08-28T21:49:01.077221Z",
     "start_time": "2025-08-28T21:49:01.074106Z"
    }
   },
   "source": "# Executive Summary\nif success and backtest_results:\n    # Extract performance metrics\n    total_return = backtest_results.get('total_return', 0)\n    sharpe_ratio = backtest_results.get('sharpe_ratio', 0)\n    annualized_return = backtest_results.get('annualized_return', 0) * 100\n    annualized_volatility = backtest_results.get('annualized_volatility', 0) * 100\n    max_drawdown = backtest_results.get('max_drawdown', 0)\n    win_rate = backtest_results.get('win_rate', 0)\n    final_value = backtest_results.get('final_value', 0)\n    total_trades = len(trades_df) if trades_df is not None else 0\n    \n    print(\"📊 EXECUTIVE SUMMARY\")\n    print(\"=\"*50)\n    print()\n    print(\"This project demonstrates a sophisticated quantitative trading strategy\")\n    print(\"leveraging machine learning for systematic cryptocurrency portfolio management.\")\n    print(\"The system employs PCA, K-means clustering, and Expected Value (EV) optimization\")\n    print(\"to identify market regimes and optimize trading decisions.\")\n    print()\n    \n    print(\"🎯 KEY PERFORMANCE METRICS:\")\n    print(f\"   📈 Total Return:        {total_return:.2f}%\")\n    print(f\"   🔺 Sharpe Ratio:        {sharpe_ratio:.3f}\")\n    print(f\"   📊 Annualized Return:   {annualized_return:.2f}%\")\n    print(f\"   📉 Annualized Vol:      {annualized_volatility:.2f}%\")\n    print(f\"   ⚠️  Max Drawdown:       {max_drawdown:.2f}%\")\n    print(f\"   ✅ Win Rate:           {win_rate:.1f}%\")\n    print(f\"   💼 Total Trades:        {total_trades}\")\n    print(f\"   💰 Final Value:         ${final_value:,.0f}\")\n    print()\n    \n    print(\"🛠️ TECHNICAL SKILLS DEMONSTRATED:\")\n    print(\"   • Machine Learning: PCA dimensionality reduction, K-means clustering\")\n    print(\"   • Portfolio Management: Adaptive position sizing, risk optimization\")\n    print(\"   • Expected Value Analysis: Data-driven allocation strategies\")\n    print(\"   • Risk Management: Systematic drawdown control and volatility management\")\n    print(\"   • Software Engineering: Object-oriented Python, modular architecture\")\n    \nelse:\n    print(\"❌ Executive Summary Unavailable - Run backtest cell above to load results\")",
   "outputs": [
    {
     "name": "stdout",
     "output_type": "stream",
     "text": [
      "📊 EXECUTIVE SUMMARY\n",
      "==================================================\n",
      "\n",
      "This project demonstrates a sophisticated quantitative trading strategy\n",
      "leveraging machine learning for systematic cryptocurrency portfolio management.\n",
      "The system employs PCA, K-means clustering, and Expected Value (EV) optimization\n",
      "to identify market regimes and optimize trading decisions.\n",
      "\n",
      "🎯 KEY PERFORMANCE METRICS:\n",
      "   📈 Total Return:        54.35%\n",
      "   🔺 Sharpe Ratio:        1.437\n",
      "   📊 Annualized Return:   38.75%\n",
      "   📉 Annualized Vol:      24.21%\n",
      "   ⚠️  Max Drawdown:       13.27%\n",
      "   ✅ Win Rate:           53.3%\n",
      "   💼 Total Trades:        137\n",
      "   💰 Final Value:         $154,347\n",
      "\n",
      "🛠️ TECHNICAL SKILLS DEMONSTRATED:\n",
      "   • Machine Learning: PCA dimensionality reduction, K-means clustering\n",
      "   • Portfolio Management: Adaptive position sizing, risk optimization\n",
      "   • Expected Value Analysis: Data-driven allocation strategies\n",
      "   • Risk Management: Systematic drawdown control and volatility management\n",
      "   • Software Engineering: Object-oriented Python, modular architecture\n"
     ]
    }
   ],
   "execution_count": 37
  },
  {
   "cell_type": "code",
   "metadata": {
    "ExecuteTime": {
     "end_time": "2025-08-28T21:49:01.103785Z",
     "start_time": "2025-08-28T21:49:01.082819Z"
    }
   },
   "source": "# Portfolio Performance Analysis\nif success and backtest_results:\n    print(\"📈 PORTFOLIO PERFORMANCE ANALYSIS\")\n    print(\"=\"*50)\n    \n    # Use actual equity curve from the backtest engine\n    equity_curve = backtest_results.get('equity_curve')\n    if equity_curve:\n        df = pd.DataFrame(equity_curve)\n        df['timestamp'] = pd.to_datetime(df['timestamp'])\n        \n        # Calculate metrics using actual engine results\n        initial_capital = backtest_results.get('initial_capital', 100000)\n        running_max = df['portfolio_value'].expanding().max()\n        drawdown = (df['portfolio_value'] - running_max) / running_max * 100\n        returns = df['portfolio_value'].pct_change().dropna() * 100\n        \n        # Create interactive dashboard\n        fig = make_subplots(\n            rows=2, cols=2,\n            subplot_titles=('Portfolio Equity Curve', 'Drawdown Analysis', 'Returns Distribution', 'Rolling Sharpe Ratio'),\n            specs=[[{}, {}], [{}, {}]]\n        )\n        \n        # Portfolio equity curve\n        fig.add_trace(go.Scatter(\n            x=df['timestamp'], \n            y=df['portfolio_value'],\n            mode='lines',\n            name='Strategy Portfolio Value',\n            line=dict(color='blue', width=2),\n            hovertemplate='<b>Date:</b> %{x}<br><b>Value:</b> $%{y:,.0f}<extra></extra>'\n        ), row=1, col=1)\n        \n        fig.add_hline(y=initial_capital, line_dash=\"dash\", line_color=\"gray\", \n                     annotation_text=\"Initial Capital\", row=1, col=1)\n        \n        # Drawdown analysis\n        fig.add_trace(go.Scatter(\n            x=df['timestamp'], \n            y=drawdown,\n            mode='lines',\n            fill='tonexty',\n            name='Drawdown',\n            line=dict(color='red', width=1),\n            fillcolor='rgba(255,0,0,0.1)',\n            hovertemplate='<b>Date:</b> %{x}<br><b>Drawdown:</b> %{y:.2f}%<extra></extra>'\n        ), row=1, col=2)\n        \n        # Returns distribution\n        fig.add_trace(go.Histogram(\n            x=returns,\n            nbinsx=30,\n            name='Returns',\n            marker_color='lightblue',\n            opacity=0.7\n        ), row=2, col=1)\n        \n        # Rolling Sharpe ratio\n        if len(returns) > 30:\n            rolling_mean = returns.rolling(30).mean()\n            rolling_std = returns.rolling(30).std()\n            risk_free_daily = backtest_results.get('risk_free_rate', 3.95) / 252\n            rolling_sharpe = (rolling_mean - risk_free_daily) / rolling_std * np.sqrt(252)\n            \n            fig.add_trace(go.Scatter(\n                x=df['timestamp'][30:], \n                y=rolling_sharpe[30:],\n                mode='lines',\n                name='30-Day Rolling Sharpe',\n                line=dict(color='purple', width=2)\n            ), row=2, col=2)\n        \n        fig.update_layout(\n            height=600,\n            title_text=\"Portfolio Performance Dashboard\",\n            title_x=0.5,\n            showlegend=True\n        )\n        \n        fig.update_xaxes(title_text=\"Date\", row=1, col=1)\n        fig.update_xaxes(title_text=\"Date\", row=1, col=2)\n        fig.update_xaxes(title_text=\"Return (%)\", row=2, col=1)\n        fig.update_xaxes(title_text=\"Date\", row=2, col=2)\n        \n        fig.update_yaxes(title_text=\"Portfolio Value ($)\", row=1, col=1)\n        fig.update_yaxes(title_text=\"Drawdown (%)\", row=1, col=2)\n        fig.update_yaxes(title_text=\"Frequency\", row=2, col=1)\n        fig.update_yaxes(title_text=\"Rolling Sharpe\", row=2, col=2)\n        \n        fig.show()\n        \n        # Performance summary with GitHub-compatible output\n        actual_annualized_return = backtest_results.get('annualized_return', 0) * 100\n        actual_annualized_volatility = backtest_results.get('annualized_volatility', 0) * 100\n        actual_sharpe_ratio = backtest_results.get('sharpe_ratio', 0)\n        period_return = backtest_results.get('total_return', 0)\n        max_dd = backtest_results.get('max_drawdown', 0)\n        \n        print(\"\\n📊 PROFESSIONAL PORTFOLIO PERFORMANCE SUMMARY\")\n        print(\"-\" * 50)\n        print(f\"Total Return:         {period_return:.2f}%\")\n        print(f\"Annualized Return:    {actual_annualized_return:.2f}%\") \n        print(f\"Annualized Volatility: {actual_annualized_volatility:.2f}%\")\n        print(f\"Maximum Drawdown:     {max_dd:.2f}%\")\n        print()\n        print(f\"Sharpe Ratio:         {actual_sharpe_ratio:.3f}\")\n        print(f\"Risk-Free Rate:       {backtest_results.get('risk_free_rate', 3.95):.2f}%\")\n        print(f\"Data Source:          Live Backtest Engine Results\")\n        \nelse:\n    print(\"❌ Portfolio Analysis Unavailable - Run backtest cell above to load performance data\")",
   "outputs": [
    {
     "name": "stdout",
     "output_type": "stream",
     "text": [
      "📈 PORTFOLIO PERFORMANCE ANALYSIS\n",
      "==================================================\n"
     ]
    },
    {
     "data": {
      "application/vnd.plotly.v1+json": {
       "data": [
        {
         "hovertemplate": "<b>Date:</b> %{x}<br><b>Value:</b> $%{y:,.0f}<extra></extra>",
         "line": {
          "color": "blue",
          "width": 2
         },
         "mode": "lines",
         "name": "Strategy Portfolio Value",
         "x": [
          "2024-09-28T00:00:00.000000000",
          "2024-09-29T00:00:00.000000000",
          "2024-09-30T00:00:00.000000000",
          "2024-10-01T00:00:00.000000000",
          "2024-10-02T00:00:00.000000000",
          "2024-10-03T00:00:00.000000000",
          "2024-10-04T00:00:00.000000000",
          "2024-10-05T00:00:00.000000000",
          "2024-10-06T00:00:00.000000000",
          "2024-10-07T00:00:00.000000000",
          "2024-10-08T00:00:00.000000000",
          "2024-10-09T00:00:00.000000000",
          "2024-10-10T00:00:00.000000000",
          "2024-10-11T00:00:00.000000000",
          "2024-10-12T00:00:00.000000000",
          "2024-10-13T00:00:00.000000000",
          "2024-10-14T00:00:00.000000000",
          "2024-10-15T00:00:00.000000000",
          "2024-10-16T00:00:00.000000000",
          "2024-10-17T00:00:00.000000000",
          "2024-10-18T00:00:00.000000000",
          "2024-10-19T00:00:00.000000000",
          "2024-10-20T00:00:00.000000000",
          "2024-10-21T00:00:00.000000000",
          "2024-10-22T00:00:00.000000000",
          "2024-10-23T00:00:00.000000000",
          "2024-10-24T00:00:00.000000000",
          "2024-10-25T00:00:00.000000000",
          "2024-10-26T00:00:00.000000000",
          "2024-10-27T00:00:00.000000000",
          "2024-10-28T00:00:00.000000000",
          "2024-10-29T00:00:00.000000000",
          "2024-10-30T00:00:00.000000000",
          "2024-10-31T00:00:00.000000000",
          "2024-11-01T00:00:00.000000000",
          "2024-11-02T00:00:00.000000000",
          "2024-11-03T00:00:00.000000000",
          "2024-11-04T00:00:00.000000000",
          "2024-11-05T00:00:00.000000000",
          "2024-11-06T00:00:00.000000000",
          "2024-11-07T00:00:00.000000000",
          "2024-11-08T00:00:00.000000000",
          "2024-11-09T00:00:00.000000000",
          "2024-11-10T00:00:00.000000000",
          "2024-11-11T00:00:00.000000000",
          "2024-11-12T00:00:00.000000000",
          "2024-11-13T00:00:00.000000000",
          "2024-11-14T00:00:00.000000000",
          "2024-11-15T00:00:00.000000000",
          "2024-11-16T00:00:00.000000000",
          "2024-11-17T00:00:00.000000000",
          "2024-11-18T00:00:00.000000000",
          "2024-11-19T00:00:00.000000000",
          "2024-11-20T00:00:00.000000000",
          "2024-11-21T00:00:00.000000000",
          "2024-11-22T00:00:00.000000000",
          "2024-11-23T00:00:00.000000000",
          "2024-11-24T00:00:00.000000000",
          "2024-11-25T00:00:00.000000000",
          "2024-11-26T00:00:00.000000000",
          "2024-11-27T00:00:00.000000000",
          "2024-11-28T00:00:00.000000000",
          "2024-11-29T00:00:00.000000000",
          "2024-11-30T00:00:00.000000000",
          "2024-12-01T00:00:00.000000000",
          "2024-12-02T00:00:00.000000000",
          "2024-12-03T00:00:00.000000000",
          "2024-12-04T00:00:00.000000000",
          "2024-12-05T00:00:00.000000000",
          "2024-12-06T00:00:00.000000000",
          "2024-12-07T00:00:00.000000000",
          "2024-12-08T00:00:00.000000000",
          "2024-12-09T00:00:00.000000000",
          "2024-12-10T00:00:00.000000000",
          "2024-12-11T00:00:00.000000000",
          "2024-12-12T00:00:00.000000000",
          "2024-12-13T00:00:00.000000000",
          "2024-12-14T00:00:00.000000000",
          "2024-12-15T00:00:00.000000000",
          "2024-12-16T00:00:00.000000000",
          "2024-12-17T00:00:00.000000000",
          "2024-12-18T00:00:00.000000000",
          "2024-12-19T00:00:00.000000000",
          "2024-12-20T00:00:00.000000000",
          "2024-12-21T00:00:00.000000000",
          "2024-12-22T00:00:00.000000000",
          "2024-12-23T00:00:00.000000000",
          "2024-12-24T00:00:00.000000000",
          "2024-12-25T00:00:00.000000000",
          "2024-12-26T00:00:00.000000000",
          "2024-12-27T00:00:00.000000000",
          "2024-12-28T00:00:00.000000000",
          "2024-12-29T00:00:00.000000000",
          "2024-12-30T00:00:00.000000000",
          "2024-12-31T00:00:00.000000000",
          "2025-01-01T00:00:00.000000000",
          "2025-01-02T00:00:00.000000000",
          "2025-01-03T00:00:00.000000000",
          "2025-01-04T00:00:00.000000000",
          "2025-01-05T00:00:00.000000000",
          "2025-01-06T00:00:00.000000000",
          "2025-01-07T00:00:00.000000000",
          "2025-01-08T00:00:00.000000000",
          "2025-01-09T00:00:00.000000000",
          "2025-01-10T00:00:00.000000000",
          "2025-01-11T00:00:00.000000000",
          "2025-01-12T00:00:00.000000000",
          "2025-01-13T00:00:00.000000000",
          "2025-01-14T00:00:00.000000000",
          "2025-01-15T00:00:00.000000000",
          "2025-01-16T00:00:00.000000000",
          "2025-01-17T00:00:00.000000000",
          "2025-01-18T00:00:00.000000000",
          "2025-01-19T00:00:00.000000000",
          "2025-01-20T00:00:00.000000000",
          "2025-01-21T00:00:00.000000000",
          "2025-01-22T00:00:00.000000000",
          "2025-01-23T00:00:00.000000000",
          "2025-01-24T00:00:00.000000000",
          "2025-01-25T00:00:00.000000000",
          "2025-01-26T00:00:00.000000000",
          "2025-01-27T00:00:00.000000000",
          "2025-01-28T00:00:00.000000000",
          "2025-01-29T00:00:00.000000000",
          "2025-01-30T00:00:00.000000000",
          "2025-01-31T00:00:00.000000000",
          "2025-02-01T00:00:00.000000000",
          "2025-02-02T00:00:00.000000000",
          "2025-02-03T00:00:00.000000000",
          "2025-02-04T00:00:00.000000000",
          "2025-02-05T00:00:00.000000000",
          "2025-02-06T00:00:00.000000000",
          "2025-02-07T00:00:00.000000000",
          "2025-02-08T00:00:00.000000000",
          "2025-02-09T00:00:00.000000000",
          "2025-02-10T00:00:00.000000000",
          "2025-02-11T00:00:00.000000000",
          "2025-02-12T00:00:00.000000000",
          "2025-02-13T00:00:00.000000000",
          "2025-02-14T00:00:00.000000000",
          "2025-02-15T00:00:00.000000000",
          "2025-02-16T00:00:00.000000000",
          "2025-02-17T00:00:00.000000000",
          "2025-02-18T00:00:00.000000000",
          "2025-02-19T00:00:00.000000000",
          "2025-02-20T00:00:00.000000000",
          "2025-02-21T00:00:00.000000000",
          "2025-02-22T00:00:00.000000000",
          "2025-02-23T00:00:00.000000000",
          "2025-02-24T00:00:00.000000000",
          "2025-02-25T00:00:00.000000000",
          "2025-02-26T00:00:00.000000000",
          "2025-02-27T00:00:00.000000000",
          "2025-02-28T00:00:00.000000000",
          "2025-03-01T00:00:00.000000000",
          "2025-03-02T00:00:00.000000000",
          "2025-03-03T00:00:00.000000000",
          "2025-03-04T00:00:00.000000000",
          "2025-03-05T00:00:00.000000000",
          "2025-03-06T00:00:00.000000000",
          "2025-03-07T00:00:00.000000000",
          "2025-03-08T00:00:00.000000000",
          "2025-03-09T00:00:00.000000000",
          "2025-03-10T00:00:00.000000000",
          "2025-03-11T00:00:00.000000000",
          "2025-03-12T00:00:00.000000000",
          "2025-03-13T00:00:00.000000000",
          "2025-03-14T00:00:00.000000000",
          "2025-03-15T00:00:00.000000000",
          "2025-03-16T00:00:00.000000000",
          "2025-03-17T00:00:00.000000000",
          "2025-03-18T00:00:00.000000000",
          "2025-03-19T00:00:00.000000000",
          "2025-03-20T00:00:00.000000000",
          "2025-03-21T00:00:00.000000000",
          "2025-03-22T00:00:00.000000000",
          "2025-03-23T00:00:00.000000000",
          "2025-03-24T00:00:00.000000000",
          "2025-03-25T00:00:00.000000000",
          "2025-03-26T00:00:00.000000000",
          "2025-03-27T00:00:00.000000000",
          "2025-03-28T00:00:00.000000000",
          "2025-03-29T00:00:00.000000000",
          "2025-03-30T00:00:00.000000000",
          "2025-03-31T00:00:00.000000000",
          "2025-04-01T00:00:00.000000000",
          "2025-04-02T00:00:00.000000000",
          "2025-04-03T00:00:00.000000000",
          "2025-04-04T00:00:00.000000000",
          "2025-04-05T00:00:00.000000000",
          "2025-04-06T00:00:00.000000000",
          "2025-04-07T00:00:00.000000000",
          "2025-04-08T00:00:00.000000000",
          "2025-04-09T00:00:00.000000000",
          "2025-04-10T00:00:00.000000000",
          "2025-04-11T00:00:00.000000000",
          "2025-04-12T00:00:00.000000000",
          "2025-04-13T00:00:00.000000000",
          "2025-04-14T00:00:00.000000000",
          "2025-04-15T00:00:00.000000000",
          "2025-04-16T00:00:00.000000000",
          "2025-04-17T00:00:00.000000000",
          "2025-04-18T00:00:00.000000000",
          "2025-04-19T00:00:00.000000000",
          "2025-04-20T00:00:00.000000000",
          "2025-04-21T00:00:00.000000000",
          "2025-04-22T00:00:00.000000000",
          "2025-04-23T00:00:00.000000000",
          "2025-04-24T00:00:00.000000000",
          "2025-04-25T00:00:00.000000000",
          "2025-04-26T00:00:00.000000000",
          "2025-04-27T00:00:00.000000000",
          "2025-04-28T00:00:00.000000000",
          "2025-04-29T00:00:00.000000000",
          "2025-04-30T00:00:00.000000000",
          "2025-05-01T00:00:00.000000000",
          "2025-05-02T00:00:00.000000000",
          "2025-05-03T00:00:00.000000000",
          "2025-05-04T00:00:00.000000000",
          "2025-05-05T00:00:00.000000000",
          "2025-05-06T00:00:00.000000000",
          "2025-05-07T00:00:00.000000000",
          "2025-05-08T00:00:00.000000000",
          "2025-05-09T00:00:00.000000000",
          "2025-05-10T00:00:00.000000000",
          "2025-05-11T00:00:00.000000000",
          "2025-05-12T00:00:00.000000000",
          "2025-05-13T00:00:00.000000000",
          "2025-05-14T00:00:00.000000000",
          "2025-05-15T00:00:00.000000000",
          "2025-05-16T00:00:00.000000000",
          "2025-05-17T00:00:00.000000000",
          "2025-05-18T00:00:00.000000000",
          "2025-05-19T00:00:00.000000000",
          "2025-05-20T00:00:00.000000000",
          "2025-05-21T00:00:00.000000000",
          "2025-05-22T00:00:00.000000000",
          "2025-05-23T00:00:00.000000000",
          "2025-05-24T00:00:00.000000000",
          "2025-05-25T00:00:00.000000000",
          "2025-05-26T00:00:00.000000000",
          "2025-05-27T00:00:00.000000000",
          "2025-05-28T00:00:00.000000000",
          "2025-05-29T00:00:00.000000000",
          "2025-05-30T00:00:00.000000000",
          "2025-05-31T00:00:00.000000000",
          "2025-06-01T00:00:00.000000000",
          "2025-06-02T00:00:00.000000000",
          "2025-06-03T00:00:00.000000000",
          "2025-06-04T00:00:00.000000000",
          "2025-06-05T00:00:00.000000000",
          "2025-06-06T00:00:00.000000000",
          "2025-06-07T00:00:00.000000000",
          "2025-06-08T00:00:00.000000000",
          "2025-06-09T00:00:00.000000000",
          "2025-06-10T00:00:00.000000000",
          "2025-06-11T00:00:00.000000000",
          "2025-06-12T00:00:00.000000000",
          "2025-06-13T00:00:00.000000000",
          "2025-06-14T00:00:00.000000000",
          "2025-06-15T00:00:00.000000000",
          "2025-06-16T00:00:00.000000000",
          "2025-06-17T00:00:00.000000000",
          "2025-06-18T00:00:00.000000000",
          "2025-06-19T00:00:00.000000000",
          "2025-06-20T00:00:00.000000000",
          "2025-06-21T00:00:00.000000000",
          "2025-06-22T00:00:00.000000000",
          "2025-06-23T00:00:00.000000000",
          "2025-06-24T00:00:00.000000000",
          "2025-06-25T00:00:00.000000000",
          "2025-06-26T00:00:00.000000000",
          "2025-06-27T00:00:00.000000000",
          "2025-06-28T00:00:00.000000000",
          "2025-06-29T00:00:00.000000000",
          "2025-06-30T00:00:00.000000000",
          "2025-07-01T00:00:00.000000000",
          "2025-07-02T00:00:00.000000000",
          "2025-07-03T00:00:00.000000000",
          "2025-07-04T00:00:00.000000000",
          "2025-07-05T00:00:00.000000000",
          "2025-07-06T00:00:00.000000000",
          "2025-07-07T00:00:00.000000000",
          "2025-07-08T00:00:00.000000000",
          "2025-07-09T00:00:00.000000000",
          "2025-07-10T00:00:00.000000000",
          "2025-07-11T00:00:00.000000000",
          "2025-07-12T00:00:00.000000000",
          "2025-07-13T00:00:00.000000000",
          "2025-07-14T00:00:00.000000000",
          "2025-07-15T00:00:00.000000000",
          "2025-07-16T00:00:00.000000000",
          "2025-07-17T00:00:00.000000000",
          "2025-07-18T00:00:00.000000000",
          "2025-07-19T00:00:00.000000000",
          "2025-07-20T00:00:00.000000000",
          "2025-07-21T00:00:00.000000000",
          "2025-07-22T00:00:00.000000000",
          "2025-07-23T00:00:00.000000000",
          "2025-07-24T00:00:00.000000000",
          "2025-07-25T00:00:00.000000000",
          "2025-07-26T00:00:00.000000000",
          "2025-07-27T00:00:00.000000000",
          "2025-07-28T00:00:00.000000000",
          "2025-07-29T00:00:00.000000000",
          "2025-07-30T00:00:00.000000000",
          "2025-07-31T00:00:00.000000000",
          "2025-08-01T00:00:00.000000000",
          "2025-08-02T00:00:00.000000000",
          "2025-08-03T00:00:00.000000000",
          "2025-08-04T00:00:00.000000000",
          "2025-08-05T00:00:00.000000000",
          "2025-08-06T00:00:00.000000000",
          "2025-08-07T00:00:00.000000000",
          "2025-08-08T00:00:00.000000000",
          "2025-08-09T00:00:00.000000000",
          "2025-08-10T00:00:00.000000000",
          "2025-08-11T00:00:00.000000000",
          "2025-08-12T00:00:00.000000000",
          "2025-08-13T00:00:00.000000000",
          "2025-08-14T00:00:00.000000000",
          "2025-08-15T00:00:00.000000000",
          "2025-08-16T00:00:00.000000000",
          "2025-08-17T00:00:00.000000000",
          "2025-08-18T00:00:00.000000000",
          "2025-08-19T00:00:00.000000000",
          "2025-08-20T00:00:00.000000000",
          "2025-08-21T00:00:00.000000000",
          "2025-08-22T00:00:00.000000000",
          "2025-08-23T00:00:00.000000000",
          "2025-08-24T00:00:00.000000000",
          "2025-08-25T00:00:00.000000000",
          "2025-08-26T00:00:00.000000000",
          "2025-08-27T00:00:00.000000000",
          "2025-08-28T00:00:00.000000000"
         ],
         "y": {
          "dtype": "f8",
          "bdata": "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"
         },
         "type": "scatter",
         "xaxis": "x",
         "yaxis": "y"
        },
        {
         "fill": "tonexty",
         "fillcolor": "rgba(255,0,0,0.1)",
         "hovertemplate": "<b>Date:</b> %{x}<br><b>Drawdown:</b> %{y:.2f}%<extra></extra>",
         "line": {
          "color": "red",
          "width": 1
         },
         "mode": "lines",
         "name": "Drawdown",
         "x": [
          "2024-09-28T00:00:00.000000000",
          "2024-09-29T00:00:00.000000000",
          "2024-09-30T00:00:00.000000000",
          "2024-10-01T00:00:00.000000000",
          "2024-10-02T00:00:00.000000000",
          "2024-10-03T00:00:00.000000000",
          "2024-10-04T00:00:00.000000000",
          "2024-10-05T00:00:00.000000000",
          "2024-10-06T00:00:00.000000000",
          "2024-10-07T00:00:00.000000000",
          "2024-10-08T00:00:00.000000000",
          "2024-10-09T00:00:00.000000000",
          "2024-10-10T00:00:00.000000000",
          "2024-10-11T00:00:00.000000000",
          "2024-10-12T00:00:00.000000000",
          "2024-10-13T00:00:00.000000000",
          "2024-10-14T00:00:00.000000000",
          "2024-10-15T00:00:00.000000000",
          "2024-10-16T00:00:00.000000000",
          "2024-10-17T00:00:00.000000000",
          "2024-10-18T00:00:00.000000000",
          "2024-10-19T00:00:00.000000000",
          "2024-10-20T00:00:00.000000000",
          "2024-10-21T00:00:00.000000000",
          "2024-10-22T00:00:00.000000000",
          "2024-10-23T00:00:00.000000000",
          "2024-10-24T00:00:00.000000000",
          "2024-10-25T00:00:00.000000000",
          "2024-10-26T00:00:00.000000000",
          "2024-10-27T00:00:00.000000000",
          "2024-10-28T00:00:00.000000000",
          "2024-10-29T00:00:00.000000000",
          "2024-10-30T00:00:00.000000000",
          "2024-10-31T00:00:00.000000000",
          "2024-11-01T00:00:00.000000000",
          "2024-11-02T00:00:00.000000000",
          "2024-11-03T00:00:00.000000000",
          "2024-11-04T00:00:00.000000000",
          "2024-11-05T00:00:00.000000000",
          "2024-11-06T00:00:00.000000000",
          "2024-11-07T00:00:00.000000000",
          "2024-11-08T00:00:00.000000000",
          "2024-11-09T00:00:00.000000000",
          "2024-11-10T00:00:00.000000000",
          "2024-11-11T00:00:00.000000000",
          "2024-11-12T00:00:00.000000000",
          "2024-11-13T00:00:00.000000000",
          "2024-11-14T00:00:00.000000000",
          "2024-11-15T00:00:00.000000000",
          "2024-11-16T00:00:00.000000000",
          "2024-11-17T00:00:00.000000000",
          "2024-11-18T00:00:00.000000000",
          "2024-11-19T00:00:00.000000000",
          "2024-11-20T00:00:00.000000000",
          "2024-11-21T00:00:00.000000000",
          "2024-11-22T00:00:00.000000000",
          "2024-11-23T00:00:00.000000000",
          "2024-11-24T00:00:00.000000000",
          "2024-11-25T00:00:00.000000000",
          "2024-11-26T00:00:00.000000000",
          "2024-11-27T00:00:00.000000000",
          "2024-11-28T00:00:00.000000000",
          "2024-11-29T00:00:00.000000000",
          "2024-11-30T00:00:00.000000000",
          "2024-12-01T00:00:00.000000000",
          "2024-12-02T00:00:00.000000000",
          "2024-12-03T00:00:00.000000000",
          "2024-12-04T00:00:00.000000000",
          "2024-12-05T00:00:00.000000000",
          "2024-12-06T00:00:00.000000000",
          "2024-12-07T00:00:00.000000000",
          "2024-12-08T00:00:00.000000000",
          "2024-12-09T00:00:00.000000000",
          "2024-12-10T00:00:00.000000000",
          "2024-12-11T00:00:00.000000000",
          "2024-12-12T00:00:00.000000000",
          "2024-12-13T00:00:00.000000000",
          "2024-12-14T00:00:00.000000000",
          "2024-12-15T00:00:00.000000000",
          "2024-12-16T00:00:00.000000000",
          "2024-12-17T00:00:00.000000000",
          "2024-12-18T00:00:00.000000000",
          "2024-12-19T00:00:00.000000000",
          "2024-12-20T00:00:00.000000000",
          "2024-12-21T00:00:00.000000000",
          "2024-12-22T00:00:00.000000000",
          "2024-12-23T00:00:00.000000000",
          "2024-12-24T00:00:00.000000000",
          "2024-12-25T00:00:00.000000000",
          "2024-12-26T00:00:00.000000000",
          "2024-12-27T00:00:00.000000000",
          "2024-12-28T00:00:00.000000000",
          "2024-12-29T00:00:00.000000000",
          "2024-12-30T00:00:00.000000000",
          "2024-12-31T00:00:00.000000000",
          "2025-01-01T00:00:00.000000000",
          "2025-01-02T00:00:00.000000000",
          "2025-01-03T00:00:00.000000000",
          "2025-01-04T00:00:00.000000000",
          "2025-01-05T00:00:00.000000000",
          "2025-01-06T00:00:00.000000000",
          "2025-01-07T00:00:00.000000000",
          "2025-01-08T00:00:00.000000000",
          "2025-01-09T00:00:00.000000000",
          "2025-01-10T00:00:00.000000000",
          "2025-01-11T00:00:00.000000000",
          "2025-01-12T00:00:00.000000000",
          "2025-01-13T00:00:00.000000000",
          "2025-01-14T00:00:00.000000000",
          "2025-01-15T00:00:00.000000000",
          "2025-01-16T00:00:00.000000000",
          "2025-01-17T00:00:00.000000000",
          "2025-01-18T00:00:00.000000000",
          "2025-01-19T00:00:00.000000000",
          "2025-01-20T00:00:00.000000000",
          "2025-01-21T00:00:00.000000000",
          "2025-01-22T00:00:00.000000000",
          "2025-01-23T00:00:00.000000000",
          "2025-01-24T00:00:00.000000000",
          "2025-01-25T00:00:00.000000000",
          "2025-01-26T00:00:00.000000000",
          "2025-01-27T00:00:00.000000000",
          "2025-01-28T00:00:00.000000000",
          "2025-01-29T00:00:00.000000000",
          "2025-01-30T00:00:00.000000000",
          "2025-01-31T00:00:00.000000000",
          "2025-02-01T00:00:00.000000000",
          "2025-02-02T00:00:00.000000000",
          "2025-02-03T00:00:00.000000000",
          "2025-02-04T00:00:00.000000000",
          "2025-02-05T00:00:00.000000000",
          "2025-02-06T00:00:00.000000000",
          "2025-02-07T00:00:00.000000000",
          "2025-02-08T00:00:00.000000000",
          "2025-02-09T00:00:00.000000000",
          "2025-02-10T00:00:00.000000000",
          "2025-02-11T00:00:00.000000000",
          "2025-02-12T00:00:00.000000000",
          "2025-02-13T00:00:00.000000000",
          "2025-02-14T00:00:00.000000000",
          "2025-02-15T00:00:00.000000000",
          "2025-02-16T00:00:00.000000000",
          "2025-02-17T00:00:00.000000000",
          "2025-02-18T00:00:00.000000000",
          "2025-02-19T00:00:00.000000000",
          "2025-02-20T00:00:00.000000000",
          "2025-02-21T00:00:00.000000000",
          "2025-02-22T00:00:00.000000000",
          "2025-02-23T00:00:00.000000000",
          "2025-02-24T00:00:00.000000000",
          "2025-02-25T00:00:00.000000000",
          "2025-02-26T00:00:00.000000000",
          "2025-02-27T00:00:00.000000000",
          "2025-02-28T00:00:00.000000000",
          "2025-03-01T00:00:00.000000000",
          "2025-03-02T00:00:00.000000000",
          "2025-03-03T00:00:00.000000000",
          "2025-03-04T00:00:00.000000000",
          "2025-03-05T00:00:00.000000000",
          "2025-03-06T00:00:00.000000000",
          "2025-03-07T00:00:00.000000000",
          "2025-03-08T00:00:00.000000000",
          "2025-03-09T00:00:00.000000000",
          "2025-03-10T00:00:00.000000000",
          "2025-03-11T00:00:00.000000000",
          "2025-03-12T00:00:00.000000000",
          "2025-03-13T00:00:00.000000000",
          "2025-03-14T00:00:00.000000000",
          "2025-03-15T00:00:00.000000000",
          "2025-03-16T00:00:00.000000000",
          "2025-03-17T00:00:00.000000000",
          "2025-03-18T00:00:00.000000000",
          "2025-03-19T00:00:00.000000000",
          "2025-03-20T00:00:00.000000000",
          "2025-03-21T00:00:00.000000000",
          "2025-03-22T00:00:00.000000000",
          "2025-03-23T00:00:00.000000000",
          "2025-03-24T00:00:00.000000000",
          "2025-03-25T00:00:00.000000000",
          "2025-03-26T00:00:00.000000000",
          "2025-03-27T00:00:00.000000000",
          "2025-03-28T00:00:00.000000000",
          "2025-03-29T00:00:00.000000000",
          "2025-03-30T00:00:00.000000000",
          "2025-03-31T00:00:00.000000000",
          "2025-04-01T00:00:00.000000000",
          "2025-04-02T00:00:00.000000000",
          "2025-04-03T00:00:00.000000000",
          "2025-04-04T00:00:00.000000000",
          "2025-04-05T00:00:00.000000000",
          "2025-04-06T00:00:00.000000000",
          "2025-04-07T00:00:00.000000000",
          "2025-04-08T00:00:00.000000000",
          "2025-04-09T00:00:00.000000000",
          "2025-04-10T00:00:00.000000000",
          "2025-04-11T00:00:00.000000000",
          "2025-04-12T00:00:00.000000000",
          "2025-04-13T00:00:00.000000000",
          "2025-04-14T00:00:00.000000000",
          "2025-04-15T00:00:00.000000000",
          "2025-04-16T00:00:00.000000000",
          "2025-04-17T00:00:00.000000000",
          "2025-04-18T00:00:00.000000000",
          "2025-04-19T00:00:00.000000000",
          "2025-04-20T00:00:00.000000000",
          "2025-04-21T00:00:00.000000000",
          "2025-04-22T00:00:00.000000000",
          "2025-04-23T00:00:00.000000000",
          "2025-04-24T00:00:00.000000000",
          "2025-04-25T00:00:00.000000000",
          "2025-04-26T00:00:00.000000000",
          "2025-04-27T00:00:00.000000000",
          "2025-04-28T00:00:00.000000000",
          "2025-04-29T00:00:00.000000000",
          "2025-04-30T00:00:00.000000000",
          "2025-05-01T00:00:00.000000000",
          "2025-05-02T00:00:00.000000000",
          "2025-05-03T00:00:00.000000000",
          "2025-05-04T00:00:00.000000000",
          "2025-05-05T00:00:00.000000000",
          "2025-05-06T00:00:00.000000000",
          "2025-05-07T00:00:00.000000000",
          "2025-05-08T00:00:00.000000000",
          "2025-05-09T00:00:00.000000000",
          "2025-05-10T00:00:00.000000000",
          "2025-05-11T00:00:00.000000000",
          "2025-05-12T00:00:00.000000000",
          "2025-05-13T00:00:00.000000000",
          "2025-05-14T00:00:00.000000000",
          "2025-05-15T00:00:00.000000000",
          "2025-05-16T00:00:00.000000000",
          "2025-05-17T00:00:00.000000000",
          "2025-05-18T00:00:00.000000000",
          "2025-05-19T00:00:00.000000000",
          "2025-05-20T00:00:00.000000000",
          "2025-05-21T00:00:00.000000000",
          "2025-05-22T00:00:00.000000000",
          "2025-05-23T00:00:00.000000000",
          "2025-05-24T00:00:00.000000000",
          "2025-05-25T00:00:00.000000000",
          "2025-05-26T00:00:00.000000000",
          "2025-05-27T00:00:00.000000000",
          "2025-05-28T00:00:00.000000000",
          "2025-05-29T00:00:00.000000000",
          "2025-05-30T00:00:00.000000000",
          "2025-05-31T00:00:00.000000000",
          "2025-06-01T00:00:00.000000000",
          "2025-06-02T00:00:00.000000000",
          "2025-06-03T00:00:00.000000000",
          "2025-06-04T00:00:00.000000000",
          "2025-06-05T00:00:00.000000000",
          "2025-06-06T00:00:00.000000000",
          "2025-06-07T00:00:00.000000000",
          "2025-06-08T00:00:00.000000000",
          "2025-06-09T00:00:00.000000000",
          "2025-06-10T00:00:00.000000000",
          "2025-06-11T00:00:00.000000000",
          "2025-06-12T00:00:00.000000000",
          "2025-06-13T00:00:00.000000000",
          "2025-06-14T00:00:00.000000000",
          "2025-06-15T00:00:00.000000000",
          "2025-06-16T00:00:00.000000000",
          "2025-06-17T00:00:00.000000000",
          "2025-06-18T00:00:00.000000000",
          "2025-06-19T00:00:00.000000000",
          "2025-06-20T00:00:00.000000000",
          "2025-06-21T00:00:00.000000000",
          "2025-06-22T00:00:00.000000000",
          "2025-06-23T00:00:00.000000000",
          "2025-06-24T00:00:00.000000000",
          "2025-06-25T00:00:00.000000000",
          "2025-06-26T00:00:00.000000000",
          "2025-06-27T00:00:00.000000000",
          "2025-06-28T00:00:00.000000000",
          "2025-06-29T00:00:00.000000000",
          "2025-06-30T00:00:00.000000000",
          "2025-07-01T00:00:00.000000000",
          "2025-07-02T00:00:00.000000000",
          "2025-07-03T00:00:00.000000000",
          "2025-07-04T00:00:00.000000000",
          "2025-07-05T00:00:00.000000000",
          "2025-07-06T00:00:00.000000000",
          "2025-07-07T00:00:00.000000000",
          "2025-07-08T00:00:00.000000000",
          "2025-07-09T00:00:00.000000000",
          "2025-07-10T00:00:00.000000000",
          "2025-07-11T00:00:00.000000000",
          "2025-07-12T00:00:00.000000000",
          "2025-07-13T00:00:00.000000000",
          "2025-07-14T00:00:00.000000000",
          "2025-07-15T00:00:00.000000000",
          "2025-07-16T00:00:00.000000000",
          "2025-07-17T00:00:00.000000000",
          "2025-07-18T00:00:00.000000000",
          "2025-07-19T00:00:00.000000000",
          "2025-07-20T00:00:00.000000000",
          "2025-07-21T00:00:00.000000000",
          "2025-07-22T00:00:00.000000000",
          "2025-07-23T00:00:00.000000000",
          "2025-07-24T00:00:00.000000000",
          "2025-07-25T00:00:00.000000000",
          "2025-07-26T00:00:00.000000000",
          "2025-07-27T00:00:00.000000000",
          "2025-07-28T00:00:00.000000000",
          "2025-07-29T00:00:00.000000000",
          "2025-07-30T00:00:00.000000000",
          "2025-07-31T00:00:00.000000000",
          "2025-08-01T00:00:00.000000000",
          "2025-08-02T00:00:00.000000000",
          "2025-08-03T00:00:00.000000000",
          "2025-08-04T00:00:00.000000000",
          "2025-08-05T00:00:00.000000000",
          "2025-08-06T00:00:00.000000000",
          "2025-08-07T00:00:00.000000000",
          "2025-08-08T00:00:00.000000000",
          "2025-08-09T00:00:00.000000000",
          "2025-08-10T00:00:00.000000000",
          "2025-08-11T00:00:00.000000000",
          "2025-08-12T00:00:00.000000000",
          "2025-08-13T00:00:00.000000000",
          "2025-08-14T00:00:00.000000000",
          "2025-08-15T00:00:00.000000000",
          "2025-08-16T00:00:00.000000000",
          "2025-08-17T00:00:00.000000000",
          "2025-08-18T00:00:00.000000000",
          "2025-08-19T00:00:00.000000000",
          "2025-08-20T00:00:00.000000000",
          "2025-08-21T00:00:00.000000000",
          "2025-08-22T00:00:00.000000000",
          "2025-08-23T00:00:00.000000000",
          "2025-08-24T00:00:00.000000000",
          "2025-08-25T00:00:00.000000000",
          "2025-08-26T00:00:00.000000000",
          "2025-08-27T00:00:00.000000000",
          "2025-08-28T00:00:00.000000000"
         ],
         "y": {
          "dtype": "f8",
          "bdata": "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"
         },
         "type": "scatter",
         "xaxis": "x2",
         "yaxis": "y2"
        },
        {
         "marker": {
          "color": "lightblue"
         },
         "name": "Returns",
         "nbinsx": 30,
         "opacity": 0.7,
         "x": {
          "dtype": "f8",
          "bdata": "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"
         },
         "type": "histogram",
         "xaxis": "x3",
         "yaxis": "y3"
        },
        {
         "line": {
          "color": "purple",
          "width": 2
         },
         "mode": "lines",
         "name": "30-Day Rolling Sharpe",
         "x": [
          "2024-10-28T00:00:00.000000000",
          "2024-10-29T00:00:00.000000000",
          "2024-10-30T00:00:00.000000000",
          "2024-10-31T00:00:00.000000000",
          "2024-11-01T00:00:00.000000000",
          "2024-11-02T00:00:00.000000000",
          "2024-11-03T00:00:00.000000000",
          "2024-11-04T00:00:00.000000000",
          "2024-11-05T00:00:00.000000000",
          "2024-11-06T00:00:00.000000000",
          "2024-11-07T00:00:00.000000000",
          "2024-11-08T00:00:00.000000000",
          "2024-11-09T00:00:00.000000000",
          "2024-11-10T00:00:00.000000000",
          "2024-11-11T00:00:00.000000000",
          "2024-11-12T00:00:00.000000000",
          "2024-11-13T00:00:00.000000000",
          "2024-11-14T00:00:00.000000000",
          "2024-11-15T00:00:00.000000000",
          "2024-11-16T00:00:00.000000000",
          "2024-11-17T00:00:00.000000000",
          "2024-11-18T00:00:00.000000000",
          "2024-11-19T00:00:00.000000000",
          "2024-11-20T00:00:00.000000000",
          "2024-11-21T00:00:00.000000000",
          "2024-11-22T00:00:00.000000000",
          "2024-11-23T00:00:00.000000000",
          "2024-11-24T00:00:00.000000000",
          "2024-11-25T00:00:00.000000000",
          "2024-11-26T00:00:00.000000000",
          "2024-11-27T00:00:00.000000000",
          "2024-11-28T00:00:00.000000000",
          "2024-11-29T00:00:00.000000000",
          "2024-11-30T00:00:00.000000000",
          "2024-12-01T00:00:00.000000000",
          "2024-12-02T00:00:00.000000000",
          "2024-12-03T00:00:00.000000000",
          "2024-12-04T00:00:00.000000000",
          "2024-12-05T00:00:00.000000000",
          "2024-12-06T00:00:00.000000000",
          "2024-12-07T00:00:00.000000000",
          "2024-12-08T00:00:00.000000000",
          "2024-12-09T00:00:00.000000000",
          "2024-12-10T00:00:00.000000000",
          "2024-12-11T00:00:00.000000000",
          "2024-12-12T00:00:00.000000000",
          "2024-12-13T00:00:00.000000000",
          "2024-12-14T00:00:00.000000000",
          "2024-12-15T00:00:00.000000000",
          "2024-12-16T00:00:00.000000000",
          "2024-12-17T00:00:00.000000000",
          "2024-12-18T00:00:00.000000000",
          "2024-12-19T00:00:00.000000000",
          "2024-12-20T00:00:00.000000000",
          "2024-12-21T00:00:00.000000000",
          "2024-12-22T00:00:00.000000000",
          "2024-12-23T00:00:00.000000000",
          "2024-12-24T00:00:00.000000000",
          "2024-12-25T00:00:00.000000000",
          "2024-12-26T00:00:00.000000000",
          "2024-12-27T00:00:00.000000000",
          "2024-12-28T00:00:00.000000000",
          "2024-12-29T00:00:00.000000000",
          "2024-12-30T00:00:00.000000000",
          "2024-12-31T00:00:00.000000000",
          "2025-01-01T00:00:00.000000000",
          "2025-01-02T00:00:00.000000000",
          "2025-01-03T00:00:00.000000000",
          "2025-01-04T00:00:00.000000000",
          "2025-01-05T00:00:00.000000000",
          "2025-01-06T00:00:00.000000000",
          "2025-01-07T00:00:00.000000000",
          "2025-01-08T00:00:00.000000000",
          "2025-01-09T00:00:00.000000000",
          "2025-01-10T00:00:00.000000000",
          "2025-01-11T00:00:00.000000000",
          "2025-01-12T00:00:00.000000000",
          "2025-01-13T00:00:00.000000000",
          "2025-01-14T00:00:00.000000000",
          "2025-01-15T00:00:00.000000000",
          "2025-01-16T00:00:00.000000000",
          "2025-01-17T00:00:00.000000000",
          "2025-01-18T00:00:00.000000000",
          "2025-01-19T00:00:00.000000000",
          "2025-01-20T00:00:00.000000000",
          "2025-01-21T00:00:00.000000000",
          "2025-01-22T00:00:00.000000000",
          "2025-01-23T00:00:00.000000000",
          "2025-01-24T00:00:00.000000000",
          "2025-01-25T00:00:00.000000000",
          "2025-01-26T00:00:00.000000000",
          "2025-01-27T00:00:00.000000000",
          "2025-01-28T00:00:00.000000000",
          "2025-01-29T00:00:00.000000000",
          "2025-01-30T00:00:00.000000000",
          "2025-01-31T00:00:00.000000000",
          "2025-02-01T00:00:00.000000000",
          "2025-02-02T00:00:00.000000000",
          "2025-02-03T00:00:00.000000000",
          "2025-02-04T00:00:00.000000000",
          "2025-02-05T00:00:00.000000000",
          "2025-02-06T00:00:00.000000000",
          "2025-02-07T00:00:00.000000000",
          "2025-02-08T00:00:00.000000000",
          "2025-02-09T00:00:00.000000000",
          "2025-02-10T00:00:00.000000000",
          "2025-02-11T00:00:00.000000000",
          "2025-02-12T00:00:00.000000000",
          "2025-02-13T00:00:00.000000000",
          "2025-02-14T00:00:00.000000000",
          "2025-02-15T00:00:00.000000000",
          "2025-02-16T00:00:00.000000000",
          "2025-02-17T00:00:00.000000000",
          "2025-02-18T00:00:00.000000000",
          "2025-02-19T00:00:00.000000000",
          "2025-02-20T00:00:00.000000000",
          "2025-02-21T00:00:00.000000000",
          "2025-02-22T00:00:00.000000000",
          "2025-02-23T00:00:00.000000000",
          "2025-02-24T00:00:00.000000000",
          "2025-02-25T00:00:00.000000000",
          "2025-02-26T00:00:00.000000000",
          "2025-02-27T00:00:00.000000000",
          "2025-02-28T00:00:00.000000000",
          "2025-03-01T00:00:00.000000000",
          "2025-03-02T00:00:00.000000000",
          "2025-03-03T00:00:00.000000000",
          "2025-03-04T00:00:00.000000000",
          "2025-03-05T00:00:00.000000000",
          "2025-03-06T00:00:00.000000000",
          "2025-03-07T00:00:00.000000000",
          "2025-03-08T00:00:00.000000000",
          "2025-03-09T00:00:00.000000000",
          "2025-03-10T00:00:00.000000000",
          "2025-03-11T00:00:00.000000000",
          "2025-03-12T00:00:00.000000000",
          "2025-03-13T00:00:00.000000000",
          "2025-03-14T00:00:00.000000000",
          "2025-03-15T00:00:00.000000000",
          "2025-03-16T00:00:00.000000000",
          "2025-03-17T00:00:00.000000000",
          "2025-03-18T00:00:00.000000000",
          "2025-03-19T00:00:00.000000000",
          "2025-03-20T00:00:00.000000000",
          "2025-03-21T00:00:00.000000000",
          "2025-03-22T00:00:00.000000000",
          "2025-03-23T00:00:00.000000000",
          "2025-03-24T00:00:00.000000000",
          "2025-03-25T00:00:00.000000000",
          "2025-03-26T00:00:00.000000000",
          "2025-03-27T00:00:00.000000000",
          "2025-03-28T00:00:00.000000000",
          "2025-03-29T00:00:00.000000000",
          "2025-03-30T00:00:00.000000000",
          "2025-03-31T00:00:00.000000000",
          "2025-04-01T00:00:00.000000000",
          "2025-04-02T00:00:00.000000000",
          "2025-04-03T00:00:00.000000000",
          "2025-04-04T00:00:00.000000000",
          "2025-04-05T00:00:00.000000000",
          "2025-04-06T00:00:00.000000000",
          "2025-04-07T00:00:00.000000000",
          "2025-04-08T00:00:00.000000000",
          "2025-04-09T00:00:00.000000000",
          "2025-04-10T00:00:00.000000000",
          "2025-04-11T00:00:00.000000000",
          "2025-04-12T00:00:00.000000000",
          "2025-04-13T00:00:00.000000000",
          "2025-04-14T00:00:00.000000000",
          "2025-04-15T00:00:00.000000000",
          "2025-04-16T00:00:00.000000000",
          "2025-04-17T00:00:00.000000000",
          "2025-04-18T00:00:00.000000000",
          "2025-04-19T00:00:00.000000000",
          "2025-04-20T00:00:00.000000000",
          "2025-04-21T00:00:00.000000000",
          "2025-04-22T00:00:00.000000000",
          "2025-04-23T00:00:00.000000000",
          "2025-04-24T00:00:00.000000000",
          "2025-04-25T00:00:00.000000000",
          "2025-04-26T00:00:00.000000000",
          "2025-04-27T00:00:00.000000000",
          "2025-04-28T00:00:00.000000000",
          "2025-04-29T00:00:00.000000000",
          "2025-04-30T00:00:00.000000000",
          "2025-05-01T00:00:00.000000000",
          "2025-05-02T00:00:00.000000000",
          "2025-05-03T00:00:00.000000000",
          "2025-05-04T00:00:00.000000000",
          "2025-05-05T00:00:00.000000000",
          "2025-05-06T00:00:00.000000000",
          "2025-05-07T00:00:00.000000000",
          "2025-05-08T00:00:00.000000000",
          "2025-05-09T00:00:00.000000000",
          "2025-05-10T00:00:00.000000000",
          "2025-05-11T00:00:00.000000000",
          "2025-05-12T00:00:00.000000000",
          "2025-05-13T00:00:00.000000000",
          "2025-05-14T00:00:00.000000000",
          "2025-05-15T00:00:00.000000000",
          "2025-05-16T00:00:00.000000000",
          "2025-05-17T00:00:00.000000000",
          "2025-05-18T00:00:00.000000000",
          "2025-05-19T00:00:00.000000000",
          "2025-05-20T00:00:00.000000000",
          "2025-05-21T00:00:00.000000000",
          "2025-05-22T00:00:00.000000000",
          "2025-05-23T00:00:00.000000000",
          "2025-05-24T00:00:00.000000000",
          "2025-05-25T00:00:00.000000000",
          "2025-05-26T00:00:00.000000000",
          "2025-05-27T00:00:00.000000000",
          "2025-05-28T00:00:00.000000000",
          "2025-05-29T00:00:00.000000000",
          "2025-05-30T00:00:00.000000000",
          "2025-05-31T00:00:00.000000000",
          "2025-06-01T00:00:00.000000000",
          "2025-06-02T00:00:00.000000000",
          "2025-06-03T00:00:00.000000000",
          "2025-06-04T00:00:00.000000000",
          "2025-06-05T00:00:00.000000000",
          "2025-06-06T00:00:00.000000000",
          "2025-06-07T00:00:00.000000000",
          "2025-06-08T00:00:00.000000000",
          "2025-06-09T00:00:00.000000000",
          "2025-06-10T00:00:00.000000000",
          "2025-06-11T00:00:00.000000000",
          "2025-06-12T00:00:00.000000000",
          "2025-06-13T00:00:00.000000000",
          "2025-06-14T00:00:00.000000000",
          "2025-06-15T00:00:00.000000000",
          "2025-06-16T00:00:00.000000000",
          "2025-06-17T00:00:00.000000000",
          "2025-06-18T00:00:00.000000000",
          "2025-06-19T00:00:00.000000000",
          "2025-06-20T00:00:00.000000000",
          "2025-06-21T00:00:00.000000000",
          "2025-06-22T00:00:00.000000000",
          "2025-06-23T00:00:00.000000000",
          "2025-06-24T00:00:00.000000000",
          "2025-06-25T00:00:00.000000000",
          "2025-06-26T00:00:00.000000000",
          "2025-06-27T00:00:00.000000000",
          "2025-06-28T00:00:00.000000000",
          "2025-06-29T00:00:00.000000000",
          "2025-06-30T00:00:00.000000000",
          "2025-07-01T00:00:00.000000000",
          "2025-07-02T00:00:00.000000000",
          "2025-07-03T00:00:00.000000000",
          "2025-07-04T00:00:00.000000000",
          "2025-07-05T00:00:00.000000000",
          "2025-07-06T00:00:00.000000000",
          "2025-07-07T00:00:00.000000000",
          "2025-07-08T00:00:00.000000000",
          "2025-07-09T00:00:00.000000000",
          "2025-07-10T00:00:00.000000000",
          "2025-07-11T00:00:00.000000000",
          "2025-07-12T00:00:00.000000000",
          "2025-07-13T00:00:00.000000000",
          "2025-07-14T00:00:00.000000000",
          "2025-07-15T00:00:00.000000000",
          "2025-07-16T00:00:00.000000000",
          "2025-07-17T00:00:00.000000000",
          "2025-07-18T00:00:00.000000000",
          "2025-07-19T00:00:00.000000000",
          "2025-07-20T00:00:00.000000000",
          "2025-07-21T00:00:00.000000000",
          "2025-07-22T00:00:00.000000000",
          "2025-07-23T00:00:00.000000000",
          "2025-07-24T00:00:00.000000000",
          "2025-07-25T00:00:00.000000000",
          "2025-07-26T00:00:00.000000000",
          "2025-07-27T00:00:00.000000000",
          "2025-07-28T00:00:00.000000000",
          "2025-07-29T00:00:00.000000000",
          "2025-07-30T00:00:00.000000000",
          "2025-07-31T00:00:00.000000000",
          "2025-08-01T00:00:00.000000000",
          "2025-08-02T00:00:00.000000000",
          "2025-08-03T00:00:00.000000000",
          "2025-08-04T00:00:00.000000000",
          "2025-08-05T00:00:00.000000000",
          "2025-08-06T00:00:00.000000000",
          "2025-08-07T00:00:00.000000000",
          "2025-08-08T00:00:00.000000000",
          "2025-08-09T00:00:00.000000000",
          "2025-08-10T00:00:00.000000000",
          "2025-08-11T00:00:00.000000000",
          "2025-08-12T00:00:00.000000000",
          "2025-08-13T00:00:00.000000000",
          "2025-08-14T00:00:00.000000000",
          "2025-08-15T00:00:00.000000000",
          "2025-08-16T00:00:00.000000000",
          "2025-08-17T00:00:00.000000000",
          "2025-08-18T00:00:00.000000000",
          "2025-08-19T00:00:00.000000000",
          "2025-08-20T00:00:00.000000000",
          "2025-08-21T00:00:00.000000000",
          "2025-08-22T00:00:00.000000000",
          "2025-08-23T00:00:00.000000000",
          "2025-08-24T00:00:00.000000000",
          "2025-08-25T00:00:00.000000000",
          "2025-08-26T00:00:00.000000000",
          "2025-08-27T00:00:00.000000000",
          "2025-08-28T00:00:00.000000000"
         ],
         "y": {
          "dtype": "f8",
          "bdata": "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"
         },
         "type": "scatter",
         "xaxis": "x4",
         "yaxis": "y4"
        }
       ],
       "layout": {
        "template": {
         "data": {
          "histogram2dcontour": [
           {
            "type": "histogram2dcontour",
            "colorbar": {
             "outlinewidth": 0,
             "ticks": ""
            },
            "colorscale": [
             [
              0.0,
              "#0d0887"
             ],
             [
              0.1111111111111111,
              "#46039f"
             ],
             [
              0.2222222222222222,
              "#7201a8"
             ],
             [
              0.3333333333333333,
              "#9c179e"
             ],
             [
              0.4444444444444444,
              "#bd3786"
             ],
             [
              0.5555555555555556,
              "#d8576b"
             ],
             [
              0.6666666666666666,
              "#ed7953"
             ],
             [
              0.7777777777777778,
              "#fb9f3a"
             ],
             [
              0.8888888888888888,
              "#fdca26"
             ],
             [
              1.0,
              "#f0f921"
             ]
            ]
           }
          ],
          "choropleth": [
           {
            "type": "choropleth",
            "colorbar": {
             "outlinewidth": 0,
             "ticks": ""
            }
           }
          ],
          "histogram2d": [
           {
            "type": "histogram2d",
            "colorbar": {
             "outlinewidth": 0,
             "ticks": ""
            },
            "colorscale": [
             [
              0.0,
              "#0d0887"
             ],
             [
              0.1111111111111111,
              "#46039f"
             ],
             [
              0.2222222222222222,
              "#7201a8"
             ],
             [
              0.3333333333333333,
              "#9c179e"
             ],
             [
              0.4444444444444444,
              "#bd3786"
             ],
             [
              0.5555555555555556,
              "#d8576b"
             ],
             [
              0.6666666666666666,
              "#ed7953"
             ],
             [
              0.7777777777777778,
              "#fb9f3a"
             ],
             [
              0.8888888888888888,
              "#fdca26"
             ],
             [
              1.0,
              "#f0f921"
             ]
            ]
           }
          ],
          "heatmap": [
           {
            "type": "heatmap",
            "colorbar": {
             "outlinewidth": 0,
             "ticks": ""
            },
            "colorscale": [
             [
              0.0,
              "#0d0887"
             ],
             [
              0.1111111111111111,
              "#46039f"
             ],
             [
              0.2222222222222222,
              "#7201a8"
             ],
             [
              0.3333333333333333,
              "#9c179e"
             ],
             [
              0.4444444444444444,
              "#bd3786"
             ],
             [
              0.5555555555555556,
              "#d8576b"
             ],
             [
              0.6666666666666666,
              "#ed7953"
             ],
             [
              0.7777777777777778,
              "#fb9f3a"
             ],
             [
              0.8888888888888888,
              "#fdca26"
             ],
             [
              1.0,
              "#f0f921"
             ]
            ]
           }
          ],
          "contourcarpet": [
           {
            "type": "contourcarpet",
            "colorbar": {
             "outlinewidth": 0,
             "ticks": ""
            }
           }
          ],
          "contour": [
           {
            "type": "contour",
            "colorbar": {
             "outlinewidth": 0,
             "ticks": ""
            },
            "colorscale": [
             [
              0.0,
              "#0d0887"
             ],
             [
              0.1111111111111111,
              "#46039f"
             ],
             [
              0.2222222222222222,
              "#7201a8"
             ],
             [
              0.3333333333333333,
              "#9c179e"
             ],
             [
              0.4444444444444444,
              "#bd3786"
             ],
             [
              0.5555555555555556,
              "#d8576b"
             ],
             [
              0.6666666666666666,
              "#ed7953"
             ],
             [
              0.7777777777777778,
              "#fb9f3a"
             ],
             [
              0.8888888888888888,
              "#fdca26"
             ],
             [
              1.0,
              "#f0f921"
             ]
            ]
           }
          ],
          "surface": [
           {
            "type": "surface",
            "colorbar": {
             "outlinewidth": 0,
             "ticks": ""
            },
            "colorscale": [
             [
              0.0,
              "#0d0887"
             ],
             [
              0.1111111111111111,
              "#46039f"
             ],
             [
              0.2222222222222222,
              "#7201a8"
             ],
             [
              0.3333333333333333,
              "#9c179e"
             ],
             [
              0.4444444444444444,
              "#bd3786"
             ],
             [
              0.5555555555555556,
              "#d8576b"
             ],
             [
              0.6666666666666666,
              "#ed7953"
             ],
             [
              0.7777777777777778,
              "#fb9f3a"
             ],
             [
              0.8888888888888888,
              "#fdca26"
             ],
             [
              1.0,
              "#f0f921"
             ]
            ]
           }
          ],
          "mesh3d": [
           {
            "type": "mesh3d",
            "colorbar": {
             "outlinewidth": 0,
             "ticks": ""
            }
           }
          ],
          "scatter": [
           {
            "fillpattern": {
             "fillmode": "overlay",
             "size": 10,
             "solidity": 0.2
            },
            "type": "scatter"
           }
          ],
          "parcoords": [
           {
            "type": "parcoords",
            "line": {
             "colorbar": {
              "outlinewidth": 0,
              "ticks": ""
             }
            }
           }
          ],
          "scatterpolargl": [
           {
            "type": "scatterpolargl",
            "marker": {
             "colorbar": {
              "outlinewidth": 0,
              "ticks": ""
             }
            }
           }
          ],
          "bar": [
           {
            "error_x": {
             "color": "#2a3f5f"
            },
            "error_y": {
             "color": "#2a3f5f"
            },
            "marker": {
             "line": {
              "color": "white",
              "width": 0.5
             },
             "pattern": {
              "fillmode": "overlay",
              "size": 10,
              "solidity": 0.2
             }
            },
            "type": "bar"
           }
          ],
          "scattergeo": [
           {
            "type": "scattergeo",
            "marker": {
             "colorbar": {
              "outlinewidth": 0,
              "ticks": ""
             }
            }
           }
          ],
          "scatterpolar": [
           {
            "type": "scatterpolar",
            "marker": {
             "colorbar": {
              "outlinewidth": 0,
              "ticks": ""
             }
            }
           }
          ],
          "histogram": [
           {
            "marker": {
             "pattern": {
              "fillmode": "overlay",
              "size": 10,
              "solidity": 0.2
             }
            },
            "type": "histogram"
           }
          ],
          "scattergl": [
           {
            "type": "scattergl",
            "marker": {
             "colorbar": {
              "outlinewidth": 0,
              "ticks": ""
             }
            }
           }
          ],
          "scatter3d": [
           {
            "type": "scatter3d",
            "line": {
             "colorbar": {
              "outlinewidth": 0,
              "ticks": ""
             }
            },
            "marker": {
             "colorbar": {
              "outlinewidth": 0,
              "ticks": ""
             }
            }
           }
          ],
          "scattermap": [
           {
            "type": "scattermap",
            "marker": {
             "colorbar": {
              "outlinewidth": 0,
              "ticks": ""
             }
            }
           }
          ],
          "scattermapbox": [
           {
            "type": "scattermapbox",
            "marker": {
             "colorbar": {
              "outlinewidth": 0,
              "ticks": ""
             }
            }
           }
          ],
          "scatterternary": [
           {
            "type": "scatterternary",
            "marker": {
             "colorbar": {
              "outlinewidth": 0,
              "ticks": ""
             }
            }
           }
          ],
          "scattercarpet": [
           {
            "type": "scattercarpet",
            "marker": {
             "colorbar": {
              "outlinewidth": 0,
              "ticks": ""
             }
            }
           }
          ],
          "carpet": [
           {
            "aaxis": {
             "endlinecolor": "#2a3f5f",
             "gridcolor": "#C8D4E3",
             "linecolor": "#C8D4E3",
             "minorgridcolor": "#C8D4E3",
             "startlinecolor": "#2a3f5f"
            },
            "baxis": {
             "endlinecolor": "#2a3f5f",
             "gridcolor": "#C8D4E3",
             "linecolor": "#C8D4E3",
             "minorgridcolor": "#C8D4E3",
             "startlinecolor": "#2a3f5f"
            },
            "type": "carpet"
           }
          ],
          "table": [
           {
            "cells": {
             "fill": {
              "color": "#EBF0F8"
             },
             "line": {
              "color": "white"
             }
            },
            "header": {
             "fill": {
              "color": "#C8D4E3"
             },
             "line": {
              "color": "white"
             }
            },
            "type": "table"
           }
          ],
          "barpolar": [
           {
            "marker": {
             "line": {
              "color": "white",
              "width": 0.5
             },
             "pattern": {
              "fillmode": "overlay",
              "size": 10,
              "solidity": 0.2
             }
            },
            "type": "barpolar"
           }
          ],
          "pie": [
           {
            "automargin": true,
            "type": "pie"
           }
          ]
         },
         "layout": {
          "autotypenumbers": "strict",
          "colorway": [
           "#636efa",
           "#EF553B",
           "#00cc96",
           "#ab63fa",
           "#FFA15A",
           "#19d3f3",
           "#FF6692",
           "#B6E880",
           "#FF97FF",
           "#FECB52"
          ],
          "font": {
           "color": "#2a3f5f"
          },
          "hovermode": "closest",
          "hoverlabel": {
           "align": "left"
          },
          "paper_bgcolor": "white",
          "plot_bgcolor": "white",
          "polar": {
           "bgcolor": "white",
           "angularaxis": {
            "gridcolor": "#EBF0F8",
            "linecolor": "#EBF0F8",
            "ticks": ""
           },
           "radialaxis": {
            "gridcolor": "#EBF0F8",
            "linecolor": "#EBF0F8",
            "ticks": ""
           }
          },
          "ternary": {
           "bgcolor": "white",
           "aaxis": {
            "gridcolor": "#DFE8F3",
            "linecolor": "#A2B1C6",
            "ticks": ""
           },
           "baxis": {
            "gridcolor": "#DFE8F3",
            "linecolor": "#A2B1C6",
            "ticks": ""
           },
           "caxis": {
            "gridcolor": "#DFE8F3",
            "linecolor": "#A2B1C6",
            "ticks": ""
           }
          },
          "coloraxis": {
           "colorbar": {
            "outlinewidth": 0,
            "ticks": ""
           }
          },
          "colorscale": {
           "sequential": [
            [
             0.0,
             "#0d0887"
            ],
            [
             0.1111111111111111,
             "#46039f"
            ],
            [
             0.2222222222222222,
             "#7201a8"
            ],
            [
             0.3333333333333333,
             "#9c179e"
            ],
            [
             0.4444444444444444,
             "#bd3786"
            ],
            [
             0.5555555555555556,
             "#d8576b"
            ],
            [
             0.6666666666666666,
             "#ed7953"
            ],
            [
             0.7777777777777778,
             "#fb9f3a"
            ],
            [
             0.8888888888888888,
             "#fdca26"
            ],
            [
             1.0,
             "#f0f921"
            ]
           ],
           "sequentialminus": [
            [
             0.0,
             "#0d0887"
            ],
            [
             0.1111111111111111,
             "#46039f"
            ],
            [
             0.2222222222222222,
             "#7201a8"
            ],
            [
             0.3333333333333333,
             "#9c179e"
            ],
            [
             0.4444444444444444,
             "#bd3786"
            ],
            [
             0.5555555555555556,
             "#d8576b"
            ],
            [
             0.6666666666666666,
             "#ed7953"
            ],
            [
             0.7777777777777778,
             "#fb9f3a"
            ],
            [
             0.8888888888888888,
             "#fdca26"
            ],
            [
             1.0,
             "#f0f921"
            ]
           ],
           "diverging": [
            [
             0,
             "#8e0152"
            ],
            [
             0.1,
             "#c51b7d"
            ],
            [
             0.2,
             "#de77ae"
            ],
            [
             0.3,
             "#f1b6da"
            ],
            [
             0.4,
             "#fde0ef"
            ],
            [
             0.5,
             "#f7f7f7"
            ],
            [
             0.6,
             "#e6f5d0"
            ],
            [
             0.7,
             "#b8e186"
            ],
            [
             0.8,
             "#7fbc41"
            ],
            [
             0.9,
             "#4d9221"
            ],
            [
             1,
             "#276419"
            ]
           ]
          },
          "xaxis": {
           "gridcolor": "#EBF0F8",
           "linecolor": "#EBF0F8",
           "ticks": "",
           "title": {
            "standoff": 15
           },
           "zerolinecolor": "#EBF0F8",
           "automargin": true,
           "zerolinewidth": 2
          },
          "yaxis": {
           "gridcolor": "#EBF0F8",
           "linecolor": "#EBF0F8",
           "ticks": "",
           "title": {
            "standoff": 15
           },
           "zerolinecolor": "#EBF0F8",
           "automargin": true,
           "zerolinewidth": 2
          },
          "scene": {
           "xaxis": {
            "backgroundcolor": "white",
            "gridcolor": "#DFE8F3",
            "linecolor": "#EBF0F8",
            "showbackground": true,
            "ticks": "",
            "zerolinecolor": "#EBF0F8",
            "gridwidth": 2
           },
           "yaxis": {
            "backgroundcolor": "white",
            "gridcolor": "#DFE8F3",
            "linecolor": "#EBF0F8",
            "showbackground": true,
            "ticks": "",
            "zerolinecolor": "#EBF0F8",
            "gridwidth": 2
           },
           "zaxis": {
            "backgroundcolor": "white",
            "gridcolor": "#DFE8F3",
            "linecolor": "#EBF0F8",
            "showbackground": true,
            "ticks": "",
            "zerolinecolor": "#EBF0F8",
            "gridwidth": 2
           }
          },
          "shapedefaults": {
           "line": {
            "color": "#2a3f5f"
           }
          },
          "annotationdefaults": {
           "arrowcolor": "#2a3f5f",
           "arrowhead": 0,
           "arrowwidth": 1
          },
          "geo": {
           "bgcolor": "white",
           "landcolor": "white",
           "subunitcolor": "#C8D4E3",
           "showland": true,
           "showlakes": true,
           "lakecolor": "white"
          },
          "title": {
           "x": 0.05
          },
          "mapbox": {
           "style": "light"
          }
         }
        },
        "xaxis": {
         "anchor": "y",
         "domain": [
          0.0,
          0.45
         ],
         "title": {
          "text": "Date"
         }
        },
        "yaxis": {
         "anchor": "x",
         "domain": [
          0.625,
          1.0
         ],
         "title": {
          "text": "Portfolio Value ($)"
         }
        },
        "xaxis2": {
         "anchor": "y2",
         "domain": [
          0.55,
          1.0
         ],
         "title": {
          "text": "Date"
         }
        },
        "yaxis2": {
         "anchor": "x2",
         "domain": [
          0.625,
          1.0
         ],
         "title": {
          "text": "Drawdown (%)"
         }
        },
        "xaxis3": {
         "anchor": "y3",
         "domain": [
          0.0,
          0.45
         ],
         "title": {
          "text": "Return (%)"
         }
        },
        "yaxis3": {
         "anchor": "x3",
         "domain": [
          0.0,
          0.375
         ],
         "title": {
          "text": "Frequency"
         }
        },
        "xaxis4": {
         "anchor": "y4",
         "domain": [
          0.55,
          1.0
         ],
         "title": {
          "text": "Date"
         }
        },
        "yaxis4": {
         "anchor": "x4",
         "domain": [
          0.0,
          0.375
         ],
         "title": {
          "text": "Rolling Sharpe"
         }
        },
        "annotations": [
         {
          "font": {
           "size": 16
          },
          "showarrow": false,
          "text": "Portfolio Equity Curve",
          "x": 0.225,
          "xanchor": "center",
          "xref": "paper",
          "y": 1.0,
          "yanchor": "bottom",
          "yref": "paper"
         },
         {
          "font": {
           "size": 16
          },
          "showarrow": false,
          "text": "Drawdown Analysis",
          "x": 0.775,
          "xanchor": "center",
          "xref": "paper",
          "y": 1.0,
          "yanchor": "bottom",
          "yref": "paper"
         },
         {
          "font": {
           "size": 16
          },
          "showarrow": false,
          "text": "Returns Distribution",
          "x": 0.225,
          "xanchor": "center",
          "xref": "paper",
          "y": 0.375,
          "yanchor": "bottom",
          "yref": "paper"
         },
         {
          "font": {
           "size": 16
          },
          "showarrow": false,
          "text": "Rolling Sharpe Ratio",
          "x": 0.775,
          "xanchor": "center",
          "xref": "paper",
          "y": 0.375,
          "yanchor": "bottom",
          "yref": "paper"
         },
         {
          "showarrow": false,
          "text": "Initial Capital",
          "x": 1,
          "xanchor": "right",
          "xref": "x domain",
          "y": 100000,
          "yanchor": "bottom",
          "yref": "y"
         }
        ],
        "shapes": [
         {
          "line": {
           "color": "gray",
           "dash": "dash"
          },
          "type": "line",
          "x0": 0,
          "x1": 1,
          "xref": "x domain",
          "y0": 100000,
          "y1": 100000,
          "yref": "y"
         }
        ],
        "title": {
         "text": "Portfolio Performance Dashboard",
         "x": 0.5
        },
        "height": 600,
        "showlegend": true
       },
       "config": {
        "plotlyServerURL": "https://plot.ly"
       }
      }
     },
     "metadata": {},
     "output_type": "display_data"
    },
    {
     "name": "stdout",
     "output_type": "stream",
     "text": [
      "\n",
      "📊 PROFESSIONAL PORTFOLIO PERFORMANCE SUMMARY\n",
      "--------------------------------------------------\n",
      "Total Return:         54.35%\n",
      "Annualized Return:    38.75%\n",
      "Annualized Volatility: 24.21%\n",
      "Maximum Drawdown:     13.27%\n",
      "\n",
      "Sharpe Ratio:         1.437\n",
      "Risk-Free Rate:       0.04%\n",
      "Data Source:          Live Backtest Engine Results\n"
     ]
    }
   ],
   "execution_count": 38
  },
  {
   "cell_type": "code",
   "source": [
    "# Professional Trading Statistics\n",
    "if success and backtest_results and trades_df is not None and len(trades_df) > 0:\n",
    "    print(\"📊 TRADING STATISTICS\")\n",
    "    print(\"=\"*50)\n",
    "    \n",
    "    # Get equity curve data\n",
    "    equity_curve = backtest_results.get('equity_curve')\n",
    "    if equity_curve:\n",
    "        df = pd.DataFrame(equity_curve)\n",
    "        df['timestamp'] = pd.to_datetime(df['timestamp'])\n",
    "        \n",
    "        # Calculate daily returns\n",
    "        returns = df['portfolio_value'].pct_change().dropna()\n",
    "        daily_returns_pct = returns * 100\n",
    "        \n",
    "        # Calculate comprehensive trading statistics\n",
    "        \n",
    "        # 1. Basic Performance Metrics\n",
    "        total_return = backtest_results.get('total_return', 0)\n",
    "        annualized_return = backtest_results.get('annualized_return', 0) * 100\n",
    "        annualized_volatility = backtest_results.get('annualized_volatility', 0) * 100\n",
    "        sharpe_ratio = backtest_results.get('sharpe_ratio', 0)\n",
    "        final_value = backtest_results.get('final_value', 0)\n",
    "        initial_capital = backtest_results.get('initial_capital', 100000)\n",
    "        \n",
    "        # 2. Risk Metrics\n",
    "        max_drawdown = backtest_results.get('max_drawdown', 0)\n",
    "        running_max = df['portfolio_value'].expanding().max()\n",
    "        drawdown_series = (df['portfolio_value'] - running_max) / running_max * 100\n",
    "        \n",
    "        # Drawdown duration analysis\n",
    "        in_drawdown = drawdown_series < -0.01  # More than 0.01% drawdown\n",
    "        drawdown_periods = []\n",
    "        start_dd = None\n",
    "        for i, is_dd in enumerate(in_drawdown):\n",
    "            if is_dd and start_dd is None:\n",
    "                start_dd = i\n",
    "            elif not is_dd and start_dd is not None:\n",
    "                drawdown_periods.append(i - start_dd)\n",
    "                start_dd = None\n",
    "        if start_dd is not None:  # Still in drawdown at end\n",
    "            drawdown_periods.append(len(in_drawdown) - start_dd)\n",
    "        \n",
    "        avg_drawdown_duration = np.mean(drawdown_periods) if drawdown_periods else 0\n",
    "        max_drawdown_duration = max(drawdown_periods) if drawdown_periods else 0\n",
    "        \n",
    "        # Value at Risk (VaR) and Expected Shortfall (ES)\n",
    "        var_95 = np.percentile(daily_returns_pct, 5)  # 95% VaR (5th percentile)\n",
    "        var_99 = np.percentile(daily_returns_pct, 1)  # 99% VaR (1st percentile)\n",
    "        es_95 = daily_returns_pct[daily_returns_pct <= var_95].mean()  # Expected shortfall at 95%\n",
    "        \n",
    "        # 3. Trade Analysis Statistics\n",
    "        trades_df['entry_timestamp'] = pd.to_datetime(trades_df['entry_timestamp'])\n",
    "        trades_df['exit_timestamp'] = pd.to_datetime(trades_df['exit_timestamp'])\n",
    "        trades_df['hold_days'] = (trades_df['exit_timestamp'] - trades_df['entry_timestamp']).dt.days\n",
    "        \n",
    "        # Win/Loss Analysis\n",
    "        winning_trades = trades_df[trades_df['pnl'] > 0]\n",
    "        losing_trades = trades_df[trades_df['pnl'] < 0]\n",
    "        \n",
    "        win_rate = len(winning_trades) / len(trades_df) * 100\n",
    "        avg_win = winning_trades['pnl'].mean() if len(winning_trades) > 0 else 0\n",
    "        avg_loss = losing_trades['pnl'].mean() if len(losing_trades) > 0 else 0\n",
    "        largest_win = trades_df['pnl'].max()\n",
    "        largest_loss = trades_df['pnl'].min()\n",
    "        \n",
    "        # Profit Factor\n",
    "        total_gross_profit = winning_trades['pnl'].sum() if len(winning_trades) > 0 else 0\n",
    "        total_gross_loss = abs(losing_trades['pnl'].sum()) if len(losing_trades) > 0 else 1e-6\n",
    "        profit_factor = total_gross_profit / total_gross_loss if total_gross_loss > 0 else float('inf')\n",
    "        \n",
    "        # Expectancy and Kelly Criterion\n",
    "        expectancy = (win_rate/100 * avg_win) + ((100-win_rate)/100 * avg_loss)\n",
    "        if avg_loss != 0:\n",
    "            win_loss_ratio = abs(avg_win / avg_loss)\n",
    "            kelly_percent = (win_rate/100 - (100-win_rate)/100 / win_loss_ratio) * 100\n",
    "        else:\n",
    "            win_loss_ratio = float('inf')\n",
    "            kelly_percent = win_rate/100 * 100\n",
    "        \n",
    "        # 4. Advanced Performance Metrics\n",
    "        \n",
    "        # Sortino Ratio (downside deviation)\n",
    "        downside_returns = returns[returns < 0]\n",
    "        downside_deviation = np.sqrt(np.mean(downside_returns**2)) * np.sqrt(252)\n",
    "        risk_free_rate = backtest_results.get('risk_free_rate', 3.95) / 100\n",
    "        sortino_ratio = (annualized_return/100 - risk_free_rate) / downside_deviation if downside_deviation > 0 else 0\n",
    "        \n",
    "        # Calmar Ratio (return/max drawdown)\n",
    "        calmar_ratio = (annualized_return/100) / (abs(max_drawdown)/100) if max_drawdown != 0 else float('inf')\n",
    "        \n",
    "        # Information Ratio (if we had a benchmark, using 0 as benchmark)\n",
    "        tracking_error = returns.std() * np.sqrt(252)\n",
    "        information_ratio = (annualized_return/100) / tracking_error if tracking_error > 0 else 0\n",
    "        \n",
    "        # Maximum consecutive wins/losses\n",
    "        trade_results = (trades_df['pnl'] > 0).astype(int)  # 1 for win, 0 for loss\n",
    "        max_consecutive_wins = 0\n",
    "        max_consecutive_losses = 0\n",
    "        current_wins = 0\n",
    "        current_losses = 0\n",
    "        \n",
    "        for result in trade_results:\n",
    "            if result == 1:  # Win\n",
    "                current_wins += 1\n",
    "                current_losses = 0\n",
    "                max_consecutive_wins = max(max_consecutive_wins, current_wins)\n",
    "            else:  # Loss\n",
    "                current_losses += 1\n",
    "                current_wins = 0\n",
    "                max_consecutive_losses = max(max_consecutive_losses, current_losses)\n",
    "        \n",
    "        # Trade frequency analysis\n",
    "        total_days = (trades_df['exit_timestamp'].max() - trades_df['entry_timestamp'].min()).days\n",
    "        trades_per_month = len(trades_df) / (total_days / 30.44) if total_days > 0 else 0\n",
    "        avg_hold_time = trades_df['hold_days'].mean()\n",
    "        \n",
    "        # Display comprehensive statistics\n",
    "        print(\"\\n🎯 TRADING PERFORMANCE METRICS\")\n",
    "        print(\"-\" * 50)\n",
    "        print()\n",
    "        \n",
    "        print(\"📈 RETURN METRICS:\")\n",
    "        print(f\"   Total Return:        {total_return:.2f}%\")\n",
    "        print(f\"   Annualized Return:   {annualized_return:.2f}%\")\n",
    "        print(f\"   Annualized Volatility: {annualized_volatility:.2f}%\")\n",
    "        print(f\"   Sharpe Ratio:        {sharpe_ratio:.3f}\")\n",
    "        print(f\"   Final Value:         ${final_value:,.0f}\")\n",
    "        print()\n",
    "        \n",
    "        print(\"⚠️ RISK METRICS:\")\n",
    "        print(f\"   Maximum Drawdown:    {max_drawdown:.2f}%\")\n",
    "        print(f\"   VaR (95%):          {var_95:.2f}%\")\n",
    "        print(f\"   VaR (99%):          {var_99:.2f}%\")\n",
    "        print(f\"   Expected Shortfall:  {es_95:.2f}%\")\n",
    "        print(f\"   Avg DD Duration:     {avg_drawdown_duration:.1f} days\")\n",
    "        print()\n",
    "        \n",
    "        print(\"📊 ADVANCED RATIOS:\")\n",
    "        print(f\"   Sortino Ratio:       {sortino_ratio:.3f}\")\n",
    "        print(f\"   Calmar Ratio:        {calmar_ratio:.3f}\")\n",
    "        print(f\"   Information Ratio:   {information_ratio:.3f}\")\n",
    "        print(f\"   Profit Factor:       {profit_factor:.2f}\")\n",
    "        print(f\"   Kelly %:             {kelly_percent:.1f}%\")\n",
    "        print()\n",
    "        \n",
    "        print(\"💼 TRADE ANALYSIS:\")\n",
    "        print(f\"   Total Trades:        {len(trades_df)}\")\n",
    "        print(f\"   Win Rate:            {win_rate:.1f}%\")\n",
    "        print(f\"   Average Win:         ${avg_win:.0f}\")\n",
    "        print(f\"   Average Loss:        ${avg_loss:.0f}\")\n",
    "        print(f\"   Win/Loss Ratio:      {win_loss_ratio:.2f}\")\n",
    "        print(f\"   Expectancy:          ${expectancy:.0f}\")\n",
    "        print(f\"   Largest Win:         ${largest_win:.0f}\")\n",
    "        print(f\"   Largest Loss:        ${largest_loss:.0f}\")\n",
    "        print()\n",
    "        \n",
    "        print(\"⏱️ TRADING BEHAVIOR:\")\n",
    "        print(f\"   Avg Hold Time:       {avg_hold_time:.1f} days\")\n",
    "        print(f\"   Trades/Month:        {trades_per_month:.1f}\")\n",
    "        print(f\"   Max Consecutive Wins: {max_consecutive_wins}\")\n",
    "        print(f\"   Max Consecutive Losses: {max_consecutive_losses}\")\n",
    "        print(f\"   Total Trading Days:  {total_days}\")\n",
    "        print(f\"   Total P&L:           ${(final_value - initial_capital):,.0f}\")\n",
    "        print()\n",
    "        \n",
    "        print(\"🎯 KEY PERFORMANCE INSIGHTS:\")\n",
    "        risk_adj_quality = \"excellent\" if sharpe_ratio > 1.5 else \"good\" if sharpe_ratio > 1.0 else \"moderate\" if sharpe_ratio > 0.5 else \"poor\"\n",
    "        downside_quality = \"strong\" if sortino_ratio > 1.5 else \"adequate\" if sortino_ratio > 1.0 else \"weak\"\n",
    "        profit_quality = \"exceeds industry benchmark (>1.5)\" if profit_factor > 1.5 else \"meets minimum threshold (>1.0)\" if profit_factor > 1.0 else \"needs improvement (<1.0)\"\n",
    "        \n",
    "        print(f\"   • Risk-Adjusted Performance: Sharpe ratio of {sharpe_ratio:.3f} indicates {risk_adj_quality} risk-adjusted returns\")\n",
    "        print(f\"   • Downside Protection: Sortino ratio of {sortino_ratio:.3f} shows {downside_quality} downside risk management\")\n",
    "        print(f\"   • Trade Efficiency: Profit factor of {profit_factor:.2f} {profit_quality}\")\n",
    "        print(f\"   • Position Sizing: Kelly criterion suggests optimal position size of {kelly_percent:.1f}% per trade\")\n",
    "        print(f\"   • Strategy Consistency: Win rate of {win_rate:.1f}% with average expectancy of ${expectancy:.0f} per trade\")\n",
    "        print()\n",
    "        \n",
    "        # Create detailed regime performance table\n",
    "        print(\"🎭 REGIME-BASED PERFORMANCE BREAKDOWN:\")\n",
    "        print(\"-\" * 50)\n",
    "        \n",
    "        regime_stats = []\n",
    "        for regime_id in sorted(trades_df['regime_id'].unique()):\n",
    "            regime_trades = trades_df[trades_df['regime_id'] == regime_id]\n",
    "            regime_wins = regime_trades[regime_trades['pnl'] > 0]\n",
    "            \n",
    "            win_rate_regime = len(regime_wins)/len(regime_trades)*100 if len(regime_trades) > 0 else 0\n",
    "            total_pnl = regime_trades['pnl'].sum()\n",
    "            avg_pnl = regime_trades['pnl'].mean()\n",
    "            best_trade = regime_trades['pnl'].max()\n",
    "            worst_trade = regime_trades['pnl'].min()\n",
    "            \n",
    "            print(f\"Regime {regime_id}:\")\n",
    "            print(f\"   Trades: {len(regime_trades):<3} | Win Rate: {win_rate_regime:5.1f}% | Total P&L: ${total_pnl:8.0f}\")\n",
    "            print(f\"   Avg P&L: ${avg_pnl:6.0f} | Best: ${best_trade:6.0f} | Worst: ${worst_trade:7.0f}\")\n",
    "            print()\n",
    "    \n",
    "else:\n",
    "    print(\"❌ Professional Statistics Unavailable - Run backtest cell above to load trade data\")"
   ],
   "metadata": {
    "ExecuteTime": {
     "end_time": "2025-08-28T21:49:01.125961Z",
     "start_time": "2025-08-28T21:49:01.113501Z"
    }
   },
   "outputs": [
    {
     "name": "stdout",
     "output_type": "stream",
     "text": [
      "📊 TRADING STATISTICS\n",
      "==================================================\n",
      "\n",
      "🎯 TRADING PERFORMANCE METRICS\n",
      "--------------------------------------------------\n",
      "\n",
      "📈 RETURN METRICS:\n",
      "   Total Return:        54.35%\n",
      "   Annualized Return:   38.75%\n",
      "   Annualized Volatility: 24.21%\n",
      "   Sharpe Ratio:        1.437\n",
      "   Final Value:         $154,347\n",
      "\n",
      "⚠️ RISK METRICS:\n",
      "   Maximum Drawdown:    13.27%\n",
      "   VaR (95%):          -1.71%\n",
      "   VaR (99%):          -3.74%\n",
      "   Expected Shortfall:  -2.91%\n",
      "   Avg DD Duration:     18.6 days\n",
      "\n",
      "📊 ADVANCED RATIOS:\n",
      "   Sortino Ratio:       1.856\n",
      "   Calmar Ratio:        2.920\n",
      "   Information Ratio:   1.600\n",
      "   Profit Factor:       1.74\n",
      "   Kelly %:             22.6%\n",
      "\n",
      "💼 TRADE ANALYSIS:\n",
      "   Total Trades:        137\n",
      "   Win Rate:            53.3%\n",
      "   Average Win:         $1738\n",
      "   Average Loss:        $-1141\n",
      "   Win/Loss Ratio:      1.52\n",
      "   Expectancy:          $393\n",
      "   Largest Win:         $11918\n",
      "   Largest Loss:        $-4501\n",
      "\n",
      "⏱️ TRADING BEHAVIOR:\n",
      "   Avg Hold Time:       36.4 days\n",
      "   Trades/Month:        12.5\n",
      "   Max Consecutive Wins: 10\n",
      "   Max Consecutive Losses: 10\n",
      "   Total Trading Days:  334\n",
      "   Total P&L:           $54,347\n",
      "\n",
      "🎯 KEY PERFORMANCE INSIGHTS:\n",
      "   • Risk-Adjusted Performance: Sharpe ratio of 1.437 indicates good risk-adjusted returns\n",
      "   • Downside Protection: Sortino ratio of 1.856 shows strong downside risk management\n",
      "   • Trade Efficiency: Profit factor of 1.74 exceeds industry benchmark (>1.5)\n",
      "   • Position Sizing: Kelly criterion suggests optimal position size of 22.6% per trade\n",
      "   • Strategy Consistency: Win rate of 53.3% with average expectancy of $393 per trade\n",
      "\n",
      "🎭 REGIME-BASED PERFORMANCE BREAKDOWN:\n",
      "--------------------------------------------------\n",
      "Regime 0:\n",
      "   Trades: 10  | Win Rate:  80.0% | Total P&L: $   26176\n",
      "   Avg P&L: $  2618 | Best: $  6149 | Worst: $  -4501\n",
      "\n",
      "Regime 1:\n",
      "   Trades: 22  | Win Rate:  27.3% | Total P&L: $   -4181\n",
      "   Avg P&L: $  -190 | Best: $  2193 | Worst: $   -977\n",
      "\n",
      "Regime 2:\n",
      "   Trades: 71  | Win Rate:  57.7% | Total P&L: $   14722\n",
      "   Avg P&L: $   207 | Best: $ 10847 | Worst: $  -2643\n",
      "\n",
      "Regime 4:\n",
      "   Trades: 17  | Win Rate:  52.9% | Total P&L: $     972\n",
      "   Avg P&L: $    57 | Best: $   608 | Worst: $   -347\n",
      "\n",
      "Regime 5:\n",
      "   Trades: 17  | Win Rate:  52.9% | Total P&L: $   16161\n",
      "   Avg P&L: $   951 | Best: $ 11918 | Worst: $  -3671\n",
      "\n"
     ]
    }
   ],
   "execution_count": 39
  },
  {
   "cell_type": "code",
   "source": "# Advanced Risk Analysis & Performance Visualization\nif success and backtest_results and trades_df is not None and len(trades_df) > 0:\n    print(\"📊 ADVANCED RISK ANALYSIS\")\n    print(\"=\"*50)\n    \n    # Get equity curve data\n    equity_curve = backtest_results.get('equity_curve')\n    if equity_curve:\n        df = pd.DataFrame(equity_curve)\n        df['timestamp'] = pd.to_datetime(df['timestamp'])\n        \n        # Calculate daily returns\n        returns = df['portfolio_value'].pct_change().dropna()\n        daily_returns_pct = returns * 100\n        \n        # Rolling risk metrics\n        window = 30  # 30-day rolling window\n        rolling_vol = returns.rolling(window).std() * np.sqrt(252) * 100\n        rolling_sharpe = (returns.rolling(window).mean() * 252 - backtest_results.get('risk_free_rate', 3.95)/100) / (returns.rolling(window).std() * np.sqrt(252))\n        \n        # Drawdown analysis\n        running_max = df['portfolio_value'].expanding().max()\n        drawdown_pct = (df['portfolio_value'] - running_max) / running_max * 100\n        underwater_curve = drawdown_pct.copy()\n        \n        # Create comprehensive risk dashboard\n        fig = make_subplots(\n            rows=3, cols=2,\n            subplot_titles=(\n                'Rolling 30-Day Volatility', 'Rolling 30-Day Sharpe Ratio',\n                'Underwater Curve (Drawdown)', 'Daily Returns Distribution',\n                'Monthly Returns Heatmap', 'Trade P&L Distribution'\n            ),\n            specs=[[{}, {}], [{}, {}], [{}, {}]],\n            vertical_spacing=0.1\n        )\n        \n        # 1. Rolling Volatility\n        fig.add_trace(go.Scatter(\n            x=df['timestamp'][window:], \n            y=rolling_vol[window:],\n            mode='lines',\n            name='30-Day Rolling Volatility',\n            line=dict(color='orange', width=2),\n            hovertemplate='<b>Date:</b> %{x}<br><b>Volatility:</b> %{y:.2f}%<extra></extra>'\n        ), row=1, col=1)\n        \n        # Add volatility threshold lines\n        fig.add_hline(y=rolling_vol[window:].mean(), line_dash=\"dash\", line_color=\"gray\", \n                     annotation_text=\"Mean Vol\", row=1, col=1)\n        \n        # 2. Rolling Sharpe Ratio\n        fig.add_trace(go.Scatter(\n            x=df['timestamp'][window:], \n            y=rolling_sharpe[window:],\n            mode='lines',\n            name='30-Day Rolling Sharpe',\n            line=dict(color='purple', width=2),\n            hovertemplate='<b>Date:</b> %{x}<br><b>Sharpe:</b> %{y:.3f}<extra></extra>'\n        ), row=1, col=2)\n        \n        # Add Sharpe benchmark lines\n        fig.add_hline(y=0, line_dash=\"dash\", line_color=\"red\", annotation_text=\"Zero\", row=1, col=2)\n        fig.add_hline(y=1, line_dash=\"dash\", line_color=\"green\", annotation_text=\"Good (>1)\", row=1, col=2)\n        \n        # 3. Underwater Curve (Drawdown)\n        fig.add_trace(go.Scatter(\n            x=df['timestamp'], \n            y=underwater_curve,\n            mode='lines',\n            fill='tonexty',\n            name='Drawdown %',\n            line=dict(color='red', width=1),\n            fillcolor='rgba(255,0,0,0.2)',\n            hovertemplate='<b>Date:</b> %{x}<br><b>Drawdown:</b> %{y:.2f}%<extra></extra>'\n        ), row=2, col=1)\n        \n        # 4. Daily Returns Distribution\n        fig.add_trace(go.Histogram(\n            x=daily_returns_pct,\n            nbinsx=40,\n            name='Daily Returns',\n            marker_color='lightblue',\n            opacity=0.7,\n            hovertemplate='<b>Return Range:</b> %{x:.2f}%<br><b>Frequency:</b> %{y}<extra></extra>'\n        ), row=2, col=2)\n        \n        # Add normal distribution overlay for comparison\n        mu, sigma = daily_returns_pct.mean(), daily_returns_pct.std()\n        x_norm = np.linspace(daily_returns_pct.min(), daily_returns_pct.max(), 100)\n        y_norm = ((1/(sigma * np.sqrt(2*np.pi))) * np.exp(-0.5*((x_norm - mu)/sigma)**2)) * len(daily_returns_pct) * (daily_returns_pct.max() - daily_returns_pct.min()) / 40\n        \n        fig.add_trace(go.Scatter(\n            x=x_norm, \n            y=y_norm,\n            mode='lines',\n            name='Normal Distribution',\n            line=dict(color='red', width=2, dash='dash')\n        ), row=2, col=2)\n        \n        # 5. Monthly Returns Heatmap\n        df['year'] = df['timestamp'].dt.year\n        df['month'] = df['timestamp'].dt.month\n        df['returns'] = df['portfolio_value'].pct_change() * 100\n        \n        monthly_returns = df.groupby(['year', 'month'])['returns'].sum().reset_index()\n        monthly_pivot = monthly_returns.pivot(index='year', columns='month', values='returns').fillna(0)\n        \n        months = ['Jan', 'Feb', 'Mar', 'Apr', 'May', 'Jun', \n                 'Jul', 'Aug', 'Sep', 'Oct', 'Nov', 'Dec']\n        \n        fig.add_trace(go.Heatmap(\n            z=monthly_pivot.values,\n            x=[months[i-1] for i in monthly_pivot.columns],\n            y=monthly_pivot.index,\n            colorscale='RdYlGn',\n            colorbar=dict(title=\"Return %\"),\n            hovertemplate='<b>%{y} %{x}:</b> %{z:.2f}%<extra></extra>'\n        ), row=3, col=1)\n        \n        # 6. Trade P&L Distribution\n        fig.add_trace(go.Histogram(\n            x=trades_df['pnl'],\n            nbinsx=30,\n            name='Trade P&L',\n            marker_color='green',\n            opacity=0.7,\n            hovertemplate='<b>P&L Range:</b> $%{x:.0f}<br><b>Frequency:</b> %{y}<extra></extra>'\n        ), row=3, col=2)\n        \n        # Add vertical line at break-even\n        fig.add_vline(x=0, line_dash=\"dash\", line_color=\"black\", annotation_text=\"Break Even\", row=3, col=2)\n        \n        # Update layout\n        fig.update_layout(\n            height=1200,\n            title_text=\"Advanced Risk Analysis Dashboard\",\n            title_x=0.5,\n            showlegend=False\n        )\n        \n        # Update axis labels\n        fig.update_xaxes(title_text=\"Date\", row=1, col=1)\n        fig.update_xaxes(title_text=\"Date\", row=1, col=2)\n        fig.update_xaxes(title_text=\"Date\", row=2, col=1)\n        fig.update_xaxes(title_text=\"Daily Return (%)\", row=2, col=2)\n        fig.update_xaxes(title_text=\"Month\", row=3, col=1)\n        fig.update_xaxes(title_text=\"Trade P&L ($)\", row=3, col=2)\n        \n        fig.update_yaxes(title_text=\"Volatility (%)\", row=1, col=1)\n        fig.update_yaxes(title_text=\"Sharpe Ratio\", row=1, col=2)\n        fig.update_yaxes(title_text=\"Drawdown (%)\", row=2, col=1)\n        fig.update_yaxes(title_text=\"Frequency\", row=2, col=2)\n        fig.update_yaxes(title_text=\"Year\", row=3, col=1)\n        fig.update_yaxes(title_text=\"Frequency\", row=3, col=2)\n        \n        fig.show()\n        \n        # Calculate additional risk metrics\n        var_95 = np.percentile(daily_returns_pct, 5)\n        var_99 = np.percentile(daily_returns_pct, 1)\n        es_95 = daily_returns_pct[daily_returns_pct <= var_95].mean()\n        \n        # Tail risk analysis\n        tail_ratio = abs(daily_returns_pct[daily_returns_pct < var_95].mean()) / daily_returns_pct[daily_returns_pct > -var_95].mean()\n        \n        # Skewness and Kurtosis\n        from scipy import stats\n        skewness = stats.skew(daily_returns_pct)\n        kurtosis = stats.kurtosis(daily_returns_pct)\n        \n        # Maximum consecutive losing days\n        losing_days = (daily_returns_pct < 0).astype(int)\n        max_consecutive_losing_days = 0\n        current_losing_streak = 0\n        \n        for day in losing_days:\n            if day == 1:\n                current_losing_streak += 1\n                max_consecutive_losing_days = max(max_consecutive_losing_days, current_losing_streak)\n            else:\n                current_losing_streak = 0\n        \n        # Display advanced risk summary\n        print(\"\\n⚠️ ADVANCED RISK ASSESSMENT\")\n        print(\"-\" * 50)\n        print()\n        \n        print(\"📊 DISTRIBUTION ANALYSIS:\")\n        skew_desc = \"(Right-skewed - more extreme positive returns)\" if skewness > 0.5 else \"(Left-skewed - more extreme negative returns)\" if skewness < -0.5 else \"(Approximately symmetric)\"\n        kurt_desc = \"(Fat tails - higher extreme event probability)\" if kurtosis > 2 else \"(Thin tails - lower extreme event probability)\" if kurtosis < -1 else \"(Normal tail behavior)\"\n        tail_desc = \"(Heavy downside tail risk)\" if tail_ratio > 1.5 else \"(Balanced tail risk)\"\n        \n        print(f\"   Skewness:                {skewness:.3f} {skew_desc}\")\n        print(f\"   Kurtosis:                {kurtosis:.3f} {kurt_desc}\")\n        print(f\"   Tail Ratio:              {tail_ratio:.2f} {tail_desc}\")\n        print(f\"   Max Consecutive Loss Days: {max_consecutive_losing_days}\")\n        print()\n        \n        print(\"🚨 EXTREME RISK METRICS:\")\n        var95_risk = \"(High risk)\" if var_95 < -5 else \"(Moderate risk)\" if var_95 < -2 else \"(Low risk)\"\n        var99_risk = \"(Very high extreme risk)\" if var_99 < -8 else \"(High extreme risk)\" if var_99 < -5 else \"(Moderate extreme risk)\"\n        \n        print(f\"   95% VaR (Daily):         {var_95:.2f}% {var95_risk}\")\n        print(f\"   99% VaR (Daily):         {var_99:.2f}% {var99_risk}\")\n        print(f\"   Expected Shortfall (95%): {es_95:.2f}%\")\n        print(f\"   Worst Single Day:        {daily_returns_pct.min():.2f}%\")\n        print(f\"   Best Single Day:         {daily_returns_pct.max():.2f}%\")\n        print()\n        \n        print(\"💡 PROFESSIONAL RISK ASSESSMENT:\")\n        vol_quality = \"high\" if rolling_vol[window:].mean() > 25 else \"moderate\" if rolling_vol[window:].mean() > 15 else \"low\"\n        consistency = \"consistent\" if rolling_sharpe[window:].std() < 0.5 else \"variable\"\n        dist_normal = 'Non-normal return distribution requires careful risk management' if abs(skewness) > 0.5 or abs(kurtosis) > 2 else 'Return distribution shows normal characteristics'\n        \n        print(f\"   • Volatility Profile: Average 30-day volatility of {rolling_vol[window:].mean():.2f}% indicates {vol_quality} volatility strategy\")\n        print(f\"   • Consistency: Rolling Sharpe ratio ranges from {rolling_sharpe[window:].min():.2f} to {rolling_sharpe[window:].max():.2f}, showing {consistency} risk-adjusted performance\")\n        print(f\"   • Drawdown Recovery: Maximum underwater period provides insight into strategy resilience during adverse conditions\")\n        print(f\"   • Distribution Characteristics: {dist_normal}\")\n    \nelse:\n    print(\"❌ Advanced Risk Analysis Unavailable - Run backtest cell above to load performance data\")",
   "metadata": {
    "ExecuteTime": {
     "end_time": "2025-08-28T21:49:01.175191Z",
     "start_time": "2025-08-28T21:49:01.132560Z"
    }
   },
   "outputs": [
    {
     "name": "stdout",
     "output_type": "stream",
     "text": [
      "📊 ADVANCED RISK ANALYSIS\n",
      "==================================================\n"
     ]
    },
    {
     "data": {
      "application/vnd.plotly.v1+json": {
       "data": [
        {
         "hovertemplate": "<b>Date:</b> %{x}<br><b>Volatility:</b> %{y:.2f}%<extra></extra>",
         "line": {
          "color": "orange",
          "width": 2
         },
         "mode": "lines",
         "name": "30-Day Rolling Volatility",
         "x": [
          "2024-10-28T00:00:00.000000000",
          "2024-10-29T00:00:00.000000000",
          "2024-10-30T00:00:00.000000000",
          "2024-10-31T00:00:00.000000000",
          "2024-11-01T00:00:00.000000000",
          "2024-11-02T00:00:00.000000000",
          "2024-11-03T00:00:00.000000000",
          "2024-11-04T00:00:00.000000000",
          "2024-11-05T00:00:00.000000000",
          "2024-11-06T00:00:00.000000000",
          "2024-11-07T00:00:00.000000000",
          "2024-11-08T00:00:00.000000000",
          "2024-11-09T00:00:00.000000000",
          "2024-11-10T00:00:00.000000000",
          "2024-11-11T00:00:00.000000000",
          "2024-11-12T00:00:00.000000000",
          "2024-11-13T00:00:00.000000000",
          "2024-11-14T00:00:00.000000000",
          "2024-11-15T00:00:00.000000000",
          "2024-11-16T00:00:00.000000000",
          "2024-11-17T00:00:00.000000000",
          "2024-11-18T00:00:00.000000000",
          "2024-11-19T00:00:00.000000000",
          "2024-11-20T00:00:00.000000000",
          "2024-11-21T00:00:00.000000000",
          "2024-11-22T00:00:00.000000000",
          "2024-11-23T00:00:00.000000000",
          "2024-11-24T00:00:00.000000000",
          "2024-11-25T00:00:00.000000000",
          "2024-11-26T00:00:00.000000000",
          "2024-11-27T00:00:00.000000000",
          "2024-11-28T00:00:00.000000000",
          "2024-11-29T00:00:00.000000000",
          "2024-11-30T00:00:00.000000000",
          "2024-12-01T00:00:00.000000000",
          "2024-12-02T00:00:00.000000000",
          "2024-12-03T00:00:00.000000000",
          "2024-12-04T00:00:00.000000000",
          "2024-12-05T00:00:00.000000000",
          "2024-12-06T00:00:00.000000000",
          "2024-12-07T00:00:00.000000000",
          "2024-12-08T00:00:00.000000000",
          "2024-12-09T00:00:00.000000000",
          "2024-12-10T00:00:00.000000000",
          "2024-12-11T00:00:00.000000000",
          "2024-12-12T00:00:00.000000000",
          "2024-12-13T00:00:00.000000000",
          "2024-12-14T00:00:00.000000000",
          "2024-12-15T00:00:00.000000000",
          "2024-12-16T00:00:00.000000000",
          "2024-12-17T00:00:00.000000000",
          "2024-12-18T00:00:00.000000000",
          "2024-12-19T00:00:00.000000000",
          "2024-12-20T00:00:00.000000000",
          "2024-12-21T00:00:00.000000000",
          "2024-12-22T00:00:00.000000000",
          "2024-12-23T00:00:00.000000000",
          "2024-12-24T00:00:00.000000000",
          "2024-12-25T00:00:00.000000000",
          "2024-12-26T00:00:00.000000000",
          "2024-12-27T00:00:00.000000000",
          "2024-12-28T00:00:00.000000000",
          "2024-12-29T00:00:00.000000000",
          "2024-12-30T00:00:00.000000000",
          "2024-12-31T00:00:00.000000000",
          "2025-01-01T00:00:00.000000000",
          "2025-01-02T00:00:00.000000000",
          "2025-01-03T00:00:00.000000000",
          "2025-01-04T00:00:00.000000000",
          "2025-01-05T00:00:00.000000000",
          "2025-01-06T00:00:00.000000000",
          "2025-01-07T00:00:00.000000000",
          "2025-01-08T00:00:00.000000000",
          "2025-01-09T00:00:00.000000000",
          "2025-01-10T00:00:00.000000000",
          "2025-01-11T00:00:00.000000000",
          "2025-01-12T00:00:00.000000000",
          "2025-01-13T00:00:00.000000000",
          "2025-01-14T00:00:00.000000000",
          "2025-01-15T00:00:00.000000000",
          "2025-01-16T00:00:00.000000000",
          "2025-01-17T00:00:00.000000000",
          "2025-01-18T00:00:00.000000000",
          "2025-01-19T00:00:00.000000000",
          "2025-01-20T00:00:00.000000000",
          "2025-01-21T00:00:00.000000000",
          "2025-01-22T00:00:00.000000000",
          "2025-01-23T00:00:00.000000000",
          "2025-01-24T00:00:00.000000000",
          "2025-01-25T00:00:00.000000000",
          "2025-01-26T00:00:00.000000000",
          "2025-01-27T00:00:00.000000000",
          "2025-01-28T00:00:00.000000000",
          "2025-01-29T00:00:00.000000000",
          "2025-01-30T00:00:00.000000000",
          "2025-01-31T00:00:00.000000000",
          "2025-02-01T00:00:00.000000000",
          "2025-02-02T00:00:00.000000000",
          "2025-02-03T00:00:00.000000000",
          "2025-02-04T00:00:00.000000000",
          "2025-02-05T00:00:00.000000000",
          "2025-02-06T00:00:00.000000000",
          "2025-02-07T00:00:00.000000000",
          "2025-02-08T00:00:00.000000000",
          "2025-02-09T00:00:00.000000000",
          "2025-02-10T00:00:00.000000000",
          "2025-02-11T00:00:00.000000000",
          "2025-02-12T00:00:00.000000000",
          "2025-02-13T00:00:00.000000000",
          "2025-02-14T00:00:00.000000000",
          "2025-02-15T00:00:00.000000000",
          "2025-02-16T00:00:00.000000000",
          "2025-02-17T00:00:00.000000000",
          "2025-02-18T00:00:00.000000000",
          "2025-02-19T00:00:00.000000000",
          "2025-02-20T00:00:00.000000000",
          "2025-02-21T00:00:00.000000000",
          "2025-02-22T00:00:00.000000000",
          "2025-02-23T00:00:00.000000000",
          "2025-02-24T00:00:00.000000000",
          "2025-02-25T00:00:00.000000000",
          "2025-02-26T00:00:00.000000000",
          "2025-02-27T00:00:00.000000000",
          "2025-02-28T00:00:00.000000000",
          "2025-03-01T00:00:00.000000000",
          "2025-03-02T00:00:00.000000000",
          "2025-03-03T00:00:00.000000000",
          "2025-03-04T00:00:00.000000000",
          "2025-03-05T00:00:00.000000000",
          "2025-03-06T00:00:00.000000000",
          "2025-03-07T00:00:00.000000000",
          "2025-03-08T00:00:00.000000000",
          "2025-03-09T00:00:00.000000000",
          "2025-03-10T00:00:00.000000000",
          "2025-03-11T00:00:00.000000000",
          "2025-03-12T00:00:00.000000000",
          "2025-03-13T00:00:00.000000000",
          "2025-03-14T00:00:00.000000000",
          "2025-03-15T00:00:00.000000000",
          "2025-03-16T00:00:00.000000000",
          "2025-03-17T00:00:00.000000000",
          "2025-03-18T00:00:00.000000000",
          "2025-03-19T00:00:00.000000000",
          "2025-03-20T00:00:00.000000000",
          "2025-03-21T00:00:00.000000000",
          "2025-03-22T00:00:00.000000000",
          "2025-03-23T00:00:00.000000000",
          "2025-03-24T00:00:00.000000000",
          "2025-03-25T00:00:00.000000000",
          "2025-03-26T00:00:00.000000000",
          "2025-03-27T00:00:00.000000000",
          "2025-03-28T00:00:00.000000000",
          "2025-03-29T00:00:00.000000000",
          "2025-03-30T00:00:00.000000000",
          "2025-03-31T00:00:00.000000000",
          "2025-04-01T00:00:00.000000000",
          "2025-04-02T00:00:00.000000000",
          "2025-04-03T00:00:00.000000000",
          "2025-04-04T00:00:00.000000000",
          "2025-04-05T00:00:00.000000000",
          "2025-04-06T00:00:00.000000000",
          "2025-04-07T00:00:00.000000000",
          "2025-04-08T00:00:00.000000000",
          "2025-04-09T00:00:00.000000000",
          "2025-04-10T00:00:00.000000000",
          "2025-04-11T00:00:00.000000000",
          "2025-04-12T00:00:00.000000000",
          "2025-04-13T00:00:00.000000000",
          "2025-04-14T00:00:00.000000000",
          "2025-04-15T00:00:00.000000000",
          "2025-04-16T00:00:00.000000000",
          "2025-04-17T00:00:00.000000000",
          "2025-04-18T00:00:00.000000000",
          "2025-04-19T00:00:00.000000000",
          "2025-04-20T00:00:00.000000000",
          "2025-04-21T00:00:00.000000000",
          "2025-04-22T00:00:00.000000000",
          "2025-04-23T00:00:00.000000000",
          "2025-04-24T00:00:00.000000000",
          "2025-04-25T00:00:00.000000000",
          "2025-04-26T00:00:00.000000000",
          "2025-04-27T00:00:00.000000000",
          "2025-04-28T00:00:00.000000000",
          "2025-04-29T00:00:00.000000000",
          "2025-04-30T00:00:00.000000000",
          "2025-05-01T00:00:00.000000000",
          "2025-05-02T00:00:00.000000000",
          "2025-05-03T00:00:00.000000000",
          "2025-05-04T00:00:00.000000000",
          "2025-05-05T00:00:00.000000000",
          "2025-05-06T00:00:00.000000000",
          "2025-05-07T00:00:00.000000000",
          "2025-05-08T00:00:00.000000000",
          "2025-05-09T00:00:00.000000000",
          "2025-05-10T00:00:00.000000000",
          "2025-05-11T00:00:00.000000000",
          "2025-05-12T00:00:00.000000000",
          "2025-05-13T00:00:00.000000000",
          "2025-05-14T00:00:00.000000000",
          "2025-05-15T00:00:00.000000000",
          "2025-05-16T00:00:00.000000000",
          "2025-05-17T00:00:00.000000000",
          "2025-05-18T00:00:00.000000000",
          "2025-05-19T00:00:00.000000000",
          "2025-05-20T00:00:00.000000000",
          "2025-05-21T00:00:00.000000000",
          "2025-05-22T00:00:00.000000000",
          "2025-05-23T00:00:00.000000000",
          "2025-05-24T00:00:00.000000000",
          "2025-05-25T00:00:00.000000000",
          "2025-05-26T00:00:00.000000000",
          "2025-05-27T00:00:00.000000000",
          "2025-05-28T00:00:00.000000000",
          "2025-05-29T00:00:00.000000000",
          "2025-05-30T00:00:00.000000000",
          "2025-05-31T00:00:00.000000000",
          "2025-06-01T00:00:00.000000000",
          "2025-06-02T00:00:00.000000000",
          "2025-06-03T00:00:00.000000000",
          "2025-06-04T00:00:00.000000000",
          "2025-06-05T00:00:00.000000000",
          "2025-06-06T00:00:00.000000000",
          "2025-06-07T00:00:00.000000000",
          "2025-06-08T00:00:00.000000000",
          "2025-06-09T00:00:00.000000000",
          "2025-06-10T00:00:00.000000000",
          "2025-06-11T00:00:00.000000000",
          "2025-06-12T00:00:00.000000000",
          "2025-06-13T00:00:00.000000000",
          "2025-06-14T00:00:00.000000000",
          "2025-06-15T00:00:00.000000000",
          "2025-06-16T00:00:00.000000000",
          "2025-06-17T00:00:00.000000000",
          "2025-06-18T00:00:00.000000000",
          "2025-06-19T00:00:00.000000000",
          "2025-06-20T00:00:00.000000000",
          "2025-06-21T00:00:00.000000000",
          "2025-06-22T00:00:00.000000000",
          "2025-06-23T00:00:00.000000000",
          "2025-06-24T00:00:00.000000000",
          "2025-06-25T00:00:00.000000000",
          "2025-06-26T00:00:00.000000000",
          "2025-06-27T00:00:00.000000000",
          "2025-06-28T00:00:00.000000000",
          "2025-06-29T00:00:00.000000000",
          "2025-06-30T00:00:00.000000000",
          "2025-07-01T00:00:00.000000000",
          "2025-07-02T00:00:00.000000000",
          "2025-07-03T00:00:00.000000000",
          "2025-07-04T00:00:00.000000000",
          "2025-07-05T00:00:00.000000000",
          "2025-07-06T00:00:00.000000000",
          "2025-07-07T00:00:00.000000000",
          "2025-07-08T00:00:00.000000000",
          "2025-07-09T00:00:00.000000000",
          "2025-07-10T00:00:00.000000000",
          "2025-07-11T00:00:00.000000000",
          "2025-07-12T00:00:00.000000000",
          "2025-07-13T00:00:00.000000000",
          "2025-07-14T00:00:00.000000000",
          "2025-07-15T00:00:00.000000000",
          "2025-07-16T00:00:00.000000000",
          "2025-07-17T00:00:00.000000000",
          "2025-07-18T00:00:00.000000000",
          "2025-07-19T00:00:00.000000000",
          "2025-07-20T00:00:00.000000000",
          "2025-07-21T00:00:00.000000000",
          "2025-07-22T00:00:00.000000000",
          "2025-07-23T00:00:00.000000000",
          "2025-07-24T00:00:00.000000000",
          "2025-07-25T00:00:00.000000000",
          "2025-07-26T00:00:00.000000000",
          "2025-07-27T00:00:00.000000000",
          "2025-07-28T00:00:00.000000000",
          "2025-07-29T00:00:00.000000000",
          "2025-07-30T00:00:00.000000000",
          "2025-07-31T00:00:00.000000000",
          "2025-08-01T00:00:00.000000000",
          "2025-08-02T00:00:00.000000000",
          "2025-08-03T00:00:00.000000000",
          "2025-08-04T00:00:00.000000000",
          "2025-08-05T00:00:00.000000000",
          "2025-08-06T00:00:00.000000000",
          "2025-08-07T00:00:00.000000000",
          "2025-08-08T00:00:00.000000000",
          "2025-08-09T00:00:00.000000000",
          "2025-08-10T00:00:00.000000000",
          "2025-08-11T00:00:00.000000000",
          "2025-08-12T00:00:00.000000000",
          "2025-08-13T00:00:00.000000000",
          "2025-08-14T00:00:00.000000000",
          "2025-08-15T00:00:00.000000000",
          "2025-08-16T00:00:00.000000000",
          "2025-08-17T00:00:00.000000000",
          "2025-08-18T00:00:00.000000000",
          "2025-08-19T00:00:00.000000000",
          "2025-08-20T00:00:00.000000000",
          "2025-08-21T00:00:00.000000000",
          "2025-08-22T00:00:00.000000000",
          "2025-08-23T00:00:00.000000000",
          "2025-08-24T00:00:00.000000000",
          "2025-08-25T00:00:00.000000000",
          "2025-08-26T00:00:00.000000000",
          "2025-08-27T00:00:00.000000000",
          "2025-08-28T00:00:00.000000000"
         ],
         "y": {
          "dtype": "f8",
          "bdata": "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"
         },
         "type": "scatter",
         "xaxis": "x",
         "yaxis": "y"
        },
        {
         "hovertemplate": "<b>Date:</b> %{x}<br><b>Sharpe:</b> %{y:.3f}<extra></extra>",
         "line": {
          "color": "purple",
          "width": 2
         },
         "mode": "lines",
         "name": "30-Day Rolling Sharpe",
         "x": [
          "2024-10-28T00:00:00.000000000",
          "2024-10-29T00:00:00.000000000",
          "2024-10-30T00:00:00.000000000",
          "2024-10-31T00:00:00.000000000",
          "2024-11-01T00:00:00.000000000",
          "2024-11-02T00:00:00.000000000",
          "2024-11-03T00:00:00.000000000",
          "2024-11-04T00:00:00.000000000",
          "2024-11-05T00:00:00.000000000",
          "2024-11-06T00:00:00.000000000",
          "2024-11-07T00:00:00.000000000",
          "2024-11-08T00:00:00.000000000",
          "2024-11-09T00:00:00.000000000",
          "2024-11-10T00:00:00.000000000",
          "2024-11-11T00:00:00.000000000",
          "2024-11-12T00:00:00.000000000",
          "2024-11-13T00:00:00.000000000",
          "2024-11-14T00:00:00.000000000",
          "2024-11-15T00:00:00.000000000",
          "2024-11-16T00:00:00.000000000",
          "2024-11-17T00:00:00.000000000",
          "2024-11-18T00:00:00.000000000",
          "2024-11-19T00:00:00.000000000",
          "2024-11-20T00:00:00.000000000",
          "2024-11-21T00:00:00.000000000",
          "2024-11-22T00:00:00.000000000",
          "2024-11-23T00:00:00.000000000",
          "2024-11-24T00:00:00.000000000",
          "2024-11-25T00:00:00.000000000",
          "2024-11-26T00:00:00.000000000",
          "2024-11-27T00:00:00.000000000",
          "2024-11-28T00:00:00.000000000",
          "2024-11-29T00:00:00.000000000",
          "2024-11-30T00:00:00.000000000",
          "2024-12-01T00:00:00.000000000",
          "2024-12-02T00:00:00.000000000",
          "2024-12-03T00:00:00.000000000",
          "2024-12-04T00:00:00.000000000",
          "2024-12-05T00:00:00.000000000",
          "2024-12-06T00:00:00.000000000",
          "2024-12-07T00:00:00.000000000",
          "2024-12-08T00:00:00.000000000",
          "2024-12-09T00:00:00.000000000",
          "2024-12-10T00:00:00.000000000",
          "2024-12-11T00:00:00.000000000",
          "2024-12-12T00:00:00.000000000",
          "2024-12-13T00:00:00.000000000",
          "2024-12-14T00:00:00.000000000",
          "2024-12-15T00:00:00.000000000",
          "2024-12-16T00:00:00.000000000",
          "2024-12-17T00:00:00.000000000",
          "2024-12-18T00:00:00.000000000",
          "2024-12-19T00:00:00.000000000",
          "2024-12-20T00:00:00.000000000",
          "2024-12-21T00:00:00.000000000",
          "2024-12-22T00:00:00.000000000",
          "2024-12-23T00:00:00.000000000",
          "2024-12-24T00:00:00.000000000",
          "2024-12-25T00:00:00.000000000",
          "2024-12-26T00:00:00.000000000",
          "2024-12-27T00:00:00.000000000",
          "2024-12-28T00:00:00.000000000",
          "2024-12-29T00:00:00.000000000",
          "2024-12-30T00:00:00.000000000",
          "2024-12-31T00:00:00.000000000",
          "2025-01-01T00:00:00.000000000",
          "2025-01-02T00:00:00.000000000",
          "2025-01-03T00:00:00.000000000",
          "2025-01-04T00:00:00.000000000",
          "2025-01-05T00:00:00.000000000",
          "2025-01-06T00:00:00.000000000",
          "2025-01-07T00:00:00.000000000",
          "2025-01-08T00:00:00.000000000",
          "2025-01-09T00:00:00.000000000",
          "2025-01-10T00:00:00.000000000",
          "2025-01-11T00:00:00.000000000",
          "2025-01-12T00:00:00.000000000",
          "2025-01-13T00:00:00.000000000",
          "2025-01-14T00:00:00.000000000",
          "2025-01-15T00:00:00.000000000",
          "2025-01-16T00:00:00.000000000",
          "2025-01-17T00:00:00.000000000",
          "2025-01-18T00:00:00.000000000",
          "2025-01-19T00:00:00.000000000",
          "2025-01-20T00:00:00.000000000",
          "2025-01-21T00:00:00.000000000",
          "2025-01-22T00:00:00.000000000",
          "2025-01-23T00:00:00.000000000",
          "2025-01-24T00:00:00.000000000",
          "2025-01-25T00:00:00.000000000",
          "2025-01-26T00:00:00.000000000",
          "2025-01-27T00:00:00.000000000",
          "2025-01-28T00:00:00.000000000",
          "2025-01-29T00:00:00.000000000",
          "2025-01-30T00:00:00.000000000",
          "2025-01-31T00:00:00.000000000",
          "2025-02-01T00:00:00.000000000",
          "2025-02-02T00:00:00.000000000",
          "2025-02-03T00:00:00.000000000",
          "2025-02-04T00:00:00.000000000",
          "2025-02-05T00:00:00.000000000",
          "2025-02-06T00:00:00.000000000",
          "2025-02-07T00:00:00.000000000",
          "2025-02-08T00:00:00.000000000",
          "2025-02-09T00:00:00.000000000",
          "2025-02-10T00:00:00.000000000",
          "2025-02-11T00:00:00.000000000",
          "2025-02-12T00:00:00.000000000",
          "2025-02-13T00:00:00.000000000",
          "2025-02-14T00:00:00.000000000",
          "2025-02-15T00:00:00.000000000",
          "2025-02-16T00:00:00.000000000",
          "2025-02-17T00:00:00.000000000",
          "2025-02-18T00:00:00.000000000",
          "2025-02-19T00:00:00.000000000",
          "2025-02-20T00:00:00.000000000",
          "2025-02-21T00:00:00.000000000",
          "2025-02-22T00:00:00.000000000",
          "2025-02-23T00:00:00.000000000",
          "2025-02-24T00:00:00.000000000",
          "2025-02-25T00:00:00.000000000",
          "2025-02-26T00:00:00.000000000",
          "2025-02-27T00:00:00.000000000",
          "2025-02-28T00:00:00.000000000",
          "2025-03-01T00:00:00.000000000",
          "2025-03-02T00:00:00.000000000",
          "2025-03-03T00:00:00.000000000",
          "2025-03-04T00:00:00.000000000",
          "2025-03-05T00:00:00.000000000",
          "2025-03-06T00:00:00.000000000",
          "2025-03-07T00:00:00.000000000",
          "2025-03-08T00:00:00.000000000",
          "2025-03-09T00:00:00.000000000",
          "2025-03-10T00:00:00.000000000",
          "2025-03-11T00:00:00.000000000",
          "2025-03-12T00:00:00.000000000",
          "2025-03-13T00:00:00.000000000",
          "2025-03-14T00:00:00.000000000",
          "2025-03-15T00:00:00.000000000",
          "2025-03-16T00:00:00.000000000",
          "2025-03-17T00:00:00.000000000",
          "2025-03-18T00:00:00.000000000",
          "2025-03-19T00:00:00.000000000",
          "2025-03-20T00:00:00.000000000",
          "2025-03-21T00:00:00.000000000",
          "2025-03-22T00:00:00.000000000",
          "2025-03-23T00:00:00.000000000",
          "2025-03-24T00:00:00.000000000",
          "2025-03-25T00:00:00.000000000",
          "2025-03-26T00:00:00.000000000",
          "2025-03-27T00:00:00.000000000",
          "2025-03-28T00:00:00.000000000",
          "2025-03-29T00:00:00.000000000",
          "2025-03-30T00:00:00.000000000",
          "2025-03-31T00:00:00.000000000",
          "2025-04-01T00:00:00.000000000",
          "2025-04-02T00:00:00.000000000",
          "2025-04-03T00:00:00.000000000",
          "2025-04-04T00:00:00.000000000",
          "2025-04-05T00:00:00.000000000",
          "2025-04-06T00:00:00.000000000",
          "2025-04-07T00:00:00.000000000",
          "2025-04-08T00:00:00.000000000",
          "2025-04-09T00:00:00.000000000",
          "2025-04-10T00:00:00.000000000",
          "2025-04-11T00:00:00.000000000",
          "2025-04-12T00:00:00.000000000",
          "2025-04-13T00:00:00.000000000",
          "2025-04-14T00:00:00.000000000",
          "2025-04-15T00:00:00.000000000",
          "2025-04-16T00:00:00.000000000",
          "2025-04-17T00:00:00.000000000",
          "2025-04-18T00:00:00.000000000",
          "2025-04-19T00:00:00.000000000",
          "2025-04-20T00:00:00.000000000",
          "2025-04-21T00:00:00.000000000",
          "2025-04-22T00:00:00.000000000",
          "2025-04-23T00:00:00.000000000",
          "2025-04-24T00:00:00.000000000",
          "2025-04-25T00:00:00.000000000",
          "2025-04-26T00:00:00.000000000",
          "2025-04-27T00:00:00.000000000",
          "2025-04-28T00:00:00.000000000",
          "2025-04-29T00:00:00.000000000",
          "2025-04-30T00:00:00.000000000",
          "2025-05-01T00:00:00.000000000",
          "2025-05-02T00:00:00.000000000",
          "2025-05-03T00:00:00.000000000",
          "2025-05-04T00:00:00.000000000",
          "2025-05-05T00:00:00.000000000",
          "2025-05-06T00:00:00.000000000",
          "2025-05-07T00:00:00.000000000",
          "2025-05-08T00:00:00.000000000",
          "2025-05-09T00:00:00.000000000",
          "2025-05-10T00:00:00.000000000",
          "2025-05-11T00:00:00.000000000",
          "2025-05-12T00:00:00.000000000",
          "2025-05-13T00:00:00.000000000",
          "2025-05-14T00:00:00.000000000",
          "2025-05-15T00:00:00.000000000",
          "2025-05-16T00:00:00.000000000",
          "2025-05-17T00:00:00.000000000",
          "2025-05-18T00:00:00.000000000",
          "2025-05-19T00:00:00.000000000",
          "2025-05-20T00:00:00.000000000",
          "2025-05-21T00:00:00.000000000",
          "2025-05-22T00:00:00.000000000",
          "2025-05-23T00:00:00.000000000",
          "2025-05-24T00:00:00.000000000",
          "2025-05-25T00:00:00.000000000",
          "2025-05-26T00:00:00.000000000",
          "2025-05-27T00:00:00.000000000",
          "2025-05-28T00:00:00.000000000",
          "2025-05-29T00:00:00.000000000",
          "2025-05-30T00:00:00.000000000",
          "2025-05-31T00:00:00.000000000",
          "2025-06-01T00:00:00.000000000",
          "2025-06-02T00:00:00.000000000",
          "2025-06-03T00:00:00.000000000",
          "2025-06-04T00:00:00.000000000",
          "2025-06-05T00:00:00.000000000",
          "2025-06-06T00:00:00.000000000",
          "2025-06-07T00:00:00.000000000",
          "2025-06-08T00:00:00.000000000",
          "2025-06-09T00:00:00.000000000",
          "2025-06-10T00:00:00.000000000",
          "2025-06-11T00:00:00.000000000",
          "2025-06-12T00:00:00.000000000",
          "2025-06-13T00:00:00.000000000",
          "2025-06-14T00:00:00.000000000",
          "2025-06-15T00:00:00.000000000",
          "2025-06-16T00:00:00.000000000",
          "2025-06-17T00:00:00.000000000",
          "2025-06-18T00:00:00.000000000",
          "2025-06-19T00:00:00.000000000",
          "2025-06-20T00:00:00.000000000",
          "2025-06-21T00:00:00.000000000",
          "2025-06-22T00:00:00.000000000",
          "2025-06-23T00:00:00.000000000",
          "2025-06-24T00:00:00.000000000",
          "2025-06-25T00:00:00.000000000",
          "2025-06-26T00:00:00.000000000",
          "2025-06-27T00:00:00.000000000",
          "2025-06-28T00:00:00.000000000",
          "2025-06-29T00:00:00.000000000",
          "2025-06-30T00:00:00.000000000",
          "2025-07-01T00:00:00.000000000",
          "2025-07-02T00:00:00.000000000",
          "2025-07-03T00:00:00.000000000",
          "2025-07-04T00:00:00.000000000",
          "2025-07-05T00:00:00.000000000",
          "2025-07-06T00:00:00.000000000",
          "2025-07-07T00:00:00.000000000",
          "2025-07-08T00:00:00.000000000",
          "2025-07-09T00:00:00.000000000",
          "2025-07-10T00:00:00.000000000",
          "2025-07-11T00:00:00.000000000",
          "2025-07-12T00:00:00.000000000",
          "2025-07-13T00:00:00.000000000",
          "2025-07-14T00:00:00.000000000",
          "2025-07-15T00:00:00.000000000",
          "2025-07-16T00:00:00.000000000",
          "2025-07-17T00:00:00.000000000",
          "2025-07-18T00:00:00.000000000",
          "2025-07-19T00:00:00.000000000",
          "2025-07-20T00:00:00.000000000",
          "2025-07-21T00:00:00.000000000",
          "2025-07-22T00:00:00.000000000",
          "2025-07-23T00:00:00.000000000",
          "2025-07-24T00:00:00.000000000",
          "2025-07-25T00:00:00.000000000",
          "2025-07-26T00:00:00.000000000",
          "2025-07-27T00:00:00.000000000",
          "2025-07-28T00:00:00.000000000",
          "2025-07-29T00:00:00.000000000",
          "2025-07-30T00:00:00.000000000",
          "2025-07-31T00:00:00.000000000",
          "2025-08-01T00:00:00.000000000",
          "2025-08-02T00:00:00.000000000",
          "2025-08-03T00:00:00.000000000",
          "2025-08-04T00:00:00.000000000",
          "2025-08-05T00:00:00.000000000",
          "2025-08-06T00:00:00.000000000",
          "2025-08-07T00:00:00.000000000",
          "2025-08-08T00:00:00.000000000",
          "2025-08-09T00:00:00.000000000",
          "2025-08-10T00:00:00.000000000",
          "2025-08-11T00:00:00.000000000",
          "2025-08-12T00:00:00.000000000",
          "2025-08-13T00:00:00.000000000",
          "2025-08-14T00:00:00.000000000",
          "2025-08-15T00:00:00.000000000",
          "2025-08-16T00:00:00.000000000",
          "2025-08-17T00:00:00.000000000",
          "2025-08-18T00:00:00.000000000",
          "2025-08-19T00:00:00.000000000",
          "2025-08-20T00:00:00.000000000",
          "2025-08-21T00:00:00.000000000",
          "2025-08-22T00:00:00.000000000",
          "2025-08-23T00:00:00.000000000",
          "2025-08-24T00:00:00.000000000",
          "2025-08-25T00:00:00.000000000",
          "2025-08-26T00:00:00.000000000",
          "2025-08-27T00:00:00.000000000",
          "2025-08-28T00:00:00.000000000"
         ],
         "y": {
          "dtype": "f8",
          "bdata": "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"
         },
         "type": "scatter",
         "xaxis": "x2",
         "yaxis": "y2"
        },
        {
         "fill": "tonexty",
         "fillcolor": "rgba(255,0,0,0.2)",
         "hovertemplate": "<b>Date:</b> %{x}<br><b>Drawdown:</b> %{y:.2f}%<extra></extra>",
         "line": {
          "color": "red",
          "width": 1
         },
         "mode": "lines",
         "name": "Drawdown %",
         "x": [
          "2024-09-28T00:00:00.000000000",
          "2024-09-29T00:00:00.000000000",
          "2024-09-30T00:00:00.000000000",
          "2024-10-01T00:00:00.000000000",
          "2024-10-02T00:00:00.000000000",
          "2024-10-03T00:00:00.000000000",
          "2024-10-04T00:00:00.000000000",
          "2024-10-05T00:00:00.000000000",
          "2024-10-06T00:00:00.000000000",
          "2024-10-07T00:00:00.000000000",
          "2024-10-08T00:00:00.000000000",
          "2024-10-09T00:00:00.000000000",
          "2024-10-10T00:00:00.000000000",
          "2024-10-11T00:00:00.000000000",
          "2024-10-12T00:00:00.000000000",
          "2024-10-13T00:00:00.000000000",
          "2024-10-14T00:00:00.000000000",
          "2024-10-15T00:00:00.000000000",
          "2024-10-16T00:00:00.000000000",
          "2024-10-17T00:00:00.000000000",
          "2024-10-18T00:00:00.000000000",
          "2024-10-19T00:00:00.000000000",
          "2024-10-20T00:00:00.000000000",
          "2024-10-21T00:00:00.000000000",
          "2024-10-22T00:00:00.000000000",
          "2024-10-23T00:00:00.000000000",
          "2024-10-24T00:00:00.000000000",
          "2024-10-25T00:00:00.000000000",
          "2024-10-26T00:00:00.000000000",
          "2024-10-27T00:00:00.000000000",
          "2024-10-28T00:00:00.000000000",
          "2024-10-29T00:00:00.000000000",
          "2024-10-30T00:00:00.000000000",
          "2024-10-31T00:00:00.000000000",
          "2024-11-01T00:00:00.000000000",
          "2024-11-02T00:00:00.000000000",
          "2024-11-03T00:00:00.000000000",
          "2024-11-04T00:00:00.000000000",
          "2024-11-05T00:00:00.000000000",
          "2024-11-06T00:00:00.000000000",
          "2024-11-07T00:00:00.000000000",
          "2024-11-08T00:00:00.000000000",
          "2024-11-09T00:00:00.000000000",
          "2024-11-10T00:00:00.000000000",
          "2024-11-11T00:00:00.000000000",
          "2024-11-12T00:00:00.000000000",
          "2024-11-13T00:00:00.000000000",
          "2024-11-14T00:00:00.000000000",
          "2024-11-15T00:00:00.000000000",
          "2024-11-16T00:00:00.000000000",
          "2024-11-17T00:00:00.000000000",
          "2024-11-18T00:00:00.000000000",
          "2024-11-19T00:00:00.000000000",
          "2024-11-20T00:00:00.000000000",
          "2024-11-21T00:00:00.000000000",
          "2024-11-22T00:00:00.000000000",
          "2024-11-23T00:00:00.000000000",
          "2024-11-24T00:00:00.000000000",
          "2024-11-25T00:00:00.000000000",
          "2024-11-26T00:00:00.000000000",
          "2024-11-27T00:00:00.000000000",
          "2024-11-28T00:00:00.000000000",
          "2024-11-29T00:00:00.000000000",
          "2024-11-30T00:00:00.000000000",
          "2024-12-01T00:00:00.000000000",
          "2024-12-02T00:00:00.000000000",
          "2024-12-03T00:00:00.000000000",
          "2024-12-04T00:00:00.000000000",
          "2024-12-05T00:00:00.000000000",
          "2024-12-06T00:00:00.000000000",
          "2024-12-07T00:00:00.000000000",
          "2024-12-08T00:00:00.000000000",
          "2024-12-09T00:00:00.000000000",
          "2024-12-10T00:00:00.000000000",
          "2024-12-11T00:00:00.000000000",
          "2024-12-12T00:00:00.000000000",
          "2024-12-13T00:00:00.000000000",
          "2024-12-14T00:00:00.000000000",
          "2024-12-15T00:00:00.000000000",
          "2024-12-16T00:00:00.000000000",
          "2024-12-17T00:00:00.000000000",
          "2024-12-18T00:00:00.000000000",
          "2024-12-19T00:00:00.000000000",
          "2024-12-20T00:00:00.000000000",
          "2024-12-21T00:00:00.000000000",
          "2024-12-22T00:00:00.000000000",
          "2024-12-23T00:00:00.000000000",
          "2024-12-24T00:00:00.000000000",
          "2024-12-25T00:00:00.000000000",
          "2024-12-26T00:00:00.000000000",
          "2024-12-27T00:00:00.000000000",
          "2024-12-28T00:00:00.000000000",
          "2024-12-29T00:00:00.000000000",
          "2024-12-30T00:00:00.000000000",
          "2024-12-31T00:00:00.000000000",
          "2025-01-01T00:00:00.000000000",
          "2025-01-02T00:00:00.000000000",
          "2025-01-03T00:00:00.000000000",
          "2025-01-04T00:00:00.000000000",
          "2025-01-05T00:00:00.000000000",
          "2025-01-06T00:00:00.000000000",
          "2025-01-07T00:00:00.000000000",
          "2025-01-08T00:00:00.000000000",
          "2025-01-09T00:00:00.000000000",
          "2025-01-10T00:00:00.000000000",
          "2025-01-11T00:00:00.000000000",
          "2025-01-12T00:00:00.000000000",
          "2025-01-13T00:00:00.000000000",
          "2025-01-14T00:00:00.000000000",
          "2025-01-15T00:00:00.000000000",
          "2025-01-16T00:00:00.000000000",
          "2025-01-17T00:00:00.000000000",
          "2025-01-18T00:00:00.000000000",
          "2025-01-19T00:00:00.000000000",
          "2025-01-20T00:00:00.000000000",
          "2025-01-21T00:00:00.000000000",
          "2025-01-22T00:00:00.000000000",
          "2025-01-23T00:00:00.000000000",
          "2025-01-24T00:00:00.000000000",
          "2025-01-25T00:00:00.000000000",
          "2025-01-26T00:00:00.000000000",
          "2025-01-27T00:00:00.000000000",
          "2025-01-28T00:00:00.000000000",
          "2025-01-29T00:00:00.000000000",
          "2025-01-30T00:00:00.000000000",
          "2025-01-31T00:00:00.000000000",
          "2025-02-01T00:00:00.000000000",
          "2025-02-02T00:00:00.000000000",
          "2025-02-03T00:00:00.000000000",
          "2025-02-04T00:00:00.000000000",
          "2025-02-05T00:00:00.000000000",
          "2025-02-06T00:00:00.000000000",
          "2025-02-07T00:00:00.000000000",
          "2025-02-08T00:00:00.000000000",
          "2025-02-09T00:00:00.000000000",
          "2025-02-10T00:00:00.000000000",
          "2025-02-11T00:00:00.000000000",
          "2025-02-12T00:00:00.000000000",
          "2025-02-13T00:00:00.000000000",
          "2025-02-14T00:00:00.000000000",
          "2025-02-15T00:00:00.000000000",
          "2025-02-16T00:00:00.000000000",
          "2025-02-17T00:00:00.000000000",
          "2025-02-18T00:00:00.000000000",
          "2025-02-19T00:00:00.000000000",
          "2025-02-20T00:00:00.000000000",
          "2025-02-21T00:00:00.000000000",
          "2025-02-22T00:00:00.000000000",
          "2025-02-23T00:00:00.000000000",
          "2025-02-24T00:00:00.000000000",
          "2025-02-25T00:00:00.000000000",
          "2025-02-26T00:00:00.000000000",
          "2025-02-27T00:00:00.000000000",
          "2025-02-28T00:00:00.000000000",
          "2025-03-01T00:00:00.000000000",
          "2025-03-02T00:00:00.000000000",
          "2025-03-03T00:00:00.000000000",
          "2025-03-04T00:00:00.000000000",
          "2025-03-05T00:00:00.000000000",
          "2025-03-06T00:00:00.000000000",
          "2025-03-07T00:00:00.000000000",
          "2025-03-08T00:00:00.000000000",
          "2025-03-09T00:00:00.000000000",
          "2025-03-10T00:00:00.000000000",
          "2025-03-11T00:00:00.000000000",
          "2025-03-12T00:00:00.000000000",
          "2025-03-13T00:00:00.000000000",
          "2025-03-14T00:00:00.000000000",
          "2025-03-15T00:00:00.000000000",
          "2025-03-16T00:00:00.000000000",
          "2025-03-17T00:00:00.000000000",
          "2025-03-18T00:00:00.000000000",
          "2025-03-19T00:00:00.000000000",
          "2025-03-20T00:00:00.000000000",
          "2025-03-21T00:00:00.000000000",
          "2025-03-22T00:00:00.000000000",
          "2025-03-23T00:00:00.000000000",
          "2025-03-24T00:00:00.000000000",
          "2025-03-25T00:00:00.000000000",
          "2025-03-26T00:00:00.000000000",
          "2025-03-27T00:00:00.000000000",
          "2025-03-28T00:00:00.000000000",
          "2025-03-29T00:00:00.000000000",
          "2025-03-30T00:00:00.000000000",
          "2025-03-31T00:00:00.000000000",
          "2025-04-01T00:00:00.000000000",
          "2025-04-02T00:00:00.000000000",
          "2025-04-03T00:00:00.000000000",
          "2025-04-04T00:00:00.000000000",
          "2025-04-05T00:00:00.000000000",
          "2025-04-06T00:00:00.000000000",
          "2025-04-07T00:00:00.000000000",
          "2025-04-08T00:00:00.000000000",
          "2025-04-09T00:00:00.000000000",
          "2025-04-10T00:00:00.000000000",
          "2025-04-11T00:00:00.000000000",
          "2025-04-12T00:00:00.000000000",
          "2025-04-13T00:00:00.000000000",
          "2025-04-14T00:00:00.000000000",
          "2025-04-15T00:00:00.000000000",
          "2025-04-16T00:00:00.000000000",
          "2025-04-17T00:00:00.000000000",
          "2025-04-18T00:00:00.000000000",
          "2025-04-19T00:00:00.000000000",
          "2025-04-20T00:00:00.000000000",
          "2025-04-21T00:00:00.000000000",
          "2025-04-22T00:00:00.000000000",
          "2025-04-23T00:00:00.000000000",
          "2025-04-24T00:00:00.000000000",
          "2025-04-25T00:00:00.000000000",
          "2025-04-26T00:00:00.000000000",
          "2025-04-27T00:00:00.000000000",
          "2025-04-28T00:00:00.000000000",
          "2025-04-29T00:00:00.000000000",
          "2025-04-30T00:00:00.000000000",
          "2025-05-01T00:00:00.000000000",
          "2025-05-02T00:00:00.000000000",
          "2025-05-03T00:00:00.000000000",
          "2025-05-04T00:00:00.000000000",
          "2025-05-05T00:00:00.000000000",
          "2025-05-06T00:00:00.000000000",
          "2025-05-07T00:00:00.000000000",
          "2025-05-08T00:00:00.000000000",
          "2025-05-09T00:00:00.000000000",
          "2025-05-10T00:00:00.000000000",
          "2025-05-11T00:00:00.000000000",
          "2025-05-12T00:00:00.000000000",
          "2025-05-13T00:00:00.000000000",
          "2025-05-14T00:00:00.000000000",
          "2025-05-15T00:00:00.000000000",
          "2025-05-16T00:00:00.000000000",
          "2025-05-17T00:00:00.000000000",
          "2025-05-18T00:00:00.000000000",
          "2025-05-19T00:00:00.000000000",
          "2025-05-20T00:00:00.000000000",
          "2025-05-21T00:00:00.000000000",
          "2025-05-22T00:00:00.000000000",
          "2025-05-23T00:00:00.000000000",
          "2025-05-24T00:00:00.000000000",
          "2025-05-25T00:00:00.000000000",
          "2025-05-26T00:00:00.000000000",
          "2025-05-27T00:00:00.000000000",
          "2025-05-28T00:00:00.000000000",
          "2025-05-29T00:00:00.000000000",
          "2025-05-30T00:00:00.000000000",
          "2025-05-31T00:00:00.000000000",
          "2025-06-01T00:00:00.000000000",
          "2025-06-02T00:00:00.000000000",
          "2025-06-03T00:00:00.000000000",
          "2025-06-04T00:00:00.000000000",
          "2025-06-05T00:00:00.000000000",
          "2025-06-06T00:00:00.000000000",
          "2025-06-07T00:00:00.000000000",
          "2025-06-08T00:00:00.000000000",
          "2025-06-09T00:00:00.000000000",
          "2025-06-10T00:00:00.000000000",
          "2025-06-11T00:00:00.000000000",
          "2025-06-12T00:00:00.000000000",
          "2025-06-13T00:00:00.000000000",
          "2025-06-14T00:00:00.000000000",
          "2025-06-15T00:00:00.000000000",
          "2025-06-16T00:00:00.000000000",
          "2025-06-17T00:00:00.000000000",
          "2025-06-18T00:00:00.000000000",
          "2025-06-19T00:00:00.000000000",
          "2025-06-20T00:00:00.000000000",
          "2025-06-21T00:00:00.000000000",
          "2025-06-22T00:00:00.000000000",
          "2025-06-23T00:00:00.000000000",
          "2025-06-24T00:00:00.000000000",
          "2025-06-25T00:00:00.000000000",
          "2025-06-26T00:00:00.000000000",
          "2025-06-27T00:00:00.000000000",
          "2025-06-28T00:00:00.000000000",
          "2025-06-29T00:00:00.000000000",
          "2025-06-30T00:00:00.000000000",
          "2025-07-01T00:00:00.000000000",
          "2025-07-02T00:00:00.000000000",
          "2025-07-03T00:00:00.000000000",
          "2025-07-04T00:00:00.000000000",
          "2025-07-05T00:00:00.000000000",
          "2025-07-06T00:00:00.000000000",
          "2025-07-07T00:00:00.000000000",
          "2025-07-08T00:00:00.000000000",
          "2025-07-09T00:00:00.000000000",
          "2025-07-10T00:00:00.000000000",
          "2025-07-11T00:00:00.000000000",
          "2025-07-12T00:00:00.000000000",
          "2025-07-13T00:00:00.000000000",
          "2025-07-14T00:00:00.000000000",
          "2025-07-15T00:00:00.000000000",
          "2025-07-16T00:00:00.000000000",
          "2025-07-17T00:00:00.000000000",
          "2025-07-18T00:00:00.000000000",
          "2025-07-19T00:00:00.000000000",
          "2025-07-20T00:00:00.000000000",
          "2025-07-21T00:00:00.000000000",
          "2025-07-22T00:00:00.000000000",
          "2025-07-23T00:00:00.000000000",
          "2025-07-24T00:00:00.000000000",
          "2025-07-25T00:00:00.000000000",
          "2025-07-26T00:00:00.000000000",
          "2025-07-27T00:00:00.000000000",
          "2025-07-28T00:00:00.000000000",
          "2025-07-29T00:00:00.000000000",
          "2025-07-30T00:00:00.000000000",
          "2025-07-31T00:00:00.000000000",
          "2025-08-01T00:00:00.000000000",
          "2025-08-02T00:00:00.000000000",
          "2025-08-03T00:00:00.000000000",
          "2025-08-04T00:00:00.000000000",
          "2025-08-05T00:00:00.000000000",
          "2025-08-06T00:00:00.000000000",
          "2025-08-07T00:00:00.000000000",
          "2025-08-08T00:00:00.000000000",
          "2025-08-09T00:00:00.000000000",
          "2025-08-10T00:00:00.000000000",
          "2025-08-11T00:00:00.000000000",
          "2025-08-12T00:00:00.000000000",
          "2025-08-13T00:00:00.000000000",
          "2025-08-14T00:00:00.000000000",
          "2025-08-15T00:00:00.000000000",
          "2025-08-16T00:00:00.000000000",
          "2025-08-17T00:00:00.000000000",
          "2025-08-18T00:00:00.000000000",
          "2025-08-19T00:00:00.000000000",
          "2025-08-20T00:00:00.000000000",
          "2025-08-21T00:00:00.000000000",
          "2025-08-22T00:00:00.000000000",
          "2025-08-23T00:00:00.000000000",
          "2025-08-24T00:00:00.000000000",
          "2025-08-25T00:00:00.000000000",
          "2025-08-26T00:00:00.000000000",
          "2025-08-27T00:00:00.000000000",
          "2025-08-28T00:00:00.000000000"
         ],
         "y": {
          "dtype": "f8",
          "bdata": "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"
         },
         "type": "scatter",
         "xaxis": "x3",
         "yaxis": "y3"
        },
        {
         "hovertemplate": "<b>Return Range:</b> %{x:.2f}%<br><b>Frequency:</b> %{y}<extra></extra>",
         "marker": {
          "color": "lightblue"
         },
         "name": "Daily Returns",
         "nbinsx": 40,
         "opacity": 0.7,
         "x": {
          "dtype": "f8",
          "bdata": "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"
         },
         "type": "histogram",
         "xaxis": "x4",
         "yaxis": "y4"
        },
        {
         "line": {
          "color": "red",
          "dash": "dash",
          "width": 2
         },
         "mode": "lines",
         "name": "Normal Distribution",
         "x": {
          "dtype": "f8",
          "bdata": "cr88i990FsD/q/ssm6sVwIyYus5W4hTAGoV5cBIZFMCncTgSzk8TwDRe97OJhhLAwkq2VUW9EcBPN3X3APQQwNwjNJm8KhDA0iDmdfDCDsDt+WO5ZzANwAjT4fzenQvAIqxfQFYLCsA8hd2DzXgIwFdeW8dE5gbAcjfZCrxTBcCMEFdOM8EDwKbp1JGqLgLAwcJS1SGcAMC4N6ExMhP+v+zpnLgg7vq/IJyYPw/J979YTpTG/aP0v4wAkE3sfvG/gGUXqbWz7L/oyQ63kmnmv1AuBsVvH+C/gCX7pZmq079AuacHT1m8v4AjnYjI97U/AIA4BjgS0j8wt0nqfabePzB3LedhneU/yBI22YTn6z8wV5/l0xjxP/iko17lPfQ/xPKn1/Zi9z+QQKxQCIj6P1iOsMkZrf0/Em5aoRVpAED4lNxdnvsBQNy7XhonjgNAxOLg1q8gBUCoCWOTOLMGQIww5U/BRQhAdFdnDErYCUBYfunI0moLQECla4Vb/QxAJMztQeSPDkCE+Td/NhEQQPgMed162hBAaiC6O7+jEUDeM/uZA20SQFBHPPhHNhNAwlp9Voz/E0A2br600MgUQKiB/xIVkhVAGpVAcVlbFkCOqIHPnSQXQAC8wi3i7RdAcs8DjCa3GEDm4kTqaoAZQFj2hUivSRpAzAnHpvMSG0A+HQgFONwbQLAwSWN8pRxAJESKwcBuHUCWV8sfBTgeQAprDH5JAR9AfH5N3I3KH0D3SEcd6UkgQLHSZ0yLriBAalyIey0TIUAj5qiqz3chQN1vydlx3CFAlvnpCBRBIkBPgwo4tqUiQAkNK2dYCiNAwpZLlvpuI0B8IGzFnNMjQDWqjPQ+OCRA7jOtI+GcJECnvc1SgwElQGFH7oElZiVAG9EOscfKJUDTWi/gaS8mQI3kTw8MlCZAR25wPq74JkD/95BtUF0nQLmBsZzywSdAcwvSy5QmKEAtlfL6NosoQOUeEyrZ7yhAn6gzWXtUKUBZMlSIHbkpQBG8dLe/HSpAy0WV5mGCKkCFz7UVBOcqQD1Z1kSmSytA+OL2c0iwK0A="
         },
         "y": {
          "dtype": "f8",
          "bdata": "Stp6v2GToT/I01b5bVmsP4QbR9ejfLY/zomYD/yKwT8YNMs+w+vKP+Ye+qPcUNQ/CxV8uVco3j8xTFTjxwPmP/JvxJWYnO8/Wnga1H5S9j/gvTECggH/P7oy9xDXLQVAhlzYju50DED+azzFfs0SQEjMWLE3cBhAwsOSIGk9H0DgDSm4ZaMjQMolC+SaSChA3XZS5XuILUD1SO1ZtKkxQGLNRJyAxzRAkliv4PgKOEDiuSjvV1w7QIozbNCenz5AnwuhI/vaQEDNsHxavj9CQHKbnrGubkNAtqxgxwBaREDzIj8VkvZEQMFytGHIPEVAsDvSYi4pRUAyLWAEvLxEQC41XBrC/ENA2EZ80HvyQkAnaq9YUqpBQHbSx7znMkBAvRM4RgY4PUDtxedM9eo5QOjK8xdqnDZAO4kYW7FmM0AGUP+ma18wQLaeQazKLStAJ50J9dwvJkDAveAoRdAhQF2T0DMbIhxACKg/nIPZFUAyusqYo7AQQN5WAvvVEwlAWCnwKJmHAkC+zf/Ele76PyWZgljuP/M/gO28Z3gQ6z+lbFoaV7biP+aCSzf1ctk/BY4rp0EF0T/mfsN2U2TGP5KNNvIc+bw/gtvHu31vsj9lf9x5EBOnP1tUxuesZ5w/rjpRDQkykT9jHOKr5nmEP8ZJ6xQu+3c/M+64nZufaz+qPm1oeEtfP2Jno9Fdb1E/izS/r1obQz8mhotSFJg0P7YSEeHU1CU/krcYmATDFj+G2NuRRlcHP9LQPLdeivc+rp7mjcdZ5z6uZGAE58fWPivxwzjc28U+6neU8uugtD4nYrNunCWjPuas752ZepE+deWc3f9ifz5ie95AWbdrPnYGFSFfElg+ngama+iPRD66D6JaXkYxPvPn/SRTjBw+kUfv5FIzBz6UabrkQIvyPRVLptXeJ909+YkvNeGKxj1Oxx9nZiSxPQ30L+xFpJk9BBZWmp/cgj023MV0xEprPdm/lUd6a1M9cwnhymwuOz0vrx8Gh7UiPc2zHwu2VAk9g61M2Z/d8DwOvzxuxhbWPOOcfyoJdLw8pq5vVBQGojw="
         },
         "type": "scatter",
         "xaxis": "x4",
         "yaxis": "y4"
        },
        {
         "colorbar": {
          "title": {
           "text": "Return %"
          }
         },
         "colorscale": [
          [
           0.0,
           "rgb(165,0,38)"
          ],
          [
           0.1,
           "rgb(215,48,39)"
          ],
          [
           0.2,
           "rgb(244,109,67)"
          ],
          [
           0.3,
           "rgb(253,174,97)"
          ],
          [
           0.4,
           "rgb(254,224,139)"
          ],
          [
           0.5,
           "rgb(255,255,191)"
          ],
          [
           0.6,
           "rgb(217,239,139)"
          ],
          [
           0.7,
           "rgb(166,217,106)"
          ],
          [
           0.8,
           "rgb(102,189,99)"
          ],
          [
           0.9,
           "rgb(26,152,80)"
          ],
          [
           1.0,
           "rgb(0,104,55)"
          ]
         ],
         "hovertemplate": "<b>%{y} %{x}:</b> %{z:.2f}%<extra></extra>",
         "x": [
          "Jan",
          "Feb",
          "Mar",
          "Apr",
          "May",
          "Jun",
          "Jul",
          "Aug",
          "Sep",
          "Oct",
          "Nov",
          "Dec"
         ],
         "y": {
          "dtype": "i4",
          "bdata": "6AcAAOkHAAA="
         },
         "z": {
          "dtype": "f8",
          "bdata": "AAAAAAAAAAAAAAAAAAAAAAAAAAAAAAAAAAAAAAAAAAAAAAAAAAAAAAAAAAAAAAAAAAAAAAAAAAAAAAAAAAAAAMBPtbtko7e/AEdwv84pmD/pC1LK1KQ2QGy1BAPvjeK/YGSK+TMMGkAbxwUxSyEnwO/A8mhBlShAvjOBfVTv9j9qB/NSZqMZQCAJHKJo0wjAHUHO0MbrKUDgx0pg/qvRPwAAAAAAAAAAAAAAAAAAAAAAAAAAAAAAAAAAAAAAAAAA",
          "shape": "2, 12"
         },
         "type": "heatmap",
         "xaxis": "x5",
         "yaxis": "y5"
        },
        {
         "hovertemplate": "<b>P&L Range:</b> $%{x:.0f}<br><b>Frequency:</b> %{y}<extra></extra>",
         "marker": {
          "color": "green"
         },
         "name": "Trade P&L",
         "nbinsx": 30,
         "opacity": 0.7,
         "x": {
          "dtype": "f8",
          "bdata": "jYcvBAvYcMD/vdArjohywBpYzpuXt3XAXv43wwLRacD37MZSqqplwChAzdJKDlvAddyiAkdwdUDXvnAElSB1QIn/R9FedFNAWYZ4wfSwdkDzhQ8ORNxpwDzfqzbo1mbA24gwMR0PUkApfF+zmLdrQAuGEENLl3RA2Cu9xyYCg0BPzHcalJt5QNq9Meaev7FAl8giiMV1pkDxCx6BuJmjQLn1w9ZJ86lA+XmP48MEuEDzKzzhrjiawKlKKR79iqxAD6z9aLB3sEC7KCphgJSxwCWmpasBS4DA+k/hgd0aaEAQE4rsod+zQFrqjgfYn4DAv0DI9z4shsCbROjzTt5xwCDugKQgP33AbWXRdWMcr0CyYg1PCVd6QL7eZ/2lul9A34Yta12gg8CY/r41bp+UwI6cl5ZyXonAGIfxMvL7k8CO+/cbkD6nQKAk2TRzoptASqP1jXQhoUDOFkC7lQBwQEAmxqlTFoXAt6Gn+FP6hcBxM69nzlR6wP8w/LrnX33AgxHfpIKagsDIsDZEsLOIwCo3onuJYYLAXClZlya+msCHI6KUw/mXwFg6IFBIO5HAA+S3zx1wjUBpvstRzhyiwHAyE4fpLJnAvst/sp6zjsCULx0BkX+UwO2Yav2mL8VAcciXa0pFpEBxX5JDF3qFQBE+n7OT+YtAQX6Z2GvVaUD4TjTJ8b1WQJH0pwPxU4HAsxwDK08IZ8CyCEqT2EN7QGCfBBcTAmxAC7cqsz6yf0CvdiDUU8V4QE+XDQpQpaTAhWF50Mt8oMBy1wf9BrGSwPqd7S/+DaHAabVbC0tNlcB780qy9dyaQMJkr0OUKZNAU163luwRk0BDi8VrSIyZQDvLFkQ6741ANdUMgyhqfkCeALCTOpx0QJWAMe3tDYVAbU9SCxxHx0CjDAe40QinQHbIqw0IXqLA7Ja65bOtrMAC/227M/miQNsBSmPAsaHAVwwQEm42nsAmOfoCsDOUwPXc4Xu+h29AaoCuDGEnW0Bid3QMq558QMKBURICx6NAfGSc/YwWkcADoKAdcfSQwGelDLc9E4XA+bchcZbkj8A1E5yIVTKVwEWFGpeE65HAKSKfqyJSkMA/oaENIwCWwG4ZgvRMlY/Ary/8Xu3QhkAja/79KbiTQEpX4e1fFZBAs+JjhYQskUBAFKmxDpONwEZjuaGLaXBADeJY1LeWaMDu75s7Q9dvwNLtPJzrKWFAlknX40hsi0AOuDTPccuYQOTsgVKp/pVA8tWsGZebd0A2Z/YArcajQJrTTUDY665AIGum/GViwECK9MTwlraeQLz4vTKaX57AkO9zyGbsqMD1VLGg6jyRwKli+nQGPXPA46h3zorwl0Bwwqene0ShQP1OwTJZ2n1A+rUhUF/pjUD6+LFe6lmRQFs3VIvKr6XA7ZG65bggYkCHa/Q1bVl3wIsTr4vafY5AFye1BtxzUUB6v2kkRouOwA=="
         },
         "type": "histogram",
         "xaxis": "x6",
         "yaxis": "y6"
        }
       ],
       "layout": {
        "template": {
         "data": {
          "histogram2dcontour": [
           {
            "type": "histogram2dcontour",
            "colorbar": {
             "outlinewidth": 0,
             "ticks": ""
            },
            "colorscale": [
             [
              0.0,
              "#0d0887"
             ],
             [
              0.1111111111111111,
              "#46039f"
             ],
             [
              0.2222222222222222,
              "#7201a8"
             ],
             [
              0.3333333333333333,
              "#9c179e"
             ],
             [
              0.4444444444444444,
              "#bd3786"
             ],
             [
              0.5555555555555556,
              "#d8576b"
             ],
             [
              0.6666666666666666,
              "#ed7953"
             ],
             [
              0.7777777777777778,
              "#fb9f3a"
             ],
             [
              0.8888888888888888,
              "#fdca26"
             ],
             [
              1.0,
              "#f0f921"
             ]
            ]
           }
          ],
          "choropleth": [
           {
            "type": "choropleth",
            "colorbar": {
             "outlinewidth": 0,
             "ticks": ""
            }
           }
          ],
          "histogram2d": [
           {
            "type": "histogram2d",
            "colorbar": {
             "outlinewidth": 0,
             "ticks": ""
            },
            "colorscale": [
             [
              0.0,
              "#0d0887"
             ],
             [
              0.1111111111111111,
              "#46039f"
             ],
             [
              0.2222222222222222,
              "#7201a8"
             ],
             [
              0.3333333333333333,
              "#9c179e"
             ],
             [
              0.4444444444444444,
              "#bd3786"
             ],
             [
              0.5555555555555556,
              "#d8576b"
             ],
             [
              0.6666666666666666,
              "#ed7953"
             ],
             [
              0.7777777777777778,
              "#fb9f3a"
             ],
             [
              0.8888888888888888,
              "#fdca26"
             ],
             [
              1.0,
              "#f0f921"
             ]
            ]
           }
          ],
          "heatmap": [
           {
            "type": "heatmap",
            "colorbar": {
             "outlinewidth": 0,
             "ticks": ""
            },
            "colorscale": [
             [
              0.0,
              "#0d0887"
             ],
             [
              0.1111111111111111,
              "#46039f"
             ],
             [
              0.2222222222222222,
              "#7201a8"
             ],
             [
              0.3333333333333333,
              "#9c179e"
             ],
             [
              0.4444444444444444,
              "#bd3786"
             ],
             [
              0.5555555555555556,
              "#d8576b"
             ],
             [
              0.6666666666666666,
              "#ed7953"
             ],
             [
              0.7777777777777778,
              "#fb9f3a"
             ],
             [
              0.8888888888888888,
              "#fdca26"
             ],
             [
              1.0,
              "#f0f921"
             ]
            ]
           }
          ],
          "contourcarpet": [
           {
            "type": "contourcarpet",
            "colorbar": {
             "outlinewidth": 0,
             "ticks": ""
            }
           }
          ],
          "contour": [
           {
            "type": "contour",
            "colorbar": {
             "outlinewidth": 0,
             "ticks": ""
            },
            "colorscale": [
             [
              0.0,
              "#0d0887"
             ],
             [
              0.1111111111111111,
              "#46039f"
             ],
             [
              0.2222222222222222,
              "#7201a8"
             ],
             [
              0.3333333333333333,
              "#9c179e"
             ],
             [
              0.4444444444444444,
              "#bd3786"
             ],
             [
              0.5555555555555556,
              "#d8576b"
             ],
             [
              0.6666666666666666,
              "#ed7953"
             ],
             [
              0.7777777777777778,
              "#fb9f3a"
             ],
             [
              0.8888888888888888,
              "#fdca26"
             ],
             [
              1.0,
              "#f0f921"
             ]
            ]
           }
          ],
          "surface": [
           {
            "type": "surface",
            "colorbar": {
             "outlinewidth": 0,
             "ticks": ""
            },
            "colorscale": [
             [
              0.0,
              "#0d0887"
             ],
             [
              0.1111111111111111,
              "#46039f"
             ],
             [
              0.2222222222222222,
              "#7201a8"
             ],
             [
              0.3333333333333333,
              "#9c179e"
             ],
             [
              0.4444444444444444,
              "#bd3786"
             ],
             [
              0.5555555555555556,
              "#d8576b"
             ],
             [
              0.6666666666666666,
              "#ed7953"
             ],
             [
              0.7777777777777778,
              "#fb9f3a"
             ],
             [
              0.8888888888888888,
              "#fdca26"
             ],
             [
              1.0,
              "#f0f921"
             ]
            ]
           }
          ],
          "mesh3d": [
           {
            "type": "mesh3d",
            "colorbar": {
             "outlinewidth": 0,
             "ticks": ""
            }
           }
          ],
          "scatter": [
           {
            "fillpattern": {
             "fillmode": "overlay",
             "size": 10,
             "solidity": 0.2
            },
            "type": "scatter"
           }
          ],
          "parcoords": [
           {
            "type": "parcoords",
            "line": {
             "colorbar": {
              "outlinewidth": 0,
              "ticks": ""
             }
            }
           }
          ],
          "scatterpolargl": [
           {
            "type": "scatterpolargl",
            "marker": {
             "colorbar": {
              "outlinewidth": 0,
              "ticks": ""
             }
            }
           }
          ],
          "bar": [
           {
            "error_x": {
             "color": "#2a3f5f"
            },
            "error_y": {
             "color": "#2a3f5f"
            },
            "marker": {
             "line": {
              "color": "white",
              "width": 0.5
             },
             "pattern": {
              "fillmode": "overlay",
              "size": 10,
              "solidity": 0.2
             }
            },
            "type": "bar"
           }
          ],
          "scattergeo": [
           {
            "type": "scattergeo",
            "marker": {
             "colorbar": {
              "outlinewidth": 0,
              "ticks": ""
             }
            }
           }
          ],
          "scatterpolar": [
           {
            "type": "scatterpolar",
            "marker": {
             "colorbar": {
              "outlinewidth": 0,
              "ticks": ""
             }
            }
           }
          ],
          "histogram": [
           {
            "marker": {
             "pattern": {
              "fillmode": "overlay",
              "size": 10,
              "solidity": 0.2
             }
            },
            "type": "histogram"
           }
          ],
          "scattergl": [
           {
            "type": "scattergl",
            "marker": {
             "colorbar": {
              "outlinewidth": 0,
              "ticks": ""
             }
            }
           }
          ],
          "scatter3d": [
           {
            "type": "scatter3d",
            "line": {
             "colorbar": {
              "outlinewidth": 0,
              "ticks": ""
             }
            },
            "marker": {
             "colorbar": {
              "outlinewidth": 0,
              "ticks": ""
             }
            }
           }
          ],
          "scattermap": [
           {
            "type": "scattermap",
            "marker": {
             "colorbar": {
              "outlinewidth": 0,
              "ticks": ""
             }
            }
           }
          ],
          "scattermapbox": [
           {
            "type": "scattermapbox",
            "marker": {
             "colorbar": {
              "outlinewidth": 0,
              "ticks": ""
             }
            }
           }
          ],
          "scatterternary": [
           {
            "type": "scatterternary",
            "marker": {
             "colorbar": {
              "outlinewidth": 0,
              "ticks": ""
             }
            }
           }
          ],
          "scattercarpet": [
           {
            "type": "scattercarpet",
            "marker": {
             "colorbar": {
              "outlinewidth": 0,
              "ticks": ""
             }
            }
           }
          ],
          "carpet": [
           {
            "aaxis": {
             "endlinecolor": "#2a3f5f",
             "gridcolor": "#C8D4E3",
             "linecolor": "#C8D4E3",
             "minorgridcolor": "#C8D4E3",
             "startlinecolor": "#2a3f5f"
            },
            "baxis": {
             "endlinecolor": "#2a3f5f",
             "gridcolor": "#C8D4E3",
             "linecolor": "#C8D4E3",
             "minorgridcolor": "#C8D4E3",
             "startlinecolor": "#2a3f5f"
            },
            "type": "carpet"
           }
          ],
          "table": [
           {
            "cells": {
             "fill": {
              "color": "#EBF0F8"
             },
             "line": {
              "color": "white"
             }
            },
            "header": {
             "fill": {
              "color": "#C8D4E3"
             },
             "line": {
              "color": "white"
             }
            },
            "type": "table"
           }
          ],
          "barpolar": [
           {
            "marker": {
             "line": {
              "color": "white",
              "width": 0.5
             },
             "pattern": {
              "fillmode": "overlay",
              "size": 10,
              "solidity": 0.2
             }
            },
            "type": "barpolar"
           }
          ],
          "pie": [
           {
            "automargin": true,
            "type": "pie"
           }
          ]
         },
         "layout": {
          "autotypenumbers": "strict",
          "colorway": [
           "#636efa",
           "#EF553B",
           "#00cc96",
           "#ab63fa",
           "#FFA15A",
           "#19d3f3",
           "#FF6692",
           "#B6E880",
           "#FF97FF",
           "#FECB52"
          ],
          "font": {
           "color": "#2a3f5f"
          },
          "hovermode": "closest",
          "hoverlabel": {
           "align": "left"
          },
          "paper_bgcolor": "white",
          "plot_bgcolor": "white",
          "polar": {
           "bgcolor": "white",
           "angularaxis": {
            "gridcolor": "#EBF0F8",
            "linecolor": "#EBF0F8",
            "ticks": ""
           },
           "radialaxis": {
            "gridcolor": "#EBF0F8",
            "linecolor": "#EBF0F8",
            "ticks": ""
           }
          },
          "ternary": {
           "bgcolor": "white",
           "aaxis": {
            "gridcolor": "#DFE8F3",
            "linecolor": "#A2B1C6",
            "ticks": ""
           },
           "baxis": {
            "gridcolor": "#DFE8F3",
            "linecolor": "#A2B1C6",
            "ticks": ""
           },
           "caxis": {
            "gridcolor": "#DFE8F3",
            "linecolor": "#A2B1C6",
            "ticks": ""
           }
          },
          "coloraxis": {
           "colorbar": {
            "outlinewidth": 0,
            "ticks": ""
           }
          },
          "colorscale": {
           "sequential": [
            [
             0.0,
             "#0d0887"
            ],
            [
             0.1111111111111111,
             "#46039f"
            ],
            [
             0.2222222222222222,
             "#7201a8"
            ],
            [
             0.3333333333333333,
             "#9c179e"
            ],
            [
             0.4444444444444444,
             "#bd3786"
            ],
            [
             0.5555555555555556,
             "#d8576b"
            ],
            [
             0.6666666666666666,
             "#ed7953"
            ],
            [
             0.7777777777777778,
             "#fb9f3a"
            ],
            [
             0.8888888888888888,
             "#fdca26"
            ],
            [
             1.0,
             "#f0f921"
            ]
           ],
           "sequentialminus": [
            [
             0.0,
             "#0d0887"
            ],
            [
             0.1111111111111111,
             "#46039f"
            ],
            [
             0.2222222222222222,
             "#7201a8"
            ],
            [
             0.3333333333333333,
             "#9c179e"
            ],
            [
             0.4444444444444444,
             "#bd3786"
            ],
            [
             0.5555555555555556,
             "#d8576b"
            ],
            [
             0.6666666666666666,
             "#ed7953"
            ],
            [
             0.7777777777777778,
             "#fb9f3a"
            ],
            [
             0.8888888888888888,
             "#fdca26"
            ],
            [
             1.0,
             "#f0f921"
            ]
           ],
           "diverging": [
            [
             0,
             "#8e0152"
            ],
            [
             0.1,
             "#c51b7d"
            ],
            [
             0.2,
             "#de77ae"
            ],
            [
             0.3,
             "#f1b6da"
            ],
            [
             0.4,
             "#fde0ef"
            ],
            [
             0.5,
             "#f7f7f7"
            ],
            [
             0.6,
             "#e6f5d0"
            ],
            [
             0.7,
             "#b8e186"
            ],
            [
             0.8,
             "#7fbc41"
            ],
            [
             0.9,
             "#4d9221"
            ],
            [
             1,
             "#276419"
            ]
           ]
          },
          "xaxis": {
           "gridcolor": "#EBF0F8",
           "linecolor": "#EBF0F8",
           "ticks": "",
           "title": {
            "standoff": 15
           },
           "zerolinecolor": "#EBF0F8",
           "automargin": true,
           "zerolinewidth": 2
          },
          "yaxis": {
           "gridcolor": "#EBF0F8",
           "linecolor": "#EBF0F8",
           "ticks": "",
           "title": {
            "standoff": 15
           },
           "zerolinecolor": "#EBF0F8",
           "automargin": true,
           "zerolinewidth": 2
          },
          "scene": {
           "xaxis": {
            "backgroundcolor": "white",
            "gridcolor": "#DFE8F3",
            "linecolor": "#EBF0F8",
            "showbackground": true,
            "ticks": "",
            "zerolinecolor": "#EBF0F8",
            "gridwidth": 2
           },
           "yaxis": {
            "backgroundcolor": "white",
            "gridcolor": "#DFE8F3",
            "linecolor": "#EBF0F8",
            "showbackground": true,
            "ticks": "",
            "zerolinecolor": "#EBF0F8",
            "gridwidth": 2
           },
           "zaxis": {
            "backgroundcolor": "white",
            "gridcolor": "#DFE8F3",
            "linecolor": "#EBF0F8",
            "showbackground": true,
            "ticks": "",
            "zerolinecolor": "#EBF0F8",
            "gridwidth": 2
           }
          },
          "shapedefaults": {
           "line": {
            "color": "#2a3f5f"
           }
          },
          "annotationdefaults": {
           "arrowcolor": "#2a3f5f",
           "arrowhead": 0,
           "arrowwidth": 1
          },
          "geo": {
           "bgcolor": "white",
           "landcolor": "white",
           "subunitcolor": "#C8D4E3",
           "showland": true,
           "showlakes": true,
           "lakecolor": "white"
          },
          "title": {
           "x": 0.05
          },
          "mapbox": {
           "style": "light"
          }
         }
        },
        "xaxis": {
         "anchor": "y",
         "domain": [
          0.0,
          0.45
         ],
         "title": {
          "text": "Date"
         }
        },
        "yaxis": {
         "anchor": "x",
         "domain": [
          0.7333333333333334,
          1.0
         ],
         "title": {
          "text": "Volatility (%)"
         }
        },
        "xaxis2": {
         "anchor": "y2",
         "domain": [
          0.55,
          1.0
         ],
         "title": {
          "text": "Date"
         }
        },
        "yaxis2": {
         "anchor": "x2",
         "domain": [
          0.7333333333333334,
          1.0
         ],
         "title": {
          "text": "Sharpe Ratio"
         }
        },
        "xaxis3": {
         "anchor": "y3",
         "domain": [
          0.0,
          0.45
         ],
         "title": {
          "text": "Date"
         }
        },
        "yaxis3": {
         "anchor": "x3",
         "domain": [
          0.3666666666666667,
          0.6333333333333333
         ],
         "title": {
          "text": "Drawdown (%)"
         }
        },
        "xaxis4": {
         "anchor": "y4",
         "domain": [
          0.55,
          1.0
         ],
         "title": {
          "text": "Daily Return (%)"
         }
        },
        "yaxis4": {
         "anchor": "x4",
         "domain": [
          0.3666666666666667,
          0.6333333333333333
         ],
         "title": {
          "text": "Frequency"
         }
        },
        "xaxis5": {
         "anchor": "y5",
         "domain": [
          0.0,
          0.45
         ],
         "title": {
          "text": "Month"
         }
        },
        "yaxis5": {
         "anchor": "x5",
         "domain": [
          0.0,
          0.26666666666666666
         ],
         "title": {
          "text": "Year"
         }
        },
        "xaxis6": {
         "anchor": "y6",
         "domain": [
          0.55,
          1.0
         ],
         "title": {
          "text": "Trade P&L ($)"
         }
        },
        "yaxis6": {
         "anchor": "x6",
         "domain": [
          0.0,
          0.26666666666666666
         ],
         "title": {
          "text": "Frequency"
         }
        },
        "annotations": [
         {
          "font": {
           "size": 16
          },
          "showarrow": false,
          "text": "Rolling 30-Day Volatility",
          "x": 0.225,
          "xanchor": "center",
          "xref": "paper",
          "y": 1.0,
          "yanchor": "bottom",
          "yref": "paper"
         },
         {
          "font": {
           "size": 16
          },
          "showarrow": false,
          "text": "Rolling 30-Day Sharpe Ratio",
          "x": 0.775,
          "xanchor": "center",
          "xref": "paper",
          "y": 1.0,
          "yanchor": "bottom",
          "yref": "paper"
         },
         {
          "font": {
           "size": 16
          },
          "showarrow": false,
          "text": "Underwater Curve (Drawdown)",
          "x": 0.225,
          "xanchor": "center",
          "xref": "paper",
          "y": 0.6333333333333333,
          "yanchor": "bottom",
          "yref": "paper"
         },
         {
          "font": {
           "size": 16
          },
          "showarrow": false,
          "text": "Daily Returns Distribution",
          "x": 0.775,
          "xanchor": "center",
          "xref": "paper",
          "y": 0.6333333333333333,
          "yanchor": "bottom",
          "yref": "paper"
         },
         {
          "font": {
           "size": 16
          },
          "showarrow": false,
          "text": "Monthly Returns Heatmap",
          "x": 0.225,
          "xanchor": "center",
          "xref": "paper",
          "y": 0.26666666666666666,
          "yanchor": "bottom",
          "yref": "paper"
         },
         {
          "font": {
           "size": 16
          },
          "showarrow": false,
          "text": "Trade P&L Distribution",
          "x": 0.775,
          "xanchor": "center",
          "xref": "paper",
          "y": 0.26666666666666666,
          "yanchor": "bottom",
          "yref": "paper"
         },
         {
          "showarrow": false,
          "text": "Mean Vol",
          "x": 1,
          "xanchor": "right",
          "xref": "x domain",
          "y": 23.324669371494366,
          "yanchor": "bottom",
          "yref": "y"
         },
         {
          "showarrow": false,
          "text": "Zero",
          "x": 1,
          "xanchor": "right",
          "xref": "x2 domain",
          "y": 0,
          "yanchor": "bottom",
          "yref": "y2"
         },
         {
          "showarrow": false,
          "text": "Good (>1)",
          "x": 1,
          "xanchor": "right",
          "xref": "x2 domain",
          "y": 1,
          "yanchor": "bottom",
          "yref": "y2"
         },
         {
          "showarrow": false,
          "text": "Break Even",
          "x": 0,
          "xanchor": "left",
          "xref": "x6",
          "y": 1,
          "yanchor": "top",
          "yref": "y6 domain"
         }
        ],
        "shapes": [
         {
          "line": {
           "color": "gray",
           "dash": "dash"
          },
          "type": "line",
          "x0": 0,
          "x1": 1,
          "xref": "x domain",
          "y0": 23.324669371494366,
          "y1": 23.324669371494366,
          "yref": "y"
         },
         {
          "line": {
           "color": "red",
           "dash": "dash"
          },
          "type": "line",
          "x0": 0,
          "x1": 1,
          "xref": "x2 domain",
          "y0": 0,
          "y1": 0,
          "yref": "y2"
         },
         {
          "line": {
           "color": "green",
           "dash": "dash"
          },
          "type": "line",
          "x0": 0,
          "x1": 1,
          "xref": "x2 domain",
          "y0": 1,
          "y1": 1,
          "yref": "y2"
         },
         {
          "line": {
           "color": "black",
           "dash": "dash"
          },
          "type": "line",
          "x0": 0,
          "x1": 0,
          "xref": "x6",
          "y0": 0,
          "y1": 1,
          "yref": "y6 domain"
         }
        ],
        "title": {
         "text": "Advanced Risk Analysis Dashboard",
         "x": 0.5
        },
        "height": 1200,
        "showlegend": false
       },
       "config": {
        "plotlyServerURL": "https://plot.ly"
       }
      }
     },
     "metadata": {},
     "output_type": "display_data"
    },
    {
     "name": "stdout",
     "output_type": "stream",
     "text": [
      "\n",
      "⚠️ ADVANCED RISK ASSESSMENT\n",
      "--------------------------------------------------\n",
      "\n",
      "📊 DISTRIBUTION ANALYSIS:\n",
      "   Skewness:                2.503 (Right-skewed - more extreme positive returns)\n",
      "   Kurtosis:                21.522 (Fat tails - higher extreme event probability)\n",
      "   Tail Ratio:              0.90 (Balanced tail risk)\n",
      "   Max Consecutive Loss Days: 6\n",
      "\n",
      "🚨 EXTREME RISK METRICS:\n",
      "   95% VaR (Daily):         -1.71% (Low risk)\n",
      "   99% VaR (Daily):         -3.74% (Moderate extreme risk)\n",
      "   Expected Shortfall (95%): -2.91%\n",
      "   Worst Single Day:        -5.61%\n",
      "   Best Single Day:         13.84%\n",
      "\n",
      "💡 PROFESSIONAL RISK ASSESSMENT:\n",
      "   • Volatility Profile: Average 30-day volatility of 23.32% indicates moderate volatility strategy\n",
      "   • Consistency: Rolling Sharpe ratio ranges from -6.34 to 9.30, showing variable risk-adjusted performance\n",
      "   • Drawdown Recovery: Maximum underwater period provides insight into strategy resilience during adverse conditions\n",
      "   • Distribution Characteristics: Non-normal return distribution requires careful risk management\n"
     ]
    }
   ],
   "execution_count": 40
  }
 ],
 "metadata": {
  "kernelspec": {
   "display_name": "Python 3",
   "language": "python",
   "name": "python3"
  },
  "language_info": {
   "codemirror_mode": {
    "name": "ipython",
    "version": 3
   },
   "file_extension": ".py",
   "mimetype": "text/x-python",
   "name": "python",
   "nbconvert_exporter": "python",
   "pygments_lexer": "ipython3",
   "version": "3.8.0"
  }
 },
 "nbformat": 4,
 "nbformat_minor": 4
}
