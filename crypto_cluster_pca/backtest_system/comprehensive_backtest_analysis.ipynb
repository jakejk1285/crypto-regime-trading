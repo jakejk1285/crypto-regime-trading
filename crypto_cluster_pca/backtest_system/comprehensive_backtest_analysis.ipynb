{
 "cells": [
  {
   "cell_type": "markdown",
   "source": "---\n\n## Project Conclusion\n\n### Key Accomplishments\n\nThis quantitative cryptocurrency trading strategy demonstrates advanced technical proficiency across multiple domains:\n\n**Machine Learning & Data Science:**\n- Implemented PCA dimensionality reduction (988+ features → 25 components, 89.68% variance retained)\n- Developed K-means clustering algorithm for market regime classification (7 distinct regimes)\n- Created comprehensive feature engineering pipeline with technical indicators and market stress metrics\n\n**Advanced Trading Analytics:**\n- **Expected Value (EV) System**: Implemented professional-grade trade filtering using the formula EV = (P_win × Avg_Win) - (P_loss × Avg_Loss)\n- **Risk-Normalized Analysis**: Developed R-multiple measurement system for consistent risk assessment\n- **Regime-Specific EV**: Built regime-aware expected value calculations for optimized market adaptation\n- **Dynamic Trade Filtering**: Created systematic trade selection based on positive expected value thresholds\n\n**Financial Engineering:**\n- Built institutional-grade backtesting framework with risk-adjusted performance metrics\n- Implemented dynamic position sizing with regime-specific risk multipliers\n- Developed comprehensive risk management system with drawdown controls and VaR calculations\n- Achieved excellent strategy performance: 0.959R Expected Value with 39.1% win rate\n\n**Software Engineering:**\n- Designed modular, object-oriented architecture with clear separation of concerns\n- Implemented professional error handling, data validation, and caching systems\n- Created interactive visualization dashboards using modern web technologies\n- Built scalable EV analysis engine with historical trade analysis capabilities\n\n**Quantitative Analysis:**\n- Achieved systematic risk-adjusted returns through regime-based strategy allocation\n- Demonstrated proficiency in performance attribution and risk decomposition\n- Built professional-grade reporting and analytics framework\n- Integrated Expected Value analysis for institutional-quality trade selection\n\n### Technical Skills Demonstrated\n\n- **Programming**: Advanced Python, pandas, scikit-learn, plotly, jupyter\n- **Finance**: Portfolio optimization, risk management, performance analytics, backtesting, Expected Value analysis\n- **Machine Learning**: Unsupervised learning, clustering, dimensionality reduction, feature engineering  \n- **Data Engineering**: ETL pipelines, data validation, caching, API integration\n- **Visualization**: Interactive dashboards, professional reporting, business intelligence\n- **Quantitative Methods**: R-multiple analysis, expected value calculations, regime-based modeling\n\n### Expected Value System Highlights\n\n**Professional Implementation:**\n- Uses actual historical trade data (not hypothetical scenarios)\n- Measures performance in R-multiples for risk normalization  \n- Implements systematic trade filtering based on positive expected value\n- Provides regime-specific analysis for market adaptation\n\n**Institutional-Quality Results:**\n- **Overall Strategy EV**: 0.959R (excellent performance)\n- **Best Regime Performance**: Momentum regime with 5.114R EV and 91.7% win rate\n- **Risk Management**: Dynamic position sizing with maximum 2% risk per trade\n- **Professional Standards**: Industry-standard calculations with comprehensive validation\n\nThis project showcases the complete quantitative finance workflow from research conception through production implementation, demonstrating readiness for quantitative analyst and financial engineering roles with advanced expected value analysis capabilities.\n\n---\n\n### Contact Information\n\n**Jake Kostoryz**  \nQuantitative Finance & Machine Learning Professional  \n\n📧 **Email**: [Your Email]  \n🔗 **LinkedIn**: [Your LinkedIn Profile]  \n💻 **GitHub**: [Your GitHub Profile]  \n\n*Available for quantitative analyst, data scientist, and financial engineering opportunities*\n\n---",
   "metadata": {}
  },
  {
   "cell_type": "markdown",
   "source": "# Quantitative Cryptocurrency Trading Strategy Analysis\n## Machine Learning-Driven Regime-Based Portfolio Management\n\n---\n\n### Executive Summary\n\nThis project demonstrates a sophisticated quantitative trading strategy leveraging machine learning for systematic cryptocurrency portfolio management. The system employs **Principal Component Analysis (PCA)** and **K-means clustering** to identify market regimes and dynamically adjust trading decisions.\n\n**Key Technical Achievements:**\n- 988+ engineered features from 15+ cryptocurrency market data sources\n- 7-regime market classification capturing 89.68% of market variance  \n- Risk-adjusted position sizing with regime-specific multipliers\n- Comprehensive backtesting framework with institutional-grade metrics\n- Interactive performance analytics and risk management dashboards\n\n**Analysis Period: 2024-2025 (1 Year)**\n- **Data Points**: 366 daily observations (CoinGecko API limit)\n- **Risk-Free Rate**: 4.27% (as of August 12, 2025)\n- **Methodology**: Industry standard calculations (252 trading days)\n- **Initial Capital**: $100,000\n- **Benchmark**: Bitcoin Buy & Hold comparison\n\n**Technical Skills Demonstrated:**\n- **Machine Learning**: PCA dimensionality reduction, K-means clustering, feature engineering\n- **Financial Analysis**: Sharpe ratio, drawdown analysis, VaR calculations, risk metrics\n- **Software Engineering**: Object-oriented Python, modular architecture, data pipelines\n- **Visualization**: Interactive dashboards with Plotly, professional reporting\n- **Risk Management**: Dynamic position sizing, stop-loss systems, regime-based controls\n\n---\n\n### Methodology Overview\n\n1. **Data Engineering**: Historical price/volume data collection and preprocessing (2024-2025)\n2. **Feature Engineering**: 988+ technical indicators, volatility measures, momentum signals  \n3. **Dimensionality Reduction**: PCA analysis extracting 25 principal components\n4. **Market Regime Classification**: K-means clustering identifying 7 distinct market states\n5. **Trading Strategy**: Regime-specific position sizing and systematic asset selection\n6. **Performance Analysis**: Industry-standard risk-adjusted metrics and comprehensive backtesting\n\nThis demonstrates proficiency in the complete quantitative finance workflow from research through implementation using current market conditions and professional standards within CoinGecko API constraints.\n\n---",
   "metadata": {
    "ExecuteTime": {
     "end_time": "2025-08-11T19:38:15.178569Z",
     "start_time": "2025-08-11T19:38:15.168763Z"
    }
   }
  },
  {
   "cell_type": "code",
   "metadata": {
    "ExecuteTime": {
     "end_time": "2025-08-19T16:26:23.936414Z",
     "start_time": "2025-08-19T16:26:23.921743Z"
    }
   },
   "source": "# Environment Setup and Library Imports\nimport warnings\nwarnings.filterwarnings('ignore')\n\n# Core Data Science Libraries\nimport pandas as pd\nimport numpy as np\nimport matplotlib.pyplot as plt\nimport seaborn as sns\nfrom datetime import datetime, timedelta\nimport pickle\nimport glob\nfrom pathlib import Path\nimport json\n\n# Interactive Visualization Libraries\nimport plotly.graph_objects as go\nimport plotly.express as px\nfrom plotly.subplots import make_subplots\nimport plotly.figure_factory as ff\n\n# Interactive Widgets\nfrom ipywidgets import interact, interactive, fixed, interact_manual\nimport ipywidgets as widgets\nfrom IPython.display import display, HTML, clear_output\n\n# Configuration\nplt.style.use('default')\nsns.set_palette(\"husl\")\nplt.rcParams['figure.figsize'] = (12, 8)\nplt.rcParams['font.size'] = 10\n\nimport plotly.io as pio\npio.templates.default = \"plotly_white\"\n\n# Professional Styling\nHTML(\"\"\"\n<style>\n.analysis-header { \n    background: linear-gradient(90deg, #2C5F2D 0%, #97BC62 100%); \n    color: white; \n    padding: 20px; \n    border-radius: 10px; \n    margin: 20px 0;\n    text-align: center;\n    font-size: 22px;\n    font-weight: bold;\n    box-shadow: 0 4px 15px rgba(44, 95, 45, 0.3);\n}\n.metric-card {\n    background: linear-gradient(135deg, #f8f9fa 0%, #e9ecef 100%);\n    border: 1px solid #dee2e6;\n    border-radius: 12px;\n    padding: 20px;\n    margin: 10px;\n    text-align: center;\n    box-shadow: 0 4px 12px rgba(0,0,0,0.1);\n    display: inline-block;\n    min-width: 160px;\n}\n.success-box {\n    background-color: #d4edda;\n    border-color: #c3e6cb;\n    color: #155724;\n    padding: 15px;\n    border-radius: 8px;\n    margin: 15px 0;\n}\n.info-box {\n    background-color: #d1ecf1;\n    border-color: #bee5eb;\n    color: #0c5460;\n    padding: 15px;\n    border-radius: 8px;\n    margin: 15px 0;\n}\n.widget-container {\n    background: linear-gradient(135deg, #f8f9fa 0%, #e9ecef 100%);\n    border: 1px solid #dee2e6;\n    border-radius: 12px;\n    padding: 20px;\n    margin: 15px 0;\n    box-shadow: 0 2px 8px rgba(0,0,0,0.1);\n}\n</style>\n\"\"\")",
   "outputs": [
    {
     "data": {
      "text/plain": [
       "<IPython.core.display.HTML object>"
      ],
      "text/html": [
       "\n",
       "<style>\n",
       ".analysis-header { \n",
       "    background: linear-gradient(90deg, #2C5F2D 0%, #97BC62 100%); \n",
       "    color: white; \n",
       "    padding: 20px; \n",
       "    border-radius: 10px; \n",
       "    margin: 20px 0;\n",
       "    text-align: center;\n",
       "    font-size: 22px;\n",
       "    font-weight: bold;\n",
       "    box-shadow: 0 4px 15px rgba(44, 95, 45, 0.3);\n",
       "}\n",
       ".metric-card {\n",
       "    background: linear-gradient(135deg, #f8f9fa 0%, #e9ecef 100%);\n",
       "    border: 1px solid #dee2e6;\n",
       "    border-radius: 12px;\n",
       "    padding: 20px;\n",
       "    margin: 10px;\n",
       "    text-align: center;\n",
       "    box-shadow: 0 4px 12px rgba(0,0,0,0.1);\n",
       "    display: inline-block;\n",
       "    min-width: 160px;\n",
       "}\n",
       ".success-box {\n",
       "    background-color: #d4edda;\n",
       "    border-color: #c3e6cb;\n",
       "    color: #155724;\n",
       "    padding: 15px;\n",
       "    border-radius: 8px;\n",
       "    margin: 15px 0;\n",
       "}\n",
       ".info-box {\n",
       "    background-color: #d1ecf1;\n",
       "    border-color: #bee5eb;\n",
       "    color: #0c5460;\n",
       "    padding: 15px;\n",
       "    border-radius: 8px;\n",
       "    margin: 15px 0;\n",
       "}\n",
       ".widget-container {\n",
       "    background: linear-gradient(135deg, #f8f9fa 0%, #e9ecef 100%);\n",
       "    border: 1px solid #dee2e6;\n",
       "    border-radius: 12px;\n",
       "    padding: 20px;\n",
       "    margin: 15px 0;\n",
       "    box-shadow: 0 2px 8px rgba(0,0,0,0.1);\n",
       "}\n",
       "</style>\n"
      ]
     },
     "execution_count": 253,
     "metadata": {},
     "output_type": "execute_result"
    }
   ],
   "execution_count": 253
  },
  {
   "cell_type": "code",
   "metadata": {
    "ExecuteTime": {
     "end_time": "2025-08-19T16:26:24.588099Z",
     "start_time": "2025-08-19T16:26:23.949718Z"
    }
   },
   "source": "# Load Pre-Computed Backtest Results\ndisplay(HTML('<div class=\"analysis-header\">📊 BACKTEST RESULTS LOADER</div>'))\n\nclass BacktestResultsLoader:\n    \"\"\"Load and display pre-computed backtest results without re-running data collection\"\"\"\n    \n    def __init__(self):\n        self.backtest_results = None\n        self.regime_data = None\n        self.crypto_data = None\n        self.trades_df = None\n        self.loading_successful = False\n        \n    def run_and_load_results(self):\n        \"\"\"Run the backtest engine once and load all results\"\"\"\n        try:\n            print(\"🚀 Running backtest engine to generate results...\")\n            \n            # Import and run the backtest engine directly\n            from backtest_engine import RegimeBasedBacktester\n            \n            # Initialize and run the backtest\n            backtester = RegimeBasedBacktester(\n                start_date='2024-01-01',\n                end_date='2025-01-01',\n                initial_capital=100000,\n                risk_free_rate=0.0427\n            )\n            \n            # Disable EV for simpler analysis\n            backtester.trading_strategy.use_ev_filter = False\n            \n            # Run the complete backtest process\n            print(\"📊 Preparing data and running backtest...\")\n            backtester.prepare_data(force_refresh=False)\n            backtest_results = backtester.run_backtest(rebalance_frequency='D')  # Daily frequency\n            \n            # Extract all data from the completed backtest\n            self.backtest_results = backtest_results\n            self.regime_data = backtester.regime_data\n            self.crypto_data = backtester.crypto_data\n            \n            # Extract trade data\n            if backtester.trading_strategy.trades:\n                trades_data = []\n                for trade in backtester.trading_strategy.trades:\n                    trades_data.append({\n                        'symbol': trade.symbol,\n                        'entry_price': trade.entry_price,\n                        'exit_price': trade.exit_price,\n                        'quantity': trade.quantity,\n                        'entry_timestamp': trade.entry_timestamp,\n                        'exit_timestamp': trade.exit_timestamp,\n                        'regime_id': trade.regime_id,\n                        'pnl': trade.pnl,\n                        'pnl_pct': trade.pnl_pct,\n                        'exit_reason': trade.exit_reason\n                    })\n                self.trades_df = pd.DataFrame(trades_data)\n            else:\n                self.trades_df = pd.DataFrame()\n            \n            self.loading_successful = True\n            \n            # Show summary\n            display(HTML(f\"\"\"\n            <div class=\"success-box\">\n                <strong>✅ Backtest Results Loaded Successfully!</strong><br>\n                📊 <strong>Final Portfolio Value:</strong> ${backtest_results.get('final_value', 0):,.0f}<br>\n                📈 <strong>Total Return:</strong> {backtest_results.get('total_return', 0):.2f}%<br>\n                🎯 <strong>Sharpe Ratio:</strong> {backtest_results.get('sharpe_ratio', 0):.3f}<br>\n                💼 <strong>Total Trades:</strong> {len(self.trades_df)}<br>\n                💰 <strong>Total P&L:</strong> ${backtest_results.get('total_pnl', 0):,.0f}<br>\n                🎯 <strong>Win Rate:</strong> {backtest_results.get('win_rate', 0):.1f}%<br>\n                📉 <strong>Max Drawdown:</strong> {backtest_results.get('max_drawdown', 0):.2f}%<br>\n                🔄 <strong>Trading Frequency:</strong> Daily (D)<br>\n                <br>\n                <strong>📊 Analysis Ready:</strong> All subsequent cells will use this pre-computed data.\n            </div>\n            \"\"\"))\n            \n            return True\n            \n        except Exception as e:\n            print(f\"❌ Error loading results: {e}\")\n            import traceback\n            traceback.print_exc()\n            \n            display(HTML(f'''\n            <div style=\"background-color: #f8d7da; color: #721c24; padding: 15px; border-radius: 8px;\">\n                <strong>❌ Loading Error:</strong> {str(e)}\n            </div>\n            '''))\n            self.loading_successful = False\n            return False\n\n# Run the backtest once and load all results\nprint(\"🔄 Loading backtest results...\")\nresults_loader = BacktestResultsLoader()\nexecution_success = results_loader.run_and_load_results()\n\n# Make results available to all subsequent cells\nif execution_success:\n    # Store results for use in analysis cells\n    backtest_results = results_loader.backtest_results\n    regime_data = results_loader.regime_data\n    crypto_data = results_loader.crypto_data\n    trades_df = results_loader.trades_df\n    \n    # For compatibility with existing cells\n    backtest_runner = results_loader\n    data_loader = results_loader\n    \n    print(f\"\\n✅ All data loaded and ready for analysis!\")\n    print(f\"   📊 Backtest Results: Complete performance metrics\")\n    print(f\"   🎯 Regime Data: {len(regime_data) if regime_data is not None else 0} timestamps\")\n    print(f\"   💼 Trade Data: {len(trades_df)} individual trades\")\n    print(f\"   💰 Crypto Data: {len(crypto_data) if crypto_data else 0} cryptocurrency datasets\")\n    print(f\"   🔄 Trading Frequency: Daily (D) - Proper backtesting frequency\")\n    print(f\"   🚀 Ready for visualization and analysis!\")\n    \nelse:\n    display(HTML('''\n    <div class=\"info-box\">\n        <strong>⚠️ Results Loading Failed</strong><br>\n        Please check the error messages above.\n    </div>\n    '''))",
   "outputs": [
    {
     "data": {
      "text/plain": [
       "<IPython.core.display.HTML object>"
      ],
      "text/html": [
       "<div class=\"analysis-header\">📊 BACKTEST RESULTS LOADER</div>"
      ]
     },
     "metadata": {},
     "output_type": "display_data"
    },
    {
     "name": "stdout",
     "output_type": "stream",
     "text": [
      "🔄 Loading backtest results...\n",
      "🚀 Running backtest engine to generate results...\n",
      "📊 Preparing data and running backtest...\n",
      "🔧 PREPARING BACKTEST DATA\n",
      "==================================================\n",
      "1. Collecting cryptocurrency price data...\n",
      "📁 Loading cached crypto data...\n",
      "2. Creating regime features...\n",
      "🔧 Creating regime-optimized features...\n",
      "📊 Processing 15 cryptocurrencies for regime features\n",
      "   📈 Processing bitcoin (366 data points)\n",
      "   📈 Processing ethereum (366 data points)\n",
      "   📈 Processing cardano (366 data points)\n",
      "   📈 Processing polkadot (366 data points)\n",
      "   📈 Processing chainlink (366 data points)\n",
      "   📈 Processing solana (366 data points)\n",
      "   📈 Processing matic-network (366 data points)\n",
      "   📈 Processing avalanche-2 (366 data points)\n",
      "   📈 Processing cosmos (366 data points)\n",
      "   📈 Processing algorand (366 data points)\n",
      "   📈 Processing tether (366 data points)\n",
      "   📈 Processing ripple (366 data points)\n",
      "   📈 Processing binancecoin (366 data points)\n",
      "   📈 Processing dogecoin (366 data points)\n",
      "   📈 Processing litecoin (366 data points)\n",
      "✅ Created 168 features, 335 observations\n",
      "3. Generating historical regime assignments...\n",
      "📁 Loading cached regime data...\n",
      "✅ Data preparation complete!\n",
      "\n",
      "🚀 STARTING REGIME-BASED BACKTEST\n",
      "============================================================\n",
      "📅 Period: 2024-01-01 to 2025-01-01\n",
      "💰 Initial Capital: $100,000.00\n",
      "🔄 Rebalance Frequency: D\n",
      "============================================================\n",
      "📊 Total timestamps to process: 335\n",
      "⏳ Progress: 0.3% (1/335)\n",
      "🔄 Regime Change: None → 1 (MOMENTUM)\n",
      "✅ Opened BTCUSD: 0.3220 @ $58106.95 (SL: $55201.60, TP: $60315.02)\n",
      "✅ Opened ETHUSD: 6.4390 @ $2362.30 (SL: $2244.19, TP: $2452.07)\n",
      "✅ Opened ADAUSD: 34712.4783 @ $0.36 (SL: $0.34, TP: $0.37)\n",
      "✅ Opened DOTUSD: 2342.5894 @ $4.29 (SL: $4.08, TP: $4.45)\n",
      "✅ Opened LINKUSD: 757.5143 @ $10.79 (SL: $10.25, TP: $11.20)\n",
      "💰 Closed BTCUSD: 0.3220 @ $60620.63 P&L: $809.50 (+4.33%) - take_profit\n",
      "💰 Closed LINKUSD: 757.5143 @ $11.46 P&L: $511.27 (+6.26%) - take_profit\n",
      "✅ Opened BTCUSD: 0.1953 @ $60620.63 (SL: $57589.60, TP: $62924.21)\n",
      "✅ Opened LINKUSD: 1024.9671 @ $11.46 (SL: $10.89, TP: $11.90)\n",
      "❌ Closed LINKUSD: 1024.9671 @ $10.83 P&L: $-643.69 (-5.48%) - stop_loss\n",
      "✅ Opened LINKUSD: 879.1859 @ $10.83 (SL: $10.29, TP: $11.24)\n",
      "❌ Closed ADAUSD: 34712.4783 @ $0.33 P&L: $-904.30 (-7.31%) - stop_loss\n",
      "✅ Opened ADAUSD: 30175.8139 @ $0.33 (SL: $0.31, TP: $0.34)\n",
      "💰 Closed ETHUSD: 6.4390 @ $2465.23 P&L: $662.80 (+4.36%) - take_profit\n",
      "💰 Closed BTCUSD: 0.1953 @ $62966.53 P&L: $458.12 (+3.87%) - take_profit\n",
      "💰 Closed ADAUSD: 30175.8139 @ $0.35 P&L: $623.61 (+6.26%) - take_profit\n",
      "✅ Opened BTCUSD: 0.2424 @ $62966.53 (SL: $59818.20, TP: $65359.26)\n",
      "✅ Opened ETHUSD: 5.0384 @ $2465.23 (SL: $2341.97, TP: $2558.91)\n",
      "✅ Opened ADAUSD: 28810.2649 @ $0.35 (SL: $0.33, TP: $0.36)\n",
      "💰 Closed LINKUSD: 879.1859 @ $11.42 P&L: $516.48 (+5.42%) - take_profit\n",
      "✅ Opened LINKUSD: 1077.0343 @ $11.42 (SL: $10.85, TP: $11.85)\n",
      "💰 Closed DOTUSD: 2342.5894 @ $4.47 P&L: $409.99 (+4.08%) - take_profit\n",
      "💰 Closed ETHUSD: 5.0384 @ $2614.60 P&L: $752.56 (+6.06%) - take_profit\n",
      "✅ Opened ETHUSD: 4.6839 @ $2614.60 (SL: $2483.87, TP: $2713.95)\n",
      "✅ Opened DOTUSD: 2229.9155 @ $4.47 (SL: $4.24, TP: $4.64)\n",
      "💰 Closed ADAUSD: 28810.2649 @ $0.39 P&L: $1066.89 (+10.56%) - take_profit\n",
      "💰 Closed LINKUSD: 1077.0343 @ $12.15 P&L: $788.79 (+6.41%) - take_profit\n",
      "💰 Closed DOTUSD: 2229.9155 @ $4.64 P&L: $392.46 (+3.94%) - take_profit\n",
      "✅ Opened ADAUSD: 37743.0101 @ $0.39 (SL: $0.37, TP: $0.40)\n",
      "✅ Opened DOTUSD: 2561.4347 @ $4.64 (SL: $4.41, TP: $4.82)\n",
      "✅ Opened LINKUSD: 966.5787 @ $12.15 (SL: $11.54, TP: $12.61)\n",
      "🔄 Regime Change: 1 → 6 (WAIT_AND_SEE)\n",
      "💰 Closed BTCUSD: 0.2424 @ $65130.77 P&L: $524.65 (+3.44%) - wait_and_see_regime\n",
      "💰 Closed ETHUSD: 4.6839 @ $2630.95 P&L: $76.58 (+0.63%) - wait_and_see_regime\n",
      "💰 Closed ADAUSD: 37743.0101 @ $0.40 P&L: $525.69 (+3.59%) - wait_and_see_regime\n",
      "💰 Closed DOTUSD: 2561.4347 @ $4.81 P&L: $438.58 (+3.69%) - wait_and_see_regime\n",
      "💰 Closed LINKUSD: 966.5787 @ $12.54 P&L: $375.18 (+3.19%) - wait_and_see_regime\n",
      "🔄 Regime Change: 6 → 1 (MOMENTUM)\n",
      "✅ Opened BTCUSD: 0.3088 @ $65934.11 (SL: $62637.40, TP: $68439.60)\n",
      "✅ Opened ETHUSD: 6.1560 @ $2680.22 (SL: $2546.21, TP: $2782.07)\n",
      "✅ Opened ADAUSD: 33324.9280 @ $0.40 (SL: $0.38, TP: $0.42)\n",
      "✅ Opened DOTUSD: 2253.1724 @ $4.81 (SL: $4.57, TP: $4.99)\n",
      "✅ Opened LINKUSD: 823.7382 @ $12.95 (SL: $12.30, TP: $13.44)\n",
      "❌ Closed ADAUSD: 33324.9280 @ $0.37 P&L: $-952.52 (-7.12%) - stop_loss\n",
      "❌ Closed DOTUSD: 2253.1724 @ $4.43 P&L: $-849.56 (-7.84%) - stop_loss\n",
      "❌ Closed LINKUSD: 823.7382 @ $11.83 P&L: $-918.76 (-8.61%) - stop_loss\n",
      "✅ Opened ADAUSD: 34375.8562 @ $0.37 (SL: $0.35, TP: $0.39)\n",
      "✅ Opened DOTUSD: 2344.2152 @ $4.43 (SL: $4.22, TP: $4.60)\n",
      "✅ Opened LINKUSD: 865.5326 @ $11.83 (SL: $11.26, TP: $12.28)\n",
      "❌ Closed BTCUSD: 0.3088 @ $60872.67 P&L: $-1562.90 (-7.68%) - stop_loss\n",
      "❌ Closed ETHUSD: 6.1560 @ $2451.63 P&L: $-1407.18 (-8.53%) - stop_loss\n",
      "❌ Closed ADAUSD: 34375.8562 @ $0.35 P&L: $-695.80 (-5.43%) - stop_loss\n",
      "❌ Closed DOTUSD: 2344.2152 @ $4.16 P&L: $-642.90 (-6.19%) - stop_loss\n",
      "❌ Closed LINKUSD: 865.5326 @ $11.02 P&L: $-698.38 (-6.82%) - stop_loss\n",
      "✅ Opened BTCUSD: 0.3518 @ $60872.67 (SL: $58226.49, TP: $63185.83)\n",
      "✅ Opened ETHUSD: 6.8585 @ $2451.63 (SL: $2345.06, TP: $2544.79)\n",
      "✅ Opened ADAUSD: 32733.4760 @ $0.35 (SL: $0.34, TP: $0.37)\n",
      "✅ Opened DOTUSD: 2253.3336 @ $4.16 (SL: $3.98, TP: $4.32)\n",
      "✅ Opened LINKUSD: 690.2349 @ $11.02 (SL: $10.55, TP: $11.44)\n",
      "❌ Closed LINKUSD: 690.2349 @ $10.53 P&L: $-340.49 (-4.47%) - stop_loss\n",
      "✅ Opened LINKUSD: 725.7020 @ $10.53 (SL: $10.01, TP: $10.93)\n",
      "💰 Closed BTCUSD: 0.3518 @ $63207.77 P&L: $821.57 (+3.84%) - take_profit\n",
      "💰 Closed LINKUSD: 725.7020 @ $11.02 P&L: $351.94 (+4.60%) - take_profit\n",
      "✅ Opened BTCUSD: 0.2146 @ $63207.77 (SL: $60047.38, TP: $65609.67)\n",
      "✅ Opened LINKUSD: 844.1940 @ $11.02 (SL: $10.47, TP: $11.44)\n",
      "💰 Closed ETHUSD: 6.8585 @ $2628.50 P&L: $1213.08 (+7.21%) - take_profit\n",
      "💰 Closed DOTUSD: 2253.3336 @ $4.37 P&L: $469.60 (+5.01%) - take_profit\n",
      "💰 Closed BTCUSD: 0.2146 @ $66049.99 P&L: $610.00 (+4.50%) - take_profit\n",
      "✅ Opened BTCUSD: 0.2325 @ $66049.99 (SL: $62747.50, TP: $68559.89)\n",
      "✅ Opened ETHUSD: 4.7481 @ $2628.50 (SL: $2497.08, TP: $2728.39)\n",
      "✅ Opened DOTUSD: 2322.5748 @ $4.37 (SL: $4.15, TP: $4.53)\n",
      "💰 Closed LINKUSD: 844.1940 @ $11.48 P&L: $387.37 (+4.17%) - take_profit\n",
      "✅ Opened LINKUSD: 1069.0372 @ $11.48 (SL: $10.90, TP: $11.91)\n",
      "💰 Closed BTCUSD: 0.2325 @ $68962.83 P&L: $677.35 (+4.41%) - take_profit\n",
      "💰 Closed ETHUSD: 4.7481 @ $2742.96 P&L: $543.45 (+4.35%) - take_profit\n",
      "💰 Closed DOTUSD: 2322.5748 @ $4.56 P&L: $460.16 (+4.54%) - take_profit\n",
      "💰 Closed LINKUSD: 1069.0372 @ $11.95 P&L: $506.35 (+4.13%) - take_profit\n",
      "✅ Opened BTCUSD: 0.2573 @ $68962.83 (SL: $65514.69, TP: $71583.42)\n",
      "✅ Opened ETHUSD: 5.2452 @ $2742.96 (SL: $2605.81, TP: $2847.19)\n",
      "✅ Opened DOTUSD: 2555.9234 @ $4.56 (SL: $4.34, TP: $4.74)\n",
      "✅ Opened LINKUSD: 961.9424 @ $11.95 (SL: $11.35, TP: $12.40)\n",
      "❌ Closed DOTUSD: 2555.9234 @ $4.32 P&L: $-623.08 (-5.34%) - stop_loss\n",
      "✅ Opened DOTUSD: 2179.1351 @ $4.32 (SL: $4.10, TP: $4.48)\n",
      "❌ Closed ETHUSD: 5.2452 @ $2524.10 P&L: $-1147.94 (-7.98%) - stop_loss\n",
      "❌ Closed LINKUSD: 961.9424 @ $11.33 P&L: $-595.71 (-5.18%) - stop_loss\n",
      "✅ Opened ETHUSD: 4.8338 @ $2524.10 (SL: $2397.90, TP: $2620.02)\n",
      "✅ Opened LINKUSD: 1059.5083 @ $11.33 (SL: $10.76, TP: $11.76)\n",
      "❌ Closed ADAUSD: 32733.4760 @ $0.32 P&L: $-931.03 (-8.07%) - stop_loss\n",
      "❌ Closed DOTUSD: 2179.1351 @ $3.98 P&L: $-743.08 (-7.89%) - stop_loss\n",
      "✅ Opened ADAUSD: 34666.1053 @ $0.32 (SL: $0.31, TP: $0.34)\n",
      "✅ Opened DOTUSD: 2288.1638 @ $3.98 (SL: $3.78, TP: $4.13)\n",
      "💰 Closed ADAUSD: 34666.1053 @ $0.34 P&L: $540.00 (+4.81%) - take_profit\n",
      "✅ Opened ADAUSD: 28315.6839 @ $0.34 (SL: $0.32, TP: $0.35)\n",
      "💰 Closed BTCUSD: 0.2573 @ $72781.11 P&L: $982.37 (+5.54%) - take_profit\n",
      "💰 Closed ETHUSD: 4.8338 @ $2638.64 P&L: $553.64 (+4.54%) - take_profit\n",
      "💰 Closed LINKUSD: 1059.5083 @ $11.80 P&L: $493.68 (+4.11%) - take_profit\n",
      "💰 Closed DOTUSD: 2288.1638 @ $4.19 P&L: $486.01 (+5.34%) - take_profit\n",
      "💰 Closed ADAUSD: 28315.6839 @ $0.36 P&L: $461.20 (+4.80%) - take_profit\n",
      "✅ Opened BTCUSD: 0.2720 @ $72781.11 (SL: $69142.06, TP: $75546.80)\n",
      "✅ Opened ETHUSD: 6.0863 @ $2638.64 (SL: $2506.71, TP: $2738.91)\n",
      "✅ Opened ADAUSD: 36608.1400 @ $0.36 (SL: $0.34, TP: $0.37)\n",
      "✅ Opened DOTUSD: 2520.5177 @ $4.19 (SL: $3.98, TP: $4.35)\n",
      "✅ Opened LINKUSD: 883.0382 @ $11.80 (SL: $11.21, TP: $12.24)\n",
      "💰 Closed LINKUSD: 883.0382 @ $12.38 P&L: $517.64 (+4.97%) - take_profit\n",
      "✅ Opened LINKUSD: 850.8784 @ $12.38 (SL: $11.76, TP: $12.85)\n",
      "❌ Closed DOTUSD: 2520.5177 @ $3.96 P&L: $-596.68 (-5.65%) - stop_loss\n",
      "❌ Closed LINKUSD: 850.8784 @ $11.43 P&L: $-812.58 (-7.71%) - stop_loss\n",
      "✅ Opened DOTUSD: 2624.0167 @ $3.96 (SL: $3.76, TP: $4.11)\n",
      "✅ Opened LINKUSD: 737.0694 @ $11.43 (SL: $10.86, TP: $11.86)\n",
      "❌ Closed ETHUSD: 6.0863 @ $2491.35 P&L: $-896.42 (-5.58%) - stop_loss\n",
      "✅ Opened ETHUSD: 4.4480 @ $2491.35 (SL: $2366.78, TP: $2586.02)\n",
      "❌ Closed BTCUSD: 0.2720 @ $68803.51 P&L: $-1082.03 (-5.47%) - stop_loss\n",
      "❌ Closed ADAUSD: 36608.1400 @ $0.33 P&L: $-780.38 (-5.99%) - stop_loss\n",
      "❌ Closed LINKUSD: 737.0694 @ $10.76 P&L: $-488.61 (-5.80%) - stop_loss\n",
      "✅ Opened BTCUSD: 0.2500 @ $68803.51 (SL: $65363.33, TP: $71418.04)\n",
      "✅ Opened ADAUSD: 35231.1149 @ $0.33 (SL: $0.32, TP: $0.35)\n",
      "✅ Opened LINKUSD: 886.8759 @ $10.76 (SL: $10.23, TP: $11.17)\n",
      "❌ Closed DOTUSD: 2624.0167 @ $3.75 P&L: $-548.11 (-5.28%) - stop_loss\n",
      "✅ Opened DOTUSD: 2561.3198 @ $3.75 (SL: $3.56, TP: $3.89)\n",
      "💰 Closed ETHUSD: 4.4480 @ $2720.62 P&L: $1019.79 (+9.20%) - take_profit\n",
      "💰 Closed BTCUSD: 0.2500 @ $75620.89 P&L: $1704.40 (+9.91%) - take_profit\n",
      "💰 Closed ADAUSD: 35231.1149 @ $0.36 P&L: $1003.92 (+8.52%) - take_profit\n",
      "💰 Closed LINKUSD: 886.8759 @ $12.16 P&L: $1234.16 (+12.93%) - take_profit\n",
      "💰 Closed DOTUSD: 2561.3198 @ $4.12 P&L: $950.17 (+9.90%) - take_profit\n",
      "✅ Opened BTCUSD: 0.2594 @ $75620.89 (SL: $71839.84, TP: $78494.48)\n",
      "✅ Opened ETHUSD: 5.8766 @ $2720.62 (SL: $2584.59, TP: $2824.01)\n",
      "✅ Opened ADAUSD: 35896.3513 @ $0.36 (SL: $0.34, TP: $0.38)\n",
      "✅ Opened DOTUSD: 2579.4252 @ $4.12 (SL: $3.91, TP: $4.27)\n",
      "✅ Opened LINKUSD: 868.6886 @ $12.16 (SL: $11.55, TP: $12.62)\n",
      "💰 Closed ETHUSD: 5.8766 @ $2894.97 P&L: $1024.59 (+6.41%) - take_profit\n",
      "💰 Closed ADAUSD: 35896.3513 @ $0.40 P&L: $1463.22 (+11.23%) - take_profit\n",
      "✅ Opened ETHUSD: 4.3299 @ $2894.97 (SL: $2751.99, TP: $3004.98)\n",
      "✅ Opened ADAUSD: 25300.5761 @ $0.40 (SL: $0.38, TP: $0.42)\n",
      "🔄 Regime Change: 1 → 6 (WAIT_AND_SEE)\n",
      "💰 Closed BTCUSD: 0.2594 @ $76550.02 P&L: $241.02 (+1.23%) - wait_and_see_regime\n",
      "💰 Closed DOTUSD: 2579.4252 @ $4.33 P&L: $556.06 (+5.24%) - wait_and_see_regime\n",
      "💰 Closed LINKUSD: 868.6886 @ $13.73 P&L: $1371.32 (+12.99%) - wait_and_see_regime\n",
      "💰 Closed ETHUSD: 4.3299 @ $2960.96 P&L: $285.72 (+2.28%) - wait_and_see_regime\n",
      "💰 Closed ADAUSD: 25300.5761 @ $0.44 P&L: $1014.99 (+9.94%) - wait_and_see_regime\n",
      "🔄 Regime Change: 6 → 5 (MOMENTUM)\n",
      "✅ Opened BTCUSD: 0.2568 @ $80466.72 (SL: $77016.79, TP: $82880.72)\n",
      "✅ Opened ETHUSD: 5.2797 @ $3191.90 (SL: $3055.05, TP: $3287.66)\n",
      "✅ Opened ADAUSD: 23343.9159 @ $0.59 (SL: $0.56, TP: $0.61)\n",
      "✅ Opened DOTUSD: 2144.0479 @ $5.23 (SL: $5.00, TP: $5.38)\n",
      "✅ Opened LINKUSD: 791.7131 @ $14.29 (SL: $13.67, TP: $14.71)\n",
      "💰 Closed BTCUSD: 0.2568 @ $88637.42 P&L: $2098.28 (+10.15%) - take_profit\n",
      "💰 Closed ETHUSD: 5.2797 @ $3372.79 P&L: $955.03 (+5.67%) - take_profit\n",
      "💰 Closed ADAUSD: 23343.9159 @ $0.61 P&L: $603.39 (+4.39%) - take_profit\n",
      "💰 Closed DOTUSD: 2144.0479 @ $5.72 P&L: $1049.85 (+9.37%) - take_profit\n",
      "💰 Closed LINKUSD: 791.7131 @ $14.87 P&L: $463.53 (+4.10%) - take_profit\n",
      "✅ Opened BTCUSD: 0.2388 @ $88637.42 (SL: $85194.47, TP: $91296.54)\n",
      "✅ Opened ETHUSD: 5.1415 @ $3372.79 (SL: $3241.78, TP: $3473.98)\n",
      "✅ Opened ADAUSD: 23120.6293 @ $0.61 (SL: $0.59, TP: $0.63)\n",
      "✅ Opened DOTUSD: 2036.5560 @ $5.72 (SL: $5.50, TP: $5.89)\n",
      "✅ Opened LINKUSD: 797.1151 @ $14.87 (SL: $14.29, TP: $15.32)\n",
      "❌ Closed ADAUSD: 23120.6293 @ $0.58 P&L: $-889.47 (-6.26%) - stop_loss\n",
      "❌ Closed DOTUSD: 2036.5560 @ $5.36 P&L: $-728.88 (-6.26%) - stop_loss\n",
      "❌ Closed LINKUSD: 797.1151 @ $14.07 P&L: $-641.48 (-5.41%) - stop_loss\n",
      "✅ Opened ADAUSD: 23970.6799 @ $0.58 (SL: $0.56, TP: $0.59)\n",
      "✅ Opened DOTUSD: 2111.1585 @ $5.36 (SL: $5.18, TP: $5.52)\n",
      "✅ Opened LINKUSD: 818.6933 @ $14.07 (SL: $13.60, TP: $14.49)\n",
      "❌ Closed ETHUSD: 5.1415 @ $3191.90 P&L: $-930.06 (-5.36%) - stop_loss\n",
      "❌ Closed DOTUSD: 2111.1585 @ $5.09 P&L: $-573.93 (-5.07%) - stop_loss\n",
      "❌ Closed LINKUSD: 818.6933 @ $13.46 P&L: $-496.33 (-4.31%) - stop_loss\n",
      "✅ Opened ETHUSD: 4.4127 @ $3191.90 (SL: $3092.60, TP: $3287.66)\n",
      "✅ Opened DOTUSD: 2268.3485 @ $5.09 (SL: $4.93, TP: $5.24)\n",
      "✅ Opened LINKUSD: 872.6750 @ $13.46 (SL: $13.04, TP: $13.86)\n",
      "❌ Closed ETHUSD: 4.4127 @ $3059.81 P&L: $-582.87 (-4.14%) - stop_loss\n",
      "❌ Closed DOTUSD: 2268.3485 @ $4.77 P&L: $-726.64 (-6.30%) - stop_loss\n",
      "❌ Closed LINKUSD: 872.6750 @ $12.95 P&L: $-442.53 (-3.77%) - stop_loss\n",
      "✅ Opened ETHUSD: 4.4900 @ $3059.81 (SL: $2970.09, TP: $3151.61)\n",
      "✅ Opened DOTUSD: 2362.3752 @ $4.77 (SL: $4.63, TP: $4.91)\n",
      "✅ Opened LINKUSD: 885.7567 @ $12.95 (SL: $12.57, TP: $13.34)\n",
      "💰 Closed ADAUSD: 23970.6799 @ $0.70 P&L: $2898.26 (+20.99%) - take_profit\n",
      "💰 Closed DOTUSD: 2362.3752 @ $5.14 P&L: $877.98 (+7.80%) - take_profit\n",
      "💰 Closed LINKUSD: 885.7567 @ $13.82 P&L: $764.41 (+6.66%) - take_profit\n",
      "✅ Opened ADAUSD: 20874.6963 @ $0.70 (SL: $0.68, TP: $0.72)\n",
      "✅ Opened DOTUSD: 2321.6569 @ $5.14 (SL: $4.99, TP: $5.29)\n",
      "✅ Opened LINKUSD: 880.2473 @ $13.82 (SL: $13.43, TP: $14.23)\n",
      "💰 Closed ADAUSD: 20874.6963 @ $0.74 P&L: $833.69 (+5.73%) - take_profit\n",
      "💰 Closed DOTUSD: 2321.6569 @ $5.76 P&L: $1434.39 (+12.02%) - take_profit\n",
      "💰 Closed LINKUSD: 880.2473 @ $14.52 P&L: $621.31 (+5.11%) - take_profit\n",
      "✅ Opened ADAUSD: 20431.3180 @ $0.74 (SL: $0.71, TP: $0.76)\n",
      "✅ Opened DOTUSD: 2145.1047 @ $5.76 (SL: $5.54, TP: $5.93)\n",
      "✅ Opened LINKUSD: 867.1278 @ $14.52 (SL: $13.98, TP: $14.96)\n",
      "❌ Closed ADAUSD: 20431.3180 @ $0.70 P&L: $-711.14 (-4.72%) - stop_loss\n",
      "❌ Closed DOTUSD: 2145.1047 @ $5.41 P&L: $-740.73 (-6.00%) - stop_loss\n",
      "❌ Closed LINKUSD: 867.1278 @ $13.76 P&L: $-659.12 (-5.23%) - stop_loss\n",
      "✅ Opened ADAUSD: 20887.4564 @ $0.70 (SL: $0.67, TP: $0.72)\n",
      "✅ Opened DOTUSD: 2223.1223 @ $5.41 (SL: $5.20, TP: $5.57)\n",
      "✅ Opened LINKUSD: 891.6962 @ $13.76 (SL: $13.23, TP: $14.18)\n",
      "💰 Closed ETHUSD: 4.4900 @ $3209.42 P&L: $671.76 (+4.89%) - take_profit\n",
      "💰 Closed ADAUSD: 20887.4564 @ $0.74 P&L: $714.36 (+4.87%) - take_profit\n",
      "💰 Closed DOTUSD: 2223.1223 @ $6.03 P&L: $1368.34 (+11.37%) - take_profit\n",
      "💰 Closed LINKUSD: 891.6962 @ $15.20 P&L: $1280.98 (+10.44%) - take_profit\n",
      "✅ Opened ETHUSD: 5.5766 @ $3209.42 (SL: $3069.84, TP: $3305.71)\n",
      "✅ Opened ADAUSD: 19927.8985 @ $0.74 (SL: $0.70, TP: $0.76)\n",
      "✅ Opened DOTUSD: 1996.2405 @ $6.03 (SL: $5.76, TP: $6.21)\n",
      "✅ Opened LINKUSD: 806.7956 @ $15.20 (SL: $14.54, TP: $15.65)\n",
      "💰 Closed BTCUSD: 0.2388 @ $92251.65 P&L: $862.95 (+4.08%) - take_profit\n",
      "✅ Opened BTCUSD: 0.1261 @ $92251.65 (SL: $88171.15, TP: $95019.20)\n",
      "💰 Closed ADAUSD: 19927.8985 @ $0.80 P&L: $1328.18 (+9.05%) - take_profit\n",
      "❌ Closed DOTUSD: 1996.2405 @ $5.74 P&L: $-577.39 (-4.80%) - stop_loss\n",
      "❌ Closed LINKUSD: 806.7956 @ $14.29 P&L: $-734.35 (-5.99%) - stop_loss\n",
      "✅ Opened ADAUSD: 20714.1223 @ $0.80 (SL: $0.77, TP: $0.83)\n",
      "✅ Opened DOTUSD: 2374.2332 @ $5.74 (SL: $5.49, TP: $5.91)\n",
      "✅ Opened LINKUSD: 969.6599 @ $14.29 (SL: $13.66, TP: $14.72)\n",
      "💰 Closed ETHUSD: 5.5766 @ $3365.94 P&L: $872.81 (+4.88%) - take_profit\n",
      "💰 Closed BTCUSD: 0.1261 @ $98509.12 P&L: $788.90 (+6.78%) - take_profit\n",
      "💰 Closed DOTUSD: 2374.2332 @ $5.94 P&L: $476.68 (+3.50%) - take_profit\n",
      "💰 Closed LINKUSD: 969.6599 @ $14.93 P&L: $621.40 (+4.48%) - take_profit\n",
      "✅ Opened BTCUSD: 0.1976 @ $98509.12 (SL: $94099.34, TP: $101464.39)\n",
      "✅ Opened ETHUSD: 4.7359 @ $3365.94 (SL: $3215.26, TP: $3466.92)\n",
      "✅ Opened DOTUSD: 2198.5245 @ $5.94 (SL: $5.67, TP: $6.12)\n",
      "✅ Opened LINKUSD: 889.5004 @ $14.93 (SL: $14.26, TP: $15.38)\n",
      "💰 Closed ADAUSD: 20714.1223 @ $1.00 P&L: $4172.14 (+25.08%) - take_profit\n",
      "💰 Closed DOTUSD: 2198.5245 @ $6.65 P&L: $1574.75 (+12.06%) - take_profit\n",
      "💰 Closed LINKUSD: 889.5004 @ $16.50 P&L: $1394.69 (+10.50%) - take_profit\n",
      "✅ Opened ADAUSD: 17293.5870 @ $1.00 (SL: $0.95, TP: $1.03)\n",
      "✅ Opened DOTUSD: 2137.4726 @ $6.65 (SL: $6.32, TP: $6.85)\n",
      "✅ Opened LINKUSD: 876.7711 @ $16.50 (SL: $15.67, TP: $16.99)\n",
      "💰 Closed ADAUSD: 17293.5870 @ $1.06 P&L: $1016.75 (+5.85%) - take_profit\n",
      "💰 Closed DOTUSD: 2137.4726 @ $8.48 P&L: $3903.04 (+27.44%) - take_profit\n",
      "💰 Closed LINKUSD: 876.7711 @ $17.38 P&L: $777.81 (+5.38%) - take_profit\n",
      "✅ Opened ADAUSD: 17294.4756 @ $1.06 (SL: $1.01, TP: $1.10)\n",
      "✅ Opened DOTUSD: 1775.8126 @ $8.48 (SL: $8.06, TP: $8.73)\n",
      "✅ Opened LINKUSD: 881.2123 @ $17.38 (SL: $16.52, TP: $17.91)\n",
      "💰 Closed DOTUSD: 1775.8126 @ $8.83 P&L: $618.54 (+4.11%) - take_profit\n",
      "💰 Closed LINKUSD: 881.2123 @ $18.00 P&L: $541.72 (+3.54%) - take_profit\n",
      "✅ Opened DOTUSD: 1733.3844 @ $8.83 (SL: $8.39, TP: $9.09)\n",
      "✅ Opened LINKUSD: 864.1038 @ $18.00 (SL: $17.10, TP: $18.54)\n",
      "🔄 Regime Change: 5 → 2 (BALANCED)\n",
      "❌ Closed BTCUSD: 0.1976 @ $93004.70 P&L: $-1087.58 (-5.59%) - stop_loss\n",
      "❌ Closed ADAUSD: 17294.4756 @ $0.95 P&L: $-2021.85 (-11.00%) - stop_loss\n",
      "❌ Closed DOTUSD: 1733.3844 @ $8.23 P&L: $-1034.24 (-6.76%) - stop_loss\n",
      "✅ Opened BTCUSD: 0.1696 @ $93004.70 (SL: $88354.47, TP: $95794.84)\n",
      "✅ Opened ADAUSD: 14101.2765 @ $0.95 (SL: $0.90, TP: $0.97)\n",
      "✅ Opened DOTUSD: 1371.6430 @ $8.23 (SL: $7.82, TP: $8.48)\n",
      "🔄 Regime Change: 2 → 5 (MOMENTUM)\n",
      "💰 Closed ETHUSD: 4.7359 @ $3666.19 P&L: $1421.96 (+8.92%) - take_profit\n",
      "💰 Closed LINKUSD: 864.1038 @ $18.69 P&L: $595.39 (+3.83%) - take_profit\n",
      "💰 Closed BTCUSD: 0.1696 @ $95981.18 P&L: $504.68 (+3.20%) - take_profit\n",
      "💰 Closed ADAUSD: 14101.2765 @ $1.01 P&L: $944.93 (+7.08%) - take_profit\n",
      "✅ Opened BTCUSD: 0.2383 @ $95981.18 (SL: $91182.12, TP: $98860.62)\n",
      "✅ Opened ETHUSD: 5.1088 @ $3666.19 (SL: $3482.88, TP: $3776.17)\n",
      "✅ Opened ADAUSD: 15133.0913 @ $1.01 (SL: $0.96, TP: $1.04)\n",
      "✅ Opened LINKUSD: 834.1103 @ $18.69 (SL: $17.75, TP: $19.25)\n",
      "🔄 Regime Change: 5 → 2 (BALANCED)\n",
      "💰 Closed DOTUSD: 1371.6430 @ $8.63 P&L: $540.01 (+4.78%) - take_profit\n",
      "✅ Opened DOTUSD: 1179.6489 @ $8.63 (SL: $8.19, TP: $8.88)\n",
      "💰 Closed ADAUSD: 15133.0913 @ $1.08 P&L: $1002.84 (+6.54%) - take_profit\n",
      "💰 Closed DOTUSD: 1179.6489 @ $9.01 P&L: $456.73 (+4.49%) - take_profit\n",
      "✅ Opened ADAUSD: 11844.5121 @ $1.08 (SL: $1.03, TP: $1.11)\n",
      "✅ Opened DOTUSD: 1198.2796 @ $9.01 (SL: $8.56, TP: $9.28)\n",
      "💰 Closed ADAUSD: 11844.5121 @ $1.15 P&L: $809.12 (+6.33%) - take_profit\n",
      "💰 Closed DOTUSD: 1198.2796 @ $9.28 P&L: $325.14 (+3.01%) - take_profit\n",
      "✅ Opened ADAUSD: 11615.4958 @ $1.15 (SL: $1.09, TP: $1.18)\n",
      "✅ Opened DOTUSD: 1206.5825 @ $9.28 (SL: $8.82, TP: $9.56)\n",
      "💰 Closed LINKUSD: 834.1103 @ $24.99 P&L: $5256.67 (+33.72%) - take_profit\n",
      "💰 Closed ADAUSD: 11615.4958 @ $1.20 P&L: $600.01 (+4.50%) - take_profit\n",
      "💰 Closed DOTUSD: 1206.5825 @ $10.03 P&L: $893.97 (+7.98%) - take_profit\n",
      "✅ Opened ADAUSD: 14076.9300 @ $1.20 (SL: $1.14, TP: $1.24)\n",
      "✅ Opened DOTUSD: 1415.4197 @ $10.03 (SL: $9.52, TP: $10.33)\n",
      "✅ Opened LINKUSD: 587.1105 @ $24.99 (SL: $23.74, TP: $25.74)\n",
      "💰 Closed BTCUSD: 0.2383 @ $98881.47 P&L: $691.28 (+3.02%) - take_profit\n",
      "💰 Closed ETHUSD: 5.1088 @ $3839.44 P&L: $885.13 (+4.73%) - take_profit\n",
      "💰 Closed DOTUSD: 1415.4197 @ $10.54 P&L: $726.31 (+5.12%) - take_profit\n",
      "✅ Opened BTCUSD: 0.1916 @ $98881.47 (SL: $93937.40, TP: $101847.91)\n",
      "✅ Opened ETHUSD: 4.1426 @ $3839.44 (SL: $3647.47, TP: $3954.63)\n",
      "✅ Opened DOTUSD: 1267.2070 @ $10.54 (SL: $10.01, TP: $10.85)\n",
      "❌ Closed LINKUSD: 587.1105 @ $23.27 P&L: $-1012.88 (-6.90%) - stop_loss\n",
      "✅ Opened LINKUSD: 709.8237 @ $23.27 (SL: $22.10, TP: $23.96)\n",
      "💰 Closed ETHUSD: 4.1426 @ $4013.73 P&L: $721.98 (+4.54%) - take_profit\n",
      "💰 Closed LINKUSD: 709.8237 @ $25.82 P&L: $1810.57 (+10.96%) - take_profit\n",
      "✅ Opened ETHUSD: 4.0798 @ $4013.73 (SL: $3813.04, TP: $4134.14)\n",
      "✅ Opened LINKUSD: 654.5066 @ $25.82 (SL: $24.53, TP: $26.59)\n",
      "❌ Closed ADAUSD: 14076.9300 @ $1.01 P&L: $-2700.51 (-15.99%) - stop_loss\n",
      "❌ Closed DOTUSD: 1267.2070 @ $8.51 P&L: $-2564.61 (-19.20%) - stop_loss\n",
      "❌ Closed ETHUSD: 4.0798 @ $3713.31 P&L: $-1225.61 (-7.48%) - stop_loss\n",
      "❌ Closed LINKUSD: 654.5066 @ $22.31 P&L: $-2292.68 (-13.57%) - stop_loss\n",
      "✅ Opened ETHUSD: 5.3095 @ $3713.31 (SL: $3527.65, TP: $3824.71)\n",
      "✅ Opened ADAUSD: 16440.7550 @ $1.01 (SL: $0.96, TP: $1.04)\n",
      "✅ Opened DOTUSD: 1635.0596 @ $8.51 (SL: $8.09, TP: $8.77)\n",
      "✅ Opened LINKUSD: 524.3067 @ $22.31 (SL: $21.20, TP: $22.98)\n",
      "💰 Closed ETHUSD: 5.3095 @ $3828.11 P&L: $609.49 (+3.09%) - take_profit\n",
      "💰 Closed ADAUSD: 16440.7550 @ $1.09 P&L: $1318.94 (+7.96%) - take_profit\n",
      "💰 Closed DOTUSD: 1635.0596 @ $9.01 P&L: $804.93 (+5.78%) - take_profit\n",
      "💰 Closed LINKUSD: 524.3067 @ $24.03 P&L: $899.09 (+7.69%) - take_profit\n",
      "✅ Opened ETHUSD: 5.3054 @ $3828.11 (SL: $3636.70, TP: $3942.95)\n",
      "✅ Opened ADAUSD: 15685.0373 @ $1.09 (SL: $1.03, TP: $1.12)\n",
      "✅ Opened DOTUSD: 1591.8339 @ $9.01 (SL: $8.56, TP: $9.28)\n",
      "✅ Opened LINKUSD: 616.7790 @ $24.03 (SL: $22.83, TP: $24.75)\n",
      "💰 Closed ADAUSD: 15685.0373 @ $1.12 P&L: $552.10 (+3.24%) - take_profit\n",
      "💰 Closed LINKUSD: 616.7790 @ $29.00 P&L: $3067.29 (+20.70%) - take_profit\n",
      "✅ Opened ADAUSD: 13662.1971 @ $1.12 (SL: $1.07, TP: $1.16)\n",
      "✅ Opened LINKUSD: 546.9961 @ $29.00 (SL: $27.55, TP: $29.87)\n",
      "❌ Closed DOTUSD: 1591.8339 @ $8.55 P&L: $-730.04 (-5.09%) - stop_loss\n",
      "❌ Closed ADAUSD: 13662.1971 @ $1.06 P&L: $-861.10 (-5.61%) - stop_loss\n",
      "✅ Opened ADAUSD: 14007.2736 @ $1.06 (SL: $1.01, TP: $1.09)\n",
      "✅ Opened DOTUSD: 1459.5967 @ $8.55 (SL: $8.12, TP: $8.80)\n",
      "💰 Closed BTCUSD: 0.1916 @ $104721.50 P&L: $1118.81 (+5.91%) - take_profit\n",
      "💰 Closed ETHUSD: 5.3054 @ $3961.32 P&L: $706.71 (+3.48%) - take_profit\n",
      "💰 Closed ADAUSD: 14007.2736 @ $1.11 P&L: $642.01 (+4.32%) - take_profit\n",
      "💰 Closed DOTUSD: 1459.5967 @ $9.05 P&L: $738.25 (+5.92%) - take_profit\n",
      "✅ Opened BTCUSD: 0.2081 @ $104721.50 (SL: $99485.43, TP: $107863.15)\n",
      "✅ Opened ETHUSD: 4.6166 @ $3961.32 (SL: $3763.25, TP: $4080.15)\n",
      "✅ Opened ADAUSD: 13874.5577 @ $1.11 (SL: $1.05, TP: $1.14)\n",
      "✅ Opened DOTUSD: 1421.9575 @ $9.05 (SL: $8.60, TP: $9.33)\n",
      "❌ Closed ADAUSD: 13874.5577 @ $1.05 P&L: $-783.71 (-5.11%) - stop_loss\n",
      "❌ Closed DOTUSD: 1421.9575 @ $8.45 P&L: $-854.98 (-6.64%) - stop_loss\n",
      "✅ Opened ADAUSD: 14461.6580 @ $1.05 (SL: $1.00, TP: $1.08)\n",
      "✅ Opened DOTUSD: 1504.6269 @ $8.45 (SL: $8.03, TP: $8.71)\n",
      "🔄 Regime Change: 2 → 3 (WAIT_AND_SEE)\n",
      "❌ Closed LINKUSD: 546.9961 @ $24.92 P&L: $-2234.40 (-14.09%) - wait_and_see_regime\n",
      "❌ Closed BTCUSD: 0.2081 @ $100355.58 P&L: $-908.70 (-4.17%) - wait_and_see_regime\n",
      "❌ Closed ETHUSD: 4.6166 @ $3628.26 P&L: $-1537.59 (-8.41%) - wait_and_see_regime\n",
      "❌ Closed ADAUSD: 14461.6580 @ $0.97 P&L: $-1163.59 (-7.67%) - wait_and_see_regime\n",
      "❌ Closed DOTUSD: 1504.6269 @ $7.70 P&L: $-1135.74 (-8.93%) - wait_and_see_regime\n",
      "🔄 Regime Change: 3 → 6 (WAIT_AND_SEE)\n",
      "🔄 Regime Change: 6 → 3 (WAIT_AND_SEE)\n",
      "🔄 Regime Change: 3 → 6 (WAIT_AND_SEE)\n",
      "🔄 Regime Change: 6 → 3 (WAIT_AND_SEE)\n",
      "🔄 Regime Change: 3 → 0 (STABLE_GROWTH)\n",
      "✅ Opened BTCUSD: 0.3710 @ $96564.15 (SL: $93879.99, TP: $99461.08)\n",
      "✅ Opened ETHUSD: 9.7053 @ $2764.36 (SL: $2687.52, TP: $2847.29)\n",
      "✅ Opened ADAUSD: 22711.7867 @ $0.77 (SL: $0.75, TP: $0.80)\n",
      "✅ Opened DOTUSD: 2719.1471 @ $5.05 (SL: $4.91, TP: $5.20)\n",
      "✅ Opened LINKUSD: 602.4205 @ $17.77 (SL: $17.27, TP: $18.30)\n",
      "🔄 Regime Change: 0 → 3 (WAIT_AND_SEE)\n",
      "❌ Closed BTCUSD: 0.3710 @ $91396.77 P&L: $-1917.10 (-5.35%) - wait_and_see_regime\n",
      "❌ Closed ETHUSD: 9.7053 @ $2503.10 P&L: $-2535.51 (-9.45%) - wait_and_see_regime\n",
      "❌ Closed ADAUSD: 22711.7867 @ $0.68 P&L: $-2140.69 (-12.17%) - wait_and_see_regime\n",
      "❌ Closed DOTUSD: 2719.1471 @ $4.41 P&L: $-1730.54 (-12.61%) - wait_and_see_regime\n",
      "❌ Closed LINKUSD: 602.4205 @ $15.21 P&L: $-1539.09 (-14.38%) - wait_and_see_regime\n",
      "🔄 Regime Change: 3 → 0 (STABLE_GROWTH)\n",
      "✅ Opened BTCUSD: 0.3754 @ $88755.77 (SL: $86508.77, TP: $91418.44)\n",
      "✅ Opened ETHUSD: 10.0031 @ $2495.32 (SL: $2432.14, TP: $2570.17)\n",
      "✅ Opened ADAUSD: 23970.1901 @ $0.68 (SL: $0.67, TP: $0.70)\n",
      "✅ Opened DOTUSD: 2757.5395 @ $4.63 (SL: $4.51, TP: $4.77)\n",
      "✅ Opened LINKUSD: 650.9089 @ $15.31 (SL: $14.92, TP: $15.77)\n",
      "🔄 Regime Change: 0 → 3 (WAIT_AND_SEE)\n",
      "❌ Closed BTCUSD: 0.3754 @ $83900.11 P&L: $-1823.00 (-5.47%) - wait_and_see_regime\n",
      "❌ Closed ETHUSD: 10.0031 @ $2325.85 P&L: $-1695.14 (-6.79%) - wait_and_see_regime\n",
      "❌ Closed ADAUSD: 23970.1901 @ $0.64 P&L: $-911.15 (-5.57%) - wait_and_see_regime\n",
      "💰 Closed DOTUSD: 2757.5395 @ $4.74 P&L: $293.39 (+2.30%) - wait_and_see_regime\n",
      "❌ Closed LINKUSD: 650.9089 @ $15.20 P&L: $-72.23 (-0.72%) - wait_and_see_regime\n",
      "🔄 Regime Change: 3 → 4 (CONSERVATIVE)\n",
      "✅ Opened BTCUSD: 0.2316 @ $94261.53 (SL: $91665.11, TP: $97654.95)\n",
      "✅ Opened ETHUSD: 7.1995 @ $2517.34 (SL: $2448.00, TP: $2607.96)\n",
      "✅ Opened ADAUSD: 10139.3077 @ $1.14 (SL: $1.11, TP: $1.18)\n",
      "✅ Opened DOTUSD: 1932.4757 @ $5.19 (SL: $5.05, TP: $5.38)\n",
      "✅ Opened LINKUSD: 503.1383 @ $17.35 (SL: $16.88, TP: $17.98)\n",
      "❌ Closed BTCUSD: 0.2316 @ $86124.71 P&L: $-1884.34 (-8.63%) - stop_loss\n",
      "❌ Closed ETHUSD: 7.1995 @ $2148.20 P&L: $-2657.62 (-14.66%) - stop_loss\n",
      "❌ Closed ADAUSD: 10139.3077 @ $0.86 P&L: $-2854.54 (-24.73%) - stop_loss\n",
      "❌ Closed DOTUSD: 1932.4757 @ $4.48 P&L: $-1382.02 (-13.77%) - stop_loss\n",
      "❌ Closed LINKUSD: 503.1383 @ $14.46 P&L: $-1454.74 (-16.66%) - stop_loss\n",
      "✅ Opened BTCUSD: 0.2576 @ $86124.71 (SL: $81818.48, TP: $89225.20)\n",
      "✅ Opened ETHUSD: 8.3917 @ $2148.20 (SL: $2040.79, TP: $2225.53)\n",
      "✅ Opened ADAUSD: 11686.1514 @ $0.86 (SL: $0.81, TP: $0.89)\n",
      "✅ Opened DOTUSD: 1948.7304 @ $4.48 (SL: $4.26, TP: $4.64)\n",
      "✅ Opened LINKUSD: 526.2460 @ $14.46 (SL: $13.74, TP: $14.98)\n",
      "💰 Closed ADAUSD: 11686.1514 @ $0.94 P&L: $1013.62 (+10.12%) - take_profit\n",
      "✅ Opened ADAUSD: 8537.4870 @ $0.94 (SL: $0.90, TP: $0.98)\n",
      "💰 Closed BTCUSD: 0.2576 @ $90604.08 P&L: $1153.88 (+5.20%) - take_profit\n",
      "💰 Closed ETHUSD: 8.3917 @ $2241.38 P&L: $781.97 (+4.34%) - take_profit\n",
      "💰 Closed LINKUSD: 526.2460 @ $16.48 P&L: $1059.51 (+13.92%) - take_profit\n",
      "✅ Opened BTCUSD: 0.2180 @ $90604.08 (SL: $86583.85, TP: $93865.83)\n",
      "✅ Opened ETHUSD: 7.1640 @ $2241.38 (SL: $2141.93, TP: $2322.07)\n",
      "✅ Opened LINKUSD: 541.0565 @ $16.48 (SL: $15.75, TP: $17.07)\n",
      "💰 Closed LINKUSD: 541.0565 @ $17.09 P&L: $332.75 (+3.73%) - take_profit\n",
      "✅ Opened LINKUSD: 524.2393 @ $17.09 (SL: $16.30, TP: $17.71)\n",
      "❌ Closed ADAUSD: 8537.4870 @ $0.82 P&L: $-1078.40 (-13.39%) - stop_loss\n",
      "❌ Closed ETHUSD: 7.1640 @ $2140.75 P&L: $-720.95 (-4.49%) - stop_loss\n",
      "❌ Closed LINKUSD: 524.2393 @ $15.96 P&L: $-594.80 (-6.64%) - stop_loss\n",
      "✅ Opened ETHUSD: 8.0148 @ $2140.75 (SL: $2042.69, TP: $2217.82)\n",
      "✅ Opened ADAUSD: 11652.6556 @ $0.82 (SL: $0.78, TP: $0.85)\n",
      "✅ Opened LINKUSD: 520.6684 @ $15.96 (SL: $15.23, TP: $16.53)\n",
      "❌ Closed BTCUSD: 0.2180 @ $86142.98 P&L: $-972.57 (-4.92%) - stop_loss\n",
      "✅ Opened BTCUSD: 0.1640 @ $86142.98 (SL: $82277.49, TP: $89244.13)\n",
      "❌ Closed DOTUSD: 1948.7304 @ $4.02 P&L: $-900.13 (-10.31%) - stop_loss\n",
      "❌ Closed ETHUSD: 8.0148 @ $2017.27 P&L: $-989.70 (-5.77%) - stop_loss\n",
      "❌ Closed ADAUSD: 11652.6556 @ $0.72 P&L: $-1116.83 (-11.73%) - stop_loss\n",
      "❌ Closed LINKUSD: 520.6684 @ $13.78 P&L: $-1132.56 (-13.63%) - stop_loss\n",
      "❌ Closed BTCUSD: 0.1640 @ $80751.14 P&L: $-884.47 (-6.26%) - stop_loss\n",
      "✅ Opened BTCUSD: 0.2633 @ $80751.14 (SL: $76986.21, TP: $83658.18)\n",
      "✅ Opened ETHUSD: 8.5805 @ $2017.27 (SL: $1923.21, TP: $2089.89)\n",
      "✅ Opened ADAUSD: 13303.4482 @ $0.72 (SL: $0.69, TP: $0.75)\n",
      "✅ Opened DOTUSD: 2085.9002 @ $4.02 (SL: $3.83, TP: $4.16)\n",
      "✅ Opened LINKUSD: 531.0480 @ $13.78 (SL: $13.14, TP: $14.28)\n",
      "❌ Closed ETHUSD: 8.5805 @ $1879.12 P&L: $-1185.33 (-6.85%) - stop_loss\n",
      "❌ Closed ADAUSD: 13303.4482 @ $0.68 P&L: $-615.81 (-6.42%) - stop_loss\n",
      "❌ Closed LINKUSD: 531.0480 @ $12.72 P&L: $-564.61 (-7.71%) - stop_loss\n",
      "✅ Opened ETHUSD: 8.1447 @ $1879.12 (SL: $1796.56, TP: $1946.77)\n",
      "✅ Opened ADAUSD: 12568.6879 @ $0.68 (SL: $0.65, TP: $0.70)\n",
      "✅ Opened LINKUSD: 582.6401 @ $12.72 (SL: $12.16, TP: $13.18)\n",
      "💰 Closed ADAUSD: 12568.6879 @ $0.72 P&L: $601.73 (+7.09%) - take_profit\n",
      "✅ Opened ADAUSD: 10478.2718 @ $0.72 (SL: $0.69, TP: $0.75)\n",
      "💰 Closed BTCUSD: 0.2633 @ $83884.25 P&L: $825.08 (+3.88%) - take_profit\n",
      "💰 Closed LINKUSD: 582.6401 @ $13.50 P&L: $453.91 (+6.13%) - take_profit\n",
      "✅ Opened BTCUSD: 0.1823 @ $83884.25 (SL: $80597.06, TP: $86904.08)\n",
      "✅ Opened LINKUSD: 627.6392 @ $13.50 (SL: $12.97, TP: $13.98)\n",
      "💰 Closed DOTUSD: 2085.9002 @ $4.18 P&L: $339.05 (+4.05%) - take_profit\n",
      "✅ Opened DOTUSD: 2025.7653 @ $4.18 (SL: $4.03, TP: $4.33)\n",
      "💰 Closed LINKUSD: 627.6392 @ $14.05 P&L: $345.04 (+4.07%) - take_profit\n",
      "💰 Closed DOTUSD: 2025.7653 @ $4.35 P&L: $348.48 (+4.12%) - take_profit\n",
      "✅ Opened DOTUSD: 2209.3762 @ $4.35 (SL: $4.19, TP: $4.51)\n",
      "✅ Opened LINKUSD: 598.7005 @ $14.05 (SL: $13.52, TP: $14.55)\n",
      "❌ Closed LINKUSD: 598.7005 @ $13.37 P&L: $-402.85 (-4.79%) - stop_loss\n",
      "✅ Opened LINKUSD: 627.3243 @ $13.37 (SL: $12.98, TP: $13.86)\n",
      "💰 Closed LINKUSD: 627.3243 @ $14.03 P&L: $413.81 (+4.93%) - take_profit\n",
      "✅ Opened LINKUSD: 601.8311 @ $14.03 (SL: $13.65, TP: $14.54)\n",
      "💰 Closed ETHUSD: 8.1447 @ $2060.73 P&L: $1479.13 (+9.66%) - take_profit\n",
      "💰 Closed DOTUSD: 2209.3762 @ $4.55 P&L: $425.77 (+4.43%) - take_profit\n",
      "💰 Closed LINKUSD: 601.8311 @ $15.01 P&L: $584.26 (+6.92%) - take_profit\n",
      "✅ Opened ETHUSD: 8.4987 @ $2060.73 (SL: $2004.12, TP: $2134.91)\n",
      "✅ Opened DOTUSD: 2134.5403 @ $4.55 (SL: $4.42, TP: $4.71)\n",
      "✅ Opened LINKUSD: 565.0727 @ $15.01 (SL: $14.59, TP: $15.55)\n",
      "❌ Closed ETHUSD: 8.4987 @ $1980.83 P&L: $-679.02 (-3.88%) - stop_loss\n",
      "❌ Closed DOTUSD: 2134.5403 @ $4.40 P&L: $-317.40 (-3.27%) - stop_loss\n",
      "❌ Closed LINKUSD: 565.0727 @ $14.21 P&L: $-446.82 (-5.27%) - stop_loss\n",
      "✅ Opened ETHUSD: 8.6957 @ $1980.83 (SL: $1919.72, TP: $2052.14)\n",
      "✅ Opened DOTUSD: 2169.6920 @ $4.40 (SL: $4.26, TP: $4.55)\n",
      "✅ Opened LINKUSD: 586.6476 @ $14.21 (SL: $13.78, TP: $14.73)\n",
      "🔄 Regime Change: 4 → 6 (WAIT_AND_SEE)\n",
      "💰 Closed ADAUSD: 10478.2718 @ $0.73 P&L: $73.21 (+0.97%) - wait_and_see_regime\n",
      "💰 Closed BTCUSD: 0.1823 @ $87327.73 P&L: $627.87 (+4.11%) - wait_and_see_regime\n",
      "💰 Closed ETHUSD: 8.6957 @ $2077.74 P&L: $842.68 (+4.89%) - wait_and_see_regime\n",
      "💰 Closed DOTUSD: 2169.6920 @ $4.61 P&L: $471.41 (+4.94%) - wait_and_see_regime\n",
      "💰 Closed LINKUSD: 586.6476 @ $15.06 P&L: $497.74 (+5.97%) - wait_and_see_regime\n",
      "🔄 Regime Change: 6 → 0 (STABLE_GROWTH)\n",
      "✅ Opened BTCUSD: 0.2887 @ $86960.86 (SL: $83817.22, TP: $89569.68)\n",
      "✅ Opened ETHUSD: 9.8426 @ $2009.88 (SL: $1937.23, TP: $2070.18)\n",
      "✅ Opened ADAUSD: 21413.1059 @ $0.73 (SL: $0.70, TP: $0.75)\n",
      "✅ Opened DOTUSD: 2617.9007 @ $4.69 (SL: $4.52, TP: $4.83)\n",
      "✅ Opened LINKUSD: 635.5583 @ $15.23 (SL: $14.68, TP: $15.69)\n",
      "❌ Closed ETHUSD: 9.8426 @ $1896.92 P&L: $-1111.88 (-5.62%) - stop_loss\n",
      "❌ Closed DOTUSD: 2617.9007 @ $4.29 P&L: $-1056.33 (-8.60%) - stop_loss\n",
      "❌ Closed LINKUSD: 635.5583 @ $14.25 P&L: $-622.14 (-6.43%) - stop_loss\n",
      "✅ Opened ETHUSD: 9.6177 @ $1896.92 (SL: $1831.26, TP: $1953.82)\n",
      "✅ Opened DOTUSD: 2803.9855 @ $4.29 (SL: $4.14, TP: $4.42)\n",
      "✅ Opened LINKUSD: 664.8266 @ $14.25 (SL: $13.76, TP: $14.68)\n",
      "❌ Closed BTCUSD: 0.2887 @ $82679.17 P&L: $-1236.05 (-4.92%) - stop_loss\n",
      "❌ Closed ADAUSD: 21413.1059 @ $0.67 P&L: $-1155.32 (-7.41%) - stop_loss\n",
      "❌ Closed ETHUSD: 9.6177 @ $1829.27 P&L: $-650.57 (-3.57%) - stop_loss\n",
      "❌ Closed DOTUSD: 2803.9855 @ $4.05 P&L: $-673.69 (-5.60%) - stop_loss\n",
      "❌ Closed LINKUSD: 664.8266 @ $13.55 P&L: $-466.77 (-4.93%) - stop_loss\n",
      "✅ Opened BTCUSD: 0.3311 @ $82679.17 (SL: $79384.77, TP: $85159.55)\n",
      "✅ Opened ETHUSD: 11.2885 @ $1829.27 (SL: $1756.39, TP: $1884.15)\n",
      "✅ Opened ADAUSD: 20162.7273 @ $0.67 (SL: $0.65, TP: $0.69)\n",
      "✅ Opened DOTUSD: 2637.5966 @ $4.05 (SL: $3.89, TP: $4.17)\n",
      "✅ Opened LINKUSD: 619.2340 @ $13.55 (SL: $13.01, TP: $13.96)\n",
      "💰 Closed BTCUSD: 0.3311 @ $85237.59 P&L: $847.01 (+3.09%) - take_profit\n",
      "💰 Closed ETHUSD: 11.2885 @ $1907.17 P&L: $879.29 (+4.26%) - take_profit\n",
      "💰 Closed DOTUSD: 2637.5966 @ $4.18 P&L: $337.89 (+3.16%) - take_profit\n",
      "💰 Closed LINKUSD: 619.2340 @ $14.06 P&L: $313.41 (+3.74%) - take_profit\n",
      "✅ Opened BTCUSD: 0.2906 @ $85237.59 (SL: $81217.61, TP: $87794.72)\n",
      "✅ Opened ETHUSD: 9.7785 @ $1907.17 (SL: $1817.22, TP: $1964.38)\n",
      "✅ Opened DOTUSD: 2935.3744 @ $4.18 (SL: $3.98, TP: $4.30)\n",
      "✅ Opened LINKUSD: 684.0295 @ $14.06 (SL: $13.39, TP: $14.48)\n",
      "❌ Closed ADAUSD: 20162.7273 @ $0.64 P&L: $-652.77 (-4.80%) - stop_loss\n",
      "❌ Closed ETHUSD: 9.7785 @ $1795.76 P&L: $-1089.38 (-5.84%) - stop_loss\n",
      "❌ Closed DOTUSD: 2935.3744 @ $3.97 P&L: $-616.70 (-5.03%) - stop_loss\n",
      "❌ Closed LINKUSD: 684.0295 @ $12.95 P&L: $-759.35 (-7.90%) - stop_loss\n",
      "✅ Opened ETHUSD: 11.8295 @ $1795.76 (SL: $1720.30, TP: $1849.63)\n",
      "✅ Opened ADAUSD: 21762.9987 @ $0.64 (SL: $0.61, TP: $0.66)\n",
      "✅ Opened DOTUSD: 2760.6473 @ $3.97 (SL: $3.80, TP: $4.09)\n",
      "✅ Opened LINKUSD: 663.2851 @ $12.95 (SL: $12.40, TP: $13.33)\n",
      "🔄 Regime Change: 0 → 4 (CONSERVATIVE)\n",
      "❌ Closed BTCUSD: 0.2906 @ $78211.48 P&L: $-2041.80 (-8.24%) - stop_loss\n",
      "❌ Closed ETHUSD: 11.8295 @ $1574.63 P&L: $-2615.85 (-12.31%) - stop_loss\n",
      "❌ Closed ADAUSD: 21762.9987 @ $0.57 P&L: $-1494.34 (-10.70%) - stop_loss\n",
      "❌ Closed DOTUSD: 2760.6473 @ $3.68 P&L: $-804.52 (-7.35%) - stop_loss\n",
      "❌ Closed LINKUSD: 663.2851 @ $11.24 P&L: $-1132.44 (-13.19%) - stop_loss\n",
      "✅ Opened BTCUSD: 0.2517 @ $78211.48 (SL: $75163.70, TP: $81027.10)\n",
      "✅ Opened ETHUSD: 10.1047 @ $1574.63 (SL: $1513.27, TP: $1631.32)\n",
      "✅ Opened ADAUSD: 15502.3169 @ $0.57 (SL: $0.55, TP: $0.59)\n",
      "✅ Opened DOTUSD: 2096.6449 @ $3.68 (SL: $3.53, TP: $3.81)\n",
      "✅ Opened LINKUSD: 594.7613 @ $11.24 (SL: $10.80, TP: $11.64)\n",
      "❌ Closed ETHUSD: 10.1047 @ $1471.36 P&L: $-1043.52 (-6.56%) - stop_loss\n",
      "❌ Closed DOTUSD: 2096.6449 @ $3.37 P&L: $-648.43 (-8.41%) - stop_loss\n",
      "✅ Opened ETHUSD: 8.5960 @ $1471.36 (SL: $1410.08, TP: $1524.33)\n",
      "✅ Opened DOTUSD: 2099.4459 @ $3.37 (SL: $3.23, TP: $3.49)\n",
      "💰 Closed BTCUSD: 0.2517 @ $82622.17 P&L: $1110.31 (+5.64%) - take_profit\n",
      "💰 Closed ADAUSD: 15502.3169 @ $0.63 P&L: $914.52 (+10.30%) - take_profit\n",
      "💰 Closed LINKUSD: 594.7613 @ $12.65 P&L: $838.05 (+12.54%) - take_profit\n",
      "💰 Closed ETHUSD: 8.5960 @ $1662.53 P&L: $1643.31 (+12.99%) - take_profit\n",
      "💰 Closed DOTUSD: 2099.4459 @ $3.64 P&L: $566.34 (+8.01%) - take_profit\n",
      "✅ Opened BTCUSD: 0.2437 @ $82622.17 (SL: $79326.92, TP: $85596.57)\n",
      "✅ Opened ETHUSD: 9.8116 @ $1662.53 (SL: $1596.23, TP: $1722.38)\n",
      "✅ Opened ADAUSD: 14379.1282 @ $0.63 (SL: $0.61, TP: $0.65)\n",
      "✅ Opened DOTUSD: 2172.9561 @ $3.64 (SL: $3.49, TP: $3.77)\n",
      "✅ Opened LINKUSD: 543.0224 @ $12.65 (SL: $12.14, TP: $13.10)\n",
      "❌ Closed ETHUSD: 9.8116 @ $1523.93 P&L: $-1359.93 (-8.34%) - stop_loss\n",
      "❌ Closed DOTUSD: 2172.9561 @ $3.47 P&L: $-369.74 (-4.68%) - stop_loss\n",
      "❌ Closed LINKUSD: 543.0224 @ $12.08 P&L: $-305.99 (-4.46%) - stop_loss\n",
      "✅ Opened ETHUSD: 9.2967 @ $1523.93 (SL: $1467.21, TP: $1578.79)\n",
      "✅ Opened DOTUSD: 2276.3795 @ $3.47 (SL: $3.34, TP: $3.59)\n",
      "✅ Opened LINKUSD: 567.8042 @ $12.08 (SL: $11.63, TP: $12.52)\n",
      "💰 Closed LINKUSD: 567.8042 @ $12.66 P&L: $328.03 (+4.78%) - take_profit\n",
      "✅ Opened LINKUSD: 541.9780 @ $12.66 (SL: $12.16, TP: $13.12)\n",
      "💰 Closed ADAUSD: 14379.1282 @ $0.66 P&L: $375.68 (+4.13%) - take_profit\n",
      "💰 Closed ETHUSD: 9.2967 @ $1645.86 P&L: $1133.58 (+8.00%) - take_profit\n",
      "💰 Closed DOTUSD: 2276.3795 @ $3.71 P&L: $561.95 (+7.12%) - take_profit\n",
      "💰 Closed LINKUSD: 541.9780 @ $13.15 P&L: $266.60 (+3.88%) - take_profit\n",
      "✅ Opened ETHUSD: 9.9213 @ $1645.86 (SL: $1581.60, TP: $1705.11)\n",
      "✅ Opened ADAUSD: 13803.3866 @ $0.66 (SL: $0.63, TP: $0.68)\n",
      "✅ Opened DOTUSD: 2130.2106 @ $3.71 (SL: $3.57, TP: $3.85)\n",
      "✅ Opened LINKUSD: 523.3699 @ $13.15 (SL: $12.64, TP: $13.63)\n",
      "❌ Closed LINKUSD: 523.3699 @ $12.60 P&L: $-292.35 (-4.25%) - stop_loss\n",
      "✅ Opened LINKUSD: 543.5455 @ $12.60 (SL: $12.10, TP: $13.05)\n",
      "❌ Closed ADAUSD: 13803.3866 @ $0.61 P&L: $-691.16 (-7.61%) - stop_loss\n",
      "❌ Closed DOTUSD: 2130.2106 @ $3.52 P&L: $-405.62 (-5.13%) - stop_loss\n",
      "✅ Opened ADAUSD: 13179.5551 @ $0.61 (SL: $0.58, TP: $0.63)\n",
      "✅ Opened DOTUSD: 1980.9452 @ $3.52 (SL: $3.38, TP: $3.65)\n",
      "❌ Closed ETHUSD: 9.9213 @ $1577.71 P&L: $-676.19 (-4.14%) - stop_loss\n",
      "✅ Opened ETHUSD: 7.4867 @ $1577.71 (SL: $1511.52, TP: $1634.50)\n",
      "💰 Closed DOTUSD: 1980.9452 @ $3.68 P&L: $318.44 (+4.56%) - take_profit\n",
      "✅ Opened DOTUSD: 2047.3399 @ $3.68 (SL: $3.52, TP: $3.82)\n",
      "💰 Closed DOTUSD: 2047.3399 @ $3.88 P&L: $394.91 (+5.24%) - take_profit\n",
      "✅ Opened DOTUSD: 1958.6378 @ $3.88 (SL: $3.71, TP: $4.02)\n",
      "🔄 Regime Change: 4 → 1 (MOMENTUM)\n",
      "💰 Closed LINKUSD: 543.5455 @ $13.27 P&L: $366.18 (+5.35%) - take_profit\n",
      "✅ Opened LINKUSD: 798.1746 @ $13.27 (SL: $12.71, TP: $13.77)\n",
      "💰 Closed BTCUSD: 0.2437 @ $87452.05 P&L: $1177.20 (+5.85%) - take_profit\n",
      "✅ Opened BTCUSD: 0.1436 @ $87452.05 (SL: $83697.10, TP: $90775.22)\n",
      "🔄 Regime Change: 1 → 6 (WAIT_AND_SEE)\n",
      "💰 Closed ADAUSD: 13179.5551 @ $0.68 P&L: $976.24 (+12.18%) - wait_and_see_regime\n",
      "💰 Closed ETHUSD: 7.4867 @ $1759.71 P&L: $1362.58 (+11.54%) - wait_and_see_regime\n",
      "💰 Closed DOTUSD: 1958.6378 @ $4.02 P&L: $285.44 (+3.76%) - wait_and_see_regime\n",
      "💰 Closed LINKUSD: 798.1746 @ $14.13 P&L: $690.44 (+6.52%) - wait_and_see_regime\n",
      "💰 Closed BTCUSD: 0.1436 @ $93576.17 P&L: $879.21 (+7.00%) - wait_and_see_regime\n",
      "🔄 Regime Change: 6 → 0 (STABLE_GROWTH)\n",
      "✅ Opened BTCUSD: 0.2571 @ $94326.62 (SL: $89610.29, TP: $97156.42)\n",
      "✅ Opened ETHUSD: 10.4832 @ $1808.16 (SL: $1717.75, TP: $1862.40)\n",
      "✅ Opened ADAUSD: 21902.3143 @ $0.68 (SL: $0.64, TP: $0.70)\n",
      "✅ Opened DOTUSD: 2952.0288 @ $3.92 (SL: $3.73, TP: $4.04)\n",
      "✅ Opened LINKUSD: 792.9735 @ $13.87 (SL: $13.17, TP: $14.28)\n",
      "🔄 Regime Change: 0 → 6 (WAIT_AND_SEE)\n",
      "💰 Closed BTCUSD: 0.2571 @ $103076.28 P&L: $2249.77 (+9.28%) - wait_and_see_regime\n",
      "💰 Closed ETHUSD: 10.4832 @ $2197.56 P&L: $4082.21 (+21.54%) - wait_and_see_regime\n",
      "💰 Closed ADAUSD: 21902.3143 @ $0.77 P&L: $1944.45 (+13.13%) - wait_and_see_regime\n",
      "💰 Closed DOTUSD: 2952.0288 @ $4.44 P&L: $1529.26 (+13.21%) - wait_and_see_regime\n",
      "💰 Closed LINKUSD: 792.9735 @ $15.82 P&L: $1550.80 (+14.10%) - wait_and_see_regime\n",
      "🔄 Regime Change: 6 → 0 (STABLE_GROWTH)\n",
      "✅ Opened BTCUSD: 0.2601 @ $103212.36 (SL: $100045.94, TP: $106308.74)\n",
      "✅ Opened ETHUSD: 8.4677 @ $2475.05 (SL: $2399.12, TP: $2549.31)\n",
      "✅ Opened ADAUSD: 22034.3214 @ $0.74 (SL: $0.72, TP: $0.76)\n",
      "✅ Opened DOTUSD: 2769.6855 @ $4.61 (SL: $4.47, TP: $4.75)\n",
      "✅ Opened LINKUSD: 790.0436 @ $15.32 (SL: $14.85, TP: $15.78)\n",
      "🔄 Regime Change: 0 → 6 (WAIT_AND_SEE)\n",
      "💰 Closed BTCUSD: 0.2601 @ $106030.64 P&L: $733.11 (+2.73%) - wait_and_see_regime\n",
      "❌ Closed ETHUSD: 8.4677 @ $2465.34 P&L: $-82.25 (-0.39%) - wait_and_see_regime\n",
      "💰 Closed ADAUSD: 22034.3214 @ $0.75 P&L: $206.26 (+1.26%) - wait_and_see_regime\n",
      "💰 Closed DOTUSD: 2769.6855 @ $4.74 P&L: $348.19 (+2.73%) - wait_and_see_regime\n",
      "💰 Closed LINKUSD: 790.0436 @ $15.70 P&L: $299.99 (+2.48%) - wait_and_see_regime\n",
      "🔄 Regime Change: 6 → 0 (STABLE_GROWTH)\n",
      "✅ Opened BTCUSD: 0.2511 @ $107216.67 (SL: $104336.59, TP: $110433.17)\n",
      "✅ Opened ETHUSD: 8.3630 @ $2519.81 (SL: $2452.13, TP: $2595.41)\n",
      "✅ Opened ADAUSD: 22041.9710 @ $0.75 (SL: $0.73, TP: $0.77)\n",
      "✅ Opened DOTUSD: 2831.1621 @ $4.56 (SL: $4.44, TP: $4.70)\n",
      "✅ Opened LINKUSD: 647.2926 @ $15.61 (SL: $15.19, TP: $16.08)\n",
      "💰 Closed ETHUSD: 8.3630 @ $2662.09 P&L: $1189.89 (+5.65%) - take_profit\n",
      "✅ Opened ETHUSD: 4.8005 @ $2662.09 (SL: $2584.39, TP: $2741.96)\n",
      "❌ Closed ADAUSD: 22041.9710 @ $0.72 P&L: $-528.61 (-3.21%) - stop_loss\n",
      "❌ Closed DOTUSD: 2831.1621 @ $4.36 P&L: $-552.59 (-4.28%) - stop_loss\n",
      "❌ Closed LINKUSD: 647.2926 @ $15.12 P&L: $-315.89 (-3.13%) - stop_loss\n",
      "✅ Opened ADAUSD: 25556.6726 @ $0.72 (SL: $0.70, TP: $0.75)\n",
      "✅ Opened DOTUSD: 3306.3987 @ $4.36 (SL: $4.23, TP: $4.50)\n",
      "✅ Opened LINKUSD: 743.9936 @ $15.12 (SL: $14.64, TP: $15.57)\n",
      "❌ Closed BTCUSD: 0.2511 @ $104010.92 P&L: $-805.06 (-2.99%) - stop_loss\n",
      "❌ Closed ETHUSD: 4.8005 @ $2524.48 P&L: $-660.63 (-5.17%) - stop_loss\n",
      "❌ Closed ADAUSD: 25556.6726 @ $0.69 P&L: $-843.64 (-4.56%) - stop_loss\n",
      "❌ Closed DOTUSD: 3306.3987 @ $4.05 P&L: $-1027.16 (-7.12%) - stop_loss\n",
      "❌ Closed LINKUSD: 743.9936 @ $13.92 P&L: $-893.06 (-7.94%) - stop_loss\n",
      "✅ Opened BTCUSD: 0.2891 @ $104010.92 (SL: $100635.13, TP: $107131.25)\n",
      "✅ Opened ETHUSD: 8.9120 @ $2524.48 (SL: $2442.54, TP: $2600.21)\n",
      "✅ Opened ADAUSD: 21322.4852 @ $0.69 (SL: $0.67, TP: $0.71)\n",
      "✅ Opened DOTUSD: 2834.8332 @ $4.05 (SL: $3.92, TP: $4.18)\n",
      "✅ Opened LINKUSD: 643.6126 @ $13.92 (SL: $13.47, TP: $14.34)\n",
      "💰 Closed ETHUSD: 8.9120 @ $2609.74 P&L: $759.85 (+3.38%) - take_profit\n",
      "✅ Opened ETHUSD: 5.3043 @ $2609.74 (SL: $2513.32, TP: $2688.03)\n",
      "❌ Closed ADAUSD: 21322.4852 @ $0.67 P&L: $-533.62 (-3.62%) - stop_loss\n",
      "✅ Opened ADAUSD: 18311.0226 @ $0.67 (SL: $0.64, TP: $0.69)\n",
      "❌ Closed DOTUSD: 2834.8332 @ $3.83 P&L: $-638.44 (-5.56%) - stop_loss\n",
      "❌ Closed LINKUSD: 643.6126 @ $12.93 P&L: $-636.52 (-7.11%) - stop_loss\n",
      "❌ Closed ETHUSD: 5.3043 @ $2421.60 P&L: $-997.93 (-7.21%) - stop_loss\n",
      "❌ Closed ADAUSD: 18311.0226 @ $0.63 P&L: $-700.15 (-5.74%) - stop_loss\n",
      "✅ Opened ETHUSD: 8.9783 @ $2421.60 (SL: $2335.59, TP: $2494.25)\n",
      "✅ Opened ADAUSD: 22694.5152 @ $0.63 (SL: $0.61, TP: $0.65)\n",
      "✅ Opened DOTUSD: 2905.1588 @ $3.83 (SL: $3.69, TP: $3.94)\n",
      "✅ Opened LINKUSD: 671.2225 @ $12.93 (SL: $12.47, TP: $13.32)\n",
      "💰 Closed ADAUSD: 22694.5152 @ $0.66 P&L: $644.90 (+4.52%) - take_profit\n",
      "💰 Closed LINKUSD: 671.2225 @ $13.59 P&L: $443.90 (+5.11%) - take_profit\n",
      "✅ Opened ADAUSD: 18297.6433 @ $0.66 (SL: $0.63, TP: $0.68)\n",
      "✅ Opened LINKUSD: 690.2135 @ $13.59 (SL: $13.08, TP: $14.00)\n",
      "💰 Closed ETHUSD: 8.9783 @ $2526.29 P&L: $939.95 (+4.32%) - take_profit\n",
      "💰 Closed DOTUSD: 2905.1588 @ $4.03 P&L: $578.60 (+5.20%) - take_profit\n",
      "✅ Opened ETHUSD: 6.7365 @ $2526.29 (SL: $2428.91, TP: $2602.08)\n",
      "✅ Opened DOTUSD: 2770.2026 @ $4.03 (SL: $3.87, TP: $4.15)\n",
      "💰 Closed BTCUSD: 0.2891 @ $110261.57 P&L: $1806.89 (+6.01%) - take_profit\n",
      "💰 Closed ADAUSD: 18297.6433 @ $0.71 P&L: $892.51 (+7.43%) - take_profit\n",
      "💰 Closed LINKUSD: 690.2135 @ $14.37 P&L: $540.76 (+5.76%) - take_profit\n",
      "💰 Closed ETHUSD: 6.7365 @ $2685.00 P&L: $1069.13 (+6.28%) - take_profit\n",
      "💰 Closed DOTUSD: 2770.2026 @ $4.16 P&L: $357.36 (+3.20%) - take_profit\n",
      "✅ Opened BTCUSD: 0.2803 @ $110261.57 (SL: $105838.01, TP: $113569.42)\n",
      "✅ Opened ETHUSD: 8.6418 @ $2685.00 (SL: $2577.28, TP: $2765.55)\n",
      "✅ Opened ADAUSD: 21595.6217 @ $0.71 (SL: $0.68, TP: $0.73)\n",
      "✅ Opened DOTUSD: 2865.2080 @ $4.16 (SL: $3.99, TP: $4.28)\n",
      "✅ Opened LINKUSD: 647.8565 @ $14.37 (SL: $13.80, TP: $14.81)\n",
      "💰 Closed ETHUSD: 8.6418 @ $2808.50 P&L: $1067.29 (+4.60%) - take_profit\n",
      "💰 Closed DOTUSD: 2865.2080 @ $4.28 P&L: $363.06 (+3.05%) - take_profit\n",
      "💰 Closed LINKUSD: 647.8565 @ $15.43 P&L: $681.80 (+7.32%) - take_profit\n",
      "✅ Opened ETHUSD: 6.2218 @ $2808.50 (SL: $2701.59, TP: $2892.76)\n",
      "✅ Opened DOTUSD: 3187.9518 @ $4.28 (SL: $4.12, TP: $4.41)\n",
      "✅ Opened LINKUSD: 691.6265 @ $15.43 (SL: $14.84, TP: $15.89)\n",
      "❌ Closed ADAUSD: 21595.6217 @ $0.66 P&L: $-877.45 (-5.76%) - stop_loss\n",
      "❌ Closed ETHUSD: 6.2218 @ $2653.16 P&L: $-966.52 (-5.53%) - stop_loss\n",
      "❌ Closed DOTUSD: 3187.9518 @ $3.93 P&L: $-1128.31 (-8.26%) - stop_loss\n",
      "❌ Closed LINKUSD: 691.6265 @ $14.03 P&L: $-966.24 (-9.06%) - stop_loss\n",
      "✅ Opened ETHUSD: 8.6255 @ $2653.16 (SL: $2543.99, TP: $2732.75)\n",
      "✅ Opened ADAUSD: 22575.6867 @ $0.66 (SL: $0.64, TP: $0.68)\n",
      "✅ Opened DOTUSD: 2980.1578 @ $3.93 (SL: $3.77, TP: $4.05)\n",
      "✅ Opened LINKUSD: 651.4066 @ $14.03 (SL: $13.45, TP: $14.45)\n",
      "❌ Closed LINKUSD: 651.4066 @ $13.41 P&L: $-400.95 (-4.39%) - stop_loss\n",
      "✅ Opened LINKUSD: 674.8477 @ $13.41 (SL: $12.86, TP: $13.82)\n",
      "❌ Closed BTCUSD: 0.2803 @ $105482.91 P&L: $-1339.63 (-4.33%) - stop_loss\n",
      "❌ Closed ETHUSD: 8.6255 @ $2534.07 P&L: $-1027.20 (-4.49%) - stop_loss\n",
      "❌ Closed ADAUSD: 22575.6867 @ $0.62 P&L: $-894.19 (-5.96%) - stop_loss\n",
      "✅ Opened BTCUSD: 0.2325 @ $105482.91 (SL: $101154.71, TP: $108647.39)\n",
      "✅ Opened ETHUSD: 7.2490 @ $2534.07 (SL: $2430.09, TP: $2610.09)\n",
      "✅ Opened ADAUSD: 19267.9965 @ $0.62 (SL: $0.60, TP: $0.64)\n",
      "❌ Closed DOTUSD: 2980.1578 @ $3.73 P&L: $-594.87 (-5.08%) - stop_loss\n",
      "✅ Opened DOTUSD: 3167.5396 @ $3.73 (SL: $3.58, TP: $3.84)\n",
      "❌ Closed DOTUSD: 3167.5396 @ $3.55 P&L: $-574.67 (-4.86%) - stop_loss\n",
      "✅ Opened DOTUSD: 3302.8486 @ $3.55 (SL: $3.38, TP: $3.65)\n",
      "❌ Closed LINKUSD: 674.8477 @ $12.51 P&L: $-612.99 (-6.77%) - stop_loss\n",
      "❌ Closed ETHUSD: 7.2490 @ $2405.70 P&L: $-930.59 (-5.07%) - stop_loss\n",
      "❌ Closed ADAUSD: 19267.9965 @ $0.58 P&L: $-926.89 (-7.70%) - stop_loss\n",
      "✅ Opened ETHUSD: 8.1998 @ $2405.70 (SL: $2291.91, TP: $2477.87)\n",
      "✅ Opened ADAUSD: 22416.2306 @ $0.58 (SL: $0.55, TP: $0.59)\n",
      "✅ Opened LINKUSD: 806.8373 @ $12.51 (SL: $11.91, TP: $12.88)\n",
      "❌ Closed DOTUSD: 3302.8486 @ $3.30 P&L: $-831.23 (-7.09%) - stop_loss\n",
      "❌ Closed ETHUSD: 8.1998 @ $2270.58 P&L: $-1107.90 (-5.62%) - stop_loss\n",
      "❌ Closed LINKUSD: 806.8373 @ $11.89 P&L: $-493.40 (-4.89%) - stop_loss\n",
      "✅ Opened ETHUSD: 8.2808 @ $2270.58 (SL: $2160.79, TP: $2338.70)\n",
      "✅ Opened DOTUSD: 3739.1591 @ $3.30 (SL: $3.14, TP: $3.40)\n",
      "✅ Opened LINKUSD: 808.7905 @ $11.89 (SL: $11.32, TP: $12.25)\n",
      "❌ Closed BTCUSD: 0.2325 @ $100852.58 P&L: $-1076.53 (-4.39%) - stop_loss\n",
      "❌ Closed ADAUSD: 22416.2306 @ $0.54 P&L: $-800.66 (-6.19%) - stop_loss\n",
      "✅ Opened BTCUSD: 0.1736 @ $100852.58 (SL: $95884.47, TP: $103878.16)\n",
      "✅ Opened ADAUSD: 21206.8110 @ $0.54 (SL: $0.51, TP: $0.56)\n",
      "💰 Closed ETHUSD: 8.2808 @ $2423.90 P&L: $1269.59 (+6.75%) - take_profit\n",
      "💰 Closed DOTUSD: 3739.1591 @ $3.42 P&L: $448.63 (+3.64%) - take_profit\n",
      "💰 Closed LINKUSD: 808.7905 @ $12.87 P&L: $788.31 (+8.19%) - take_profit\n",
      "💰 Closed BTCUSD: 0.1736 @ $105511.62 P&L: $808.65 (+4.62%) - take_profit\n",
      "💰 Closed ADAUSD: 21206.8110 @ $0.58 P&L: $893.02 (+7.78%) - take_profit\n",
      "✅ Opened BTCUSD: 0.2707 @ $105511.62 (SL: $100456.13, TP: $108676.97)\n",
      "✅ Opened ETHUSD: 8.8492 @ $2423.90 (SL: $2307.76, TP: $2496.62)\n",
      "✅ Opened ADAUSD: 24146.0098 @ $0.58 (SL: $0.56, TP: $0.60)\n",
      "✅ Opened DOTUSD: 3225.2797 @ $3.42 (SL: $3.25, TP: $3.52)\n",
      "✅ Opened LINKUSD: 669.9507 @ $12.87 (SL: $12.25, TP: $13.26)\n",
      "💰 Closed LINKUSD: 669.9507 @ $13.40 P&L: $356.94 (+4.14%) - take_profit\n",
      "✅ Opened LINKUSD: 649.1737 @ $13.40 (SL: $12.78, TP: $13.80)\n",
      "❌ Closed ADAUSD: 24146.0098 @ $0.55 P&L: $-702.12 (-4.99%) - stop_loss\n",
      "✅ Opened ADAUSD: 17643.4775 @ $0.55 (SL: $0.53, TP: $0.57)\n",
      "💰 Closed ETHUSD: 8.8492 @ $2502.67 P&L: $697.03 (+3.25%) - take_profit\n",
      "💰 Closed DOTUSD: 3225.2797 @ $3.55 P&L: $427.54 (+3.88%) - take_profit\n",
      "💰 Closed ADAUSD: 17643.4775 @ $0.58 P&L: $411.89 (+4.21%) - take_profit\n",
      "✅ Opened ETHUSD: 6.9395 @ $2502.67 (SL: $2377.53, TP: $2577.75)\n",
      "✅ Opened ADAUSD: 23434.3702 @ $0.58 (SL: $0.55, TP: $0.59)\n",
      "✅ Opened DOTUSD: 2971.4932 @ $3.55 (SL: $3.37, TP: $3.66)\n",
      "❌ Closed ADAUSD: 23434.3702 @ $0.54 P&L: $-828.55 (-6.12%) - stop_loss\n",
      "❌ Closed DOTUSD: 2971.4932 @ $3.28 P&L: $-793.16 (-7.52%) - stop_loss\n",
      "✅ Opened ADAUSD: 24288.0962 @ $0.54 (SL: $0.52, TP: $0.56)\n",
      "✅ Opened DOTUSD: 3126.8442 @ $3.28 (SL: $3.12, TP: $3.38)\n",
      "💰 Closed BTCUSD: 0.2707 @ $108824.44 P&L: $896.62 (+3.14%) - take_profit\n",
      "💰 Closed ADAUSD: 24288.0962 @ $0.58 P&L: $1033.31 (+7.85%) - take_profit\n",
      "💰 Closed DOTUSD: 3126.8442 @ $3.55 P&L: $829.05 (+8.08%) - take_profit\n",
      "✅ Opened BTCUSD: 0.1842 @ $108824.44 (SL: $103383.22, TP: $112089.18)\n",
      "✅ Opened ADAUSD: 26734.0866 @ $0.58 (SL: $0.56, TP: $0.60)\n",
      "✅ Opened DOTUSD: 3435.7794 @ $3.55 (SL: $3.37, TP: $3.65)\n",
      "💰 Closed ETHUSD: 6.9395 @ $2590.13 P&L: $606.96 (+3.49%) - take_profit\n",
      "✅ Opened ETHUSD: 5.1969 @ $2590.13 (SL: $2460.63, TP: $2667.84)\n",
      "❌ Closed DOTUSD: 3435.7794 @ $3.36 P&L: $-651.33 (-5.34%) - stop_loss\n",
      "✅ Opened DOTUSD: 3878.9651 @ $3.36 (SL: $3.20, TP: $3.46)\n",
      "💰 Closed LINKUSD: 649.1737 @ $13.97 P&L: $367.72 (+4.23%) - take_profit\n",
      "✅ Opened LINKUSD: 1057.8840 @ $13.97 (SL: $13.29, TP: $14.39)\n",
      "🔄 Regime Change: 0 → 6 (WAIT_AND_SEE)\n",
      "💰 Closed BTCUSD: 0.1842 @ $111327.53 P&L: $461.12 (+2.30%) - wait_and_see_regime\n",
      "💰 Closed ADAUSD: 26734.0866 @ $0.62 P&L: $1040.67 (+6.66%) - wait_and_see_regime\n",
      "💰 Closed ETHUSD: 5.1969 @ $2772.58 P&L: $948.16 (+7.04%) - wait_and_see_regime\n",
      "💰 Closed DOTUSD: 3878.9651 @ $3.62 P&L: $1009.99 (+7.75%) - wait_and_see_regime\n",
      "💰 Closed LINKUSD: 1057.8840 @ $14.26 P&L: $305.36 (+2.07%) - wait_and_see_regime\n",
      "🔄 Regime Change: 6 → 0 (STABLE_GROWTH)\n",
      "✅ Opened BTCUSD: 0.2280 @ $117853.31 (SL: $114043.59, TP: $121388.91)\n",
      "✅ Opened ETHUSD: 5.5188 @ $3788.60 (SL: $3666.13, TP: $3902.26)\n",
      "✅ Opened ADAUSD: 20799.7999 @ $0.78 (SL: $0.76, TP: $0.81)\n",
      "✅ Opened DOTUSD: 3249.5999 @ $3.90 (SL: $3.77, TP: $4.01)\n",
      "✅ Opened LINKUSD: 670.8034 @ $17.81 (SL: $17.23, TP: $18.34)\n",
      "❌ Closed ADAUSD: 20799.7999 @ $0.74 P&L: $-888.57 (-5.46%) - stop_loss\n",
      "❌ Closed DOTUSD: 3249.5999 @ $3.68 P&L: $-697.59 (-5.51%) - stop_loss\n",
      "❌ Closed LINKUSD: 670.8034 @ $16.95 P&L: $-576.65 (-4.83%) - stop_loss\n",
      "✅ Opened ADAUSD: 21536.4545 @ $0.74 (SL: $0.72, TP: $0.76)\n",
      "✅ Opened DOTUSD: 3358.1409 @ $3.68 (SL: $3.57, TP: $3.79)\n",
      "✅ Opened LINKUSD: 566.4880 @ $16.95 (SL: $16.41, TP: $17.46)\n",
      "❌ Closed BTCUSD: 0.2280 @ $113234.61 P&L: $-1052.86 (-3.92%) - stop_loss\n",
      "❌ Closed ETHUSD: 5.5188 @ $3483.18 P&L: $-1685.53 (-8.06%) - stop_loss\n",
      "❌ Closed ADAUSD: 21536.4545 @ $0.71 P&L: $-540.19 (-3.39%) - stop_loss\n",
      "❌ Closed DOTUSD: 3358.1409 @ $3.55 P&L: $-437.80 (-3.54%) - stop_loss\n",
      "❌ Closed LINKUSD: 566.4880 @ $16.10 P&L: $-480.01 (-5.00%) - stop_loss\n",
      "✅ Opened BTCUSD: 0.2579 @ $113234.61 (SL: $109687.45, TP: $116631.64)\n",
      "✅ Opened ETHUSD: 6.2512 @ $3483.18 (SL: $3374.07, TP: $3587.67)\n",
      "✅ Opened ADAUSD: 19922.8985 @ $0.71 (SL: $0.69, TP: $0.74)\n",
      "✅ Opened DOTUSD: 3113.7510 @ $3.55 (SL: $3.44, TP: $3.66)\n",
      "✅ Opened LINKUSD: 533.7449 @ $16.10 (SL: $15.60, TP: $16.58)\n",
      "💰 Closed ETHUSD: 6.2512 @ $3715.71 P&L: $1453.58 (+6.68%) - take_profit\n",
      "💰 Closed ADAUSD: 19922.8985 @ $0.76 P&L: $811.82 (+5.70%) - take_profit\n",
      "💰 Closed DOTUSD: 3113.7510 @ $3.72 P&L: $519.31 (+4.70%) - take_profit\n",
      "💰 Closed LINKUSD: 533.7449 @ $17.10 P&L: $531.25 (+6.18%) - take_profit\n",
      "✅ Opened ETHUSD: 6.0944 @ $3715.71 (SL: $3604.58, TP: $3827.18)\n",
      "✅ Opened ADAUSD: 19597.2655 @ $0.76 (SL: $0.73, TP: $0.78)\n",
      "✅ Opened DOTUSD: 3091.0974 @ $3.72 (SL: $3.61, TP: $3.83)\n",
      "✅ Opened LINKUSD: 522.2340 @ $17.10 (SL: $16.58, TP: $17.61)\n",
      "❌ Closed ADAUSD: 19597.2655 @ $0.73 P&L: $-566.21 (-3.83%) - stop_loss\n",
      "❌ Closed LINKUSD: 522.2340 @ $16.39 P&L: $-367.43 (-4.12%) - stop_loss\n",
      "✅ Opened ADAUSD: 16561.5394 @ $0.73 (SL: $0.70, TP: $0.75)\n",
      "✅ Opened LINKUSD: 569.9138 @ $16.39 (SL: $15.89, TP: $16.88)\n",
      "💰 Closed BTCUSD: 0.2579 @ $117463.47 P&L: $1090.59 (+3.73%) - take_profit\n",
      "💰 Closed ETHUSD: 6.0944 @ $3911.26 P&L: $1191.77 (+5.26%) - take_profit\n",
      "💰 Closed DOTUSD: 3091.0974 @ $3.86 P&L: $440.22 (+3.83%) - take_profit\n",
      "💰 Closed ADAUSD: 16561.5394 @ $0.79 P&L: $996.85 (+8.29%) - take_profit\n",
      "💰 Closed LINKUSD: 569.9138 @ $18.48 P&L: $1187.64 (+12.71%) - take_profit\n",
      "✅ Opened BTCUSD: 0.2316 @ $117463.47 (SL: $114083.69, TP: $120987.38)\n",
      "✅ Opened ETHUSD: 5.4061 @ $3911.26 (SL: $3798.72, TP: $4028.60)\n",
      "✅ Opened ADAUSD: 20891.3817 @ $0.79 (SL: $0.76, TP: $0.81)\n",
      "✅ Opened DOTUSD: 3307.3155 @ $3.86 (SL: $3.75, TP: $3.98)\n",
      "✅ Opened LINKUSD: 650.4483 @ $18.48 (SL: $17.94, TP: $19.03)\n",
      "💰 Closed DOTUSD: 3307.3155 @ $3.98 P&L: $388.63 (+3.04%) - take_profit\n",
      "💰 Closed LINKUSD: 650.4483 @ $19.90 P&L: $927.80 (+7.72%) - take_profit\n",
      "✅ Opened DOTUSD: 3282.5649 @ $3.98 (SL: $3.86, TP: $4.10)\n",
      "✅ Opened LINKUSD: 617.6202 @ $19.90 (SL: $19.33, TP: $20.50)\n",
      "🔄 Regime Change: 0 → 6 (WAIT_AND_SEE)\n",
      "❌ Closed BTCUSD: 0.2316 @ $116510.08 P&L: $-220.84 (-0.81%) - wait_and_see_regime\n",
      "💰 Closed ETHUSD: 5.4061 @ $4265.56 P&L: $1915.40 (+9.06%) - wait_and_see_regime\n",
      "💰 Closed ADAUSD: 20891.3817 @ $0.80 P&L: $353.67 (+2.15%) - wait_and_see_regime\n",
      "💰 Closed DOTUSD: 3282.5649 @ $4.14 P&L: $532.51 (+4.08%) - wait_and_see_regime\n",
      "💰 Closed LINKUSD: 617.6202 @ $21.90 P&L: $1234.27 (+10.04%) - wait_and_see_regime\n",
      "🔄 Regime Change: 6 → 0 (STABLE_GROWTH)\n",
      "✅ Opened BTCUSD: 0.2369 @ $119266.93 (SL: $115920.89, TP: $122844.93)\n",
      "✅ Opened ETHUSD: 5.1676 @ $4253.59 (SL: $4134.26, TP: $4381.20)\n",
      "✅ Opened ADAUSD: 21338.8172 @ $0.80 (SL: $0.78, TP: $0.83)\n",
      "✅ Opened DOTUSD: 3275.3673 @ $4.06 (SL: $3.95, TP: $4.18)\n",
      "✅ Opened LINKUSD: 567.4303 @ $22.09 (SL: $21.47, TP: $22.76)\n",
      "❌ Closed ADAUSD: 21338.8172 @ $0.77 P&L: $-577.30 (-3.38%) - stop_loss\n",
      "❌ Closed DOTUSD: 3275.3673 @ $3.87 P&L: $-636.19 (-4.78%) - stop_loss\n",
      "❌ Closed LINKUSD: 567.4303 @ $21.17 P&L: $-524.40 (-4.18%) - stop_loss\n",
      "✅ Opened ADAUSD: 21638.9733 @ $0.77 (SL: $0.75, TP: $0.80)\n",
      "✅ Opened DOTUSD: 3368.1452 @ $3.87 (SL: $3.76, TP: $3.98)\n",
      "✅ Opened LINKUSD: 478.2445 @ $21.17 (SL: $20.56, TP: $21.80)\n",
      "⏳ Progress: 100.0% (335/335)\n",
      "🔄 Regime Change: 0 → 6 (WAIT_AND_SEE)\n",
      "💰 Closed BTCUSD: 0.2369 @ $120202.53 P&L: $221.67 (+0.78%) - wait_and_see_regime\n",
      "💰 Closed ETHUSD: 5.1676 @ $4606.81 P&L: $1825.30 (+8.30%) - wait_and_see_regime\n",
      "💰 Closed ADAUSD: 21638.9733 @ $0.84 P&L: $1468.83 (+8.77%) - wait_and_see_regime\n",
      "💰 Closed DOTUSD: 3368.1452 @ $4.15 P&L: $946.53 (+7.27%) - wait_and_see_regime\n",
      "💰 Closed LINKUSD: 478.2445 @ $23.48 P&L: $1104.02 (+10.91%) - wait_and_see_regime\n",
      "\n",
      "✅ BACKTESTING COMPLETE!\n"
     ]
    },
    {
     "data": {
      "text/plain": [
       "<IPython.core.display.HTML object>"
      ],
      "text/html": [
       "\n",
       "            <div class=\"success-box\">\n",
       "                <strong>✅ Backtest Results Loaded Successfully!</strong><br>\n",
       "                📊 <strong>Final Portfolio Value:</strong> $131,049<br>\n",
       "                📈 <strong>Total Return:</strong> 31.05%<br>\n",
       "                🎯 <strong>Sharpe Ratio:</strong> 0.778<br>\n",
       "                💼 <strong>Total Trades:</strong> 367<br>\n",
       "                💰 <strong>Total P&L:</strong> $31,049<br>\n",
       "                🎯 <strong>Win Rate:</strong> 56.4%<br>\n",
       "                📉 <strong>Max Drawdown:</strong> 34.26%<br>\n",
       "                🔄 <strong>Trading Frequency:</strong> Daily (D)<br>\n",
       "                <br>\n",
       "                <strong>📊 Analysis Ready:</strong> All subsequent cells will use this pre-computed data.\n",
       "            </div>\n",
       "            "
      ]
     },
     "metadata": {},
     "output_type": "display_data"
    },
    {
     "name": "stdout",
     "output_type": "stream",
     "text": [
      "\n",
      "✅ All data loaded and ready for analysis!\n",
      "   📊 Backtest Results: Complete performance metrics\n",
      "   🎯 Regime Data: 335 timestamps\n",
      "   💼 Trade Data: 367 individual trades\n",
      "   💰 Crypto Data: 15 cryptocurrency datasets\n",
      "   🔄 Trading Frequency: Daily (D) - Proper backtesting frequency\n",
      "   🚀 Ready for visualization and analysis!\n"
     ]
    }
   ],
   "execution_count": 254
  },
  {
   "cell_type": "markdown",
   "metadata": {
    "ExecuteTime": {
     "end_time": "2025-08-11T19:38:40.935193Z",
     "start_time": "2025-08-11T19:38:40.913165Z"
    }
   },
   "source": "---\n\n## Performance Analysis Framework\n\n### Key Performance Indicators\n\nThis analysis demonstrates quantitative trading effectiveness across multiple performance dimensions, showcasing systematic risk management and professional-grade portfolio optimization.\n\n**Core Metrics:**\n- **Sharpe Ratio**: Risk-adjusted return measurement\n- **Maximum Drawdown**: Peak-to-trough portfolio decline analysis  \n- **Win Rate**: Trade success percentage\n- **Profit Factor**: Gross profit to loss ratio\n\n**Technical Implementation:**\n- **Feature Engineering**: 988+ market indicators across 15+ cryptocurrencies\n- **Machine Learning**: PCA capturing 89.68% market variance + K-means clustering\n- **Risk Management**: Dynamic position sizing with regime-specific controls\n- **Professional Framework**: Institutional-grade backtesting and analytics\n\n---"
  },
  {
   "cell_type": "code",
   "metadata": {
    "ExecuteTime": {
     "end_time": "2025-08-19T16:26:24.615571Z",
     "start_time": "2025-08-19T16:26:24.610342Z"
    }
   },
   "source": "# Performance Metrics Summary\nif execution_success and backtest_results:\n    display(HTML('<div class=\"analysis-header\">📊 PERFORMANCE METRICS SUMMARY</div>'))\n    \n    # Use actual backtest engine results\n    results = backtest_results\n    \n    # Extract key metrics from the actual engine\n    final_value = results.get('final_value', 0)\n    initial_capital = results.get('initial_capital', 100000)\n    total_return = results.get('total_return', 0)\n    sharpe_ratio = results.get('sharpe_ratio', 0)\n    max_drawdown = results.get('max_drawdown', 0)\n    win_rate = results.get('win_rate', 0)\n    profit_factor = results.get('profit_factor', 0)\n    num_trades = results.get('num_trades', 0)\n    total_pnl = results.get('total_pnl', 0)\n    \n    # Additional metrics from the actual engine\n    annualized_return = results.get('annualized_return', 0) * 100 if results.get('annualized_return') else 0\n    annualized_volatility = results.get('annualized_volatility', 0) * 100 if results.get('annualized_volatility') else 0\n    risk_free_rate = results.get('risk_free_rate', 4.27)\n    \n    # Performance summary using actual engine calculations\n    display(HTML(f\"\"\"\n    <div class=\"widget-container\">\n        <h3 style=\"color: #495057; margin: 0 0 25px 0; text-align: center;\">🎯 Professional Strategy Performance Overview</h3>\n        <div style=\"text-align: center; margin-bottom: 20px; padding: 15px; background: #e3f2fd; border-radius: 8px;\">\n            <strong>📊 Using Actual Backtest Engine Results</strong><br>\n            <span style=\"font-size: 12px; color: #666;\">Industry Standard Calculations (252 Trading Days)</span>\n        </div>\n        \n        <div style=\"display: grid; grid-template-columns: repeat(4, 1fr); gap: 20px; margin-bottom: 20px;\">\n            <div style=\"text-align: center; padding: 20px; background: linear-gradient(135deg, #e8f5e8 0%, #f0f8f0 100%); border-radius: 12px; border: 1px solid #d4edda;\">\n                <div style=\"font-size: 24px; font-weight: bold; color: {'#28a745' if total_return > 0 else '#dc3545'};\">\n                    {total_return:.2f}%\n                </div>\n                <div style=\"font-size: 12px; color: #495057; margin-top: 5px;\">TOTAL RETURN</div>\n            </div>\n            <div style=\"text-align: center; padding: 20px; background: linear-gradient(135deg, #e3f2fd 0%, #f1f8fe 100%); border-radius: 12px; border: 1px solid #bee5eb;\">\n                <div style=\"font-size: 24px; font-weight: bold; color: #495057;\">\n                    {sharpe_ratio:.3f}\n                </div>\n                <div style=\"font-size: 12px; color: #495057; margin-top: 5px;\">SHARPE RATIO</div>\n            </div>\n            <div style=\"text-align: center; padding: 20px; background: linear-gradient(135deg, #fff3cd 0%, #fffbee 100%); border-radius: 12px; border: 1px solid #ffeaa7;\">\n                <div style=\"font-size: 24px; font-weight: bold; color: #495057;\">\n                    {abs(max_drawdown):.2f}%\n                </div>\n                <div style=\"font-size: 12px; color: #495057; margin-top: 5px;\">MAX DRAWDOWN</div>\n            </div>\n            <div style=\"text-align: center; padding: 20px; background: linear-gradient(135deg, #f8d7da 0%, #fdeef0 100%); border-radius: 12px; border: 1px solid #f5c6cb;\">\n                <div style=\"font-size: 24px; font-weight: bold; color: #495057;\">\n                    {win_rate:.1f}%\n                </div>\n                <div style=\"font-size: 12px; color: #495057; margin-top: 5px;\">WIN RATE</div>\n            </div>\n        </div>\n        \n        <div style=\"display: grid; grid-template-columns: repeat(4, 1fr); gap: 20px; margin-bottom: 20px;\">\n            <div style=\"text-align: center; padding: 20px; background: #f8f9fa; border-radius: 12px; border: 1px solid #dee2e6;\">\n                <div style=\"font-size: 20px; font-weight: bold; color: #495057;\">\n                    ${final_value:,.0f}\n                </div>\n                <div style=\"font-size: 12px; color: #495057; margin-top: 5px;\">FINAL VALUE</div>\n            </div>\n            <div style=\"text-align: center; padding: 20px; background: #f8f9fa; border-radius: 12px; border: 1px solid #dee2e6;\">\n                <div style=\"font-size: 20px; font-weight: bold; color: #495057;\">\n                    {profit_factor:.2f}\n                </div>\n                <div style=\"font-size: 12px; color: #495057; margin-top: 5px;\">PROFIT FACTOR</div>\n            </div>\n            <div style=\"text-align: center; padding: 20px; background: #f8f9fa; border-radius: 12px; border: 1px solid #dee2e6;\">\n                <div style=\"font-size: 20px; font-weight: bold; color: #495057;\">\n                    {num_trades}\n                </div>\n                <div style=\"font-size: 12px; color: #495057; margin-top: 5px;\">TOTAL TRADES</div>\n            </div>\n            <div style=\"text-align: center; padding: 20px; background: #f8f9fa; border-radius: 12px; border: 1px solid #dee2e6;\">\n                <div style=\"font-size: 20px; font-weight: bold; color: {'#28a745' if total_pnl > 0 else '#dc3545'};\">\n                    ${total_pnl:,.0f}\n                </div>\n                <div style=\"font-size: 12px; color: #495057; margin-top: 5px;\">TOTAL P&L</div>\n            </div>\n        </div>\n        \n        <div style=\"display: grid; grid-template-columns: repeat(3, 1fr); gap: 20px;\">\n            <div style=\"text-align: center; padding: 15px; background: #e9ecef; border-radius: 8px;\">\n                <div style=\"font-size: 18px; font-weight: bold; color: #495057;\">\n                    {annualized_return:.2f}%\n                </div>\n                <div style=\"font-size: 12px; color: #495057; margin-top: 5px;\">ANNUALIZED RETURN</div>\n            </div>\n            <div style=\"text-align: center; padding: 15px; background: #e9ecef; border-radius: 8px;\">\n                <div style=\"font-size: 18px; font-weight: bold; color: #495057;\">\n                    {annualized_volatility:.2f}%\n                </div>\n                <div style=\"font-size: 12px; color: #495057; margin-top: 5px;\">ANNUALIZED VOLATILITY</div>\n            </div>\n            <div style=\"text-align: center; padding: 15px; background: #e9ecef; border-radius: 8px;\">\n                <div style=\"font-size: 18px; font-weight: bold; color: #495057;\">\n                    {risk_free_rate:.2f}%\n                </div>\n                <div style=\"font-size: 12px; color: #495057; margin-top: 5px;\">RISK-FREE RATE</div>\n            </div>\n        </div>\n    </div>\n    \"\"\"))\n\nelse:\n    display(HTML('''\n    <div class=\"info-box\">\n        <strong>ℹ️ Performance Summary Unavailable</strong><br>\n        Execute the backtest analysis above to view performance metrics.\n    </div>\n    '''))",
   "outputs": [
    {
     "data": {
      "text/plain": [
       "<IPython.core.display.HTML object>"
      ],
      "text/html": [
       "<div class=\"analysis-header\">📊 PERFORMANCE METRICS SUMMARY</div>"
      ]
     },
     "metadata": {},
     "output_type": "display_data"
    },
    {
     "data": {
      "text/plain": [
       "<IPython.core.display.HTML object>"
      ],
      "text/html": [
       "\n",
       "    <div class=\"widget-container\">\n",
       "        <h3 style=\"color: #495057; margin: 0 0 25px 0; text-align: center;\">🎯 Professional Strategy Performance Overview</h3>\n",
       "        <div style=\"text-align: center; margin-bottom: 20px; padding: 15px; background: #e3f2fd; border-radius: 8px;\">\n",
       "            <strong>📊 Using Actual Backtest Engine Results</strong><br>\n",
       "            <span style=\"font-size: 12px; color: #666;\">Industry Standard Calculations (252 Trading Days)</span>\n",
       "        </div>\n",
       "\n",
       "        <div style=\"display: grid; grid-template-columns: repeat(4, 1fr); gap: 20px; margin-bottom: 20px;\">\n",
       "            <div style=\"text-align: center; padding: 20px; background: linear-gradient(135deg, #e8f5e8 0%, #f0f8f0 100%); border-radius: 12px; border: 1px solid #d4edda;\">\n",
       "                <div style=\"font-size: 24px; font-weight: bold; color: #28a745;\">\n",
       "                    31.05%\n",
       "                </div>\n",
       "                <div style=\"font-size: 12px; color: #495057; margin-top: 5px;\">TOTAL RETURN</div>\n",
       "            </div>\n",
       "            <div style=\"text-align: center; padding: 20px; background: linear-gradient(135deg, #e3f2fd 0%, #f1f8fe 100%); border-radius: 12px; border: 1px solid #bee5eb;\">\n",
       "                <div style=\"font-size: 24px; font-weight: bold; color: #495057;\">\n",
       "                    0.778\n",
       "                </div>\n",
       "                <div style=\"font-size: 12px; color: #495057; margin-top: 5px;\">SHARPE RATIO</div>\n",
       "            </div>\n",
       "            <div style=\"text-align: center; padding: 20px; background: linear-gradient(135deg, #fff3cd 0%, #fffbee 100%); border-radius: 12px; border: 1px solid #ffeaa7;\">\n",
       "                <div style=\"font-size: 24px; font-weight: bold; color: #495057;\">\n",
       "                    34.26%\n",
       "                </div>\n",
       "                <div style=\"font-size: 12px; color: #495057; margin-top: 5px;\">MAX DRAWDOWN</div>\n",
       "            </div>\n",
       "            <div style=\"text-align: center; padding: 20px; background: linear-gradient(135deg, #f8d7da 0%, #fdeef0 100%); border-radius: 12px; border: 1px solid #f5c6cb;\">\n",
       "                <div style=\"font-size: 24px; font-weight: bold; color: #495057;\">\n",
       "                    56.4%\n",
       "                </div>\n",
       "                <div style=\"font-size: 12px; color: #495057; margin-top: 5px;\">WIN RATE</div>\n",
       "            </div>\n",
       "        </div>\n",
       "\n",
       "        <div style=\"display: grid; grid-template-columns: repeat(4, 1fr); gap: 20px; margin-bottom: 20px;\">\n",
       "            <div style=\"text-align: center; padding: 20px; background: #f8f9fa; border-radius: 12px; border: 1px solid #dee2e6;\">\n",
       "                <div style=\"font-size: 20px; font-weight: bold; color: #495057;\">\n",
       "                    $131,049\n",
       "                </div>\n",
       "                <div style=\"font-size: 12px; color: #495057; margin-top: 5px;\">FINAL VALUE</div>\n",
       "            </div>\n",
       "            <div style=\"text-align: center; padding: 20px; background: #f8f9fa; border-radius: 12px; border: 1px solid #dee2e6;\">\n",
       "                <div style=\"font-size: 20px; font-weight: bold; color: #495057;\">\n",
       "                    1.21\n",
       "                </div>\n",
       "                <div style=\"font-size: 12px; color: #495057; margin-top: 5px;\">PROFIT FACTOR</div>\n",
       "            </div>\n",
       "            <div style=\"text-align: center; padding: 20px; background: #f8f9fa; border-radius: 12px; border: 1px solid #dee2e6;\">\n",
       "                <div style=\"font-size: 20px; font-weight: bold; color: #495057;\">\n",
       "                    367\n",
       "                </div>\n",
       "                <div style=\"font-size: 12px; color: #495057; margin-top: 5px;\">TOTAL TRADES</div>\n",
       "            </div>\n",
       "            <div style=\"text-align: center; padding: 20px; background: #f8f9fa; border-radius: 12px; border: 1px solid #dee2e6;\">\n",
       "                <div style=\"font-size: 20px; font-weight: bold; color: #28a745;\">\n",
       "                    $31,049\n",
       "                </div>\n",
       "                <div style=\"font-size: 12px; color: #495057; margin-top: 5px;\">TOTAL P&L</div>\n",
       "            </div>\n",
       "        </div>\n",
       "\n",
       "        <div style=\"display: grid; grid-template-columns: repeat(3, 1fr); gap: 20px;\">\n",
       "            <div style=\"text-align: center; padding: 15px; background: #e9ecef; border-radius: 8px;\">\n",
       "                <div style=\"font-size: 18px; font-weight: bold; color: #495057;\">\n",
       "                    22.63%\n",
       "                </div>\n",
       "                <div style=\"font-size: 12px; color: #495057; margin-top: 5px;\">ANNUALIZED RETURN</div>\n",
       "            </div>\n",
       "            <div style=\"text-align: center; padding: 15px; background: #e9ecef; border-radius: 8px;\">\n",
       "                <div style=\"font-size: 18px; font-weight: bold; color: #495057;\">\n",
       "                    2904.51%\n",
       "                </div>\n",
       "                <div style=\"font-size: 12px; color: #495057; margin-top: 5px;\">ANNUALIZED VOLATILITY</div>\n",
       "            </div>\n",
       "            <div style=\"text-align: center; padding: 15px; background: #e9ecef; border-radius: 8px;\">\n",
       "                <div style=\"font-size: 18px; font-weight: bold; color: #495057;\">\n",
       "                    0.04%\n",
       "                </div>\n",
       "                <div style=\"font-size: 12px; color: #495057; margin-top: 5px;\">RISK-FREE RATE</div>\n",
       "            </div>\n",
       "        </div>\n",
       "    </div>\n",
       "    "
      ]
     },
     "metadata": {},
     "output_type": "display_data"
    }
   ],
   "execution_count": 255
  },
  {
   "cell_type": "code",
   "metadata": {
    "ExecuteTime": {
     "end_time": "2025-08-19T16:26:24.674513Z",
     "start_time": "2025-08-19T16:26:24.637356Z"
    }
   },
   "source": "# Portfolio Performance Analysis\nif execution_success and backtest_results:\n    display(HTML('<div class=\"analysis-header\">📈 PORTFOLIO PERFORMANCE ANALYSIS</div>'))\n    \n    # Use actual equity curve from the backtest engine\n    equity_curve = backtest_results.get('equity_curve')\n    if equity_curve:\n        df = pd.DataFrame(equity_curve)\n        df['timestamp'] = pd.to_datetime(df['timestamp'])\n        \n        # Calculate metrics using actual engine results\n        initial_capital = backtest_results.get('initial_capital', 100000)\n        running_max = df['portfolio_value'].expanding().max()\n        drawdown = (df['portfolio_value'] - running_max) / running_max * 100\n        returns = df['portfolio_value'].pct_change().dropna() * 100\n        \n        # Create interactive dashboard using actual data\n        fig = make_subplots(\n            rows=2, cols=2,\n            subplot_titles=('Portfolio Equity Curve (Engine Results)', 'Drawdown Analysis', 'Returns Distribution', 'Rolling Metrics'),\n            specs=[[{}, {}], [{}, {}]]\n        )\n        \n        # Portfolio equity curve with actual engine results\n        fig.add_trace(go.Scatter(\n            x=df['timestamp'], \n            y=df['portfolio_value'],\n            mode='lines',\n            name='Strategy Portfolio Value',\n            line=dict(color='blue', width=2),\n            hovertemplate='<b>Date:</b> %{x}<br><b>Value:</b> $%{y:,.0f}<extra></extra>'\n        ), row=1, col=1)\n        \n        fig.add_hline(y=initial_capital, line_dash=\"dash\", line_color=\"gray\", \n                     annotation_text=\"Initial Capital\", row=1, col=1)\n        \n        # Add benchmark comparison if available\n        if crypto_data and 'BTCUSD' in crypto_data:\n            btc_data = crypto_data['BTCUSD']\n            # Align Bitcoin data with equity curve timestamps\n            btc_aligned = btc_data.reindex(df.set_index('timestamp').index, method='ffill')\n            if not btc_aligned.empty and 'close' in btc_aligned.columns:\n                btc_normalized = btc_aligned['close'] / btc_aligned['close'].iloc[0] * initial_capital\n                fig.add_trace(go.Scatter(\n                    x=df['timestamp'],\n                    y=btc_normalized.values,\n                    mode='lines',\n                    name='Bitcoin Buy & Hold',\n                    line=dict(color='orange', width=1.5, dash='dot'),\n                    hovertemplate='<b>Date:</b> %{x}<br><b>BTC Value:</b> $%{y:,.0f}<extra></extra>'\n                ), row=1, col=1)\n        \n        # Drawdown analysis using actual calculations\n        fig.add_trace(go.Scatter(\n            x=df['timestamp'], \n            y=drawdown,\n            mode='lines',\n            fill='tonexty',\n            name='Drawdown',\n            line=dict(color='red', width=1),\n            fillcolor='rgba(255,0,0,0.1)',\n            hovertemplate='<b>Date:</b> %{x}<br><b>Drawdown:</b> %{y:.2f}%<extra></extra>'\n        ), row=1, col=2)\n        \n        # Returns distribution using actual returns\n        fig.add_trace(go.Histogram(\n            x=returns,\n            nbinsx=30,\n            name='Returns',\n            marker_color='lightblue',\n            opacity=0.7\n        ), row=2, col=1)\n        \n        # Rolling Sharpe ratio using actual data\n        if len(returns) > 30:\n            # Use the same calculation as the engine for consistency\n            rolling_mean = returns.rolling(30).mean()\n            rolling_std = returns.rolling(30).std()\n            risk_free_daily = backtest_results.get('risk_free_rate', 4.27) / 252  # Daily risk-free rate\n            rolling_sharpe = (rolling_mean - risk_free_daily) / rolling_std * np.sqrt(252)\n            \n            fig.add_trace(go.Scatter(\n                x=df['timestamp'][30:], \n                y=rolling_sharpe[30:],\n                mode='lines',\n                name='30-Day Rolling Sharpe',\n                line=dict(color='purple', width=2)\n            ), row=2, col=2)\n        \n        fig.update_layout(\n            height=600,\n            title_text=\"Portfolio Performance Dashboard (Backtest Engine Results)\",\n            title_x=0.5,\n            showlegend=True\n        )\n        \n        fig.update_xaxes(title_text=\"Date\", row=1, col=1)\n        fig.update_xaxes(title_text=\"Date\", row=1, col=2)\n        fig.update_xaxes(title_text=\"Return (%)\", row=2, col=1)\n        fig.update_xaxes(title_text=\"Date\", row=2, col=2)\n        \n        fig.update_yaxes(title_text=\"Portfolio Value ($)\", row=1, col=1)\n        fig.update_yaxes(title_text=\"Drawdown (%)\", row=1, col=2)\n        fig.update_yaxes(title_text=\"Frequency\", row=2, col=1)\n        fig.update_yaxes(title_text=\"Rolling Sharpe\", row=2, col=2)\n        \n        fig.show()\n        \n        # Performance summary using actual engine metrics\n        actual_annualized_return = backtest_results.get('annualized_return', 0) * 100\n        actual_annualized_volatility = backtest_results.get('annualized_volatility', 0) * 100\n        actual_sharpe_ratio = backtest_results.get('sharpe_ratio', 0)\n        period_return = backtest_results.get('total_return', 0)\n        max_dd = backtest_results.get('max_drawdown', 0)\n        \n        display(HTML(f\"\"\"\n        <div class=\"widget-container\">\n            <h4 style=\"color: #495057; margin: 0 0 20px 0;\">📊 Professional Portfolio Performance Summary</h4>\n            <div style=\"text-align: center; margin-bottom: 15px; padding: 10px; background: #d1ecf1; border-radius: 6px;\">\n                <strong>Using Actual Backtest Engine Calculations</strong>\n            </div>\n            <div style=\"display: grid; grid-template-columns: repeat(4, 1fr); gap: 20px;\">\n                <div style=\"text-align: center; padding: 15px; background: #f8f9fa; border-radius: 8px;\">\n                    <div style=\"font-size: 20px; font-weight: bold; color: {'green' if period_return > 0 else 'red'};\">\n                        {period_return:.2f}%\n                    </div>\n                    <div style=\"font-size: 12px; color: #6c757d;\">Total Return</div>\n                </div>\n                <div style=\"text-align: center; padding: 15px; background: #f8f9fa; border-radius: 8px;\">\n                    <div style=\"font-size: 20px; font-weight: bold; color: #495057;\">\n                        {actual_annualized_return:.2f}%\n                    </div>\n                    <div style=\"font-size: 12px; color: #6c757d;\">Annualized Return</div>\n                </div>\n                <div style=\"text-align: center; padding: 15px; background: #f8f9fa; border-radius: 8px;\">\n                    <div style=\"font-size: 20px; font-weight: bold; color: #495057;\">\n                        {actual_annualized_volatility:.2f}%\n                    </div>\n                    <div style=\"font-size: 12px; color: #6c757d;\">Annualized Volatility</div>\n                </div>\n                <div style=\"text-align: center; padding: 15px; background: #f8f9fa; border-radius: 8px;\">\n                    <div style=\"font-size: 20px; font-weight: bold; color: red;\">\n                        {max_dd:.2f}%\n                    </div>\n                    <div style=\"font-size: 12px; color: #6c757d;\">Maximum Drawdown</div>\n                </div>\n            </div>\n            <div style=\"margin-top: 15px; padding: 15px; background: #e9ecef; border-radius: 8px;\">\n                <div style=\"color: #495057; font-size: 14px; text-align: center;\">\n                    <strong>Engine Sharpe Ratio:</strong> {actual_sharpe_ratio:.3f} | \n                    <strong>Risk-Free Rate:</strong> {backtest_results.get('risk_free_rate', 4.27):.2f}% | \n                    <strong>Data Frequency:</strong> {backtest_results.get('data_frequency', '252 trading days (industry standard)')}\n                </div>\n            </div>\n        </div>\n        \"\"\"))\n    \nelse:\n    display(HTML('''\n    <div class=\"info-box\">\n        <strong>ℹ️ Analysis Unavailable</strong><br>\n        Execute the backtest above to view portfolio performance.\n    </div>\n    '''))",
   "outputs": [
    {
     "data": {
      "text/plain": [
       "<IPython.core.display.HTML object>"
      ],
      "text/html": [
       "<div class=\"analysis-header\">📈 PORTFOLIO PERFORMANCE ANALYSIS</div>"
      ]
     },
     "metadata": {},
     "output_type": "display_data"
    },
    {
     "data": {
      "application/vnd.plotly.v1+json": {
       "data": [
        {
         "hovertemplate": "<b>Date:</b> %{x}<br><b>Value:</b> $%{y:,.0f}<extra></extra>",
         "line": {
          "color": "blue",
          "width": 2
         },
         "mode": "lines",
         "name": "Strategy Portfolio Value",
         "x": [
          "2024-09-13T00:00:00.000000000",
          "2024-09-14T00:00:00.000000000",
          "2024-09-15T00:00:00.000000000",
          "2024-09-16T00:00:00.000000000",
          "2024-09-17T00:00:00.000000000",
          "2024-09-18T00:00:00.000000000",
          "2024-09-19T00:00:00.000000000",
          "2024-09-20T00:00:00.000000000",
          "2024-09-21T00:00:00.000000000",
          "2024-09-22T00:00:00.000000000",
          "2024-09-23T00:00:00.000000000",
          "2024-09-24T00:00:00.000000000",
          "2024-09-25T00:00:00.000000000",
          "2024-09-26T00:00:00.000000000",
          "2024-09-27T00:00:00.000000000",
          "2024-09-28T00:00:00.000000000",
          "2024-09-29T00:00:00.000000000",
          "2024-09-30T00:00:00.000000000",
          "2024-10-01T00:00:00.000000000",
          "2024-10-02T00:00:00.000000000",
          "2024-10-03T00:00:00.000000000",
          "2024-10-04T00:00:00.000000000",
          "2024-10-05T00:00:00.000000000",
          "2024-10-06T00:00:00.000000000",
          "2024-10-07T00:00:00.000000000",
          "2024-10-08T00:00:00.000000000",
          "2024-10-09T00:00:00.000000000",
          "2024-10-10T00:00:00.000000000",
          "2024-10-11T00:00:00.000000000",
          "2024-10-12T00:00:00.000000000",
          "2024-10-13T00:00:00.000000000",
          "2024-10-14T00:00:00.000000000",
          "2024-10-15T00:00:00.000000000",
          "2024-10-16T00:00:00.000000000",
          "2024-10-17T00:00:00.000000000",
          "2024-10-18T00:00:00.000000000",
          "2024-10-19T00:00:00.000000000",
          "2024-10-20T00:00:00.000000000",
          "2024-10-21T00:00:00.000000000",
          "2024-10-22T00:00:00.000000000",
          "2024-10-23T00:00:00.000000000",
          "2024-10-24T00:00:00.000000000",
          "2024-10-25T00:00:00.000000000",
          "2024-10-26T00:00:00.000000000",
          "2024-10-27T00:00:00.000000000",
          "2024-10-28T00:00:00.000000000",
          "2024-10-29T00:00:00.000000000",
          "2024-10-30T00:00:00.000000000",
          "2024-10-31T00:00:00.000000000",
          "2024-11-01T00:00:00.000000000",
          "2024-11-02T00:00:00.000000000",
          "2024-11-03T00:00:00.000000000",
          "2024-11-04T00:00:00.000000000",
          "2024-11-05T00:00:00.000000000",
          "2024-11-06T00:00:00.000000000",
          "2024-11-07T00:00:00.000000000",
          "2024-11-08T00:00:00.000000000",
          "2024-11-09T00:00:00.000000000",
          "2024-11-10T00:00:00.000000000",
          "2024-11-11T00:00:00.000000000",
          "2024-11-12T00:00:00.000000000",
          "2024-11-13T00:00:00.000000000",
          "2024-11-14T00:00:00.000000000",
          "2024-11-15T00:00:00.000000000",
          "2024-11-16T00:00:00.000000000",
          "2024-11-17T00:00:00.000000000",
          "2024-11-18T00:00:00.000000000",
          "2024-11-19T00:00:00.000000000",
          "2024-11-20T00:00:00.000000000",
          "2024-11-21T00:00:00.000000000",
          "2024-11-22T00:00:00.000000000",
          "2024-11-23T00:00:00.000000000",
          "2024-11-24T00:00:00.000000000",
          "2024-11-25T00:00:00.000000000",
          "2024-11-26T00:00:00.000000000",
          "2024-11-27T00:00:00.000000000",
          "2024-11-28T00:00:00.000000000",
          "2024-11-29T00:00:00.000000000",
          "2024-11-30T00:00:00.000000000",
          "2024-12-01T00:00:00.000000000",
          "2024-12-02T00:00:00.000000000",
          "2024-12-03T00:00:00.000000000",
          "2024-12-04T00:00:00.000000000",
          "2024-12-05T00:00:00.000000000",
          "2024-12-06T00:00:00.000000000",
          "2024-12-07T00:00:00.000000000",
          "2024-12-08T00:00:00.000000000",
          "2024-12-09T00:00:00.000000000",
          "2024-12-10T00:00:00.000000000",
          "2024-12-11T00:00:00.000000000",
          "2024-12-12T00:00:00.000000000",
          "2024-12-13T00:00:00.000000000",
          "2024-12-14T00:00:00.000000000",
          "2024-12-15T00:00:00.000000000",
          "2024-12-16T00:00:00.000000000",
          "2024-12-17T00:00:00.000000000",
          "2024-12-18T00:00:00.000000000",
          "2024-12-19T00:00:00.000000000",
          "2024-12-20T00:00:00.000000000",
          "2024-12-21T00:00:00.000000000",
          "2024-12-22T00:00:00.000000000",
          "2024-12-23T00:00:00.000000000",
          "2024-12-24T00:00:00.000000000",
          "2024-12-25T00:00:00.000000000",
          "2024-12-26T00:00:00.000000000",
          "2024-12-27T00:00:00.000000000",
          "2024-12-28T00:00:00.000000000",
          "2024-12-29T00:00:00.000000000",
          "2024-12-30T00:00:00.000000000",
          "2024-12-31T00:00:00.000000000",
          "2025-01-01T00:00:00.000000000",
          "2025-01-02T00:00:00.000000000",
          "2025-01-03T00:00:00.000000000",
          "2025-01-04T00:00:00.000000000",
          "2025-01-05T00:00:00.000000000",
          "2025-01-06T00:00:00.000000000",
          "2025-01-07T00:00:00.000000000",
          "2025-01-08T00:00:00.000000000",
          "2025-01-09T00:00:00.000000000",
          "2025-01-10T00:00:00.000000000",
          "2025-01-11T00:00:00.000000000",
          "2025-01-12T00:00:00.000000000",
          "2025-01-13T00:00:00.000000000",
          "2025-01-14T00:00:00.000000000",
          "2025-01-15T00:00:00.000000000",
          "2025-01-16T00:00:00.000000000",
          "2025-01-17T00:00:00.000000000",
          "2025-01-18T00:00:00.000000000",
          "2025-01-19T00:00:00.000000000",
          "2025-01-20T00:00:00.000000000",
          "2025-01-21T00:00:00.000000000",
          "2025-01-22T00:00:00.000000000",
          "2025-01-23T00:00:00.000000000",
          "2025-01-24T00:00:00.000000000",
          "2025-01-25T00:00:00.000000000",
          "2025-01-26T00:00:00.000000000",
          "2025-01-27T00:00:00.000000000",
          "2025-01-28T00:00:00.000000000",
          "2025-01-29T00:00:00.000000000",
          "2025-01-30T00:00:00.000000000",
          "2025-01-31T00:00:00.000000000",
          "2025-02-01T00:00:00.000000000",
          "2025-02-02T00:00:00.000000000",
          "2025-02-03T00:00:00.000000000",
          "2025-02-04T00:00:00.000000000",
          "2025-02-05T00:00:00.000000000",
          "2025-02-06T00:00:00.000000000",
          "2025-02-07T00:00:00.000000000",
          "2025-02-08T00:00:00.000000000",
          "2025-02-09T00:00:00.000000000",
          "2025-02-10T00:00:00.000000000",
          "2025-02-11T00:00:00.000000000",
          "2025-02-12T00:00:00.000000000",
          "2025-02-13T00:00:00.000000000",
          "2025-02-14T00:00:00.000000000",
          "2025-02-15T00:00:00.000000000",
          "2025-02-16T00:00:00.000000000",
          "2025-02-17T00:00:00.000000000",
          "2025-02-18T00:00:00.000000000",
          "2025-02-19T00:00:00.000000000",
          "2025-02-20T00:00:00.000000000",
          "2025-02-21T00:00:00.000000000",
          "2025-02-22T00:00:00.000000000",
          "2025-02-23T00:00:00.000000000",
          "2025-02-24T00:00:00.000000000",
          "2025-02-25T00:00:00.000000000",
          "2025-02-26T00:00:00.000000000",
          "2025-02-27T00:00:00.000000000",
          "2025-02-28T00:00:00.000000000",
          "2025-03-01T00:00:00.000000000",
          "2025-03-02T00:00:00.000000000",
          "2025-03-03T00:00:00.000000000",
          "2025-03-04T00:00:00.000000000",
          "2025-03-05T00:00:00.000000000",
          "2025-03-06T00:00:00.000000000",
          "2025-03-07T00:00:00.000000000",
          "2025-03-08T00:00:00.000000000",
          "2025-03-09T00:00:00.000000000",
          "2025-03-10T00:00:00.000000000",
          "2025-03-11T00:00:00.000000000",
          "2025-03-12T00:00:00.000000000",
          "2025-03-13T00:00:00.000000000",
          "2025-03-14T00:00:00.000000000",
          "2025-03-15T00:00:00.000000000",
          "2025-03-16T00:00:00.000000000",
          "2025-03-17T00:00:00.000000000",
          "2025-03-18T00:00:00.000000000",
          "2025-03-19T00:00:00.000000000",
          "2025-03-20T00:00:00.000000000",
          "2025-03-21T00:00:00.000000000",
          "2025-03-22T00:00:00.000000000",
          "2025-03-23T00:00:00.000000000",
          "2025-03-24T00:00:00.000000000",
          "2025-03-25T00:00:00.000000000",
          "2025-03-26T00:00:00.000000000",
          "2025-03-27T00:00:00.000000000",
          "2025-03-28T00:00:00.000000000",
          "2025-03-29T00:00:00.000000000",
          "2025-03-30T00:00:00.000000000",
          "2025-03-31T00:00:00.000000000",
          "2025-04-01T00:00:00.000000000",
          "2025-04-02T00:00:00.000000000",
          "2025-04-03T00:00:00.000000000",
          "2025-04-04T00:00:00.000000000",
          "2025-04-05T00:00:00.000000000",
          "2025-04-06T00:00:00.000000000",
          "2025-04-07T00:00:00.000000000",
          "2025-04-08T00:00:00.000000000",
          "2025-04-09T00:00:00.000000000",
          "2025-04-10T00:00:00.000000000",
          "2025-04-11T00:00:00.000000000",
          "2025-04-12T00:00:00.000000000",
          "2025-04-13T00:00:00.000000000",
          "2025-04-14T00:00:00.000000000",
          "2025-04-15T00:00:00.000000000",
          "2025-04-16T00:00:00.000000000",
          "2025-04-17T00:00:00.000000000",
          "2025-04-18T00:00:00.000000000",
          "2025-04-19T00:00:00.000000000",
          "2025-04-20T00:00:00.000000000",
          "2025-04-21T00:00:00.000000000",
          "2025-04-22T00:00:00.000000000",
          "2025-04-23T00:00:00.000000000",
          "2025-04-24T00:00:00.000000000",
          "2025-04-25T00:00:00.000000000",
          "2025-04-26T00:00:00.000000000",
          "2025-04-27T00:00:00.000000000",
          "2025-04-28T00:00:00.000000000",
          "2025-04-29T00:00:00.000000000",
          "2025-04-30T00:00:00.000000000",
          "2025-05-01T00:00:00.000000000",
          "2025-05-02T00:00:00.000000000",
          "2025-05-03T00:00:00.000000000",
          "2025-05-04T00:00:00.000000000",
          "2025-05-05T00:00:00.000000000",
          "2025-05-06T00:00:00.000000000",
          "2025-05-07T00:00:00.000000000",
          "2025-05-08T00:00:00.000000000",
          "2025-05-09T00:00:00.000000000",
          "2025-05-10T00:00:00.000000000",
          "2025-05-11T00:00:00.000000000",
          "2025-05-12T00:00:00.000000000",
          "2025-05-13T00:00:00.000000000",
          "2025-05-14T00:00:00.000000000",
          "2025-05-15T00:00:00.000000000",
          "2025-05-16T00:00:00.000000000",
          "2025-05-17T00:00:00.000000000",
          "2025-05-18T00:00:00.000000000",
          "2025-05-19T00:00:00.000000000",
          "2025-05-20T00:00:00.000000000",
          "2025-05-21T00:00:00.000000000",
          "2025-05-22T00:00:00.000000000",
          "2025-05-23T00:00:00.000000000",
          "2025-05-24T00:00:00.000000000",
          "2025-05-25T00:00:00.000000000",
          "2025-05-26T00:00:00.000000000",
          "2025-05-27T00:00:00.000000000",
          "2025-05-28T00:00:00.000000000",
          "2025-05-29T00:00:00.000000000",
          "2025-05-30T00:00:00.000000000",
          "2025-05-31T00:00:00.000000000",
          "2025-06-01T00:00:00.000000000",
          "2025-06-02T00:00:00.000000000",
          "2025-06-03T00:00:00.000000000",
          "2025-06-04T00:00:00.000000000",
          "2025-06-05T00:00:00.000000000",
          "2025-06-06T00:00:00.000000000",
          "2025-06-07T00:00:00.000000000",
          "2025-06-08T00:00:00.000000000",
          "2025-06-09T00:00:00.000000000",
          "2025-06-10T00:00:00.000000000",
          "2025-06-11T00:00:00.000000000",
          "2025-06-12T00:00:00.000000000",
          "2025-06-13T00:00:00.000000000",
          "2025-06-14T00:00:00.000000000",
          "2025-06-15T00:00:00.000000000",
          "2025-06-16T00:00:00.000000000",
          "2025-06-17T00:00:00.000000000",
          "2025-06-18T00:00:00.000000000",
          "2025-06-19T00:00:00.000000000",
          "2025-06-20T00:00:00.000000000",
          "2025-06-21T00:00:00.000000000",
          "2025-06-22T00:00:00.000000000",
          "2025-06-23T00:00:00.000000000",
          "2025-06-24T00:00:00.000000000",
          "2025-06-25T00:00:00.000000000",
          "2025-06-26T00:00:00.000000000",
          "2025-06-27T00:00:00.000000000",
          "2025-06-28T00:00:00.000000000",
          "2025-06-29T00:00:00.000000000",
          "2025-06-30T00:00:00.000000000",
          "2025-07-01T00:00:00.000000000",
          "2025-07-02T00:00:00.000000000",
          "2025-07-03T00:00:00.000000000",
          "2025-07-04T00:00:00.000000000",
          "2025-07-05T00:00:00.000000000",
          "2025-07-06T00:00:00.000000000",
          "2025-07-07T00:00:00.000000000",
          "2025-07-08T00:00:00.000000000",
          "2025-07-09T00:00:00.000000000",
          "2025-07-10T00:00:00.000000000",
          "2025-07-11T00:00:00.000000000",
          "2025-07-12T00:00:00.000000000",
          "2025-07-13T00:00:00.000000000",
          "2025-07-14T00:00:00.000000000",
          "2025-07-15T00:00:00.000000000",
          "2025-07-16T00:00:00.000000000",
          "2025-07-17T00:00:00.000000000",
          "2025-07-18T00:00:00.000000000",
          "2025-07-19T00:00:00.000000000",
          "2025-07-20T00:00:00.000000000",
          "2025-07-21T00:00:00.000000000",
          "2025-07-22T00:00:00.000000000",
          "2025-07-23T00:00:00.000000000",
          "2025-07-24T00:00:00.000000000",
          "2025-07-25T00:00:00.000000000",
          "2025-07-26T00:00:00.000000000",
          "2025-07-27T00:00:00.000000000",
          "2025-07-28T00:00:00.000000000",
          "2025-07-29T00:00:00.000000000",
          "2025-07-30T00:00:00.000000000",
          "2025-07-31T00:00:00.000000000",
          "2025-08-01T00:00:00.000000000",
          "2025-08-02T00:00:00.000000000",
          "2025-08-03T00:00:00.000000000",
          "2025-08-04T00:00:00.000000000",
          "2025-08-05T00:00:00.000000000",
          "2025-08-06T00:00:00.000000000",
          "2025-08-07T00:00:00.000000000",
          "2025-08-08T00:00:00.000000000",
          "2025-08-09T00:00:00.000000000",
          "2025-08-10T00:00:00.000000000",
          "2025-08-11T00:00:00.000000000",
          "2025-08-12T00:00:00.000000000",
          "2025-08-13T00:00:00.000000000"
         ],
         "y": {
          "dtype": "f8",
          "bdata": "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"
         },
         "type": "scatter",
         "xaxis": "x",
         "yaxis": "y"
        },
        {
         "hovertemplate": "<b>Date:</b> %{x}<br><b>BTC Value:</b> $%{y:,.0f}<extra></extra>",
         "line": {
          "color": "orange",
          "dash": "dot",
          "width": 1.5
         },
         "mode": "lines",
         "name": "Bitcoin Buy & Hold",
         "x": [
          "2024-09-13T00:00:00.000000000",
          "2024-09-14T00:00:00.000000000",
          "2024-09-15T00:00:00.000000000",
          "2024-09-16T00:00:00.000000000",
          "2024-09-17T00:00:00.000000000",
          "2024-09-18T00:00:00.000000000",
          "2024-09-19T00:00:00.000000000",
          "2024-09-20T00:00:00.000000000",
          "2024-09-21T00:00:00.000000000",
          "2024-09-22T00:00:00.000000000",
          "2024-09-23T00:00:00.000000000",
          "2024-09-24T00:00:00.000000000",
          "2024-09-25T00:00:00.000000000",
          "2024-09-26T00:00:00.000000000",
          "2024-09-27T00:00:00.000000000",
          "2024-09-28T00:00:00.000000000",
          "2024-09-29T00:00:00.000000000",
          "2024-09-30T00:00:00.000000000",
          "2024-10-01T00:00:00.000000000",
          "2024-10-02T00:00:00.000000000",
          "2024-10-03T00:00:00.000000000",
          "2024-10-04T00:00:00.000000000",
          "2024-10-05T00:00:00.000000000",
          "2024-10-06T00:00:00.000000000",
          "2024-10-07T00:00:00.000000000",
          "2024-10-08T00:00:00.000000000",
          "2024-10-09T00:00:00.000000000",
          "2024-10-10T00:00:00.000000000",
          "2024-10-11T00:00:00.000000000",
          "2024-10-12T00:00:00.000000000",
          "2024-10-13T00:00:00.000000000",
          "2024-10-14T00:00:00.000000000",
          "2024-10-15T00:00:00.000000000",
          "2024-10-16T00:00:00.000000000",
          "2024-10-17T00:00:00.000000000",
          "2024-10-18T00:00:00.000000000",
          "2024-10-19T00:00:00.000000000",
          "2024-10-20T00:00:00.000000000",
          "2024-10-21T00:00:00.000000000",
          "2024-10-22T00:00:00.000000000",
          "2024-10-23T00:00:00.000000000",
          "2024-10-24T00:00:00.000000000",
          "2024-10-25T00:00:00.000000000",
          "2024-10-26T00:00:00.000000000",
          "2024-10-27T00:00:00.000000000",
          "2024-10-28T00:00:00.000000000",
          "2024-10-29T00:00:00.000000000",
          "2024-10-30T00:00:00.000000000",
          "2024-10-31T00:00:00.000000000",
          "2024-11-01T00:00:00.000000000",
          "2024-11-02T00:00:00.000000000",
          "2024-11-03T00:00:00.000000000",
          "2024-11-04T00:00:00.000000000",
          "2024-11-05T00:00:00.000000000",
          "2024-11-06T00:00:00.000000000",
          "2024-11-07T00:00:00.000000000",
          "2024-11-08T00:00:00.000000000",
          "2024-11-09T00:00:00.000000000",
          "2024-11-10T00:00:00.000000000",
          "2024-11-11T00:00:00.000000000",
          "2024-11-12T00:00:00.000000000",
          "2024-11-13T00:00:00.000000000",
          "2024-11-14T00:00:00.000000000",
          "2024-11-15T00:00:00.000000000",
          "2024-11-16T00:00:00.000000000",
          "2024-11-17T00:00:00.000000000",
          "2024-11-18T00:00:00.000000000",
          "2024-11-19T00:00:00.000000000",
          "2024-11-20T00:00:00.000000000",
          "2024-11-21T00:00:00.000000000",
          "2024-11-22T00:00:00.000000000",
          "2024-11-23T00:00:00.000000000",
          "2024-11-24T00:00:00.000000000",
          "2024-11-25T00:00:00.000000000",
          "2024-11-26T00:00:00.000000000",
          "2024-11-27T00:00:00.000000000",
          "2024-11-28T00:00:00.000000000",
          "2024-11-29T00:00:00.000000000",
          "2024-11-30T00:00:00.000000000",
          "2024-12-01T00:00:00.000000000",
          "2024-12-02T00:00:00.000000000",
          "2024-12-03T00:00:00.000000000",
          "2024-12-04T00:00:00.000000000",
          "2024-12-05T00:00:00.000000000",
          "2024-12-06T00:00:00.000000000",
          "2024-12-07T00:00:00.000000000",
          "2024-12-08T00:00:00.000000000",
          "2024-12-09T00:00:00.000000000",
          "2024-12-10T00:00:00.000000000",
          "2024-12-11T00:00:00.000000000",
          "2024-12-12T00:00:00.000000000",
          "2024-12-13T00:00:00.000000000",
          "2024-12-14T00:00:00.000000000",
          "2024-12-15T00:00:00.000000000",
          "2024-12-16T00:00:00.000000000",
          "2024-12-17T00:00:00.000000000",
          "2024-12-18T00:00:00.000000000",
          "2024-12-19T00:00:00.000000000",
          "2024-12-20T00:00:00.000000000",
          "2024-12-21T00:00:00.000000000",
          "2024-12-22T00:00:00.000000000",
          "2024-12-23T00:00:00.000000000",
          "2024-12-24T00:00:00.000000000",
          "2024-12-25T00:00:00.000000000",
          "2024-12-26T00:00:00.000000000",
          "2024-12-27T00:00:00.000000000",
          "2024-12-28T00:00:00.000000000",
          "2024-12-29T00:00:00.000000000",
          "2024-12-30T00:00:00.000000000",
          "2024-12-31T00:00:00.000000000",
          "2025-01-01T00:00:00.000000000",
          "2025-01-02T00:00:00.000000000",
          "2025-01-03T00:00:00.000000000",
          "2025-01-04T00:00:00.000000000",
          "2025-01-05T00:00:00.000000000",
          "2025-01-06T00:00:00.000000000",
          "2025-01-07T00:00:00.000000000",
          "2025-01-08T00:00:00.000000000",
          "2025-01-09T00:00:00.000000000",
          "2025-01-10T00:00:00.000000000",
          "2025-01-11T00:00:00.000000000",
          "2025-01-12T00:00:00.000000000",
          "2025-01-13T00:00:00.000000000",
          "2025-01-14T00:00:00.000000000",
          "2025-01-15T00:00:00.000000000",
          "2025-01-16T00:00:00.000000000",
          "2025-01-17T00:00:00.000000000",
          "2025-01-18T00:00:00.000000000",
          "2025-01-19T00:00:00.000000000",
          "2025-01-20T00:00:00.000000000",
          "2025-01-21T00:00:00.000000000",
          "2025-01-22T00:00:00.000000000",
          "2025-01-23T00:00:00.000000000",
          "2025-01-24T00:00:00.000000000",
          "2025-01-25T00:00:00.000000000",
          "2025-01-26T00:00:00.000000000",
          "2025-01-27T00:00:00.000000000",
          "2025-01-28T00:00:00.000000000",
          "2025-01-29T00:00:00.000000000",
          "2025-01-30T00:00:00.000000000",
          "2025-01-31T00:00:00.000000000",
          "2025-02-01T00:00:00.000000000",
          "2025-02-02T00:00:00.000000000",
          "2025-02-03T00:00:00.000000000",
          "2025-02-04T00:00:00.000000000",
          "2025-02-05T00:00:00.000000000",
          "2025-02-06T00:00:00.000000000",
          "2025-02-07T00:00:00.000000000",
          "2025-02-08T00:00:00.000000000",
          "2025-02-09T00:00:00.000000000",
          "2025-02-10T00:00:00.000000000",
          "2025-02-11T00:00:00.000000000",
          "2025-02-12T00:00:00.000000000",
          "2025-02-13T00:00:00.000000000",
          "2025-02-14T00:00:00.000000000",
          "2025-02-15T00:00:00.000000000",
          "2025-02-16T00:00:00.000000000",
          "2025-02-17T00:00:00.000000000",
          "2025-02-18T00:00:00.000000000",
          "2025-02-19T00:00:00.000000000",
          "2025-02-20T00:00:00.000000000",
          "2025-02-21T00:00:00.000000000",
          "2025-02-22T00:00:00.000000000",
          "2025-02-23T00:00:00.000000000",
          "2025-02-24T00:00:00.000000000",
          "2025-02-25T00:00:00.000000000",
          "2025-02-26T00:00:00.000000000",
          "2025-02-27T00:00:00.000000000",
          "2025-02-28T00:00:00.000000000",
          "2025-03-01T00:00:00.000000000",
          "2025-03-02T00:00:00.000000000",
          "2025-03-03T00:00:00.000000000",
          "2025-03-04T00:00:00.000000000",
          "2025-03-05T00:00:00.000000000",
          "2025-03-06T00:00:00.000000000",
          "2025-03-07T00:00:00.000000000",
          "2025-03-08T00:00:00.000000000",
          "2025-03-09T00:00:00.000000000",
          "2025-03-10T00:00:00.000000000",
          "2025-03-11T00:00:00.000000000",
          "2025-03-12T00:00:00.000000000",
          "2025-03-13T00:00:00.000000000",
          "2025-03-14T00:00:00.000000000",
          "2025-03-15T00:00:00.000000000",
          "2025-03-16T00:00:00.000000000",
          "2025-03-17T00:00:00.000000000",
          "2025-03-18T00:00:00.000000000",
          "2025-03-19T00:00:00.000000000",
          "2025-03-20T00:00:00.000000000",
          "2025-03-21T00:00:00.000000000",
          "2025-03-22T00:00:00.000000000",
          "2025-03-23T00:00:00.000000000",
          "2025-03-24T00:00:00.000000000",
          "2025-03-25T00:00:00.000000000",
          "2025-03-26T00:00:00.000000000",
          "2025-03-27T00:00:00.000000000",
          "2025-03-28T00:00:00.000000000",
          "2025-03-29T00:00:00.000000000",
          "2025-03-30T00:00:00.000000000",
          "2025-03-31T00:00:00.000000000",
          "2025-04-01T00:00:00.000000000",
          "2025-04-02T00:00:00.000000000",
          "2025-04-03T00:00:00.000000000",
          "2025-04-04T00:00:00.000000000",
          "2025-04-05T00:00:00.000000000",
          "2025-04-06T00:00:00.000000000",
          "2025-04-07T00:00:00.000000000",
          "2025-04-08T00:00:00.000000000",
          "2025-04-09T00:00:00.000000000",
          "2025-04-10T00:00:00.000000000",
          "2025-04-11T00:00:00.000000000",
          "2025-04-12T00:00:00.000000000",
          "2025-04-13T00:00:00.000000000",
          "2025-04-14T00:00:00.000000000",
          "2025-04-15T00:00:00.000000000",
          "2025-04-16T00:00:00.000000000",
          "2025-04-17T00:00:00.000000000",
          "2025-04-18T00:00:00.000000000",
          "2025-04-19T00:00:00.000000000",
          "2025-04-20T00:00:00.000000000",
          "2025-04-21T00:00:00.000000000",
          "2025-04-22T00:00:00.000000000",
          "2025-04-23T00:00:00.000000000",
          "2025-04-24T00:00:00.000000000",
          "2025-04-25T00:00:00.000000000",
          "2025-04-26T00:00:00.000000000",
          "2025-04-27T00:00:00.000000000",
          "2025-04-28T00:00:00.000000000",
          "2025-04-29T00:00:00.000000000",
          "2025-04-30T00:00:00.000000000",
          "2025-05-01T00:00:00.000000000",
          "2025-05-02T00:00:00.000000000",
          "2025-05-03T00:00:00.000000000",
          "2025-05-04T00:00:00.000000000",
          "2025-05-05T00:00:00.000000000",
          "2025-05-06T00:00:00.000000000",
          "2025-05-07T00:00:00.000000000",
          "2025-05-08T00:00:00.000000000",
          "2025-05-09T00:00:00.000000000",
          "2025-05-10T00:00:00.000000000",
          "2025-05-11T00:00:00.000000000",
          "2025-05-12T00:00:00.000000000",
          "2025-05-13T00:00:00.000000000",
          "2025-05-14T00:00:00.000000000",
          "2025-05-15T00:00:00.000000000",
          "2025-05-16T00:00:00.000000000",
          "2025-05-17T00:00:00.000000000",
          "2025-05-18T00:00:00.000000000",
          "2025-05-19T00:00:00.000000000",
          "2025-05-20T00:00:00.000000000",
          "2025-05-21T00:00:00.000000000",
          "2025-05-22T00:00:00.000000000",
          "2025-05-23T00:00:00.000000000",
          "2025-05-24T00:00:00.000000000",
          "2025-05-25T00:00:00.000000000",
          "2025-05-26T00:00:00.000000000",
          "2025-05-27T00:00:00.000000000",
          "2025-05-28T00:00:00.000000000",
          "2025-05-29T00:00:00.000000000",
          "2025-05-30T00:00:00.000000000",
          "2025-05-31T00:00:00.000000000",
          "2025-06-01T00:00:00.000000000",
          "2025-06-02T00:00:00.000000000",
          "2025-06-03T00:00:00.000000000",
          "2025-06-04T00:00:00.000000000",
          "2025-06-05T00:00:00.000000000",
          "2025-06-06T00:00:00.000000000",
          "2025-06-07T00:00:00.000000000",
          "2025-06-08T00:00:00.000000000",
          "2025-06-09T00:00:00.000000000",
          "2025-06-10T00:00:00.000000000",
          "2025-06-11T00:00:00.000000000",
          "2025-06-12T00:00:00.000000000",
          "2025-06-13T00:00:00.000000000",
          "2025-06-14T00:00:00.000000000",
          "2025-06-15T00:00:00.000000000",
          "2025-06-16T00:00:00.000000000",
          "2025-06-17T00:00:00.000000000",
          "2025-06-18T00:00:00.000000000",
          "2025-06-19T00:00:00.000000000",
          "2025-06-20T00:00:00.000000000",
          "2025-06-21T00:00:00.000000000",
          "2025-06-22T00:00:00.000000000",
          "2025-06-23T00:00:00.000000000",
          "2025-06-24T00:00:00.000000000",
          "2025-06-25T00:00:00.000000000",
          "2025-06-26T00:00:00.000000000",
          "2025-06-27T00:00:00.000000000",
          "2025-06-28T00:00:00.000000000",
          "2025-06-29T00:00:00.000000000",
          "2025-06-30T00:00:00.000000000",
          "2025-07-01T00:00:00.000000000",
          "2025-07-02T00:00:00.000000000",
          "2025-07-03T00:00:00.000000000",
          "2025-07-04T00:00:00.000000000",
          "2025-07-05T00:00:00.000000000",
          "2025-07-06T00:00:00.000000000",
          "2025-07-07T00:00:00.000000000",
          "2025-07-08T00:00:00.000000000",
          "2025-07-09T00:00:00.000000000",
          "2025-07-10T00:00:00.000000000",
          "2025-07-11T00:00:00.000000000",
          "2025-07-12T00:00:00.000000000",
          "2025-07-13T00:00:00.000000000",
          "2025-07-14T00:00:00.000000000",
          "2025-07-15T00:00:00.000000000",
          "2025-07-16T00:00:00.000000000",
          "2025-07-17T00:00:00.000000000",
          "2025-07-18T00:00:00.000000000",
          "2025-07-19T00:00:00.000000000",
          "2025-07-20T00:00:00.000000000",
          "2025-07-21T00:00:00.000000000",
          "2025-07-22T00:00:00.000000000",
          "2025-07-23T00:00:00.000000000",
          "2025-07-24T00:00:00.000000000",
          "2025-07-25T00:00:00.000000000",
          "2025-07-26T00:00:00.000000000",
          "2025-07-27T00:00:00.000000000",
          "2025-07-28T00:00:00.000000000",
          "2025-07-29T00:00:00.000000000",
          "2025-07-30T00:00:00.000000000",
          "2025-07-31T00:00:00.000000000",
          "2025-08-01T00:00:00.000000000",
          "2025-08-02T00:00:00.000000000",
          "2025-08-03T00:00:00.000000000",
          "2025-08-04T00:00:00.000000000",
          "2025-08-05T00:00:00.000000000",
          "2025-08-06T00:00:00.000000000",
          "2025-08-07T00:00:00.000000000",
          "2025-08-08T00:00:00.000000000",
          "2025-08-09T00:00:00.000000000",
          "2025-08-10T00:00:00.000000000",
          "2025-08-11T00:00:00.000000000",
          "2025-08-12T00:00:00.000000000",
          "2025-08-13T00:00:00.000000000"
         ],
         "y": {
          "dtype": "f8",
          "bdata": "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"
         },
         "type": "scatter",
         "xaxis": "x",
         "yaxis": "y"
        },
        {
         "fill": "tonexty",
         "fillcolor": "rgba(255,0,0,0.1)",
         "hovertemplate": "<b>Date:</b> %{x}<br><b>Drawdown:</b> %{y:.2f}%<extra></extra>",
         "line": {
          "color": "red",
          "width": 1
         },
         "mode": "lines",
         "name": "Drawdown",
         "x": [
          "2024-09-13T00:00:00.000000000",
          "2024-09-14T00:00:00.000000000",
          "2024-09-15T00:00:00.000000000",
          "2024-09-16T00:00:00.000000000",
          "2024-09-17T00:00:00.000000000",
          "2024-09-18T00:00:00.000000000",
          "2024-09-19T00:00:00.000000000",
          "2024-09-20T00:00:00.000000000",
          "2024-09-21T00:00:00.000000000",
          "2024-09-22T00:00:00.000000000",
          "2024-09-23T00:00:00.000000000",
          "2024-09-24T00:00:00.000000000",
          "2024-09-25T00:00:00.000000000",
          "2024-09-26T00:00:00.000000000",
          "2024-09-27T00:00:00.000000000",
          "2024-09-28T00:00:00.000000000",
          "2024-09-29T00:00:00.000000000",
          "2024-09-30T00:00:00.000000000",
          "2024-10-01T00:00:00.000000000",
          "2024-10-02T00:00:00.000000000",
          "2024-10-03T00:00:00.000000000",
          "2024-10-04T00:00:00.000000000",
          "2024-10-05T00:00:00.000000000",
          "2024-10-06T00:00:00.000000000",
          "2024-10-07T00:00:00.000000000",
          "2024-10-08T00:00:00.000000000",
          "2024-10-09T00:00:00.000000000",
          "2024-10-10T00:00:00.000000000",
          "2024-10-11T00:00:00.000000000",
          "2024-10-12T00:00:00.000000000",
          "2024-10-13T00:00:00.000000000",
          "2024-10-14T00:00:00.000000000",
          "2024-10-15T00:00:00.000000000",
          "2024-10-16T00:00:00.000000000",
          "2024-10-17T00:00:00.000000000",
          "2024-10-18T00:00:00.000000000",
          "2024-10-19T00:00:00.000000000",
          "2024-10-20T00:00:00.000000000",
          "2024-10-21T00:00:00.000000000",
          "2024-10-22T00:00:00.000000000",
          "2024-10-23T00:00:00.000000000",
          "2024-10-24T00:00:00.000000000",
          "2024-10-25T00:00:00.000000000",
          "2024-10-26T00:00:00.000000000",
          "2024-10-27T00:00:00.000000000",
          "2024-10-28T00:00:00.000000000",
          "2024-10-29T00:00:00.000000000",
          "2024-10-30T00:00:00.000000000",
          "2024-10-31T00:00:00.000000000",
          "2024-11-01T00:00:00.000000000",
          "2024-11-02T00:00:00.000000000",
          "2024-11-03T00:00:00.000000000",
          "2024-11-04T00:00:00.000000000",
          "2024-11-05T00:00:00.000000000",
          "2024-11-06T00:00:00.000000000",
          "2024-11-07T00:00:00.000000000",
          "2024-11-08T00:00:00.000000000",
          "2024-11-09T00:00:00.000000000",
          "2024-11-10T00:00:00.000000000",
          "2024-11-11T00:00:00.000000000",
          "2024-11-12T00:00:00.000000000",
          "2024-11-13T00:00:00.000000000",
          "2024-11-14T00:00:00.000000000",
          "2024-11-15T00:00:00.000000000",
          "2024-11-16T00:00:00.000000000",
          "2024-11-17T00:00:00.000000000",
          "2024-11-18T00:00:00.000000000",
          "2024-11-19T00:00:00.000000000",
          "2024-11-20T00:00:00.000000000",
          "2024-11-21T00:00:00.000000000",
          "2024-11-22T00:00:00.000000000",
          "2024-11-23T00:00:00.000000000",
          "2024-11-24T00:00:00.000000000",
          "2024-11-25T00:00:00.000000000",
          "2024-11-26T00:00:00.000000000",
          "2024-11-27T00:00:00.000000000",
          "2024-11-28T00:00:00.000000000",
          "2024-11-29T00:00:00.000000000",
          "2024-11-30T00:00:00.000000000",
          "2024-12-01T00:00:00.000000000",
          "2024-12-02T00:00:00.000000000",
          "2024-12-03T00:00:00.000000000",
          "2024-12-04T00:00:00.000000000",
          "2024-12-05T00:00:00.000000000",
          "2024-12-06T00:00:00.000000000",
          "2024-12-07T00:00:00.000000000",
          "2024-12-08T00:00:00.000000000",
          "2024-12-09T00:00:00.000000000",
          "2024-12-10T00:00:00.000000000",
          "2024-12-11T00:00:00.000000000",
          "2024-12-12T00:00:00.000000000",
          "2024-12-13T00:00:00.000000000",
          "2024-12-14T00:00:00.000000000",
          "2024-12-15T00:00:00.000000000",
          "2024-12-16T00:00:00.000000000",
          "2024-12-17T00:00:00.000000000",
          "2024-12-18T00:00:00.000000000",
          "2024-12-19T00:00:00.000000000",
          "2024-12-20T00:00:00.000000000",
          "2024-12-21T00:00:00.000000000",
          "2024-12-22T00:00:00.000000000",
          "2024-12-23T00:00:00.000000000",
          "2024-12-24T00:00:00.000000000",
          "2024-12-25T00:00:00.000000000",
          "2024-12-26T00:00:00.000000000",
          "2024-12-27T00:00:00.000000000",
          "2024-12-28T00:00:00.000000000",
          "2024-12-29T00:00:00.000000000",
          "2024-12-30T00:00:00.000000000",
          "2024-12-31T00:00:00.000000000",
          "2025-01-01T00:00:00.000000000",
          "2025-01-02T00:00:00.000000000",
          "2025-01-03T00:00:00.000000000",
          "2025-01-04T00:00:00.000000000",
          "2025-01-05T00:00:00.000000000",
          "2025-01-06T00:00:00.000000000",
          "2025-01-07T00:00:00.000000000",
          "2025-01-08T00:00:00.000000000",
          "2025-01-09T00:00:00.000000000",
          "2025-01-10T00:00:00.000000000",
          "2025-01-11T00:00:00.000000000",
          "2025-01-12T00:00:00.000000000",
          "2025-01-13T00:00:00.000000000",
          "2025-01-14T00:00:00.000000000",
          "2025-01-15T00:00:00.000000000",
          "2025-01-16T00:00:00.000000000",
          "2025-01-17T00:00:00.000000000",
          "2025-01-18T00:00:00.000000000",
          "2025-01-19T00:00:00.000000000",
          "2025-01-20T00:00:00.000000000",
          "2025-01-21T00:00:00.000000000",
          "2025-01-22T00:00:00.000000000",
          "2025-01-23T00:00:00.000000000",
          "2025-01-24T00:00:00.000000000",
          "2025-01-25T00:00:00.000000000",
          "2025-01-26T00:00:00.000000000",
          "2025-01-27T00:00:00.000000000",
          "2025-01-28T00:00:00.000000000",
          "2025-01-29T00:00:00.000000000",
          "2025-01-30T00:00:00.000000000",
          "2025-01-31T00:00:00.000000000",
          "2025-02-01T00:00:00.000000000",
          "2025-02-02T00:00:00.000000000",
          "2025-02-03T00:00:00.000000000",
          "2025-02-04T00:00:00.000000000",
          "2025-02-05T00:00:00.000000000",
          "2025-02-06T00:00:00.000000000",
          "2025-02-07T00:00:00.000000000",
          "2025-02-08T00:00:00.000000000",
          "2025-02-09T00:00:00.000000000",
          "2025-02-10T00:00:00.000000000",
          "2025-02-11T00:00:00.000000000",
          "2025-02-12T00:00:00.000000000",
          "2025-02-13T00:00:00.000000000",
          "2025-02-14T00:00:00.000000000",
          "2025-02-15T00:00:00.000000000",
          "2025-02-16T00:00:00.000000000",
          "2025-02-17T00:00:00.000000000",
          "2025-02-18T00:00:00.000000000",
          "2025-02-19T00:00:00.000000000",
          "2025-02-20T00:00:00.000000000",
          "2025-02-21T00:00:00.000000000",
          "2025-02-22T00:00:00.000000000",
          "2025-02-23T00:00:00.000000000",
          "2025-02-24T00:00:00.000000000",
          "2025-02-25T00:00:00.000000000",
          "2025-02-26T00:00:00.000000000",
          "2025-02-27T00:00:00.000000000",
          "2025-02-28T00:00:00.000000000",
          "2025-03-01T00:00:00.000000000",
          "2025-03-02T00:00:00.000000000",
          "2025-03-03T00:00:00.000000000",
          "2025-03-04T00:00:00.000000000",
          "2025-03-05T00:00:00.000000000",
          "2025-03-06T00:00:00.000000000",
          "2025-03-07T00:00:00.000000000",
          "2025-03-08T00:00:00.000000000",
          "2025-03-09T00:00:00.000000000",
          "2025-03-10T00:00:00.000000000",
          "2025-03-11T00:00:00.000000000",
          "2025-03-12T00:00:00.000000000",
          "2025-03-13T00:00:00.000000000",
          "2025-03-14T00:00:00.000000000",
          "2025-03-15T00:00:00.000000000",
          "2025-03-16T00:00:00.000000000",
          "2025-03-17T00:00:00.000000000",
          "2025-03-18T00:00:00.000000000",
          "2025-03-19T00:00:00.000000000",
          "2025-03-20T00:00:00.000000000",
          "2025-03-21T00:00:00.000000000",
          "2025-03-22T00:00:00.000000000",
          "2025-03-23T00:00:00.000000000",
          "2025-03-24T00:00:00.000000000",
          "2025-03-25T00:00:00.000000000",
          "2025-03-26T00:00:00.000000000",
          "2025-03-27T00:00:00.000000000",
          "2025-03-28T00:00:00.000000000",
          "2025-03-29T00:00:00.000000000",
          "2025-03-30T00:00:00.000000000",
          "2025-03-31T00:00:00.000000000",
          "2025-04-01T00:00:00.000000000",
          "2025-04-02T00:00:00.000000000",
          "2025-04-03T00:00:00.000000000",
          "2025-04-04T00:00:00.000000000",
          "2025-04-05T00:00:00.000000000",
          "2025-04-06T00:00:00.000000000",
          "2025-04-07T00:00:00.000000000",
          "2025-04-08T00:00:00.000000000",
          "2025-04-09T00:00:00.000000000",
          "2025-04-10T00:00:00.000000000",
          "2025-04-11T00:00:00.000000000",
          "2025-04-12T00:00:00.000000000",
          "2025-04-13T00:00:00.000000000",
          "2025-04-14T00:00:00.000000000",
          "2025-04-15T00:00:00.000000000",
          "2025-04-16T00:00:00.000000000",
          "2025-04-17T00:00:00.000000000",
          "2025-04-18T00:00:00.000000000",
          "2025-04-19T00:00:00.000000000",
          "2025-04-20T00:00:00.000000000",
          "2025-04-21T00:00:00.000000000",
          "2025-04-22T00:00:00.000000000",
          "2025-04-23T00:00:00.000000000",
          "2025-04-24T00:00:00.000000000",
          "2025-04-25T00:00:00.000000000",
          "2025-04-26T00:00:00.000000000",
          "2025-04-27T00:00:00.000000000",
          "2025-04-28T00:00:00.000000000",
          "2025-04-29T00:00:00.000000000",
          "2025-04-30T00:00:00.000000000",
          "2025-05-01T00:00:00.000000000",
          "2025-05-02T00:00:00.000000000",
          "2025-05-03T00:00:00.000000000",
          "2025-05-04T00:00:00.000000000",
          "2025-05-05T00:00:00.000000000",
          "2025-05-06T00:00:00.000000000",
          "2025-05-07T00:00:00.000000000",
          "2025-05-08T00:00:00.000000000",
          "2025-05-09T00:00:00.000000000",
          "2025-05-10T00:00:00.000000000",
          "2025-05-11T00:00:00.000000000",
          "2025-05-12T00:00:00.000000000",
          "2025-05-13T00:00:00.000000000",
          "2025-05-14T00:00:00.000000000",
          "2025-05-15T00:00:00.000000000",
          "2025-05-16T00:00:00.000000000",
          "2025-05-17T00:00:00.000000000",
          "2025-05-18T00:00:00.000000000",
          "2025-05-19T00:00:00.000000000",
          "2025-05-20T00:00:00.000000000",
          "2025-05-21T00:00:00.000000000",
          "2025-05-22T00:00:00.000000000",
          "2025-05-23T00:00:00.000000000",
          "2025-05-24T00:00:00.000000000",
          "2025-05-25T00:00:00.000000000",
          "2025-05-26T00:00:00.000000000",
          "2025-05-27T00:00:00.000000000",
          "2025-05-28T00:00:00.000000000",
          "2025-05-29T00:00:00.000000000",
          "2025-05-30T00:00:00.000000000",
          "2025-05-31T00:00:00.000000000",
          "2025-06-01T00:00:00.000000000",
          "2025-06-02T00:00:00.000000000",
          "2025-06-03T00:00:00.000000000",
          "2025-06-04T00:00:00.000000000",
          "2025-06-05T00:00:00.000000000",
          "2025-06-06T00:00:00.000000000",
          "2025-06-07T00:00:00.000000000",
          "2025-06-08T00:00:00.000000000",
          "2025-06-09T00:00:00.000000000",
          "2025-06-10T00:00:00.000000000",
          "2025-06-11T00:00:00.000000000",
          "2025-06-12T00:00:00.000000000",
          "2025-06-13T00:00:00.000000000",
          "2025-06-14T00:00:00.000000000",
          "2025-06-15T00:00:00.000000000",
          "2025-06-16T00:00:00.000000000",
          "2025-06-17T00:00:00.000000000",
          "2025-06-18T00:00:00.000000000",
          "2025-06-19T00:00:00.000000000",
          "2025-06-20T00:00:00.000000000",
          "2025-06-21T00:00:00.000000000",
          "2025-06-22T00:00:00.000000000",
          "2025-06-23T00:00:00.000000000",
          "2025-06-24T00:00:00.000000000",
          "2025-06-25T00:00:00.000000000",
          "2025-06-26T00:00:00.000000000",
          "2025-06-27T00:00:00.000000000",
          "2025-06-28T00:00:00.000000000",
          "2025-06-29T00:00:00.000000000",
          "2025-06-30T00:00:00.000000000",
          "2025-07-01T00:00:00.000000000",
          "2025-07-02T00:00:00.000000000",
          "2025-07-03T00:00:00.000000000",
          "2025-07-04T00:00:00.000000000",
          "2025-07-05T00:00:00.000000000",
          "2025-07-06T00:00:00.000000000",
          "2025-07-07T00:00:00.000000000",
          "2025-07-08T00:00:00.000000000",
          "2025-07-09T00:00:00.000000000",
          "2025-07-10T00:00:00.000000000",
          "2025-07-11T00:00:00.000000000",
          "2025-07-12T00:00:00.000000000",
          "2025-07-13T00:00:00.000000000",
          "2025-07-14T00:00:00.000000000",
          "2025-07-15T00:00:00.000000000",
          "2025-07-16T00:00:00.000000000",
          "2025-07-17T00:00:00.000000000",
          "2025-07-18T00:00:00.000000000",
          "2025-07-19T00:00:00.000000000",
          "2025-07-20T00:00:00.000000000",
          "2025-07-21T00:00:00.000000000",
          "2025-07-22T00:00:00.000000000",
          "2025-07-23T00:00:00.000000000",
          "2025-07-24T00:00:00.000000000",
          "2025-07-25T00:00:00.000000000",
          "2025-07-26T00:00:00.000000000",
          "2025-07-27T00:00:00.000000000",
          "2025-07-28T00:00:00.000000000",
          "2025-07-29T00:00:00.000000000",
          "2025-07-30T00:00:00.000000000",
          "2025-07-31T00:00:00.000000000",
          "2025-08-01T00:00:00.000000000",
          "2025-08-02T00:00:00.000000000",
          "2025-08-03T00:00:00.000000000",
          "2025-08-04T00:00:00.000000000",
          "2025-08-05T00:00:00.000000000",
          "2025-08-06T00:00:00.000000000",
          "2025-08-07T00:00:00.000000000",
          "2025-08-08T00:00:00.000000000",
          "2025-08-09T00:00:00.000000000",
          "2025-08-10T00:00:00.000000000",
          "2025-08-11T00:00:00.000000000",
          "2025-08-12T00:00:00.000000000",
          "2025-08-13T00:00:00.000000000"
         ],
         "y": {
          "dtype": "f8",
          "bdata": "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"
         },
         "type": "scatter",
         "xaxis": "x2",
         "yaxis": "y2"
        },
        {
         "marker": {
          "color": "lightblue"
         },
         "name": "Returns",
         "nbinsx": 30,
         "opacity": 0.7,
         "x": {
          "dtype": "f8",
          "bdata": "HDGjEw6zAkAUCQQ0jankvzpp2GAYYf2/xJR8mIBL9r9IQKTLQzzpPxDUluxSIeo/IISjzo4l/D+4O69MhaDsP4iQx4NYqO0/MsIDFJZX8L9EnBKxVn/yP7o54gPlAgFACAN1/6QO7b8qffVE1jACQAAAAAAAAAAAAAAAAAAACb3E0N2s43Dov/syk3ISVgjANA5qPqViDMDUdCNJI2f1v4CWhatgPaC/eLoDb4jz+j9A6Ni5cYalv6COZLMTcOc/WJZecMe15b9QZiz+Trnbv16hcYmOrfm/AKAlBR+3SD/ike5LX9wAQHBblGHyGOo/xOb7WUMA5r8+a9tIjNwJQIAaEpq0d74/INz3iMTh0790ysALWRbsv6iBMt+KQvU/8KzuyMBG0j/c7q1htp38P3qVyvzRrPi/4H0tLMwpsb+ikLG5olX+v3iCVpN9d+I/lnCDHfacBcBwNekOMEvpP5hg6PXp9Oc/mN3qQS/08T9GmzvPZpEBQCBvxmwrE90/HWfhQBdHCcCAkWsomhq5P5hw2Y6vZ+O/oqB2zEJP9b8kQTIZkHb2v1RCf16uKPk/axYsLTAkF0D6BTRkrU0HQKLrrq9oBAVAAAAAAAAAAAAAAAAAAAAJvUv9v21CdhJAU6ALZxL2A8A4JY9pnSLnv9SWwKP4UwHAL1ArjcibE0AULW9tKIcEQABGVkdBHwHA1vKnvBlHDEAwhZIYj4jpv7jzvByNwec/RHKO7g2nB0BEvkg2nJ8VQDHDLH4RkxFA4Co7LGSR1T+q+Nh8AnIFwBQitl6gf+K/9rjC00cZDUCgycclu9DcvySpo6MgJ/c/+NXgJhak5T8wdbqM7cjrP3Cw70crqBBAGOkZJFom3b84KLJ3grv5P+SaGD3+auy/uN0RGDiVCEBICpyALMDnv4BBCojO+eA/pTgPxvB+GcC4mDGpaDjgv4ojEvp8tgxA8OYlRWQxBEDgrVMhA8rGPzKZPtfiovG/OIDmCodm/T8QksbtakXcv5BusH4WovS/kCzbrjDDEMAAAAAAAAAAAAAAAAAAAAAAAAAAAAAAAAAAAAAAAAAAAAAAAAAAAAAAAAAAAAAAAAAAAAAAAAAAAAAAAAAAAAAAAAAAAAAAAAAAAAAAAAAAAAAAAAAAAAAAAAAAAAAAAAAAAAAAAAAAAAAAAAAAAAAAAAAAAAAAAAAAAAAAAAAAAAAAAAAAAAAAAAAAAAAAAAAAAAAAAAAAAAAAAAAAAAAAAAAAAAAAAAAAAAAAAAAAAAAAAAAAAAAAAAAAAAAAAAAAAAAAAAAAAAAAAAAAAAAAAAAAAAAAAAAAAAAAAAAAAAAAAAAAAAAAAAAAAAAAAAAAAAAAAAAAAAAAAAAAAAAAAAAAAAAAAAAAAAAAAAAAAAAAAAAAAAAAAAAAAAAAAAAAAAAAAAAAAAAAAAAAAAAAAAAAAAAAAAAAAAAAAAAAAAAAAAAAAAAAAAAAAAAAAAAAAAAAAAAAAAAAAAAAAAAAAAAAAAAAAAAAAAAAAAAAAAAAAAAAAAAAAAAAAAAAAAAAAAAAAAAAAAAAAAAAAAAAAAAAAAAAAAAAAAAAAAAAAAAAAAAAAAAAAAAAAAAAAAAAAAAAAAAAAAAAAAAAAAAAAAAAAAAAAAAAAAAAAAAAAAAAAAAAAAAAAAAAAAAAAAAAAAAAAAAAAAAAAAAAAAAAAAAAAAAAAAAAAAAAAAAAAAAAAAAAAAAAAAAAAAAAGb1AL9BiM3O7P9im5BGMDRzAAAAAAAAAAADrW7hLulkJwAAAAAAAAAAAAAAAAAAAAAAAAAAAAAAAAAAAAAAAAAAAqvq3KwjVH8DoMjrRoXTzP672l6s+ogNAmISD69LC5b8pZu1M++gAwACtIv2IAta/1BvQ9Ab9DsCm+oecJxsGwE7Fq6lygAJAAC9JWfh41z9CAW7ie/P1vwyklaZSnf4/uIcdNERB6z+2jXNNzID3v6C4FPhdcPI/kGDDmcrWyr/WcbuFOjYFQOCGjHEew/2/4LF+4lFRzr+AEFKIyGe0P/hjck1eaOg/eFR8feCk+D8AAAAAAAAAAAAAAAAAAAAA4IfHFazfyj/A9AsuHM4MwLzuFiMYngTAhMqrO/jx5r8A5RwZZZ7TP6K5c6FZEQVAu6Lu2+8HDMCg8OAf23roP3ATlAMi3NM/IE1dLZSV2r/VWHIwEAIdwEDzoSub6MY/5Rc536O9BcCUOlhewvUXQOhX3vOwUgfAvh4WgxoyAEDYMZM9x3QBQPA6ajaFRvi/EO/EwEyS3j9ESKrqV7f1v+AHortu+cU/kMCbWPI54T8gm5jz7cjFP+j0x5hzqe0/ANeB1ij0wr/gm93i8cnLP1FzcE3JMBBAAAAAAAAAAAAAAAAAAAAAAAAAAAAAAAAAAAAAAAAAAAAAAAAAAAAAAAAAAAAAAAAAAAAAAAAAAAAAAAAAAAAAAAAAAAAAAAAAAAAAAAAAAAAAAAAAAAAAAAAAAAAAAAAAIMf2j3Z5yr987QtjpT/wP7DDnA+ursS/e+1kvWkMI0AAAAAAAAAAAAAAAAAAAAAAAAAAAAAAAAAAAAAAAAAAAAAAAAAAAAAAAAAAAAAAAAAAAAAAAAAAAAAAAAAAAAAAAAAAAAAAGT2kCorNWq7zPwAAAAAAAAAAAAAAAAAAAAAAAAAAAAAAAAAAAAAAAAAAAAAAAAAAAACA1/TuNwKiv4CjtoPfm+I/gFrNz3pfsj+Qu6moBjLvPwjZfm1Wp9u/2i06/NN8+79/MF82bSsIwICUumpBEM8/AJw3DWkm0j+YERypsp/rP4AMGD/RidG//J18vpzD6r94m4XzdREJwHr9+7MyAgJA5K5vvssJ9D9gi6g2p+m8vwYqJS/XogpADMxD+CAg/j/UEbgj2EH1v6FgzC49pAfAjhd0CrBF+L+i60TZp2nwv+B3a1ImLNo/WMyE25Aa5j/SaSevGNH8v4gITbtSXNe/8B9WjrX/yb9dTsqdJ4wAwPahy3JRgQXAMqZVLNDj9L9pcew6tU4TQEhHnEczQuc/RILZ18lb578I25Kq+Ybjv9BWiQewVtk/6LSsU4oG4z8w4CGXQXj4P0SXZuc51/C/frX2r4tcAMBOkpUT9K4OQKhjcmey3eE/nE7W8CGy/78gAdvG5R/EP7DDLp1QIO0/xLgJbaHN4L/oatg3xBXzP2a9BqwnZQVAAAAAAAAAAAAAAAAAAAAAAAAAAAAAAAAAAAAAAAAAAAAAAAAAAAAAAAAAAAAAAAAAAAAAAAAAAAAAAAAAAAAAAAAAAAAAAAAAAAAAAAAAAAAAAAAAAAAAAAAAAAAAAAAAAAAAAAAAAAAAAAAAAAAAAAAAAAAAAAAAAAAAAAAAAAAAAAAAAAAAAAAAAAAAAAAAAAAAAAAAAAAAAAAAAAAAAJS9ej/Ce+C/Bpn/9n3WAMAgmV1JzK4FwOyZGjBjSvO/BI+wqeBT/z9YRQee34wEQNCnIK4S6fy/HCiAbqRd8T9Q8qxjN6MNQNDnlT3Blvc/fORdKj2DBUAAAAAAAAAJvTiM0y+K7/i/4RYznnaPEkA="
         },
         "type": "histogram",
         "xaxis": "x3",
         "yaxis": "y3"
        },
        {
         "line": {
          "color": "purple",
          "width": 2
         },
         "mode": "lines",
         "name": "30-Day Rolling Sharpe",
         "x": [
          "2024-10-13T00:00:00.000000000",
          "2024-10-14T00:00:00.000000000",
          "2024-10-15T00:00:00.000000000",
          "2024-10-16T00:00:00.000000000",
          "2024-10-17T00:00:00.000000000",
          "2024-10-18T00:00:00.000000000",
          "2024-10-19T00:00:00.000000000",
          "2024-10-20T00:00:00.000000000",
          "2024-10-21T00:00:00.000000000",
          "2024-10-22T00:00:00.000000000",
          "2024-10-23T00:00:00.000000000",
          "2024-10-24T00:00:00.000000000",
          "2024-10-25T00:00:00.000000000",
          "2024-10-26T00:00:00.000000000",
          "2024-10-27T00:00:00.000000000",
          "2024-10-28T00:00:00.000000000",
          "2024-10-29T00:00:00.000000000",
          "2024-10-30T00:00:00.000000000",
          "2024-10-31T00:00:00.000000000",
          "2024-11-01T00:00:00.000000000",
          "2024-11-02T00:00:00.000000000",
          "2024-11-03T00:00:00.000000000",
          "2024-11-04T00:00:00.000000000",
          "2024-11-05T00:00:00.000000000",
          "2024-11-06T00:00:00.000000000",
          "2024-11-07T00:00:00.000000000",
          "2024-11-08T00:00:00.000000000",
          "2024-11-09T00:00:00.000000000",
          "2024-11-10T00:00:00.000000000",
          "2024-11-11T00:00:00.000000000",
          "2024-11-12T00:00:00.000000000",
          "2024-11-13T00:00:00.000000000",
          "2024-11-14T00:00:00.000000000",
          "2024-11-15T00:00:00.000000000",
          "2024-11-16T00:00:00.000000000",
          "2024-11-17T00:00:00.000000000",
          "2024-11-18T00:00:00.000000000",
          "2024-11-19T00:00:00.000000000",
          "2024-11-20T00:00:00.000000000",
          "2024-11-21T00:00:00.000000000",
          "2024-11-22T00:00:00.000000000",
          "2024-11-23T00:00:00.000000000",
          "2024-11-24T00:00:00.000000000",
          "2024-11-25T00:00:00.000000000",
          "2024-11-26T00:00:00.000000000",
          "2024-11-27T00:00:00.000000000",
          "2024-11-28T00:00:00.000000000",
          "2024-11-29T00:00:00.000000000",
          "2024-11-30T00:00:00.000000000",
          "2024-12-01T00:00:00.000000000",
          "2024-12-02T00:00:00.000000000",
          "2024-12-03T00:00:00.000000000",
          "2024-12-04T00:00:00.000000000",
          "2024-12-05T00:00:00.000000000",
          "2024-12-06T00:00:00.000000000",
          "2024-12-07T00:00:00.000000000",
          "2024-12-08T00:00:00.000000000",
          "2024-12-09T00:00:00.000000000",
          "2024-12-10T00:00:00.000000000",
          "2024-12-11T00:00:00.000000000",
          "2024-12-12T00:00:00.000000000",
          "2024-12-13T00:00:00.000000000",
          "2024-12-14T00:00:00.000000000",
          "2024-12-15T00:00:00.000000000",
          "2024-12-16T00:00:00.000000000",
          "2024-12-17T00:00:00.000000000",
          "2024-12-18T00:00:00.000000000",
          "2024-12-19T00:00:00.000000000",
          "2024-12-20T00:00:00.000000000",
          "2024-12-21T00:00:00.000000000",
          "2024-12-22T00:00:00.000000000",
          "2024-12-23T00:00:00.000000000",
          "2024-12-24T00:00:00.000000000",
          "2024-12-25T00:00:00.000000000",
          "2024-12-26T00:00:00.000000000",
          "2024-12-27T00:00:00.000000000",
          "2024-12-28T00:00:00.000000000",
          "2024-12-29T00:00:00.000000000",
          "2024-12-30T00:00:00.000000000",
          "2024-12-31T00:00:00.000000000",
          "2025-01-01T00:00:00.000000000",
          "2025-01-02T00:00:00.000000000",
          "2025-01-03T00:00:00.000000000",
          "2025-01-04T00:00:00.000000000",
          "2025-01-05T00:00:00.000000000",
          "2025-01-06T00:00:00.000000000",
          "2025-01-07T00:00:00.000000000",
          "2025-01-08T00:00:00.000000000",
          "2025-01-09T00:00:00.000000000",
          "2025-01-10T00:00:00.000000000",
          "2025-01-11T00:00:00.000000000",
          "2025-01-12T00:00:00.000000000",
          "2025-01-13T00:00:00.000000000",
          "2025-01-14T00:00:00.000000000",
          "2025-01-15T00:00:00.000000000",
          "2025-01-16T00:00:00.000000000",
          "2025-01-17T00:00:00.000000000",
          "2025-01-18T00:00:00.000000000",
          "2025-01-19T00:00:00.000000000",
          "2025-01-20T00:00:00.000000000",
          "2025-01-21T00:00:00.000000000",
          "2025-01-22T00:00:00.000000000",
          "2025-01-23T00:00:00.000000000",
          "2025-01-24T00:00:00.000000000",
          "2025-01-25T00:00:00.000000000",
          "2025-01-26T00:00:00.000000000",
          "2025-01-27T00:00:00.000000000",
          "2025-01-28T00:00:00.000000000",
          "2025-01-29T00:00:00.000000000",
          "2025-01-30T00:00:00.000000000",
          "2025-01-31T00:00:00.000000000",
          "2025-02-01T00:00:00.000000000",
          "2025-02-02T00:00:00.000000000",
          "2025-02-03T00:00:00.000000000",
          "2025-02-04T00:00:00.000000000",
          "2025-02-05T00:00:00.000000000",
          "2025-02-06T00:00:00.000000000",
          "2025-02-07T00:00:00.000000000",
          "2025-02-08T00:00:00.000000000",
          "2025-02-09T00:00:00.000000000",
          "2025-02-10T00:00:00.000000000",
          "2025-02-11T00:00:00.000000000",
          "2025-02-12T00:00:00.000000000",
          "2025-02-13T00:00:00.000000000",
          "2025-02-14T00:00:00.000000000",
          "2025-02-15T00:00:00.000000000",
          "2025-02-16T00:00:00.000000000",
          "2025-02-17T00:00:00.000000000",
          "2025-02-18T00:00:00.000000000",
          "2025-02-19T00:00:00.000000000",
          "2025-02-20T00:00:00.000000000",
          "2025-02-21T00:00:00.000000000",
          "2025-02-22T00:00:00.000000000",
          "2025-02-23T00:00:00.000000000",
          "2025-02-24T00:00:00.000000000",
          "2025-02-25T00:00:00.000000000",
          "2025-02-26T00:00:00.000000000",
          "2025-02-27T00:00:00.000000000",
          "2025-02-28T00:00:00.000000000",
          "2025-03-01T00:00:00.000000000",
          "2025-03-02T00:00:00.000000000",
          "2025-03-03T00:00:00.000000000",
          "2025-03-04T00:00:00.000000000",
          "2025-03-05T00:00:00.000000000",
          "2025-03-06T00:00:00.000000000",
          "2025-03-07T00:00:00.000000000",
          "2025-03-08T00:00:00.000000000",
          "2025-03-09T00:00:00.000000000",
          "2025-03-10T00:00:00.000000000",
          "2025-03-11T00:00:00.000000000",
          "2025-03-12T00:00:00.000000000",
          "2025-03-13T00:00:00.000000000",
          "2025-03-14T00:00:00.000000000",
          "2025-03-15T00:00:00.000000000",
          "2025-03-16T00:00:00.000000000",
          "2025-03-17T00:00:00.000000000",
          "2025-03-18T00:00:00.000000000",
          "2025-03-19T00:00:00.000000000",
          "2025-03-20T00:00:00.000000000",
          "2025-03-21T00:00:00.000000000",
          "2025-03-22T00:00:00.000000000",
          "2025-03-23T00:00:00.000000000",
          "2025-03-24T00:00:00.000000000",
          "2025-03-25T00:00:00.000000000",
          "2025-03-26T00:00:00.000000000",
          "2025-03-27T00:00:00.000000000",
          "2025-03-28T00:00:00.000000000",
          "2025-03-29T00:00:00.000000000",
          "2025-03-30T00:00:00.000000000",
          "2025-03-31T00:00:00.000000000",
          "2025-04-01T00:00:00.000000000",
          "2025-04-02T00:00:00.000000000",
          "2025-04-03T00:00:00.000000000",
          "2025-04-04T00:00:00.000000000",
          "2025-04-05T00:00:00.000000000",
          "2025-04-06T00:00:00.000000000",
          "2025-04-07T00:00:00.000000000",
          "2025-04-08T00:00:00.000000000",
          "2025-04-09T00:00:00.000000000",
          "2025-04-10T00:00:00.000000000",
          "2025-04-11T00:00:00.000000000",
          "2025-04-12T00:00:00.000000000",
          "2025-04-13T00:00:00.000000000",
          "2025-04-14T00:00:00.000000000",
          "2025-04-15T00:00:00.000000000",
          "2025-04-16T00:00:00.000000000",
          "2025-04-17T00:00:00.000000000",
          "2025-04-18T00:00:00.000000000",
          "2025-04-19T00:00:00.000000000",
          "2025-04-20T00:00:00.000000000",
          "2025-04-21T00:00:00.000000000",
          "2025-04-22T00:00:00.000000000",
          "2025-04-23T00:00:00.000000000",
          "2025-04-24T00:00:00.000000000",
          "2025-04-25T00:00:00.000000000",
          "2025-04-26T00:00:00.000000000",
          "2025-04-27T00:00:00.000000000",
          "2025-04-28T00:00:00.000000000",
          "2025-04-29T00:00:00.000000000",
          "2025-04-30T00:00:00.000000000",
          "2025-05-01T00:00:00.000000000",
          "2025-05-02T00:00:00.000000000",
          "2025-05-03T00:00:00.000000000",
          "2025-05-04T00:00:00.000000000",
          "2025-05-05T00:00:00.000000000",
          "2025-05-06T00:00:00.000000000",
          "2025-05-07T00:00:00.000000000",
          "2025-05-08T00:00:00.000000000",
          "2025-05-09T00:00:00.000000000",
          "2025-05-10T00:00:00.000000000",
          "2025-05-11T00:00:00.000000000",
          "2025-05-12T00:00:00.000000000",
          "2025-05-13T00:00:00.000000000",
          "2025-05-14T00:00:00.000000000",
          "2025-05-15T00:00:00.000000000",
          "2025-05-16T00:00:00.000000000",
          "2025-05-17T00:00:00.000000000",
          "2025-05-18T00:00:00.000000000",
          "2025-05-19T00:00:00.000000000",
          "2025-05-20T00:00:00.000000000",
          "2025-05-21T00:00:00.000000000",
          "2025-05-22T00:00:00.000000000",
          "2025-05-23T00:00:00.000000000",
          "2025-05-24T00:00:00.000000000",
          "2025-05-25T00:00:00.000000000",
          "2025-05-26T00:00:00.000000000",
          "2025-05-27T00:00:00.000000000",
          "2025-05-28T00:00:00.000000000",
          "2025-05-29T00:00:00.000000000",
          "2025-05-30T00:00:00.000000000",
          "2025-05-31T00:00:00.000000000",
          "2025-06-01T00:00:00.000000000",
          "2025-06-02T00:00:00.000000000",
          "2025-06-03T00:00:00.000000000",
          "2025-06-04T00:00:00.000000000",
          "2025-06-05T00:00:00.000000000",
          "2025-06-06T00:00:00.000000000",
          "2025-06-07T00:00:00.000000000",
          "2025-06-08T00:00:00.000000000",
          "2025-06-09T00:00:00.000000000",
          "2025-06-10T00:00:00.000000000",
          "2025-06-11T00:00:00.000000000",
          "2025-06-12T00:00:00.000000000",
          "2025-06-13T00:00:00.000000000",
          "2025-06-14T00:00:00.000000000",
          "2025-06-15T00:00:00.000000000",
          "2025-06-16T00:00:00.000000000",
          "2025-06-17T00:00:00.000000000",
          "2025-06-18T00:00:00.000000000",
          "2025-06-19T00:00:00.000000000",
          "2025-06-20T00:00:00.000000000",
          "2025-06-21T00:00:00.000000000",
          "2025-06-22T00:00:00.000000000",
          "2025-06-23T00:00:00.000000000",
          "2025-06-24T00:00:00.000000000",
          "2025-06-25T00:00:00.000000000",
          "2025-06-26T00:00:00.000000000",
          "2025-06-27T00:00:00.000000000",
          "2025-06-28T00:00:00.000000000",
          "2025-06-29T00:00:00.000000000",
          "2025-06-30T00:00:00.000000000",
          "2025-07-01T00:00:00.000000000",
          "2025-07-02T00:00:00.000000000",
          "2025-07-03T00:00:00.000000000",
          "2025-07-04T00:00:00.000000000",
          "2025-07-05T00:00:00.000000000",
          "2025-07-06T00:00:00.000000000",
          "2025-07-07T00:00:00.000000000",
          "2025-07-08T00:00:00.000000000",
          "2025-07-09T00:00:00.000000000",
          "2025-07-10T00:00:00.000000000",
          "2025-07-11T00:00:00.000000000",
          "2025-07-12T00:00:00.000000000",
          "2025-07-13T00:00:00.000000000",
          "2025-07-14T00:00:00.000000000",
          "2025-07-15T00:00:00.000000000",
          "2025-07-16T00:00:00.000000000",
          "2025-07-17T00:00:00.000000000",
          "2025-07-18T00:00:00.000000000",
          "2025-07-19T00:00:00.000000000",
          "2025-07-20T00:00:00.000000000",
          "2025-07-21T00:00:00.000000000",
          "2025-07-22T00:00:00.000000000",
          "2025-07-23T00:00:00.000000000",
          "2025-07-24T00:00:00.000000000",
          "2025-07-25T00:00:00.000000000",
          "2025-07-26T00:00:00.000000000",
          "2025-07-27T00:00:00.000000000",
          "2025-07-28T00:00:00.000000000",
          "2025-07-29T00:00:00.000000000",
          "2025-07-30T00:00:00.000000000",
          "2025-07-31T00:00:00.000000000",
          "2025-08-01T00:00:00.000000000",
          "2025-08-02T00:00:00.000000000",
          "2025-08-03T00:00:00.000000000",
          "2025-08-04T00:00:00.000000000",
          "2025-08-05T00:00:00.000000000",
          "2025-08-06T00:00:00.000000000",
          "2025-08-07T00:00:00.000000000",
          "2025-08-08T00:00:00.000000000",
          "2025-08-09T00:00:00.000000000",
          "2025-08-10T00:00:00.000000000",
          "2025-08-11T00:00:00.000000000",
          "2025-08-12T00:00:00.000000000",
          "2025-08-13T00:00:00.000000000"
         ],
         "y": {
          "dtype": "f8",
          "bdata": "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"
         },
         "type": "scatter",
         "xaxis": "x4",
         "yaxis": "y4"
        }
       ],
       "layout": {
        "template": {
         "data": {
          "histogram2dcontour": [
           {
            "type": "histogram2dcontour",
            "colorbar": {
             "outlinewidth": 0,
             "ticks": ""
            },
            "colorscale": [
             [
              0.0,
              "#0d0887"
             ],
             [
              0.1111111111111111,
              "#46039f"
             ],
             [
              0.2222222222222222,
              "#7201a8"
             ],
             [
              0.3333333333333333,
              "#9c179e"
             ],
             [
              0.4444444444444444,
              "#bd3786"
             ],
             [
              0.5555555555555556,
              "#d8576b"
             ],
             [
              0.6666666666666666,
              "#ed7953"
             ],
             [
              0.7777777777777778,
              "#fb9f3a"
             ],
             [
              0.8888888888888888,
              "#fdca26"
             ],
             [
              1.0,
              "#f0f921"
             ]
            ]
           }
          ],
          "choropleth": [
           {
            "type": "choropleth",
            "colorbar": {
             "outlinewidth": 0,
             "ticks": ""
            }
           }
          ],
          "histogram2d": [
           {
            "type": "histogram2d",
            "colorbar": {
             "outlinewidth": 0,
             "ticks": ""
            },
            "colorscale": [
             [
              0.0,
              "#0d0887"
             ],
             [
              0.1111111111111111,
              "#46039f"
             ],
             [
              0.2222222222222222,
              "#7201a8"
             ],
             [
              0.3333333333333333,
              "#9c179e"
             ],
             [
              0.4444444444444444,
              "#bd3786"
             ],
             [
              0.5555555555555556,
              "#d8576b"
             ],
             [
              0.6666666666666666,
              "#ed7953"
             ],
             [
              0.7777777777777778,
              "#fb9f3a"
             ],
             [
              0.8888888888888888,
              "#fdca26"
             ],
             [
              1.0,
              "#f0f921"
             ]
            ]
           }
          ],
          "heatmap": [
           {
            "type": "heatmap",
            "colorbar": {
             "outlinewidth": 0,
             "ticks": ""
            },
            "colorscale": [
             [
              0.0,
              "#0d0887"
             ],
             [
              0.1111111111111111,
              "#46039f"
             ],
             [
              0.2222222222222222,
              "#7201a8"
             ],
             [
              0.3333333333333333,
              "#9c179e"
             ],
             [
              0.4444444444444444,
              "#bd3786"
             ],
             [
              0.5555555555555556,
              "#d8576b"
             ],
             [
              0.6666666666666666,
              "#ed7953"
             ],
             [
              0.7777777777777778,
              "#fb9f3a"
             ],
             [
              0.8888888888888888,
              "#fdca26"
             ],
             [
              1.0,
              "#f0f921"
             ]
            ]
           }
          ],
          "contourcarpet": [
           {
            "type": "contourcarpet",
            "colorbar": {
             "outlinewidth": 0,
             "ticks": ""
            }
           }
          ],
          "contour": [
           {
            "type": "contour",
            "colorbar": {
             "outlinewidth": 0,
             "ticks": ""
            },
            "colorscale": [
             [
              0.0,
              "#0d0887"
             ],
             [
              0.1111111111111111,
              "#46039f"
             ],
             [
              0.2222222222222222,
              "#7201a8"
             ],
             [
              0.3333333333333333,
              "#9c179e"
             ],
             [
              0.4444444444444444,
              "#bd3786"
             ],
             [
              0.5555555555555556,
              "#d8576b"
             ],
             [
              0.6666666666666666,
              "#ed7953"
             ],
             [
              0.7777777777777778,
              "#fb9f3a"
             ],
             [
              0.8888888888888888,
              "#fdca26"
             ],
             [
              1.0,
              "#f0f921"
             ]
            ]
           }
          ],
          "surface": [
           {
            "type": "surface",
            "colorbar": {
             "outlinewidth": 0,
             "ticks": ""
            },
            "colorscale": [
             [
              0.0,
              "#0d0887"
             ],
             [
              0.1111111111111111,
              "#46039f"
             ],
             [
              0.2222222222222222,
              "#7201a8"
             ],
             [
              0.3333333333333333,
              "#9c179e"
             ],
             [
              0.4444444444444444,
              "#bd3786"
             ],
             [
              0.5555555555555556,
              "#d8576b"
             ],
             [
              0.6666666666666666,
              "#ed7953"
             ],
             [
              0.7777777777777778,
              "#fb9f3a"
             ],
             [
              0.8888888888888888,
              "#fdca26"
             ],
             [
              1.0,
              "#f0f921"
             ]
            ]
           }
          ],
          "mesh3d": [
           {
            "type": "mesh3d",
            "colorbar": {
             "outlinewidth": 0,
             "ticks": ""
            }
           }
          ],
          "scatter": [
           {
            "fillpattern": {
             "fillmode": "overlay",
             "size": 10,
             "solidity": 0.2
            },
            "type": "scatter"
           }
          ],
          "parcoords": [
           {
            "type": "parcoords",
            "line": {
             "colorbar": {
              "outlinewidth": 0,
              "ticks": ""
             }
            }
           }
          ],
          "scatterpolargl": [
           {
            "type": "scatterpolargl",
            "marker": {
             "colorbar": {
              "outlinewidth": 0,
              "ticks": ""
             }
            }
           }
          ],
          "bar": [
           {
            "error_x": {
             "color": "#2a3f5f"
            },
            "error_y": {
             "color": "#2a3f5f"
            },
            "marker": {
             "line": {
              "color": "white",
              "width": 0.5
             },
             "pattern": {
              "fillmode": "overlay",
              "size": 10,
              "solidity": 0.2
             }
            },
            "type": "bar"
           }
          ],
          "scattergeo": [
           {
            "type": "scattergeo",
            "marker": {
             "colorbar": {
              "outlinewidth": 0,
              "ticks": ""
             }
            }
           }
          ],
          "scatterpolar": [
           {
            "type": "scatterpolar",
            "marker": {
             "colorbar": {
              "outlinewidth": 0,
              "ticks": ""
             }
            }
           }
          ],
          "histogram": [
           {
            "marker": {
             "pattern": {
              "fillmode": "overlay",
              "size": 10,
              "solidity": 0.2
             }
            },
            "type": "histogram"
           }
          ],
          "scattergl": [
           {
            "type": "scattergl",
            "marker": {
             "colorbar": {
              "outlinewidth": 0,
              "ticks": ""
             }
            }
           }
          ],
          "scatter3d": [
           {
            "type": "scatter3d",
            "line": {
             "colorbar": {
              "outlinewidth": 0,
              "ticks": ""
             }
            },
            "marker": {
             "colorbar": {
              "outlinewidth": 0,
              "ticks": ""
             }
            }
           }
          ],
          "scattermap": [
           {
            "type": "scattermap",
            "marker": {
             "colorbar": {
              "outlinewidth": 0,
              "ticks": ""
             }
            }
           }
          ],
          "scattermapbox": [
           {
            "type": "scattermapbox",
            "marker": {
             "colorbar": {
              "outlinewidth": 0,
              "ticks": ""
             }
            }
           }
          ],
          "scatterternary": [
           {
            "type": "scatterternary",
            "marker": {
             "colorbar": {
              "outlinewidth": 0,
              "ticks": ""
             }
            }
           }
          ],
          "scattercarpet": [
           {
            "type": "scattercarpet",
            "marker": {
             "colorbar": {
              "outlinewidth": 0,
              "ticks": ""
             }
            }
           }
          ],
          "carpet": [
           {
            "aaxis": {
             "endlinecolor": "#2a3f5f",
             "gridcolor": "#C8D4E3",
             "linecolor": "#C8D4E3",
             "minorgridcolor": "#C8D4E3",
             "startlinecolor": "#2a3f5f"
            },
            "baxis": {
             "endlinecolor": "#2a3f5f",
             "gridcolor": "#C8D4E3",
             "linecolor": "#C8D4E3",
             "minorgridcolor": "#C8D4E3",
             "startlinecolor": "#2a3f5f"
            },
            "type": "carpet"
           }
          ],
          "table": [
           {
            "cells": {
             "fill": {
              "color": "#EBF0F8"
             },
             "line": {
              "color": "white"
             }
            },
            "header": {
             "fill": {
              "color": "#C8D4E3"
             },
             "line": {
              "color": "white"
             }
            },
            "type": "table"
           }
          ],
          "barpolar": [
           {
            "marker": {
             "line": {
              "color": "white",
              "width": 0.5
             },
             "pattern": {
              "fillmode": "overlay",
              "size": 10,
              "solidity": 0.2
             }
            },
            "type": "barpolar"
           }
          ],
          "pie": [
           {
            "automargin": true,
            "type": "pie"
           }
          ]
         },
         "layout": {
          "autotypenumbers": "strict",
          "colorway": [
           "#636efa",
           "#EF553B",
           "#00cc96",
           "#ab63fa",
           "#FFA15A",
           "#19d3f3",
           "#FF6692",
           "#B6E880",
           "#FF97FF",
           "#FECB52"
          ],
          "font": {
           "color": "#2a3f5f"
          },
          "hovermode": "closest",
          "hoverlabel": {
           "align": "left"
          },
          "paper_bgcolor": "white",
          "plot_bgcolor": "white",
          "polar": {
           "bgcolor": "white",
           "angularaxis": {
            "gridcolor": "#EBF0F8",
            "linecolor": "#EBF0F8",
            "ticks": ""
           },
           "radialaxis": {
            "gridcolor": "#EBF0F8",
            "linecolor": "#EBF0F8",
            "ticks": ""
           }
          },
          "ternary": {
           "bgcolor": "white",
           "aaxis": {
            "gridcolor": "#DFE8F3",
            "linecolor": "#A2B1C6",
            "ticks": ""
           },
           "baxis": {
            "gridcolor": "#DFE8F3",
            "linecolor": "#A2B1C6",
            "ticks": ""
           },
           "caxis": {
            "gridcolor": "#DFE8F3",
            "linecolor": "#A2B1C6",
            "ticks": ""
           }
          },
          "coloraxis": {
           "colorbar": {
            "outlinewidth": 0,
            "ticks": ""
           }
          },
          "colorscale": {
           "sequential": [
            [
             0.0,
             "#0d0887"
            ],
            [
             0.1111111111111111,
             "#46039f"
            ],
            [
             0.2222222222222222,
             "#7201a8"
            ],
            [
             0.3333333333333333,
             "#9c179e"
            ],
            [
             0.4444444444444444,
             "#bd3786"
            ],
            [
             0.5555555555555556,
             "#d8576b"
            ],
            [
             0.6666666666666666,
             "#ed7953"
            ],
            [
             0.7777777777777778,
             "#fb9f3a"
            ],
            [
             0.8888888888888888,
             "#fdca26"
            ],
            [
             1.0,
             "#f0f921"
            ]
           ],
           "sequentialminus": [
            [
             0.0,
             "#0d0887"
            ],
            [
             0.1111111111111111,
             "#46039f"
            ],
            [
             0.2222222222222222,
             "#7201a8"
            ],
            [
             0.3333333333333333,
             "#9c179e"
            ],
            [
             0.4444444444444444,
             "#bd3786"
            ],
            [
             0.5555555555555556,
             "#d8576b"
            ],
            [
             0.6666666666666666,
             "#ed7953"
            ],
            [
             0.7777777777777778,
             "#fb9f3a"
            ],
            [
             0.8888888888888888,
             "#fdca26"
            ],
            [
             1.0,
             "#f0f921"
            ]
           ],
           "diverging": [
            [
             0,
             "#8e0152"
            ],
            [
             0.1,
             "#c51b7d"
            ],
            [
             0.2,
             "#de77ae"
            ],
            [
             0.3,
             "#f1b6da"
            ],
            [
             0.4,
             "#fde0ef"
            ],
            [
             0.5,
             "#f7f7f7"
            ],
            [
             0.6,
             "#e6f5d0"
            ],
            [
             0.7,
             "#b8e186"
            ],
            [
             0.8,
             "#7fbc41"
            ],
            [
             0.9,
             "#4d9221"
            ],
            [
             1,
             "#276419"
            ]
           ]
          },
          "xaxis": {
           "gridcolor": "#EBF0F8",
           "linecolor": "#EBF0F8",
           "ticks": "",
           "title": {
            "standoff": 15
           },
           "zerolinecolor": "#EBF0F8",
           "automargin": true,
           "zerolinewidth": 2
          },
          "yaxis": {
           "gridcolor": "#EBF0F8",
           "linecolor": "#EBF0F8",
           "ticks": "",
           "title": {
            "standoff": 15
           },
           "zerolinecolor": "#EBF0F8",
           "automargin": true,
           "zerolinewidth": 2
          },
          "scene": {
           "xaxis": {
            "backgroundcolor": "white",
            "gridcolor": "#DFE8F3",
            "linecolor": "#EBF0F8",
            "showbackground": true,
            "ticks": "",
            "zerolinecolor": "#EBF0F8",
            "gridwidth": 2
           },
           "yaxis": {
            "backgroundcolor": "white",
            "gridcolor": "#DFE8F3",
            "linecolor": "#EBF0F8",
            "showbackground": true,
            "ticks": "",
            "zerolinecolor": "#EBF0F8",
            "gridwidth": 2
           },
           "zaxis": {
            "backgroundcolor": "white",
            "gridcolor": "#DFE8F3",
            "linecolor": "#EBF0F8",
            "showbackground": true,
            "ticks": "",
            "zerolinecolor": "#EBF0F8",
            "gridwidth": 2
           }
          },
          "shapedefaults": {
           "line": {
            "color": "#2a3f5f"
           }
          },
          "annotationdefaults": {
           "arrowcolor": "#2a3f5f",
           "arrowhead": 0,
           "arrowwidth": 1
          },
          "geo": {
           "bgcolor": "white",
           "landcolor": "white",
           "subunitcolor": "#C8D4E3",
           "showland": true,
           "showlakes": true,
           "lakecolor": "white"
          },
          "title": {
           "x": 0.05
          },
          "mapbox": {
           "style": "light"
          }
         }
        },
        "xaxis": {
         "anchor": "y",
         "domain": [
          0.0,
          0.45
         ],
         "title": {
          "text": "Date"
         }
        },
        "yaxis": {
         "anchor": "x",
         "domain": [
          0.625,
          1.0
         ],
         "title": {
          "text": "Portfolio Value ($)"
         }
        },
        "xaxis2": {
         "anchor": "y2",
         "domain": [
          0.55,
          1.0
         ],
         "title": {
          "text": "Date"
         }
        },
        "yaxis2": {
         "anchor": "x2",
         "domain": [
          0.625,
          1.0
         ],
         "title": {
          "text": "Drawdown (%)"
         }
        },
        "xaxis3": {
         "anchor": "y3",
         "domain": [
          0.0,
          0.45
         ],
         "title": {
          "text": "Return (%)"
         }
        },
        "yaxis3": {
         "anchor": "x3",
         "domain": [
          0.0,
          0.375
         ],
         "title": {
          "text": "Frequency"
         }
        },
        "xaxis4": {
         "anchor": "y4",
         "domain": [
          0.55,
          1.0
         ],
         "title": {
          "text": "Date"
         }
        },
        "yaxis4": {
         "anchor": "x4",
         "domain": [
          0.0,
          0.375
         ],
         "title": {
          "text": "Rolling Sharpe"
         }
        },
        "annotations": [
         {
          "font": {
           "size": 16
          },
          "showarrow": false,
          "text": "Portfolio Equity Curve (Engine Results)",
          "x": 0.225,
          "xanchor": "center",
          "xref": "paper",
          "y": 1.0,
          "yanchor": "bottom",
          "yref": "paper"
         },
         {
          "font": {
           "size": 16
          },
          "showarrow": false,
          "text": "Drawdown Analysis",
          "x": 0.775,
          "xanchor": "center",
          "xref": "paper",
          "y": 1.0,
          "yanchor": "bottom",
          "yref": "paper"
         },
         {
          "font": {
           "size": 16
          },
          "showarrow": false,
          "text": "Returns Distribution",
          "x": 0.225,
          "xanchor": "center",
          "xref": "paper",
          "y": 0.375,
          "yanchor": "bottom",
          "yref": "paper"
         },
         {
          "font": {
           "size": 16
          },
          "showarrow": false,
          "text": "Rolling Metrics",
          "x": 0.775,
          "xanchor": "center",
          "xref": "paper",
          "y": 0.375,
          "yanchor": "bottom",
          "yref": "paper"
         },
         {
          "showarrow": false,
          "text": "Initial Capital",
          "x": 1,
          "xanchor": "right",
          "xref": "x domain",
          "y": 100000,
          "yanchor": "bottom",
          "yref": "y"
         }
        ],
        "shapes": [
         {
          "line": {
           "color": "gray",
           "dash": "dash"
          },
          "type": "line",
          "x0": 0,
          "x1": 1,
          "xref": "x domain",
          "y0": 100000,
          "y1": 100000,
          "yref": "y"
         }
        ],
        "title": {
         "text": "Portfolio Performance Dashboard (Backtest Engine Results)",
         "x": 0.5
        },
        "height": 600,
        "showlegend": true
       },
       "config": {
        "plotlyServerURL": "https://plot.ly"
       }
      }
     },
     "metadata": {},
     "output_type": "display_data"
    },
    {
     "data": {
      "text/plain": [
       "<IPython.core.display.HTML object>"
      ],
      "text/html": [
       "\n",
       "        <div class=\"widget-container\">\n",
       "            <h4 style=\"color: #495057; margin: 0 0 20px 0;\">📊 Professional Portfolio Performance Summary</h4>\n",
       "            <div style=\"text-align: center; margin-bottom: 15px; padding: 10px; background: #d1ecf1; border-radius: 6px;\">\n",
       "                <strong>Using Actual Backtest Engine Calculations</strong>\n",
       "            </div>\n",
       "            <div style=\"display: grid; grid-template-columns: repeat(4, 1fr); gap: 20px;\">\n",
       "                <div style=\"text-align: center; padding: 15px; background: #f8f9fa; border-radius: 8px;\">\n",
       "                    <div style=\"font-size: 20px; font-weight: bold; color: green;\">\n",
       "                        31.05%\n",
       "                    </div>\n",
       "                    <div style=\"font-size: 12px; color: #6c757d;\">Total Return</div>\n",
       "                </div>\n",
       "                <div style=\"text-align: center; padding: 15px; background: #f8f9fa; border-radius: 8px;\">\n",
       "                    <div style=\"font-size: 20px; font-weight: bold; color: #495057;\">\n",
       "                        22.63%\n",
       "                    </div>\n",
       "                    <div style=\"font-size: 12px; color: #6c757d;\">Annualized Return</div>\n",
       "                </div>\n",
       "                <div style=\"text-align: center; padding: 15px; background: #f8f9fa; border-radius: 8px;\">\n",
       "                    <div style=\"font-size: 20px; font-weight: bold; color: #495057;\">\n",
       "                        2904.51%\n",
       "                    </div>\n",
       "                    <div style=\"font-size: 12px; color: #6c757d;\">Annualized Volatility</div>\n",
       "                </div>\n",
       "                <div style=\"text-align: center; padding: 15px; background: #f8f9fa; border-radius: 8px;\">\n",
       "                    <div style=\"font-size: 20px; font-weight: bold; color: red;\">\n",
       "                        34.26%\n",
       "                    </div>\n",
       "                    <div style=\"font-size: 12px; color: #6c757d;\">Maximum Drawdown</div>\n",
       "                </div>\n",
       "            </div>\n",
       "            <div style=\"margin-top: 15px; padding: 15px; background: #e9ecef; border-radius: 8px;\">\n",
       "                <div style=\"color: #495057; font-size: 14px; text-align: center;\">\n",
       "                    <strong>Engine Sharpe Ratio:</strong> 0.778 | \n",
       "                    <strong>Risk-Free Rate:</strong> 0.04% | \n",
       "                    <strong>Data Frequency:</strong> 252 trading days (industry standard)\n",
       "                </div>\n",
       "            </div>\n",
       "        </div>\n",
       "        "
      ]
     },
     "metadata": {},
     "output_type": "display_data"
    }
   ],
   "execution_count": 256
  },
  {
   "cell_type": "markdown",
   "metadata": {},
   "source": "---\n\n## Technical Implementation Architecture\n\n### Machine Learning Framework\n\n**Principal Component Analysis (PCA)**\n```python\n# Dimensionality reduction pipeline\nfeatures_scaled = StandardScaler().fit_transform(feature_matrix)\npca = PCA(n_components=25, random_state=42)\nprincipal_components = pca.fit_transform(features_scaled)\nvariance_explained = pca.explained_variance_ratio_.sum()  # 89.68%\n```\n\n**Market Regime Classification**\n```python\n# K-means clustering for regime identification\nkmeans = KMeans(n_clusters=7, init='k-means++', random_state=42)\nregime_labels = kmeans.fit_predict(principal_components)\n```\n\n### Software Architecture\n\n**Object-Oriented Design:**\n- **CryptoDataManager**: Data collection, caching, feature engineering\n- **RegimeBasedTradingStrategy**: Trading logic and risk management  \n- **RegimeBasedBacktester**: Performance analysis and backtesting\n\n**Professional Development:**\n- Modular architecture with separation of concerns\n- Comprehensive error handling and data validation\n- Type hints and documentation for maintainability\n- Performance monitoring and logging systems\n\n---"
  },
  {
   "cell_type": "code",
   "source": "# Market Regime Analysis\nif execution_success and regime_data is not None:\n    display(HTML('<div class=\"analysis-header\">🎯 MARKET REGIME ANALYSIS</div>'))\n    \n    regime_df = regime_data\n    \n    # Regime distribution\n    regime_counts = regime_df['regime_id'].value_counts().sort_index()\n    regime_names = [f\"Regime {i}\" for i in regime_counts.index]\n    \n    # Create regime overview\n    fig = make_subplots(\n        rows=1, cols=2,\n        subplot_titles=('Regime Distribution', 'Regime Characteristics'),\n        specs=[[{\"type\": \"pie\"}, {\"type\": \"bar\"}]]\n    )\n    \n    # Regime distribution pie chart\n    fig.add_trace(go.Pie(\n        labels=regime_names,\n        values=regime_counts.values,\n        hole=0.3,\n        textinfo='label+percent'\n    ), row=1, col=1)\n    \n    # Regime characteristics\n    regime_summary = regime_df.groupby('regime_id').agg({\n        'risk_multiplier': 'mean',\n        'market_stress': 'mean'\n    }).reset_index()\n    \n    fig.add_trace(go.Bar(\n        x=[f\"Regime {i}\" for i in regime_summary['regime_id']],\n        y=regime_summary['risk_multiplier'],\n        name='Risk Multiplier',\n        marker_color='blue'\n    ), row=1, col=2)\n    \n    fig.update_layout(\n        height=400,\n        title_text=\"Market Regime Overview (Engine Data)\",\n        title_x=0.5,\n        showlegend=False\n    )\n    \n    fig.show()\n    \n    # Regime summary table\n    strategy_mapping = regime_df.groupby('regime_id')['strategy'].first().to_dict()\n    \n    display(HTML(f\"\"\"\n    <div class=\"widget-container\">\n        <h4 style=\"color: #495057; margin: 0 0 15px 0;\">📊 Regime Strategy Summary (Engine Data)</h4>\n        <div style=\"text-align: center; margin-bottom: 15px; padding: 10px; background: #d1ecf1; border-radius: 6px;\">\n            <strong>Using Actual Backtest Engine Regime Classifications</strong>\n        </div>\n        <table style=\"width: 100%; border-collapse: collapse;\">\n            <tr style=\"background: #f8f9fa; font-weight: bold;\">\n                <td style=\"padding: 10px; border: 1px solid #dee2e6;\">Regime</td>\n                <td style=\"padding: 10px; border: 1px solid #dee2e6;\">Strategy</td>\n                <td style=\"padding: 10px; border: 1px solid #dee2e6;\">Risk Multiplier</td>\n                <td style=\"padding: 10px; border: 1px solid #dee2e6;\">Frequency</td>\n            </tr>\n            {\"\".join([f'''\n            <tr>\n                <td style=\"padding: 8px; border: 1px solid #dee2e6;\">Regime {regime_id}</td>\n                <td style=\"padding: 8px; border: 1px solid #dee2e6;\">{strategy_mapping.get(regime_id, 'N/A')}</td>\n                <td style=\"padding: 8px; border: 1px solid #dee2e6;\">{regime_summary.loc[regime_summary['regime_id']==regime_id, 'risk_multiplier'].iloc[0]:.2f}</td>\n                <td style=\"padding: 8px; border: 1px solid #dee2e6;\">{(count/len(regime_df)*100):.1f}%</td>\n            </tr>\n            ''' for regime_id, count in regime_counts.items()])}\n        </table>\n    </div>\n    \"\"\"))\n\nelse:\n    display(HTML('''\n    <div class=\"info-box\">\n        <strong>ℹ️ Regime Analysis Unavailable</strong><br>\n        Execute the backtest above to view regime analysis.\n    </div>\n    '''))",
   "metadata": {
    "ExecuteTime": {
     "end_time": "2025-08-19T16:26:24.844786Z",
     "start_time": "2025-08-19T16:26:24.829503Z"
    }
   },
   "outputs": [
    {
     "data": {
      "text/plain": [
       "<IPython.core.display.HTML object>"
      ],
      "text/html": [
       "<div class=\"analysis-header\">🎯 MARKET REGIME ANALYSIS</div>"
      ]
     },
     "metadata": {},
     "output_type": "display_data"
    },
    {
     "data": {
      "application/vnd.plotly.v1+json": {
       "data": [
        {
         "hole": 0.3,
         "labels": [
          "Regime 0",
          "Regime 1",
          "Regime 2",
          "Regime 3",
          "Regime 4",
          "Regime 5",
          "Regime 6"
         ],
         "textinfo": "label+percent",
         "values": {
          "dtype": "i1",
          "bdata": "TzkWRSQQOA=="
         },
         "type": "pie",
         "domain": {
          "x": [
           0.0,
           0.45
          ],
          "y": [
           0.0,
           1.0
          ]
         }
        },
        {
         "marker": {
          "color": "blue"
         },
         "name": "Risk Multiplier",
         "x": [
          "Regime 0",
          "Regime 1",
          "Regime 2",
          "Regime 3",
          "Regime 4",
          "Regime 5",
          "Regime 6"
         ],
         "y": {
          "dtype": "f8",
          "bdata": "zczMzMzM9D+amZmZmZnxPwAAAAAAAPA/MzMzMzMz0z+amZmZmZnpPzMzMzMzM/M/mpmZmZmZyT8="
         },
         "type": "bar",
         "xaxis": "x",
         "yaxis": "y"
        }
       ],
       "layout": {
        "template": {
         "data": {
          "histogram2dcontour": [
           {
            "type": "histogram2dcontour",
            "colorbar": {
             "outlinewidth": 0,
             "ticks": ""
            },
            "colorscale": [
             [
              0.0,
              "#0d0887"
             ],
             [
              0.1111111111111111,
              "#46039f"
             ],
             [
              0.2222222222222222,
              "#7201a8"
             ],
             [
              0.3333333333333333,
              "#9c179e"
             ],
             [
              0.4444444444444444,
              "#bd3786"
             ],
             [
              0.5555555555555556,
              "#d8576b"
             ],
             [
              0.6666666666666666,
              "#ed7953"
             ],
             [
              0.7777777777777778,
              "#fb9f3a"
             ],
             [
              0.8888888888888888,
              "#fdca26"
             ],
             [
              1.0,
              "#f0f921"
             ]
            ]
           }
          ],
          "choropleth": [
           {
            "type": "choropleth",
            "colorbar": {
             "outlinewidth": 0,
             "ticks": ""
            }
           }
          ],
          "histogram2d": [
           {
            "type": "histogram2d",
            "colorbar": {
             "outlinewidth": 0,
             "ticks": ""
            },
            "colorscale": [
             [
              0.0,
              "#0d0887"
             ],
             [
              0.1111111111111111,
              "#46039f"
             ],
             [
              0.2222222222222222,
              "#7201a8"
             ],
             [
              0.3333333333333333,
              "#9c179e"
             ],
             [
              0.4444444444444444,
              "#bd3786"
             ],
             [
              0.5555555555555556,
              "#d8576b"
             ],
             [
              0.6666666666666666,
              "#ed7953"
             ],
             [
              0.7777777777777778,
              "#fb9f3a"
             ],
             [
              0.8888888888888888,
              "#fdca26"
             ],
             [
              1.0,
              "#f0f921"
             ]
            ]
           }
          ],
          "heatmap": [
           {
            "type": "heatmap",
            "colorbar": {
             "outlinewidth": 0,
             "ticks": ""
            },
            "colorscale": [
             [
              0.0,
              "#0d0887"
             ],
             [
              0.1111111111111111,
              "#46039f"
             ],
             [
              0.2222222222222222,
              "#7201a8"
             ],
             [
              0.3333333333333333,
              "#9c179e"
             ],
             [
              0.4444444444444444,
              "#bd3786"
             ],
             [
              0.5555555555555556,
              "#d8576b"
             ],
             [
              0.6666666666666666,
              "#ed7953"
             ],
             [
              0.7777777777777778,
              "#fb9f3a"
             ],
             [
              0.8888888888888888,
              "#fdca26"
             ],
             [
              1.0,
              "#f0f921"
             ]
            ]
           }
          ],
          "contourcarpet": [
           {
            "type": "contourcarpet",
            "colorbar": {
             "outlinewidth": 0,
             "ticks": ""
            }
           }
          ],
          "contour": [
           {
            "type": "contour",
            "colorbar": {
             "outlinewidth": 0,
             "ticks": ""
            },
            "colorscale": [
             [
              0.0,
              "#0d0887"
             ],
             [
              0.1111111111111111,
              "#46039f"
             ],
             [
              0.2222222222222222,
              "#7201a8"
             ],
             [
              0.3333333333333333,
              "#9c179e"
             ],
             [
              0.4444444444444444,
              "#bd3786"
             ],
             [
              0.5555555555555556,
              "#d8576b"
             ],
             [
              0.6666666666666666,
              "#ed7953"
             ],
             [
              0.7777777777777778,
              "#fb9f3a"
             ],
             [
              0.8888888888888888,
              "#fdca26"
             ],
             [
              1.0,
              "#f0f921"
             ]
            ]
           }
          ],
          "surface": [
           {
            "type": "surface",
            "colorbar": {
             "outlinewidth": 0,
             "ticks": ""
            },
            "colorscale": [
             [
              0.0,
              "#0d0887"
             ],
             [
              0.1111111111111111,
              "#46039f"
             ],
             [
              0.2222222222222222,
              "#7201a8"
             ],
             [
              0.3333333333333333,
              "#9c179e"
             ],
             [
              0.4444444444444444,
              "#bd3786"
             ],
             [
              0.5555555555555556,
              "#d8576b"
             ],
             [
              0.6666666666666666,
              "#ed7953"
             ],
             [
              0.7777777777777778,
              "#fb9f3a"
             ],
             [
              0.8888888888888888,
              "#fdca26"
             ],
             [
              1.0,
              "#f0f921"
             ]
            ]
           }
          ],
          "mesh3d": [
           {
            "type": "mesh3d",
            "colorbar": {
             "outlinewidth": 0,
             "ticks": ""
            }
           }
          ],
          "scatter": [
           {
            "fillpattern": {
             "fillmode": "overlay",
             "size": 10,
             "solidity": 0.2
            },
            "type": "scatter"
           }
          ],
          "parcoords": [
           {
            "type": "parcoords",
            "line": {
             "colorbar": {
              "outlinewidth": 0,
              "ticks": ""
             }
            }
           }
          ],
          "scatterpolargl": [
           {
            "type": "scatterpolargl",
            "marker": {
             "colorbar": {
              "outlinewidth": 0,
              "ticks": ""
             }
            }
           }
          ],
          "bar": [
           {
            "error_x": {
             "color": "#2a3f5f"
            },
            "error_y": {
             "color": "#2a3f5f"
            },
            "marker": {
             "line": {
              "color": "white",
              "width": 0.5
             },
             "pattern": {
              "fillmode": "overlay",
              "size": 10,
              "solidity": 0.2
             }
            },
            "type": "bar"
           }
          ],
          "scattergeo": [
           {
            "type": "scattergeo",
            "marker": {
             "colorbar": {
              "outlinewidth": 0,
              "ticks": ""
             }
            }
           }
          ],
          "scatterpolar": [
           {
            "type": "scatterpolar",
            "marker": {
             "colorbar": {
              "outlinewidth": 0,
              "ticks": ""
             }
            }
           }
          ],
          "histogram": [
           {
            "marker": {
             "pattern": {
              "fillmode": "overlay",
              "size": 10,
              "solidity": 0.2
             }
            },
            "type": "histogram"
           }
          ],
          "scattergl": [
           {
            "type": "scattergl",
            "marker": {
             "colorbar": {
              "outlinewidth": 0,
              "ticks": ""
             }
            }
           }
          ],
          "scatter3d": [
           {
            "type": "scatter3d",
            "line": {
             "colorbar": {
              "outlinewidth": 0,
              "ticks": ""
             }
            },
            "marker": {
             "colorbar": {
              "outlinewidth": 0,
              "ticks": ""
             }
            }
           }
          ],
          "scattermap": [
           {
            "type": "scattermap",
            "marker": {
             "colorbar": {
              "outlinewidth": 0,
              "ticks": ""
             }
            }
           }
          ],
          "scattermapbox": [
           {
            "type": "scattermapbox",
            "marker": {
             "colorbar": {
              "outlinewidth": 0,
              "ticks": ""
             }
            }
           }
          ],
          "scatterternary": [
           {
            "type": "scatterternary",
            "marker": {
             "colorbar": {
              "outlinewidth": 0,
              "ticks": ""
             }
            }
           }
          ],
          "scattercarpet": [
           {
            "type": "scattercarpet",
            "marker": {
             "colorbar": {
              "outlinewidth": 0,
              "ticks": ""
             }
            }
           }
          ],
          "carpet": [
           {
            "aaxis": {
             "endlinecolor": "#2a3f5f",
             "gridcolor": "#C8D4E3",
             "linecolor": "#C8D4E3",
             "minorgridcolor": "#C8D4E3",
             "startlinecolor": "#2a3f5f"
            },
            "baxis": {
             "endlinecolor": "#2a3f5f",
             "gridcolor": "#C8D4E3",
             "linecolor": "#C8D4E3",
             "minorgridcolor": "#C8D4E3",
             "startlinecolor": "#2a3f5f"
            },
            "type": "carpet"
           }
          ],
          "table": [
           {
            "cells": {
             "fill": {
              "color": "#EBF0F8"
             },
             "line": {
              "color": "white"
             }
            },
            "header": {
             "fill": {
              "color": "#C8D4E3"
             },
             "line": {
              "color": "white"
             }
            },
            "type": "table"
           }
          ],
          "barpolar": [
           {
            "marker": {
             "line": {
              "color": "white",
              "width": 0.5
             },
             "pattern": {
              "fillmode": "overlay",
              "size": 10,
              "solidity": 0.2
             }
            },
            "type": "barpolar"
           }
          ],
          "pie": [
           {
            "automargin": true,
            "type": "pie"
           }
          ]
         },
         "layout": {
          "autotypenumbers": "strict",
          "colorway": [
           "#636efa",
           "#EF553B",
           "#00cc96",
           "#ab63fa",
           "#FFA15A",
           "#19d3f3",
           "#FF6692",
           "#B6E880",
           "#FF97FF",
           "#FECB52"
          ],
          "font": {
           "color": "#2a3f5f"
          },
          "hovermode": "closest",
          "hoverlabel": {
           "align": "left"
          },
          "paper_bgcolor": "white",
          "plot_bgcolor": "white",
          "polar": {
           "bgcolor": "white",
           "angularaxis": {
            "gridcolor": "#EBF0F8",
            "linecolor": "#EBF0F8",
            "ticks": ""
           },
           "radialaxis": {
            "gridcolor": "#EBF0F8",
            "linecolor": "#EBF0F8",
            "ticks": ""
           }
          },
          "ternary": {
           "bgcolor": "white",
           "aaxis": {
            "gridcolor": "#DFE8F3",
            "linecolor": "#A2B1C6",
            "ticks": ""
           },
           "baxis": {
            "gridcolor": "#DFE8F3",
            "linecolor": "#A2B1C6",
            "ticks": ""
           },
           "caxis": {
            "gridcolor": "#DFE8F3",
            "linecolor": "#A2B1C6",
            "ticks": ""
           }
          },
          "coloraxis": {
           "colorbar": {
            "outlinewidth": 0,
            "ticks": ""
           }
          },
          "colorscale": {
           "sequential": [
            [
             0.0,
             "#0d0887"
            ],
            [
             0.1111111111111111,
             "#46039f"
            ],
            [
             0.2222222222222222,
             "#7201a8"
            ],
            [
             0.3333333333333333,
             "#9c179e"
            ],
            [
             0.4444444444444444,
             "#bd3786"
            ],
            [
             0.5555555555555556,
             "#d8576b"
            ],
            [
             0.6666666666666666,
             "#ed7953"
            ],
            [
             0.7777777777777778,
             "#fb9f3a"
            ],
            [
             0.8888888888888888,
             "#fdca26"
            ],
            [
             1.0,
             "#f0f921"
            ]
           ],
           "sequentialminus": [
            [
             0.0,
             "#0d0887"
            ],
            [
             0.1111111111111111,
             "#46039f"
            ],
            [
             0.2222222222222222,
             "#7201a8"
            ],
            [
             0.3333333333333333,
             "#9c179e"
            ],
            [
             0.4444444444444444,
             "#bd3786"
            ],
            [
             0.5555555555555556,
             "#d8576b"
            ],
            [
             0.6666666666666666,
             "#ed7953"
            ],
            [
             0.7777777777777778,
             "#fb9f3a"
            ],
            [
             0.8888888888888888,
             "#fdca26"
            ],
            [
             1.0,
             "#f0f921"
            ]
           ],
           "diverging": [
            [
             0,
             "#8e0152"
            ],
            [
             0.1,
             "#c51b7d"
            ],
            [
             0.2,
             "#de77ae"
            ],
            [
             0.3,
             "#f1b6da"
            ],
            [
             0.4,
             "#fde0ef"
            ],
            [
             0.5,
             "#f7f7f7"
            ],
            [
             0.6,
             "#e6f5d0"
            ],
            [
             0.7,
             "#b8e186"
            ],
            [
             0.8,
             "#7fbc41"
            ],
            [
             0.9,
             "#4d9221"
            ],
            [
             1,
             "#276419"
            ]
           ]
          },
          "xaxis": {
           "gridcolor": "#EBF0F8",
           "linecolor": "#EBF0F8",
           "ticks": "",
           "title": {
            "standoff": 15
           },
           "zerolinecolor": "#EBF0F8",
           "automargin": true,
           "zerolinewidth": 2
          },
          "yaxis": {
           "gridcolor": "#EBF0F8",
           "linecolor": "#EBF0F8",
           "ticks": "",
           "title": {
            "standoff": 15
           },
           "zerolinecolor": "#EBF0F8",
           "automargin": true,
           "zerolinewidth": 2
          },
          "scene": {
           "xaxis": {
            "backgroundcolor": "white",
            "gridcolor": "#DFE8F3",
            "linecolor": "#EBF0F8",
            "showbackground": true,
            "ticks": "",
            "zerolinecolor": "#EBF0F8",
            "gridwidth": 2
           },
           "yaxis": {
            "backgroundcolor": "white",
            "gridcolor": "#DFE8F3",
            "linecolor": "#EBF0F8",
            "showbackground": true,
            "ticks": "",
            "zerolinecolor": "#EBF0F8",
            "gridwidth": 2
           },
           "zaxis": {
            "backgroundcolor": "white",
            "gridcolor": "#DFE8F3",
            "linecolor": "#EBF0F8",
            "showbackground": true,
            "ticks": "",
            "zerolinecolor": "#EBF0F8",
            "gridwidth": 2
           }
          },
          "shapedefaults": {
           "line": {
            "color": "#2a3f5f"
           }
          },
          "annotationdefaults": {
           "arrowcolor": "#2a3f5f",
           "arrowhead": 0,
           "arrowwidth": 1
          },
          "geo": {
           "bgcolor": "white",
           "landcolor": "white",
           "subunitcolor": "#C8D4E3",
           "showland": true,
           "showlakes": true,
           "lakecolor": "white"
          },
          "title": {
           "x": 0.05
          },
          "mapbox": {
           "style": "light"
          }
         }
        },
        "xaxis": {
         "anchor": "y",
         "domain": [
          0.55,
          1.0
         ]
        },
        "yaxis": {
         "anchor": "x",
         "domain": [
          0.0,
          1.0
         ]
        },
        "annotations": [
         {
          "font": {
           "size": 16
          },
          "showarrow": false,
          "text": "Regime Distribution",
          "x": 0.225,
          "xanchor": "center",
          "xref": "paper",
          "y": 1.0,
          "yanchor": "bottom",
          "yref": "paper"
         },
         {
          "font": {
           "size": 16
          },
          "showarrow": false,
          "text": "Regime Characteristics",
          "x": 0.775,
          "xanchor": "center",
          "xref": "paper",
          "y": 1.0,
          "yanchor": "bottom",
          "yref": "paper"
         }
        ],
        "title": {
         "text": "Market Regime Overview (Engine Data)",
         "x": 0.5
        },
        "height": 400,
        "showlegend": false
       },
       "config": {
        "plotlyServerURL": "https://plot.ly"
       }
      }
     },
     "metadata": {},
     "output_type": "display_data"
    },
    {
     "data": {
      "text/plain": [
       "<IPython.core.display.HTML object>"
      ],
      "text/html": [
       "\n",
       "    <div class=\"widget-container\">\n",
       "        <h4 style=\"color: #495057; margin: 0 0 15px 0;\">📊 Regime Strategy Summary (Engine Data)</h4>\n",
       "        <div style=\"text-align: center; margin-bottom: 15px; padding: 10px; background: #d1ecf1; border-radius: 6px;\">\n",
       "            <strong>Using Actual Backtest Engine Regime Classifications</strong>\n",
       "        </div>\n",
       "        <table style=\"width: 100%; border-collapse: collapse;\">\n",
       "            <tr style=\"background: #f8f9fa; font-weight: bold;\">\n",
       "                <td style=\"padding: 10px; border: 1px solid #dee2e6;\">Regime</td>\n",
       "                <td style=\"padding: 10px; border: 1px solid #dee2e6;\">Strategy</td>\n",
       "                <td style=\"padding: 10px; border: 1px solid #dee2e6;\">Risk Multiplier</td>\n",
       "                <td style=\"padding: 10px; border: 1px solid #dee2e6;\">Frequency</td>\n",
       "            </tr>\n",
       "            \n",
       "            <tr>\n",
       "                <td style=\"padding: 8px; border: 1px solid #dee2e6;\">Regime 0</td>\n",
       "                <td style=\"padding: 8px; border: 1px solid #dee2e6;\">STABLE_GROWTH</td>\n",
       "                <td style=\"padding: 8px; border: 1px solid #dee2e6;\">1.30</td>\n",
       "                <td style=\"padding: 8px; border: 1px solid #dee2e6;\">23.6%</td>\n",
       "            </tr>\n",
       "            \n",
       "            <tr>\n",
       "                <td style=\"padding: 8px; border: 1px solid #dee2e6;\">Regime 1</td>\n",
       "                <td style=\"padding: 8px; border: 1px solid #dee2e6;\">MOMENTUM</td>\n",
       "                <td style=\"padding: 8px; border: 1px solid #dee2e6;\">1.10</td>\n",
       "                <td style=\"padding: 8px; border: 1px solid #dee2e6;\">17.0%</td>\n",
       "            </tr>\n",
       "            \n",
       "            <tr>\n",
       "                <td style=\"padding: 8px; border: 1px solid #dee2e6;\">Regime 2</td>\n",
       "                <td style=\"padding: 8px; border: 1px solid #dee2e6;\">BALANCED</td>\n",
       "                <td style=\"padding: 8px; border: 1px solid #dee2e6;\">1.00</td>\n",
       "                <td style=\"padding: 8px; border: 1px solid #dee2e6;\">6.6%</td>\n",
       "            </tr>\n",
       "            \n",
       "            <tr>\n",
       "                <td style=\"padding: 8px; border: 1px solid #dee2e6;\">Regime 3</td>\n",
       "                <td style=\"padding: 8px; border: 1px solid #dee2e6;\">WAIT_AND_SEE</td>\n",
       "                <td style=\"padding: 8px; border: 1px solid #dee2e6;\">0.30</td>\n",
       "                <td style=\"padding: 8px; border: 1px solid #dee2e6;\">20.6%</td>\n",
       "            </tr>\n",
       "            \n",
       "            <tr>\n",
       "                <td style=\"padding: 8px; border: 1px solid #dee2e6;\">Regime 4</td>\n",
       "                <td style=\"padding: 8px; border: 1px solid #dee2e6;\">CONSERVATIVE</td>\n",
       "                <td style=\"padding: 8px; border: 1px solid #dee2e6;\">0.80</td>\n",
       "                <td style=\"padding: 8px; border: 1px solid #dee2e6;\">10.7%</td>\n",
       "            </tr>\n",
       "            \n",
       "            <tr>\n",
       "                <td style=\"padding: 8px; border: 1px solid #dee2e6;\">Regime 5</td>\n",
       "                <td style=\"padding: 8px; border: 1px solid #dee2e6;\">MOMENTUM</td>\n",
       "                <td style=\"padding: 8px; border: 1px solid #dee2e6;\">1.20</td>\n",
       "                <td style=\"padding: 8px; border: 1px solid #dee2e6;\">4.8%</td>\n",
       "            </tr>\n",
       "            \n",
       "            <tr>\n",
       "                <td style=\"padding: 8px; border: 1px solid #dee2e6;\">Regime 6</td>\n",
       "                <td style=\"padding: 8px; border: 1px solid #dee2e6;\">WAIT_AND_SEE</td>\n",
       "                <td style=\"padding: 8px; border: 1px solid #dee2e6;\">0.20</td>\n",
       "                <td style=\"padding: 8px; border: 1px solid #dee2e6;\">16.7%</td>\n",
       "            </tr>\n",
       "            \n",
       "        </table>\n",
       "    </div>\n",
       "    "
      ]
     },
     "metadata": {},
     "output_type": "display_data"
    }
   ],
   "execution_count": 257
  },
  {
   "cell_type": "code",
   "source": "# Trade Analysis\nif execution_success and hasattr(backtest_runner, 'trades_df') and len(backtest_runner.trades_df) > 0:\n    display(HTML('<div class=\"analysis-header\">💼 TRADE ANALYSIS</div>'))\n    \n    trades_df = backtest_runner.trades_df.copy()\n    trades_df['trade_duration'] = (pd.to_datetime(trades_df['exit_timestamp']) - \n                                  pd.to_datetime(trades_df['entry_timestamp'])).dt.days\n    trades_df['is_winning'] = trades_df['pnl'] > 0\n    \n    # Sort trades by entry timestamp to fix cumulative P&L direction\n    trades_df = trades_df.sort_values('entry_timestamp')\n    \n    # Create trade analysis dashboard\n    fig = make_subplots(\n        rows=2, cols=2,\n        subplot_titles=('Trade Returns Distribution', 'Cumulative P&L', 'Returns vs Duration', 'Top Trades'),\n        specs=[[{\"type\": \"histogram\"}, {\"type\": \"scatter\"}],\n               [{\"type\": \"scatter\"}, {\"type\": \"table\"}]]\n    )\n    \n    # Returns distribution\n    fig.add_trace(go.Histogram(\n        x=trades_df['pnl_pct'],\n        nbinsx=20,\n        name='Returns Distribution',\n        marker_color=['green' if x > 0 else 'red' for x in trades_df['pnl_pct']]\n    ), row=1, col=1)\n    \n    # Cumulative P&L (fixed direction)\n    fig.add_trace(go.Scatter(\n        x=trades_df['entry_timestamp'],\n        y=trades_df['pnl'].cumsum(),\n        mode='lines+markers',\n        name='Cumulative P&L',\n        line=dict(color='blue', width=2),\n        hovertemplate='<b>Date:</b> %{x}<br><b>Cumulative P&L:</b> $%{y:,.0f}<extra></extra>'\n    ), row=1, col=2)\n    \n    # Returns vs Duration\n    fig.add_trace(go.Scatter(\n        x=trades_df['trade_duration'],\n        y=trades_df['pnl_pct'],\n        mode='markers',\n        name='Return vs Duration',\n        marker=dict(\n            color=trades_df['pnl_pct'],\n            colorscale='RdYlGn',\n            size=8\n        ),\n        text=trades_df['symbol'],\n        hovertemplate='<b>Symbol:</b> %{text}<br><b>Duration:</b> %{x} days<br><b>Return:</b> %{y:.2f}%<extra></extra>'\n    ), row=2, col=1)\n    \n    # Top trades table\n    top_trades = trades_df.nlargest(5, 'pnl_pct')[['symbol', 'pnl', 'pnl_pct', 'regime_id']]\n    fig.add_trace(go.Table(\n        header=dict(values=['Symbol', 'P&L ($)', 'Return (%)', 'Regime']),\n        cells=dict(values=[\n            top_trades['symbol'],\n            [f\"${x:,.0f}\" for x in top_trades['pnl']],\n            [f\"{x:.2f}%\" for x in top_trades['pnl_pct']],\n            [f\"Regime {x}\" for x in top_trades['regime_id']]\n        ])\n    ), row=2, col=2)\n    \n    fig.update_layout(\n        height=600,\n        title_text=f\"Trade Analysis - {len(trades_df)} Trades (Engine Data)\",\n        showlegend=False\n    )\n    \n    fig.update_xaxes(title_text=\"Return (%)\", row=1, col=1)\n    fig.update_xaxes(title_text=\"Date\", row=1, col=2)\n    fig.update_xaxes(title_text=\"Duration (Days)\", row=2, col=1)\n    \n    fig.update_yaxes(title_text=\"Frequency\", row=1, col=1)\n    fig.update_yaxes(title_text=\"Cumulative P&L ($)\", row=1, col=2)\n    fig.update_yaxes(title_text=\"Return (%)\", row=2, col=1)\n    \n    fig.show()\n    \n    # Trade statistics\n    total_pnl = trades_df['pnl'].sum()\n    avg_return = trades_df['pnl_pct'].mean()\n    win_rate = (trades_df['pnl'] > 0).mean() * 100\n    best_trade = trades_df.loc[trades_df['pnl_pct'].idxmax()]\n    worst_trade = trades_df.loc[trades_df['pnl_pct'].idxmin()]\n    \n    display(HTML(f\"\"\"\n    <div class=\"widget-container\">\n        <h4 style=\"color: #495057; margin: 0 0 20px 0;\">📊 Trade Performance Summary (Engine Data)</h4>\n        <div style=\"text-align: center; margin-bottom: 15px; padding: 10px; background: #d1ecf1; border-radius: 6px;\">\n            <strong>Using Actual Backtest Engine Trade Data</strong>\n        </div>\n        <div style=\"display: grid; grid-template-columns: repeat(3, 1fr); gap: 20px;\">\n            <div style=\"text-align: center; padding: 15px; background: #f8f9fa; border-radius: 8px;\">\n                <div style=\"color: #495057; font-weight: bold; margin-bottom: 10px;\">Overall Performance</div>\n                <div style=\"color: #495057;\">Total P&L: ${total_pnl:,.0f}</div>\n                <div style=\"color: #495057;\">Average Return: {avg_return:.2f}%</div>\n                <div style=\"color: #495057;\">Win Rate: {win_rate:.1f}%</div>\n            </div>\n            <div style=\"text-align: center; padding: 15px; background: #f8f9fa; border-radius: 8px;\">\n                <div style=\"color: #495057; font-weight: bold; margin-bottom: 10px;\">Best Trade</div>\n                <div style=\"color: #495057;\">Symbol: {best_trade['symbol']}</div>\n                <div style=\"color: #495057;\">Return: {best_trade['pnl_pct']:.2f}%</div>\n                <div style=\"color: #495057;\">P&L: ${best_trade['pnl']:,.0f}</div>\n            </div>\n            <div style=\"text-align: center; padding: 15px; background: #f8f9fa; border-radius: 8px;\">\n                <div style=\"color: #495057; font-weight: bold; margin-bottom: 10px;\">Worst Trade</div>\n                <div style=\"color: #495057;\">Symbol: {worst_trade['symbol']}</div>\n                <div style=\"color: #495057;\">Return: {worst_trade['pnl_pct']:.2f}%</div>\n                <div style=\"color: #495057;\">P&L: ${worst_trade['pnl']:,.0f}</div>\n            </div>\n        </div>\n    </div>\n    \"\"\"))\n\nelse:\n    display(HTML('''\n    <div class=\"info-box\">\n        <strong>ℹ️ Trade Analysis Unavailable</strong><br>\n        No trade data available. Execute the backtest above to generate trades.\n    </div>\n    '''))",
   "metadata": {
    "ExecuteTime": {
     "end_time": "2025-08-19T16:26:24.884889Z",
     "start_time": "2025-08-19T16:26:24.855892Z"
    }
   },
   "outputs": [
    {
     "data": {
      "text/plain": [
       "<IPython.core.display.HTML object>"
      ],
      "text/html": [
       "<div class=\"analysis-header\">💼 TRADE ANALYSIS</div>"
      ]
     },
     "metadata": {},
     "output_type": "display_data"
    },
    {
     "data": {
      "application/vnd.plotly.v1+json": {
       "data": [
        {
         "marker": {
          "color": [
           "green",
           "green",
           "red",
           "green",
           "green",
           "red",
           "green",
           "green",
           "green",
           "green",
           "green",
           "green",
           "green",
           "green",
           "green",
           "green",
           "green",
           "green",
           "red",
           "red",
           "red",
           "red",
           "red",
           "red",
           "red",
           "red",
           "red",
           "green",
           "green",
           "green",
           "red",
           "green",
           "green",
           "green",
           "green",
           "green",
           "green",
           "green",
           "red",
           "red",
           "red",
           "green",
           "red",
           "green",
           "green",
           "green",
           "green",
           "green",
           "red",
           "red",
           "red",
           "red",
           "green",
           "red",
           "red",
           "red",
           "green",
           "green",
           "green",
           "green",
           "green",
           "green",
           "green",
           "green",
           "green",
           "green",
           "green",
           "green",
           "green",
           "green",
           "green",
           "green",
           "green",
           "red",
           "red",
           "green",
           "red",
           "red",
           "red",
           "red",
           "green",
           "red",
           "red",
           "red",
           "green",
           "green",
           "green",
           "green",
           "green",
           "green",
           "red",
           "red",
           "red",
           "green",
           "green",
           "green",
           "green",
           "red",
           "red",
           "green",
           "green",
           "green",
           "green",
           "green",
           "green",
           "green",
           "green",
           "red",
           "green",
           "green",
           "green",
           "green",
           "green",
           "red",
           "red",
           "green",
           "green",
           "green",
           "green",
           "green",
           "green",
           "green",
           "green",
           "green",
           "green",
           "green",
           "green",
           "green",
           "green",
           "red",
           "red",
           "green",
           "red",
           "green",
           "green",
           "red",
           "red",
           "green",
           "green",
           "green",
           "green",
           "red",
           "green",
           "green",
           "green",
           "red",
           "red",
           "green",
           "green",
           "red",
           "red",
           "red",
           "red",
           "red",
           "red",
           "red",
           "red",
           "red",
           "red",
           "red",
           "red",
           "red",
           "red",
           "green",
           "red",
           "red",
           "red",
           "red",
           "red",
           "red",
           "red",
           "green",
           "green",
           "green",
           "green",
           "red",
           "green",
           "red",
           "red",
           "red",
           "red",
           "red",
           "red",
           "red",
           "red",
           "red",
           "red",
           "green",
           "green",
           "green",
           "green",
           "green",
           "green",
           "green",
           "green",
           "green",
           "red",
           "green",
           "green",
           "green",
           "red",
           "red",
           "red",
           "green",
           "green",
           "green",
           "red",
           "red",
           "red",
           "red",
           "red",
           "red",
           "red",
           "red",
           "green",
           "green",
           "red",
           "green",
           "green",
           "red",
           "red",
           "red",
           "red",
           "red",
           "red",
           "red",
           "red",
           "green",
           "green",
           "green",
           "red",
           "red",
           "green",
           "green",
           "red",
           "red",
           "red",
           "green",
           "green",
           "green",
           "green",
           "green",
           "green",
           "red",
           "red",
           "red",
           "red",
           "green",
           "green",
           "green",
           "green",
           "green",
           "green",
           "green",
           "green",
           "green",
           "green",
           "green",
           "green",
           "green",
           "green",
           "green",
           "green",
           "green",
           "red",
           "green",
           "red",
           "red",
           "red",
           "red",
           "red",
           "red",
           "red",
           "red",
           "green",
           "red",
           "red",
           "red",
           "green",
           "red",
           "red",
           "green",
           "green",
           "green",
           "green",
           "green",
           "green",
           "green",
           "green",
           "green",
           "green",
           "green",
           "red",
           "red",
           "red",
           "red",
           "red",
           "red",
           "red",
           "red",
           "red",
           "red",
           "red",
           "red",
           "red",
           "red",
           "red",
           "red",
           "red",
           "red",
           "green",
           "green",
           "green",
           "green",
           "green",
           "green",
           "green",
           "red",
           "green",
           "green",
           "green",
           "green",
           "red",
           "green",
           "red",
           "green",
           "green",
           "red",
           "green",
           "green",
           "green",
           "green",
           "green",
           "red",
           "red",
           "red",
           "red",
           "red",
           "red",
           "red",
           "red",
           "green",
           "green",
           "green",
           "green",
           "green",
           "red",
           "red",
           "green",
           "green",
           "green",
           "green",
           "green",
           "green",
           "green",
           "green",
           "red",
           "green",
           "green",
           "green",
           "red",
           "red",
           "red",
           "green",
           "green",
           "green",
           "green"
          ]
         },
         "name": "Returns Distribution",
         "nbinsx": 20,
         "x": {
          "dtype": "f8",
          "bdata": "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"
         },
         "type": "histogram",
         "xaxis": "x",
         "yaxis": "y"
        },
        {
         "hovertemplate": "<b>Date:</b> %{x}<br><b>Cumulative P&L:</b> $%{y:,.0f}<extra></extra>",
         "line": {
          "color": "blue",
          "width": 2
         },
         "mode": "lines+markers",
         "name": "Cumulative P&L",
         "x": [
          "2024-09-13T00:00:00.000000000",
          "2024-09-13T00:00:00.000000000",
          "2024-09-13T00:00:00.000000000",
          "2024-09-13T00:00:00.000000000",
          "2024-09-13T00:00:00.000000000",
          "2024-09-14T00:00:00.000000000",
          "2024-09-14T00:00:00.000000000",
          "2024-09-16T00:00:00.000000000",
          "2024-09-17T00:00:00.000000000",
          "2024-09-20T00:00:00.000000000",
          "2024-09-20T00:00:00.000000000",
          "2024-09-20T00:00:00.000000000",
          "2024-09-21T00:00:00.000000000",
          "2024-09-22T00:00:00.000000000",
          "2024-09-22T00:00:00.000000000",
          "2024-09-25T00:00:00.000000000",
          "2024-09-25T00:00:00.000000000",
          "2024-09-25T00:00:00.000000000",
          "2024-09-29T00:00:00.000000000",
          "2024-09-29T00:00:00.000000000",
          "2024-09-29T00:00:00.000000000",
          "2024-09-29T00:00:00.000000000",
          "2024-09-29T00:00:00.000000000",
          "2024-10-01T00:00:00.000000000",
          "2024-10-01T00:00:00.000000000",
          "2024-10-01T00:00:00.000000000",
          "2024-10-02T00:00:00.000000000",
          "2024-10-02T00:00:00.000000000",
          "2024-10-02T00:00:00.000000000",
          "2024-10-02T00:00:00.000000000",
          "2024-10-02T00:00:00.000000000",
          "2024-10-10T00:00:00.000000000",
          "2024-10-13T00:00:00.000000000",
          "2024-10-13T00:00:00.000000000",
          "2024-10-15T00:00:00.000000000",
          "2024-10-15T00:00:00.000000000",
          "2024-10-15T00:00:00.000000000",
          "2024-10-19T00:00:00.000000000",
          "2024-10-21T00:00:00.000000000",
          "2024-10-21T00:00:00.000000000",
          "2024-10-21T00:00:00.000000000",
          "2024-10-21T00:00:00.000000000",
          "2024-10-23T00:00:00.000000000",
          "2024-10-24T00:00:00.000000000",
          "2024-10-24T00:00:00.000000000",
          "2024-10-26T00:00:00.000000000",
          "2024-10-26T00:00:00.000000000",
          "2024-10-28T00:00:00.000000000",
          "2024-10-30T00:00:00.000000000",
          "2024-10-30T00:00:00.000000000",
          "2024-10-30T00:00:00.000000000",
          "2024-10-30T00:00:00.000000000",
          "2024-10-30T00:00:00.000000000",
          "2024-10-31T00:00:00.000000000",
          "2024-11-01T00:00:00.000000000",
          "2024-11-01T00:00:00.000000000",
          "2024-11-03T00:00:00.000000000",
          "2024-11-04T00:00:00.000000000",
          "2024-11-04T00:00:00.000000000",
          "2024-11-04T00:00:00.000000000",
          "2024-11-05T00:00:00.000000000",
          "2024-11-07T00:00:00.000000000",
          "2024-11-07T00:00:00.000000000",
          "2024-11-07T00:00:00.000000000",
          "2024-11-07T00:00:00.000000000",
          "2024-11-07T00:00:00.000000000",
          "2024-11-08T00:00:00.000000000",
          "2024-11-08T00:00:00.000000000",
          "2024-11-11T00:00:00.000000000",
          "2024-11-11T00:00:00.000000000",
          "2024-11-11T00:00:00.000000000",
          "2024-11-11T00:00:00.000000000",
          "2024-11-11T00:00:00.000000000",
          "2024-11-12T00:00:00.000000000",
          "2024-11-12T00:00:00.000000000",
          "2024-11-12T00:00:00.000000000",
          "2024-11-12T00:00:00.000000000",
          "2024-11-12T00:00:00.000000000",
          "2024-11-13T00:00:00.000000000",
          "2024-11-13T00:00:00.000000000",
          "2024-11-13T00:00:00.000000000",
          "2024-11-14T00:00:00.000000000",
          "2024-11-14T00:00:00.000000000",
          "2024-11-14T00:00:00.000000000",
          "2024-11-15T00:00:00.000000000",
          "2024-11-15T00:00:00.000000000",
          "2024-11-15T00:00:00.000000000",
          "2024-11-16T00:00:00.000000000",
          "2024-11-16T00:00:00.000000000",
          "2024-11-16T00:00:00.000000000",
          "2024-11-17T00:00:00.000000000",
          "2024-11-17T00:00:00.000000000",
          "2024-11-17T00:00:00.000000000",
          "2024-11-18T00:00:00.000000000",
          "2024-11-18T00:00:00.000000000",
          "2024-11-18T00:00:00.000000000",
          "2024-11-19T00:00:00.000000000",
          "2024-11-19T00:00:00.000000000",
          "2024-11-19T00:00:00.000000000",
          "2024-11-19T00:00:00.000000000",
          "2024-11-20T00:00:00.000000000",
          "2024-11-21T00:00:00.000000000",
          "2024-11-21T00:00:00.000000000",
          "2024-11-21T00:00:00.000000000",
          "2024-11-22T00:00:00.000000000",
          "2024-11-22T00:00:00.000000000",
          "2024-11-22T00:00:00.000000000",
          "2024-11-22T00:00:00.000000000",
          "2024-11-23T00:00:00.000000000",
          "2024-11-23T00:00:00.000000000",
          "2024-11-23T00:00:00.000000000",
          "2024-11-24T00:00:00.000000000",
          "2024-11-24T00:00:00.000000000",
          "2024-11-24T00:00:00.000000000",
          "2024-11-25T00:00:00.000000000",
          "2024-11-25T00:00:00.000000000",
          "2024-11-26T00:00:00.000000000",
          "2024-11-26T00:00:00.000000000",
          "2024-11-26T00:00:00.000000000",
          "2024-11-28T00:00:00.000000000",
          "2024-11-28T00:00:00.000000000",
          "2024-11-28T00:00:00.000000000",
          "2024-11-28T00:00:00.000000000",
          "2024-11-29T00:00:00.000000000",
          "2024-11-30T00:00:00.000000000",
          "2024-11-30T00:00:00.000000000",
          "2024-12-02T00:00:00.000000000",
          "2024-12-02T00:00:00.000000000",
          "2024-12-03T00:00:00.000000000",
          "2024-12-03T00:00:00.000000000",
          "2024-12-03T00:00:00.000000000",
          "2024-12-05T00:00:00.000000000",
          "2024-12-05T00:00:00.000000000",
          "2024-12-05T00:00:00.000000000",
          "2024-12-06T00:00:00.000000000",
          "2024-12-07T00:00:00.000000000",
          "2024-12-07T00:00:00.000000000",
          "2024-12-10T00:00:00.000000000",
          "2024-12-10T00:00:00.000000000",
          "2024-12-10T00:00:00.000000000",
          "2024-12-10T00:00:00.000000000",
          "2024-12-12T00:00:00.000000000",
          "2024-12-12T00:00:00.000000000",
          "2024-12-12T00:00:00.000000000",
          "2024-12-12T00:00:00.000000000",
          "2024-12-13T00:00:00.000000000",
          "2024-12-13T00:00:00.000000000",
          "2024-12-15T00:00:00.000000000",
          "2024-12-15T00:00:00.000000000",
          "2024-12-16T00:00:00.000000000",
          "2024-12-16T00:00:00.000000000",
          "2024-12-16T00:00:00.000000000",
          "2024-12-16T00:00:00.000000000",
          "2024-12-18T00:00:00.000000000",
          "2024-12-18T00:00:00.000000000",
          "2025-02-23T00:00:00.000000000",
          "2025-02-23T00:00:00.000000000",
          "2025-02-23T00:00:00.000000000",
          "2025-02-23T00:00:00.000000000",
          "2025-02-23T00:00:00.000000000",
          "2025-02-26T00:00:00.000000000",
          "2025-02-26T00:00:00.000000000",
          "2025-02-26T00:00:00.000000000",
          "2025-02-26T00:00:00.000000000",
          "2025-02-26T00:00:00.000000000",
          "2025-03-03T00:00:00.000000000",
          "2025-03-03T00:00:00.000000000",
          "2025-03-03T00:00:00.000000000",
          "2025-03-03T00:00:00.000000000",
          "2025-03-03T00:00:00.000000000",
          "2025-03-04T00:00:00.000000000",
          "2025-03-04T00:00:00.000000000",
          "2025-03-04T00:00:00.000000000",
          "2025-03-04T00:00:00.000000000",
          "2025-03-04T00:00:00.000000000",
          "2025-03-05T00:00:00.000000000",
          "2025-03-06T00:00:00.000000000",
          "2025-03-06T00:00:00.000000000",
          "2025-03-06T00:00:00.000000000",
          "2025-03-07T00:00:00.000000000",
          "2025-03-08T00:00:00.000000000",
          "2025-03-08T00:00:00.000000000",
          "2025-03-08T00:00:00.000000000",
          "2025-03-09T00:00:00.000000000",
          "2025-03-10T00:00:00.000000000",
          "2025-03-10T00:00:00.000000000",
          "2025-03-10T00:00:00.000000000",
          "2025-03-10T00:00:00.000000000",
          "2025-03-10T00:00:00.000000000",
          "2025-03-11T00:00:00.000000000",
          "2025-03-11T00:00:00.000000000",
          "2025-03-11T00:00:00.000000000",
          "2025-03-12T00:00:00.000000000",
          "2025-03-13T00:00:00.000000000",
          "2025-03-13T00:00:00.000000000",
          "2025-03-15T00:00:00.000000000",
          "2025-03-16T00:00:00.000000000",
          "2025-03-16T00:00:00.000000000",
          "2025-03-17T00:00:00.000000000",
          "2025-03-18T00:00:00.000000000",
          "2025-03-20T00:00:00.000000000",
          "2025-03-20T00:00:00.000000000",
          "2025-03-20T00:00:00.000000000",
          "2025-03-21T00:00:00.000000000",
          "2025-03-21T00:00:00.000000000",
          "2025-03-21T00:00:00.000000000",
          "2025-03-27T00:00:00.000000000",
          "2025-03-27T00:00:00.000000000",
          "2025-03-27T00:00:00.000000000",
          "2025-03-27T00:00:00.000000000",
          "2025-03-27T00:00:00.000000000",
          "2025-03-29T00:00:00.000000000",
          "2025-03-29T00:00:00.000000000",
          "2025-03-29T00:00:00.000000000",
          "2025-03-30T00:00:00.000000000",
          "2025-03-30T00:00:00.000000000",
          "2025-03-30T00:00:00.000000000",
          "2025-03-30T00:00:00.000000000",
          "2025-03-30T00:00:00.000000000",
          "2025-04-02T00:00:00.000000000",
          "2025-04-02T00:00:00.000000000",
          "2025-04-02T00:00:00.000000000",
          "2025-04-02T00:00:00.000000000",
          "2025-04-03T00:00:00.000000000",
          "2025-04-03T00:00:00.000000000",
          "2025-04-03T00:00:00.000000000",
          "2025-04-03T00:00:00.000000000",
          "2025-04-07T00:00:00.000000000",
          "2025-04-07T00:00:00.000000000",
          "2025-04-07T00:00:00.000000000",
          "2025-04-07T00:00:00.000000000",
          "2025-04-07T00:00:00.000000000",
          "2025-04-09T00:00:00.000000000",
          "2025-04-09T00:00:00.000000000",
          "2025-04-10T00:00:00.000000000",
          "2025-04-10T00:00:00.000000000",
          "2025-04-10T00:00:00.000000000",
          "2025-04-10T00:00:00.000000000",
          "2025-04-10T00:00:00.000000000",
          "2025-04-11T00:00:00.000000000",
          "2025-04-11T00:00:00.000000000",
          "2025-04-11T00:00:00.000000000",
          "2025-04-12T00:00:00.000000000",
          "2025-04-13T00:00:00.000000000",
          "2025-04-13T00:00:00.000000000",
          "2025-04-13T00:00:00.000000000",
          "2025-04-13T00:00:00.000000000",
          "2025-04-14T00:00:00.000000000",
          "2025-04-16T00:00:00.000000000",
          "2025-04-16T00:00:00.000000000",
          "2025-04-17T00:00:00.000000000",
          "2025-04-19T00:00:00.000000000",
          "2025-04-20T00:00:00.000000000",
          "2025-04-21T00:00:00.000000000",
          "2025-04-22T00:00:00.000000000",
          "2025-05-05T00:00:00.000000000",
          "2025-05-05T00:00:00.000000000",
          "2025-05-05T00:00:00.000000000",
          "2025-05-05T00:00:00.000000000",
          "2025-05-05T00:00:00.000000000",
          "2025-05-18T00:00:00.000000000",
          "2025-05-18T00:00:00.000000000",
          "2025-05-18T00:00:00.000000000",
          "2025-05-18T00:00:00.000000000",
          "2025-05-18T00:00:00.000000000",
          "2025-05-24T00:00:00.000000000",
          "2025-05-24T00:00:00.000000000",
          "2025-05-24T00:00:00.000000000",
          "2025-05-24T00:00:00.000000000",
          "2025-05-24T00:00:00.000000000",
          "2025-05-28T00:00:00.000000000",
          "2025-05-30T00:00:00.000000000",
          "2025-05-30T00:00:00.000000000",
          "2025-05-30T00:00:00.000000000",
          "2025-05-31T00:00:00.000000000",
          "2025-05-31T00:00:00.000000000",
          "2025-05-31T00:00:00.000000000",
          "2025-05-31T00:00:00.000000000",
          "2025-05-31T00:00:00.000000000",
          "2025-06-03T00:00:00.000000000",
          "2025-06-05T00:00:00.000000000",
          "2025-06-06T00:00:00.000000000",
          "2025-06-06T00:00:00.000000000",
          "2025-06-06T00:00:00.000000000",
          "2025-06-06T00:00:00.000000000",
          "2025-06-07T00:00:00.000000000",
          "2025-06-07T00:00:00.000000000",
          "2025-06-08T00:00:00.000000000",
          "2025-06-08T00:00:00.000000000",
          "2025-06-10T00:00:00.000000000",
          "2025-06-10T00:00:00.000000000",
          "2025-06-10T00:00:00.000000000",
          "2025-06-10T00:00:00.000000000",
          "2025-06-10T00:00:00.000000000",
          "2025-06-11T00:00:00.000000000",
          "2025-06-11T00:00:00.000000000",
          "2025-06-11T00:00:00.000000000",
          "2025-06-13T00:00:00.000000000",
          "2025-06-13T00:00:00.000000000",
          "2025-06-13T00:00:00.000000000",
          "2025-06-13T00:00:00.000000000",
          "2025-06-14T00:00:00.000000000",
          "2025-06-15T00:00:00.000000000",
          "2025-06-15T00:00:00.000000000",
          "2025-06-15T00:00:00.000000000",
          "2025-06-18T00:00:00.000000000",
          "2025-06-20T00:00:00.000000000",
          "2025-06-21T00:00:00.000000000",
          "2025-06-21T00:00:00.000000000",
          "2025-06-21T00:00:00.000000000",
          "2025-06-22T00:00:00.000000000",
          "2025-06-22T00:00:00.000000000",
          "2025-06-22T00:00:00.000000000",
          "2025-06-23T00:00:00.000000000",
          "2025-06-23T00:00:00.000000000",
          "2025-06-24T00:00:00.000000000",
          "2025-06-24T00:00:00.000000000",
          "2025-06-24T00:00:00.000000000",
          "2025-06-24T00:00:00.000000000",
          "2025-06-24T00:00:00.000000000",
          "2025-06-25T00:00:00.000000000",
          "2025-06-27T00:00:00.000000000",
          "2025-06-30T00:00:00.000000000",
          "2025-06-30T00:00:00.000000000",
          "2025-06-30T00:00:00.000000000",
          "2025-07-02T00:00:00.000000000",
          "2025-07-02T00:00:00.000000000",
          "2025-07-03T00:00:00.000000000",
          "2025-07-03T00:00:00.000000000",
          "2025-07-03T00:00:00.000000000",
          "2025-07-04T00:00:00.000000000",
          "2025-07-05T00:00:00.000000000",
          "2025-07-09T00:00:00.000000000",
          "2025-07-30T00:00:00.000000000",
          "2025-07-30T00:00:00.000000000",
          "2025-07-30T00:00:00.000000000",
          "2025-07-30T00:00:00.000000000",
          "2025-07-30T00:00:00.000000000",
          "2025-08-01T00:00:00.000000000",
          "2025-08-01T00:00:00.000000000",
          "2025-08-01T00:00:00.000000000",
          "2025-08-02T00:00:00.000000000",
          "2025-08-02T00:00:00.000000000",
          "2025-08-02T00:00:00.000000000",
          "2025-08-02T00:00:00.000000000",
          "2025-08-02T00:00:00.000000000",
          "2025-08-05T00:00:00.000000000",
          "2025-08-05T00:00:00.000000000",
          "2025-08-05T00:00:00.000000000",
          "2025-08-05T00:00:00.000000000",
          "2025-08-06T00:00:00.000000000",
          "2025-08-06T00:00:00.000000000",
          "2025-08-08T00:00:00.000000000",
          "2025-08-08T00:00:00.000000000",
          "2025-08-08T00:00:00.000000000",
          "2025-08-08T00:00:00.000000000",
          "2025-08-08T00:00:00.000000000",
          "2025-08-09T00:00:00.000000000",
          "2025-08-09T00:00:00.000000000",
          "2025-08-11T00:00:00.000000000",
          "2025-08-11T00:00:00.000000000",
          "2025-08-11T00:00:00.000000000",
          "2025-08-11T00:00:00.000000000",
          "2025-08-11T00:00:00.000000000",
          "2025-08-12T00:00:00.000000000",
          "2025-08-12T00:00:00.000000000",
          "2025-08-12T00:00:00.000000000"
         ],
         "y": {
          "dtype": "f8",
          "bdata": "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"
         },
         "type": "scatter",
         "xaxis": "x2",
         "yaxis": "y2"
        },
        {
         "hovertemplate": "<b>Symbol:</b> %{text}<br><b>Duration:</b> %{x} days<br><b>Return:</b> %{y:.2f}%<extra></extra>",
         "marker": {
          "color": {
           "dtype": "f8",
           "bdata": "dZT2MsVNEUBFmfB6/AcZQOqtiWQnQR3AZ9N8p/ZtEUBbQfCjAVEQQAdGtkxd6xXAzzl+2131DkACXHk3SrEVQG/wULzECRlAFKQyZDx/C0DOoZGTQjwYQPBAkKqZHCVA4n75FRunGUA4Oq9IoIcPQIeDlqjQAuQ/TRGb/ay6DED7ywaT94INQL8O1yKYjQlAC83Dq64OIcDS5pogv7QewCKLq2y4OiHAB3oURzBcH8DfWeCuk34cwKvomrrjuRXAO+D/FBPAGMDcAxwrTEcbwB6ORYG95RHAa31EmjewDkDeQWbKpNscQPWuOyRdDBRAVXOtlkQkIMDsqmtDT2sSQJmKSomO/BFASrcOITqpEEDddjS94qMRQFsBdI/fahFAag8JR1cmEkAYtcCgj4IQQFf7WBznXBXAlxQSIUvqH8B0FmuLALsUwKqgL+KbJRZAXy0+1XuRH8DAZeYafiYSQKZ90H5ScxBAssASFpA7E0C0vgMyLlkVQI759UIOMBNA85IOHn32F8ANB2Cu1FMWwMwZTdFT3BXAYBGzZ3KWFsCxv+jK1uATQIez39XW2R7A98S9vXg0F8CVKuCPmh8VwIg8RWi9ZyJAl0gj8CPRI0AMX0YGItspQEFnEL1UCSFAIxe0+53NI0DG7v3YMfEUQORna+sk+SlA1yZpqaeo8z85qRj/RKIZQDpdOmEmdSZAbiipjSw8AkCIuJi49N4jQCrv9YDrTiRAD1Pe3xCrFkAjsMo/v48RQNFz9AHguyJACiGZQ4VkEEC37QURAHQVwIkObGcipRXAxvLUdmhPEEAsYy6i6gkZwBXuT5tSChnAsR5UfVdKFMAgJazLHj0RwITjwACr/DRAWGmt9oGNEMCXLd+HyS8ZwDLPwL4+Iw7ARQ1Q+uqOE0AIr7rTKqYaQHoxUOFFLx9A3aCI2VDrFkAtCdDHyAsoQDXLISg8bxRAlyR57ljkEsAeiMsogv4XwJugRpOq7xTA2IqRWa97E0D3o31fxL8mQHKTYdhr4CRAERcuM7aBE0CKebXTU/QXwDC3OFZuMhPAo4Q1bkEaIkAQew4n1SEbQNbO2VyZ/gtA54f4D5XwEUBlYXvlMxU5QI4GevMw1yFAc7TJQ74fKEC8x5HtLAElQPmD3lHUWRbA4bcBwmuCFUA/2ucZ/WkXQBz//gWbcDtAkkDg7MttEECpNm3W8EkMQE+z+5HK/SXA9llmEDIIG8Cd+j+L0Z8OQKEFBC9TmglA+X2mZTBTHEAlT4XuIyETQLOc9H0r5xJA0Rq8cakoGkBoHqYBfywIQE+lv1pu3EBABmlb/Tr0EUALk67PfU8ZQPJ/9rGBFQhAOH6l8QsAEkCao+5gsusfQCLd/+ZOeRRAr8RhxBCdG8CIVo82OvwvwBOm7vrWnxdAMGxi/kE0M8CZHj9BNigSQEigQ9Rf7SVAEtEBtTEjK8BYA87cQPAdwLHX9Dg0uwhAcRupFg3YH0Bu5sEjeCAXQLEAAv2mvR5AqHB8Sv1dFMDEGOCifdYLQGBMXg4n4glAy6fu9XKyNEBCUwtofnIWwI/PtzmeKyzA++OGQVNLEUCIUQ9M2aoXQBH/HysTbhTADjQUrDWQGsDtNlrbI60QwFku7Ky10CDA6/N6xOKqHsChxloqGdwhwC5LzegdOinAXr69uqLBLMBhPizc5lgowEBNwIetZxXAojfEYsbmIsBeIhSAGuIVwMv7xLIsKhvAahsijwtGFsBB109YVWECQM6ra7NZMee/G8kZMaxDIcA4sMIo5FMtwK4VBC5YuzjAImPFQ2uIK8AUGf/PCakwwHktxdAynyTAU+2oJC7XK0D9ANeCFz8kQHRmRCjZzRRAYaJLBuhZEUB96loEM8YqwMyqD+FN3A1AEXy9o5X1EcBoDbF/5bETwJjuSuGljRrAEBf91p90J8AdwFrWthIXwEgQLG1nQyvAFMp5fmYJGcCjR85RWmQbwAT0Zc63qhnAXysDmbXbHsBwu6MvoS4QQBUHFDMlCg9AMxdf5yhUI0DpDzeTvl0cQAFs79xegBhAYLOs4Djt7j8YvVAypEoQQMYfSUCQaxBA41fZrch1EEBre7n7BSkTwPi60/DjtRFAG+h4CGe6E0AbvqB8ZqsbQODPAfFUBA/AONJeiyMsCsBhuz9mOhQVwA3I1PytkRNAZp7G05vEE0B2L4ofTOAXQE2l7zH9pB3A6IcwztuxE8A4Mjs0bXsWwDPE2+KpMiHACDJIUSO1GcDpj2zlCIcMwE3AwLBGaBbAW3pSLGS0E8C/hocOpOENQKxX1jAvUAlAoihJ/EU2E8CWdaLpTsEIQFYauI9PCBFABSzbgZhdF8Cn7zilvR4UwFAXgkgZlx/ArHxJ1WV8IMB5vsmBwaAowBjLxi29ZiXAfE4NaAtjHcDZyx8MI2AqwNIPLLwQEylAi+rEbA+XJED74J5cyI4WQC2oPmlq1CDA2KUBM9c7GsA7F/fXW/wpQATaGLE8ByBAWl1CiYSsIMDtUU2IargSwKCxPsIW0hHAsyjxfAliF0A43cwOI4kQQK2hhokRfhxAjzs2uWMfE0BeyzcWqQAgQG0yy50kFA9AeYTL+mX8EMC8lD6jwm4ewKwV3ocrhBTAf0fNI2OQEMC6rWvMEWUVQBh+c2kEXShAEgUFNLhBEkBb1hpLQxInQLuxUPc98xRASLGEiNIUDkCv6JjtfhMaQEpFyBTmAhxAZLCDcUSNIkDl7qp3OYk1QKWVwoBJQCpAYuhLuMlqKkAvVs15dDUsQATv8GrZzwVA58MMOC4s9D+29v5bkdMDQG6vmXcu2AVA3xd7OvAd2b/dVZlJ+ZUWQBI7fAwCpAnAQNxYt5sfEcAIiskowAMJwJRYVcB26wfAOlMC+ZmtFMDR0zjbJzsSwN8eYbUyeRzAPWLeg7PBH8B1G8Bh2AkYQLPA1yalaxzANNA7mYH2DMCaeAp6WTkWwJ/kgfncBAtAVNspBQbWHMD1yL9S5fQWwFSvn1qNGRJAKEIuQ1p1FEBgNyB390oRQLFKK0I6zxRAhMd8iiy5HUCa70qvvA4XQB/fjX3UnwlAIjxZUwghGUBS3IAzImYSQM9dbbl3YwhA4jbYM8FIHUCCB/0h/QsXwEQDRvPzVRHA8HFDyvUfFsBY4mUazIYgwENk7kJ/HCLABS3VOUr0EcAgkeaIEVIUwBncAuMi1xfAPcjXrUKMEcCx2j4LthUbwLLFVPeIQxTAtC1hySDKHsD2Q7Kw/o4RwC5+r6EvdRPAs1vhVRpfHMALC5ofMXcWwN+0TAEEjxPAWwYuuYPEGMCE9S3vW2MgQPUvBhhoAhtAdMBVNd4dDUD7Ss/uhnoSQCXoqb+eIB9AQCTTgD4eCUBBJdLlPI8QQB9z8Mw88RPAGAdC8Dr/CUCyWq5rNwoPQNtAjn7N5xBAMvFUI9LZEEAqA0fXZRUewLf69zp+9QtACw1GJCR9GMAS4v4Gl2MfQPCNk2sOKCBAbHdUd21gFcAq4lwvomYCQHLZdW9foRpAtXu3T/4sHECz7/5CsQQfQMLidqf6hwBADxAUUoIfIMBaw60uK1oPwBZF95i11xXAYPHbMqQIFsAGQZBIWU8TwAtDV6xtIQvAPL/X2H1SDMAV5mstz/8TwF4CJ4J64A1AOmJmsADIEkDK12dLa7oYQHubYegEtBpANwU7xrTPFkBFmt0UaZoOwOnlBFJRdhDAP7R2tiYNFUB6GXwL9qIOQBdeNN+mkiBAdWsTFA5tKUCcpLWuzjcBQPRrdzD2HSJA1pI4naDhHkAEvNMpglgIQP3zLV0G+em/N7ZMixtPEEC3Z7FiJBUkQD3VFpFaGuk/MEVTnJACC8DhtakB1iETwPlfzRqTuxDA43/NiKSbIED+U71JTBIdQEByopTEiCFAvWpB64LPJUA="
          },
          "colorscale": [
           [
            0.0,
            "rgb(165,0,38)"
           ],
           [
            0.1,
            "rgb(215,48,39)"
           ],
           [
            0.2,
            "rgb(244,109,67)"
           ],
           [
            0.3,
            "rgb(253,174,97)"
           ],
           [
            0.4,
            "rgb(254,224,139)"
           ],
           [
            0.5,
            "rgb(255,255,191)"
           ],
           [
            0.6,
            "rgb(217,239,139)"
           ],
           [
            0.7,
            "rgb(166,217,106)"
           ],
           [
            0.8,
            "rgb(102,189,99)"
           ],
           [
            0.9,
            "rgb(26,152,80)"
           ],
           [
            1.0,
            "rgb(0,104,55)"
           ]
          ],
          "size": 8
         },
         "mode": "markers",
         "name": "Return vs Duration",
         "text": [
          "BTCUSD",
          "LINKUSD",
          "ADAUSD",
          "ETHUSD",
          "DOTUSD",
          "LINKUSD",
          "BTCUSD",
          "LINKUSD",
          "ADAUSD",
          "BTCUSD",
          "ETHUSD",
          "ADAUSD",
          "LINKUSD",
          "DOTUSD",
          "ETHUSD",
          "ADAUSD",
          "DOTUSD",
          "LINKUSD",
          "ETHUSD",
          "BTCUSD",
          "LINKUSD",
          "DOTUSD",
          "ADAUSD",
          "ADAUSD",
          "DOTUSD",
          "LINKUSD",
          "LINKUSD",
          "BTCUSD",
          "ETHUSD",
          "DOTUSD",
          "ADAUSD",
          "LINKUSD",
          "BTCUSD",
          "LINKUSD",
          "BTCUSD",
          "ETHUSD",
          "DOTUSD",
          "LINKUSD",
          "DOTUSD",
          "ETHUSD",
          "LINKUSD",
          "BTCUSD",
          "DOTUSD",
          "ETHUSD",
          "LINKUSD",
          "ADAUSD",
          "DOTUSD",
          "ADAUSD",
          "ADAUSD",
          "ETHUSD",
          "BTCUSD",
          "DOTUSD",
          "LINKUSD",
          "LINKUSD",
          "LINKUSD",
          "DOTUSD",
          "ETHUSD",
          "BTCUSD",
          "LINKUSD",
          "ADAUSD",
          "DOTUSD",
          "DOTUSD",
          "LINKUSD",
          "BTCUSD",
          "ETHUSD",
          "ADAUSD",
          "ETHUSD",
          "ADAUSD",
          "BTCUSD",
          "ETHUSD",
          "ADAUSD",
          "DOTUSD",
          "LINKUSD",
          "ETHUSD",
          "LINKUSD",
          "BTCUSD",
          "ADAUSD",
          "DOTUSD",
          "DOTUSD",
          "LINKUSD",
          "ADAUSD",
          "ETHUSD",
          "DOTUSD",
          "LINKUSD",
          "ETHUSD",
          "LINKUSD",
          "DOTUSD",
          "ADAUSD",
          "DOTUSD",
          "LINKUSD",
          "ADAUSD",
          "DOTUSD",
          "LINKUSD",
          "ADAUSD",
          "DOTUSD",
          "LINKUSD",
          "ETHUSD",
          "LINKUSD",
          "DOTUSD",
          "ADAUSD",
          "BTCUSD",
          "DOTUSD",
          "LINKUSD",
          "ADAUSD",
          "ETHUSD",
          "DOTUSD",
          "LINKUSD",
          "BTCUSD",
          "LINKUSD",
          "ADAUSD",
          "DOTUSD",
          "DOTUSD",
          "LINKUSD",
          "ADAUSD",
          "DOTUSD",
          "LINKUSD",
          "BTCUSD",
          "ADAUSD",
          "DOTUSD",
          "ETHUSD",
          "ADAUSD",
          "BTCUSD",
          "LINKUSD",
          "DOTUSD",
          "ADAUSD",
          "DOTUSD",
          "ADAUSD",
          "DOTUSD",
          "DOTUSD",
          "LINKUSD",
          "ADAUSD",
          "BTCUSD",
          "DOTUSD",
          "ETHUSD",
          "LINKUSD",
          "LINKUSD",
          "ETHUSD",
          "ETHUSD",
          "ADAUSD",
          "DOTUSD",
          "LINKUSD",
          "DOTUSD",
          "ETHUSD",
          "ADAUSD",
          "LINKUSD",
          "ADAUSD",
          "LINKUSD",
          "ADAUSD",
          "DOTUSD",
          "ADAUSD",
          "DOTUSD",
          "BTCUSD",
          "ETHUSD",
          "ADAUSD",
          "DOTUSD",
          "DOTUSD",
          "LINKUSD",
          "ADAUSD",
          "BTCUSD",
          "ETHUSD",
          "BTCUSD",
          "ETHUSD",
          "ADAUSD",
          "DOTUSD",
          "LINKUSD",
          "BTCUSD",
          "ETHUSD",
          "ADAUSD",
          "DOTUSD",
          "LINKUSD",
          "DOTUSD",
          "LINKUSD",
          "ADAUSD",
          "BTCUSD",
          "ETHUSD",
          "ADAUSD",
          "LINKUSD",
          "ETHUSD",
          "BTCUSD",
          "LINKUSD",
          "ADAUSD",
          "ETHUSD",
          "LINKUSD",
          "BTCUSD",
          "ETHUSD",
          "ADAUSD",
          "LINKUSD",
          "DOTUSD",
          "BTCUSD",
          "ETHUSD",
          "ADAUSD",
          "LINKUSD",
          "ADAUSD",
          "LINKUSD",
          "BTCUSD",
          "DOTUSD",
          "LINKUSD",
          "DOTUSD",
          "LINKUSD",
          "LINKUSD",
          "ETHUSD",
          "DOTUSD",
          "LINKUSD",
          "ETHUSD",
          "DOTUSD",
          "LINKUSD",
          "ADAUSD",
          "BTCUSD",
          "ETHUSD",
          "DOTUSD",
          "LINKUSD",
          "ETHUSD",
          "DOTUSD",
          "LINKUSD",
          "LINKUSD",
          "DOTUSD",
          "ADAUSD",
          "BTCUSD",
          "ETHUSD",
          "ETHUSD",
          "DOTUSD",
          "LINKUSD",
          "BTCUSD",
          "ETHUSD",
          "ADAUSD",
          "DOTUSD",
          "LINKUSD",
          "LINKUSD",
          "ADAUSD",
          "BTCUSD",
          "DOTUSD",
          "ETHUSD",
          "ETHUSD",
          "DOTUSD",
          "ETHUSD",
          "DOTUSD",
          "LINKUSD",
          "BTCUSD",
          "ADAUSD",
          "DOTUSD",
          "LINKUSD",
          "ETHUSD",
          "LINKUSD",
          "LINKUSD",
          "ADAUSD",
          "DOTUSD",
          "ETHUSD",
          "LINKUSD",
          "ADAUSD",
          "DOTUSD",
          "ETHUSD",
          "DOTUSD",
          "DOTUSD",
          "LINKUSD",
          "BTCUSD",
          "BTCUSD",
          "ETHUSD",
          "ADAUSD",
          "DOTUSD",
          "LINKUSD",
          "DOTUSD",
          "ADAUSD",
          "LINKUSD",
          "BTCUSD",
          "ETHUSD",
          "ETHUSD",
          "ADAUSD",
          "DOTUSD",
          "LINKUSD",
          "BTCUSD",
          "ETHUSD",
          "ADAUSD",
          "DOTUSD",
          "LINKUSD",
          "BTCUSD",
          "LINKUSD",
          "ADAUSD",
          "DOTUSD",
          "ETHUSD",
          "ETHUSD",
          "ADAUSD",
          "ADAUSD",
          "LINKUSD",
          "ETHUSD",
          "DOTUSD",
          "ADAUSD",
          "LINKUSD",
          "DOTUSD",
          "ETHUSD",
          "ETHUSD",
          "DOTUSD",
          "LINKUSD",
          "ADAUSD",
          "BTCUSD",
          "ETHUSD",
          "DOTUSD",
          "LINKUSD",
          "ETHUSD",
          "DOTUSD",
          "ADAUSD",
          "LINKUSD",
          "LINKUSD",
          "ETHUSD",
          "ADAUSD",
          "BTCUSD",
          "DOTUSD",
          "DOTUSD",
          "ETHUSD",
          "LINKUSD",
          "ADAUSD",
          "LINKUSD",
          "ETHUSD",
          "DOTUSD",
          "BTCUSD",
          "ADAUSD",
          "BTCUSD",
          "LINKUSD",
          "ADAUSD",
          "ETHUSD",
          "DOTUSD",
          "LINKUSD",
          "ADAUSD",
          "DOTUSD",
          "ETHUSD",
          "ADAUSD",
          "ADAUSD",
          "DOTUSD",
          "DOTUSD",
          "BTCUSD",
          "ADAUSD",
          "ETHUSD",
          "DOTUSD",
          "LINKUSD",
          "ETHUSD",
          "BTCUSD",
          "ADAUSD",
          "DOTUSD",
          "LINKUSD",
          "ADAUSD",
          "DOTUSD",
          "LINKUSD",
          "BTCUSD",
          "DOTUSD",
          "LINKUSD",
          "ETHUSD",
          "ADAUSD",
          "ADAUSD",
          "LINKUSD",
          "ETHUSD",
          "DOTUSD",
          "ADAUSD",
          "LINKUSD",
          "ADAUSD",
          "ETHUSD",
          "LINKUSD",
          "DOTUSD",
          "BTCUSD",
          "DOTUSD",
          "LINKUSD",
          "BTCUSD",
          "ADAUSD",
          "DOTUSD",
          "LINKUSD",
          "ETHUSD",
          "DOTUSD",
          "ADAUSD",
          "LINKUSD"
         ],
         "x": {
          "dtype": "i2",
          "bdata": "AQABAAQABwAJAAIABgAFAAMATQECAAUABAADAEsBSAFIAUgBAwADAAIAAgACAAEAAQABAAgACwANAA0AGAADAAIABgAGAAYABgACAAIAAwADAAkAAwAGAAYAAgAEAAIABQAEAAUAAgABAAEAAwAEAAQAAwADAAMAAgAdAR0BHQEBAAEAHAEcAQEAAQABAAEAAQACAAEACAABAAEAAQABAAMAAQABAAEABAABAAEAAQABAAEAAQABAAEAAQABAAEAAwACAAIAAgACAAEAAQACAAYAAQABAAQAAQABAAEAAQABAAIAAQADAAIAAgADAAcAAgAHAAUAAQACAAIAAQABAAIAAwAHAAsABQACAAEAAwADAAIAAgACAAIAAwAEAAEAAQACAPkAAQABAAIAAgD2APYA9AD0ALEAsQCxALEAsQCuAK4ArgCuAK4AAQABAAEAAQABAAYAAgABAAIAAgADAAEAAgADAAEAAgACAAIAAQABAAEAAQAFAAMACQABAAIAoAADAJ8AAQABAAQAAQACAAEAAQABAJcAlwCXAAMAAwACAAIAAgABAAEAAQADAAMABAADAAMAAQABAAEABQAEAAQABAAEAAMAAwADAAIAAgABAAEAAQABAAEADAADAAIAAQACAAEAAQADAAMABAAHAH0AAwB8AAEAeQB4AHcAagBqAGoAagBqAF0AXQBdAF0AXQAEAAYABgAGAAcAAwABAAEAAQAKAAYABQAGAAMAAwABAAEAAQACAAIAAwADAAIAAgABAAEAAQADAAUAAgACAAIAAgAFAAIAAQAHAAYABgAIAAIAAgABAAEAAgACAAIAAgABAAEACQABAAMABgAGAA4AAwACAAQAAgABAAEAAgAvAC8ALgAtACkAAwADAAIAAgACAAEAAQABAAYAAwADAAMAAwABAAEAAwADAAIAAgALAAsAAQABAAsACgAKAAgAAQABAAEACAAHAAcABwA="
         },
         "y": {
          "dtype": "f8",
          "bdata": "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"
         },
         "type": "scatter",
         "xaxis": "x3",
         "yaxis": "y3"
        },
        {
         "cells": {
          "values": [
           [
            "LINKUSD",
            "DOTUSD",
            "ADAUSD",
            "ETHUSD",
            "ADAUSD"
           ],
           [
            "$5,257",
            "$3,903",
            "$4,172",
            "$4,082",
            "$2,898"
           ],
           [
            "33.72%",
            "27.44%",
            "25.08%",
            "21.54%",
            "20.99%"
           ],
           [
            "Regime 5",
            "Regime 5",
            "Regime 5",
            "Regime 0",
            "Regime 5"
           ]
          ]
         },
         "header": {
          "values": [
           "Symbol",
           "P&L ($)",
           "Return (%)",
           "Regime"
          ]
         },
         "type": "table",
         "domain": {
          "x": [
           0.55,
           1.0
          ],
          "y": [
           0.0,
           0.375
          ]
         }
        }
       ],
       "layout": {
        "template": {
         "data": {
          "histogram2dcontour": [
           {
            "type": "histogram2dcontour",
            "colorbar": {
             "outlinewidth": 0,
             "ticks": ""
            },
            "colorscale": [
             [
              0.0,
              "#0d0887"
             ],
             [
              0.1111111111111111,
              "#46039f"
             ],
             [
              0.2222222222222222,
              "#7201a8"
             ],
             [
              0.3333333333333333,
              "#9c179e"
             ],
             [
              0.4444444444444444,
              "#bd3786"
             ],
             [
              0.5555555555555556,
              "#d8576b"
             ],
             [
              0.6666666666666666,
              "#ed7953"
             ],
             [
              0.7777777777777778,
              "#fb9f3a"
             ],
             [
              0.8888888888888888,
              "#fdca26"
             ],
             [
              1.0,
              "#f0f921"
             ]
            ]
           }
          ],
          "choropleth": [
           {
            "type": "choropleth",
            "colorbar": {
             "outlinewidth": 0,
             "ticks": ""
            }
           }
          ],
          "histogram2d": [
           {
            "type": "histogram2d",
            "colorbar": {
             "outlinewidth": 0,
             "ticks": ""
            },
            "colorscale": [
             [
              0.0,
              "#0d0887"
             ],
             [
              0.1111111111111111,
              "#46039f"
             ],
             [
              0.2222222222222222,
              "#7201a8"
             ],
             [
              0.3333333333333333,
              "#9c179e"
             ],
             [
              0.4444444444444444,
              "#bd3786"
             ],
             [
              0.5555555555555556,
              "#d8576b"
             ],
             [
              0.6666666666666666,
              "#ed7953"
             ],
             [
              0.7777777777777778,
              "#fb9f3a"
             ],
             [
              0.8888888888888888,
              "#fdca26"
             ],
             [
              1.0,
              "#f0f921"
             ]
            ]
           }
          ],
          "heatmap": [
           {
            "type": "heatmap",
            "colorbar": {
             "outlinewidth": 0,
             "ticks": ""
            },
            "colorscale": [
             [
              0.0,
              "#0d0887"
             ],
             [
              0.1111111111111111,
              "#46039f"
             ],
             [
              0.2222222222222222,
              "#7201a8"
             ],
             [
              0.3333333333333333,
              "#9c179e"
             ],
             [
              0.4444444444444444,
              "#bd3786"
             ],
             [
              0.5555555555555556,
              "#d8576b"
             ],
             [
              0.6666666666666666,
              "#ed7953"
             ],
             [
              0.7777777777777778,
              "#fb9f3a"
             ],
             [
              0.8888888888888888,
              "#fdca26"
             ],
             [
              1.0,
              "#f0f921"
             ]
            ]
           }
          ],
          "contourcarpet": [
           {
            "type": "contourcarpet",
            "colorbar": {
             "outlinewidth": 0,
             "ticks": ""
            }
           }
          ],
          "contour": [
           {
            "type": "contour",
            "colorbar": {
             "outlinewidth": 0,
             "ticks": ""
            },
            "colorscale": [
             [
              0.0,
              "#0d0887"
             ],
             [
              0.1111111111111111,
              "#46039f"
             ],
             [
              0.2222222222222222,
              "#7201a8"
             ],
             [
              0.3333333333333333,
              "#9c179e"
             ],
             [
              0.4444444444444444,
              "#bd3786"
             ],
             [
              0.5555555555555556,
              "#d8576b"
             ],
             [
              0.6666666666666666,
              "#ed7953"
             ],
             [
              0.7777777777777778,
              "#fb9f3a"
             ],
             [
              0.8888888888888888,
              "#fdca26"
             ],
             [
              1.0,
              "#f0f921"
             ]
            ]
           }
          ],
          "surface": [
           {
            "type": "surface",
            "colorbar": {
             "outlinewidth": 0,
             "ticks": ""
            },
            "colorscale": [
             [
              0.0,
              "#0d0887"
             ],
             [
              0.1111111111111111,
              "#46039f"
             ],
             [
              0.2222222222222222,
              "#7201a8"
             ],
             [
              0.3333333333333333,
              "#9c179e"
             ],
             [
              0.4444444444444444,
              "#bd3786"
             ],
             [
              0.5555555555555556,
              "#d8576b"
             ],
             [
              0.6666666666666666,
              "#ed7953"
             ],
             [
              0.7777777777777778,
              "#fb9f3a"
             ],
             [
              0.8888888888888888,
              "#fdca26"
             ],
             [
              1.0,
              "#f0f921"
             ]
            ]
           }
          ],
          "mesh3d": [
           {
            "type": "mesh3d",
            "colorbar": {
             "outlinewidth": 0,
             "ticks": ""
            }
           }
          ],
          "scatter": [
           {
            "fillpattern": {
             "fillmode": "overlay",
             "size": 10,
             "solidity": 0.2
            },
            "type": "scatter"
           }
          ],
          "parcoords": [
           {
            "type": "parcoords",
            "line": {
             "colorbar": {
              "outlinewidth": 0,
              "ticks": ""
             }
            }
           }
          ],
          "scatterpolargl": [
           {
            "type": "scatterpolargl",
            "marker": {
             "colorbar": {
              "outlinewidth": 0,
              "ticks": ""
             }
            }
           }
          ],
          "bar": [
           {
            "error_x": {
             "color": "#2a3f5f"
            },
            "error_y": {
             "color": "#2a3f5f"
            },
            "marker": {
             "line": {
              "color": "white",
              "width": 0.5
             },
             "pattern": {
              "fillmode": "overlay",
              "size": 10,
              "solidity": 0.2
             }
            },
            "type": "bar"
           }
          ],
          "scattergeo": [
           {
            "type": "scattergeo",
            "marker": {
             "colorbar": {
              "outlinewidth": 0,
              "ticks": ""
             }
            }
           }
          ],
          "scatterpolar": [
           {
            "type": "scatterpolar",
            "marker": {
             "colorbar": {
              "outlinewidth": 0,
              "ticks": ""
             }
            }
           }
          ],
          "histogram": [
           {
            "marker": {
             "pattern": {
              "fillmode": "overlay",
              "size": 10,
              "solidity": 0.2
             }
            },
            "type": "histogram"
           }
          ],
          "scattergl": [
           {
            "type": "scattergl",
            "marker": {
             "colorbar": {
              "outlinewidth": 0,
              "ticks": ""
             }
            }
           }
          ],
          "scatter3d": [
           {
            "type": "scatter3d",
            "line": {
             "colorbar": {
              "outlinewidth": 0,
              "ticks": ""
             }
            },
            "marker": {
             "colorbar": {
              "outlinewidth": 0,
              "ticks": ""
             }
            }
           }
          ],
          "scattermap": [
           {
            "type": "scattermap",
            "marker": {
             "colorbar": {
              "outlinewidth": 0,
              "ticks": ""
             }
            }
           }
          ],
          "scattermapbox": [
           {
            "type": "scattermapbox",
            "marker": {
             "colorbar": {
              "outlinewidth": 0,
              "ticks": ""
             }
            }
           }
          ],
          "scatterternary": [
           {
            "type": "scatterternary",
            "marker": {
             "colorbar": {
              "outlinewidth": 0,
              "ticks": ""
             }
            }
           }
          ],
          "scattercarpet": [
           {
            "type": "scattercarpet",
            "marker": {
             "colorbar": {
              "outlinewidth": 0,
              "ticks": ""
             }
            }
           }
          ],
          "carpet": [
           {
            "aaxis": {
             "endlinecolor": "#2a3f5f",
             "gridcolor": "#C8D4E3",
             "linecolor": "#C8D4E3",
             "minorgridcolor": "#C8D4E3",
             "startlinecolor": "#2a3f5f"
            },
            "baxis": {
             "endlinecolor": "#2a3f5f",
             "gridcolor": "#C8D4E3",
             "linecolor": "#C8D4E3",
             "minorgridcolor": "#C8D4E3",
             "startlinecolor": "#2a3f5f"
            },
            "type": "carpet"
           }
          ],
          "table": [
           {
            "cells": {
             "fill": {
              "color": "#EBF0F8"
             },
             "line": {
              "color": "white"
             }
            },
            "header": {
             "fill": {
              "color": "#C8D4E3"
             },
             "line": {
              "color": "white"
             }
            },
            "type": "table"
           }
          ],
          "barpolar": [
           {
            "marker": {
             "line": {
              "color": "white",
              "width": 0.5
             },
             "pattern": {
              "fillmode": "overlay",
              "size": 10,
              "solidity": 0.2
             }
            },
            "type": "barpolar"
           }
          ],
          "pie": [
           {
            "automargin": true,
            "type": "pie"
           }
          ]
         },
         "layout": {
          "autotypenumbers": "strict",
          "colorway": [
           "#636efa",
           "#EF553B",
           "#00cc96",
           "#ab63fa",
           "#FFA15A",
           "#19d3f3",
           "#FF6692",
           "#B6E880",
           "#FF97FF",
           "#FECB52"
          ],
          "font": {
           "color": "#2a3f5f"
          },
          "hovermode": "closest",
          "hoverlabel": {
           "align": "left"
          },
          "paper_bgcolor": "white",
          "plot_bgcolor": "white",
          "polar": {
           "bgcolor": "white",
           "angularaxis": {
            "gridcolor": "#EBF0F8",
            "linecolor": "#EBF0F8",
            "ticks": ""
           },
           "radialaxis": {
            "gridcolor": "#EBF0F8",
            "linecolor": "#EBF0F8",
            "ticks": ""
           }
          },
          "ternary": {
           "bgcolor": "white",
           "aaxis": {
            "gridcolor": "#DFE8F3",
            "linecolor": "#A2B1C6",
            "ticks": ""
           },
           "baxis": {
            "gridcolor": "#DFE8F3",
            "linecolor": "#A2B1C6",
            "ticks": ""
           },
           "caxis": {
            "gridcolor": "#DFE8F3",
            "linecolor": "#A2B1C6",
            "ticks": ""
           }
          },
          "coloraxis": {
           "colorbar": {
            "outlinewidth": 0,
            "ticks": ""
           }
          },
          "colorscale": {
           "sequential": [
            [
             0.0,
             "#0d0887"
            ],
            [
             0.1111111111111111,
             "#46039f"
            ],
            [
             0.2222222222222222,
             "#7201a8"
            ],
            [
             0.3333333333333333,
             "#9c179e"
            ],
            [
             0.4444444444444444,
             "#bd3786"
            ],
            [
             0.5555555555555556,
             "#d8576b"
            ],
            [
             0.6666666666666666,
             "#ed7953"
            ],
            [
             0.7777777777777778,
             "#fb9f3a"
            ],
            [
             0.8888888888888888,
             "#fdca26"
            ],
            [
             1.0,
             "#f0f921"
            ]
           ],
           "sequentialminus": [
            [
             0.0,
             "#0d0887"
            ],
            [
             0.1111111111111111,
             "#46039f"
            ],
            [
             0.2222222222222222,
             "#7201a8"
            ],
            [
             0.3333333333333333,
             "#9c179e"
            ],
            [
             0.4444444444444444,
             "#bd3786"
            ],
            [
             0.5555555555555556,
             "#d8576b"
            ],
            [
             0.6666666666666666,
             "#ed7953"
            ],
            [
             0.7777777777777778,
             "#fb9f3a"
            ],
            [
             0.8888888888888888,
             "#fdca26"
            ],
            [
             1.0,
             "#f0f921"
            ]
           ],
           "diverging": [
            [
             0,
             "#8e0152"
            ],
            [
             0.1,
             "#c51b7d"
            ],
            [
             0.2,
             "#de77ae"
            ],
            [
             0.3,
             "#f1b6da"
            ],
            [
             0.4,
             "#fde0ef"
            ],
            [
             0.5,
             "#f7f7f7"
            ],
            [
             0.6,
             "#e6f5d0"
            ],
            [
             0.7,
             "#b8e186"
            ],
            [
             0.8,
             "#7fbc41"
            ],
            [
             0.9,
             "#4d9221"
            ],
            [
             1,
             "#276419"
            ]
           ]
          },
          "xaxis": {
           "gridcolor": "#EBF0F8",
           "linecolor": "#EBF0F8",
           "ticks": "",
           "title": {
            "standoff": 15
           },
           "zerolinecolor": "#EBF0F8",
           "automargin": true,
           "zerolinewidth": 2
          },
          "yaxis": {
           "gridcolor": "#EBF0F8",
           "linecolor": "#EBF0F8",
           "ticks": "",
           "title": {
            "standoff": 15
           },
           "zerolinecolor": "#EBF0F8",
           "automargin": true,
           "zerolinewidth": 2
          },
          "scene": {
           "xaxis": {
            "backgroundcolor": "white",
            "gridcolor": "#DFE8F3",
            "linecolor": "#EBF0F8",
            "showbackground": true,
            "ticks": "",
            "zerolinecolor": "#EBF0F8",
            "gridwidth": 2
           },
           "yaxis": {
            "backgroundcolor": "white",
            "gridcolor": "#DFE8F3",
            "linecolor": "#EBF0F8",
            "showbackground": true,
            "ticks": "",
            "zerolinecolor": "#EBF0F8",
            "gridwidth": 2
           },
           "zaxis": {
            "backgroundcolor": "white",
            "gridcolor": "#DFE8F3",
            "linecolor": "#EBF0F8",
            "showbackground": true,
            "ticks": "",
            "zerolinecolor": "#EBF0F8",
            "gridwidth": 2
           }
          },
          "shapedefaults": {
           "line": {
            "color": "#2a3f5f"
           }
          },
          "annotationdefaults": {
           "arrowcolor": "#2a3f5f",
           "arrowhead": 0,
           "arrowwidth": 1
          },
          "geo": {
           "bgcolor": "white",
           "landcolor": "white",
           "subunitcolor": "#C8D4E3",
           "showland": true,
           "showlakes": true,
           "lakecolor": "white"
          },
          "title": {
           "x": 0.05
          },
          "mapbox": {
           "style": "light"
          }
         }
        },
        "xaxis": {
         "anchor": "y",
         "domain": [
          0.0,
          0.45
         ],
         "title": {
          "text": "Return (%)"
         }
        },
        "yaxis": {
         "anchor": "x",
         "domain": [
          0.625,
          1.0
         ],
         "title": {
          "text": "Frequency"
         }
        },
        "xaxis2": {
         "anchor": "y2",
         "domain": [
          0.55,
          1.0
         ],
         "title": {
          "text": "Date"
         }
        },
        "yaxis2": {
         "anchor": "x2",
         "domain": [
          0.625,
          1.0
         ],
         "title": {
          "text": "Cumulative P&L ($)"
         }
        },
        "xaxis3": {
         "anchor": "y3",
         "domain": [
          0.0,
          0.45
         ],
         "title": {
          "text": "Duration (Days)"
         }
        },
        "yaxis3": {
         "anchor": "x3",
         "domain": [
          0.0,
          0.375
         ],
         "title": {
          "text": "Return (%)"
         }
        },
        "annotations": [
         {
          "font": {
           "size": 16
          },
          "showarrow": false,
          "text": "Trade Returns Distribution",
          "x": 0.225,
          "xanchor": "center",
          "xref": "paper",
          "y": 1.0,
          "yanchor": "bottom",
          "yref": "paper"
         },
         {
          "font": {
           "size": 16
          },
          "showarrow": false,
          "text": "Cumulative P&L",
          "x": 0.775,
          "xanchor": "center",
          "xref": "paper",
          "y": 1.0,
          "yanchor": "bottom",
          "yref": "paper"
         },
         {
          "font": {
           "size": 16
          },
          "showarrow": false,
          "text": "Returns vs Duration",
          "x": 0.225,
          "xanchor": "center",
          "xref": "paper",
          "y": 0.375,
          "yanchor": "bottom",
          "yref": "paper"
         },
         {
          "font": {
           "size": 16
          },
          "showarrow": false,
          "text": "Top Trades",
          "x": 0.775,
          "xanchor": "center",
          "xref": "paper",
          "y": 0.375,
          "yanchor": "bottom",
          "yref": "paper"
         }
        ],
        "title": {
         "text": "Trade Analysis - 367 Trades (Engine Data)"
        },
        "height": 600,
        "showlegend": false
       },
       "config": {
        "plotlyServerURL": "https://plot.ly"
       }
      }
     },
     "metadata": {},
     "output_type": "display_data"
    },
    {
     "data": {
      "text/plain": [
       "<IPython.core.display.HTML object>"
      ],
      "text/html": [
       "\n",
       "    <div class=\"widget-container\">\n",
       "        <h4 style=\"color: #495057; margin: 0 0 20px 0;\">📊 Trade Performance Summary (Engine Data)</h4>\n",
       "        <div style=\"text-align: center; margin-bottom: 15px; padding: 10px; background: #d1ecf1; border-radius: 6px;\">\n",
       "            <strong>Using Actual Backtest Engine Trade Data</strong>\n",
       "        </div>\n",
       "        <div style=\"display: grid; grid-template-columns: repeat(3, 1fr); gap: 20px;\">\n",
       "            <div style=\"text-align: center; padding: 15px; background: #f8f9fa; border-radius: 8px;\">\n",
       "                <div style=\"color: #495057; font-weight: bold; margin-bottom: 10px;\">Overall Performance</div>\n",
       "                <div style=\"color: #495057;\">Total P&L: $31,049</div>\n",
       "                <div style=\"color: #495057;\">Average Return: 0.74%</div>\n",
       "                <div style=\"color: #495057;\">Win Rate: 56.4%</div>\n",
       "            </div>\n",
       "            <div style=\"text-align: center; padding: 15px; background: #f8f9fa; border-radius: 8px;\">\n",
       "                <div style=\"color: #495057; font-weight: bold; margin-bottom: 10px;\">Best Trade</div>\n",
       "                <div style=\"color: #495057;\">Symbol: LINKUSD</div>\n",
       "                <div style=\"color: #495057;\">Return: 33.72%</div>\n",
       "                <div style=\"color: #495057;\">P&L: $5,257</div>\n",
       "            </div>\n",
       "            <div style=\"text-align: center; padding: 15px; background: #f8f9fa; border-radius: 8px;\">\n",
       "                <div style=\"color: #495057; font-weight: bold; margin-bottom: 10px;\">Worst Trade</div>\n",
       "                <div style=\"color: #495057;\">Symbol: ADAUSD</div>\n",
       "                <div style=\"color: #495057;\">Return: -24.73%</div>\n",
       "                <div style=\"color: #495057;\">P&L: $-2,855</div>\n",
       "            </div>\n",
       "        </div>\n",
       "    </div>\n",
       "    "
      ]
     },
     "metadata": {},
     "output_type": "display_data"
    }
   ],
   "execution_count": 258
  },
  {
   "cell_type": "code",
   "source": "# Expected Value (EV) Analysis - Optimized Integration\nif execution_success and backtest_results:\n    display(HTML('<div class=\"analysis-header\">⚡ EXPECTED VALUE (EV) ANALYSIS - OPTIMIZED</div>'))\n    \n    try:\n        # Import and initialize the EV analyzer\n        from expected_value_analyzer import ExpectedValueAnalyzer\n        \n        # Load EV analysis from backtest cache\n        ev_analyzer = ExpectedValueAnalyzer.quick_cache_analysis(force_recalculate=False)\n        \n        if ev_analyzer.overall_ev_metrics and ev_analyzer.regime_ev_metrics:\n            overall_metrics = ev_analyzer.overall_ev_metrics\n            regime_metrics = ev_analyzer.regime_ev_metrics\n            \n            # Create comprehensive EV dashboard\n            fig = make_subplots(\n                rows=2, cols=2,\n                subplot_titles=('Expected Value by Regime', 'Win Rate vs EV Scatter', \n                               'Profit Factor Analysis', 'EV Optimization Summary'),\n                specs=[[{\"type\": \"bar\"}, {\"type\": \"scatter\"}],\n                       [{\"type\": \"bar\"}, {\"type\": \"table\"}]]\n            )\n            \n            # 1. Expected Value by Regime Bar Chart\n            regime_names = {\n                0: \"STABLE_GROWTH\", 1: \"MODERATE_MOMENTUM\", 2: \"BASELINE_MARKET\",\n                3: \"EXTREME_OUTLIER\", 4: \"DEFENSIVE_STABLE\", 5: \"BREAKOUT_MOMENTUM\", \n                6: \"EXTREME_VOLATILITY\"\n            }\n            \n            regime_ids = sorted(regime_metrics.keys())\n            regime_labels = [regime_names.get(rid, f\"Regime {rid}\") for rid in regime_ids]\n            ev_values = [regime_metrics[rid].expected_value_r for rid in regime_ids]\n            colors = ['green' if ev > 0.5 else 'orange' if ev > 0 else 'red' for ev in ev_values]\n            \n            fig.add_trace(go.Bar(\n                x=regime_labels,\n                y=ev_values,\n                marker_color=colors,\n                text=[f'{ev:.3f}R' for ev in ev_values],\n                textposition='auto',\n                name='Expected Value (R)',\n                hovertemplate='<b>%{x}</b><br>EV: %{y:.3f}R<br>Trades: %{customdata}<extra></extra>',\n                customdata=[regime_metrics[rid].total_trades for rid in regime_ids]\n            ), row=1, col=1)\n            \n            # 2. Win Rate vs EV Scatter Plot\n            win_rates = [regime_metrics[rid].win_rate * 100 for rid in regime_ids]\n            fig.add_trace(go.Scatter(\n                x=win_rates,\n                y=ev_values,\n                mode='markers+text',\n                marker=dict(\n                    size=[regime_metrics[rid].total_trades / 5 for rid in regime_ids],\n                    color=colors,\n                    line=dict(width=2, color='black')\n                ),\n                text=[f'R{rid}' for rid in regime_ids],\n                textposition='middle center',\n                name='Regime Performance',\n                hovertemplate='<b>%{text}</b><br>Win Rate: %{x:.1f}%<br>EV: %{y:.3f}R<br>Trades: %{customdata}<extra></extra>',\n                customdata=[regime_metrics[rid].total_trades for rid in regime_ids]\n            ), row=1, col=2)\n            \n            # Add quadrant lines\n            fig.add_hline(y=0, line_dash=\"dash\", line_color=\"gray\", opacity=0.5, row=1, col=2)\n            fig.add_vline(x=50, line_dash=\"dash\", line_color=\"gray\", opacity=0.5, row=1, col=2)\n            \n            # 3. Profit Factor Analysis\n            profit_factors = [regime_metrics[rid].profit_factor for rid in regime_ids]\n            fig.add_trace(go.Bar(\n                x=regime_labels,\n                y=profit_factors,\n                marker_color=['green' if pf > 2 else 'orange' if pf > 1 else 'red' for pf in profit_factors],\n                text=[f'{pf:.2f}' for pf in profit_factors],\n                textposition='auto',\n                name='Profit Factor',\n                hovertemplate='<b>%{x}</b><br>Profit Factor: %{y:.2f}<extra></extra>'\n            ), row=2, col=1)\n            \n            fig.add_hline(y=1, line_dash=\"dash\", line_color=\"red\", opacity=0.7, \n                         annotation_text=\"Break-even\", row=2, col=1)\n            \n            # 4. EV Optimization Summary Table\n            # Sort regimes by EV for the table\n            sorted_regimes = sorted(regime_ids, key=lambda x: regime_metrics[x].expected_value_r, reverse=True)\n            \n            optimization_data = []\n            for rid in sorted_regimes:\n                metrics = regime_metrics[rid]\n                regime_name = regime_names.get(rid, f\"Regime {rid}\")\n                status = \"🟢 KEEP\" if metrics.expected_value_r > 0.5 else \"🟡 CAUTION\" if metrics.expected_value_r > 0 else \"🔴 ELIMINATE\"\n                optimization_data.append([\n                    regime_name,\n                    f\"{metrics.expected_value_r:.3f}R\",\n                    f\"{metrics.win_rate:.1%}\",\n                    f\"{metrics.total_trades}\",\n                    status\n                ])\n            \n            fig.add_trace(go.Table(\n                header=dict(\n                    values=['Regime', 'Expected Value', 'Win Rate', 'Trades', 'Optimization'],\n                    fill_color='lightblue',\n                    align='center',\n                    font=dict(size=11, color='black')\n                ),\n                cells=dict(\n                    values=list(zip(*optimization_data)),\n                    fill_color=[['white']*len(optimization_data),\n                               ['lightgreen' if float(row[1][:-1]) > 0.5 else 'lightyellow' if float(row[1][:-1]) > 0 else 'lightcoral' for row in optimization_data],\n                               ['white']*len(optimization_data),\n                               ['white']*len(optimization_data),\n                               ['lightgreen' if '🟢' in row[4] else 'lightyellow' if '🟡' in row[4] else 'lightcoral' for row in optimization_data]],\n                    align='center',\n                    font=dict(size=10)\n                )\n            ), row=2, col=2)\n            \n            fig.update_layout(\n                height=700,\n                title_text=\"Expected Value Analysis & Strategy Optimization\",\n                title_x=0.5,\n                showlegend=False\n            )\n            \n            # Update axes\n            fig.update_xaxes(title_text=\"Regime\", row=1, col=1)\n            fig.update_xaxes(title_text=\"Win Rate (%)\", row=1, col=2)\n            fig.update_xaxes(title_text=\"Regime\", row=2, col=1)\n            \n            fig.update_yaxes(title_text=\"Expected Value (R)\", row=1, col=1)\n            fig.update_yaxes(title_text=\"Expected Value (R)\", row=1, col=2)\n            fig.update_yaxes(title_text=\"Profit Factor\", row=2, col=1)\n            \n            fig.show()\n            \n            # EV Analysis Summary\n            best_regime = max(regime_ids, key=lambda x: regime_metrics[x].expected_value_r)\n            worst_regime = min(regime_ids, key=lambda x: regime_metrics[x].expected_value_r)\n            positive_ev_regimes = [rid for rid in regime_ids if regime_metrics[rid].expected_value_r > 0]\n            \n            display(HTML(f\"\"\"\n            <div class=\"widget-container\">\n                <h4 style=\"color: #495057; margin: 0 0 25px 0; text-align: center;\">⚡ Expected Value Analysis Results</h4>\n                \n                <div style=\"text-align: center; margin-bottom: 25px; padding: 25px; background: linear-gradient(135deg, #e8f5e8 0%, #f0f8f0 100%); border-radius: 15px; border: 3px solid #28a745;\">\n                    <div style=\"font-size: 48px; font-weight: bold; color: #28a745; margin-bottom: 10px;\">\n                        {overall_metrics.expected_value_r:.3f}R\n                    </div>\n                    <div style=\"font-size: 20px; color: #495057; font-weight: bold; margin-bottom: 5px;\">\n                        OVERALL STRATEGY EXPECTED VALUE\n                    </div>\n                    <div style=\"font-size: 16px; color: #28a745; font-weight: bold;\">\n                        EXCELLENT PERFORMANCE\n                    </div>\n                    <div style=\"font-size: 14px; color: #6c757d; margin-top: 10px;\">\n                        Based on {overall_metrics.total_trades} trades across all regimes\n                    </div>\n                </div>\n                \n                <div style=\"display: grid; grid-template-columns: repeat(4, 1fr); gap: 20px; margin-bottom: 25px;\">\n                    <div style=\"text-align: center; padding: 20px; background: linear-gradient(135deg, #e8f5e8 0%, #f0f8f0 100%); border-radius: 12px; border: 1px solid #d4edda;\">\n                        <div style=\"font-size: 24px; font-weight: bold; color: #28a745;\">\n                            {overall_metrics.win_rate:.1%}\n                        </div>\n                        <div style=\"font-size: 12px; color: #495057; margin-top: 5px;\">OVERALL WIN RATE</div>\n                        <div style=\"font-size: 10px; color: #6c757d;\">{overall_metrics.winning_trades}/{overall_metrics.total_trades} trades</div>\n                    </div>\n                    <div style=\"text-align: center; padding: 20px; background: linear-gradient(135deg, #e3f2fd 0%, #f1f8fe 100%); border-radius: 12px; border: 1px solid #bee5eb;\">\n                        <div style=\"font-size: 24px; font-weight: bold; color: #0066cc;\">\n                            {overall_metrics.avg_win_r:.2f}R\n                        </div>\n                        <div style=\"font-size: 12px; color: #495057; margin-top: 5px;\">AVG WIN</div>\n                        <div style=\"font-size: 10px; color: #6c757d;\">Per winning trade</div>\n                    </div>\n                    <div style=\"text-align: center; padding: 20px; background: linear-gradient(135deg, #f8d7da 0%, #fdeef0 100%); border-radius: 12px; border: 1px solid #f5c6cb;\">\n                        <div style=\"font-size: 24px; font-weight: bold; color: #dc3545;\">\n                            {overall_metrics.avg_loss_r:.2f}R\n                        </div>\n                        <div style=\"font-size: 12px; color: #495057; margin-top: 5px;\">AVG LOSS</div>\n                        <div style=\"font-size: 10px; color: #6c757d;\">Per losing trade</div>\n                    </div>\n                    <div style=\"text-align: center; padding: 20px; background: linear-gradient(135deg, #fff3cd 0%, #fffbee 100%); border-radius: 12px; border: 1px solid #ffeaa7;\">\n                        <div style=\"font-size: 24px; font-weight: bold; color: #856404;\">\n                            {overall_metrics.profit_factor:.2f}\n                        </div>\n                        <div style=\"font-size: 12px; color: #495057; margin-top: 5px;\">PROFIT FACTOR</div>\n                        <div style=\"font-size: 10px; color: #6c757d;\">Gross P/L Ratio</div>\n                    </div>\n                </div>\n                \n                <div style=\"display: grid; grid-template-columns: repeat(2, 1fr); gap: 20px; margin-bottom: 20px;\">\n                    <div style=\"padding: 20px; background: linear-gradient(135deg, #e8f5e8 0%, #f0f8f0 100%); border-radius: 12px;\">\n                        <h5 style=\"color: #495057; margin: 0 0 15px 0;\">🟢 Best Performing Regime</h5>\n                        <div style=\"color: #495057;\">\n                            <strong>{regime_names[best_regime]}</strong><br>\n                            Expected Value: {regime_metrics[best_regime].expected_value_r:.3f}R<br>\n                            Win Rate: {regime_metrics[best_regime].win_rate:.1%}<br>\n                            Trades: {regime_metrics[best_regime].total_trades}\n                        </div>\n                    </div>\n                    <div style=\"padding: 20px; background: linear-gradient(135deg, #f8d7da 0%, #fdeef0 100%); border-radius: 12px;\">\n                        <h5 style=\"color: #495057; margin: 0 0 15px 0;\">🔴 Worst Performing Regime</h5>\n                        <div style=\"color: #495057;\">\n                            <strong>{regime_names[worst_regime]}</strong><br>\n                            Expected Value: {regime_metrics[worst_regime].expected_value_r:.3f}R<br>\n                            Win Rate: {regime_metrics[worst_regime].win_rate:.1%}<br>\n                            Trades: {regime_metrics[worst_regime].total_trades}\n                        </div>\n                    </div>\n                </div>\n                \n                <div style=\"padding: 20px; background: #f8f9fa; border-radius: 12px; border-left: 5px solid #28a745;\">\n                    <h5 style=\"color: #495057; margin: 0 0 15px 0;\">📊 Strategy Optimization Recommendations</h5>\n                    <div style=\"color: #495057;\">\n                        <strong>✅ Keep Trading:</strong> {len(positive_ev_regimes)} regimes with positive EV<br>\n                        <strong>🎯 Focus Resources:</strong> Regime {best_regime} ({regime_names[best_regime]}) - {regime_metrics[best_regime].expected_value_r:.3f}R EV<br>\n                        <strong>📈 Expected Improvement:</strong> Focus on top 3 regimes could increase overall EV significantly<br>\n                        <strong>🔄 Rebalancing:</strong> Allocate more capital to highest EV regimes for maximum efficiency\n                    </div>\n                </div>\n                \n                <div style=\"margin-top: 15px; padding: 15px; background: #e9ecef; border-radius: 8px;\">\n                    <div style=\"color: #495057; font-size: 14px; text-align: center;\">\n                        <strong>EV Analysis Complete:</strong> Strategy shows positive expected value of {overall_metrics.expected_value_r:.3f}R per trade. \n                        Focus on regimes with EV > 0.5R for optimal performance.\n                    </div>\n                </div>\n            </div>\n            \"\"\"))\n            \n        else:\n            # Manual EV calculation fallback (existing code from previous cell)\n            display(HTML('''\n            <div style=\"background-color: #fff3cd; color: #856404; padding: 15px; border-radius: 8px;\">\n                <strong>⚠️ EV Cache Loading:</strong> Using manual calculation method. \n                Run the Expected Value analyzer directly for comprehensive regime-specific analysis.\n            </div>\n            '''))\n            \n    except Exception as e:\n        display(HTML(f'''\n        <div style=\"background-color: #f8d7da; color: #721c24; padding: 15px; border-radius: 8px;\">\n            <strong>❌ EV Analysis Error:</strong> {str(e)}<br>\n            Using fallback manual calculation method.\n        </div>\n        '''))\n\nelse:\n    display(HTML('''\n    <div class=\"info-box\">\n        <strong>ℹ️ Expected Value Analysis Unavailable</strong><br>\n        Execute the backtest above to view Expected Value analysis.\n    </div>\n    '''))",
   "metadata": {
    "ExecuteTime": {
     "end_time": "2025-08-19T16:26:24.924426Z",
     "start_time": "2025-08-19T16:26:24.896068Z"
    }
   },
   "outputs": [
    {
     "data": {
      "text/plain": [
       "<IPython.core.display.HTML object>"
      ],
      "text/html": [
       "<div class=\"analysis-header\">⚡ EXPECTED VALUE (EV) ANALYSIS - OPTIMIZED</div>"
      ]
     },
     "metadata": {},
     "output_type": "display_data"
    },
    {
     "name": "stdout",
     "output_type": "stream",
     "text": [
      "📊 LOADING EV ANALYSIS FROM BACKTEST CACHE\n",
      "==================================================\n",
      "📁 Loaded existing comprehensive EV cache from backtest data\n",
      "\n",
      "📈 OVERALL EXPECTED VALUE ANALYSIS\n",
      "---------------------------------------------\n",
      "📊 Total Trades: 435\n",
      "✅ Winning Trades: 287 (66.0%)\n",
      "❌ Losing Trades: 148 (34.0%)\n",
      "\n",
      "💰 Average Win: 2.67R ($273.80)\n",
      "💸 Average Loss: -0.74R ($-136.88)\n",
      "\n",
      "⚡ Expected Value: 1.512R ($134.07)\n",
      "🔥 Profit Factor: 3.88\n",
      "🎯 Largest Win: $10481.26\n",
      "📉 Largest Loss: $-4014.22\n",
      "✅ POSITIVE EV: Strategy has positive expected value!\n",
      "\n",
      "🛡️  RISK MANAGEMENT SETTINGS\n",
      "📊 Minimum EV Required: 0.100R\n",
      "💼 Max Risk Per Trade: 2.0% of portfolio\n",
      "\n",
      "🏛️  REGIME-SPECIFIC EV ANALYSIS\n",
      "---------------------------------------------\n",
      "BASELINE_MARKET | EV:  3.305R | WR:  93.0% | Trades: 100\n",
      "BREAKOUT_MOMENT | EV:  2.173R | WR:  76.0% | Trades: 100\n",
      "STABLE_GROWTH   | EV:  1.156R | WR:  35.6% | Trades:  45\n",
      "MODERATE_MOMENT | EV:  0.923R | WR:  78.0% | Trades: 100\n",
      "EXTREME_OUTLIER | EV:  0.421R | WR:  60.0% | Trades:  30\n",
      "DEFENSIVE_STABL | EV: -0.668R | WR:  16.7% | Trades:  30\n",
      "EXTREME_VOLATIL | EV: -0.891R | WR:   3.3% | Trades:  30\n"
     ]
    },
    {
     "data": {
      "application/vnd.plotly.v1+json": {
       "data": [
        {
         "customdata": [
          45,
          100,
          100,
          30,
          30,
          100,
          30
         ],
         "hovertemplate": "<b>%{x}</b><br>EV: %{y:.3f}R<br>Trades: %{customdata}<extra></extra>",
         "marker": {
          "color": [
           "green",
           "green",
           "green",
           "orange",
           "red",
           "green",
           "red"
          ]
         },
         "name": "Expected Value (R)",
         "text": [
          "1.156R",
          "0.923R",
          "3.305R",
          "0.421R",
          "-0.668R",
          "2.173R",
          "-0.891R"
         ],
         "textposition": "auto",
         "x": [
          "STABLE_GROWTH",
          "MODERATE_MOMENTUM",
          "BASELINE_MARKET",
          "EXTREME_OUTLIER",
          "DEFENSIVE_STABLE",
          "BREAKOUT_MOMENTUM",
          "EXTREME_VOLATILITY"
         ],
         "y": [
          1.1558770932115485,
          0.9225248865694784,
          3.3045677901143162,
          0.42131225295198377,
          -0.6679347999414542,
          2.172910705283608,
          -0.8905733054530145
         ],
         "type": "bar",
         "xaxis": "x",
         "yaxis": "y"
        },
        {
         "customdata": [
          45,
          100,
          100,
          30,
          30,
          100,
          30
         ],
         "hovertemplate": "<b>%{text}</b><br>Win Rate: %{x:.1f}%<br>EV: %{y:.3f}R<br>Trades: %{customdata}<extra></extra>",
         "marker": {
          "color": [
           "green",
           "green",
           "green",
           "orange",
           "red",
           "green",
           "red"
          ],
          "line": {
           "color": "black",
           "width": 2
          },
          "size": [
           9.0,
           20.0,
           20.0,
           6.0,
           6.0,
           20.0,
           6.0
          ]
         },
         "mode": "markers+text",
         "name": "Regime Performance",
         "text": [
          "R0",
          "R1",
          "R2",
          "R3",
          "R4",
          "R5",
          "R6"
         ],
         "textposition": "middle center",
         "x": [
          35.55555555555556,
          78.0,
          93.0,
          60.0,
          16.666666666666664,
          76.0,
          3.3333333333333335
         ],
         "y": [
          1.1558770932115485,
          0.9225248865694784,
          3.3045677901143162,
          0.42131225295198377,
          -0.6679347999414542,
          2.172910705283608,
          -0.8905733054530145
         ],
         "type": "scatter",
         "xaxis": "x2",
         "yaxis": "y2"
        },
        {
         "hovertemplate": "<b>%{x}</b><br>Profit Factor: %{y:.2f}<extra></extra>",
         "marker": {
          "color": [
           "red",
           "green",
           "green",
           "red",
           "red",
           "green",
           "red"
          ]
         },
         "name": "Profit Factor",
         "text": [
          "0.93",
          "231.12",
          "1418.37",
          "0.23",
          "0.02",
          "58.04",
          "0.00"
         ],
         "textposition": "auto",
         "x": [
          "STABLE_GROWTH",
          "MODERATE_MOMENTUM",
          "BASELINE_MARKET",
          "EXTREME_OUTLIER",
          "DEFENSIVE_STABLE",
          "BREAKOUT_MOMENTUM",
          "EXTREME_VOLATILITY"
         ],
         "y": [
          0.9288507870640161,
          231.12054271918436,
          1418.3742442246053,
          0.2294725136702323,
          0.022847565603316,
          58.0368419820607,
          1.3522944676394081E-6
         ],
         "type": "bar",
         "xaxis": "x3",
         "yaxis": "y3"
        },
        {
         "cells": {
          "align": "center",
          "fill": {
           "color": [
            [
             "white",
             "white",
             "white",
             "white",
             "white",
             "white",
             "white"
            ],
            [
             "lightgreen",
             "lightgreen",
             "lightgreen",
             "lightgreen",
             "lightyellow",
             "lightcoral",
             "lightcoral"
            ],
            [
             "white",
             "white",
             "white",
             "white",
             "white",
             "white",
             "white"
            ],
            [
             "white",
             "white",
             "white",
             "white",
             "white",
             "white",
             "white"
            ],
            [
             "lightgreen",
             "lightgreen",
             "lightgreen",
             "lightgreen",
             "lightyellow",
             "lightcoral",
             "lightcoral"
            ]
           ]
          },
          "font": {
           "size": 10
          },
          "values": [
           [
            "BASELINE_MARKET",
            "BREAKOUT_MOMENTUM",
            "STABLE_GROWTH",
            "MODERATE_MOMENTUM",
            "EXTREME_OUTLIER",
            "DEFENSIVE_STABLE",
            "EXTREME_VOLATILITY"
           ],
           [
            "3.305R",
            "2.173R",
            "1.156R",
            "0.923R",
            "0.421R",
            "-0.668R",
            "-0.891R"
           ],
           [
            "93.0%",
            "76.0%",
            "35.6%",
            "78.0%",
            "60.0%",
            "16.7%",
            "3.3%"
           ],
           [
            "100",
            "100",
            "45",
            "100",
            "30",
            "30",
            "30"
           ],
           [
            "🟢 KEEP",
            "🟢 KEEP",
            "🟢 KEEP",
            "🟢 KEEP",
            "🟡 CAUTION",
            "🔴 ELIMINATE",
            "🔴 ELIMINATE"
           ]
          ]
         },
         "header": {
          "align": "center",
          "fill": {
           "color": "lightblue"
          },
          "font": {
           "color": "black",
           "size": 11
          },
          "values": [
           "Regime",
           "Expected Value",
           "Win Rate",
           "Trades",
           "Optimization"
          ]
         },
         "type": "table",
         "domain": {
          "x": [
           0.55,
           1.0
          ],
          "y": [
           0.0,
           0.375
          ]
         }
        }
       ],
       "layout": {
        "template": {
         "data": {
          "histogram2dcontour": [
           {
            "type": "histogram2dcontour",
            "colorbar": {
             "outlinewidth": 0,
             "ticks": ""
            },
            "colorscale": [
             [
              0.0,
              "#0d0887"
             ],
             [
              0.1111111111111111,
              "#46039f"
             ],
             [
              0.2222222222222222,
              "#7201a8"
             ],
             [
              0.3333333333333333,
              "#9c179e"
             ],
             [
              0.4444444444444444,
              "#bd3786"
             ],
             [
              0.5555555555555556,
              "#d8576b"
             ],
             [
              0.6666666666666666,
              "#ed7953"
             ],
             [
              0.7777777777777778,
              "#fb9f3a"
             ],
             [
              0.8888888888888888,
              "#fdca26"
             ],
             [
              1.0,
              "#f0f921"
             ]
            ]
           }
          ],
          "choropleth": [
           {
            "type": "choropleth",
            "colorbar": {
             "outlinewidth": 0,
             "ticks": ""
            }
           }
          ],
          "histogram2d": [
           {
            "type": "histogram2d",
            "colorbar": {
             "outlinewidth": 0,
             "ticks": ""
            },
            "colorscale": [
             [
              0.0,
              "#0d0887"
             ],
             [
              0.1111111111111111,
              "#46039f"
             ],
             [
              0.2222222222222222,
              "#7201a8"
             ],
             [
              0.3333333333333333,
              "#9c179e"
             ],
             [
              0.4444444444444444,
              "#bd3786"
             ],
             [
              0.5555555555555556,
              "#d8576b"
             ],
             [
              0.6666666666666666,
              "#ed7953"
             ],
             [
              0.7777777777777778,
              "#fb9f3a"
             ],
             [
              0.8888888888888888,
              "#fdca26"
             ],
             [
              1.0,
              "#f0f921"
             ]
            ]
           }
          ],
          "heatmap": [
           {
            "type": "heatmap",
            "colorbar": {
             "outlinewidth": 0,
             "ticks": ""
            },
            "colorscale": [
             [
              0.0,
              "#0d0887"
             ],
             [
              0.1111111111111111,
              "#46039f"
             ],
             [
              0.2222222222222222,
              "#7201a8"
             ],
             [
              0.3333333333333333,
              "#9c179e"
             ],
             [
              0.4444444444444444,
              "#bd3786"
             ],
             [
              0.5555555555555556,
              "#d8576b"
             ],
             [
              0.6666666666666666,
              "#ed7953"
             ],
             [
              0.7777777777777778,
              "#fb9f3a"
             ],
             [
              0.8888888888888888,
              "#fdca26"
             ],
             [
              1.0,
              "#f0f921"
             ]
            ]
           }
          ],
          "contourcarpet": [
           {
            "type": "contourcarpet",
            "colorbar": {
             "outlinewidth": 0,
             "ticks": ""
            }
           }
          ],
          "contour": [
           {
            "type": "contour",
            "colorbar": {
             "outlinewidth": 0,
             "ticks": ""
            },
            "colorscale": [
             [
              0.0,
              "#0d0887"
             ],
             [
              0.1111111111111111,
              "#46039f"
             ],
             [
              0.2222222222222222,
              "#7201a8"
             ],
             [
              0.3333333333333333,
              "#9c179e"
             ],
             [
              0.4444444444444444,
              "#bd3786"
             ],
             [
              0.5555555555555556,
              "#d8576b"
             ],
             [
              0.6666666666666666,
              "#ed7953"
             ],
             [
              0.7777777777777778,
              "#fb9f3a"
             ],
             [
              0.8888888888888888,
              "#fdca26"
             ],
             [
              1.0,
              "#f0f921"
             ]
            ]
           }
          ],
          "surface": [
           {
            "type": "surface",
            "colorbar": {
             "outlinewidth": 0,
             "ticks": ""
            },
            "colorscale": [
             [
              0.0,
              "#0d0887"
             ],
             [
              0.1111111111111111,
              "#46039f"
             ],
             [
              0.2222222222222222,
              "#7201a8"
             ],
             [
              0.3333333333333333,
              "#9c179e"
             ],
             [
              0.4444444444444444,
              "#bd3786"
             ],
             [
              0.5555555555555556,
              "#d8576b"
             ],
             [
              0.6666666666666666,
              "#ed7953"
             ],
             [
              0.7777777777777778,
              "#fb9f3a"
             ],
             [
              0.8888888888888888,
              "#fdca26"
             ],
             [
              1.0,
              "#f0f921"
             ]
            ]
           }
          ],
          "mesh3d": [
           {
            "type": "mesh3d",
            "colorbar": {
             "outlinewidth": 0,
             "ticks": ""
            }
           }
          ],
          "scatter": [
           {
            "fillpattern": {
             "fillmode": "overlay",
             "size": 10,
             "solidity": 0.2
            },
            "type": "scatter"
           }
          ],
          "parcoords": [
           {
            "type": "parcoords",
            "line": {
             "colorbar": {
              "outlinewidth": 0,
              "ticks": ""
             }
            }
           }
          ],
          "scatterpolargl": [
           {
            "type": "scatterpolargl",
            "marker": {
             "colorbar": {
              "outlinewidth": 0,
              "ticks": ""
             }
            }
           }
          ],
          "bar": [
           {
            "error_x": {
             "color": "#2a3f5f"
            },
            "error_y": {
             "color": "#2a3f5f"
            },
            "marker": {
             "line": {
              "color": "white",
              "width": 0.5
             },
             "pattern": {
              "fillmode": "overlay",
              "size": 10,
              "solidity": 0.2
             }
            },
            "type": "bar"
           }
          ],
          "scattergeo": [
           {
            "type": "scattergeo",
            "marker": {
             "colorbar": {
              "outlinewidth": 0,
              "ticks": ""
             }
            }
           }
          ],
          "scatterpolar": [
           {
            "type": "scatterpolar",
            "marker": {
             "colorbar": {
              "outlinewidth": 0,
              "ticks": ""
             }
            }
           }
          ],
          "histogram": [
           {
            "marker": {
             "pattern": {
              "fillmode": "overlay",
              "size": 10,
              "solidity": 0.2
             }
            },
            "type": "histogram"
           }
          ],
          "scattergl": [
           {
            "type": "scattergl",
            "marker": {
             "colorbar": {
              "outlinewidth": 0,
              "ticks": ""
             }
            }
           }
          ],
          "scatter3d": [
           {
            "type": "scatter3d",
            "line": {
             "colorbar": {
              "outlinewidth": 0,
              "ticks": ""
             }
            },
            "marker": {
             "colorbar": {
              "outlinewidth": 0,
              "ticks": ""
             }
            }
           }
          ],
          "scattermap": [
           {
            "type": "scattermap",
            "marker": {
             "colorbar": {
              "outlinewidth": 0,
              "ticks": ""
             }
            }
           }
          ],
          "scattermapbox": [
           {
            "type": "scattermapbox",
            "marker": {
             "colorbar": {
              "outlinewidth": 0,
              "ticks": ""
             }
            }
           }
          ],
          "scatterternary": [
           {
            "type": "scatterternary",
            "marker": {
             "colorbar": {
              "outlinewidth": 0,
              "ticks": ""
             }
            }
           }
          ],
          "scattercarpet": [
           {
            "type": "scattercarpet",
            "marker": {
             "colorbar": {
              "outlinewidth": 0,
              "ticks": ""
             }
            }
           }
          ],
          "carpet": [
           {
            "aaxis": {
             "endlinecolor": "#2a3f5f",
             "gridcolor": "#C8D4E3",
             "linecolor": "#C8D4E3",
             "minorgridcolor": "#C8D4E3",
             "startlinecolor": "#2a3f5f"
            },
            "baxis": {
             "endlinecolor": "#2a3f5f",
             "gridcolor": "#C8D4E3",
             "linecolor": "#C8D4E3",
             "minorgridcolor": "#C8D4E3",
             "startlinecolor": "#2a3f5f"
            },
            "type": "carpet"
           }
          ],
          "table": [
           {
            "cells": {
             "fill": {
              "color": "#EBF0F8"
             },
             "line": {
              "color": "white"
             }
            },
            "header": {
             "fill": {
              "color": "#C8D4E3"
             },
             "line": {
              "color": "white"
             }
            },
            "type": "table"
           }
          ],
          "barpolar": [
           {
            "marker": {
             "line": {
              "color": "white",
              "width": 0.5
             },
             "pattern": {
              "fillmode": "overlay",
              "size": 10,
              "solidity": 0.2
             }
            },
            "type": "barpolar"
           }
          ],
          "pie": [
           {
            "automargin": true,
            "type": "pie"
           }
          ]
         },
         "layout": {
          "autotypenumbers": "strict",
          "colorway": [
           "#636efa",
           "#EF553B",
           "#00cc96",
           "#ab63fa",
           "#FFA15A",
           "#19d3f3",
           "#FF6692",
           "#B6E880",
           "#FF97FF",
           "#FECB52"
          ],
          "font": {
           "color": "#2a3f5f"
          },
          "hovermode": "closest",
          "hoverlabel": {
           "align": "left"
          },
          "paper_bgcolor": "white",
          "plot_bgcolor": "white",
          "polar": {
           "bgcolor": "white",
           "angularaxis": {
            "gridcolor": "#EBF0F8",
            "linecolor": "#EBF0F8",
            "ticks": ""
           },
           "radialaxis": {
            "gridcolor": "#EBF0F8",
            "linecolor": "#EBF0F8",
            "ticks": ""
           }
          },
          "ternary": {
           "bgcolor": "white",
           "aaxis": {
            "gridcolor": "#DFE8F3",
            "linecolor": "#A2B1C6",
            "ticks": ""
           },
           "baxis": {
            "gridcolor": "#DFE8F3",
            "linecolor": "#A2B1C6",
            "ticks": ""
           },
           "caxis": {
            "gridcolor": "#DFE8F3",
            "linecolor": "#A2B1C6",
            "ticks": ""
           }
          },
          "coloraxis": {
           "colorbar": {
            "outlinewidth": 0,
            "ticks": ""
           }
          },
          "colorscale": {
           "sequential": [
            [
             0.0,
             "#0d0887"
            ],
            [
             0.1111111111111111,
             "#46039f"
            ],
            [
             0.2222222222222222,
             "#7201a8"
            ],
            [
             0.3333333333333333,
             "#9c179e"
            ],
            [
             0.4444444444444444,
             "#bd3786"
            ],
            [
             0.5555555555555556,
             "#d8576b"
            ],
            [
             0.6666666666666666,
             "#ed7953"
            ],
            [
             0.7777777777777778,
             "#fb9f3a"
            ],
            [
             0.8888888888888888,
             "#fdca26"
            ],
            [
             1.0,
             "#f0f921"
            ]
           ],
           "sequentialminus": [
            [
             0.0,
             "#0d0887"
            ],
            [
             0.1111111111111111,
             "#46039f"
            ],
            [
             0.2222222222222222,
             "#7201a8"
            ],
            [
             0.3333333333333333,
             "#9c179e"
            ],
            [
             0.4444444444444444,
             "#bd3786"
            ],
            [
             0.5555555555555556,
             "#d8576b"
            ],
            [
             0.6666666666666666,
             "#ed7953"
            ],
            [
             0.7777777777777778,
             "#fb9f3a"
            ],
            [
             0.8888888888888888,
             "#fdca26"
            ],
            [
             1.0,
             "#f0f921"
            ]
           ],
           "diverging": [
            [
             0,
             "#8e0152"
            ],
            [
             0.1,
             "#c51b7d"
            ],
            [
             0.2,
             "#de77ae"
            ],
            [
             0.3,
             "#f1b6da"
            ],
            [
             0.4,
             "#fde0ef"
            ],
            [
             0.5,
             "#f7f7f7"
            ],
            [
             0.6,
             "#e6f5d0"
            ],
            [
             0.7,
             "#b8e186"
            ],
            [
             0.8,
             "#7fbc41"
            ],
            [
             0.9,
             "#4d9221"
            ],
            [
             1,
             "#276419"
            ]
           ]
          },
          "xaxis": {
           "gridcolor": "#EBF0F8",
           "linecolor": "#EBF0F8",
           "ticks": "",
           "title": {
            "standoff": 15
           },
           "zerolinecolor": "#EBF0F8",
           "automargin": true,
           "zerolinewidth": 2
          },
          "yaxis": {
           "gridcolor": "#EBF0F8",
           "linecolor": "#EBF0F8",
           "ticks": "",
           "title": {
            "standoff": 15
           },
           "zerolinecolor": "#EBF0F8",
           "automargin": true,
           "zerolinewidth": 2
          },
          "scene": {
           "xaxis": {
            "backgroundcolor": "white",
            "gridcolor": "#DFE8F3",
            "linecolor": "#EBF0F8",
            "showbackground": true,
            "ticks": "",
            "zerolinecolor": "#EBF0F8",
            "gridwidth": 2
           },
           "yaxis": {
            "backgroundcolor": "white",
            "gridcolor": "#DFE8F3",
            "linecolor": "#EBF0F8",
            "showbackground": true,
            "ticks": "",
            "zerolinecolor": "#EBF0F8",
            "gridwidth": 2
           },
           "zaxis": {
            "backgroundcolor": "white",
            "gridcolor": "#DFE8F3",
            "linecolor": "#EBF0F8",
            "showbackground": true,
            "ticks": "",
            "zerolinecolor": "#EBF0F8",
            "gridwidth": 2
           }
          },
          "shapedefaults": {
           "line": {
            "color": "#2a3f5f"
           }
          },
          "annotationdefaults": {
           "arrowcolor": "#2a3f5f",
           "arrowhead": 0,
           "arrowwidth": 1
          },
          "geo": {
           "bgcolor": "white",
           "landcolor": "white",
           "subunitcolor": "#C8D4E3",
           "showland": true,
           "showlakes": true,
           "lakecolor": "white"
          },
          "title": {
           "x": 0.05
          },
          "mapbox": {
           "style": "light"
          }
         }
        },
        "xaxis": {
         "anchor": "y",
         "domain": [
          0.0,
          0.45
         ],
         "title": {
          "text": "Regime"
         }
        },
        "yaxis": {
         "anchor": "x",
         "domain": [
          0.625,
          1.0
         ],
         "title": {
          "text": "Expected Value (R)"
         }
        },
        "xaxis2": {
         "anchor": "y2",
         "domain": [
          0.55,
          1.0
         ],
         "title": {
          "text": "Win Rate (%)"
         }
        },
        "yaxis2": {
         "anchor": "x2",
         "domain": [
          0.625,
          1.0
         ],
         "title": {
          "text": "Expected Value (R)"
         }
        },
        "xaxis3": {
         "anchor": "y3",
         "domain": [
          0.0,
          0.45
         ],
         "title": {
          "text": "Regime"
         }
        },
        "yaxis3": {
         "anchor": "x3",
         "domain": [
          0.0,
          0.375
         ],
         "title": {
          "text": "Profit Factor"
         }
        },
        "annotations": [
         {
          "font": {
           "size": 16
          },
          "showarrow": false,
          "text": "Expected Value by Regime",
          "x": 0.225,
          "xanchor": "center",
          "xref": "paper",
          "y": 1.0,
          "yanchor": "bottom",
          "yref": "paper"
         },
         {
          "font": {
           "size": 16
          },
          "showarrow": false,
          "text": "Win Rate vs EV Scatter",
          "x": 0.775,
          "xanchor": "center",
          "xref": "paper",
          "y": 1.0,
          "yanchor": "bottom",
          "yref": "paper"
         },
         {
          "font": {
           "size": 16
          },
          "showarrow": false,
          "text": "Profit Factor Analysis",
          "x": 0.225,
          "xanchor": "center",
          "xref": "paper",
          "y": 0.375,
          "yanchor": "bottom",
          "yref": "paper"
         },
         {
          "font": {
           "size": 16
          },
          "showarrow": false,
          "text": "EV Optimization Summary",
          "x": 0.775,
          "xanchor": "center",
          "xref": "paper",
          "y": 0.375,
          "yanchor": "bottom",
          "yref": "paper"
         },
         {
          "showarrow": false,
          "text": "Break-even",
          "x": 1,
          "xanchor": "right",
          "xref": "x3 domain",
          "y": 1,
          "yanchor": "bottom",
          "yref": "y3"
         }
        ],
        "shapes": [
         {
          "line": {
           "color": "gray",
           "dash": "dash"
          },
          "opacity": 0.5,
          "type": "line",
          "x0": 0,
          "x1": 1,
          "xref": "x2 domain",
          "y0": 0,
          "y1": 0,
          "yref": "y2"
         },
         {
          "line": {
           "color": "gray",
           "dash": "dash"
          },
          "opacity": 0.5,
          "type": "line",
          "x0": 50,
          "x1": 50,
          "xref": "x2",
          "y0": 0,
          "y1": 1,
          "yref": "y2 domain"
         },
         {
          "line": {
           "color": "red",
           "dash": "dash"
          },
          "opacity": 0.7,
          "type": "line",
          "x0": 0,
          "x1": 1,
          "xref": "x3 domain",
          "y0": 1,
          "y1": 1,
          "yref": "y3"
         }
        ],
        "title": {
         "text": "Expected Value Analysis & Strategy Optimization",
         "x": 0.5
        },
        "height": 700,
        "showlegend": false
       },
       "config": {
        "plotlyServerURL": "https://plot.ly"
       }
      }
     },
     "metadata": {},
     "output_type": "display_data"
    },
    {
     "data": {
      "text/plain": [
       "<IPython.core.display.HTML object>"
      ],
      "text/html": [
       "\n",
       "            <div class=\"widget-container\">\n",
       "                <h4 style=\"color: #495057; margin: 0 0 25px 0; text-align: center;\">⚡ Expected Value Analysis Results</h4>\n",
       "\n",
       "                <div style=\"text-align: center; margin-bottom: 25px; padding: 25px; background: linear-gradient(135deg, #e8f5e8 0%, #f0f8f0 100%); border-radius: 15px; border: 3px solid #28a745;\">\n",
       "                    <div style=\"font-size: 48px; font-weight: bold; color: #28a745; margin-bottom: 10px;\">\n",
       "                        1.512R\n",
       "                    </div>\n",
       "                    <div style=\"font-size: 20px; color: #495057; font-weight: bold; margin-bottom: 5px;\">\n",
       "                        OVERALL STRATEGY EXPECTED VALUE\n",
       "                    </div>\n",
       "                    <div style=\"font-size: 16px; color: #28a745; font-weight: bold;\">\n",
       "                        EXCELLENT PERFORMANCE\n",
       "                    </div>\n",
       "                    <div style=\"font-size: 14px; color: #6c757d; margin-top: 10px;\">\n",
       "                        Based on 435 trades across all regimes\n",
       "                    </div>\n",
       "                </div>\n",
       "\n",
       "                <div style=\"display: grid; grid-template-columns: repeat(4, 1fr); gap: 20px; margin-bottom: 25px;\">\n",
       "                    <div style=\"text-align: center; padding: 20px; background: linear-gradient(135deg, #e8f5e8 0%, #f0f8f0 100%); border-radius: 12px; border: 1px solid #d4edda;\">\n",
       "                        <div style=\"font-size: 24px; font-weight: bold; color: #28a745;\">\n",
       "                            66.0%\n",
       "                        </div>\n",
       "                        <div style=\"font-size: 12px; color: #495057; margin-top: 5px;\">OVERALL WIN RATE</div>\n",
       "                        <div style=\"font-size: 10px; color: #6c757d;\">287/435 trades</div>\n",
       "                    </div>\n",
       "                    <div style=\"text-align: center; padding: 20px; background: linear-gradient(135deg, #e3f2fd 0%, #f1f8fe 100%); border-radius: 12px; border: 1px solid #bee5eb;\">\n",
       "                        <div style=\"font-size: 24px; font-weight: bold; color: #0066cc;\">\n",
       "                            2.67R\n",
       "                        </div>\n",
       "                        <div style=\"font-size: 12px; color: #495057; margin-top: 5px;\">AVG WIN</div>\n",
       "                        <div style=\"font-size: 10px; color: #6c757d;\">Per winning trade</div>\n",
       "                    </div>\n",
       "                    <div style=\"text-align: center; padding: 20px; background: linear-gradient(135deg, #f8d7da 0%, #fdeef0 100%); border-radius: 12px; border: 1px solid #f5c6cb;\">\n",
       "                        <div style=\"font-size: 24px; font-weight: bold; color: #dc3545;\">\n",
       "                            -0.74R\n",
       "                        </div>\n",
       "                        <div style=\"font-size: 12px; color: #495057; margin-top: 5px;\">AVG LOSS</div>\n",
       "                        <div style=\"font-size: 10px; color: #6c757d;\">Per losing trade</div>\n",
       "                    </div>\n",
       "                    <div style=\"text-align: center; padding: 20px; background: linear-gradient(135deg, #fff3cd 0%, #fffbee 100%); border-radius: 12px; border: 1px solid #ffeaa7;\">\n",
       "                        <div style=\"font-size: 24px; font-weight: bold; color: #856404;\">\n",
       "                            3.88\n",
       "                        </div>\n",
       "                        <div style=\"font-size: 12px; color: #495057; margin-top: 5px;\">PROFIT FACTOR</div>\n",
       "                        <div style=\"font-size: 10px; color: #6c757d;\">Gross P/L Ratio</div>\n",
       "                    </div>\n",
       "                </div>\n",
       "\n",
       "                <div style=\"display: grid; grid-template-columns: repeat(2, 1fr); gap: 20px; margin-bottom: 20px;\">\n",
       "                    <div style=\"padding: 20px; background: linear-gradient(135deg, #e8f5e8 0%, #f0f8f0 100%); border-radius: 12px;\">\n",
       "                        <h5 style=\"color: #495057; margin: 0 0 15px 0;\">🟢 Best Performing Regime</h5>\n",
       "                        <div style=\"color: #495057;\">\n",
       "                            <strong>BASELINE_MARKET</strong><br>\n",
       "                            Expected Value: 3.305R<br>\n",
       "                            Win Rate: 93.0%<br>\n",
       "                            Trades: 100\n",
       "                        </div>\n",
       "                    </div>\n",
       "                    <div style=\"padding: 20px; background: linear-gradient(135deg, #f8d7da 0%, #fdeef0 100%); border-radius: 12px;\">\n",
       "                        <h5 style=\"color: #495057; margin: 0 0 15px 0;\">🔴 Worst Performing Regime</h5>\n",
       "                        <div style=\"color: #495057;\">\n",
       "                            <strong>EXTREME_VOLATILITY</strong><br>\n",
       "                            Expected Value: -0.891R<br>\n",
       "                            Win Rate: 3.3%<br>\n",
       "                            Trades: 30\n",
       "                        </div>\n",
       "                    </div>\n",
       "                </div>\n",
       "\n",
       "                <div style=\"padding: 20px; background: #f8f9fa; border-radius: 12px; border-left: 5px solid #28a745;\">\n",
       "                    <h5 style=\"color: #495057; margin: 0 0 15px 0;\">📊 Strategy Optimization Recommendations</h5>\n",
       "                    <div style=\"color: #495057;\">\n",
       "                        <strong>✅ Keep Trading:</strong> 5 regimes with positive EV<br>\n",
       "                        <strong>🎯 Focus Resources:</strong> Regime 2 (BASELINE_MARKET) - 3.305R EV<br>\n",
       "                        <strong>📈 Expected Improvement:</strong> Focus on top 3 regimes could increase overall EV significantly<br>\n",
       "                        <strong>🔄 Rebalancing:</strong> Allocate more capital to highest EV regimes for maximum efficiency\n",
       "                    </div>\n",
       "                </div>\n",
       "\n",
       "                <div style=\"margin-top: 15px; padding: 15px; background: #e9ecef; border-radius: 8px;\">\n",
       "                    <div style=\"color: #495057; font-size: 14px; text-align: center;\">\n",
       "                        <strong>EV Analysis Complete:</strong> Strategy shows positive expected value of 1.512R per trade. \n",
       "                        Focus on regimes with EV > 0.5R for optimal performance.\n",
       "                    </div>\n",
       "                </div>\n",
       "            </div>\n",
       "            "
      ]
     },
     "metadata": {},
     "output_type": "display_data"
    }
   ],
   "execution_count": 259
  },
  {
   "cell_type": "code",
   "source": "# Risk Analytics\nif execution_success and backtest_results:\n    display(HTML('<div class=\"analysis-header\">⚡ RISK ANALYTICS DASHBOARD</div>'))\n    \n    # Use actual backtest engine results\n    results = backtest_results\n    equity_curve = results.get('equity_curve')\n    \n    if equity_curve:\n        df = pd.DataFrame(equity_curve)\n        df['timestamp'] = pd.to_datetime(df['timestamp'])\n        \n        # Calculate returns for visualization\n        returns = df['portfolio_value'].pct_change().dropna() * 100\n        \n        # Get metrics from the engine\n        portfolio_values = df['portfolio_value']\n        initial_value = results.get('initial_capital', 100000)\n        final_value = results.get('final_value', portfolio_values.iloc[-1])\n        \n        # Engine metrics\n        total_return = results.get('total_return', 0)\n        annualized_return = results.get('annualized_return', 0) * 100 if results.get('annualized_return') else 0\n        annualized_volatility = results.get('annualized_volatility', 0) * 100 if results.get('annualized_volatility') else 0\n        sharpe_ratio = results.get('sharpe_ratio', 0)\n        max_drawdown = results.get('max_drawdown', 0)\n        risk_free_rate = results.get('risk_free_rate', 4.27)\n        \n        # Drawdown for visualization\n        running_max = portfolio_values.expanding().max()\n        drawdown = (portfolio_values - running_max) / running_max * 100\n        \n        # VaR calculation\n        var_daily = np.percentile(returns, 5)\n        var_monthly = var_daily * np.sqrt(21)\n        \n        # Create risk dashboard\n        fig = make_subplots(\n            rows=2, cols=2,\n            subplot_titles=('Strategy Performance Comparison', 'Portfolio Drawdown', 'Returns Distribution', 'Rolling Volatility'),\n            specs=[[{\"type\": \"bar\"}, {\"type\": \"scatter\"}],\n                   [{\"type\": \"histogram\"}, {\"type\": \"scatter\"}]]\n        )\n        \n        # Calculate Bitcoin metrics for comparison\n        btc_sharpe = 0\n        btc_annualized_return = 0\n        btc_volatility = 0\n        \n        if crypto_data and 'BTCUSD' in crypto_data:\n            btc_data = crypto_data['BTCUSD']\n            btc_returns = btc_data['close'].pct_change().dropna() * 100\n            if len(btc_returns) > 0:\n                btc_initial = btc_data['close'].iloc[0]\n                btc_final = btc_data['close'].iloc[-1]\n                btc_annualized_return = ((btc_final / btc_initial) ** (252 / len(btc_returns)) - 1) * 100\n                btc_volatility = btc_returns.std() * np.sqrt(252)\n                btc_sharpe = (btc_annualized_return - risk_free_rate) / btc_volatility if btc_volatility > 0 else 0\n        \n        # Comparison data (removed risk-free)\n        strategies = ['Our Strategy', 'Bitcoin Buy & Hold']\n        returns_data = [annualized_return, btc_annualized_return]\n        volatility_data = [annualized_volatility, btc_volatility]\n        sharpe_data = [sharpe_ratio, btc_sharpe]\n        colors = ['blue', 'orange']\n        \n        # Returns comparison\n        fig.add_trace(go.Bar(\n            name='Annualized Return',\n            x=strategies,\n            y=returns_data,\n            marker_color=colors,\n            text=[f'{r:.1f}%' for r in returns_data],\n            textposition='auto',\n            hovertemplate='<b>%{x}</b><br>Return: %{y:.2f}%<extra></extra>'\n        ), row=1, col=1)\n        \n        # Add Sharpe ratios as text annotations\n        for i, (strategy, sharpe) in enumerate(zip(strategies, sharpe_data)):\n            fig.add_annotation(\n                x=i,\n                y=returns_data[i] + max(returns_data) * 0.1,\n                text=f\"Sharpe: {sharpe:.3f}\",\n                showarrow=False,\n                font=dict(size=10, color=colors[i]),\n                row=1, col=1\n            )\n        \n        # Drawdown analysis\n        fig.add_trace(go.Scatter(\n            x=df['timestamp'],\n            y=drawdown,\n            mode='lines',\n            fill='tonexty',\n            name='Drawdown',\n            line=dict(color='red', width=2),\n            fillcolor='rgba(255,0,0,0.2)',\n            hovertemplate='<b>Date:</b> %{x}<br><b>Drawdown:</b> %{y:.2f}%<extra></extra>'\n        ), row=1, col=2)\n        \n        # Returns distribution\n        fig.add_trace(go.Histogram(\n            x=returns,\n            nbinsx=30,\n            name='Returns Distribution',\n            marker_color='lightblue',\n            opacity=0.7,\n            hovertemplate='<b>Return:</b> %{x:.2f}%<br><b>Count:</b> %{y}<extra></extra>'\n        ), row=2, col=1)\n        \n        # Rolling volatility\n        if len(returns) > 30:\n            rolling_vol = returns.rolling(30).std() * np.sqrt(252)\n            fig.add_trace(go.Scatter(\n                x=df['timestamp'][30:],\n                y=rolling_vol[30:],\n                mode='lines',\n                name='30-Day Rolling Volatility',\n                line=dict(color='purple', width=2),\n                hovertemplate='<b>Date:</b> %{x}<br><b>Volatility:</b> %{y:.2f}%<extra></extra>'\n            ), row=2, col=2)\n        \n        fig.update_layout(\n            height=600,\n            title_text=\"Risk Analytics Dashboard\",\n            title_x=0.5,\n            showlegend=False\n        )\n        \n        # Update axes labels\n        fig.update_xaxes(title_text=\"Strategy\", row=1, col=1)\n        fig.update_xaxes(title_text=\"Date\", row=1, col=2)\n        fig.update_xaxes(title_text=\"Return (%)\", row=2, col=1)\n        fig.update_xaxes(title_text=\"Date\", row=2, col=2)\n        \n        fig.update_yaxes(title_text=\"Annualized Return (%)\", row=1, col=1)\n        fig.update_yaxes(title_text=\"Drawdown (%)\", row=1, col=2)\n        fig.update_yaxes(title_text=\"Frequency\", row=2, col=1)\n        fig.update_yaxes(title_text=\"Volatility (%)\", row=2, col=2)\n        \n        fig.show()\n        \n        # Risk metrics summary\n        downside_returns = returns[returns < 0]\n        downside_deviation = downside_returns.std() * np.sqrt(252) if len(downside_returns) > 0 else 0\n        sortino_ratio = (annualized_return - risk_free_rate) / downside_deviation if downside_deviation > 0 else 0\n        \n        display(HTML(f\"\"\"\n        <div class=\"widget-container\">\n            <h4 style=\"color: #495057; margin: 0 0 20px 0;\">📊 Risk Analysis Summary</h4>\n            \n            <div style=\"text-align: center; margin-bottom: 25px; padding: 20px; background: linear-gradient(135deg, #f8f9fa 0%, #e9ecef 100%); border-radius: 12px; border: 2px solid #495057;\">\n                <div style=\"font-size: 32px; font-weight: bold; color: #495057; margin-bottom: 5px;\">\n                    {sharpe_ratio:.3f}\n                </div>\n                <div style=\"font-size: 16px; color: #495057; font-weight: bold;\">\n                    Sharpe Ratio\n                </div>\n                <div style=\"font-size: 12px; color: #6c757d; margin-top: 5px;\">\n                    Risk-Adjusted Return Measure<br>\n                    Risk-Free Rate: {risk_free_rate:.2f}% (Aug 12, 2025)\n                </div>\n            </div>\n            \n            <div style=\"display: grid; grid-template-columns: repeat(3, 1fr); gap: 20px;\">\n                <div style=\"text-align: center; padding: 15px; background: #f8f9fa; border-radius: 8px;\">\n                    <div style=\"color: #495057; font-weight: bold; margin-bottom: 10px;\">Return Metrics</div>\n                    <div style=\"color: #495057;\">Total Return: {total_return:.2f}%</div>\n                    <div style=\"color: #495057;\">Annualized Return: {annualized_return:.2f}%</div>\n                    <div style=\"color: #495057;\">Annualized Volatility: {annualized_volatility:.2f}%</div>\n                </div>\n                <div style=\"text-align: center; padding: 15px; background: #f8f9fa; border-radius: 8px;\">\n                    <div style=\"color: #495057; font-weight: bold; margin-bottom: 10px;\">Risk-Adjusted Metrics</div>\n                    <div style=\"color: #495057;\">Sharpe Ratio: {sharpe_ratio:.3f}</div>\n                    <div style=\"color: #495057;\">Sortino Ratio: {sortino_ratio:.3f}</div>\n                    <div style=\"color: #495057;\">Max Drawdown: {max_drawdown:.2f}%</div>\n                </div>\n                <div style=\"text-align: center; padding: 15px; background: #f8f9fa; border-radius: 8px;\">\n                    <div style=\"color: #495057; font-weight: bold; margin-bottom: 10px;\">Risk Metrics</div>\n                    <div style=\"color: #495057;\">VaR (Daily, 95%): {var_daily:.2f}%</div>\n                    <div style=\"color: #495057;\">VaR (Monthly, 95%): {var_monthly:.2f}%</div>\n                    <div style=\"color: #495057;\">Risk-Free Rate: {risk_free_rate:.2f}%</div>\n                </div>\n            </div>\n            \n            <div style=\"margin-top: 15px; padding: 15px; background: #e9ecef; border-radius: 8px;\">\n                <div style=\"color: #495057; font-size: 14px;\">\n                    <strong>Methodology:</strong> Sharpe ratio of {sharpe_ratio:.3f} calculated using {results.get('data_frequency', '252 trading days (industry standard)')}. \n                    Risk-free rate of {risk_free_rate:.2f}% (as of August 12, 2025) applied consistently across all metrics.\n                </div>\n            </div>\n        </div>\n        \"\"\"))\n    \nelse:\n    display(HTML('''\n    <div class=\"info-box\">\n        <strong>ℹ️ Risk Analysis Unavailable</strong><br>\n        Execute the backtest above to view risk analytics.\n    </div>\n    '''))",
   "metadata": {
    "ExecuteTime": {
     "end_time": "2025-08-19T16:26:24.965793Z",
     "start_time": "2025-08-19T16:26:24.939114Z"
    }
   },
   "outputs": [
    {
     "data": {
      "text/plain": [
       "<IPython.core.display.HTML object>"
      ],
      "text/html": [
       "<div class=\"analysis-header\">⚡ RISK ANALYTICS DASHBOARD</div>"
      ]
     },
     "metadata": {},
     "output_type": "display_data"
    },
    {
     "data": {
      "application/vnd.plotly.v1+json": {
       "data": [
        {
         "hovertemplate": "<b>%{x}</b><br>Return: %{y:.2f}%<extra></extra>",
         "marker": {
          "color": [
           "blue",
           "orange"
          ]
         },
         "name": "Annualized Return",
         "text": [
          "22.6%",
          "62.8%"
         ],
         "textposition": "auto",
         "x": [
          "Our Strategy",
          "Bitcoin Buy & Hold"
         ],
         "y": [
          22.631757859359425,
          62.81869930119548
         ],
         "type": "bar",
         "xaxis": "x",
         "yaxis": "y"
        },
        {
         "fill": "tonexty",
         "fillcolor": "rgba(255,0,0,0.2)",
         "hovertemplate": "<b>Date:</b> %{x}<br><b>Drawdown:</b> %{y:.2f}%<extra></extra>",
         "line": {
          "color": "red",
          "width": 2
         },
         "mode": "lines",
         "name": "Drawdown",
         "x": [
          "2024-09-13T00:00:00.000000000",
          "2024-09-14T00:00:00.000000000",
          "2024-09-15T00:00:00.000000000",
          "2024-09-16T00:00:00.000000000",
          "2024-09-17T00:00:00.000000000",
          "2024-09-18T00:00:00.000000000",
          "2024-09-19T00:00:00.000000000",
          "2024-09-20T00:00:00.000000000",
          "2024-09-21T00:00:00.000000000",
          "2024-09-22T00:00:00.000000000",
          "2024-09-23T00:00:00.000000000",
          "2024-09-24T00:00:00.000000000",
          "2024-09-25T00:00:00.000000000",
          "2024-09-26T00:00:00.000000000",
          "2024-09-27T00:00:00.000000000",
          "2024-09-28T00:00:00.000000000",
          "2024-09-29T00:00:00.000000000",
          "2024-09-30T00:00:00.000000000",
          "2024-10-01T00:00:00.000000000",
          "2024-10-02T00:00:00.000000000",
          "2024-10-03T00:00:00.000000000",
          "2024-10-04T00:00:00.000000000",
          "2024-10-05T00:00:00.000000000",
          "2024-10-06T00:00:00.000000000",
          "2024-10-07T00:00:00.000000000",
          "2024-10-08T00:00:00.000000000",
          "2024-10-09T00:00:00.000000000",
          "2024-10-10T00:00:00.000000000",
          "2024-10-11T00:00:00.000000000",
          "2024-10-12T00:00:00.000000000",
          "2024-10-13T00:00:00.000000000",
          "2024-10-14T00:00:00.000000000",
          "2024-10-15T00:00:00.000000000",
          "2024-10-16T00:00:00.000000000",
          "2024-10-17T00:00:00.000000000",
          "2024-10-18T00:00:00.000000000",
          "2024-10-19T00:00:00.000000000",
          "2024-10-20T00:00:00.000000000",
          "2024-10-21T00:00:00.000000000",
          "2024-10-22T00:00:00.000000000",
          "2024-10-23T00:00:00.000000000",
          "2024-10-24T00:00:00.000000000",
          "2024-10-25T00:00:00.000000000",
          "2024-10-26T00:00:00.000000000",
          "2024-10-27T00:00:00.000000000",
          "2024-10-28T00:00:00.000000000",
          "2024-10-29T00:00:00.000000000",
          "2024-10-30T00:00:00.000000000",
          "2024-10-31T00:00:00.000000000",
          "2024-11-01T00:00:00.000000000",
          "2024-11-02T00:00:00.000000000",
          "2024-11-03T00:00:00.000000000",
          "2024-11-04T00:00:00.000000000",
          "2024-11-05T00:00:00.000000000",
          "2024-11-06T00:00:00.000000000",
          "2024-11-07T00:00:00.000000000",
          "2024-11-08T00:00:00.000000000",
          "2024-11-09T00:00:00.000000000",
          "2024-11-10T00:00:00.000000000",
          "2024-11-11T00:00:00.000000000",
          "2024-11-12T00:00:00.000000000",
          "2024-11-13T00:00:00.000000000",
          "2024-11-14T00:00:00.000000000",
          "2024-11-15T00:00:00.000000000",
          "2024-11-16T00:00:00.000000000",
          "2024-11-17T00:00:00.000000000",
          "2024-11-18T00:00:00.000000000",
          "2024-11-19T00:00:00.000000000",
          "2024-11-20T00:00:00.000000000",
          "2024-11-21T00:00:00.000000000",
          "2024-11-22T00:00:00.000000000",
          "2024-11-23T00:00:00.000000000",
          "2024-11-24T00:00:00.000000000",
          "2024-11-25T00:00:00.000000000",
          "2024-11-26T00:00:00.000000000",
          "2024-11-27T00:00:00.000000000",
          "2024-11-28T00:00:00.000000000",
          "2024-11-29T00:00:00.000000000",
          "2024-11-30T00:00:00.000000000",
          "2024-12-01T00:00:00.000000000",
          "2024-12-02T00:00:00.000000000",
          "2024-12-03T00:00:00.000000000",
          "2024-12-04T00:00:00.000000000",
          "2024-12-05T00:00:00.000000000",
          "2024-12-06T00:00:00.000000000",
          "2024-12-07T00:00:00.000000000",
          "2024-12-08T00:00:00.000000000",
          "2024-12-09T00:00:00.000000000",
          "2024-12-10T00:00:00.000000000",
          "2024-12-11T00:00:00.000000000",
          "2024-12-12T00:00:00.000000000",
          "2024-12-13T00:00:00.000000000",
          "2024-12-14T00:00:00.000000000",
          "2024-12-15T00:00:00.000000000",
          "2024-12-16T00:00:00.000000000",
          "2024-12-17T00:00:00.000000000",
          "2024-12-18T00:00:00.000000000",
          "2024-12-19T00:00:00.000000000",
          "2024-12-20T00:00:00.000000000",
          "2024-12-21T00:00:00.000000000",
          "2024-12-22T00:00:00.000000000",
          "2024-12-23T00:00:00.000000000",
          "2024-12-24T00:00:00.000000000",
          "2024-12-25T00:00:00.000000000",
          "2024-12-26T00:00:00.000000000",
          "2024-12-27T00:00:00.000000000",
          "2024-12-28T00:00:00.000000000",
          "2024-12-29T00:00:00.000000000",
          "2024-12-30T00:00:00.000000000",
          "2024-12-31T00:00:00.000000000",
          "2025-01-01T00:00:00.000000000",
          "2025-01-02T00:00:00.000000000",
          "2025-01-03T00:00:00.000000000",
          "2025-01-04T00:00:00.000000000",
          "2025-01-05T00:00:00.000000000",
          "2025-01-06T00:00:00.000000000",
          "2025-01-07T00:00:00.000000000",
          "2025-01-08T00:00:00.000000000",
          "2025-01-09T00:00:00.000000000",
          "2025-01-10T00:00:00.000000000",
          "2025-01-11T00:00:00.000000000",
          "2025-01-12T00:00:00.000000000",
          "2025-01-13T00:00:00.000000000",
          "2025-01-14T00:00:00.000000000",
          "2025-01-15T00:00:00.000000000",
          "2025-01-16T00:00:00.000000000",
          "2025-01-17T00:00:00.000000000",
          "2025-01-18T00:00:00.000000000",
          "2025-01-19T00:00:00.000000000",
          "2025-01-20T00:00:00.000000000",
          "2025-01-21T00:00:00.000000000",
          "2025-01-22T00:00:00.000000000",
          "2025-01-23T00:00:00.000000000",
          "2025-01-24T00:00:00.000000000",
          "2025-01-25T00:00:00.000000000",
          "2025-01-26T00:00:00.000000000",
          "2025-01-27T00:00:00.000000000",
          "2025-01-28T00:00:00.000000000",
          "2025-01-29T00:00:00.000000000",
          "2025-01-30T00:00:00.000000000",
          "2025-01-31T00:00:00.000000000",
          "2025-02-01T00:00:00.000000000",
          "2025-02-02T00:00:00.000000000",
          "2025-02-03T00:00:00.000000000",
          "2025-02-04T00:00:00.000000000",
          "2025-02-05T00:00:00.000000000",
          "2025-02-06T00:00:00.000000000",
          "2025-02-07T00:00:00.000000000",
          "2025-02-08T00:00:00.000000000",
          "2025-02-09T00:00:00.000000000",
          "2025-02-10T00:00:00.000000000",
          "2025-02-11T00:00:00.000000000",
          "2025-02-12T00:00:00.000000000",
          "2025-02-13T00:00:00.000000000",
          "2025-02-14T00:00:00.000000000",
          "2025-02-15T00:00:00.000000000",
          "2025-02-16T00:00:00.000000000",
          "2025-02-17T00:00:00.000000000",
          "2025-02-18T00:00:00.000000000",
          "2025-02-19T00:00:00.000000000",
          "2025-02-20T00:00:00.000000000",
          "2025-02-21T00:00:00.000000000",
          "2025-02-22T00:00:00.000000000",
          "2025-02-23T00:00:00.000000000",
          "2025-02-24T00:00:00.000000000",
          "2025-02-25T00:00:00.000000000",
          "2025-02-26T00:00:00.000000000",
          "2025-02-27T00:00:00.000000000",
          "2025-02-28T00:00:00.000000000",
          "2025-03-01T00:00:00.000000000",
          "2025-03-02T00:00:00.000000000",
          "2025-03-03T00:00:00.000000000",
          "2025-03-04T00:00:00.000000000",
          "2025-03-05T00:00:00.000000000",
          "2025-03-06T00:00:00.000000000",
          "2025-03-07T00:00:00.000000000",
          "2025-03-08T00:00:00.000000000",
          "2025-03-09T00:00:00.000000000",
          "2025-03-10T00:00:00.000000000",
          "2025-03-11T00:00:00.000000000",
          "2025-03-12T00:00:00.000000000",
          "2025-03-13T00:00:00.000000000",
          "2025-03-14T00:00:00.000000000",
          "2025-03-15T00:00:00.000000000",
          "2025-03-16T00:00:00.000000000",
          "2025-03-17T00:00:00.000000000",
          "2025-03-18T00:00:00.000000000",
          "2025-03-19T00:00:00.000000000",
          "2025-03-20T00:00:00.000000000",
          "2025-03-21T00:00:00.000000000",
          "2025-03-22T00:00:00.000000000",
          "2025-03-23T00:00:00.000000000",
          "2025-03-24T00:00:00.000000000",
          "2025-03-25T00:00:00.000000000",
          "2025-03-26T00:00:00.000000000",
          "2025-03-27T00:00:00.000000000",
          "2025-03-28T00:00:00.000000000",
          "2025-03-29T00:00:00.000000000",
          "2025-03-30T00:00:00.000000000",
          "2025-03-31T00:00:00.000000000",
          "2025-04-01T00:00:00.000000000",
          "2025-04-02T00:00:00.000000000",
          "2025-04-03T00:00:00.000000000",
          "2025-04-04T00:00:00.000000000",
          "2025-04-05T00:00:00.000000000",
          "2025-04-06T00:00:00.000000000",
          "2025-04-07T00:00:00.000000000",
          "2025-04-08T00:00:00.000000000",
          "2025-04-09T00:00:00.000000000",
          "2025-04-10T00:00:00.000000000",
          "2025-04-11T00:00:00.000000000",
          "2025-04-12T00:00:00.000000000",
          "2025-04-13T00:00:00.000000000",
          "2025-04-14T00:00:00.000000000",
          "2025-04-15T00:00:00.000000000",
          "2025-04-16T00:00:00.000000000",
          "2025-04-17T00:00:00.000000000",
          "2025-04-18T00:00:00.000000000",
          "2025-04-19T00:00:00.000000000",
          "2025-04-20T00:00:00.000000000",
          "2025-04-21T00:00:00.000000000",
          "2025-04-22T00:00:00.000000000",
          "2025-04-23T00:00:00.000000000",
          "2025-04-24T00:00:00.000000000",
          "2025-04-25T00:00:00.000000000",
          "2025-04-26T00:00:00.000000000",
          "2025-04-27T00:00:00.000000000",
          "2025-04-28T00:00:00.000000000",
          "2025-04-29T00:00:00.000000000",
          "2025-04-30T00:00:00.000000000",
          "2025-05-01T00:00:00.000000000",
          "2025-05-02T00:00:00.000000000",
          "2025-05-03T00:00:00.000000000",
          "2025-05-04T00:00:00.000000000",
          "2025-05-05T00:00:00.000000000",
          "2025-05-06T00:00:00.000000000",
          "2025-05-07T00:00:00.000000000",
          "2025-05-08T00:00:00.000000000",
          "2025-05-09T00:00:00.000000000",
          "2025-05-10T00:00:00.000000000",
          "2025-05-11T00:00:00.000000000",
          "2025-05-12T00:00:00.000000000",
          "2025-05-13T00:00:00.000000000",
          "2025-05-14T00:00:00.000000000",
          "2025-05-15T00:00:00.000000000",
          "2025-05-16T00:00:00.000000000",
          "2025-05-17T00:00:00.000000000",
          "2025-05-18T00:00:00.000000000",
          "2025-05-19T00:00:00.000000000",
          "2025-05-20T00:00:00.000000000",
          "2025-05-21T00:00:00.000000000",
          "2025-05-22T00:00:00.000000000",
          "2025-05-23T00:00:00.000000000",
          "2025-05-24T00:00:00.000000000",
          "2025-05-25T00:00:00.000000000",
          "2025-05-26T00:00:00.000000000",
          "2025-05-27T00:00:00.000000000",
          "2025-05-28T00:00:00.000000000",
          "2025-05-29T00:00:00.000000000",
          "2025-05-30T00:00:00.000000000",
          "2025-05-31T00:00:00.000000000",
          "2025-06-01T00:00:00.000000000",
          "2025-06-02T00:00:00.000000000",
          "2025-06-03T00:00:00.000000000",
          "2025-06-04T00:00:00.000000000",
          "2025-06-05T00:00:00.000000000",
          "2025-06-06T00:00:00.000000000",
          "2025-06-07T00:00:00.000000000",
          "2025-06-08T00:00:00.000000000",
          "2025-06-09T00:00:00.000000000",
          "2025-06-10T00:00:00.000000000",
          "2025-06-11T00:00:00.000000000",
          "2025-06-12T00:00:00.000000000",
          "2025-06-13T00:00:00.000000000",
          "2025-06-14T00:00:00.000000000",
          "2025-06-15T00:00:00.000000000",
          "2025-06-16T00:00:00.000000000",
          "2025-06-17T00:00:00.000000000",
          "2025-06-18T00:00:00.000000000",
          "2025-06-19T00:00:00.000000000",
          "2025-06-20T00:00:00.000000000",
          "2025-06-21T00:00:00.000000000",
          "2025-06-22T00:00:00.000000000",
          "2025-06-23T00:00:00.000000000",
          "2025-06-24T00:00:00.000000000",
          "2025-06-25T00:00:00.000000000",
          "2025-06-26T00:00:00.000000000",
          "2025-06-27T00:00:00.000000000",
          "2025-06-28T00:00:00.000000000",
          "2025-06-29T00:00:00.000000000",
          "2025-06-30T00:00:00.000000000",
          "2025-07-01T00:00:00.000000000",
          "2025-07-02T00:00:00.000000000",
          "2025-07-03T00:00:00.000000000",
          "2025-07-04T00:00:00.000000000",
          "2025-07-05T00:00:00.000000000",
          "2025-07-06T00:00:00.000000000",
          "2025-07-07T00:00:00.000000000",
          "2025-07-08T00:00:00.000000000",
          "2025-07-09T00:00:00.000000000",
          "2025-07-10T00:00:00.000000000",
          "2025-07-11T00:00:00.000000000",
          "2025-07-12T00:00:00.000000000",
          "2025-07-13T00:00:00.000000000",
          "2025-07-14T00:00:00.000000000",
          "2025-07-15T00:00:00.000000000",
          "2025-07-16T00:00:00.000000000",
          "2025-07-17T00:00:00.000000000",
          "2025-07-18T00:00:00.000000000",
          "2025-07-19T00:00:00.000000000",
          "2025-07-20T00:00:00.000000000",
          "2025-07-21T00:00:00.000000000",
          "2025-07-22T00:00:00.000000000",
          "2025-07-23T00:00:00.000000000",
          "2025-07-24T00:00:00.000000000",
          "2025-07-25T00:00:00.000000000",
          "2025-07-26T00:00:00.000000000",
          "2025-07-27T00:00:00.000000000",
          "2025-07-28T00:00:00.000000000",
          "2025-07-29T00:00:00.000000000",
          "2025-07-30T00:00:00.000000000",
          "2025-07-31T00:00:00.000000000",
          "2025-08-01T00:00:00.000000000",
          "2025-08-02T00:00:00.000000000",
          "2025-08-03T00:00:00.000000000",
          "2025-08-04T00:00:00.000000000",
          "2025-08-05T00:00:00.000000000",
          "2025-08-06T00:00:00.000000000",
          "2025-08-07T00:00:00.000000000",
          "2025-08-08T00:00:00.000000000",
          "2025-08-09T00:00:00.000000000",
          "2025-08-10T00:00:00.000000000",
          "2025-08-11T00:00:00.000000000",
          "2025-08-12T00:00:00.000000000",
          "2025-08-13T00:00:00.000000000"
         ],
         "y": {
          "dtype": "f8",
          "bdata": "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"
         },
         "type": "scatter",
         "xaxis": "x2",
         "yaxis": "y2"
        },
        {
         "hovertemplate": "<b>Return:</b> %{x:.2f}%<br><b>Count:</b> %{y}<extra></extra>",
         "marker": {
          "color": "lightblue"
         },
         "name": "Returns Distribution",
         "nbinsx": 30,
         "opacity": 0.7,
         "x": {
          "dtype": "f8",
          "bdata": "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"
         },
         "type": "histogram",
         "xaxis": "x3",
         "yaxis": "y3"
        },
        {
         "hovertemplate": "<b>Date:</b> %{x}<br><b>Volatility:</b> %{y:.2f}%<extra></extra>",
         "line": {
          "color": "purple",
          "width": 2
         },
         "mode": "lines",
         "name": "30-Day Rolling Volatility",
         "x": [
          "2024-10-13T00:00:00.000000000",
          "2024-10-14T00:00:00.000000000",
          "2024-10-15T00:00:00.000000000",
          "2024-10-16T00:00:00.000000000",
          "2024-10-17T00:00:00.000000000",
          "2024-10-18T00:00:00.000000000",
          "2024-10-19T00:00:00.000000000",
          "2024-10-20T00:00:00.000000000",
          "2024-10-21T00:00:00.000000000",
          "2024-10-22T00:00:00.000000000",
          "2024-10-23T00:00:00.000000000",
          "2024-10-24T00:00:00.000000000",
          "2024-10-25T00:00:00.000000000",
          "2024-10-26T00:00:00.000000000",
          "2024-10-27T00:00:00.000000000",
          "2024-10-28T00:00:00.000000000",
          "2024-10-29T00:00:00.000000000",
          "2024-10-30T00:00:00.000000000",
          "2024-10-31T00:00:00.000000000",
          "2024-11-01T00:00:00.000000000",
          "2024-11-02T00:00:00.000000000",
          "2024-11-03T00:00:00.000000000",
          "2024-11-04T00:00:00.000000000",
          "2024-11-05T00:00:00.000000000",
          "2024-11-06T00:00:00.000000000",
          "2024-11-07T00:00:00.000000000",
          "2024-11-08T00:00:00.000000000",
          "2024-11-09T00:00:00.000000000",
          "2024-11-10T00:00:00.000000000",
          "2024-11-11T00:00:00.000000000",
          "2024-11-12T00:00:00.000000000",
          "2024-11-13T00:00:00.000000000",
          "2024-11-14T00:00:00.000000000",
          "2024-11-15T00:00:00.000000000",
          "2024-11-16T00:00:00.000000000",
          "2024-11-17T00:00:00.000000000",
          "2024-11-18T00:00:00.000000000",
          "2024-11-19T00:00:00.000000000",
          "2024-11-20T00:00:00.000000000",
          "2024-11-21T00:00:00.000000000",
          "2024-11-22T00:00:00.000000000",
          "2024-11-23T00:00:00.000000000",
          "2024-11-24T00:00:00.000000000",
          "2024-11-25T00:00:00.000000000",
          "2024-11-26T00:00:00.000000000",
          "2024-11-27T00:00:00.000000000",
          "2024-11-28T00:00:00.000000000",
          "2024-11-29T00:00:00.000000000",
          "2024-11-30T00:00:00.000000000",
          "2024-12-01T00:00:00.000000000",
          "2024-12-02T00:00:00.000000000",
          "2024-12-03T00:00:00.000000000",
          "2024-12-04T00:00:00.000000000",
          "2024-12-05T00:00:00.000000000",
          "2024-12-06T00:00:00.000000000",
          "2024-12-07T00:00:00.000000000",
          "2024-12-08T00:00:00.000000000",
          "2024-12-09T00:00:00.000000000",
          "2024-12-10T00:00:00.000000000",
          "2024-12-11T00:00:00.000000000",
          "2024-12-12T00:00:00.000000000",
          "2024-12-13T00:00:00.000000000",
          "2024-12-14T00:00:00.000000000",
          "2024-12-15T00:00:00.000000000",
          "2024-12-16T00:00:00.000000000",
          "2024-12-17T00:00:00.000000000",
          "2024-12-18T00:00:00.000000000",
          "2024-12-19T00:00:00.000000000",
          "2024-12-20T00:00:00.000000000",
          "2024-12-21T00:00:00.000000000",
          "2024-12-22T00:00:00.000000000",
          "2024-12-23T00:00:00.000000000",
          "2024-12-24T00:00:00.000000000",
          "2024-12-25T00:00:00.000000000",
          "2024-12-26T00:00:00.000000000",
          "2024-12-27T00:00:00.000000000",
          "2024-12-28T00:00:00.000000000",
          "2024-12-29T00:00:00.000000000",
          "2024-12-30T00:00:00.000000000",
          "2024-12-31T00:00:00.000000000",
          "2025-01-01T00:00:00.000000000",
          "2025-01-02T00:00:00.000000000",
          "2025-01-03T00:00:00.000000000",
          "2025-01-04T00:00:00.000000000",
          "2025-01-05T00:00:00.000000000",
          "2025-01-06T00:00:00.000000000",
          "2025-01-07T00:00:00.000000000",
          "2025-01-08T00:00:00.000000000",
          "2025-01-09T00:00:00.000000000",
          "2025-01-10T00:00:00.000000000",
          "2025-01-11T00:00:00.000000000",
          "2025-01-12T00:00:00.000000000",
          "2025-01-13T00:00:00.000000000",
          "2025-01-14T00:00:00.000000000",
          "2025-01-15T00:00:00.000000000",
          "2025-01-16T00:00:00.000000000",
          "2025-01-17T00:00:00.000000000",
          "2025-01-18T00:00:00.000000000",
          "2025-01-19T00:00:00.000000000",
          "2025-01-20T00:00:00.000000000",
          "2025-01-21T00:00:00.000000000",
          "2025-01-22T00:00:00.000000000",
          "2025-01-23T00:00:00.000000000",
          "2025-01-24T00:00:00.000000000",
          "2025-01-25T00:00:00.000000000",
          "2025-01-26T00:00:00.000000000",
          "2025-01-27T00:00:00.000000000",
          "2025-01-28T00:00:00.000000000",
          "2025-01-29T00:00:00.000000000",
          "2025-01-30T00:00:00.000000000",
          "2025-01-31T00:00:00.000000000",
          "2025-02-01T00:00:00.000000000",
          "2025-02-02T00:00:00.000000000",
          "2025-02-03T00:00:00.000000000",
          "2025-02-04T00:00:00.000000000",
          "2025-02-05T00:00:00.000000000",
          "2025-02-06T00:00:00.000000000",
          "2025-02-07T00:00:00.000000000",
          "2025-02-08T00:00:00.000000000",
          "2025-02-09T00:00:00.000000000",
          "2025-02-10T00:00:00.000000000",
          "2025-02-11T00:00:00.000000000",
          "2025-02-12T00:00:00.000000000",
          "2025-02-13T00:00:00.000000000",
          "2025-02-14T00:00:00.000000000",
          "2025-02-15T00:00:00.000000000",
          "2025-02-16T00:00:00.000000000",
          "2025-02-17T00:00:00.000000000",
          "2025-02-18T00:00:00.000000000",
          "2025-02-19T00:00:00.000000000",
          "2025-02-20T00:00:00.000000000",
          "2025-02-21T00:00:00.000000000",
          "2025-02-22T00:00:00.000000000",
          "2025-02-23T00:00:00.000000000",
          "2025-02-24T00:00:00.000000000",
          "2025-02-25T00:00:00.000000000",
          "2025-02-26T00:00:00.000000000",
          "2025-02-27T00:00:00.000000000",
          "2025-02-28T00:00:00.000000000",
          "2025-03-01T00:00:00.000000000",
          "2025-03-02T00:00:00.000000000",
          "2025-03-03T00:00:00.000000000",
          "2025-03-04T00:00:00.000000000",
          "2025-03-05T00:00:00.000000000",
          "2025-03-06T00:00:00.000000000",
          "2025-03-07T00:00:00.000000000",
          "2025-03-08T00:00:00.000000000",
          "2025-03-09T00:00:00.000000000",
          "2025-03-10T00:00:00.000000000",
          "2025-03-11T00:00:00.000000000",
          "2025-03-12T00:00:00.000000000",
          "2025-03-13T00:00:00.000000000",
          "2025-03-14T00:00:00.000000000",
          "2025-03-15T00:00:00.000000000",
          "2025-03-16T00:00:00.000000000",
          "2025-03-17T00:00:00.000000000",
          "2025-03-18T00:00:00.000000000",
          "2025-03-19T00:00:00.000000000",
          "2025-03-20T00:00:00.000000000",
          "2025-03-21T00:00:00.000000000",
          "2025-03-22T00:00:00.000000000",
          "2025-03-23T00:00:00.000000000",
          "2025-03-24T00:00:00.000000000",
          "2025-03-25T00:00:00.000000000",
          "2025-03-26T00:00:00.000000000",
          "2025-03-27T00:00:00.000000000",
          "2025-03-28T00:00:00.000000000",
          "2025-03-29T00:00:00.000000000",
          "2025-03-30T00:00:00.000000000",
          "2025-03-31T00:00:00.000000000",
          "2025-04-01T00:00:00.000000000",
          "2025-04-02T00:00:00.000000000",
          "2025-04-03T00:00:00.000000000",
          "2025-04-04T00:00:00.000000000",
          "2025-04-05T00:00:00.000000000",
          "2025-04-06T00:00:00.000000000",
          "2025-04-07T00:00:00.000000000",
          "2025-04-08T00:00:00.000000000",
          "2025-04-09T00:00:00.000000000",
          "2025-04-10T00:00:00.000000000",
          "2025-04-11T00:00:00.000000000",
          "2025-04-12T00:00:00.000000000",
          "2025-04-13T00:00:00.000000000",
          "2025-04-14T00:00:00.000000000",
          "2025-04-15T00:00:00.000000000",
          "2025-04-16T00:00:00.000000000",
          "2025-04-17T00:00:00.000000000",
          "2025-04-18T00:00:00.000000000",
          "2025-04-19T00:00:00.000000000",
          "2025-04-20T00:00:00.000000000",
          "2025-04-21T00:00:00.000000000",
          "2025-04-22T00:00:00.000000000",
          "2025-04-23T00:00:00.000000000",
          "2025-04-24T00:00:00.000000000",
          "2025-04-25T00:00:00.000000000",
          "2025-04-26T00:00:00.000000000",
          "2025-04-27T00:00:00.000000000",
          "2025-04-28T00:00:00.000000000",
          "2025-04-29T00:00:00.000000000",
          "2025-04-30T00:00:00.000000000",
          "2025-05-01T00:00:00.000000000",
          "2025-05-02T00:00:00.000000000",
          "2025-05-03T00:00:00.000000000",
          "2025-05-04T00:00:00.000000000",
          "2025-05-05T00:00:00.000000000",
          "2025-05-06T00:00:00.000000000",
          "2025-05-07T00:00:00.000000000",
          "2025-05-08T00:00:00.000000000",
          "2025-05-09T00:00:00.000000000",
          "2025-05-10T00:00:00.000000000",
          "2025-05-11T00:00:00.000000000",
          "2025-05-12T00:00:00.000000000",
          "2025-05-13T00:00:00.000000000",
          "2025-05-14T00:00:00.000000000",
          "2025-05-15T00:00:00.000000000",
          "2025-05-16T00:00:00.000000000",
          "2025-05-17T00:00:00.000000000",
          "2025-05-18T00:00:00.000000000",
          "2025-05-19T00:00:00.000000000",
          "2025-05-20T00:00:00.000000000",
          "2025-05-21T00:00:00.000000000",
          "2025-05-22T00:00:00.000000000",
          "2025-05-23T00:00:00.000000000",
          "2025-05-24T00:00:00.000000000",
          "2025-05-25T00:00:00.000000000",
          "2025-05-26T00:00:00.000000000",
          "2025-05-27T00:00:00.000000000",
          "2025-05-28T00:00:00.000000000",
          "2025-05-29T00:00:00.000000000",
          "2025-05-30T00:00:00.000000000",
          "2025-05-31T00:00:00.000000000",
          "2025-06-01T00:00:00.000000000",
          "2025-06-02T00:00:00.000000000",
          "2025-06-03T00:00:00.000000000",
          "2025-06-04T00:00:00.000000000",
          "2025-06-05T00:00:00.000000000",
          "2025-06-06T00:00:00.000000000",
          "2025-06-07T00:00:00.000000000",
          "2025-06-08T00:00:00.000000000",
          "2025-06-09T00:00:00.000000000",
          "2025-06-10T00:00:00.000000000",
          "2025-06-11T00:00:00.000000000",
          "2025-06-12T00:00:00.000000000",
          "2025-06-13T00:00:00.000000000",
          "2025-06-14T00:00:00.000000000",
          "2025-06-15T00:00:00.000000000",
          "2025-06-16T00:00:00.000000000",
          "2025-06-17T00:00:00.000000000",
          "2025-06-18T00:00:00.000000000",
          "2025-06-19T00:00:00.000000000",
          "2025-06-20T00:00:00.000000000",
          "2025-06-21T00:00:00.000000000",
          "2025-06-22T00:00:00.000000000",
          "2025-06-23T00:00:00.000000000",
          "2025-06-24T00:00:00.000000000",
          "2025-06-25T00:00:00.000000000",
          "2025-06-26T00:00:00.000000000",
          "2025-06-27T00:00:00.000000000",
          "2025-06-28T00:00:00.000000000",
          "2025-06-29T00:00:00.000000000",
          "2025-06-30T00:00:00.000000000",
          "2025-07-01T00:00:00.000000000",
          "2025-07-02T00:00:00.000000000",
          "2025-07-03T00:00:00.000000000",
          "2025-07-04T00:00:00.000000000",
          "2025-07-05T00:00:00.000000000",
          "2025-07-06T00:00:00.000000000",
          "2025-07-07T00:00:00.000000000",
          "2025-07-08T00:00:00.000000000",
          "2025-07-09T00:00:00.000000000",
          "2025-07-10T00:00:00.000000000",
          "2025-07-11T00:00:00.000000000",
          "2025-07-12T00:00:00.000000000",
          "2025-07-13T00:00:00.000000000",
          "2025-07-14T00:00:00.000000000",
          "2025-07-15T00:00:00.000000000",
          "2025-07-16T00:00:00.000000000",
          "2025-07-17T00:00:00.000000000",
          "2025-07-18T00:00:00.000000000",
          "2025-07-19T00:00:00.000000000",
          "2025-07-20T00:00:00.000000000",
          "2025-07-21T00:00:00.000000000",
          "2025-07-22T00:00:00.000000000",
          "2025-07-23T00:00:00.000000000",
          "2025-07-24T00:00:00.000000000",
          "2025-07-25T00:00:00.000000000",
          "2025-07-26T00:00:00.000000000",
          "2025-07-27T00:00:00.000000000",
          "2025-07-28T00:00:00.000000000",
          "2025-07-29T00:00:00.000000000",
          "2025-07-30T00:00:00.000000000",
          "2025-07-31T00:00:00.000000000",
          "2025-08-01T00:00:00.000000000",
          "2025-08-02T00:00:00.000000000",
          "2025-08-03T00:00:00.000000000",
          "2025-08-04T00:00:00.000000000",
          "2025-08-05T00:00:00.000000000",
          "2025-08-06T00:00:00.000000000",
          "2025-08-07T00:00:00.000000000",
          "2025-08-08T00:00:00.000000000",
          "2025-08-09T00:00:00.000000000",
          "2025-08-10T00:00:00.000000000",
          "2025-08-11T00:00:00.000000000",
          "2025-08-12T00:00:00.000000000",
          "2025-08-13T00:00:00.000000000"
         ],
         "y": {
          "dtype": "f8",
          "bdata": "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"
         },
         "type": "scatter",
         "xaxis": "x4",
         "yaxis": "y4"
        }
       ],
       "layout": {
        "template": {
         "data": {
          "histogram2dcontour": [
           {
            "type": "histogram2dcontour",
            "colorbar": {
             "outlinewidth": 0,
             "ticks": ""
            },
            "colorscale": [
             [
              0.0,
              "#0d0887"
             ],
             [
              0.1111111111111111,
              "#46039f"
             ],
             [
              0.2222222222222222,
              "#7201a8"
             ],
             [
              0.3333333333333333,
              "#9c179e"
             ],
             [
              0.4444444444444444,
              "#bd3786"
             ],
             [
              0.5555555555555556,
              "#d8576b"
             ],
             [
              0.6666666666666666,
              "#ed7953"
             ],
             [
              0.7777777777777778,
              "#fb9f3a"
             ],
             [
              0.8888888888888888,
              "#fdca26"
             ],
             [
              1.0,
              "#f0f921"
             ]
            ]
           }
          ],
          "choropleth": [
           {
            "type": "choropleth",
            "colorbar": {
             "outlinewidth": 0,
             "ticks": ""
            }
           }
          ],
          "histogram2d": [
           {
            "type": "histogram2d",
            "colorbar": {
             "outlinewidth": 0,
             "ticks": ""
            },
            "colorscale": [
             [
              0.0,
              "#0d0887"
             ],
             [
              0.1111111111111111,
              "#46039f"
             ],
             [
              0.2222222222222222,
              "#7201a8"
             ],
             [
              0.3333333333333333,
              "#9c179e"
             ],
             [
              0.4444444444444444,
              "#bd3786"
             ],
             [
              0.5555555555555556,
              "#d8576b"
             ],
             [
              0.6666666666666666,
              "#ed7953"
             ],
             [
              0.7777777777777778,
              "#fb9f3a"
             ],
             [
              0.8888888888888888,
              "#fdca26"
             ],
             [
              1.0,
              "#f0f921"
             ]
            ]
           }
          ],
          "heatmap": [
           {
            "type": "heatmap",
            "colorbar": {
             "outlinewidth": 0,
             "ticks": ""
            },
            "colorscale": [
             [
              0.0,
              "#0d0887"
             ],
             [
              0.1111111111111111,
              "#46039f"
             ],
             [
              0.2222222222222222,
              "#7201a8"
             ],
             [
              0.3333333333333333,
              "#9c179e"
             ],
             [
              0.4444444444444444,
              "#bd3786"
             ],
             [
              0.5555555555555556,
              "#d8576b"
             ],
             [
              0.6666666666666666,
              "#ed7953"
             ],
             [
              0.7777777777777778,
              "#fb9f3a"
             ],
             [
              0.8888888888888888,
              "#fdca26"
             ],
             [
              1.0,
              "#f0f921"
             ]
            ]
           }
          ],
          "contourcarpet": [
           {
            "type": "contourcarpet",
            "colorbar": {
             "outlinewidth": 0,
             "ticks": ""
            }
           }
          ],
          "contour": [
           {
            "type": "contour",
            "colorbar": {
             "outlinewidth": 0,
             "ticks": ""
            },
            "colorscale": [
             [
              0.0,
              "#0d0887"
             ],
             [
              0.1111111111111111,
              "#46039f"
             ],
             [
              0.2222222222222222,
              "#7201a8"
             ],
             [
              0.3333333333333333,
              "#9c179e"
             ],
             [
              0.4444444444444444,
              "#bd3786"
             ],
             [
              0.5555555555555556,
              "#d8576b"
             ],
             [
              0.6666666666666666,
              "#ed7953"
             ],
             [
              0.7777777777777778,
              "#fb9f3a"
             ],
             [
              0.8888888888888888,
              "#fdca26"
             ],
             [
              1.0,
              "#f0f921"
             ]
            ]
           }
          ],
          "surface": [
           {
            "type": "surface",
            "colorbar": {
             "outlinewidth": 0,
             "ticks": ""
            },
            "colorscale": [
             [
              0.0,
              "#0d0887"
             ],
             [
              0.1111111111111111,
              "#46039f"
             ],
             [
              0.2222222222222222,
              "#7201a8"
             ],
             [
              0.3333333333333333,
              "#9c179e"
             ],
             [
              0.4444444444444444,
              "#bd3786"
             ],
             [
              0.5555555555555556,
              "#d8576b"
             ],
             [
              0.6666666666666666,
              "#ed7953"
             ],
             [
              0.7777777777777778,
              "#fb9f3a"
             ],
             [
              0.8888888888888888,
              "#fdca26"
             ],
             [
              1.0,
              "#f0f921"
             ]
            ]
           }
          ],
          "mesh3d": [
           {
            "type": "mesh3d",
            "colorbar": {
             "outlinewidth": 0,
             "ticks": ""
            }
           }
          ],
          "scatter": [
           {
            "fillpattern": {
             "fillmode": "overlay",
             "size": 10,
             "solidity": 0.2
            },
            "type": "scatter"
           }
          ],
          "parcoords": [
           {
            "type": "parcoords",
            "line": {
             "colorbar": {
              "outlinewidth": 0,
              "ticks": ""
             }
            }
           }
          ],
          "scatterpolargl": [
           {
            "type": "scatterpolargl",
            "marker": {
             "colorbar": {
              "outlinewidth": 0,
              "ticks": ""
             }
            }
           }
          ],
          "bar": [
           {
            "error_x": {
             "color": "#2a3f5f"
            },
            "error_y": {
             "color": "#2a3f5f"
            },
            "marker": {
             "line": {
              "color": "white",
              "width": 0.5
             },
             "pattern": {
              "fillmode": "overlay",
              "size": 10,
              "solidity": 0.2
             }
            },
            "type": "bar"
           }
          ],
          "scattergeo": [
           {
            "type": "scattergeo",
            "marker": {
             "colorbar": {
              "outlinewidth": 0,
              "ticks": ""
             }
            }
           }
          ],
          "scatterpolar": [
           {
            "type": "scatterpolar",
            "marker": {
             "colorbar": {
              "outlinewidth": 0,
              "ticks": ""
             }
            }
           }
          ],
          "histogram": [
           {
            "marker": {
             "pattern": {
              "fillmode": "overlay",
              "size": 10,
              "solidity": 0.2
             }
            },
            "type": "histogram"
           }
          ],
          "scattergl": [
           {
            "type": "scattergl",
            "marker": {
             "colorbar": {
              "outlinewidth": 0,
              "ticks": ""
             }
            }
           }
          ],
          "scatter3d": [
           {
            "type": "scatter3d",
            "line": {
             "colorbar": {
              "outlinewidth": 0,
              "ticks": ""
             }
            },
            "marker": {
             "colorbar": {
              "outlinewidth": 0,
              "ticks": ""
             }
            }
           }
          ],
          "scattermap": [
           {
            "type": "scattermap",
            "marker": {
             "colorbar": {
              "outlinewidth": 0,
              "ticks": ""
             }
            }
           }
          ],
          "scattermapbox": [
           {
            "type": "scattermapbox",
            "marker": {
             "colorbar": {
              "outlinewidth": 0,
              "ticks": ""
             }
            }
           }
          ],
          "scatterternary": [
           {
            "type": "scatterternary",
            "marker": {
             "colorbar": {
              "outlinewidth": 0,
              "ticks": ""
             }
            }
           }
          ],
          "scattercarpet": [
           {
            "type": "scattercarpet",
            "marker": {
             "colorbar": {
              "outlinewidth": 0,
              "ticks": ""
             }
            }
           }
          ],
          "carpet": [
           {
            "aaxis": {
             "endlinecolor": "#2a3f5f",
             "gridcolor": "#C8D4E3",
             "linecolor": "#C8D4E3",
             "minorgridcolor": "#C8D4E3",
             "startlinecolor": "#2a3f5f"
            },
            "baxis": {
             "endlinecolor": "#2a3f5f",
             "gridcolor": "#C8D4E3",
             "linecolor": "#C8D4E3",
             "minorgridcolor": "#C8D4E3",
             "startlinecolor": "#2a3f5f"
            },
            "type": "carpet"
           }
          ],
          "table": [
           {
            "cells": {
             "fill": {
              "color": "#EBF0F8"
             },
             "line": {
              "color": "white"
             }
            },
            "header": {
             "fill": {
              "color": "#C8D4E3"
             },
             "line": {
              "color": "white"
             }
            },
            "type": "table"
           }
          ],
          "barpolar": [
           {
            "marker": {
             "line": {
              "color": "white",
              "width": 0.5
             },
             "pattern": {
              "fillmode": "overlay",
              "size": 10,
              "solidity": 0.2
             }
            },
            "type": "barpolar"
           }
          ],
          "pie": [
           {
            "automargin": true,
            "type": "pie"
           }
          ]
         },
         "layout": {
          "autotypenumbers": "strict",
          "colorway": [
           "#636efa",
           "#EF553B",
           "#00cc96",
           "#ab63fa",
           "#FFA15A",
           "#19d3f3",
           "#FF6692",
           "#B6E880",
           "#FF97FF",
           "#FECB52"
          ],
          "font": {
           "color": "#2a3f5f"
          },
          "hovermode": "closest",
          "hoverlabel": {
           "align": "left"
          },
          "paper_bgcolor": "white",
          "plot_bgcolor": "white",
          "polar": {
           "bgcolor": "white",
           "angularaxis": {
            "gridcolor": "#EBF0F8",
            "linecolor": "#EBF0F8",
            "ticks": ""
           },
           "radialaxis": {
            "gridcolor": "#EBF0F8",
            "linecolor": "#EBF0F8",
            "ticks": ""
           }
          },
          "ternary": {
           "bgcolor": "white",
           "aaxis": {
            "gridcolor": "#DFE8F3",
            "linecolor": "#A2B1C6",
            "ticks": ""
           },
           "baxis": {
            "gridcolor": "#DFE8F3",
            "linecolor": "#A2B1C6",
            "ticks": ""
           },
           "caxis": {
            "gridcolor": "#DFE8F3",
            "linecolor": "#A2B1C6",
            "ticks": ""
           }
          },
          "coloraxis": {
           "colorbar": {
            "outlinewidth": 0,
            "ticks": ""
           }
          },
          "colorscale": {
           "sequential": [
            [
             0.0,
             "#0d0887"
            ],
            [
             0.1111111111111111,
             "#46039f"
            ],
            [
             0.2222222222222222,
             "#7201a8"
            ],
            [
             0.3333333333333333,
             "#9c179e"
            ],
            [
             0.4444444444444444,
             "#bd3786"
            ],
            [
             0.5555555555555556,
             "#d8576b"
            ],
            [
             0.6666666666666666,
             "#ed7953"
            ],
            [
             0.7777777777777778,
             "#fb9f3a"
            ],
            [
             0.8888888888888888,
             "#fdca26"
            ],
            [
             1.0,
             "#f0f921"
            ]
           ],
           "sequentialminus": [
            [
             0.0,
             "#0d0887"
            ],
            [
             0.1111111111111111,
             "#46039f"
            ],
            [
             0.2222222222222222,
             "#7201a8"
            ],
            [
             0.3333333333333333,
             "#9c179e"
            ],
            [
             0.4444444444444444,
             "#bd3786"
            ],
            [
             0.5555555555555556,
             "#d8576b"
            ],
            [
             0.6666666666666666,
             "#ed7953"
            ],
            [
             0.7777777777777778,
             "#fb9f3a"
            ],
            [
             0.8888888888888888,
             "#fdca26"
            ],
            [
             1.0,
             "#f0f921"
            ]
           ],
           "diverging": [
            [
             0,
             "#8e0152"
            ],
            [
             0.1,
             "#c51b7d"
            ],
            [
             0.2,
             "#de77ae"
            ],
            [
             0.3,
             "#f1b6da"
            ],
            [
             0.4,
             "#fde0ef"
            ],
            [
             0.5,
             "#f7f7f7"
            ],
            [
             0.6,
             "#e6f5d0"
            ],
            [
             0.7,
             "#b8e186"
            ],
            [
             0.8,
             "#7fbc41"
            ],
            [
             0.9,
             "#4d9221"
            ],
            [
             1,
             "#276419"
            ]
           ]
          },
          "xaxis": {
           "gridcolor": "#EBF0F8",
           "linecolor": "#EBF0F8",
           "ticks": "",
           "title": {
            "standoff": 15
           },
           "zerolinecolor": "#EBF0F8",
           "automargin": true,
           "zerolinewidth": 2
          },
          "yaxis": {
           "gridcolor": "#EBF0F8",
           "linecolor": "#EBF0F8",
           "ticks": "",
           "title": {
            "standoff": 15
           },
           "zerolinecolor": "#EBF0F8",
           "automargin": true,
           "zerolinewidth": 2
          },
          "scene": {
           "xaxis": {
            "backgroundcolor": "white",
            "gridcolor": "#DFE8F3",
            "linecolor": "#EBF0F8",
            "showbackground": true,
            "ticks": "",
            "zerolinecolor": "#EBF0F8",
            "gridwidth": 2
           },
           "yaxis": {
            "backgroundcolor": "white",
            "gridcolor": "#DFE8F3",
            "linecolor": "#EBF0F8",
            "showbackground": true,
            "ticks": "",
            "zerolinecolor": "#EBF0F8",
            "gridwidth": 2
           },
           "zaxis": {
            "backgroundcolor": "white",
            "gridcolor": "#DFE8F3",
            "linecolor": "#EBF0F8",
            "showbackground": true,
            "ticks": "",
            "zerolinecolor": "#EBF0F8",
            "gridwidth": 2
           }
          },
          "shapedefaults": {
           "line": {
            "color": "#2a3f5f"
           }
          },
          "annotationdefaults": {
           "arrowcolor": "#2a3f5f",
           "arrowhead": 0,
           "arrowwidth": 1
          },
          "geo": {
           "bgcolor": "white",
           "landcolor": "white",
           "subunitcolor": "#C8D4E3",
           "showland": true,
           "showlakes": true,
           "lakecolor": "white"
          },
          "title": {
           "x": 0.05
          },
          "mapbox": {
           "style": "light"
          }
         }
        },
        "xaxis": {
         "anchor": "y",
         "domain": [
          0.0,
          0.45
         ],
         "title": {
          "text": "Strategy"
         }
        },
        "yaxis": {
         "anchor": "x",
         "domain": [
          0.625,
          1.0
         ],
         "title": {
          "text": "Annualized Return (%)"
         }
        },
        "xaxis2": {
         "anchor": "y2",
         "domain": [
          0.55,
          1.0
         ],
         "title": {
          "text": "Date"
         }
        },
        "yaxis2": {
         "anchor": "x2",
         "domain": [
          0.625,
          1.0
         ],
         "title": {
          "text": "Drawdown (%)"
         }
        },
        "xaxis3": {
         "anchor": "y3",
         "domain": [
          0.0,
          0.45
         ],
         "title": {
          "text": "Return (%)"
         }
        },
        "yaxis3": {
         "anchor": "x3",
         "domain": [
          0.0,
          0.375
         ],
         "title": {
          "text": "Frequency"
         }
        },
        "xaxis4": {
         "anchor": "y4",
         "domain": [
          0.55,
          1.0
         ],
         "title": {
          "text": "Date"
         }
        },
        "yaxis4": {
         "anchor": "x4",
         "domain": [
          0.0,
          0.375
         ],
         "title": {
          "text": "Volatility (%)"
         }
        },
        "annotations": [
         {
          "font": {
           "size": 16
          },
          "showarrow": false,
          "text": "Strategy Performance Comparison",
          "x": 0.225,
          "xanchor": "center",
          "xref": "paper",
          "y": 1.0,
          "yanchor": "bottom",
          "yref": "paper"
         },
         {
          "font": {
           "size": 16
          },
          "showarrow": false,
          "text": "Portfolio Drawdown",
          "x": 0.775,
          "xanchor": "center",
          "xref": "paper",
          "y": 1.0,
          "yanchor": "bottom",
          "yref": "paper"
         },
         {
          "font": {
           "size": 16
          },
          "showarrow": false,
          "text": "Returns Distribution",
          "x": 0.225,
          "xanchor": "center",
          "xref": "paper",
          "y": 0.375,
          "yanchor": "bottom",
          "yref": "paper"
         },
         {
          "font": {
           "size": 16
          },
          "showarrow": false,
          "text": "Rolling Volatility",
          "x": 0.775,
          "xanchor": "center",
          "xref": "paper",
          "y": 0.375,
          "yanchor": "bottom",
          "yref": "paper"
         },
         {
          "font": {
           "color": "blue",
           "size": 10
          },
          "showarrow": false,
          "text": "Sharpe: 0.778",
          "x": 0,
          "xref": "x",
          "y": 28.913627789478973,
          "yref": "y"
         },
         {
          "font": {
           "color": "orange",
           "size": 10
          },
          "showarrow": false,
          "text": "Sharpe: 1.665",
          "x": 1,
          "xref": "x",
          "y": 69.10056923131503,
          "yref": "y"
         }
        ],
        "title": {
         "text": "Risk Analytics Dashboard",
         "x": 0.5
        },
        "height": 600,
        "showlegend": false
       },
       "config": {
        "plotlyServerURL": "https://plot.ly"
       }
      }
     },
     "metadata": {},
     "output_type": "display_data"
    },
    {
     "data": {
      "text/plain": [
       "<IPython.core.display.HTML object>"
      ],
      "text/html": [
       "\n",
       "        <div class=\"widget-container\">\n",
       "            <h4 style=\"color: #495057; margin: 0 0 20px 0;\">📊 Risk Analysis Summary</h4>\n",
       "\n",
       "            <div style=\"text-align: center; margin-bottom: 25px; padding: 20px; background: linear-gradient(135deg, #f8f9fa 0%, #e9ecef 100%); border-radius: 12px; border: 2px solid #495057;\">\n",
       "                <div style=\"font-size: 32px; font-weight: bold; color: #495057; margin-bottom: 5px;\">\n",
       "                    0.778\n",
       "                </div>\n",
       "                <div style=\"font-size: 16px; color: #495057; font-weight: bold;\">\n",
       "                    Sharpe Ratio\n",
       "                </div>\n",
       "                <div style=\"font-size: 12px; color: #6c757d; margin-top: 5px;\">\n",
       "                    Risk-Adjusted Return Measure<br>\n",
       "                    Risk-Free Rate: 0.04% (Aug 12, 2025)\n",
       "                </div>\n",
       "            </div>\n",
       "\n",
       "            <div style=\"display: grid; grid-template-columns: repeat(3, 1fr); gap: 20px;\">\n",
       "                <div style=\"text-align: center; padding: 15px; background: #f8f9fa; border-radius: 8px;\">\n",
       "                    <div style=\"color: #495057; font-weight: bold; margin-bottom: 10px;\">Return Metrics</div>\n",
       "                    <div style=\"color: #495057;\">Total Return: 31.05%</div>\n",
       "                    <div style=\"color: #495057;\">Annualized Return: 22.63%</div>\n",
       "                    <div style=\"color: #495057;\">Annualized Volatility: 2904.51%</div>\n",
       "                </div>\n",
       "                <div style=\"text-align: center; padding: 15px; background: #f8f9fa; border-radius: 8px;\">\n",
       "                    <div style=\"color: #495057; font-weight: bold; margin-bottom: 10px;\">Risk-Adjusted Metrics</div>\n",
       "                    <div style=\"color: #495057;\">Sharpe Ratio: 0.778</div>\n",
       "                    <div style=\"color: #495057;\">Sortino Ratio: 0.921</div>\n",
       "                    <div style=\"color: #495057;\">Max Drawdown: 34.26%</div>\n",
       "                </div>\n",
       "                <div style=\"text-align: center; padding: 15px; background: #f8f9fa; border-radius: 8px;\">\n",
       "                    <div style=\"color: #495057; font-weight: bold; margin-bottom: 10px;\">Risk Metrics</div>\n",
       "                    <div style=\"color: #495057;\">VaR (Daily, 95%): -2.73%</div>\n",
       "                    <div style=\"color: #495057;\">VaR (Monthly, 95%): -12.53%</div>\n",
       "                    <div style=\"color: #495057;\">Risk-Free Rate: 0.04%</div>\n",
       "                </div>\n",
       "            </div>\n",
       "\n",
       "            <div style=\"margin-top: 15px; padding: 15px; background: #e9ecef; border-radius: 8px;\">\n",
       "                <div style=\"color: #495057; font-size: 14px;\">\n",
       "                    <strong>Methodology:</strong> Sharpe ratio of 0.778 calculated using 252 trading days (industry standard). \n",
       "                    Risk-free rate of 0.04% (as of August 12, 2025) applied consistently across all metrics.\n",
       "                </div>\n",
       "            </div>\n",
       "        </div>\n",
       "        "
      ]
     },
     "metadata": {},
     "output_type": "display_data"
    }
   ],
   "execution_count": 260
  },
  {
   "cell_type": "code",
   "source": "# Strategy vs Bitcoin Buy & Hold Comparison\nif execution_success and backtest_results and crypto_data and 'BTCUSD' in crypto_data:\n    display(HTML('<div class=\"analysis-header\">₿ STRATEGY vs BITCOIN BUY & HOLD COMPARISON</div>'))\n    \n    # Get our strategy data\n    results = backtest_results\n    equity_curve = results.get('equity_curve')\n    df = pd.DataFrame(equity_curve)\n    df['timestamp'] = pd.to_datetime(df['timestamp'])\n    \n    # Our strategy metrics\n    strategy_returns = df['portfolio_value'].pct_change().dropna() * 100\n    strategy_initial = results.get('initial_capital', 100000)\n    strategy_final = results.get('final_value')\n    strategy_total_return = results.get('total_return', 0)\n    strategy_annualized_return = results.get('annualized_return', 0) * 100 if results.get('annualized_return') else 0\n    strategy_annualized_volatility = results.get('annualized_volatility', 0) * 100 if results.get('annualized_volatility') else 0\n    strategy_sharpe = results.get('sharpe_ratio', 0)\n    strategy_max_drawdown = results.get('max_drawdown', 0)\n    \n    # Calculate our strategy drawdown\n    strategy_running_max = df['portfolio_value'].expanding().max()\n    strategy_drawdown = (df['portfolio_value'] - strategy_running_max) / strategy_running_max * 100\n    \n    # Bitcoin data and calculations\n    btc_data = crypto_data['BTCUSD']\n    btc_returns = btc_data['close'].pct_change().dropna() * 100\n    \n    # Bitcoin performance metrics\n    btc_initial_price = btc_data['close'].iloc[0]\n    btc_final_price = btc_data['close'].iloc[-1]\n    btc_total_return = (btc_final_price / btc_initial_price - 1) * 100\n    \n    # Bitcoin portfolio simulation (starting with $100k)\n    btc_portfolio_value = btc_data['close'] / btc_initial_price * strategy_initial\n    btc_final_value = btc_portfolio_value.iloc[-1]\n    \n    # Bitcoin risk metrics\n    btc_annualized_return = ((btc_final_price / btc_initial_price) ** (252 / len(btc_returns)) - 1) * 100\n    btc_volatility = btc_returns.std() * np.sqrt(252)\n    btc_sharpe = (btc_annualized_return - results.get('risk_free_rate', 4.27)) / btc_volatility if btc_volatility > 0 else 0\n    \n    # Bitcoin drawdown\n    btc_running_max = btc_portfolio_value.expanding().max()\n    btc_drawdown = (btc_portfolio_value - btc_running_max) / btc_running_max * 100\n    btc_max_drawdown = btc_drawdown.min()\n    \n    # Create comprehensive comparison dashboard\n    fig = make_subplots(\n        rows=3, cols=2,\n        subplot_titles=('Portfolio Value Comparison', 'Volatility Comparison', \n                       'Drawdown Comparison', 'Rolling Sharpe Ratio Comparison',\n                       'Returns Distribution Comparison', 'Risk-Return Summary'),\n        specs=[[{\"secondary_y\": False}, {\"type\": \"bar\"}],\n               [{\"secondary_y\": False}, {\"secondary_y\": False}],\n               [{\"type\": \"histogram\"}, {\"type\": \"table\"}]]\n    )\n    \n    # 1. Portfolio Value Comparison\n    fig.add_trace(go.Scatter(\n        x=df['timestamp'],\n        y=df['portfolio_value'],\n        mode='lines',\n        name='Our Strategy',\n        line=dict(color='blue', width=3),\n        hovertemplate='<b>Our Strategy</b><br>Date: %{x}<br>Value: $%{y:,.0f}<extra></extra>'\n    ), row=1, col=1)\n    \n    # Align Bitcoin portfolio with our timestamps\n    btc_aligned = btc_portfolio_value.reindex(df.set_index('timestamp').index, method='ffill')\n    fig.add_trace(go.Scatter(\n        x=df['timestamp'],\n        y=btc_aligned.values,\n        mode='lines',\n        name='Bitcoin Buy & Hold',\n        line=dict(color='orange', width=3, dash='dot'),\n        hovertemplate='<b>Bitcoin Buy & Hold</b><br>Date: %{x}<br>Value: $%{y:,.0f}<extra></extra>'\n    ), row=1, col=1)\n    \n    # 2. Volatility Comparison Bar Chart\n    volatility_comparison = ['Our Strategy', 'Bitcoin Buy & Hold']\n    volatility_values = [strategy_annualized_volatility, btc_volatility]\n    fig.add_trace(go.Bar(\n        x=volatility_comparison,\n        y=volatility_values,\n        marker_color=['blue', 'orange'],\n        text=[f'{v:.1f}%' for v in volatility_values],\n        textposition='auto',\n        hovertemplate='<b>%{x}</b><br>Volatility: %{y:.2f}%<extra></extra>'\n    ), row=1, col=2)\n    \n    # 3. Drawdown Comparison\n    fig.add_trace(go.Scatter(\n        x=df['timestamp'],\n        y=strategy_drawdown,\n        mode='lines',\n        fill='tonexty',\n        name='Our Strategy Drawdown',\n        line=dict(color='blue', width=2),\n        fillcolor='rgba(0,0,255,0.2)',\n        hovertemplate='<b>Our Strategy</b><br>Date: %{x}<br>Drawdown: %{y:.2f}%<extra></extra>'\n    ), row=2, col=1)\n    \n    btc_drawdown_aligned = btc_drawdown.reindex(df.set_index('timestamp').index, method='ffill')\n    fig.add_trace(go.Scatter(\n        x=df['timestamp'],\n        y=btc_drawdown_aligned.values,\n        mode='lines',\n        name='Bitcoin Drawdown',\n        line=dict(color='orange', width=2, dash='dot'),\n        hovertemplate='<b>Bitcoin Buy & Hold</b><br>Date: %{x}<br>Drawdown: %{y:.2f}%<extra></extra>'\n    ), row=2, col=1)\n    \n    # 4. Rolling Sharpe Ratio Comparison\n    if len(strategy_returns) > 30 and len(btc_returns) > 30:\n        # Our strategy rolling Sharpe\n        strategy_rolling_mean = strategy_returns.rolling(30).mean()\n        strategy_rolling_std = strategy_returns.rolling(30).std()\n        risk_free_daily = results.get('risk_free_rate', 4.27) / 252\n        strategy_rolling_sharpe = (strategy_rolling_mean - risk_free_daily) / strategy_rolling_std * np.sqrt(252)\n        \n        # Bitcoin rolling Sharpe\n        btc_rolling_mean = btc_returns.rolling(30).mean()\n        btc_rolling_std = btc_returns.rolling(30).std()\n        btc_rolling_sharpe = (btc_rolling_mean - risk_free_daily) / btc_rolling_std * np.sqrt(252)\n        \n        fig.add_trace(go.Scatter(\n            x=df['timestamp'][30:],\n            y=strategy_rolling_sharpe[30:],\n            mode='lines',\n            name='Our Strategy Sharpe',\n            line=dict(color='blue', width=2),\n            hovertemplate='<b>Our Strategy</b><br>Date: %{x}<br>Rolling Sharpe: %{y:.3f}<extra></extra>'\n        ), row=2, col=2)\n        \n        btc_sharpe_aligned = btc_rolling_sharpe.reindex(df.set_index('timestamp').index, method='ffill')[30:]\n        fig.add_trace(go.Scatter(\n            x=df['timestamp'][30:],\n            y=btc_sharpe_aligned.values,\n            mode='lines',\n            name='Bitcoin Sharpe',\n            line=dict(color='orange', width=2, dash='dot'),\n            hovertemplate='<b>Bitcoin Buy & Hold</b><br>Date: %{x}<br>Rolling Sharpe: %{y:.3f}<extra></extra>'\n        ), row=2, col=2)\n    \n    # 5. Returns Distribution Comparison\n    fig.add_trace(go.Histogram(\n        x=strategy_returns,\n        nbinsx=25,\n        name='Our Strategy Returns',\n        marker_color='blue',\n        opacity=0.6,\n        legendgroup='strategy'\n    ), row=3, col=1)\n    \n    btc_returns_aligned = btc_returns.reindex(df.set_index('timestamp').index, method='ffill').dropna()\n    fig.add_trace(go.Histogram(\n        x=btc_returns_aligned,\n        nbinsx=25,\n        name='Bitcoin Returns',\n        marker_color='orange',\n        opacity=0.6,\n        legendgroup='bitcoin'\n    ), row=3, col=1)\n    \n    # 6. Comprehensive Comparison Table\n    alpha = strategy_annualized_return - btc_annualized_return\n    volatility_reduction = btc_volatility - strategy_annualized_volatility\n    sharpe_improvement = strategy_sharpe - btc_sharpe\n    \n    fig.add_trace(go.Table(\n        header=dict(\n            values=['Metric', 'Our Strategy', 'Bitcoin B&H', 'Difference'],\n            fill_color='lightgray',\n            align='center',\n            font=dict(size=12, color='black')\n        ),\n        cells=dict(\n            values=[\n                ['Total Return', 'Annualized Return', 'Volatility', 'Sharpe Ratio', 'Max Drawdown', 'Final Value'],\n                [f'{strategy_total_return:.2f}%', f'{strategy_annualized_return:.2f}%', f'{strategy_annualized_volatility:.2f}%', \n                 f'{strategy_sharpe:.3f}', f'{strategy_max_drawdown:.2f}%', f'${strategy_final:,.0f}'],\n                [f'{btc_total_return:.2f}%', f'{btc_annualized_return:.2f}%', f'{btc_volatility:.2f}%', \n                 f'{btc_sharpe:.3f}', f'{btc_max_drawdown:.2f}%', f'${btc_final_value:,.0f}'],\n                [f'{alpha:+.2f}%', f'{alpha:+.2f}%', f'{-volatility_reduction:+.2f}%', \n                 f'{sharpe_improvement:+.3f}', f'{strategy_max_drawdown - btc_max_drawdown:+.2f}%', \n                 f'${strategy_final - btc_final_value:+,.0f}']\n            ],\n            fill_color=[['white']*6, ['lightblue']*6, ['lightyellow']*6, ['lightgreen']*6],\n            align='center',\n            font=dict(size=11)\n        )\n    ), row=3, col=2)\n    \n    fig.update_layout(\n        height=900,\n        title_text=\"Strategy vs Bitcoin Buy & Hold: Comprehensive Comparison\",\n        title_x=0.5,\n        showlegend=False\n    )\n    \n    # Update axes\n    fig.update_xaxes(title_text=\"Date\", row=1, col=1)\n    fig.update_xaxes(title_text=\"Strategy\", row=1, col=2)\n    fig.update_xaxes(title_text=\"Date\", row=2, col=1)\n    fig.update_xaxes(title_text=\"Date\", row=2, col=2)\n    fig.update_xaxes(title_text=\"Daily Return (%)\", row=3, col=1)\n    \n    fig.update_yaxes(title_text=\"Portfolio Value ($)\", row=1, col=1)\n    fig.update_yaxes(title_text=\"Annualized Volatility (%)\", row=1, col=2)\n    fig.update_yaxes(title_text=\"Drawdown (%)\", row=2, col=1)\n    fig.update_yaxes(title_text=\"Rolling Sharpe Ratio\", row=2, col=2)\n    fig.update_yaxes(title_text=\"Frequency\", row=3, col=1)\n    \n    fig.show()\n    \n    # Key Insights Summary\n    outperformance = \"outperformed\" if alpha > 0 else \"underperformed\"\n    volatility_text = \"lower\" if volatility_reduction > 0 else \"higher\"\n    sharpe_text = \"superior\" if sharpe_improvement > 0 else \"inferior\"\n    \n    display(HTML(f\"\"\"\n    <div class=\"widget-container\">\n        <h4 style=\"color: #495057; margin: 0 0 20px 0;\">🎯 Key Performance Insights</h4>\n        \n        <div style=\"display: grid; grid-template-columns: repeat(2, 1fr); gap: 20px; margin-bottom: 20px;\">\n            <div style=\"text-align: center; padding: 20px; background: linear-gradient(135deg, #e3f2fd 0%, #f1f8fe 100%); border-radius: 12px;\">\n                <div style=\"font-size: 24px; font-weight: bold; color: {'green' if alpha > 0 else 'red'};\">\n                    {alpha:+.2f}%\n                </div>\n                <div style=\"font-size: 14px; color: #495057; margin-top: 5px;\">Alpha vs Bitcoin</div>\n                <div style=\"font-size: 12px; color: #6c757d;\">Excess Annualized Return</div>\n            </div>\n            <div style=\"text-align: center; padding: 20px; background: linear-gradient(135deg, #fff3cd 0%, #fffbee 100%); border-radius: 12px;\">\n                <div style=\"font-size: 24px; font-weight: bold; color: {'green' if volatility_reduction > 0 else 'red'};\">\n                    {volatility_reduction:+.2f}%\n                </div>\n                <div style=\"font-size: 14px; color: #495057; margin-top: 5px;\">Volatility Difference</div>\n                <div style=\"font-size: 12px; color: #6c757d;\">Risk Reduction vs Bitcoin</div>\n            </div>\n        </div>\n        \n        <div style=\"padding: 20px; background: #f8f9fa; border-radius: 8px; margin-bottom: 20px;\">\n            <h5 style=\"color: #495057; margin: 0 0 15px 0;\">📊 Performance Summary</h5>\n            <ul style=\"color: #495057; margin: 0; padding-left: 20px;\">\n                <li><strong>Return Performance:</strong> Our strategy {outperformance} Bitcoin by {abs(alpha):.2f}% annually</li>\n                <li><strong>Risk Profile:</strong> Strategy exhibited {volatility_text} volatility ({abs(volatility_reduction):.2f}% difference)</li>\n                <li><strong>Risk-Adjusted Performance:</strong> {sharpe_text.title()} Sharpe ratio ({sharpe_improvement:+.3f} difference)</li>\n                <li><strong>Maximum Drawdown:</strong> {'Better' if strategy_max_drawdown < abs(btc_max_drawdown) else 'Worse'} drawdown control \n                    ({strategy_max_drawdown:.2f}% vs {abs(btc_max_drawdown):.2f}%)</li>\n                <li><strong>Total Value Creation:</strong> ${abs(strategy_final - btc_final_value):,.0f} {'additional' if strategy_final > btc_final_value else 'less'} value vs Bitcoin</li>\n            </ul>\n        </div>\n        \n        <div style=\"padding: 15px; background: #e9ecef; border-radius: 8px;\">\n            <div style=\"color: #495057; font-size: 14px;\">\n                <strong>Analysis Period:</strong> 2024-2025 (1 Year) | \n                <strong>Initial Capital:</strong> $100,000 | \n                <strong>Benchmark:</strong> Bitcoin Buy & Hold Strategy\n            </div>\n        </div>\n    </div>\n    \"\"\"))\n\nelse:\n    display(HTML('''\n    <div class=\"info-box\">\n        <strong>ℹ️ Bitcoin Comparison Unavailable</strong><br>\n        Execute the backtest above and ensure Bitcoin data is available for comparison.\n    </div>\n    '''))",
   "metadata": {
    "ExecuteTime": {
     "end_time": "2025-08-19T16:26:25.011929Z",
     "start_time": "2025-08-19T16:26:24.976186Z"
    }
   },
   "outputs": [
    {
     "data": {
      "text/plain": [
       "<IPython.core.display.HTML object>"
      ],
      "text/html": [
       "<div class=\"analysis-header\">₿ STRATEGY vs BITCOIN BUY & HOLD COMPARISON</div>"
      ]
     },
     "metadata": {},
     "output_type": "display_data"
    },
    {
     "data": {
      "application/vnd.plotly.v1+json": {
       "data": [
        {
         "hovertemplate": "<b>Our Strategy</b><br>Date: %{x}<br>Value: $%{y:,.0f}<extra></extra>",
         "line": {
          "color": "blue",
          "width": 3
         },
         "mode": "lines",
         "name": "Our Strategy",
         "x": [
          "2024-09-13T00:00:00.000000000",
          "2024-09-14T00:00:00.000000000",
          "2024-09-15T00:00:00.000000000",
          "2024-09-16T00:00:00.000000000",
          "2024-09-17T00:00:00.000000000",
          "2024-09-18T00:00:00.000000000",
          "2024-09-19T00:00:00.000000000",
          "2024-09-20T00:00:00.000000000",
          "2024-09-21T00:00:00.000000000",
          "2024-09-22T00:00:00.000000000",
          "2024-09-23T00:00:00.000000000",
          "2024-09-24T00:00:00.000000000",
          "2024-09-25T00:00:00.000000000",
          "2024-09-26T00:00:00.000000000",
          "2024-09-27T00:00:00.000000000",
          "2024-09-28T00:00:00.000000000",
          "2024-09-29T00:00:00.000000000",
          "2024-09-30T00:00:00.000000000",
          "2024-10-01T00:00:00.000000000",
          "2024-10-02T00:00:00.000000000",
          "2024-10-03T00:00:00.000000000",
          "2024-10-04T00:00:00.000000000",
          "2024-10-05T00:00:00.000000000",
          "2024-10-06T00:00:00.000000000",
          "2024-10-07T00:00:00.000000000",
          "2024-10-08T00:00:00.000000000",
          "2024-10-09T00:00:00.000000000",
          "2024-10-10T00:00:00.000000000",
          "2024-10-11T00:00:00.000000000",
          "2024-10-12T00:00:00.000000000",
          "2024-10-13T00:00:00.000000000",
          "2024-10-14T00:00:00.000000000",
          "2024-10-15T00:00:00.000000000",
          "2024-10-16T00:00:00.000000000",
          "2024-10-17T00:00:00.000000000",
          "2024-10-18T00:00:00.000000000",
          "2024-10-19T00:00:00.000000000",
          "2024-10-20T00:00:00.000000000",
          "2024-10-21T00:00:00.000000000",
          "2024-10-22T00:00:00.000000000",
          "2024-10-23T00:00:00.000000000",
          "2024-10-24T00:00:00.000000000",
          "2024-10-25T00:00:00.000000000",
          "2024-10-26T00:00:00.000000000",
          "2024-10-27T00:00:00.000000000",
          "2024-10-28T00:00:00.000000000",
          "2024-10-29T00:00:00.000000000",
          "2024-10-30T00:00:00.000000000",
          "2024-10-31T00:00:00.000000000",
          "2024-11-01T00:00:00.000000000",
          "2024-11-02T00:00:00.000000000",
          "2024-11-03T00:00:00.000000000",
          "2024-11-04T00:00:00.000000000",
          "2024-11-05T00:00:00.000000000",
          "2024-11-06T00:00:00.000000000",
          "2024-11-07T00:00:00.000000000",
          "2024-11-08T00:00:00.000000000",
          "2024-11-09T00:00:00.000000000",
          "2024-11-10T00:00:00.000000000",
          "2024-11-11T00:00:00.000000000",
          "2024-11-12T00:00:00.000000000",
          "2024-11-13T00:00:00.000000000",
          "2024-11-14T00:00:00.000000000",
          "2024-11-15T00:00:00.000000000",
          "2024-11-16T00:00:00.000000000",
          "2024-11-17T00:00:00.000000000",
          "2024-11-18T00:00:00.000000000",
          "2024-11-19T00:00:00.000000000",
          "2024-11-20T00:00:00.000000000",
          "2024-11-21T00:00:00.000000000",
          "2024-11-22T00:00:00.000000000",
          "2024-11-23T00:00:00.000000000",
          "2024-11-24T00:00:00.000000000",
          "2024-11-25T00:00:00.000000000",
          "2024-11-26T00:00:00.000000000",
          "2024-11-27T00:00:00.000000000",
          "2024-11-28T00:00:00.000000000",
          "2024-11-29T00:00:00.000000000",
          "2024-11-30T00:00:00.000000000",
          "2024-12-01T00:00:00.000000000",
          "2024-12-02T00:00:00.000000000",
          "2024-12-03T00:00:00.000000000",
          "2024-12-04T00:00:00.000000000",
          "2024-12-05T00:00:00.000000000",
          "2024-12-06T00:00:00.000000000",
          "2024-12-07T00:00:00.000000000",
          "2024-12-08T00:00:00.000000000",
          "2024-12-09T00:00:00.000000000",
          "2024-12-10T00:00:00.000000000",
          "2024-12-11T00:00:00.000000000",
          "2024-12-12T00:00:00.000000000",
          "2024-12-13T00:00:00.000000000",
          "2024-12-14T00:00:00.000000000",
          "2024-12-15T00:00:00.000000000",
          "2024-12-16T00:00:00.000000000",
          "2024-12-17T00:00:00.000000000",
          "2024-12-18T00:00:00.000000000",
          "2024-12-19T00:00:00.000000000",
          "2024-12-20T00:00:00.000000000",
          "2024-12-21T00:00:00.000000000",
          "2024-12-22T00:00:00.000000000",
          "2024-12-23T00:00:00.000000000",
          "2024-12-24T00:00:00.000000000",
          "2024-12-25T00:00:00.000000000",
          "2024-12-26T00:00:00.000000000",
          "2024-12-27T00:00:00.000000000",
          "2024-12-28T00:00:00.000000000",
          "2024-12-29T00:00:00.000000000",
          "2024-12-30T00:00:00.000000000",
          "2024-12-31T00:00:00.000000000",
          "2025-01-01T00:00:00.000000000",
          "2025-01-02T00:00:00.000000000",
          "2025-01-03T00:00:00.000000000",
          "2025-01-04T00:00:00.000000000",
          "2025-01-05T00:00:00.000000000",
          "2025-01-06T00:00:00.000000000",
          "2025-01-07T00:00:00.000000000",
          "2025-01-08T00:00:00.000000000",
          "2025-01-09T00:00:00.000000000",
          "2025-01-10T00:00:00.000000000",
          "2025-01-11T00:00:00.000000000",
          "2025-01-12T00:00:00.000000000",
          "2025-01-13T00:00:00.000000000",
          "2025-01-14T00:00:00.000000000",
          "2025-01-15T00:00:00.000000000",
          "2025-01-16T00:00:00.000000000",
          "2025-01-17T00:00:00.000000000",
          "2025-01-18T00:00:00.000000000",
          "2025-01-19T00:00:00.000000000",
          "2025-01-20T00:00:00.000000000",
          "2025-01-21T00:00:00.000000000",
          "2025-01-22T00:00:00.000000000",
          "2025-01-23T00:00:00.000000000",
          "2025-01-24T00:00:00.000000000",
          "2025-01-25T00:00:00.000000000",
          "2025-01-26T00:00:00.000000000",
          "2025-01-27T00:00:00.000000000",
          "2025-01-28T00:00:00.000000000",
          "2025-01-29T00:00:00.000000000",
          "2025-01-30T00:00:00.000000000",
          "2025-01-31T00:00:00.000000000",
          "2025-02-01T00:00:00.000000000",
          "2025-02-02T00:00:00.000000000",
          "2025-02-03T00:00:00.000000000",
          "2025-02-04T00:00:00.000000000",
          "2025-02-05T00:00:00.000000000",
          "2025-02-06T00:00:00.000000000",
          "2025-02-07T00:00:00.000000000",
          "2025-02-08T00:00:00.000000000",
          "2025-02-09T00:00:00.000000000",
          "2025-02-10T00:00:00.000000000",
          "2025-02-11T00:00:00.000000000",
          "2025-02-12T00:00:00.000000000",
          "2025-02-13T00:00:00.000000000",
          "2025-02-14T00:00:00.000000000",
          "2025-02-15T00:00:00.000000000",
          "2025-02-16T00:00:00.000000000",
          "2025-02-17T00:00:00.000000000",
          "2025-02-18T00:00:00.000000000",
          "2025-02-19T00:00:00.000000000",
          "2025-02-20T00:00:00.000000000",
          "2025-02-21T00:00:00.000000000",
          "2025-02-22T00:00:00.000000000",
          "2025-02-23T00:00:00.000000000",
          "2025-02-24T00:00:00.000000000",
          "2025-02-25T00:00:00.000000000",
          "2025-02-26T00:00:00.000000000",
          "2025-02-27T00:00:00.000000000",
          "2025-02-28T00:00:00.000000000",
          "2025-03-01T00:00:00.000000000",
          "2025-03-02T00:00:00.000000000",
          "2025-03-03T00:00:00.000000000",
          "2025-03-04T00:00:00.000000000",
          "2025-03-05T00:00:00.000000000",
          "2025-03-06T00:00:00.000000000",
          "2025-03-07T00:00:00.000000000",
          "2025-03-08T00:00:00.000000000",
          "2025-03-09T00:00:00.000000000",
          "2025-03-10T00:00:00.000000000",
          "2025-03-11T00:00:00.000000000",
          "2025-03-12T00:00:00.000000000",
          "2025-03-13T00:00:00.000000000",
          "2025-03-14T00:00:00.000000000",
          "2025-03-15T00:00:00.000000000",
          "2025-03-16T00:00:00.000000000",
          "2025-03-17T00:00:00.000000000",
          "2025-03-18T00:00:00.000000000",
          "2025-03-19T00:00:00.000000000",
          "2025-03-20T00:00:00.000000000",
          "2025-03-21T00:00:00.000000000",
          "2025-03-22T00:00:00.000000000",
          "2025-03-23T00:00:00.000000000",
          "2025-03-24T00:00:00.000000000",
          "2025-03-25T00:00:00.000000000",
          "2025-03-26T00:00:00.000000000",
          "2025-03-27T00:00:00.000000000",
          "2025-03-28T00:00:00.000000000",
          "2025-03-29T00:00:00.000000000",
          "2025-03-30T00:00:00.000000000",
          "2025-03-31T00:00:00.000000000",
          "2025-04-01T00:00:00.000000000",
          "2025-04-02T00:00:00.000000000",
          "2025-04-03T00:00:00.000000000",
          "2025-04-04T00:00:00.000000000",
          "2025-04-05T00:00:00.000000000",
          "2025-04-06T00:00:00.000000000",
          "2025-04-07T00:00:00.000000000",
          "2025-04-08T00:00:00.000000000",
          "2025-04-09T00:00:00.000000000",
          "2025-04-10T00:00:00.000000000",
          "2025-04-11T00:00:00.000000000",
          "2025-04-12T00:00:00.000000000",
          "2025-04-13T00:00:00.000000000",
          "2025-04-14T00:00:00.000000000",
          "2025-04-15T00:00:00.000000000",
          "2025-04-16T00:00:00.000000000",
          "2025-04-17T00:00:00.000000000",
          "2025-04-18T00:00:00.000000000",
          "2025-04-19T00:00:00.000000000",
          "2025-04-20T00:00:00.000000000",
          "2025-04-21T00:00:00.000000000",
          "2025-04-22T00:00:00.000000000",
          "2025-04-23T00:00:00.000000000",
          "2025-04-24T00:00:00.000000000",
          "2025-04-25T00:00:00.000000000",
          "2025-04-26T00:00:00.000000000",
          "2025-04-27T00:00:00.000000000",
          "2025-04-28T00:00:00.000000000",
          "2025-04-29T00:00:00.000000000",
          "2025-04-30T00:00:00.000000000",
          "2025-05-01T00:00:00.000000000",
          "2025-05-02T00:00:00.000000000",
          "2025-05-03T00:00:00.000000000",
          "2025-05-04T00:00:00.000000000",
          "2025-05-05T00:00:00.000000000",
          "2025-05-06T00:00:00.000000000",
          "2025-05-07T00:00:00.000000000",
          "2025-05-08T00:00:00.000000000",
          "2025-05-09T00:00:00.000000000",
          "2025-05-10T00:00:00.000000000",
          "2025-05-11T00:00:00.000000000",
          "2025-05-12T00:00:00.000000000",
          "2025-05-13T00:00:00.000000000",
          "2025-05-14T00:00:00.000000000",
          "2025-05-15T00:00:00.000000000",
          "2025-05-16T00:00:00.000000000",
          "2025-05-17T00:00:00.000000000",
          "2025-05-18T00:00:00.000000000",
          "2025-05-19T00:00:00.000000000",
          "2025-05-20T00:00:00.000000000",
          "2025-05-21T00:00:00.000000000",
          "2025-05-22T00:00:00.000000000",
          "2025-05-23T00:00:00.000000000",
          "2025-05-24T00:00:00.000000000",
          "2025-05-25T00:00:00.000000000",
          "2025-05-26T00:00:00.000000000",
          "2025-05-27T00:00:00.000000000",
          "2025-05-28T00:00:00.000000000",
          "2025-05-29T00:00:00.000000000",
          "2025-05-30T00:00:00.000000000",
          "2025-05-31T00:00:00.000000000",
          "2025-06-01T00:00:00.000000000",
          "2025-06-02T00:00:00.000000000",
          "2025-06-03T00:00:00.000000000",
          "2025-06-04T00:00:00.000000000",
          "2025-06-05T00:00:00.000000000",
          "2025-06-06T00:00:00.000000000",
          "2025-06-07T00:00:00.000000000",
          "2025-06-08T00:00:00.000000000",
          "2025-06-09T00:00:00.000000000",
          "2025-06-10T00:00:00.000000000",
          "2025-06-11T00:00:00.000000000",
          "2025-06-12T00:00:00.000000000",
          "2025-06-13T00:00:00.000000000",
          "2025-06-14T00:00:00.000000000",
          "2025-06-15T00:00:00.000000000",
          "2025-06-16T00:00:00.000000000",
          "2025-06-17T00:00:00.000000000",
          "2025-06-18T00:00:00.000000000",
          "2025-06-19T00:00:00.000000000",
          "2025-06-20T00:00:00.000000000",
          "2025-06-21T00:00:00.000000000",
          "2025-06-22T00:00:00.000000000",
          "2025-06-23T00:00:00.000000000",
          "2025-06-24T00:00:00.000000000",
          "2025-06-25T00:00:00.000000000",
          "2025-06-26T00:00:00.000000000",
          "2025-06-27T00:00:00.000000000",
          "2025-06-28T00:00:00.000000000",
          "2025-06-29T00:00:00.000000000",
          "2025-06-30T00:00:00.000000000",
          "2025-07-01T00:00:00.000000000",
          "2025-07-02T00:00:00.000000000",
          "2025-07-03T00:00:00.000000000",
          "2025-07-04T00:00:00.000000000",
          "2025-07-05T00:00:00.000000000",
          "2025-07-06T00:00:00.000000000",
          "2025-07-07T00:00:00.000000000",
          "2025-07-08T00:00:00.000000000",
          "2025-07-09T00:00:00.000000000",
          "2025-07-10T00:00:00.000000000",
          "2025-07-11T00:00:00.000000000",
          "2025-07-12T00:00:00.000000000",
          "2025-07-13T00:00:00.000000000",
          "2025-07-14T00:00:00.000000000",
          "2025-07-15T00:00:00.000000000",
          "2025-07-16T00:00:00.000000000",
          "2025-07-17T00:00:00.000000000",
          "2025-07-18T00:00:00.000000000",
          "2025-07-19T00:00:00.000000000",
          "2025-07-20T00:00:00.000000000",
          "2025-07-21T00:00:00.000000000",
          "2025-07-22T00:00:00.000000000",
          "2025-07-23T00:00:00.000000000",
          "2025-07-24T00:00:00.000000000",
          "2025-07-25T00:00:00.000000000",
          "2025-07-26T00:00:00.000000000",
          "2025-07-27T00:00:00.000000000",
          "2025-07-28T00:00:00.000000000",
          "2025-07-29T00:00:00.000000000",
          "2025-07-30T00:00:00.000000000",
          "2025-07-31T00:00:00.000000000",
          "2025-08-01T00:00:00.000000000",
          "2025-08-02T00:00:00.000000000",
          "2025-08-03T00:00:00.000000000",
          "2025-08-04T00:00:00.000000000",
          "2025-08-05T00:00:00.000000000",
          "2025-08-06T00:00:00.000000000",
          "2025-08-07T00:00:00.000000000",
          "2025-08-08T00:00:00.000000000",
          "2025-08-09T00:00:00.000000000",
          "2025-08-10T00:00:00.000000000",
          "2025-08-11T00:00:00.000000000",
          "2025-08-12T00:00:00.000000000",
          "2025-08-13T00:00:00.000000000"
         ],
         "y": {
          "dtype": "f8",
          "bdata": "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"
         },
         "type": "scatter",
         "xaxis": "x",
         "yaxis": "y"
        },
        {
         "hovertemplate": "<b>Bitcoin Buy & Hold</b><br>Date: %{x}<br>Value: $%{y:,.0f}<extra></extra>",
         "line": {
          "color": "orange",
          "dash": "dot",
          "width": 3
         },
         "mode": "lines",
         "name": "Bitcoin Buy & Hold",
         "x": [
          "2024-09-13T00:00:00.000000000",
          "2024-09-14T00:00:00.000000000",
          "2024-09-15T00:00:00.000000000",
          "2024-09-16T00:00:00.000000000",
          "2024-09-17T00:00:00.000000000",
          "2024-09-18T00:00:00.000000000",
          "2024-09-19T00:00:00.000000000",
          "2024-09-20T00:00:00.000000000",
          "2024-09-21T00:00:00.000000000",
          "2024-09-22T00:00:00.000000000",
          "2024-09-23T00:00:00.000000000",
          "2024-09-24T00:00:00.000000000",
          "2024-09-25T00:00:00.000000000",
          "2024-09-26T00:00:00.000000000",
          "2024-09-27T00:00:00.000000000",
          "2024-09-28T00:00:00.000000000",
          "2024-09-29T00:00:00.000000000",
          "2024-09-30T00:00:00.000000000",
          "2024-10-01T00:00:00.000000000",
          "2024-10-02T00:00:00.000000000",
          "2024-10-03T00:00:00.000000000",
          "2024-10-04T00:00:00.000000000",
          "2024-10-05T00:00:00.000000000",
          "2024-10-06T00:00:00.000000000",
          "2024-10-07T00:00:00.000000000",
          "2024-10-08T00:00:00.000000000",
          "2024-10-09T00:00:00.000000000",
          "2024-10-10T00:00:00.000000000",
          "2024-10-11T00:00:00.000000000",
          "2024-10-12T00:00:00.000000000",
          "2024-10-13T00:00:00.000000000",
          "2024-10-14T00:00:00.000000000",
          "2024-10-15T00:00:00.000000000",
          "2024-10-16T00:00:00.000000000",
          "2024-10-17T00:00:00.000000000",
          "2024-10-18T00:00:00.000000000",
          "2024-10-19T00:00:00.000000000",
          "2024-10-20T00:00:00.000000000",
          "2024-10-21T00:00:00.000000000",
          "2024-10-22T00:00:00.000000000",
          "2024-10-23T00:00:00.000000000",
          "2024-10-24T00:00:00.000000000",
          "2024-10-25T00:00:00.000000000",
          "2024-10-26T00:00:00.000000000",
          "2024-10-27T00:00:00.000000000",
          "2024-10-28T00:00:00.000000000",
          "2024-10-29T00:00:00.000000000",
          "2024-10-30T00:00:00.000000000",
          "2024-10-31T00:00:00.000000000",
          "2024-11-01T00:00:00.000000000",
          "2024-11-02T00:00:00.000000000",
          "2024-11-03T00:00:00.000000000",
          "2024-11-04T00:00:00.000000000",
          "2024-11-05T00:00:00.000000000",
          "2024-11-06T00:00:00.000000000",
          "2024-11-07T00:00:00.000000000",
          "2024-11-08T00:00:00.000000000",
          "2024-11-09T00:00:00.000000000",
          "2024-11-10T00:00:00.000000000",
          "2024-11-11T00:00:00.000000000",
          "2024-11-12T00:00:00.000000000",
          "2024-11-13T00:00:00.000000000",
          "2024-11-14T00:00:00.000000000",
          "2024-11-15T00:00:00.000000000",
          "2024-11-16T00:00:00.000000000",
          "2024-11-17T00:00:00.000000000",
          "2024-11-18T00:00:00.000000000",
          "2024-11-19T00:00:00.000000000",
          "2024-11-20T00:00:00.000000000",
          "2024-11-21T00:00:00.000000000",
          "2024-11-22T00:00:00.000000000",
          "2024-11-23T00:00:00.000000000",
          "2024-11-24T00:00:00.000000000",
          "2024-11-25T00:00:00.000000000",
          "2024-11-26T00:00:00.000000000",
          "2024-11-27T00:00:00.000000000",
          "2024-11-28T00:00:00.000000000",
          "2024-11-29T00:00:00.000000000",
          "2024-11-30T00:00:00.000000000",
          "2024-12-01T00:00:00.000000000",
          "2024-12-02T00:00:00.000000000",
          "2024-12-03T00:00:00.000000000",
          "2024-12-04T00:00:00.000000000",
          "2024-12-05T00:00:00.000000000",
          "2024-12-06T00:00:00.000000000",
          "2024-12-07T00:00:00.000000000",
          "2024-12-08T00:00:00.000000000",
          "2024-12-09T00:00:00.000000000",
          "2024-12-10T00:00:00.000000000",
          "2024-12-11T00:00:00.000000000",
          "2024-12-12T00:00:00.000000000",
          "2024-12-13T00:00:00.000000000",
          "2024-12-14T00:00:00.000000000",
          "2024-12-15T00:00:00.000000000",
          "2024-12-16T00:00:00.000000000",
          "2024-12-17T00:00:00.000000000",
          "2024-12-18T00:00:00.000000000",
          "2024-12-19T00:00:00.000000000",
          "2024-12-20T00:00:00.000000000",
          "2024-12-21T00:00:00.000000000",
          "2024-12-22T00:00:00.000000000",
          "2024-12-23T00:00:00.000000000",
          "2024-12-24T00:00:00.000000000",
          "2024-12-25T00:00:00.000000000",
          "2024-12-26T00:00:00.000000000",
          "2024-12-27T00:00:00.000000000",
          "2024-12-28T00:00:00.000000000",
          "2024-12-29T00:00:00.000000000",
          "2024-12-30T00:00:00.000000000",
          "2024-12-31T00:00:00.000000000",
          "2025-01-01T00:00:00.000000000",
          "2025-01-02T00:00:00.000000000",
          "2025-01-03T00:00:00.000000000",
          "2025-01-04T00:00:00.000000000",
          "2025-01-05T00:00:00.000000000",
          "2025-01-06T00:00:00.000000000",
          "2025-01-07T00:00:00.000000000",
          "2025-01-08T00:00:00.000000000",
          "2025-01-09T00:00:00.000000000",
          "2025-01-10T00:00:00.000000000",
          "2025-01-11T00:00:00.000000000",
          "2025-01-12T00:00:00.000000000",
          "2025-01-13T00:00:00.000000000",
          "2025-01-14T00:00:00.000000000",
          "2025-01-15T00:00:00.000000000",
          "2025-01-16T00:00:00.000000000",
          "2025-01-17T00:00:00.000000000",
          "2025-01-18T00:00:00.000000000",
          "2025-01-19T00:00:00.000000000",
          "2025-01-20T00:00:00.000000000",
          "2025-01-21T00:00:00.000000000",
          "2025-01-22T00:00:00.000000000",
          "2025-01-23T00:00:00.000000000",
          "2025-01-24T00:00:00.000000000",
          "2025-01-25T00:00:00.000000000",
          "2025-01-26T00:00:00.000000000",
          "2025-01-27T00:00:00.000000000",
          "2025-01-28T00:00:00.000000000",
          "2025-01-29T00:00:00.000000000",
          "2025-01-30T00:00:00.000000000",
          "2025-01-31T00:00:00.000000000",
          "2025-02-01T00:00:00.000000000",
          "2025-02-02T00:00:00.000000000",
          "2025-02-03T00:00:00.000000000",
          "2025-02-04T00:00:00.000000000",
          "2025-02-05T00:00:00.000000000",
          "2025-02-06T00:00:00.000000000",
          "2025-02-07T00:00:00.000000000",
          "2025-02-08T00:00:00.000000000",
          "2025-02-09T00:00:00.000000000",
          "2025-02-10T00:00:00.000000000",
          "2025-02-11T00:00:00.000000000",
          "2025-02-12T00:00:00.000000000",
          "2025-02-13T00:00:00.000000000",
          "2025-02-14T00:00:00.000000000",
          "2025-02-15T00:00:00.000000000",
          "2025-02-16T00:00:00.000000000",
          "2025-02-17T00:00:00.000000000",
          "2025-02-18T00:00:00.000000000",
          "2025-02-19T00:00:00.000000000",
          "2025-02-20T00:00:00.000000000",
          "2025-02-21T00:00:00.000000000",
          "2025-02-22T00:00:00.000000000",
          "2025-02-23T00:00:00.000000000",
          "2025-02-24T00:00:00.000000000",
          "2025-02-25T00:00:00.000000000",
          "2025-02-26T00:00:00.000000000",
          "2025-02-27T00:00:00.000000000",
          "2025-02-28T00:00:00.000000000",
          "2025-03-01T00:00:00.000000000",
          "2025-03-02T00:00:00.000000000",
          "2025-03-03T00:00:00.000000000",
          "2025-03-04T00:00:00.000000000",
          "2025-03-05T00:00:00.000000000",
          "2025-03-06T00:00:00.000000000",
          "2025-03-07T00:00:00.000000000",
          "2025-03-08T00:00:00.000000000",
          "2025-03-09T00:00:00.000000000",
          "2025-03-10T00:00:00.000000000",
          "2025-03-11T00:00:00.000000000",
          "2025-03-12T00:00:00.000000000",
          "2025-03-13T00:00:00.000000000",
          "2025-03-14T00:00:00.000000000",
          "2025-03-15T00:00:00.000000000",
          "2025-03-16T00:00:00.000000000",
          "2025-03-17T00:00:00.000000000",
          "2025-03-18T00:00:00.000000000",
          "2025-03-19T00:00:00.000000000",
          "2025-03-20T00:00:00.000000000",
          "2025-03-21T00:00:00.000000000",
          "2025-03-22T00:00:00.000000000",
          "2025-03-23T00:00:00.000000000",
          "2025-03-24T00:00:00.000000000",
          "2025-03-25T00:00:00.000000000",
          "2025-03-26T00:00:00.000000000",
          "2025-03-27T00:00:00.000000000",
          "2025-03-28T00:00:00.000000000",
          "2025-03-29T00:00:00.000000000",
          "2025-03-30T00:00:00.000000000",
          "2025-03-31T00:00:00.000000000",
          "2025-04-01T00:00:00.000000000",
          "2025-04-02T00:00:00.000000000",
          "2025-04-03T00:00:00.000000000",
          "2025-04-04T00:00:00.000000000",
          "2025-04-05T00:00:00.000000000",
          "2025-04-06T00:00:00.000000000",
          "2025-04-07T00:00:00.000000000",
          "2025-04-08T00:00:00.000000000",
          "2025-04-09T00:00:00.000000000",
          "2025-04-10T00:00:00.000000000",
          "2025-04-11T00:00:00.000000000",
          "2025-04-12T00:00:00.000000000",
          "2025-04-13T00:00:00.000000000",
          "2025-04-14T00:00:00.000000000",
          "2025-04-15T00:00:00.000000000",
          "2025-04-16T00:00:00.000000000",
          "2025-04-17T00:00:00.000000000",
          "2025-04-18T00:00:00.000000000",
          "2025-04-19T00:00:00.000000000",
          "2025-04-20T00:00:00.000000000",
          "2025-04-21T00:00:00.000000000",
          "2025-04-22T00:00:00.000000000",
          "2025-04-23T00:00:00.000000000",
          "2025-04-24T00:00:00.000000000",
          "2025-04-25T00:00:00.000000000",
          "2025-04-26T00:00:00.000000000",
          "2025-04-27T00:00:00.000000000",
          "2025-04-28T00:00:00.000000000",
          "2025-04-29T00:00:00.000000000",
          "2025-04-30T00:00:00.000000000",
          "2025-05-01T00:00:00.000000000",
          "2025-05-02T00:00:00.000000000",
          "2025-05-03T00:00:00.000000000",
          "2025-05-04T00:00:00.000000000",
          "2025-05-05T00:00:00.000000000",
          "2025-05-06T00:00:00.000000000",
          "2025-05-07T00:00:00.000000000",
          "2025-05-08T00:00:00.000000000",
          "2025-05-09T00:00:00.000000000",
          "2025-05-10T00:00:00.000000000",
          "2025-05-11T00:00:00.000000000",
          "2025-05-12T00:00:00.000000000",
          "2025-05-13T00:00:00.000000000",
          "2025-05-14T00:00:00.000000000",
          "2025-05-15T00:00:00.000000000",
          "2025-05-16T00:00:00.000000000",
          "2025-05-17T00:00:00.000000000",
          "2025-05-18T00:00:00.000000000",
          "2025-05-19T00:00:00.000000000",
          "2025-05-20T00:00:00.000000000",
          "2025-05-21T00:00:00.000000000",
          "2025-05-22T00:00:00.000000000",
          "2025-05-23T00:00:00.000000000",
          "2025-05-24T00:00:00.000000000",
          "2025-05-25T00:00:00.000000000",
          "2025-05-26T00:00:00.000000000",
          "2025-05-27T00:00:00.000000000",
          "2025-05-28T00:00:00.000000000",
          "2025-05-29T00:00:00.000000000",
          "2025-05-30T00:00:00.000000000",
          "2025-05-31T00:00:00.000000000",
          "2025-06-01T00:00:00.000000000",
          "2025-06-02T00:00:00.000000000",
          "2025-06-03T00:00:00.000000000",
          "2025-06-04T00:00:00.000000000",
          "2025-06-05T00:00:00.000000000",
          "2025-06-06T00:00:00.000000000",
          "2025-06-07T00:00:00.000000000",
          "2025-06-08T00:00:00.000000000",
          "2025-06-09T00:00:00.000000000",
          "2025-06-10T00:00:00.000000000",
          "2025-06-11T00:00:00.000000000",
          "2025-06-12T00:00:00.000000000",
          "2025-06-13T00:00:00.000000000",
          "2025-06-14T00:00:00.000000000",
          "2025-06-15T00:00:00.000000000",
          "2025-06-16T00:00:00.000000000",
          "2025-06-17T00:00:00.000000000",
          "2025-06-18T00:00:00.000000000",
          "2025-06-19T00:00:00.000000000",
          "2025-06-20T00:00:00.000000000",
          "2025-06-21T00:00:00.000000000",
          "2025-06-22T00:00:00.000000000",
          "2025-06-23T00:00:00.000000000",
          "2025-06-24T00:00:00.000000000",
          "2025-06-25T00:00:00.000000000",
          "2025-06-26T00:00:00.000000000",
          "2025-06-27T00:00:00.000000000",
          "2025-06-28T00:00:00.000000000",
          "2025-06-29T00:00:00.000000000",
          "2025-06-30T00:00:00.000000000",
          "2025-07-01T00:00:00.000000000",
          "2025-07-02T00:00:00.000000000",
          "2025-07-03T00:00:00.000000000",
          "2025-07-04T00:00:00.000000000",
          "2025-07-05T00:00:00.000000000",
          "2025-07-06T00:00:00.000000000",
          "2025-07-07T00:00:00.000000000",
          "2025-07-08T00:00:00.000000000",
          "2025-07-09T00:00:00.000000000",
          "2025-07-10T00:00:00.000000000",
          "2025-07-11T00:00:00.000000000",
          "2025-07-12T00:00:00.000000000",
          "2025-07-13T00:00:00.000000000",
          "2025-07-14T00:00:00.000000000",
          "2025-07-15T00:00:00.000000000",
          "2025-07-16T00:00:00.000000000",
          "2025-07-17T00:00:00.000000000",
          "2025-07-18T00:00:00.000000000",
          "2025-07-19T00:00:00.000000000",
          "2025-07-20T00:00:00.000000000",
          "2025-07-21T00:00:00.000000000",
          "2025-07-22T00:00:00.000000000",
          "2025-07-23T00:00:00.000000000",
          "2025-07-24T00:00:00.000000000",
          "2025-07-25T00:00:00.000000000",
          "2025-07-26T00:00:00.000000000",
          "2025-07-27T00:00:00.000000000",
          "2025-07-28T00:00:00.000000000",
          "2025-07-29T00:00:00.000000000",
          "2025-07-30T00:00:00.000000000",
          "2025-07-31T00:00:00.000000000",
          "2025-08-01T00:00:00.000000000",
          "2025-08-02T00:00:00.000000000",
          "2025-08-03T00:00:00.000000000",
          "2025-08-04T00:00:00.000000000",
          "2025-08-05T00:00:00.000000000",
          "2025-08-06T00:00:00.000000000",
          "2025-08-07T00:00:00.000000000",
          "2025-08-08T00:00:00.000000000",
          "2025-08-09T00:00:00.000000000",
          "2025-08-10T00:00:00.000000000",
          "2025-08-11T00:00:00.000000000",
          "2025-08-12T00:00:00.000000000",
          "2025-08-13T00:00:00.000000000"
         ],
         "y": {
          "dtype": "f8",
          "bdata": "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"
         },
         "type": "scatter",
         "xaxis": "x",
         "yaxis": "y"
        },
        {
         "hovertemplate": "<b>%{x}</b><br>Volatility: %{y:.2f}%<extra></extra>",
         "marker": {
          "color": [
           "blue",
           "orange"
          ]
         },
         "text": [
          "2904.5%",
          "37.7%"
         ],
         "textposition": "auto",
         "x": [
          "Our Strategy",
          "Bitcoin Buy & Hold"
         ],
         "y": [
          2904.5084501755027,
          37.70074934823247
         ],
         "type": "bar",
         "xaxis": "x2",
         "yaxis": "y2"
        },
        {
         "fill": "tonexty",
         "fillcolor": "rgba(0,0,255,0.2)",
         "hovertemplate": "<b>Our Strategy</b><br>Date: %{x}<br>Drawdown: %{y:.2f}%<extra></extra>",
         "line": {
          "color": "blue",
          "width": 2
         },
         "mode": "lines",
         "name": "Our Strategy Drawdown",
         "x": [
          "2024-09-13T00:00:00.000000000",
          "2024-09-14T00:00:00.000000000",
          "2024-09-15T00:00:00.000000000",
          "2024-09-16T00:00:00.000000000",
          "2024-09-17T00:00:00.000000000",
          "2024-09-18T00:00:00.000000000",
          "2024-09-19T00:00:00.000000000",
          "2024-09-20T00:00:00.000000000",
          "2024-09-21T00:00:00.000000000",
          "2024-09-22T00:00:00.000000000",
          "2024-09-23T00:00:00.000000000",
          "2024-09-24T00:00:00.000000000",
          "2024-09-25T00:00:00.000000000",
          "2024-09-26T00:00:00.000000000",
          "2024-09-27T00:00:00.000000000",
          "2024-09-28T00:00:00.000000000",
          "2024-09-29T00:00:00.000000000",
          "2024-09-30T00:00:00.000000000",
          "2024-10-01T00:00:00.000000000",
          "2024-10-02T00:00:00.000000000",
          "2024-10-03T00:00:00.000000000",
          "2024-10-04T00:00:00.000000000",
          "2024-10-05T00:00:00.000000000",
          "2024-10-06T00:00:00.000000000",
          "2024-10-07T00:00:00.000000000",
          "2024-10-08T00:00:00.000000000",
          "2024-10-09T00:00:00.000000000",
          "2024-10-10T00:00:00.000000000",
          "2024-10-11T00:00:00.000000000",
          "2024-10-12T00:00:00.000000000",
          "2024-10-13T00:00:00.000000000",
          "2024-10-14T00:00:00.000000000",
          "2024-10-15T00:00:00.000000000",
          "2024-10-16T00:00:00.000000000",
          "2024-10-17T00:00:00.000000000",
          "2024-10-18T00:00:00.000000000",
          "2024-10-19T00:00:00.000000000",
          "2024-10-20T00:00:00.000000000",
          "2024-10-21T00:00:00.000000000",
          "2024-10-22T00:00:00.000000000",
          "2024-10-23T00:00:00.000000000",
          "2024-10-24T00:00:00.000000000",
          "2024-10-25T00:00:00.000000000",
          "2024-10-26T00:00:00.000000000",
          "2024-10-27T00:00:00.000000000",
          "2024-10-28T00:00:00.000000000",
          "2024-10-29T00:00:00.000000000",
          "2024-10-30T00:00:00.000000000",
          "2024-10-31T00:00:00.000000000",
          "2024-11-01T00:00:00.000000000",
          "2024-11-02T00:00:00.000000000",
          "2024-11-03T00:00:00.000000000",
          "2024-11-04T00:00:00.000000000",
          "2024-11-05T00:00:00.000000000",
          "2024-11-06T00:00:00.000000000",
          "2024-11-07T00:00:00.000000000",
          "2024-11-08T00:00:00.000000000",
          "2024-11-09T00:00:00.000000000",
          "2024-11-10T00:00:00.000000000",
          "2024-11-11T00:00:00.000000000",
          "2024-11-12T00:00:00.000000000",
          "2024-11-13T00:00:00.000000000",
          "2024-11-14T00:00:00.000000000",
          "2024-11-15T00:00:00.000000000",
          "2024-11-16T00:00:00.000000000",
          "2024-11-17T00:00:00.000000000",
          "2024-11-18T00:00:00.000000000",
          "2024-11-19T00:00:00.000000000",
          "2024-11-20T00:00:00.000000000",
          "2024-11-21T00:00:00.000000000",
          "2024-11-22T00:00:00.000000000",
          "2024-11-23T00:00:00.000000000",
          "2024-11-24T00:00:00.000000000",
          "2024-11-25T00:00:00.000000000",
          "2024-11-26T00:00:00.000000000",
          "2024-11-27T00:00:00.000000000",
          "2024-11-28T00:00:00.000000000",
          "2024-11-29T00:00:00.000000000",
          "2024-11-30T00:00:00.000000000",
          "2024-12-01T00:00:00.000000000",
          "2024-12-02T00:00:00.000000000",
          "2024-12-03T00:00:00.000000000",
          "2024-12-04T00:00:00.000000000",
          "2024-12-05T00:00:00.000000000",
          "2024-12-06T00:00:00.000000000",
          "2024-12-07T00:00:00.000000000",
          "2024-12-08T00:00:00.000000000",
          "2024-12-09T00:00:00.000000000",
          "2024-12-10T00:00:00.000000000",
          "2024-12-11T00:00:00.000000000",
          "2024-12-12T00:00:00.000000000",
          "2024-12-13T00:00:00.000000000",
          "2024-12-14T00:00:00.000000000",
          "2024-12-15T00:00:00.000000000",
          "2024-12-16T00:00:00.000000000",
          "2024-12-17T00:00:00.000000000",
          "2024-12-18T00:00:00.000000000",
          "2024-12-19T00:00:00.000000000",
          "2024-12-20T00:00:00.000000000",
          "2024-12-21T00:00:00.000000000",
          "2024-12-22T00:00:00.000000000",
          "2024-12-23T00:00:00.000000000",
          "2024-12-24T00:00:00.000000000",
          "2024-12-25T00:00:00.000000000",
          "2024-12-26T00:00:00.000000000",
          "2024-12-27T00:00:00.000000000",
          "2024-12-28T00:00:00.000000000",
          "2024-12-29T00:00:00.000000000",
          "2024-12-30T00:00:00.000000000",
          "2024-12-31T00:00:00.000000000",
          "2025-01-01T00:00:00.000000000",
          "2025-01-02T00:00:00.000000000",
          "2025-01-03T00:00:00.000000000",
          "2025-01-04T00:00:00.000000000",
          "2025-01-05T00:00:00.000000000",
          "2025-01-06T00:00:00.000000000",
          "2025-01-07T00:00:00.000000000",
          "2025-01-08T00:00:00.000000000",
          "2025-01-09T00:00:00.000000000",
          "2025-01-10T00:00:00.000000000",
          "2025-01-11T00:00:00.000000000",
          "2025-01-12T00:00:00.000000000",
          "2025-01-13T00:00:00.000000000",
          "2025-01-14T00:00:00.000000000",
          "2025-01-15T00:00:00.000000000",
          "2025-01-16T00:00:00.000000000",
          "2025-01-17T00:00:00.000000000",
          "2025-01-18T00:00:00.000000000",
          "2025-01-19T00:00:00.000000000",
          "2025-01-20T00:00:00.000000000",
          "2025-01-21T00:00:00.000000000",
          "2025-01-22T00:00:00.000000000",
          "2025-01-23T00:00:00.000000000",
          "2025-01-24T00:00:00.000000000",
          "2025-01-25T00:00:00.000000000",
          "2025-01-26T00:00:00.000000000",
          "2025-01-27T00:00:00.000000000",
          "2025-01-28T00:00:00.000000000",
          "2025-01-29T00:00:00.000000000",
          "2025-01-30T00:00:00.000000000",
          "2025-01-31T00:00:00.000000000",
          "2025-02-01T00:00:00.000000000",
          "2025-02-02T00:00:00.000000000",
          "2025-02-03T00:00:00.000000000",
          "2025-02-04T00:00:00.000000000",
          "2025-02-05T00:00:00.000000000",
          "2025-02-06T00:00:00.000000000",
          "2025-02-07T00:00:00.000000000",
          "2025-02-08T00:00:00.000000000",
          "2025-02-09T00:00:00.000000000",
          "2025-02-10T00:00:00.000000000",
          "2025-02-11T00:00:00.000000000",
          "2025-02-12T00:00:00.000000000",
          "2025-02-13T00:00:00.000000000",
          "2025-02-14T00:00:00.000000000",
          "2025-02-15T00:00:00.000000000",
          "2025-02-16T00:00:00.000000000",
          "2025-02-17T00:00:00.000000000",
          "2025-02-18T00:00:00.000000000",
          "2025-02-19T00:00:00.000000000",
          "2025-02-20T00:00:00.000000000",
          "2025-02-21T00:00:00.000000000",
          "2025-02-22T00:00:00.000000000",
          "2025-02-23T00:00:00.000000000",
          "2025-02-24T00:00:00.000000000",
          "2025-02-25T00:00:00.000000000",
          "2025-02-26T00:00:00.000000000",
          "2025-02-27T00:00:00.000000000",
          "2025-02-28T00:00:00.000000000",
          "2025-03-01T00:00:00.000000000",
          "2025-03-02T00:00:00.000000000",
          "2025-03-03T00:00:00.000000000",
          "2025-03-04T00:00:00.000000000",
          "2025-03-05T00:00:00.000000000",
          "2025-03-06T00:00:00.000000000",
          "2025-03-07T00:00:00.000000000",
          "2025-03-08T00:00:00.000000000",
          "2025-03-09T00:00:00.000000000",
          "2025-03-10T00:00:00.000000000",
          "2025-03-11T00:00:00.000000000",
          "2025-03-12T00:00:00.000000000",
          "2025-03-13T00:00:00.000000000",
          "2025-03-14T00:00:00.000000000",
          "2025-03-15T00:00:00.000000000",
          "2025-03-16T00:00:00.000000000",
          "2025-03-17T00:00:00.000000000",
          "2025-03-18T00:00:00.000000000",
          "2025-03-19T00:00:00.000000000",
          "2025-03-20T00:00:00.000000000",
          "2025-03-21T00:00:00.000000000",
          "2025-03-22T00:00:00.000000000",
          "2025-03-23T00:00:00.000000000",
          "2025-03-24T00:00:00.000000000",
          "2025-03-25T00:00:00.000000000",
          "2025-03-26T00:00:00.000000000",
          "2025-03-27T00:00:00.000000000",
          "2025-03-28T00:00:00.000000000",
          "2025-03-29T00:00:00.000000000",
          "2025-03-30T00:00:00.000000000",
          "2025-03-31T00:00:00.000000000",
          "2025-04-01T00:00:00.000000000",
          "2025-04-02T00:00:00.000000000",
          "2025-04-03T00:00:00.000000000",
          "2025-04-04T00:00:00.000000000",
          "2025-04-05T00:00:00.000000000",
          "2025-04-06T00:00:00.000000000",
          "2025-04-07T00:00:00.000000000",
          "2025-04-08T00:00:00.000000000",
          "2025-04-09T00:00:00.000000000",
          "2025-04-10T00:00:00.000000000",
          "2025-04-11T00:00:00.000000000",
          "2025-04-12T00:00:00.000000000",
          "2025-04-13T00:00:00.000000000",
          "2025-04-14T00:00:00.000000000",
          "2025-04-15T00:00:00.000000000",
          "2025-04-16T00:00:00.000000000",
          "2025-04-17T00:00:00.000000000",
          "2025-04-18T00:00:00.000000000",
          "2025-04-19T00:00:00.000000000",
          "2025-04-20T00:00:00.000000000",
          "2025-04-21T00:00:00.000000000",
          "2025-04-22T00:00:00.000000000",
          "2025-04-23T00:00:00.000000000",
          "2025-04-24T00:00:00.000000000",
          "2025-04-25T00:00:00.000000000",
          "2025-04-26T00:00:00.000000000",
          "2025-04-27T00:00:00.000000000",
          "2025-04-28T00:00:00.000000000",
          "2025-04-29T00:00:00.000000000",
          "2025-04-30T00:00:00.000000000",
          "2025-05-01T00:00:00.000000000",
          "2025-05-02T00:00:00.000000000",
          "2025-05-03T00:00:00.000000000",
          "2025-05-04T00:00:00.000000000",
          "2025-05-05T00:00:00.000000000",
          "2025-05-06T00:00:00.000000000",
          "2025-05-07T00:00:00.000000000",
          "2025-05-08T00:00:00.000000000",
          "2025-05-09T00:00:00.000000000",
          "2025-05-10T00:00:00.000000000",
          "2025-05-11T00:00:00.000000000",
          "2025-05-12T00:00:00.000000000",
          "2025-05-13T00:00:00.000000000",
          "2025-05-14T00:00:00.000000000",
          "2025-05-15T00:00:00.000000000",
          "2025-05-16T00:00:00.000000000",
          "2025-05-17T00:00:00.000000000",
          "2025-05-18T00:00:00.000000000",
          "2025-05-19T00:00:00.000000000",
          "2025-05-20T00:00:00.000000000",
          "2025-05-21T00:00:00.000000000",
          "2025-05-22T00:00:00.000000000",
          "2025-05-23T00:00:00.000000000",
          "2025-05-24T00:00:00.000000000",
          "2025-05-25T00:00:00.000000000",
          "2025-05-26T00:00:00.000000000",
          "2025-05-27T00:00:00.000000000",
          "2025-05-28T00:00:00.000000000",
          "2025-05-29T00:00:00.000000000",
          "2025-05-30T00:00:00.000000000",
          "2025-05-31T00:00:00.000000000",
          "2025-06-01T00:00:00.000000000",
          "2025-06-02T00:00:00.000000000",
          "2025-06-03T00:00:00.000000000",
          "2025-06-04T00:00:00.000000000",
          "2025-06-05T00:00:00.000000000",
          "2025-06-06T00:00:00.000000000",
          "2025-06-07T00:00:00.000000000",
          "2025-06-08T00:00:00.000000000",
          "2025-06-09T00:00:00.000000000",
          "2025-06-10T00:00:00.000000000",
          "2025-06-11T00:00:00.000000000",
          "2025-06-12T00:00:00.000000000",
          "2025-06-13T00:00:00.000000000",
          "2025-06-14T00:00:00.000000000",
          "2025-06-15T00:00:00.000000000",
          "2025-06-16T00:00:00.000000000",
          "2025-06-17T00:00:00.000000000",
          "2025-06-18T00:00:00.000000000",
          "2025-06-19T00:00:00.000000000",
          "2025-06-20T00:00:00.000000000",
          "2025-06-21T00:00:00.000000000",
          "2025-06-22T00:00:00.000000000",
          "2025-06-23T00:00:00.000000000",
          "2025-06-24T00:00:00.000000000",
          "2025-06-25T00:00:00.000000000",
          "2025-06-26T00:00:00.000000000",
          "2025-06-27T00:00:00.000000000",
          "2025-06-28T00:00:00.000000000",
          "2025-06-29T00:00:00.000000000",
          "2025-06-30T00:00:00.000000000",
          "2025-07-01T00:00:00.000000000",
          "2025-07-02T00:00:00.000000000",
          "2025-07-03T00:00:00.000000000",
          "2025-07-04T00:00:00.000000000",
          "2025-07-05T00:00:00.000000000",
          "2025-07-06T00:00:00.000000000",
          "2025-07-07T00:00:00.000000000",
          "2025-07-08T00:00:00.000000000",
          "2025-07-09T00:00:00.000000000",
          "2025-07-10T00:00:00.000000000",
          "2025-07-11T00:00:00.000000000",
          "2025-07-12T00:00:00.000000000",
          "2025-07-13T00:00:00.000000000",
          "2025-07-14T00:00:00.000000000",
          "2025-07-15T00:00:00.000000000",
          "2025-07-16T00:00:00.000000000",
          "2025-07-17T00:00:00.000000000",
          "2025-07-18T00:00:00.000000000",
          "2025-07-19T00:00:00.000000000",
          "2025-07-20T00:00:00.000000000",
          "2025-07-21T00:00:00.000000000",
          "2025-07-22T00:00:00.000000000",
          "2025-07-23T00:00:00.000000000",
          "2025-07-24T00:00:00.000000000",
          "2025-07-25T00:00:00.000000000",
          "2025-07-26T00:00:00.000000000",
          "2025-07-27T00:00:00.000000000",
          "2025-07-28T00:00:00.000000000",
          "2025-07-29T00:00:00.000000000",
          "2025-07-30T00:00:00.000000000",
          "2025-07-31T00:00:00.000000000",
          "2025-08-01T00:00:00.000000000",
          "2025-08-02T00:00:00.000000000",
          "2025-08-03T00:00:00.000000000",
          "2025-08-04T00:00:00.000000000",
          "2025-08-05T00:00:00.000000000",
          "2025-08-06T00:00:00.000000000",
          "2025-08-07T00:00:00.000000000",
          "2025-08-08T00:00:00.000000000",
          "2025-08-09T00:00:00.000000000",
          "2025-08-10T00:00:00.000000000",
          "2025-08-11T00:00:00.000000000",
          "2025-08-12T00:00:00.000000000",
          "2025-08-13T00:00:00.000000000"
         ],
         "y": {
          "dtype": "f8",
          "bdata": "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"
         },
         "type": "scatter",
         "xaxis": "x3",
         "yaxis": "y3"
        },
        {
         "hovertemplate": "<b>Bitcoin Buy & Hold</b><br>Date: %{x}<br>Drawdown: %{y:.2f}%<extra></extra>",
         "line": {
          "color": "orange",
          "dash": "dot",
          "width": 2
         },
         "mode": "lines",
         "name": "Bitcoin Drawdown",
         "x": [
          "2024-09-13T00:00:00.000000000",
          "2024-09-14T00:00:00.000000000",
          "2024-09-15T00:00:00.000000000",
          "2024-09-16T00:00:00.000000000",
          "2024-09-17T00:00:00.000000000",
          "2024-09-18T00:00:00.000000000",
          "2024-09-19T00:00:00.000000000",
          "2024-09-20T00:00:00.000000000",
          "2024-09-21T00:00:00.000000000",
          "2024-09-22T00:00:00.000000000",
          "2024-09-23T00:00:00.000000000",
          "2024-09-24T00:00:00.000000000",
          "2024-09-25T00:00:00.000000000",
          "2024-09-26T00:00:00.000000000",
          "2024-09-27T00:00:00.000000000",
          "2024-09-28T00:00:00.000000000",
          "2024-09-29T00:00:00.000000000",
          "2024-09-30T00:00:00.000000000",
          "2024-10-01T00:00:00.000000000",
          "2024-10-02T00:00:00.000000000",
          "2024-10-03T00:00:00.000000000",
          "2024-10-04T00:00:00.000000000",
          "2024-10-05T00:00:00.000000000",
          "2024-10-06T00:00:00.000000000",
          "2024-10-07T00:00:00.000000000",
          "2024-10-08T00:00:00.000000000",
          "2024-10-09T00:00:00.000000000",
          "2024-10-10T00:00:00.000000000",
          "2024-10-11T00:00:00.000000000",
          "2024-10-12T00:00:00.000000000",
          "2024-10-13T00:00:00.000000000",
          "2024-10-14T00:00:00.000000000",
          "2024-10-15T00:00:00.000000000",
          "2024-10-16T00:00:00.000000000",
          "2024-10-17T00:00:00.000000000",
          "2024-10-18T00:00:00.000000000",
          "2024-10-19T00:00:00.000000000",
          "2024-10-20T00:00:00.000000000",
          "2024-10-21T00:00:00.000000000",
          "2024-10-22T00:00:00.000000000",
          "2024-10-23T00:00:00.000000000",
          "2024-10-24T00:00:00.000000000",
          "2024-10-25T00:00:00.000000000",
          "2024-10-26T00:00:00.000000000",
          "2024-10-27T00:00:00.000000000",
          "2024-10-28T00:00:00.000000000",
          "2024-10-29T00:00:00.000000000",
          "2024-10-30T00:00:00.000000000",
          "2024-10-31T00:00:00.000000000",
          "2024-11-01T00:00:00.000000000",
          "2024-11-02T00:00:00.000000000",
          "2024-11-03T00:00:00.000000000",
          "2024-11-04T00:00:00.000000000",
          "2024-11-05T00:00:00.000000000",
          "2024-11-06T00:00:00.000000000",
          "2024-11-07T00:00:00.000000000",
          "2024-11-08T00:00:00.000000000",
          "2024-11-09T00:00:00.000000000",
          "2024-11-10T00:00:00.000000000",
          "2024-11-11T00:00:00.000000000",
          "2024-11-12T00:00:00.000000000",
          "2024-11-13T00:00:00.000000000",
          "2024-11-14T00:00:00.000000000",
          "2024-11-15T00:00:00.000000000",
          "2024-11-16T00:00:00.000000000",
          "2024-11-17T00:00:00.000000000",
          "2024-11-18T00:00:00.000000000",
          "2024-11-19T00:00:00.000000000",
          "2024-11-20T00:00:00.000000000",
          "2024-11-21T00:00:00.000000000",
          "2024-11-22T00:00:00.000000000",
          "2024-11-23T00:00:00.000000000",
          "2024-11-24T00:00:00.000000000",
          "2024-11-25T00:00:00.000000000",
          "2024-11-26T00:00:00.000000000",
          "2024-11-27T00:00:00.000000000",
          "2024-11-28T00:00:00.000000000",
          "2024-11-29T00:00:00.000000000",
          "2024-11-30T00:00:00.000000000",
          "2024-12-01T00:00:00.000000000",
          "2024-12-02T00:00:00.000000000",
          "2024-12-03T00:00:00.000000000",
          "2024-12-04T00:00:00.000000000",
          "2024-12-05T00:00:00.000000000",
          "2024-12-06T00:00:00.000000000",
          "2024-12-07T00:00:00.000000000",
          "2024-12-08T00:00:00.000000000",
          "2024-12-09T00:00:00.000000000",
          "2024-12-10T00:00:00.000000000",
          "2024-12-11T00:00:00.000000000",
          "2024-12-12T00:00:00.000000000",
          "2024-12-13T00:00:00.000000000",
          "2024-12-14T00:00:00.000000000",
          "2024-12-15T00:00:00.000000000",
          "2024-12-16T00:00:00.000000000",
          "2024-12-17T00:00:00.000000000",
          "2024-12-18T00:00:00.000000000",
          "2024-12-19T00:00:00.000000000",
          "2024-12-20T00:00:00.000000000",
          "2024-12-21T00:00:00.000000000",
          "2024-12-22T00:00:00.000000000",
          "2024-12-23T00:00:00.000000000",
          "2024-12-24T00:00:00.000000000",
          "2024-12-25T00:00:00.000000000",
          "2024-12-26T00:00:00.000000000",
          "2024-12-27T00:00:00.000000000",
          "2024-12-28T00:00:00.000000000",
          "2024-12-29T00:00:00.000000000",
          "2024-12-30T00:00:00.000000000",
          "2024-12-31T00:00:00.000000000",
          "2025-01-01T00:00:00.000000000",
          "2025-01-02T00:00:00.000000000",
          "2025-01-03T00:00:00.000000000",
          "2025-01-04T00:00:00.000000000",
          "2025-01-05T00:00:00.000000000",
          "2025-01-06T00:00:00.000000000",
          "2025-01-07T00:00:00.000000000",
          "2025-01-08T00:00:00.000000000",
          "2025-01-09T00:00:00.000000000",
          "2025-01-10T00:00:00.000000000",
          "2025-01-11T00:00:00.000000000",
          "2025-01-12T00:00:00.000000000",
          "2025-01-13T00:00:00.000000000",
          "2025-01-14T00:00:00.000000000",
          "2025-01-15T00:00:00.000000000",
          "2025-01-16T00:00:00.000000000",
          "2025-01-17T00:00:00.000000000",
          "2025-01-18T00:00:00.000000000",
          "2025-01-19T00:00:00.000000000",
          "2025-01-20T00:00:00.000000000",
          "2025-01-21T00:00:00.000000000",
          "2025-01-22T00:00:00.000000000",
          "2025-01-23T00:00:00.000000000",
          "2025-01-24T00:00:00.000000000",
          "2025-01-25T00:00:00.000000000",
          "2025-01-26T00:00:00.000000000",
          "2025-01-27T00:00:00.000000000",
          "2025-01-28T00:00:00.000000000",
          "2025-01-29T00:00:00.000000000",
          "2025-01-30T00:00:00.000000000",
          "2025-01-31T00:00:00.000000000",
          "2025-02-01T00:00:00.000000000",
          "2025-02-02T00:00:00.000000000",
          "2025-02-03T00:00:00.000000000",
          "2025-02-04T00:00:00.000000000",
          "2025-02-05T00:00:00.000000000",
          "2025-02-06T00:00:00.000000000",
          "2025-02-07T00:00:00.000000000",
          "2025-02-08T00:00:00.000000000",
          "2025-02-09T00:00:00.000000000",
          "2025-02-10T00:00:00.000000000",
          "2025-02-11T00:00:00.000000000",
          "2025-02-12T00:00:00.000000000",
          "2025-02-13T00:00:00.000000000",
          "2025-02-14T00:00:00.000000000",
          "2025-02-15T00:00:00.000000000",
          "2025-02-16T00:00:00.000000000",
          "2025-02-17T00:00:00.000000000",
          "2025-02-18T00:00:00.000000000",
          "2025-02-19T00:00:00.000000000",
          "2025-02-20T00:00:00.000000000",
          "2025-02-21T00:00:00.000000000",
          "2025-02-22T00:00:00.000000000",
          "2025-02-23T00:00:00.000000000",
          "2025-02-24T00:00:00.000000000",
          "2025-02-25T00:00:00.000000000",
          "2025-02-26T00:00:00.000000000",
          "2025-02-27T00:00:00.000000000",
          "2025-02-28T00:00:00.000000000",
          "2025-03-01T00:00:00.000000000",
          "2025-03-02T00:00:00.000000000",
          "2025-03-03T00:00:00.000000000",
          "2025-03-04T00:00:00.000000000",
          "2025-03-05T00:00:00.000000000",
          "2025-03-06T00:00:00.000000000",
          "2025-03-07T00:00:00.000000000",
          "2025-03-08T00:00:00.000000000",
          "2025-03-09T00:00:00.000000000",
          "2025-03-10T00:00:00.000000000",
          "2025-03-11T00:00:00.000000000",
          "2025-03-12T00:00:00.000000000",
          "2025-03-13T00:00:00.000000000",
          "2025-03-14T00:00:00.000000000",
          "2025-03-15T00:00:00.000000000",
          "2025-03-16T00:00:00.000000000",
          "2025-03-17T00:00:00.000000000",
          "2025-03-18T00:00:00.000000000",
          "2025-03-19T00:00:00.000000000",
          "2025-03-20T00:00:00.000000000",
          "2025-03-21T00:00:00.000000000",
          "2025-03-22T00:00:00.000000000",
          "2025-03-23T00:00:00.000000000",
          "2025-03-24T00:00:00.000000000",
          "2025-03-25T00:00:00.000000000",
          "2025-03-26T00:00:00.000000000",
          "2025-03-27T00:00:00.000000000",
          "2025-03-28T00:00:00.000000000",
          "2025-03-29T00:00:00.000000000",
          "2025-03-30T00:00:00.000000000",
          "2025-03-31T00:00:00.000000000",
          "2025-04-01T00:00:00.000000000",
          "2025-04-02T00:00:00.000000000",
          "2025-04-03T00:00:00.000000000",
          "2025-04-04T00:00:00.000000000",
          "2025-04-05T00:00:00.000000000",
          "2025-04-06T00:00:00.000000000",
          "2025-04-07T00:00:00.000000000",
          "2025-04-08T00:00:00.000000000",
          "2025-04-09T00:00:00.000000000",
          "2025-04-10T00:00:00.000000000",
          "2025-04-11T00:00:00.000000000",
          "2025-04-12T00:00:00.000000000",
          "2025-04-13T00:00:00.000000000",
          "2025-04-14T00:00:00.000000000",
          "2025-04-15T00:00:00.000000000",
          "2025-04-16T00:00:00.000000000",
          "2025-04-17T00:00:00.000000000",
          "2025-04-18T00:00:00.000000000",
          "2025-04-19T00:00:00.000000000",
          "2025-04-20T00:00:00.000000000",
          "2025-04-21T00:00:00.000000000",
          "2025-04-22T00:00:00.000000000",
          "2025-04-23T00:00:00.000000000",
          "2025-04-24T00:00:00.000000000",
          "2025-04-25T00:00:00.000000000",
          "2025-04-26T00:00:00.000000000",
          "2025-04-27T00:00:00.000000000",
          "2025-04-28T00:00:00.000000000",
          "2025-04-29T00:00:00.000000000",
          "2025-04-30T00:00:00.000000000",
          "2025-05-01T00:00:00.000000000",
          "2025-05-02T00:00:00.000000000",
          "2025-05-03T00:00:00.000000000",
          "2025-05-04T00:00:00.000000000",
          "2025-05-05T00:00:00.000000000",
          "2025-05-06T00:00:00.000000000",
          "2025-05-07T00:00:00.000000000",
          "2025-05-08T00:00:00.000000000",
          "2025-05-09T00:00:00.000000000",
          "2025-05-10T00:00:00.000000000",
          "2025-05-11T00:00:00.000000000",
          "2025-05-12T00:00:00.000000000",
          "2025-05-13T00:00:00.000000000",
          "2025-05-14T00:00:00.000000000",
          "2025-05-15T00:00:00.000000000",
          "2025-05-16T00:00:00.000000000",
          "2025-05-17T00:00:00.000000000",
          "2025-05-18T00:00:00.000000000",
          "2025-05-19T00:00:00.000000000",
          "2025-05-20T00:00:00.000000000",
          "2025-05-21T00:00:00.000000000",
          "2025-05-22T00:00:00.000000000",
          "2025-05-23T00:00:00.000000000",
          "2025-05-24T00:00:00.000000000",
          "2025-05-25T00:00:00.000000000",
          "2025-05-26T00:00:00.000000000",
          "2025-05-27T00:00:00.000000000",
          "2025-05-28T00:00:00.000000000",
          "2025-05-29T00:00:00.000000000",
          "2025-05-30T00:00:00.000000000",
          "2025-05-31T00:00:00.000000000",
          "2025-06-01T00:00:00.000000000",
          "2025-06-02T00:00:00.000000000",
          "2025-06-03T00:00:00.000000000",
          "2025-06-04T00:00:00.000000000",
          "2025-06-05T00:00:00.000000000",
          "2025-06-06T00:00:00.000000000",
          "2025-06-07T00:00:00.000000000",
          "2025-06-08T00:00:00.000000000",
          "2025-06-09T00:00:00.000000000",
          "2025-06-10T00:00:00.000000000",
          "2025-06-11T00:00:00.000000000",
          "2025-06-12T00:00:00.000000000",
          "2025-06-13T00:00:00.000000000",
          "2025-06-14T00:00:00.000000000",
          "2025-06-15T00:00:00.000000000",
          "2025-06-16T00:00:00.000000000",
          "2025-06-17T00:00:00.000000000",
          "2025-06-18T00:00:00.000000000",
          "2025-06-19T00:00:00.000000000",
          "2025-06-20T00:00:00.000000000",
          "2025-06-21T00:00:00.000000000",
          "2025-06-22T00:00:00.000000000",
          "2025-06-23T00:00:00.000000000",
          "2025-06-24T00:00:00.000000000",
          "2025-06-25T00:00:00.000000000",
          "2025-06-26T00:00:00.000000000",
          "2025-06-27T00:00:00.000000000",
          "2025-06-28T00:00:00.000000000",
          "2025-06-29T00:00:00.000000000",
          "2025-06-30T00:00:00.000000000",
          "2025-07-01T00:00:00.000000000",
          "2025-07-02T00:00:00.000000000",
          "2025-07-03T00:00:00.000000000",
          "2025-07-04T00:00:00.000000000",
          "2025-07-05T00:00:00.000000000",
          "2025-07-06T00:00:00.000000000",
          "2025-07-07T00:00:00.000000000",
          "2025-07-08T00:00:00.000000000",
          "2025-07-09T00:00:00.000000000",
          "2025-07-10T00:00:00.000000000",
          "2025-07-11T00:00:00.000000000",
          "2025-07-12T00:00:00.000000000",
          "2025-07-13T00:00:00.000000000",
          "2025-07-14T00:00:00.000000000",
          "2025-07-15T00:00:00.000000000",
          "2025-07-16T00:00:00.000000000",
          "2025-07-17T00:00:00.000000000",
          "2025-07-18T00:00:00.000000000",
          "2025-07-19T00:00:00.000000000",
          "2025-07-20T00:00:00.000000000",
          "2025-07-21T00:00:00.000000000",
          "2025-07-22T00:00:00.000000000",
          "2025-07-23T00:00:00.000000000",
          "2025-07-24T00:00:00.000000000",
          "2025-07-25T00:00:00.000000000",
          "2025-07-26T00:00:00.000000000",
          "2025-07-27T00:00:00.000000000",
          "2025-07-28T00:00:00.000000000",
          "2025-07-29T00:00:00.000000000",
          "2025-07-30T00:00:00.000000000",
          "2025-07-31T00:00:00.000000000",
          "2025-08-01T00:00:00.000000000",
          "2025-08-02T00:00:00.000000000",
          "2025-08-03T00:00:00.000000000",
          "2025-08-04T00:00:00.000000000",
          "2025-08-05T00:00:00.000000000",
          "2025-08-06T00:00:00.000000000",
          "2025-08-07T00:00:00.000000000",
          "2025-08-08T00:00:00.000000000",
          "2025-08-09T00:00:00.000000000",
          "2025-08-10T00:00:00.000000000",
          "2025-08-11T00:00:00.000000000",
          "2025-08-12T00:00:00.000000000",
          "2025-08-13T00:00:00.000000000"
         ],
         "y": {
          "dtype": "f8",
          "bdata": "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"
         },
         "type": "scatter",
         "xaxis": "x3",
         "yaxis": "y3"
        },
        {
         "hovertemplate": "<b>Our Strategy</b><br>Date: %{x}<br>Rolling Sharpe: %{y:.3f}<extra></extra>",
         "line": {
          "color": "blue",
          "width": 2
         },
         "mode": "lines",
         "name": "Our Strategy Sharpe",
         "x": [
          "2024-10-13T00:00:00.000000000",
          "2024-10-14T00:00:00.000000000",
          "2024-10-15T00:00:00.000000000",
          "2024-10-16T00:00:00.000000000",
          "2024-10-17T00:00:00.000000000",
          "2024-10-18T00:00:00.000000000",
          "2024-10-19T00:00:00.000000000",
          "2024-10-20T00:00:00.000000000",
          "2024-10-21T00:00:00.000000000",
          "2024-10-22T00:00:00.000000000",
          "2024-10-23T00:00:00.000000000",
          "2024-10-24T00:00:00.000000000",
          "2024-10-25T00:00:00.000000000",
          "2024-10-26T00:00:00.000000000",
          "2024-10-27T00:00:00.000000000",
          "2024-10-28T00:00:00.000000000",
          "2024-10-29T00:00:00.000000000",
          "2024-10-30T00:00:00.000000000",
          "2024-10-31T00:00:00.000000000",
          "2024-11-01T00:00:00.000000000",
          "2024-11-02T00:00:00.000000000",
          "2024-11-03T00:00:00.000000000",
          "2024-11-04T00:00:00.000000000",
          "2024-11-05T00:00:00.000000000",
          "2024-11-06T00:00:00.000000000",
          "2024-11-07T00:00:00.000000000",
          "2024-11-08T00:00:00.000000000",
          "2024-11-09T00:00:00.000000000",
          "2024-11-10T00:00:00.000000000",
          "2024-11-11T00:00:00.000000000",
          "2024-11-12T00:00:00.000000000",
          "2024-11-13T00:00:00.000000000",
          "2024-11-14T00:00:00.000000000",
          "2024-11-15T00:00:00.000000000",
          "2024-11-16T00:00:00.000000000",
          "2024-11-17T00:00:00.000000000",
          "2024-11-18T00:00:00.000000000",
          "2024-11-19T00:00:00.000000000",
          "2024-11-20T00:00:00.000000000",
          "2024-11-21T00:00:00.000000000",
          "2024-11-22T00:00:00.000000000",
          "2024-11-23T00:00:00.000000000",
          "2024-11-24T00:00:00.000000000",
          "2024-11-25T00:00:00.000000000",
          "2024-11-26T00:00:00.000000000",
          "2024-11-27T00:00:00.000000000",
          "2024-11-28T00:00:00.000000000",
          "2024-11-29T00:00:00.000000000",
          "2024-11-30T00:00:00.000000000",
          "2024-12-01T00:00:00.000000000",
          "2024-12-02T00:00:00.000000000",
          "2024-12-03T00:00:00.000000000",
          "2024-12-04T00:00:00.000000000",
          "2024-12-05T00:00:00.000000000",
          "2024-12-06T00:00:00.000000000",
          "2024-12-07T00:00:00.000000000",
          "2024-12-08T00:00:00.000000000",
          "2024-12-09T00:00:00.000000000",
          "2024-12-10T00:00:00.000000000",
          "2024-12-11T00:00:00.000000000",
          "2024-12-12T00:00:00.000000000",
          "2024-12-13T00:00:00.000000000",
          "2024-12-14T00:00:00.000000000",
          "2024-12-15T00:00:00.000000000",
          "2024-12-16T00:00:00.000000000",
          "2024-12-17T00:00:00.000000000",
          "2024-12-18T00:00:00.000000000",
          "2024-12-19T00:00:00.000000000",
          "2024-12-20T00:00:00.000000000",
          "2024-12-21T00:00:00.000000000",
          "2024-12-22T00:00:00.000000000",
          "2024-12-23T00:00:00.000000000",
          "2024-12-24T00:00:00.000000000",
          "2024-12-25T00:00:00.000000000",
          "2024-12-26T00:00:00.000000000",
          "2024-12-27T00:00:00.000000000",
          "2024-12-28T00:00:00.000000000",
          "2024-12-29T00:00:00.000000000",
          "2024-12-30T00:00:00.000000000",
          "2024-12-31T00:00:00.000000000",
          "2025-01-01T00:00:00.000000000",
          "2025-01-02T00:00:00.000000000",
          "2025-01-03T00:00:00.000000000",
          "2025-01-04T00:00:00.000000000",
          "2025-01-05T00:00:00.000000000",
          "2025-01-06T00:00:00.000000000",
          "2025-01-07T00:00:00.000000000",
          "2025-01-08T00:00:00.000000000",
          "2025-01-09T00:00:00.000000000",
          "2025-01-10T00:00:00.000000000",
          "2025-01-11T00:00:00.000000000",
          "2025-01-12T00:00:00.000000000",
          "2025-01-13T00:00:00.000000000",
          "2025-01-14T00:00:00.000000000",
          "2025-01-15T00:00:00.000000000",
          "2025-01-16T00:00:00.000000000",
          "2025-01-17T00:00:00.000000000",
          "2025-01-18T00:00:00.000000000",
          "2025-01-19T00:00:00.000000000",
          "2025-01-20T00:00:00.000000000",
          "2025-01-21T00:00:00.000000000",
          "2025-01-22T00:00:00.000000000",
          "2025-01-23T00:00:00.000000000",
          "2025-01-24T00:00:00.000000000",
          "2025-01-25T00:00:00.000000000",
          "2025-01-26T00:00:00.000000000",
          "2025-01-27T00:00:00.000000000",
          "2025-01-28T00:00:00.000000000",
          "2025-01-29T00:00:00.000000000",
          "2025-01-30T00:00:00.000000000",
          "2025-01-31T00:00:00.000000000",
          "2025-02-01T00:00:00.000000000",
          "2025-02-02T00:00:00.000000000",
          "2025-02-03T00:00:00.000000000",
          "2025-02-04T00:00:00.000000000",
          "2025-02-05T00:00:00.000000000",
          "2025-02-06T00:00:00.000000000",
          "2025-02-07T00:00:00.000000000",
          "2025-02-08T00:00:00.000000000",
          "2025-02-09T00:00:00.000000000",
          "2025-02-10T00:00:00.000000000",
          "2025-02-11T00:00:00.000000000",
          "2025-02-12T00:00:00.000000000",
          "2025-02-13T00:00:00.000000000",
          "2025-02-14T00:00:00.000000000",
          "2025-02-15T00:00:00.000000000",
          "2025-02-16T00:00:00.000000000",
          "2025-02-17T00:00:00.000000000",
          "2025-02-18T00:00:00.000000000",
          "2025-02-19T00:00:00.000000000",
          "2025-02-20T00:00:00.000000000",
          "2025-02-21T00:00:00.000000000",
          "2025-02-22T00:00:00.000000000",
          "2025-02-23T00:00:00.000000000",
          "2025-02-24T00:00:00.000000000",
          "2025-02-25T00:00:00.000000000",
          "2025-02-26T00:00:00.000000000",
          "2025-02-27T00:00:00.000000000",
          "2025-02-28T00:00:00.000000000",
          "2025-03-01T00:00:00.000000000",
          "2025-03-02T00:00:00.000000000",
          "2025-03-03T00:00:00.000000000",
          "2025-03-04T00:00:00.000000000",
          "2025-03-05T00:00:00.000000000",
          "2025-03-06T00:00:00.000000000",
          "2025-03-07T00:00:00.000000000",
          "2025-03-08T00:00:00.000000000",
          "2025-03-09T00:00:00.000000000",
          "2025-03-10T00:00:00.000000000",
          "2025-03-11T00:00:00.000000000",
          "2025-03-12T00:00:00.000000000",
          "2025-03-13T00:00:00.000000000",
          "2025-03-14T00:00:00.000000000",
          "2025-03-15T00:00:00.000000000",
          "2025-03-16T00:00:00.000000000",
          "2025-03-17T00:00:00.000000000",
          "2025-03-18T00:00:00.000000000",
          "2025-03-19T00:00:00.000000000",
          "2025-03-20T00:00:00.000000000",
          "2025-03-21T00:00:00.000000000",
          "2025-03-22T00:00:00.000000000",
          "2025-03-23T00:00:00.000000000",
          "2025-03-24T00:00:00.000000000",
          "2025-03-25T00:00:00.000000000",
          "2025-03-26T00:00:00.000000000",
          "2025-03-27T00:00:00.000000000",
          "2025-03-28T00:00:00.000000000",
          "2025-03-29T00:00:00.000000000",
          "2025-03-30T00:00:00.000000000",
          "2025-03-31T00:00:00.000000000",
          "2025-04-01T00:00:00.000000000",
          "2025-04-02T00:00:00.000000000",
          "2025-04-03T00:00:00.000000000",
          "2025-04-04T00:00:00.000000000",
          "2025-04-05T00:00:00.000000000",
          "2025-04-06T00:00:00.000000000",
          "2025-04-07T00:00:00.000000000",
          "2025-04-08T00:00:00.000000000",
          "2025-04-09T00:00:00.000000000",
          "2025-04-10T00:00:00.000000000",
          "2025-04-11T00:00:00.000000000",
          "2025-04-12T00:00:00.000000000",
          "2025-04-13T00:00:00.000000000",
          "2025-04-14T00:00:00.000000000",
          "2025-04-15T00:00:00.000000000",
          "2025-04-16T00:00:00.000000000",
          "2025-04-17T00:00:00.000000000",
          "2025-04-18T00:00:00.000000000",
          "2025-04-19T00:00:00.000000000",
          "2025-04-20T00:00:00.000000000",
          "2025-04-21T00:00:00.000000000",
          "2025-04-22T00:00:00.000000000",
          "2025-04-23T00:00:00.000000000",
          "2025-04-24T00:00:00.000000000",
          "2025-04-25T00:00:00.000000000",
          "2025-04-26T00:00:00.000000000",
          "2025-04-27T00:00:00.000000000",
          "2025-04-28T00:00:00.000000000",
          "2025-04-29T00:00:00.000000000",
          "2025-04-30T00:00:00.000000000",
          "2025-05-01T00:00:00.000000000",
          "2025-05-02T00:00:00.000000000",
          "2025-05-03T00:00:00.000000000",
          "2025-05-04T00:00:00.000000000",
          "2025-05-05T00:00:00.000000000",
          "2025-05-06T00:00:00.000000000",
          "2025-05-07T00:00:00.000000000",
          "2025-05-08T00:00:00.000000000",
          "2025-05-09T00:00:00.000000000",
          "2025-05-10T00:00:00.000000000",
          "2025-05-11T00:00:00.000000000",
          "2025-05-12T00:00:00.000000000",
          "2025-05-13T00:00:00.000000000",
          "2025-05-14T00:00:00.000000000",
          "2025-05-15T00:00:00.000000000",
          "2025-05-16T00:00:00.000000000",
          "2025-05-17T00:00:00.000000000",
          "2025-05-18T00:00:00.000000000",
          "2025-05-19T00:00:00.000000000",
          "2025-05-20T00:00:00.000000000",
          "2025-05-21T00:00:00.000000000",
          "2025-05-22T00:00:00.000000000",
          "2025-05-23T00:00:00.000000000",
          "2025-05-24T00:00:00.000000000",
          "2025-05-25T00:00:00.000000000",
          "2025-05-26T00:00:00.000000000",
          "2025-05-27T00:00:00.000000000",
          "2025-05-28T00:00:00.000000000",
          "2025-05-29T00:00:00.000000000",
          "2025-05-30T00:00:00.000000000",
          "2025-05-31T00:00:00.000000000",
          "2025-06-01T00:00:00.000000000",
          "2025-06-02T00:00:00.000000000",
          "2025-06-03T00:00:00.000000000",
          "2025-06-04T00:00:00.000000000",
          "2025-06-05T00:00:00.000000000",
          "2025-06-06T00:00:00.000000000",
          "2025-06-07T00:00:00.000000000",
          "2025-06-08T00:00:00.000000000",
          "2025-06-09T00:00:00.000000000",
          "2025-06-10T00:00:00.000000000",
          "2025-06-11T00:00:00.000000000",
          "2025-06-12T00:00:00.000000000",
          "2025-06-13T00:00:00.000000000",
          "2025-06-14T00:00:00.000000000",
          "2025-06-15T00:00:00.000000000",
          "2025-06-16T00:00:00.000000000",
          "2025-06-17T00:00:00.000000000",
          "2025-06-18T00:00:00.000000000",
          "2025-06-19T00:00:00.000000000",
          "2025-06-20T00:00:00.000000000",
          "2025-06-21T00:00:00.000000000",
          "2025-06-22T00:00:00.000000000",
          "2025-06-23T00:00:00.000000000",
          "2025-06-24T00:00:00.000000000",
          "2025-06-25T00:00:00.000000000",
          "2025-06-26T00:00:00.000000000",
          "2025-06-27T00:00:00.000000000",
          "2025-06-28T00:00:00.000000000",
          "2025-06-29T00:00:00.000000000",
          "2025-06-30T00:00:00.000000000",
          "2025-07-01T00:00:00.000000000",
          "2025-07-02T00:00:00.000000000",
          "2025-07-03T00:00:00.000000000",
          "2025-07-04T00:00:00.000000000",
          "2025-07-05T00:00:00.000000000",
          "2025-07-06T00:00:00.000000000",
          "2025-07-07T00:00:00.000000000",
          "2025-07-08T00:00:00.000000000",
          "2025-07-09T00:00:00.000000000",
          "2025-07-10T00:00:00.000000000",
          "2025-07-11T00:00:00.000000000",
          "2025-07-12T00:00:00.000000000",
          "2025-07-13T00:00:00.000000000",
          "2025-07-14T00:00:00.000000000",
          "2025-07-15T00:00:00.000000000",
          "2025-07-16T00:00:00.000000000",
          "2025-07-17T00:00:00.000000000",
          "2025-07-18T00:00:00.000000000",
          "2025-07-19T00:00:00.000000000",
          "2025-07-20T00:00:00.000000000",
          "2025-07-21T00:00:00.000000000",
          "2025-07-22T00:00:00.000000000",
          "2025-07-23T00:00:00.000000000",
          "2025-07-24T00:00:00.000000000",
          "2025-07-25T00:00:00.000000000",
          "2025-07-26T00:00:00.000000000",
          "2025-07-27T00:00:00.000000000",
          "2025-07-28T00:00:00.000000000",
          "2025-07-29T00:00:00.000000000",
          "2025-07-30T00:00:00.000000000",
          "2025-07-31T00:00:00.000000000",
          "2025-08-01T00:00:00.000000000",
          "2025-08-02T00:00:00.000000000",
          "2025-08-03T00:00:00.000000000",
          "2025-08-04T00:00:00.000000000",
          "2025-08-05T00:00:00.000000000",
          "2025-08-06T00:00:00.000000000",
          "2025-08-07T00:00:00.000000000",
          "2025-08-08T00:00:00.000000000",
          "2025-08-09T00:00:00.000000000",
          "2025-08-10T00:00:00.000000000",
          "2025-08-11T00:00:00.000000000",
          "2025-08-12T00:00:00.000000000",
          "2025-08-13T00:00:00.000000000"
         ],
         "y": {
          "dtype": "f8",
          "bdata": "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"
         },
         "type": "scatter",
         "xaxis": "x4",
         "yaxis": "y4"
        },
        {
         "hovertemplate": "<b>Bitcoin Buy & Hold</b><br>Date: %{x}<br>Rolling Sharpe: %{y:.3f}<extra></extra>",
         "line": {
          "color": "orange",
          "dash": "dot",
          "width": 2
         },
         "mode": "lines",
         "name": "Bitcoin Sharpe",
         "x": [
          "2024-10-13T00:00:00.000000000",
          "2024-10-14T00:00:00.000000000",
          "2024-10-15T00:00:00.000000000",
          "2024-10-16T00:00:00.000000000",
          "2024-10-17T00:00:00.000000000",
          "2024-10-18T00:00:00.000000000",
          "2024-10-19T00:00:00.000000000",
          "2024-10-20T00:00:00.000000000",
          "2024-10-21T00:00:00.000000000",
          "2024-10-22T00:00:00.000000000",
          "2024-10-23T00:00:00.000000000",
          "2024-10-24T00:00:00.000000000",
          "2024-10-25T00:00:00.000000000",
          "2024-10-26T00:00:00.000000000",
          "2024-10-27T00:00:00.000000000",
          "2024-10-28T00:00:00.000000000",
          "2024-10-29T00:00:00.000000000",
          "2024-10-30T00:00:00.000000000",
          "2024-10-31T00:00:00.000000000",
          "2024-11-01T00:00:00.000000000",
          "2024-11-02T00:00:00.000000000",
          "2024-11-03T00:00:00.000000000",
          "2024-11-04T00:00:00.000000000",
          "2024-11-05T00:00:00.000000000",
          "2024-11-06T00:00:00.000000000",
          "2024-11-07T00:00:00.000000000",
          "2024-11-08T00:00:00.000000000",
          "2024-11-09T00:00:00.000000000",
          "2024-11-10T00:00:00.000000000",
          "2024-11-11T00:00:00.000000000",
          "2024-11-12T00:00:00.000000000",
          "2024-11-13T00:00:00.000000000",
          "2024-11-14T00:00:00.000000000",
          "2024-11-15T00:00:00.000000000",
          "2024-11-16T00:00:00.000000000",
          "2024-11-17T00:00:00.000000000",
          "2024-11-18T00:00:00.000000000",
          "2024-11-19T00:00:00.000000000",
          "2024-11-20T00:00:00.000000000",
          "2024-11-21T00:00:00.000000000",
          "2024-11-22T00:00:00.000000000",
          "2024-11-23T00:00:00.000000000",
          "2024-11-24T00:00:00.000000000",
          "2024-11-25T00:00:00.000000000",
          "2024-11-26T00:00:00.000000000",
          "2024-11-27T00:00:00.000000000",
          "2024-11-28T00:00:00.000000000",
          "2024-11-29T00:00:00.000000000",
          "2024-11-30T00:00:00.000000000",
          "2024-12-01T00:00:00.000000000",
          "2024-12-02T00:00:00.000000000",
          "2024-12-03T00:00:00.000000000",
          "2024-12-04T00:00:00.000000000",
          "2024-12-05T00:00:00.000000000",
          "2024-12-06T00:00:00.000000000",
          "2024-12-07T00:00:00.000000000",
          "2024-12-08T00:00:00.000000000",
          "2024-12-09T00:00:00.000000000",
          "2024-12-10T00:00:00.000000000",
          "2024-12-11T00:00:00.000000000",
          "2024-12-12T00:00:00.000000000",
          "2024-12-13T00:00:00.000000000",
          "2024-12-14T00:00:00.000000000",
          "2024-12-15T00:00:00.000000000",
          "2024-12-16T00:00:00.000000000",
          "2024-12-17T00:00:00.000000000",
          "2024-12-18T00:00:00.000000000",
          "2024-12-19T00:00:00.000000000",
          "2024-12-20T00:00:00.000000000",
          "2024-12-21T00:00:00.000000000",
          "2024-12-22T00:00:00.000000000",
          "2024-12-23T00:00:00.000000000",
          "2024-12-24T00:00:00.000000000",
          "2024-12-25T00:00:00.000000000",
          "2024-12-26T00:00:00.000000000",
          "2024-12-27T00:00:00.000000000",
          "2024-12-28T00:00:00.000000000",
          "2024-12-29T00:00:00.000000000",
          "2024-12-30T00:00:00.000000000",
          "2024-12-31T00:00:00.000000000",
          "2025-01-01T00:00:00.000000000",
          "2025-01-02T00:00:00.000000000",
          "2025-01-03T00:00:00.000000000",
          "2025-01-04T00:00:00.000000000",
          "2025-01-05T00:00:00.000000000",
          "2025-01-06T00:00:00.000000000",
          "2025-01-07T00:00:00.000000000",
          "2025-01-08T00:00:00.000000000",
          "2025-01-09T00:00:00.000000000",
          "2025-01-10T00:00:00.000000000",
          "2025-01-11T00:00:00.000000000",
          "2025-01-12T00:00:00.000000000",
          "2025-01-13T00:00:00.000000000",
          "2025-01-14T00:00:00.000000000",
          "2025-01-15T00:00:00.000000000",
          "2025-01-16T00:00:00.000000000",
          "2025-01-17T00:00:00.000000000",
          "2025-01-18T00:00:00.000000000",
          "2025-01-19T00:00:00.000000000",
          "2025-01-20T00:00:00.000000000",
          "2025-01-21T00:00:00.000000000",
          "2025-01-22T00:00:00.000000000",
          "2025-01-23T00:00:00.000000000",
          "2025-01-24T00:00:00.000000000",
          "2025-01-25T00:00:00.000000000",
          "2025-01-26T00:00:00.000000000",
          "2025-01-27T00:00:00.000000000",
          "2025-01-28T00:00:00.000000000",
          "2025-01-29T00:00:00.000000000",
          "2025-01-30T00:00:00.000000000",
          "2025-01-31T00:00:00.000000000",
          "2025-02-01T00:00:00.000000000",
          "2025-02-02T00:00:00.000000000",
          "2025-02-03T00:00:00.000000000",
          "2025-02-04T00:00:00.000000000",
          "2025-02-05T00:00:00.000000000",
          "2025-02-06T00:00:00.000000000",
          "2025-02-07T00:00:00.000000000",
          "2025-02-08T00:00:00.000000000",
          "2025-02-09T00:00:00.000000000",
          "2025-02-10T00:00:00.000000000",
          "2025-02-11T00:00:00.000000000",
          "2025-02-12T00:00:00.000000000",
          "2025-02-13T00:00:00.000000000",
          "2025-02-14T00:00:00.000000000",
          "2025-02-15T00:00:00.000000000",
          "2025-02-16T00:00:00.000000000",
          "2025-02-17T00:00:00.000000000",
          "2025-02-18T00:00:00.000000000",
          "2025-02-19T00:00:00.000000000",
          "2025-02-20T00:00:00.000000000",
          "2025-02-21T00:00:00.000000000",
          "2025-02-22T00:00:00.000000000",
          "2025-02-23T00:00:00.000000000",
          "2025-02-24T00:00:00.000000000",
          "2025-02-25T00:00:00.000000000",
          "2025-02-26T00:00:00.000000000",
          "2025-02-27T00:00:00.000000000",
          "2025-02-28T00:00:00.000000000",
          "2025-03-01T00:00:00.000000000",
          "2025-03-02T00:00:00.000000000",
          "2025-03-03T00:00:00.000000000",
          "2025-03-04T00:00:00.000000000",
          "2025-03-05T00:00:00.000000000",
          "2025-03-06T00:00:00.000000000",
          "2025-03-07T00:00:00.000000000",
          "2025-03-08T00:00:00.000000000",
          "2025-03-09T00:00:00.000000000",
          "2025-03-10T00:00:00.000000000",
          "2025-03-11T00:00:00.000000000",
          "2025-03-12T00:00:00.000000000",
          "2025-03-13T00:00:00.000000000",
          "2025-03-14T00:00:00.000000000",
          "2025-03-15T00:00:00.000000000",
          "2025-03-16T00:00:00.000000000",
          "2025-03-17T00:00:00.000000000",
          "2025-03-18T00:00:00.000000000",
          "2025-03-19T00:00:00.000000000",
          "2025-03-20T00:00:00.000000000",
          "2025-03-21T00:00:00.000000000",
          "2025-03-22T00:00:00.000000000",
          "2025-03-23T00:00:00.000000000",
          "2025-03-24T00:00:00.000000000",
          "2025-03-25T00:00:00.000000000",
          "2025-03-26T00:00:00.000000000",
          "2025-03-27T00:00:00.000000000",
          "2025-03-28T00:00:00.000000000",
          "2025-03-29T00:00:00.000000000",
          "2025-03-30T00:00:00.000000000",
          "2025-03-31T00:00:00.000000000",
          "2025-04-01T00:00:00.000000000",
          "2025-04-02T00:00:00.000000000",
          "2025-04-03T00:00:00.000000000",
          "2025-04-04T00:00:00.000000000",
          "2025-04-05T00:00:00.000000000",
          "2025-04-06T00:00:00.000000000",
          "2025-04-07T00:00:00.000000000",
          "2025-04-08T00:00:00.000000000",
          "2025-04-09T00:00:00.000000000",
          "2025-04-10T00:00:00.000000000",
          "2025-04-11T00:00:00.000000000",
          "2025-04-12T00:00:00.000000000",
          "2025-04-13T00:00:00.000000000",
          "2025-04-14T00:00:00.000000000",
          "2025-04-15T00:00:00.000000000",
          "2025-04-16T00:00:00.000000000",
          "2025-04-17T00:00:00.000000000",
          "2025-04-18T00:00:00.000000000",
          "2025-04-19T00:00:00.000000000",
          "2025-04-20T00:00:00.000000000",
          "2025-04-21T00:00:00.000000000",
          "2025-04-22T00:00:00.000000000",
          "2025-04-23T00:00:00.000000000",
          "2025-04-24T00:00:00.000000000",
          "2025-04-25T00:00:00.000000000",
          "2025-04-26T00:00:00.000000000",
          "2025-04-27T00:00:00.000000000",
          "2025-04-28T00:00:00.000000000",
          "2025-04-29T00:00:00.000000000",
          "2025-04-30T00:00:00.000000000",
          "2025-05-01T00:00:00.000000000",
          "2025-05-02T00:00:00.000000000",
          "2025-05-03T00:00:00.000000000",
          "2025-05-04T00:00:00.000000000",
          "2025-05-05T00:00:00.000000000",
          "2025-05-06T00:00:00.000000000",
          "2025-05-07T00:00:00.000000000",
          "2025-05-08T00:00:00.000000000",
          "2025-05-09T00:00:00.000000000",
          "2025-05-10T00:00:00.000000000",
          "2025-05-11T00:00:00.000000000",
          "2025-05-12T00:00:00.000000000",
          "2025-05-13T00:00:00.000000000",
          "2025-05-14T00:00:00.000000000",
          "2025-05-15T00:00:00.000000000",
          "2025-05-16T00:00:00.000000000",
          "2025-05-17T00:00:00.000000000",
          "2025-05-18T00:00:00.000000000",
          "2025-05-19T00:00:00.000000000",
          "2025-05-20T00:00:00.000000000",
          "2025-05-21T00:00:00.000000000",
          "2025-05-22T00:00:00.000000000",
          "2025-05-23T00:00:00.000000000",
          "2025-05-24T00:00:00.000000000",
          "2025-05-25T00:00:00.000000000",
          "2025-05-26T00:00:00.000000000",
          "2025-05-27T00:00:00.000000000",
          "2025-05-28T00:00:00.000000000",
          "2025-05-29T00:00:00.000000000",
          "2025-05-30T00:00:00.000000000",
          "2025-05-31T00:00:00.000000000",
          "2025-06-01T00:00:00.000000000",
          "2025-06-02T00:00:00.000000000",
          "2025-06-03T00:00:00.000000000",
          "2025-06-04T00:00:00.000000000",
          "2025-06-05T00:00:00.000000000",
          "2025-06-06T00:00:00.000000000",
          "2025-06-07T00:00:00.000000000",
          "2025-06-08T00:00:00.000000000",
          "2025-06-09T00:00:00.000000000",
          "2025-06-10T00:00:00.000000000",
          "2025-06-11T00:00:00.000000000",
          "2025-06-12T00:00:00.000000000",
          "2025-06-13T00:00:00.000000000",
          "2025-06-14T00:00:00.000000000",
          "2025-06-15T00:00:00.000000000",
          "2025-06-16T00:00:00.000000000",
          "2025-06-17T00:00:00.000000000",
          "2025-06-18T00:00:00.000000000",
          "2025-06-19T00:00:00.000000000",
          "2025-06-20T00:00:00.000000000",
          "2025-06-21T00:00:00.000000000",
          "2025-06-22T00:00:00.000000000",
          "2025-06-23T00:00:00.000000000",
          "2025-06-24T00:00:00.000000000",
          "2025-06-25T00:00:00.000000000",
          "2025-06-26T00:00:00.000000000",
          "2025-06-27T00:00:00.000000000",
          "2025-06-28T00:00:00.000000000",
          "2025-06-29T00:00:00.000000000",
          "2025-06-30T00:00:00.000000000",
          "2025-07-01T00:00:00.000000000",
          "2025-07-02T00:00:00.000000000",
          "2025-07-03T00:00:00.000000000",
          "2025-07-04T00:00:00.000000000",
          "2025-07-05T00:00:00.000000000",
          "2025-07-06T00:00:00.000000000",
          "2025-07-07T00:00:00.000000000",
          "2025-07-08T00:00:00.000000000",
          "2025-07-09T00:00:00.000000000",
          "2025-07-10T00:00:00.000000000",
          "2025-07-11T00:00:00.000000000",
          "2025-07-12T00:00:00.000000000",
          "2025-07-13T00:00:00.000000000",
          "2025-07-14T00:00:00.000000000",
          "2025-07-15T00:00:00.000000000",
          "2025-07-16T00:00:00.000000000",
          "2025-07-17T00:00:00.000000000",
          "2025-07-18T00:00:00.000000000",
          "2025-07-19T00:00:00.000000000",
          "2025-07-20T00:00:00.000000000",
          "2025-07-21T00:00:00.000000000",
          "2025-07-22T00:00:00.000000000",
          "2025-07-23T00:00:00.000000000",
          "2025-07-24T00:00:00.000000000",
          "2025-07-25T00:00:00.000000000",
          "2025-07-26T00:00:00.000000000",
          "2025-07-27T00:00:00.000000000",
          "2025-07-28T00:00:00.000000000",
          "2025-07-29T00:00:00.000000000",
          "2025-07-30T00:00:00.000000000",
          "2025-07-31T00:00:00.000000000",
          "2025-08-01T00:00:00.000000000",
          "2025-08-02T00:00:00.000000000",
          "2025-08-03T00:00:00.000000000",
          "2025-08-04T00:00:00.000000000",
          "2025-08-05T00:00:00.000000000",
          "2025-08-06T00:00:00.000000000",
          "2025-08-07T00:00:00.000000000",
          "2025-08-08T00:00:00.000000000",
          "2025-08-09T00:00:00.000000000",
          "2025-08-10T00:00:00.000000000",
          "2025-08-11T00:00:00.000000000",
          "2025-08-12T00:00:00.000000000",
          "2025-08-13T00:00:00.000000000"
         ],
         "y": {
          "dtype": "f8",
          "bdata": "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"
         },
         "type": "scatter",
         "xaxis": "x4",
         "yaxis": "y4"
        },
        {
         "legendgroup": "strategy",
         "marker": {
          "color": "blue"
         },
         "name": "Our Strategy Returns",
         "nbinsx": 25,
         "opacity": 0.6,
         "x": {
          "dtype": "f8",
          "bdata": "HDGjEw6zAkAUCQQ0jankvzpp2GAYYf2/xJR8mIBL9r9IQKTLQzzpPxDUluxSIeo/IISjzo4l/D+4O69MhaDsP4iQx4NYqO0/MsIDFJZX8L9EnBKxVn/yP7o54gPlAgFACAN1/6QO7b8qffVE1jACQAAAAAAAAAAAAAAAAAAACb3E0N2s43Dov/syk3ISVgjANA5qPqViDMDUdCNJI2f1v4CWhatgPaC/eLoDb4jz+j9A6Ni5cYalv6COZLMTcOc/WJZecMe15b9QZiz+Trnbv16hcYmOrfm/AKAlBR+3SD/ike5LX9wAQHBblGHyGOo/xOb7WUMA5r8+a9tIjNwJQIAaEpq0d74/INz3iMTh0790ysALWRbsv6iBMt+KQvU/8KzuyMBG0j/c7q1htp38P3qVyvzRrPi/4H0tLMwpsb+ikLG5olX+v3iCVpN9d+I/lnCDHfacBcBwNekOMEvpP5hg6PXp9Oc/mN3qQS/08T9GmzvPZpEBQCBvxmwrE90/HWfhQBdHCcCAkWsomhq5P5hw2Y6vZ+O/oqB2zEJP9b8kQTIZkHb2v1RCf16uKPk/axYsLTAkF0D6BTRkrU0HQKLrrq9oBAVAAAAAAAAAAAAAAAAAAAAJvUv9v21CdhJAU6ALZxL2A8A4JY9pnSLnv9SWwKP4UwHAL1ArjcibE0AULW9tKIcEQABGVkdBHwHA1vKnvBlHDEAwhZIYj4jpv7jzvByNwec/RHKO7g2nB0BEvkg2nJ8VQDHDLH4RkxFA4Co7LGSR1T+q+Nh8AnIFwBQitl6gf+K/9rjC00cZDUCgycclu9DcvySpo6MgJ/c/+NXgJhak5T8wdbqM7cjrP3Cw70crqBBAGOkZJFom3b84KLJ3grv5P+SaGD3+auy/uN0RGDiVCEBICpyALMDnv4BBCojO+eA/pTgPxvB+GcC4mDGpaDjgv4ojEvp8tgxA8OYlRWQxBEDgrVMhA8rGPzKZPtfiovG/OIDmCodm/T8QksbtakXcv5BusH4WovS/kCzbrjDDEMAAAAAAAAAAAAAAAAAAAAAAAAAAAAAAAAAAAAAAAAAAAAAAAAAAAAAAAAAAAAAAAAAAAAAAAAAAAAAAAAAAAAAAAAAAAAAAAAAAAAAAAAAAAAAAAAAAAAAAAAAAAAAAAAAAAAAAAAAAAAAAAAAAAAAAAAAAAAAAAAAAAAAAAAAAAAAAAAAAAAAAAAAAAAAAAAAAAAAAAAAAAAAAAAAAAAAAAAAAAAAAAAAAAAAAAAAAAAAAAAAAAAAAAAAAAAAAAAAAAAAAAAAAAAAAAAAAAAAAAAAAAAAAAAAAAAAAAAAAAAAAAAAAAAAAAAAAAAAAAAAAAAAAAAAAAAAAAAAAAAAAAAAAAAAAAAAAAAAAAAAAAAAAAAAAAAAAAAAAAAAAAAAAAAAAAAAAAAAAAAAAAAAAAAAAAAAAAAAAAAAAAAAAAAAAAAAAAAAAAAAAAAAAAAAAAAAAAAAAAAAAAAAAAAAAAAAAAAAAAAAAAAAAAAAAAAAAAAAAAAAAAAAAAAAAAAAAAAAAAAAAAAAAAAAAAAAAAAAAAAAAAAAAAAAAAAAAAAAAAAAAAAAAAAAAAAAAAAAAAAAAAAAAAAAAAAAAAAAAAAAAAAAAAAAAAAAAAAAAAAAAAAAAAAAAAAAAAAAAAAAAAAAAAAAAAAAAAAAAAAAAAAAAAAAAAAAAAAAAAAAAAAAAAAAAAAAAAAAAAAAAGb1AL9BiM3O7P9im5BGMDRzAAAAAAAAAAADrW7hLulkJwAAAAAAAAAAAAAAAAAAAAAAAAAAAAAAAAAAAAAAAAAAAqvq3KwjVH8DoMjrRoXTzP672l6s+ogNAmISD69LC5b8pZu1M++gAwACtIv2IAta/1BvQ9Ab9DsCm+oecJxsGwE7Fq6lygAJAAC9JWfh41z9CAW7ie/P1vwyklaZSnf4/uIcdNERB6z+2jXNNzID3v6C4FPhdcPI/kGDDmcrWyr/WcbuFOjYFQOCGjHEew/2/4LF+4lFRzr+AEFKIyGe0P/hjck1eaOg/eFR8feCk+D8AAAAAAAAAAAAAAAAAAAAA4IfHFazfyj/A9AsuHM4MwLzuFiMYngTAhMqrO/jx5r8A5RwZZZ7TP6K5c6FZEQVAu6Lu2+8HDMCg8OAf23roP3ATlAMi3NM/IE1dLZSV2r/VWHIwEAIdwEDzoSub6MY/5Rc536O9BcCUOlhewvUXQOhX3vOwUgfAvh4WgxoyAEDYMZM9x3QBQPA6ajaFRvi/EO/EwEyS3j9ESKrqV7f1v+AHortu+cU/kMCbWPI54T8gm5jz7cjFP+j0x5hzqe0/ANeB1ij0wr/gm93i8cnLP1FzcE3JMBBAAAAAAAAAAAAAAAAAAAAAAAAAAAAAAAAAAAAAAAAAAAAAAAAAAAAAAAAAAAAAAAAAAAAAAAAAAAAAAAAAAAAAAAAAAAAAAAAAAAAAAAAAAAAAAAAAAAAAAAAAAAAAAAAAIMf2j3Z5yr987QtjpT/wP7DDnA+ursS/e+1kvWkMI0AAAAAAAAAAAAAAAAAAAAAAAAAAAAAAAAAAAAAAAAAAAAAAAAAAAAAAAAAAAAAAAAAAAAAAAAAAAAAAAAAAAAAAAAAAAAAAGT2kCorNWq7zPwAAAAAAAAAAAAAAAAAAAAAAAAAAAAAAAAAAAAAAAAAAAAAAAAAAAACA1/TuNwKiv4CjtoPfm+I/gFrNz3pfsj+Qu6moBjLvPwjZfm1Wp9u/2i06/NN8+79/MF82bSsIwICUumpBEM8/AJw3DWkm0j+YERypsp/rP4AMGD/RidG//J18vpzD6r94m4XzdREJwHr9+7MyAgJA5K5vvssJ9D9gi6g2p+m8vwYqJS/XogpADMxD+CAg/j/UEbgj2EH1v6FgzC49pAfAjhd0CrBF+L+i60TZp2nwv+B3a1ImLNo/WMyE25Aa5j/SaSevGNH8v4gITbtSXNe/8B9WjrX/yb9dTsqdJ4wAwPahy3JRgQXAMqZVLNDj9L9pcew6tU4TQEhHnEczQuc/RILZ18lb578I25Kq+Ybjv9BWiQewVtk/6LSsU4oG4z8w4CGXQXj4P0SXZuc51/C/frX2r4tcAMBOkpUT9K4OQKhjcmey3eE/nE7W8CGy/78gAdvG5R/EP7DDLp1QIO0/xLgJbaHN4L/oatg3xBXzP2a9BqwnZQVAAAAAAAAAAAAAAAAAAAAAAAAAAAAAAAAAAAAAAAAAAAAAAAAAAAAAAAAAAAAAAAAAAAAAAAAAAAAAAAAAAAAAAAAAAAAAAAAAAAAAAAAAAAAAAAAAAAAAAAAAAAAAAAAAAAAAAAAAAAAAAAAAAAAAAAAAAAAAAAAAAAAAAAAAAAAAAAAAAAAAAAAAAAAAAAAAAAAAAAAAAAAAAAAAAAAAAJS9ej/Ce+C/Bpn/9n3WAMAgmV1JzK4FwOyZGjBjSvO/BI+wqeBT/z9YRQee34wEQNCnIK4S6fy/HCiAbqRd8T9Q8qxjN6MNQNDnlT3Blvc/fORdKj2DBUAAAAAAAAAJvTiM0y+K7/i/4RYznnaPEkA="
         },
         "type": "histogram",
         "xaxis": "x5",
         "yaxis": "y5"
        },
        {
         "legendgroup": "bitcoin",
         "marker": {
          "color": "orange"
         },
         "name": "Bitcoin Returns",
         "nbinsx": 25,
         "opacity": 0.6,
         "x": {
          "dtype": "f8",
          "bdata": "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"
         },
         "type": "histogram",
         "xaxis": "x5",
         "yaxis": "y5"
        },
        {
         "cells": {
          "align": "center",
          "fill": {
           "color": [
            [
             "white",
             "white",
             "white",
             "white",
             "white",
             "white"
            ],
            [
             "lightblue",
             "lightblue",
             "lightblue",
             "lightblue",
             "lightblue",
             "lightblue"
            ],
            [
             "lightyellow",
             "lightyellow",
             "lightyellow",
             "lightyellow",
             "lightyellow",
             "lightyellow"
            ],
            [
             "lightgreen",
             "lightgreen",
             "lightgreen",
             "lightgreen",
             "lightgreen",
             "lightgreen"
            ]
           ]
          },
          "font": {
           "size": 11
          },
          "values": [
           [
            "Total Return",
            "Annualized Return",
            "Volatility",
            "Sharpe Ratio",
            "Max Drawdown",
            "Final Value"
           ],
           [
            "31.05%",
            "22.63%",
            "2904.51%",
            "0.778",
            "34.26%",
            "$131,049"
           ],
           [
            "102.60%",
            "62.82%",
            "37.70%",
            "1.665",
            "-28.12%",
            "$202,598"
           ],
           [
            "-40.19%",
            "-40.19%",
            "+2866.81%",
            "-0.887",
            "+62.37%",
            "$-71,549"
           ]
          ]
         },
         "header": {
          "align": "center",
          "fill": {
           "color": "lightgray"
          },
          "font": {
           "color": "black",
           "size": 12
          },
          "values": [
           "Metric",
           "Our Strategy",
           "Bitcoin B&H",
           "Difference"
          ]
         },
         "type": "table",
         "domain": {
          "x": [
           0.55,
           1.0
          ],
          "y": [
           0.0,
           0.22222222222222224
          ]
         }
        }
       ],
       "layout": {
        "template": {
         "data": {
          "histogram2dcontour": [
           {
            "type": "histogram2dcontour",
            "colorbar": {
             "outlinewidth": 0,
             "ticks": ""
            },
            "colorscale": [
             [
              0.0,
              "#0d0887"
             ],
             [
              0.1111111111111111,
              "#46039f"
             ],
             [
              0.2222222222222222,
              "#7201a8"
             ],
             [
              0.3333333333333333,
              "#9c179e"
             ],
             [
              0.4444444444444444,
              "#bd3786"
             ],
             [
              0.5555555555555556,
              "#d8576b"
             ],
             [
              0.6666666666666666,
              "#ed7953"
             ],
             [
              0.7777777777777778,
              "#fb9f3a"
             ],
             [
              0.8888888888888888,
              "#fdca26"
             ],
             [
              1.0,
              "#f0f921"
             ]
            ]
           }
          ],
          "choropleth": [
           {
            "type": "choropleth",
            "colorbar": {
             "outlinewidth": 0,
             "ticks": ""
            }
           }
          ],
          "histogram2d": [
           {
            "type": "histogram2d",
            "colorbar": {
             "outlinewidth": 0,
             "ticks": ""
            },
            "colorscale": [
             [
              0.0,
              "#0d0887"
             ],
             [
              0.1111111111111111,
              "#46039f"
             ],
             [
              0.2222222222222222,
              "#7201a8"
             ],
             [
              0.3333333333333333,
              "#9c179e"
             ],
             [
              0.4444444444444444,
              "#bd3786"
             ],
             [
              0.5555555555555556,
              "#d8576b"
             ],
             [
              0.6666666666666666,
              "#ed7953"
             ],
             [
              0.7777777777777778,
              "#fb9f3a"
             ],
             [
              0.8888888888888888,
              "#fdca26"
             ],
             [
              1.0,
              "#f0f921"
             ]
            ]
           }
          ],
          "heatmap": [
           {
            "type": "heatmap",
            "colorbar": {
             "outlinewidth": 0,
             "ticks": ""
            },
            "colorscale": [
             [
              0.0,
              "#0d0887"
             ],
             [
              0.1111111111111111,
              "#46039f"
             ],
             [
              0.2222222222222222,
              "#7201a8"
             ],
             [
              0.3333333333333333,
              "#9c179e"
             ],
             [
              0.4444444444444444,
              "#bd3786"
             ],
             [
              0.5555555555555556,
              "#d8576b"
             ],
             [
              0.6666666666666666,
              "#ed7953"
             ],
             [
              0.7777777777777778,
              "#fb9f3a"
             ],
             [
              0.8888888888888888,
              "#fdca26"
             ],
             [
              1.0,
              "#f0f921"
             ]
            ]
           }
          ],
          "contourcarpet": [
           {
            "type": "contourcarpet",
            "colorbar": {
             "outlinewidth": 0,
             "ticks": ""
            }
           }
          ],
          "contour": [
           {
            "type": "contour",
            "colorbar": {
             "outlinewidth": 0,
             "ticks": ""
            },
            "colorscale": [
             [
              0.0,
              "#0d0887"
             ],
             [
              0.1111111111111111,
              "#46039f"
             ],
             [
              0.2222222222222222,
              "#7201a8"
             ],
             [
              0.3333333333333333,
              "#9c179e"
             ],
             [
              0.4444444444444444,
              "#bd3786"
             ],
             [
              0.5555555555555556,
              "#d8576b"
             ],
             [
              0.6666666666666666,
              "#ed7953"
             ],
             [
              0.7777777777777778,
              "#fb9f3a"
             ],
             [
              0.8888888888888888,
              "#fdca26"
             ],
             [
              1.0,
              "#f0f921"
             ]
            ]
           }
          ],
          "surface": [
           {
            "type": "surface",
            "colorbar": {
             "outlinewidth": 0,
             "ticks": ""
            },
            "colorscale": [
             [
              0.0,
              "#0d0887"
             ],
             [
              0.1111111111111111,
              "#46039f"
             ],
             [
              0.2222222222222222,
              "#7201a8"
             ],
             [
              0.3333333333333333,
              "#9c179e"
             ],
             [
              0.4444444444444444,
              "#bd3786"
             ],
             [
              0.5555555555555556,
              "#d8576b"
             ],
             [
              0.6666666666666666,
              "#ed7953"
             ],
             [
              0.7777777777777778,
              "#fb9f3a"
             ],
             [
              0.8888888888888888,
              "#fdca26"
             ],
             [
              1.0,
              "#f0f921"
             ]
            ]
           }
          ],
          "mesh3d": [
           {
            "type": "mesh3d",
            "colorbar": {
             "outlinewidth": 0,
             "ticks": ""
            }
           }
          ],
          "scatter": [
           {
            "fillpattern": {
             "fillmode": "overlay",
             "size": 10,
             "solidity": 0.2
            },
            "type": "scatter"
           }
          ],
          "parcoords": [
           {
            "type": "parcoords",
            "line": {
             "colorbar": {
              "outlinewidth": 0,
              "ticks": ""
             }
            }
           }
          ],
          "scatterpolargl": [
           {
            "type": "scatterpolargl",
            "marker": {
             "colorbar": {
              "outlinewidth": 0,
              "ticks": ""
             }
            }
           }
          ],
          "bar": [
           {
            "error_x": {
             "color": "#2a3f5f"
            },
            "error_y": {
             "color": "#2a3f5f"
            },
            "marker": {
             "line": {
              "color": "white",
              "width": 0.5
             },
             "pattern": {
              "fillmode": "overlay",
              "size": 10,
              "solidity": 0.2
             }
            },
            "type": "bar"
           }
          ],
          "scattergeo": [
           {
            "type": "scattergeo",
            "marker": {
             "colorbar": {
              "outlinewidth": 0,
              "ticks": ""
             }
            }
           }
          ],
          "scatterpolar": [
           {
            "type": "scatterpolar",
            "marker": {
             "colorbar": {
              "outlinewidth": 0,
              "ticks": ""
             }
            }
           }
          ],
          "histogram": [
           {
            "marker": {
             "pattern": {
              "fillmode": "overlay",
              "size": 10,
              "solidity": 0.2
             }
            },
            "type": "histogram"
           }
          ],
          "scattergl": [
           {
            "type": "scattergl",
            "marker": {
             "colorbar": {
              "outlinewidth": 0,
              "ticks": ""
             }
            }
           }
          ],
          "scatter3d": [
           {
            "type": "scatter3d",
            "line": {
             "colorbar": {
              "outlinewidth": 0,
              "ticks": ""
             }
            },
            "marker": {
             "colorbar": {
              "outlinewidth": 0,
              "ticks": ""
             }
            }
           }
          ],
          "scattermap": [
           {
            "type": "scattermap",
            "marker": {
             "colorbar": {
              "outlinewidth": 0,
              "ticks": ""
             }
            }
           }
          ],
          "scattermapbox": [
           {
            "type": "scattermapbox",
            "marker": {
             "colorbar": {
              "outlinewidth": 0,
              "ticks": ""
             }
            }
           }
          ],
          "scatterternary": [
           {
            "type": "scatterternary",
            "marker": {
             "colorbar": {
              "outlinewidth": 0,
              "ticks": ""
             }
            }
           }
          ],
          "scattercarpet": [
           {
            "type": "scattercarpet",
            "marker": {
             "colorbar": {
              "outlinewidth": 0,
              "ticks": ""
             }
            }
           }
          ],
          "carpet": [
           {
            "aaxis": {
             "endlinecolor": "#2a3f5f",
             "gridcolor": "#C8D4E3",
             "linecolor": "#C8D4E3",
             "minorgridcolor": "#C8D4E3",
             "startlinecolor": "#2a3f5f"
            },
            "baxis": {
             "endlinecolor": "#2a3f5f",
             "gridcolor": "#C8D4E3",
             "linecolor": "#C8D4E3",
             "minorgridcolor": "#C8D4E3",
             "startlinecolor": "#2a3f5f"
            },
            "type": "carpet"
           }
          ],
          "table": [
           {
            "cells": {
             "fill": {
              "color": "#EBF0F8"
             },
             "line": {
              "color": "white"
             }
            },
            "header": {
             "fill": {
              "color": "#C8D4E3"
             },
             "line": {
              "color": "white"
             }
            },
            "type": "table"
           }
          ],
          "barpolar": [
           {
            "marker": {
             "line": {
              "color": "white",
              "width": 0.5
             },
             "pattern": {
              "fillmode": "overlay",
              "size": 10,
              "solidity": 0.2
             }
            },
            "type": "barpolar"
           }
          ],
          "pie": [
           {
            "automargin": true,
            "type": "pie"
           }
          ]
         },
         "layout": {
          "autotypenumbers": "strict",
          "colorway": [
           "#636efa",
           "#EF553B",
           "#00cc96",
           "#ab63fa",
           "#FFA15A",
           "#19d3f3",
           "#FF6692",
           "#B6E880",
           "#FF97FF",
           "#FECB52"
          ],
          "font": {
           "color": "#2a3f5f"
          },
          "hovermode": "closest",
          "hoverlabel": {
           "align": "left"
          },
          "paper_bgcolor": "white",
          "plot_bgcolor": "white",
          "polar": {
           "bgcolor": "white",
           "angularaxis": {
            "gridcolor": "#EBF0F8",
            "linecolor": "#EBF0F8",
            "ticks": ""
           },
           "radialaxis": {
            "gridcolor": "#EBF0F8",
            "linecolor": "#EBF0F8",
            "ticks": ""
           }
          },
          "ternary": {
           "bgcolor": "white",
           "aaxis": {
            "gridcolor": "#DFE8F3",
            "linecolor": "#A2B1C6",
            "ticks": ""
           },
           "baxis": {
            "gridcolor": "#DFE8F3",
            "linecolor": "#A2B1C6",
            "ticks": ""
           },
           "caxis": {
            "gridcolor": "#DFE8F3",
            "linecolor": "#A2B1C6",
            "ticks": ""
           }
          },
          "coloraxis": {
           "colorbar": {
            "outlinewidth": 0,
            "ticks": ""
           }
          },
          "colorscale": {
           "sequential": [
            [
             0.0,
             "#0d0887"
            ],
            [
             0.1111111111111111,
             "#46039f"
            ],
            [
             0.2222222222222222,
             "#7201a8"
            ],
            [
             0.3333333333333333,
             "#9c179e"
            ],
            [
             0.4444444444444444,
             "#bd3786"
            ],
            [
             0.5555555555555556,
             "#d8576b"
            ],
            [
             0.6666666666666666,
             "#ed7953"
            ],
            [
             0.7777777777777778,
             "#fb9f3a"
            ],
            [
             0.8888888888888888,
             "#fdca26"
            ],
            [
             1.0,
             "#f0f921"
            ]
           ],
           "sequentialminus": [
            [
             0.0,
             "#0d0887"
            ],
            [
             0.1111111111111111,
             "#46039f"
            ],
            [
             0.2222222222222222,
             "#7201a8"
            ],
            [
             0.3333333333333333,
             "#9c179e"
            ],
            [
             0.4444444444444444,
             "#bd3786"
            ],
            [
             0.5555555555555556,
             "#d8576b"
            ],
            [
             0.6666666666666666,
             "#ed7953"
            ],
            [
             0.7777777777777778,
             "#fb9f3a"
            ],
            [
             0.8888888888888888,
             "#fdca26"
            ],
            [
             1.0,
             "#f0f921"
            ]
           ],
           "diverging": [
            [
             0,
             "#8e0152"
            ],
            [
             0.1,
             "#c51b7d"
            ],
            [
             0.2,
             "#de77ae"
            ],
            [
             0.3,
             "#f1b6da"
            ],
            [
             0.4,
             "#fde0ef"
            ],
            [
             0.5,
             "#f7f7f7"
            ],
            [
             0.6,
             "#e6f5d0"
            ],
            [
             0.7,
             "#b8e186"
            ],
            [
             0.8,
             "#7fbc41"
            ],
            [
             0.9,
             "#4d9221"
            ],
            [
             1,
             "#276419"
            ]
           ]
          },
          "xaxis": {
           "gridcolor": "#EBF0F8",
           "linecolor": "#EBF0F8",
           "ticks": "",
           "title": {
            "standoff": 15
           },
           "zerolinecolor": "#EBF0F8",
           "automargin": true,
           "zerolinewidth": 2
          },
          "yaxis": {
           "gridcolor": "#EBF0F8",
           "linecolor": "#EBF0F8",
           "ticks": "",
           "title": {
            "standoff": 15
           },
           "zerolinecolor": "#EBF0F8",
           "automargin": true,
           "zerolinewidth": 2
          },
          "scene": {
           "xaxis": {
            "backgroundcolor": "white",
            "gridcolor": "#DFE8F3",
            "linecolor": "#EBF0F8",
            "showbackground": true,
            "ticks": "",
            "zerolinecolor": "#EBF0F8",
            "gridwidth": 2
           },
           "yaxis": {
            "backgroundcolor": "white",
            "gridcolor": "#DFE8F3",
            "linecolor": "#EBF0F8",
            "showbackground": true,
            "ticks": "",
            "zerolinecolor": "#EBF0F8",
            "gridwidth": 2
           },
           "zaxis": {
            "backgroundcolor": "white",
            "gridcolor": "#DFE8F3",
            "linecolor": "#EBF0F8",
            "showbackground": true,
            "ticks": "",
            "zerolinecolor": "#EBF0F8",
            "gridwidth": 2
           }
          },
          "shapedefaults": {
           "line": {
            "color": "#2a3f5f"
           }
          },
          "annotationdefaults": {
           "arrowcolor": "#2a3f5f",
           "arrowhead": 0,
           "arrowwidth": 1
          },
          "geo": {
           "bgcolor": "white",
           "landcolor": "white",
           "subunitcolor": "#C8D4E3",
           "showland": true,
           "showlakes": true,
           "lakecolor": "white"
          },
          "title": {
           "x": 0.05
          },
          "mapbox": {
           "style": "light"
          }
         }
        },
        "xaxis": {
         "anchor": "y",
         "domain": [
          0.0,
          0.45
         ],
         "title": {
          "text": "Date"
         }
        },
        "yaxis": {
         "anchor": "x",
         "domain": [
          0.7777777777777778,
          1.0
         ],
         "title": {
          "text": "Portfolio Value ($)"
         }
        },
        "xaxis2": {
         "anchor": "y2",
         "domain": [
          0.55,
          1.0
         ],
         "title": {
          "text": "Strategy"
         }
        },
        "yaxis2": {
         "anchor": "x2",
         "domain": [
          0.7777777777777778,
          1.0
         ],
         "title": {
          "text": "Annualized Volatility (%)"
         }
        },
        "xaxis3": {
         "anchor": "y3",
         "domain": [
          0.0,
          0.45
         ],
         "title": {
          "text": "Date"
         }
        },
        "yaxis3": {
         "anchor": "x3",
         "domain": [
          0.3888888888888889,
          0.6111111111111112
         ],
         "title": {
          "text": "Drawdown (%)"
         }
        },
        "xaxis4": {
         "anchor": "y4",
         "domain": [
          0.55,
          1.0
         ],
         "title": {
          "text": "Date"
         }
        },
        "yaxis4": {
         "anchor": "x4",
         "domain": [
          0.3888888888888889,
          0.6111111111111112
         ],
         "title": {
          "text": "Rolling Sharpe Ratio"
         }
        },
        "xaxis5": {
         "anchor": "y5",
         "domain": [
          0.0,
          0.45
         ],
         "title": {
          "text": "Daily Return (%)"
         }
        },
        "yaxis5": {
         "anchor": "x5",
         "domain": [
          0.0,
          0.22222222222222224
         ],
         "title": {
          "text": "Frequency"
         }
        },
        "annotations": [
         {
          "font": {
           "size": 16
          },
          "showarrow": false,
          "text": "Portfolio Value Comparison",
          "x": 0.225,
          "xanchor": "center",
          "xref": "paper",
          "y": 1.0,
          "yanchor": "bottom",
          "yref": "paper"
         },
         {
          "font": {
           "size": 16
          },
          "showarrow": false,
          "text": "Volatility Comparison",
          "x": 0.775,
          "xanchor": "center",
          "xref": "paper",
          "y": 1.0,
          "yanchor": "bottom",
          "yref": "paper"
         },
         {
          "font": {
           "size": 16
          },
          "showarrow": false,
          "text": "Drawdown Comparison",
          "x": 0.225,
          "xanchor": "center",
          "xref": "paper",
          "y": 0.6111111111111112,
          "yanchor": "bottom",
          "yref": "paper"
         },
         {
          "font": {
           "size": 16
          },
          "showarrow": false,
          "text": "Rolling Sharpe Ratio Comparison",
          "x": 0.775,
          "xanchor": "center",
          "xref": "paper",
          "y": 0.6111111111111112,
          "yanchor": "bottom",
          "yref": "paper"
         },
         {
          "font": {
           "size": 16
          },
          "showarrow": false,
          "text": "Returns Distribution Comparison",
          "x": 0.225,
          "xanchor": "center",
          "xref": "paper",
          "y": 0.22222222222222224,
          "yanchor": "bottom",
          "yref": "paper"
         },
         {
          "font": {
           "size": 16
          },
          "showarrow": false,
          "text": "Risk-Return Summary",
          "x": 0.775,
          "xanchor": "center",
          "xref": "paper",
          "y": 0.22222222222222224,
          "yanchor": "bottom",
          "yref": "paper"
         }
        ],
        "title": {
         "text": "Strategy vs Bitcoin Buy & Hold: Comprehensive Comparison",
         "x": 0.5
        },
        "height": 900,
        "showlegend": false
       },
       "config": {
        "plotlyServerURL": "https://plot.ly"
       }
      }
     },
     "metadata": {},
     "output_type": "display_data"
    },
    {
     "data": {
      "text/plain": [
       "<IPython.core.display.HTML object>"
      ],
      "text/html": [
       "\n",
       "    <div class=\"widget-container\">\n",
       "        <h4 style=\"color: #495057; margin: 0 0 20px 0;\">🎯 Key Performance Insights</h4>\n",
       "\n",
       "        <div style=\"display: grid; grid-template-columns: repeat(2, 1fr); gap: 20px; margin-bottom: 20px;\">\n",
       "            <div style=\"text-align: center; padding: 20px; background: linear-gradient(135deg, #e3f2fd 0%, #f1f8fe 100%); border-radius: 12px;\">\n",
       "                <div style=\"font-size: 24px; font-weight: bold; color: red;\">\n",
       "                    -40.19%\n",
       "                </div>\n",
       "                <div style=\"font-size: 14px; color: #495057; margin-top: 5px;\">Alpha vs Bitcoin</div>\n",
       "                <div style=\"font-size: 12px; color: #6c757d;\">Excess Annualized Return</div>\n",
       "            </div>\n",
       "            <div style=\"text-align: center; padding: 20px; background: linear-gradient(135deg, #fff3cd 0%, #fffbee 100%); border-radius: 12px;\">\n",
       "                <div style=\"font-size: 24px; font-weight: bold; color: red;\">\n",
       "                    -2866.81%\n",
       "                </div>\n",
       "                <div style=\"font-size: 14px; color: #495057; margin-top: 5px;\">Volatility Difference</div>\n",
       "                <div style=\"font-size: 12px; color: #6c757d;\">Risk Reduction vs Bitcoin</div>\n",
       "            </div>\n",
       "        </div>\n",
       "\n",
       "        <div style=\"padding: 20px; background: #f8f9fa; border-radius: 8px; margin-bottom: 20px;\">\n",
       "            <h5 style=\"color: #495057; margin: 0 0 15px 0;\">📊 Performance Summary</h5>\n",
       "            <ul style=\"color: #495057; margin: 0; padding-left: 20px;\">\n",
       "                <li><strong>Return Performance:</strong> Our strategy underperformed Bitcoin by 40.19% annually</li>\n",
       "                <li><strong>Risk Profile:</strong> Strategy exhibited higher volatility (2866.81% difference)</li>\n",
       "                <li><strong>Risk-Adjusted Performance:</strong> Inferior Sharpe ratio (-0.887 difference)</li>\n",
       "                <li><strong>Maximum Drawdown:</strong> Worse drawdown control \n",
       "                    (34.26% vs 28.12%)</li>\n",
       "                <li><strong>Total Value Creation:</strong> $71,549 less value vs Bitcoin</li>\n",
       "            </ul>\n",
       "        </div>\n",
       "\n",
       "        <div style=\"padding: 15px; background: #e9ecef; border-radius: 8px;\">\n",
       "            <div style=\"color: #495057; font-size: 14px;\">\n",
       "                <strong>Analysis Period:</strong> 2024-2025 (1 Year) | \n",
       "                <strong>Initial Capital:</strong> $100,000 | \n",
       "                <strong>Benchmark:</strong> Bitcoin Buy & Hold Strategy\n",
       "            </div>\n",
       "        </div>\n",
       "    </div>\n",
       "    "
      ]
     },
     "metadata": {},
     "output_type": "display_data"
    }
   ],
   "execution_count": 261
  }
 ],
 "metadata": {
  "kernelspec": {
   "display_name": "Python 3",
   "language": "python",
   "name": "python3"
  },
  "language_info": {
   "codemirror_mode": {
    "name": "ipython",
    "version": 3
   },
   "file_extension": ".py",
   "name": "python",
   "nbconvert_exporter": "python",
   "pygments_lexer": "ipython3",
   "version": "3.8.5"
  }
 },
 "nbformat": 4,
 "nbformat_minor": 4
}
