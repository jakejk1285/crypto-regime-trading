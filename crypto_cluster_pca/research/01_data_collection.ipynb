{
 "cells": [
  {
   "metadata": {},
   "cell_type": "markdown",
   "source": [
    "# 📊 01 - Data Collection\n",
    "\n",
    "This notebook is the first step in our crypto regime classification and trading strategy project. Here, we focus on gathering the data needed to perform PCA, clustering, and downstream trading analysis.\n",
    "\n",
    "---\n",
    "\n",
    "### 📥 1. Load and Inspect Raw Price Data\n",
    "\n",
    "We begin by loading daily closing price data for various cryptocurrencies. These prices will serve as the foundation for return and feature calculations.\n",
    "\n",
    "- Source: `crypto_prices.csv`\n",
    "- Content: Historical daily closing prices\n",
    "- Format: Coins in columns, dates in rows\n",
    "\n",
    "```python\n",
    "# Load price data\n",
    "price_df = pd.read_csv(\"crypto_prices.csv\", parse_dates=['timestamp'])\n",
    "price_df.set_index('timestamp', inplace=True)\n",
    "price_df.head()"
   ],
   "id": "700ba9537c752f4d"
  },
  {
   "metadata": {
    "ExecuteTime": {
     "end_time": "2025-06-04T15:08:57.811293Z",
     "start_time": "2025-06-04T15:08:57.807585Z"
    }
   },
   "cell_type": "code",
   "source": [
    "import requests\n",
    "import pandas as pd\n",
    "import os\n",
    "from dotenv import load_dotenv\n",
    "\n",
    "# Load API key from .env\n",
    "load_dotenv()\n",
    "api_key = os.getenv(\"COINGECKO_DEMO_KEY\")\n",
    "\n",
    "def fetch_daily_prices_demo(coin_id, api_key, vs_currency=\"usd\", days=\"365\"):\n",
    "    url = f\"https://api.coingecko.com/api/v3/coins/{coin_id}/market_chart\"\n",
    "    \n",
    "    headers = {\n",
    "        \"x-cg-demo-api-key\": api_key  # DEMO key header\n",
    "    }\n",
    "    \n",
    "    params = {\n",
    "        \"vs_currency\": vs_currency,\n",
    "        \"days\": days,\n",
    "        \"interval\": \"daily\"\n",
    "    }\n",
    "\n",
    "    response = requests.get(url, headers=headers, params=params)\n",
    "    if response.status_code != 200:\n",
    "        raise Exception(f\"Error {response.status_code}: {response.text}\")\n",
    "    \n",
    "    data = response.json()\n",
    "    prices = data.get(\"prices\", [])\n",
    "    \n",
    "    df = pd.DataFrame(prices, columns=[\"timestamp\", coin_id])\n",
    "    df[\"timestamp\"] = pd.to_datetime(df[\"timestamp\"], unit=\"ms\")\n",
    "    df.set_index(\"timestamp\", inplace=True)\n",
    "    return df"
   ],
   "id": "ae55e5ef6ae94a83",
   "outputs": [],
   "execution_count": 35
  },
  {
   "metadata": {
    "ExecuteTime": {
     "end_time": "2025-06-04T15:20:06.607786Z",
     "start_time": "2025-06-04T15:16:34.416766Z"
    }
   },
   "cell_type": "code",
   "source": "# Combine and save if successful\nif all_data:\n    price_df = pd.concat(all_data, axis=1)\n    price_df.to_csv(\"../data/crypto_prices.csv\")\n    print(\"📁 Saved: ../data/crypto_prices.csv\")\nelse:\n    print(\"❌ No data collected.\")",
   "id": "353568dcc5ecc2d5",
   "outputs": [],
   "execution_count": null
  },
  {
   "cell_type": "markdown",
   "id": "oc1tp6pa1v",
   "source": "## 🎯 Cryptocurrency Selection Strategy\n\n**Why these 15 coins?**\n- **Top Market Cap**: Bitcoin, Ethereum, BNB, XRP, ADA, SOL (market leaders)\n- **Stablecoins**: USDT, USDC (regime stability indicators)  \n- **DeFi/Layer 1s**: DOT, AVAX, MATIC (different sector exposure)\n- **Meme/Retail**: DOGE, SHIB (sentiment indicators)\n- **Established Alts**: LTC, TRX (proven track records)\n\nThis selection provides diverse exposure across market cap, use cases, and investor sentiment - critical for comprehensive regime analysis.\n\n**Data Specifications:**\n- **Source**: CoinGecko API (reliable, comprehensive)\n- **Frequency**: Daily closing prices\n- **Period**: 365 days (sufficient for regime detection)\n- **Rate Limiting**: 6-second delays to respect API limits",
   "metadata": {}
  },
  {
   "metadata": {
    "ExecuteTime": {
     "end_time": "2025-06-04T15:20:52.154085Z",
     "start_time": "2025-06-04T15:20:52.145392Z"
    }
   },
   "cell_type": "code",
   "source": [
    "# Load and display the collected data\n",
    "price_df = pd.read_csv(\"crypto_prices.csv\", index_col=\"timestamp\", parse_dates=True)\n",
    "print(price_df.head())"
   ],
   "id": "fb782c902d7f1c1b",
   "outputs": [
    {
     "name": "stdout",
     "output_type": "stream",
     "text": [
      "                 bitcoin     ethereum    tether    ripple  binancecoin  \\\n",
      "timestamp                                                                \n",
      "2024-06-05  70600.011167  3814.932030  1.000157  0.525878   686.510668   \n",
      "2024-06-06  71184.599431  3871.082091  1.000756  0.526266   699.924112   \n",
      "2024-06-07  70759.588193  3812.701857  0.999556  0.521673   710.043483   \n",
      "2024-06-08  69325.362388  3679.376652  0.999594  0.498861   683.338328   \n",
      "2024-06-09  69315.104123  3683.025380  0.999938  0.493173   682.782750   \n",
      "\n",
      "            usd-coin      solana   cardano  dogecoin  avalanche-2  polkadot  \\\n",
      "timestamp                                                                     \n",
      "2024-06-05  1.000233  171.728129  0.461416  0.161543    36.091757  7.191048   \n",
      "2024-06-06  1.000322  173.769571  0.461678  0.163508    36.535981  7.254035   \n",
      "2024-06-07  0.999933  170.372720  0.458149  0.160168    35.926170  7.141668   \n",
      "2024-06-08  0.999985  162.453205  0.449497  0.148307    33.509910  6.658967   \n",
      "2024-06-09  1.000012  158.180751  0.436711  0.146109    32.300384  6.387608   \n",
      "\n",
      "                tron  matic-network   litecoin  shiba-inu  \n",
      "timestamp                                                  \n",
      "2024-06-05  0.114491       0.715489  83.633692   0.000025  \n",
      "2024-06-06  0.114695       0.725447  85.476630   0.000026  \n",
      "2024-06-07  0.114711       0.725625  84.200672   0.000025  \n",
      "2024-06-08  0.112704       0.666962  80.103183   0.000024  \n",
      "2024-06-09  0.114753       0.650091  80.005750   0.000023  \n"
     ]
    }
   ],
   "execution_count": 39
  },
  {
   "cell_type": "code",
   "id": "vmtgh6r48ib",
   "source": "# Data Quality Validation\nprint(\"📊 Data Quality Report\")\nprint(\"=\" * 50)\nprint(f\"Date Range: {price_df.index.min().date()} to {price_df.index.max().date()}\")\nprint(f\"Total Days: {len(price_df)} observations\")\nprint(f\"Cryptocurrencies: {len(price_df.columns)} assets\")\nprint()\n\n# Check for missing data\nmissing_data = price_df.isnull().sum()\nprint(\"Missing Data per Asset:\")\nfor coin, missing in missing_data.items():\n    if missing > 0:\n        print(f\"  ❌ {coin}: {missing} missing values ({missing/len(price_df)*100:.1f}%)\")\n    else:\n        print(f\"  ✅ {coin}: Complete data\")\n\nprint()\nprint(\"Price Range Validation:\")\nfor coin in price_df.columns:\n    min_price = price_df[coin].min()\n    max_price = price_df[coin].max()\n    print(f\"  {coin}: ${min_price:.6f} - ${max_price:.2f}\")\n\nprint(\"\\n✅ Data collection complete and validated!\")",
   "metadata": {},
   "execution_count": null,
   "outputs": []
  },
  {
   "cell_type": "markdown",
   "id": "s26hgcqysxj",
   "source": "## 🔄 Analysis Pipeline Next Steps\n\nWith clean price data collected, the analysis proceeds as follows:\n\n**1. Feature Engineering** → `feature_engineering.ipynb`\n- Calculate technical indicators (RSI, MACD, Bollinger Bands)\n- Compute momentum and volatility measures\n- Generate risk-adjusted return metrics\n\n**2. PCA Analysis** → `pca_analysis.ipynb`  \n- Reduce 105+ features to 5 principal components\n- Identify key drivers of market behavior\n- Explain variance and interpret components\n\n**3. Clustering** → `clustering_analysis.ipynb`\n- Apply K-means to PCA components\n- Identify distinct market regimes\n- Label each day with regime classification\n\n**4. Regime Analysis** → Ongoing research\n- Analyze regime characteristics and transitions\n- Develop regime-aware trading strategies\n- Backtest performance across different market conditions\n\n---\n**Output**: `crypto_prices.csv` → Ready for feature engineering pipeline",
   "metadata": {}
  }
 ],
 "metadata": {
  "kernelspec": {
   "display_name": "Python 3",
   "language": "python",
   "name": "python3"
  },
  "language_info": {
   "codemirror_mode": {
    "name": "ipython",
    "version": 2
   },
   "file_extension": ".py",
   "mimetype": "text/x-python",
   "name": "python",
   "nbconvert_exporter": "python",
   "pygments_lexer": "ipython2",
   "version": "2.7.6"
  }
 },
 "nbformat": 4,
 "nbformat_minor": 5
}