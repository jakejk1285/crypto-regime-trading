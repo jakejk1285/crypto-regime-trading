{
 "cells": [
  {
   "metadata": {},
   "cell_type": "markdown",
   "source": "# 🔧 Feature Engineering: Building Market Behavior Indicators\n\nThis notebook transforms raw cryptocurrency price data into meaningful features that capture different aspects of market behavior. These engineered features will be the foundation for PCA analysis and regime detection.\n\n## 🎯 Objective\nCreate a comprehensive feature set that captures:\n- **Momentum & Trend**: Price direction and strength\n- **Volatility & Risk**: Market uncertainty and risk levels  \n- **Technical Signals**: Overbought/oversold conditions and trend reversals\n- **Relative Performance**: Cross-asset dynamics\n\n## 📊 Feature Categories\nWe engineer 7 types of features across 15 cryptocurrencies = **105 total features**:\n\n1. **Log Returns**: Daily price changes (momentum proxy)\n2. **30-day Volatility**: Rolling standard deviation (risk measure)  \n3. **90-day Momentum**: Longer-term trend strength\n4. **RSI (14-day)**: Overbought/oversold indicator\n5. **%B Bollinger Bands**: Position within trading bands\n6. **MACD Histogram**: Trend change momentum\n7. **30-day Sharpe Ratio**: Risk-adjusted returns\n\nThese features capture the full spectrum of market dynamics needed for regime analysis.",
   "id": "3129d7ac5510f451"
  },
  {
   "cell_type": "code",
   "id": "initial_id",
   "metadata": {
    "collapsed": true,
    "ExecuteTime": {
     "end_time": "2025-06-04T15:34:45.262658Z",
     "start_time": "2025-06-04T15:34:45.217703Z"
    }
   },
   "source": "# Load the daily price data\ndf = pd.read_csv(\"../data/crypto_prices.csv\", index_col=0, parse_dates=True)\n\n# Ensure columns are sorted alphabetically for consistency\ndf = df.sort_index(axis=1)\n\n# === CORE FEATURES ===\n\n# Log returns\nlog_returns = np.log(df / df.shift(1)).add_suffix(\"_log_return\")\n\n# 30-day volatility (standard deviation of log returns)\nvolatility = log_returns.rolling(window=30).std().add_suffix(\"_30d_vol\")\n\n# 90-day momentum (% price change)\nmomentum = df.pct_change(periods=90, fill_method=None).add_suffix(\"_90d_momentum\")\n\n# === TECHNICAL INDICATORS ===\n\n# RSI (14-day)\ndef compute_rsi(series, window=14):\n    delta = series.diff()\n    gain = (delta.where(delta > 0, 0)).rolling(window).mean()\n    loss = (-delta.where(delta < 0, 0)).rolling(window).mean()\n    rs = gain / loss\n    return 100 - (100 / (1 + rs))\n\nrsi = pd.concat([compute_rsi(df[col]).rename(f\"{col}_rsi14\") for col in df.columns], axis=1)\n\n# %B Bollinger Band\ndef compute_percent_b(series, window=20):\n    ma = series.rolling(window).mean()\n    std = series.rolling(window).std()\n    upper = ma + 2 * std\n    lower = ma - 2 * std\n    return ((series - lower) / (upper - lower)).rename(f\"{series.name}_pctB\")\n\npct_b = pd.concat([compute_percent_b(df[col]) for col in df.columns], axis=1)\n\n# MACD Histogram\ndef compute_macd_hist(series, fast=12, slow=26, signal=9):\n    ema_fast = series.ewm(span=fast).mean()\n    ema_slow = series.ewm(span=slow).mean()\n    macd = ema_fast - ema_slow\n    signal_line = macd.ewm(span=signal).mean()\n    return (macd - signal_line).rename(f\"{series.name}_macd_hist\")\n\nmacd_hist = pd.concat([compute_macd_hist(df[col]) for col in df.columns], axis=1)\n\n# Rolling Sharpe Ratio (30-day)\nrolling_sharpe = (\n    log_returns.rolling(30).mean() / log_returns.rolling(30).std()\n).add_suffix(\"_sharpe30\")\n\n# === COMBINE ALL FEATURES ===\nfeatures = pd.concat([log_returns, volatility, momentum, rsi, pct_b, macd_hist, rolling_sharpe], axis=1)\nfeatures = features.dropna()\n\n# Save to CSV\nfeatures.to_csv(\"../data/crypto_features.csv\")\nprint(\"✅ Feature engineering complete. Saved to '../data/crypto_features.csv'.\")",
   "outputs": [],
   "execution_count": null
  },
  {
   "metadata": {},
   "cell_type": "markdown",
   "source": "## 📊 Detailed Feature Explanations\n\nHere's what each feature type captures in market behavior:\n\n### **1. Log Returns (`_log_return`)**\n- **Formula**: ln(price_t / price_t-1)  \n- **Captures**: Daily momentum and directional bias\n- **Trading Insight**: Positive = upward pressure, negative = downward pressure\n\n### **2. 30-Day Volatility (`_30d_vol`)**\n- **Formula**: Rolling standard deviation of log returns (30-day window)\n- **Captures**: Market uncertainty and risk levels\n- **Trading Insight**: High volatility = regime changes, low volatility = stable trends\n\n### **3. 90-Day Momentum (`_90d_momentum`)**\n- **Formula**: (price_t / price_t-90) - 1\n- **Captures**: Medium-term trend strength \n- **Trading Insight**: Persistent trends vs mean-reverting behavior\n\n### **4. RSI 14-Day (`_rsi14`)**\n- **Formula**: 100 - 100/(1 + RS), where RS = avg_gain/avg_loss\n- **Captures**: Overbought (>70) and oversold (<30) conditions\n- **Trading Insight**: Extreme values signal potential reversals\n\n### **5. Bollinger %B (`_pctB`)**\n- **Formula**: (price - lower_band) / (upper_band - lower_band)\n- **Captures**: Position within Bollinger Bands (0 = lower band, 1 = upper band)\n- **Trading Insight**: Values >1 or <0 indicate breakouts from normal range\n\n### **6. MACD Histogram (`_macd_hist`)**\n- **Formula**: MACD_line - Signal_line\n- **Captures**: Momentum changes and trend acceleration/deceleration\n- **Trading Insight**: Positive = strengthening trend, negative = weakening trend\n\n### **7. 30-Day Sharpe Ratio (`_sharpe30`)**\n- **Formula**: Rolling mean return / rolling standard deviation (30-day)\n- **Captures**: Risk-adjusted performance\n- **Trading Insight**: Higher values = better risk-adjusted returns\n\n---\n**Total**: 7 feature types × 15 coins = **105 features** that comprehensively describe crypto market behavior across different timeframes and market aspects.",
   "id": "68f18f2cff311e3"
  },
  {
   "metadata": {
    "ExecuteTime": {
     "end_time": "2025-06-04T15:35:51.262169Z",
     "start_time": "2025-06-04T15:35:46.095941Z"
    }
   },
   "cell_type": "code",
   "source": "# Load the engineered features\nfeatures = pd.read_csv(\"../data/crypto_features.csv\", index_col=0, parse_dates=True)\n\n# Normalize (Z-score standardization)\nscaler = StandardScaler()\nfeatures_normalized = pd.DataFrame(\n    scaler.fit_transform(features),\n    index=features.index,\n    columns=features.columns\n)\n\n# Save the normalized version\nfeatures_normalized.to_csv(\"../data/crypto_features_normalized.csv\")\nprint(\"✅ Normalized features saved to '../data/crypto_features_normalized.csv'.\")",
   "id": "e6b785aca5d93ba7",
   "outputs": [],
   "execution_count": null
  },
  {
   "cell_type": "markdown",
   "id": "8bvjyx7jz33",
   "source": "## 📏 Feature Normalization\n\n**Why normalize?**\n- Features have different scales (RSI: 0-100, log returns: -0.1 to 0.1, etc.)\n- PCA is sensitive to scale differences - features with larger ranges dominate\n- StandardScaler ensures each feature has mean=0, std=1\n\n**Method**: Z-score standardization\n- `(value - mean) / standard_deviation`\n- Preserves relationships while equalizing scales\n- Critical for meaningful PCA analysis",
   "metadata": {}
  },
  {
   "metadata": {},
   "cell_type": "markdown",
   "source": [
    "### ⚙️ Rolling Feature Parameters\n",
    "\n",
    "The window sizes for feature calculations are chosen to balance:\n",
    "- **Short-term sensitivity** (7–14 day windows for momentum/volatility).\n",
    "- **Medium-term regime detection** (30-day cumulative returns).### 📌 Output Summary\n",
    "\n",
    "The final dataset includes:\n",
    "- **Date** and **Coin name**\n",
    "- All computed features aligned per asset-date\n",
    "- Ready for normalization and dimensionality reduction (PCA) in the next step"
   ],
   "id": "89e000e9e10705e3"
  },
  {
   "metadata": {},
   "cell_type": "markdown",
   "source": "",
   "id": "dbc009f1386dbacb"
  }
 ],
 "metadata": {
  "kernelspec": {
   "display_name": "Python 3",
   "language": "python",
   "name": "python3"
  },
  "language_info": {
   "codemirror_mode": {
    "name": "ipython",
    "version": 2
   },
   "file_extension": ".py",
   "mimetype": "text/x-python",
   "name": "python",
   "nbconvert_exporter": "python",
   "pygments_lexer": "ipython2",
   "version": "2.7.6"
  }
 },
 "nbformat": 4,
 "nbformat_minor": 5
}