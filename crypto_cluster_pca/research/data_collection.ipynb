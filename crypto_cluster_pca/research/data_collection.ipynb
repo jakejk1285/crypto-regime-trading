{
 "cells": [
  {
   "metadata": {},
   "cell_type": "markdown",
   "source": [
    "# 📊 01 - Data Collection\n",
    "\n",
    "This notebook is the first step in our crypto regime classification and trading strategy project. Here, we focus on gathering the data needed to perform PCA, clustering, and downstream trading analysis.\n",
    "\n",
    "---\n",
    "\n",
    "### 📥 1. Load and Inspect Raw Price Data\n",
    "\n",
    "We begin by loading daily closing price data for various cryptocurrencies. These prices will serve as the foundation for return and feature calculations.\n",
    "\n",
    "- Source: `crypto_prices.csv`\n",
    "- Content: Historical daily closing prices\n",
    "- Format: Coins in columns, dates in rows\n",
    "\n",
    "```python\n",
    "# Load price data\n",
    "price_df = pd.read_csv(\"crypto_prices.csv\", parse_dates=['timestamp'])\n",
    "price_df.set_index('timestamp', inplace=True)\n",
    "price_df.head()"
   ],
   "id": "700ba9537c752f4d"
  },
  {
   "metadata": {
    "ExecuteTime": {
     "end_time": "2025-06-04T15:08:57.811293Z",
     "start_time": "2025-06-04T15:08:57.807585Z"
    }
   },
   "cell_type": "code",
   "source": [
    "import requests\n",
    "import pandas as pd\n",
    "import os\n",
    "from dotenv import load_dotenv\n",
    "\n",
    "# Load API key from .env\n",
    "load_dotenv()\n",
    "api_key = os.getenv(\"COINGECKO_DEMO_KEY\")\n",
    "\n",
    "def fetch_daily_prices_demo(coin_id, api_key, vs_currency=\"usd\", days=\"365\"):\n",
    "    url = f\"https://api.coingecko.com/api/v3/coins/{coin_id}/market_chart\"\n",
    "    \n",
    "    headers = {\n",
    "        \"x-cg-demo-api-key\": api_key  # DEMO key header\n",
    "    }\n",
    "    \n",
    "    params = {\n",
    "        \"vs_currency\": vs_currency,\n",
    "        \"days\": days,\n",
    "        \"interval\": \"daily\"\n",
    "    }\n",
    "\n",
    "    response = requests.get(url, headers=headers, params=params)\n",
    "    if response.status_code != 200:\n",
    "        raise Exception(f\"Error {response.status_code}: {response.text}\")\n",
    "    \n",
    "    data = response.json()\n",
    "    prices = data.get(\"prices\", [])\n",
    "    \n",
    "    df = pd.DataFrame(prices, columns=[\"timestamp\", coin_id])\n",
    "    df[\"timestamp\"] = pd.to_datetime(df[\"timestamp\"], unit=\"ms\")\n",
    "    df.set_index(\"timestamp\", inplace=True)\n",
    "    return df"
   ],
   "id": "ae55e5ef6ae94a83",
   "outputs": [],
   "execution_count": 35
  },
  {
   "metadata": {
    "ExecuteTime": {
     "end_time": "2025-06-04T15:20:06.607786Z",
     "start_time": "2025-06-04T15:16:34.416766Z"
    }
   },
   "cell_type": "code",
   "source": [
    "import time\n",
    "\n",
    "coins = [\n",
    "    'bitcoin',        # BTC\n",
    "    'ethereum',       # ETH\n",
    "    'tether',         # USDT\n",
    "    'ripple',         # XRP\n",
    "    'binancecoin',    # BNB\n",
    "    'usd-coin',       # USDC\n",
    "    'solana',         # SOL\n",
    "    'cardano',        # ADA\n",
    "    'dogecoin',       # DOGE\n",
    "    'avalanche-2',    # AVAX\n",
    "    'polkadot',       # DOT\n",
    "    'tron',           # TRX\n",
    "    'matic-network',  # MATIC (Polygon)\n",
    "    'litecoin',       # LTC\n",
    "    'shiba-inu'       # SHIB\n",
    "]\n",
    "\n",
    "all_data = []\n",
    "\n",
    "for coin in coins:\n",
    "    success = False\n",
    "    attempts = 0\n",
    "    while not success and attempts < 5:\n",
    "        try:\n",
    "            df = fetch_daily_prices_demo(coin, api_key)\n",
    "            all_data.append(df)\n",
    "            print(f\"✅ Fetched data for {coin}\")\n",
    "            time.sleep(6)  # Wait to stay under rate limits\n",
    "            success = True\n",
    "        except Exception as e:\n",
    "            attempts += 1\n",
    "            print(f\"⚠️ Error fetching {coin} (attempt {attempts}): {e}\")\n",
    "            time.sleep(10 * attempts)  # Wait longer with each retry\n",
    "\n",
    "# Combine and save if successful\n",
    "if all_data:\n",
    "    price_df = pd.concat(all_data, axis=1)\n",
    "    price_df.to_csv(\"crypto_prices.csv\")\n",
    "    print(\"📁 Saved: crypto_prices.csv\")\n",
    "else:\n",
    "    print(\"❌ No data collected.\")"
   ],
   "id": "353568dcc5ecc2d5",
   "outputs": [
    {
     "name": "stdout",
     "output_type": "stream",
     "text": [
      "✅ Fetched data for bitcoin\n",
      "✅ Fetched data for ethereum\n",
      "✅ Fetched data for tether\n",
      "✅ Fetched data for ripple\n",
      "✅ Fetched data for binancecoin\n",
      "✅ Fetched data for usd-coin\n",
      "⚠️ Error fetching solana (attempt 1): Error 429: {\"status\":{\"error_code\":429,\"error_message\":\"You've exceeded the Rate Limit. Please visit https://www.coingecko.com/en/api/pricing to subscribe to our API plans for higher rate limits.\"}}\n",
      "⚠️ Error fetching solana (attempt 2): Error 429: {\"status\":{\"error_code\":429,\"error_message\":\"You've exceeded the Rate Limit. Please visit https://www.coingecko.com/en/api/pricing to subscribe to our API plans for higher rate limits.\"}}\n",
      "⚠️ Error fetching solana (attempt 3): Error 429: {\"status\":{\"error_code\":429,\"error_message\":\"You've exceeded the Rate Limit. Please visit https://www.coingecko.com/en/api/pricing to subscribe to our API plans for higher rate limits.\"}}\n",
      "✅ Fetched data for solana\n",
      "✅ Fetched data for cardano\n",
      "✅ Fetched data for dogecoin\n",
      "✅ Fetched data for avalanche-2\n",
      "✅ Fetched data for polkadot\n",
      "⚠️ Error fetching tron (attempt 1): Error 429: {\"status\":{\"error_code\":429,\"error_message\":\"You've exceeded the Rate Limit. Please visit https://www.coingecko.com/en/api/pricing to subscribe to our API plans for higher rate limits.\"}}\n",
      "⚠️ Error fetching tron (attempt 2): Error 429: {\"status\":{\"error_code\":429,\"error_message\":\"You've exceeded the Rate Limit. Please visit https://www.coingecko.com/en/api/pricing to subscribe to our API plans for higher rate limits.\"}}\n",
      "⚠️ Error fetching tron (attempt 3): Error 429: {\"status\":{\"error_code\":429,\"error_message\":\"You've exceeded the Rate Limit. Please visit https://www.coingecko.com/en/api/pricing to subscribe to our API plans for higher rate limits.\"}}\n",
      "✅ Fetched data for tron\n",
      "✅ Fetched data for matic-network\n",
      "✅ Fetched data for litecoin\n",
      "✅ Fetched data for shiba-inu\n",
      "📁 Saved: crypto_prices.csv\n"
     ]
    }
   ],
   "execution_count": 38
  },
  {
   "metadata": {
    "ExecuteTime": {
     "end_time": "2025-06-04T15:20:52.154085Z",
     "start_time": "2025-06-04T15:20:52.145392Z"
    }
   },
   "cell_type": "code",
   "source": [
    "# Load and display the collected data\n",
    "price_df = pd.read_csv(\"crypto_prices.csv\", index_col=\"timestamp\", parse_dates=True)\n",
    "print(price_df.head())"
   ],
   "id": "fb782c902d7f1c1b",
   "outputs": [
    {
     "name": "stdout",
     "output_type": "stream",
     "text": [
      "                 bitcoin     ethereum    tether    ripple  binancecoin  \\\n",
      "timestamp                                                                \n",
      "2024-06-05  70600.011167  3814.932030  1.000157  0.525878   686.510668   \n",
      "2024-06-06  71184.599431  3871.082091  1.000756  0.526266   699.924112   \n",
      "2024-06-07  70759.588193  3812.701857  0.999556  0.521673   710.043483   \n",
      "2024-06-08  69325.362388  3679.376652  0.999594  0.498861   683.338328   \n",
      "2024-06-09  69315.104123  3683.025380  0.999938  0.493173   682.782750   \n",
      "\n",
      "            usd-coin      solana   cardano  dogecoin  avalanche-2  polkadot  \\\n",
      "timestamp                                                                     \n",
      "2024-06-05  1.000233  171.728129  0.461416  0.161543    36.091757  7.191048   \n",
      "2024-06-06  1.000322  173.769571  0.461678  0.163508    36.535981  7.254035   \n",
      "2024-06-07  0.999933  170.372720  0.458149  0.160168    35.926170  7.141668   \n",
      "2024-06-08  0.999985  162.453205  0.449497  0.148307    33.509910  6.658967   \n",
      "2024-06-09  1.000012  158.180751  0.436711  0.146109    32.300384  6.387608   \n",
      "\n",
      "                tron  matic-network   litecoin  shiba-inu  \n",
      "timestamp                                                  \n",
      "2024-06-05  0.114491       0.715489  83.633692   0.000025  \n",
      "2024-06-06  0.114695       0.725447  85.476630   0.000026  \n",
      "2024-06-07  0.114711       0.725625  84.200672   0.000025  \n",
      "2024-06-08  0.112704       0.666962  80.103183   0.000024  \n",
      "2024-06-09  0.114753       0.650091  80.005750   0.000023  \n"
     ]
    }
   ],
   "execution_count": 39
  }
 ],
 "metadata": {
  "kernelspec": {
   "display_name": "Python 3",
   "language": "python",
   "name": "python3"
  },
  "language_info": {
   "codemirror_mode": {
    "name": "ipython",
    "version": 2
   },
   "file_extension": ".py",
   "mimetype": "text/x-python",
   "name": "python",
   "nbconvert_exporter": "python",
   "pygments_lexer": "ipython2",
   "version": "2.7.6"
  }
 },
 "nbformat": 4,
 "nbformat_minor": 5
}
