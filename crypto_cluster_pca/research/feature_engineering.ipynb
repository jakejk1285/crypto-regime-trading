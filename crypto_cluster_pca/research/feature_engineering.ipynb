{
 "cells": [
  {
   "metadata": {},
   "cell_type": "markdown",
   "source": [
    "### 📁 Feature Engineering\n",
    "\n",
    "This notebook focuses on extracting relevant features from the raw daily cryptocurrency prices. These engineered features are crucial inputs for PCA, clustering, and later trading regime analysis."
   ],
   "id": "3129d7ac5510f451"
  },
  {
   "cell_type": "code",
   "id": "initial_id",
   "metadata": {
    "collapsed": true,
    "ExecuteTime": {
     "end_time": "2025-06-04T15:34:45.262658Z",
     "start_time": "2025-06-04T15:34:45.217703Z"
    }
   },
   "source": [
    "import pandas as pd\n",
    "import numpy as np\n",
    "\n",
    "# Load the daily price data\n",
    "df = pd.read_csv(\"crypto_prices.csv\", index_col=0, parse_dates=True)\n",
    "\n",
    "# Ensure columns are sorted alphabetically for consistency\n",
    "df = df.sort_index(axis=1)\n",
    "\n",
    "# === CORE FEATURES ===\n",
    "\n",
    "# Log returns\n",
    "log_returns = np.log(df / df.shift(1)).add_suffix(\"_log_return\")\n",
    "\n",
    "# 30-day volatility (standard deviation of log returns)\n",
    "volatility = log_returns.rolling(window=30).std().add_suffix(\"_30d_vol\")\n",
    "\n",
    "# 90-day momentum (% price change)\n",
    "momentum = df.pct_change(periods=90, fill_method=None).add_suffix(\"_90d_momentum\")\n",
    "\n",
    "# === TECHNICAL INDICATORS ===\n",
    "\n",
    "# RSI (14-day)\n",
    "def compute_rsi(series, window=14):\n",
    "    delta = series.diff()\n",
    "    gain = (delta.where(delta > 0, 0)).rolling(window).mean()\n",
    "    loss = (-delta.where(delta < 0, 0)).rolling(window).mean()\n",
    "    rs = gain / loss\n",
    "    return 100 - (100 / (1 + rs))\n",
    "\n",
    "rsi = pd.concat([compute_rsi(df[col]).rename(f\"{col}_rsi14\") for col in df.columns], axis=1)\n",
    "\n",
    "# %B Bollinger Band\n",
    "def compute_percent_b(series, window=20):\n",
    "    ma = series.rolling(window).mean()\n",
    "    std = series.rolling(window).std()\n",
    "    upper = ma + 2 * std\n",
    "    lower = ma - 2 * std\n",
    "    return ((series - lower) / (upper - lower)).rename(f\"{series.name}_pctB\")\n",
    "\n",
    "pct_b = pd.concat([compute_percent_b(df[col]) for col in df.columns], axis=1)\n",
    "\n",
    "# MACD Histogram\n",
    "def compute_macd_hist(series, fast=12, slow=26, signal=9):\n",
    "    ema_fast = series.ewm(span=fast).mean()\n",
    "    ema_slow = series.ewm(span=slow).mean()\n",
    "    macd = ema_fast - ema_slow\n",
    "    signal_line = macd.ewm(span=signal).mean()\n",
    "    return (macd - signal_line).rename(f\"{series.name}_macd_hist\")\n",
    "\n",
    "macd_hist = pd.concat([compute_macd_hist(df[col]) for col in df.columns], axis=1)\n",
    "\n",
    "# Rolling Sharpe Ratio (30-day)\n",
    "rolling_sharpe = (\n",
    "    log_returns.rolling(30).mean() / log_returns.rolling(30).std()\n",
    ").add_suffix(\"_sharpe30\")\n",
    "\n",
    "# === COMBINE ALL FEATURES ===\n",
    "features = pd.concat([log_returns, volatility, momentum, rsi, pct_b, macd_hist, rolling_sharpe], axis=1)\n",
    "features = features.dropna()\n",
    "\n",
    "# Save to CSV\n",
    "features.to_csv(\"crypto_features.csv\")\n",
    "print(\"✅ Feature engineering complete. Saved to 'crypto_features.csv'.\")"
   ],
   "outputs": [
    {
     "name": "stdout",
     "output_type": "stream",
     "text": [
      "✅ Feature engineering complete. Saved to 'crypto_features.csv'.\n"
     ]
    }
   ],
   "execution_count": 2
  },
  {
   "metadata": {},
   "cell_type": "markdown",
   "source": [
    "### 📊 Feature List\n",
    "\n",
    "We calculate several rolling-window features that help capture **momentum**, **volatility**, and **trend dynamics**:\n",
    "\n",
    "- **Daily Return**: Percentage change between close prices.\n",
    "- **Rolling Mean Return (7-day)**: Smooths return signals to reduce noise.\n",
    "- **Rolling Volatility (7-day)**: Standard deviation of returns, capturing short-term risk.\n",
    "- **Rolling Momentum (14-day)**: Measures price acceleration to identify short- to mid-term trends.\n",
    "- **Rolling Maximum Drawdown (14-day)**: Captures downside risk over the lookback window.\n",
    "- **Bollinger Band Position**: Relative position within the Bollinger Bands.\n",
    "- **Z-score of Returns (7-day)**: Standardized return to identify unusual movements.\n",
    "- **Cumulative Return (30-day)**: Measures long-term performance trends.\n",
    "- **MACD Signal Diff**: Captures crossover signal between trend-following EMAs.\n",
    "- **RSI (Relative Strength Index)**: Indicates overbought or oversold conditions."
   ],
   "id": "68f18f2cff311e3"
  },
  {
   "metadata": {
    "ExecuteTime": {
     "end_time": "2025-06-04T15:35:51.262169Z",
     "start_time": "2025-06-04T15:35:46.095941Z"
    }
   },
   "cell_type": "code",
   "source": [
    "from sklearn.preprocessing import StandardScaler\n",
    "\n",
    "# Load the engineered features\n",
    "features = pd.read_csv(\"crypto_features.csv\", index_col=0, parse_dates=True)\n",
    "\n",
    "# Normalize (Z-score standardization)\n",
    "scaler = StandardScaler()\n",
    "features_normalized = pd.DataFrame(\n",
    "    scaler.fit_transform(features),\n",
    "    index=features.index,\n",
    "    columns=features.columns\n",
    ")\n",
    "\n",
    "# Save the normalized version\n",
    "features_normalized.to_csv(\"crypto_features_normalized.csv\")\n",
    "print(\"✅ Normalized features saved to 'crypto_features_normalized.csv'.\")"
   ],
   "id": "e6b785aca5d93ba7",
   "outputs": [
    {
     "name": "stdout",
     "output_type": "stream",
     "text": [
      "✅ Normalized features saved to 'crypto_features_normalized.csv'.\n"
     ]
    }
   ],
   "execution_count": 5
  },
  {
   "metadata": {},
   "cell_type": "markdown",
   "source": [
    "### ⚙️ Rolling Feature Parameters\n",
    "\n",
    "The window sizes for feature calculations are chosen to balance:\n",
    "- **Short-term sensitivity** (7–14 day windows for momentum/volatility).\n",
    "- **Medium-term regime detection** (30-day cumulative returns).### 📌 Output Summary\n",
    "\n",
    "The final dataset includes:\n",
    "- **Date** and **Coin name**\n",
    "- All computed features aligned per asset-date\n",
    "- Ready for normalization and dimensionality reduction (PCA) in the next step"
   ],
   "id": "89e000e9e10705e3"
  },
  {
   "metadata": {},
   "cell_type": "markdown",
   "source": "",
   "id": "dbc009f1386dbacb"
  }
 ],
 "metadata": {
  "kernelspec": {
   "display_name": "Python 3",
   "language": "python",
   "name": "python3"
  },
  "language_info": {
   "codemirror_mode": {
    "name": "ipython",
    "version": 2
   },
   "file_extension": ".py",
   "mimetype": "text/x-python",
   "name": "python",
   "nbconvert_exporter": "python",
   "pygments_lexer": "ipython2",
   "version": "2.7.6"
  }
 },
 "nbformat": 4,
 "nbformat_minor": 5
}
